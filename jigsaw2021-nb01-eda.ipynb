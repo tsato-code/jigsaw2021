{
 "cells": [
  {
   "cell_type": "markdown",
   "id": "bdd3ff5b",
   "metadata": {
    "papermill": {
     "duration": 0.037725,
     "end_time": "2021-11-25T15:34:52.114090",
     "exception": false,
     "start_time": "2021-11-25T15:34:52.076365",
     "status": "completed"
    },
    "tags": []
   },
   "source": [
    "# Overview\n",
    "- Kaggle の jigsaw-toxic-severity-rating コンペ。\n",
    "- EDA\n",
    "    - Dataset overview\n",
    "- data cleaning\n",
    "- learning strategy\n",
    "    - binary classification\n",
    "- CV strategy\n",
    "\n",
    "TODO\n",
    "- cleaning\n",
    "    - NLTK, Spacy, Keras, torchtext を使う方法があるらしい。。\n",
    "- feature extraction:\n",
    "    - BoW\n",
    "    - TF-IDF\n",
    "    - N-gram\n",
    "    - sentiment and intent analysis\n",
    "- training:\n",
    "    - naive bayes\n",
    "    - logistic regression\n",
    "    - sgd classifier\n",
    "    - random forest\n",
    "\n",
    "### References\n",
    "- [Jiggsaw Toxic Comments EDA & Twitch Stream | Kaggle](https://www.kaggle.com/robikscube/jiggsaw-toxic-comments-eda-twitch-stream)\n",
    "- data cleaning and kfold [Fold is Gold 🌟 [ cleaned data ] | Kaggle](https://www.kaggle.com/kishalmandal/fold-is-gold-cleaned-data)\n",
    "- data cleaning and vectorize(TF-IDF, word2vec, BERT) [Text Classification with NLP: Tf-Idf vs Word2Vec vs BERT | toward data science](https://towardsdatascience.com/text-classification-with-nlp-tf-idf-vs-word2vec-vs-bert-41ff868d1794)\n",
    "- [Jigsaw CV strategy | Kaggle](https://www.kaggle.com/its7171/jigsaw-cv-strategy)\n",
    "- [MaxDiffのスコア計算ロジックを教えて下さい。 | Marketing Technology](https://m-te.com/maxdiff-score-logic-200625/)"
   ]
  },
  {
   "cell_type": "markdown",
   "id": "4f58a6c6",
   "metadata": {
    "papermill": {
     "duration": 0.033618,
     "end_time": "2021-11-25T15:34:52.182232",
     "exception": false,
     "start_time": "2021-11-25T15:34:52.148614",
     "status": "completed"
    },
    "tags": []
   },
   "source": [
    "## Directories"
   ]
  },
  {
   "cell_type": "code",
   "execution_count": 1,
   "id": "32f0c0c0",
   "metadata": {
    "_cell_guid": "b1076dfc-b9ad-4769-8c92-a6c4dae69d19",
    "_uuid": "8f2839f25d086af736a60e9eeb907d3b93b6e0e5",
    "execution": {
     "iopub.execute_input": "2021-11-25T15:34:52.254813Z",
     "iopub.status.busy": "2021-11-25T15:34:52.253623Z",
     "iopub.status.idle": "2021-11-25T15:34:52.269081Z",
     "shell.execute_reply": "2021-11-25T15:34:52.269691Z",
     "shell.execute_reply.started": "2021-11-25T14:21:26.842689Z"
    },
    "papermill": {
     "duration": 0.053696,
     "end_time": "2021-11-25T15:34:52.269993",
     "exception": false,
     "start_time": "2021-11-25T15:34:52.216297",
     "status": "completed"
    },
    "tags": []
   },
   "outputs": [
    {
     "name": "stdout",
     "output_type": "stream",
     "text": [
      "/kaggle/input/jigsaw-toxic-severity-rating/sample_submission.csv\n",
      "/kaggle/input/jigsaw-toxic-severity-rating/validation_data.csv\n",
      "/kaggle/input/jigsaw-toxic-severity-rating/comments_to_score.csv\n"
     ]
    }
   ],
   "source": [
    "import os\n",
    "for dirname, _, filenames in os.walk('/kaggle/input'):\n",
    "    for filename in filenames:\n",
    "        print(os.path.join(dirname, filename))"
   ]
  },
  {
   "cell_type": "markdown",
   "id": "abd263dc",
   "metadata": {
    "papermill": {
     "duration": 0.033704,
     "end_time": "2021-11-25T15:34:52.338506",
     "exception": false,
     "start_time": "2021-11-25T15:34:52.304802",
     "status": "completed"
    },
    "tags": []
   },
   "source": [
    "## Parameters"
   ]
  },
  {
   "cell_type": "code",
   "execution_count": 2,
   "id": "58a389a9",
   "metadata": {
    "execution": {
     "iopub.execute_input": "2021-11-25T15:34:52.413078Z",
     "iopub.status.busy": "2021-11-25T15:34:52.412396Z",
     "iopub.status.idle": "2021-11-25T15:34:52.414448Z",
     "shell.execute_reply": "2021-11-25T15:34:52.414939Z",
     "shell.execute_reply.started": "2021-11-25T14:21:26.873846Z"
    },
    "papermill": {
     "duration": 0.041635,
     "end_time": "2021-11-25T15:34:52.415166",
     "exception": false,
     "start_time": "2021-11-25T15:34:52.373531",
     "status": "completed"
    },
    "tags": []
   },
   "outputs": [],
   "source": [
    "DEBUG_FLAG = False\n",
    "VERSION = 'nb01'\n",
    "\n",
    "SUBMISSION_PATH = '/kaggle/input/jigsaw-toxic-severity-rating/sample_submission.csv'\n",
    "VALIDATION_DATA_PATH = '/kaggle/input/jigsaw-toxic-severity-rating/validation_data.csv'\n",
    "COMMENTS_SCORE_PATH = '/kaggle/input/jigsaw-toxic-severity-rating/comments_to_score.csv'"
   ]
  },
  {
   "cell_type": "markdown",
   "id": "9c804f1b",
   "metadata": {
    "papermill": {
     "duration": 0.035104,
     "end_time": "2021-11-25T15:34:52.485144",
     "exception": false,
     "start_time": "2021-11-25T15:34:52.450040",
     "status": "completed"
    },
    "tags": []
   },
   "source": [
    "## Installs & imports"
   ]
  },
  {
   "cell_type": "code",
   "execution_count": 3,
   "id": "bfca1817",
   "metadata": {
    "execution": {
     "iopub.execute_input": "2021-11-25T15:34:52.557601Z",
     "iopub.status.busy": "2021-11-25T15:34:52.556909Z",
     "iopub.status.idle": "2021-11-25T15:35:01.786233Z",
     "shell.execute_reply": "2021-11-25T15:35:01.785672Z",
     "shell.execute_reply.started": "2021-11-25T15:20:18.187618Z"
    },
    "papermill": {
     "duration": 9.26701,
     "end_time": "2021-11-25T15:35:01.786399",
     "exception": false,
     "start_time": "2021-11-25T15:34:52.519389",
     "status": "completed"
    },
    "tags": []
   },
   "outputs": [
    {
     "data": {
      "text/html": [
       "<style type='text/css'>\n",
       ".datatable table.frame { margin-bottom: 0; }\n",
       ".datatable table.frame thead { border-bottom: none; }\n",
       ".datatable table.frame tr.coltypes td {  color: #FFFFFF;  line-height: 6px;  padding: 0 0.5em;}\n",
       ".datatable .bool    { background: #DDDD99; }\n",
       ".datatable .object  { background: #565656; }\n",
       ".datatable .int     { background: #5D9E5D; }\n",
       ".datatable .float   { background: #4040CC; }\n",
       ".datatable .str     { background: #CC4040; }\n",
       ".datatable .time    { background: #40CC40; }\n",
       ".datatable .row_index {  background: var(--jp-border-color3);  border-right: 1px solid var(--jp-border-color0);  color: var(--jp-ui-font-color3);  font-size: 9px;}\n",
       ".datatable .frame tbody td { text-align: left; }\n",
       ".datatable .frame tr.coltypes .row_index {  background: var(--jp-border-color0);}\n",
       ".datatable th:nth-child(2) { padding-left: 12px; }\n",
       ".datatable .hellipsis {  color: var(--jp-cell-editor-border-color);}\n",
       ".datatable .vellipsis {  background: var(--jp-layout-color0);  color: var(--jp-cell-editor-border-color);}\n",
       ".datatable .na {  color: var(--jp-cell-editor-border-color);  font-size: 80%;}\n",
       ".datatable .sp {  opacity: 0.25;}\n",
       ".datatable .footer { font-size: 9px; }\n",
       ".datatable .frame_dimensions {  background: var(--jp-border-color3);  border-top: 1px solid var(--jp-border-color0);  color: var(--jp-ui-font-color3);  display: inline-block;  opacity: 0.6;  padding: 1px 10px 1px 5px;}\n",
       "</style>\n"
      ],
      "text/plain": [
       "<IPython.core.display.HTML object>"
      ]
     },
     "metadata": {},
     "output_type": "display_data"
    }
   ],
   "source": [
    "import datetime\n",
    "import json\n",
    "import pickle\n",
    "import random\n",
    "import re\n",
    "import sys\n",
    "import time\n",
    "\n",
    "import datatable as dt\n",
    "import gensim\n",
    "import gensim.downloader as gensim_api\n",
    "import lightgbm as lgb\n",
    "import matplotlib as mpl\n",
    "import matplotlib.pyplot as plt\n",
    "import nltk\n",
    "import numpy as np\n",
    "import optuna\n",
    "import pandas as pd\n",
    "import scipy.stats as ss\n",
    "import seaborn as sns\n",
    "import transformers\n",
    "\n",
    "\n",
    "from catboost import CatBoostClassifier\n",
    "from contextlib import contextmanager\n",
    "from lime import lime_text\n",
    "from logging import getLogger, Formatter, FileHandler, StreamHandler, INFO, DEBUG\n",
    "from matplotlib_venn import venn2\n",
    "# from optuna.integration import lightgbm as lgb\n",
    "from sklearn import feature_extraction, model_selection, naive_bayes, pipeline, manifold, preprocessing\n",
    "from sklearn.cluster import KMeans\n",
    "from sklearn.decomposition import PCA\n",
    "from sklearn.ensemble import RandomForestClassifier\n",
    "from sklearn.feature_extraction import text\n",
    "from sklearn.feature_extraction.text import CountVectorizer, TfidfVectorizer\n",
    "from sklearn.feature_selection import mutual_info_classif\n",
    "from sklearn.linear_model import LogisticRegression, SGDClassifier\n",
    "from sklearn.metrics import confusion_matrix, log_loss, roc_auc_score\n",
    "from sklearn.model_selection import train_test_split, StratifiedKFold\n",
    "from sklearn.naive_bayes import MultinomialNB\n",
    "from sklearn.neighbors import KNeighborsClassifier\n",
    "from sklearn.preprocessing import RobustScaler\n",
    "from sklearn.svm import SVC\n",
    "from tensorflow.keras import models, layers, preprocessing as kprocessing\n",
    "from tensorflow.keras import backend as K\n",
    "\n",
    "# settings\n",
    "pd.set_option('display.max_rows', 100)\n",
    "pd.set_option('display.max_columns', 100)\n",
    "\n",
    "# mpl.rcParams['figure.dpi'] = 200\n",
    "mpl.rcParams['axes.spines.top'] = False\n",
    "mpl.rcParams['axes.spines.right'] = False"
   ]
  },
  {
   "cell_type": "markdown",
   "id": "00f585b4",
   "metadata": {
    "papermill": {
     "duration": 0.034636,
     "end_time": "2021-11-25T15:35:01.856192",
     "exception": false,
     "start_time": "2021-11-25T15:35:01.821556",
     "status": "completed"
    },
    "tags": []
   },
   "source": [
    "## Functions"
   ]
  },
  {
   "cell_type": "code",
   "execution_count": 4,
   "id": "aa00a4ef",
   "metadata": {
    "execution": {
     "iopub.execute_input": "2021-11-25T15:35:01.930179Z",
     "iopub.status.busy": "2021-11-25T15:35:01.929491Z",
     "iopub.status.idle": "2021-11-25T15:35:01.968248Z",
     "shell.execute_reply": "2021-11-25T15:35:01.967622Z",
     "shell.execute_reply.started": "2021-11-25T14:21:31.186005Z"
    },
    "papermill": {
     "duration": 0.077542,
     "end_time": "2021-11-25T15:35:01.968389",
     "exception": false,
     "start_time": "2021-11-25T15:35:01.890847",
     "status": "completed"
    },
    "tags": []
   },
   "outputs": [],
   "source": [
    "def reduce_mem_usage(df):\n",
    "    \"\"\" iterate through all the columns of a dataframe and modify the data type\n",
    "        to reduce memory usage.        \n",
    "    \"\"\"\n",
    "    start_mem = df.memory_usage().sum() / 1024**2\n",
    "    print('Memory usage of dataframe is {:.2f} MB'.format(start_mem))\n",
    "\n",
    "    for col in df.columns:\n",
    "        col_type = df[col].dtype\n",
    "\n",
    "        if col_type != object:\n",
    "            c_min = df[col].min()\n",
    "            c_max = df[col].max()\n",
    "            if str(col_type)[:3] == 'int':\n",
    "                if c_min > np.iinfo(np.int8).min and c_max < np.iinfo(np.int8).max:\n",
    "                    df[col] = df[col].astype(np.int8)\n",
    "                elif c_min > np.iinfo(np.int16).min and c_max < np.iinfo(np.int16).max:\n",
    "                    df[col] = df[col].astype(np.int16)\n",
    "                elif c_min > np.iinfo(np.int32).min and c_max < np.iinfo(np.int32).max:\n",
    "                    df[col] = df[col].astype(np.int32)\n",
    "                elif c_min > np.iinfo(np.int64).min and c_max < np.iinfo(np.int64).max:\n",
    "                    df[col] = df[col].astype(np.int64)  \n",
    "            else:\n",
    "                if c_min > np.finfo(np.float16).min and c_max < np.finfo(np.float16).max:\n",
    "                    df[col] = df[col].astype(np.float16)\n",
    "                elif c_min > np.finfo(np.float32).min and c_max < np.finfo(np.float32).max:\n",
    "                    df[col] = df[col].astype(np.float32)\n",
    "                else:\n",
    "                    df[col] = df[col].astype(np.float64)\n",
    "        else:\n",
    "            df[col] = df[col].astype('category')\n",
    "\n",
    "    end_mem = df.memory_usage().sum() / 1024**2\n",
    "    print('Memory usage after optimization is: {:.2f} MB'.format(end_mem))\n",
    "    print('Decreased by {:.1f}%'.format(100 * (start_mem - end_mem) / start_mem))\n",
    "\n",
    "    return df\n",
    "\n",
    "\n",
    "def reduce_memory_usage(df, verbose=True):\n",
    "    numerics = [\"int8\", \"int16\", \"int32\", \"int64\", \"float16\", \"float32\", \"float64\"]\n",
    "    start_mem = df.memory_usage().sum() / 1024 ** 2\n",
    "    for col in df.columns:\n",
    "        col_type = df[col].dtypes\n",
    "        if col_type in numerics:\n",
    "            c_min = df[col].min()\n",
    "            c_max = df[col].max()\n",
    "            if str(col_type)[:3] == \"int\":\n",
    "                if c_min > np.iinfo(np.int8).min and c_max < np.iinfo(np.int8).max:\n",
    "                    df[col] = df[col].astype(np.int8)\n",
    "                elif c_min > np.iinfo(np.int16).min and c_max < np.iinfo(np.int16).max:\n",
    "                    df[col] = df[col].astype(np.int16)\n",
    "                elif c_min > np.iinfo(np.int32).min and c_max < np.iinfo(np.int32).max:\n",
    "                    df[col] = df[col].astype(np.int32)\n",
    "                elif c_min > np.iinfo(np.int64).min and c_max < np.iinfo(np.int64).max:\n",
    "                    df[col] = df[col].astype(np.int64)\n",
    "            else:\n",
    "                if (\n",
    "                    c_min > np.finfo(np.float16).min\n",
    "                    and c_max < np.finfo(np.float16).max\n",
    "                ):\n",
    "                    df[col] = df[col].astype(np.float16)\n",
    "                elif (\n",
    "                    c_min > np.finfo(np.float32).min\n",
    "                    and c_max < np.finfo(np.float32).max\n",
    "                ):\n",
    "                    df[col] = df[col].astype(np.float32)\n",
    "                else:\n",
    "                    df[col] = df[col].astype(np.float64)\n",
    "    end_mem = df.memory_usage().sum() / 1024 ** 2\n",
    "    if verbose:\n",
    "        print(\n",
    "            \"Mem. usage decreased to {:.2f} Mb ({:.1f}% reduction)\".format(\n",
    "                end_mem, 100 * (start_mem - end_mem) / start_mem\n",
    "            )\n",
    "        )\n",
    "    return df\n",
    "\n",
    "\n",
    "def create_logger(exp_version):\n",
    "    log_file = (f'{exp_version}.log')\n",
    "\n",
    "    logger_ = getLogger(exp_version)\n",
    "    logger_.setLevel(DEBUG)\n",
    "\n",
    "    # formatter\n",
    "    # fmr = Formatter('[%(levelname)s] %(asctime)s >>\\t%(message)s')\n",
    "    fmr = Formatter(\n",
    "        '%(asctime)s %(name)s %(lineno)d'\n",
    "        ' [%(levelname)s][%(funcName)s] %(message)s'\n",
    "    )\n",
    "\n",
    "    # file handler\n",
    "    fh = FileHandler(log_file)\n",
    "    fh.setLevel(DEBUG)\n",
    "    fh.setFormatter(fmr)\n",
    "\n",
    "    # stream handler\n",
    "    ch = StreamHandler()\n",
    "    ch.setLevel(INFO)\n",
    "    ch.setFormatter(fmr)\n",
    "\n",
    "    logger_.addHandler(fh)\n",
    "    logger_.addHandler(ch)\n",
    "\n",
    "\n",
    "def get_logger(exp_version):\n",
    "    return getLogger(exp_version)\n",
    "\n",
    "\n",
    "def get_args_of_func(f):\n",
    "    return f.__code__.co_varnames[:f.__code__.co_argcount]\n",
    "\n",
    "\n",
    "def show_mem_usage():\n",
    "    print(\"{}{: >25}{}{: >10}{}\".format('|','Variable Name','|','Memory','|'))\n",
    "    print(\" ------------------------------------ \")\n",
    "    for var_name in globals():\n",
    "        if not var_name.startswith(\"_\") and sys.getsizeof(eval(var_name)) > 1024**2:\n",
    "            print(\"{}{: >25}{}{: >6} MiB{}\".format('|',var_name,'|', int(sys.getsizeof(eval(var_name))/1024**2),'|'))\n",
    "\n",
    "\n",
    "def read_data():\n",
    "    valid_data = dt.fread(VALIDATION_DATA_PATH).to_pandas()\n",
    "    score_data = dt.fread(COMMENTS_SCORE_PATH).to_pandas()\n",
    "    submission = dt.fread(SUBMISSION_PATH).to_pandas()\n",
    "    return valid_data, score_data, submission\n",
    "\n",
    "\n",
    "def utils_preprocess_text(text, flg_stemm=False, flg_lemm=True, lst_stopwords=None):\n",
    "    # clean (convert to lowercase and remove punctuations and characters and then strip)\n",
    "    text = re.sub(r'[^\\w\\s]', '', str(text).lower().strip())\n",
    "    \n",
    "    # remove numbers\n",
    "    text = re.sub(r'[\\d]', '', text)\n",
    "            \n",
    "    # Tokenize (convert from string to list)\n",
    "    lst_text = text.split()\n",
    "    # remove Stopwords\n",
    "    if lst_stopwords is not None:\n",
    "        lst_text = [word for word in lst_text if word not in lst_stopwords]\n",
    "                \n",
    "    # Stemming (remove -ing, -ly, ...)\n",
    "    if flg_stemm == True:\n",
    "        ps = nltk.stem.porter.PorterStemmer()\n",
    "        lst_text = [ps.stem(word) for word in lst_text]\n",
    "                \n",
    "    # Lemmatisation (convert the word into root word)\n",
    "    if flg_lemm == True:\n",
    "        lem = nltk.stem.wordnet.WordNetLemmatizer()\n",
    "        lst_text = [lem.lemmatize(word) for word in lst_text]\n",
    "            \n",
    "    # back to string from list\n",
    "    text = ' '.join(lst_text)\n",
    "    return text"
   ]
  },
  {
   "cell_type": "markdown",
   "id": "d9c12c14",
   "metadata": {
    "papermill": {
     "duration": 0.035054,
     "end_time": "2021-11-25T15:35:02.039143",
     "exception": false,
     "start_time": "2021-11-25T15:35:02.004089",
     "status": "completed"
    },
    "tags": []
   },
   "source": [
    "## Preparing"
   ]
  },
  {
   "cell_type": "code",
   "execution_count": 5,
   "id": "23895b85",
   "metadata": {
    "execution": {
     "iopub.execute_input": "2021-11-25T15:35:02.114932Z",
     "iopub.status.busy": "2021-11-25T15:35:02.113919Z",
     "iopub.status.idle": "2021-11-25T15:35:02.118480Z",
     "shell.execute_reply": "2021-11-25T15:35:02.117936Z",
     "shell.execute_reply.started": "2021-11-25T14:21:31.491329Z"
    },
    "papermill": {
     "duration": 0.044426,
     "end_time": "2021-11-25T15:35:02.118634",
     "exception": false,
     "start_time": "2021-11-25T15:35:02.074208",
     "status": "completed"
    },
    "tags": []
   },
   "outputs": [],
   "source": [
    "create_logger(VERSION)"
   ]
  },
  {
   "cell_type": "markdown",
   "id": "23a750d8",
   "metadata": {
    "papermill": {
     "duration": 0.035067,
     "end_time": "2021-11-25T15:35:02.189504",
     "exception": false,
     "start_time": "2021-11-25T15:35:02.154437",
     "status": "completed"
    },
    "tags": []
   },
   "source": [
    "## Dataset overview"
   ]
  },
  {
   "cell_type": "code",
   "execution_count": 6,
   "id": "030f9b1e",
   "metadata": {
    "execution": {
     "iopub.execute_input": "2021-11-25T15:35:02.262843Z",
     "iopub.status.busy": "2021-11-25T15:35:02.262137Z",
     "iopub.status.idle": "2021-11-25T15:35:02.923644Z",
     "shell.execute_reply": "2021-11-25T15:35:02.924628Z",
     "shell.execute_reply.started": "2021-11-25T14:21:31.812460Z"
    },
    "papermill": {
     "duration": 0.700453,
     "end_time": "2021-11-25T15:35:02.924861",
     "exception": false,
     "start_time": "2021-11-25T15:35:02.224408",
     "status": "completed"
    },
    "tags": []
   },
   "outputs": [
    {
     "name": "stderr",
     "output_type": "stream",
     "text": [
      "2021-11-25 15:35:02,912 nb01 3 [INFO][<module>] validation data shape: (30108, 3)\n",
      "2021-11-25 15:35:02,914 nb01 4 [INFO][<module>] comments score shape: (7537, 2)\n",
      "2021-11-25 15:35:02,915 nb01 5 [INFO][<module>] submission sample shape: (7537, 2)\n"
     ]
    }
   ],
   "source": [
    "valid_data, comments_score, submission = read_data()\n",
    "\n",
    "get_logger(VERSION).info(f'validation data shape: {valid_data.shape}')\n",
    "get_logger(VERSION).info(f'comments score shape: {comments_score.shape}')\n",
    "get_logger(VERSION).info(f'submission sample shape: {submission.shape}')"
   ]
  },
  {
   "cell_type": "code",
   "execution_count": 7,
   "id": "8a60acc2",
   "metadata": {
    "execution": {
     "iopub.execute_input": "2021-11-25T15:35:03.011321Z",
     "iopub.status.busy": "2021-11-25T15:35:03.010326Z",
     "iopub.status.idle": "2021-11-25T15:35:03.033185Z",
     "shell.execute_reply": "2021-11-25T15:35:03.032570Z",
     "shell.execute_reply.started": "2021-11-25T14:21:32.406836Z"
    },
    "papermill": {
     "duration": 0.066425,
     "end_time": "2021-11-25T15:35:03.033335",
     "exception": false,
     "start_time": "2021-11-25T15:35:02.966910",
     "status": "completed"
    },
    "tags": []
   },
   "outputs": [
    {
     "data": {
      "text/html": [
       "<div>\n",
       "<style scoped>\n",
       "    .dataframe tbody tr th:only-of-type {\n",
       "        vertical-align: middle;\n",
       "    }\n",
       "\n",
       "    .dataframe tbody tr th {\n",
       "        vertical-align: top;\n",
       "    }\n",
       "\n",
       "    .dataframe thead th {\n",
       "        text-align: right;\n",
       "    }\n",
       "</style>\n",
       "<table border=\"1\" class=\"dataframe\">\n",
       "  <thead>\n",
       "    <tr style=\"text-align: right;\">\n",
       "      <th></th>\n",
       "      <th>worker</th>\n",
       "      <th>less_toxic</th>\n",
       "      <th>more_toxic</th>\n",
       "    </tr>\n",
       "  </thead>\n",
       "  <tbody>\n",
       "    <tr>\n",
       "      <th>0</th>\n",
       "      <td>313</td>\n",
       "      <td>This article sucks \\n\\nwoo woo wooooooo</td>\n",
       "      <td>WHAT!!!!!!!!?!?!!?!?!!?!?!?!?!!!!!!!!!!!!!!!!!...</td>\n",
       "    </tr>\n",
       "    <tr>\n",
       "      <th>1</th>\n",
       "      <td>188</td>\n",
       "      <td>\"And yes, people should recognize that but the...</td>\n",
       "      <td>Daphne Guinness \\n\\nTop of the mornin' my fav...</td>\n",
       "    </tr>\n",
       "    <tr>\n",
       "      <th>2</th>\n",
       "      <td>82</td>\n",
       "      <td>Western Media?\\n\\nYup, because every crime in...</td>\n",
       "      <td>\"Atom you don't believe actual photos of mastu...</td>\n",
       "    </tr>\n",
       "    <tr>\n",
       "      <th>3</th>\n",
       "      <td>347</td>\n",
       "      <td>And you removed it! You numbskull! I don't car...</td>\n",
       "      <td>You seem to have sand in your vagina.\\n\\nMight...</td>\n",
       "    </tr>\n",
       "    <tr>\n",
       "      <th>4</th>\n",
       "      <td>539</td>\n",
       "      <td>smelly vagina \\n\\nBluerasberry why don't you ...</td>\n",
       "      <td>hey \\n\\nway to support nazis, you racist</td>\n",
       "    </tr>\n",
       "  </tbody>\n",
       "</table>\n",
       "</div>"
      ],
      "text/plain": [
       "   worker                                         less_toxic  \\\n",
       "0     313            This article sucks \\n\\nwoo woo wooooooo   \n",
       "1     188  \"And yes, people should recognize that but the...   \n",
       "2      82   Western Media?\\n\\nYup, because every crime in...   \n",
       "3     347  And you removed it! You numbskull! I don't car...   \n",
       "4     539   smelly vagina \\n\\nBluerasberry why don't you ...   \n",
       "\n",
       "                                          more_toxic  \n",
       "0  WHAT!!!!!!!!?!?!!?!?!!?!?!?!?!!!!!!!!!!!!!!!!!...  \n",
       "1   Daphne Guinness \\n\\nTop of the mornin' my fav...  \n",
       "2  \"Atom you don't believe actual photos of mastu...  \n",
       "3  You seem to have sand in your vagina.\\n\\nMight...  \n",
       "4           hey \\n\\nway to support nazis, you racist  "
      ]
     },
     "metadata": {},
     "output_type": "display_data"
    },
    {
     "data": {
      "text/html": [
       "<div>\n",
       "<style scoped>\n",
       "    .dataframe tbody tr th:only-of-type {\n",
       "        vertical-align: middle;\n",
       "    }\n",
       "\n",
       "    .dataframe tbody tr th {\n",
       "        vertical-align: top;\n",
       "    }\n",
       "\n",
       "    .dataframe thead th {\n",
       "        text-align: right;\n",
       "    }\n",
       "</style>\n",
       "<table border=\"1\" class=\"dataframe\">\n",
       "  <thead>\n",
       "    <tr style=\"text-align: right;\">\n",
       "      <th></th>\n",
       "      <th>comment_id</th>\n",
       "      <th>text</th>\n",
       "    </tr>\n",
       "  </thead>\n",
       "  <tbody>\n",
       "    <tr>\n",
       "      <th>0</th>\n",
       "      <td>114890</td>\n",
       "      <td>\"\\n \\n\\nGjalexei, you asked about whether ther...</td>\n",
       "    </tr>\n",
       "    <tr>\n",
       "      <th>1</th>\n",
       "      <td>732895</td>\n",
       "      <td>Looks like be have an abuser , can you please ...</td>\n",
       "    </tr>\n",
       "    <tr>\n",
       "      <th>2</th>\n",
       "      <td>1139051</td>\n",
       "      <td>I confess to having complete (and apparently b...</td>\n",
       "    </tr>\n",
       "    <tr>\n",
       "      <th>3</th>\n",
       "      <td>1434512</td>\n",
       "      <td>\"\\n\\nFreud's ideas are certainly much discusse...</td>\n",
       "    </tr>\n",
       "    <tr>\n",
       "      <th>4</th>\n",
       "      <td>2084821</td>\n",
       "      <td>It is not just you. This is a laundry list of ...</td>\n",
       "    </tr>\n",
       "  </tbody>\n",
       "</table>\n",
       "</div>"
      ],
      "text/plain": [
       "   comment_id                                               text\n",
       "0      114890  \"\\n \\n\\nGjalexei, you asked about whether ther...\n",
       "1      732895  Looks like be have an abuser , can you please ...\n",
       "2     1139051  I confess to having complete (and apparently b...\n",
       "3     1434512  \"\\n\\nFreud's ideas are certainly much discusse...\n",
       "4     2084821  It is not just you. This is a laundry list of ..."
      ]
     },
     "metadata": {},
     "output_type": "display_data"
    },
    {
     "data": {
      "text/html": [
       "<div>\n",
       "<style scoped>\n",
       "    .dataframe tbody tr th:only-of-type {\n",
       "        vertical-align: middle;\n",
       "    }\n",
       "\n",
       "    .dataframe tbody tr th {\n",
       "        vertical-align: top;\n",
       "    }\n",
       "\n",
       "    .dataframe thead th {\n",
       "        text-align: right;\n",
       "    }\n",
       "</style>\n",
       "<table border=\"1\" class=\"dataframe\">\n",
       "  <thead>\n",
       "    <tr style=\"text-align: right;\">\n",
       "      <th></th>\n",
       "      <th>comment_id</th>\n",
       "      <th>score</th>\n",
       "    </tr>\n",
       "  </thead>\n",
       "  <tbody>\n",
       "    <tr>\n",
       "      <th>0</th>\n",
       "      <td>114890</td>\n",
       "      <td>0.5</td>\n",
       "    </tr>\n",
       "    <tr>\n",
       "      <th>1</th>\n",
       "      <td>732895</td>\n",
       "      <td>0.5</td>\n",
       "    </tr>\n",
       "    <tr>\n",
       "      <th>2</th>\n",
       "      <td>1139051</td>\n",
       "      <td>0.5</td>\n",
       "    </tr>\n",
       "    <tr>\n",
       "      <th>3</th>\n",
       "      <td>1434512</td>\n",
       "      <td>0.5</td>\n",
       "    </tr>\n",
       "    <tr>\n",
       "      <th>4</th>\n",
       "      <td>2084821</td>\n",
       "      <td>0.5</td>\n",
       "    </tr>\n",
       "  </tbody>\n",
       "</table>\n",
       "</div>"
      ],
      "text/plain": [
       "   comment_id  score\n",
       "0      114890    0.5\n",
       "1      732895    0.5\n",
       "2     1139051    0.5\n",
       "3     1434512    0.5\n",
       "4     2084821    0.5"
      ]
     },
     "metadata": {},
     "output_type": "display_data"
    }
   ],
   "source": [
    "display(valid_data.head())\n",
    "display(comments_score.head())\n",
    "display(submission.head())"
   ]
  },
  {
   "cell_type": "code",
   "execution_count": 8,
   "id": "0b52d985",
   "metadata": {
    "execution": {
     "iopub.execute_input": "2021-11-25T15:35:03.119308Z",
     "iopub.status.busy": "2021-11-25T15:35:03.118340Z",
     "iopub.status.idle": "2021-11-25T15:35:03.209590Z",
     "shell.execute_reply": "2021-11-25T15:35:03.208931Z",
     "shell.execute_reply.started": "2021-11-25T14:21:32.436094Z"
    },
    "papermill": {
     "duration": 0.138701,
     "end_time": "2021-11-25T15:35:03.209746",
     "exception": false,
     "start_time": "2021-11-25T15:35:03.071045",
     "status": "completed"
    },
    "tags": []
   },
   "outputs": [
    {
     "name": "stderr",
     "output_type": "stream",
     "text": [
      "2021-11-25 15:35:03,186 nb01 1 [INFO][<module>] number of unique text in validation data: 14250\n",
      "2021-11-25 15:35:03,200 nb01 2 [INFO][<module>] number of unique text in scoring data: 7536\n",
      "2021-11-25 15:35:03,203 nb01 3 [INFO][<module>] number of workers in validation data: 753\n"
     ]
    }
   ],
   "source": [
    "get_logger(VERSION).info(f\"number of unique text in validation data: {pd.concat([valid_data['less_toxic'], valid_data['more_toxic']]).nunique()}\")\n",
    "get_logger(VERSION).info(f\"number of unique text in scoring data: {comments_score['text'].nunique()}\")\n",
    "get_logger(VERSION).info(f\"number of workers in validation data: {valid_data['worker'].nunique()}\")"
   ]
  },
  {
   "cell_type": "code",
   "execution_count": 9,
   "id": "7fa4189c",
   "metadata": {
    "execution": {
     "iopub.execute_input": "2021-11-25T15:35:03.291491Z",
     "iopub.status.busy": "2021-11-25T15:35:03.290522Z",
     "iopub.status.idle": "2021-11-25T15:35:03.566141Z",
     "shell.execute_reply": "2021-11-25T15:35:03.567251Z",
     "shell.execute_reply.started": "2021-11-25T14:21:32.531929Z"
    },
    "papermill": {
     "duration": 0.318954,
     "end_time": "2021-11-25T15:35:03.567542",
     "exception": false,
     "start_time": "2021-11-25T15:35:03.248588",
     "status": "completed"
    },
    "tags": []
   },
   "outputs": [
    {
     "data": {
      "image/png": "[encoded data removed]",
      "text/plain": [
       "<Figure size 216x216 with 1 Axes>"
      ]
     },
     "metadata": {},
     "output_type": "display_data"
    }
   ],
   "source": [
    "# comparrable annotation のテキストと、テスト用データセット内のテキストの重複を確認\n",
    "valid_text = pd.DataFrame(pd.concat([valid_data['less_toxic'], valid_data['more_toxic']]).unique(), columns=['text'])\n",
    "\n",
    "plt.figure(figsize=(3,3))\n",
    "venn2(subsets=(set(valid_text['text'].unique()), \n",
    "               set(comments_score['text'].unique())),\n",
    "      set_labels=('Validation data', 'Scoring data'))\n",
    "plt.title('text')\n",
    "plt.tight_layout()\n",
    "plt.show()"
   ]
  },
  {
   "cell_type": "markdown",
   "id": "721b1ac1",
   "metadata": {
    "papermill": {
     "duration": 0.040321,
     "end_time": "2021-11-25T15:35:03.651802",
     "exception": false,
     "start_time": "2021-11-25T15:35:03.611481",
     "status": "completed"
    },
    "tags": []
   },
   "source": [
    "スコアリング対象となるテキストは、すべて学習データに含まれている。"
   ]
  },
  {
   "cell_type": "code",
   "execution_count": 10,
   "id": "a963d082",
   "metadata": {
    "execution": {
     "iopub.execute_input": "2021-11-25T15:35:03.737635Z",
     "iopub.status.busy": "2021-11-25T15:35:03.736820Z",
     "iopub.status.idle": "2021-11-25T15:35:03.785512Z",
     "shell.execute_reply": "2021-11-25T15:35:03.784830Z",
     "shell.execute_reply.started": "2021-11-25T14:21:32.805335Z"
    },
    "papermill": {
     "duration": 0.094263,
     "end_time": "2021-11-25T15:35:03.785665",
     "exception": false,
     "start_time": "2021-11-25T15:35:03.691402",
     "status": "completed"
    },
    "tags": []
   },
   "outputs": [
    {
     "data": {
      "text/html": [
       "<div>\n",
       "<style scoped>\n",
       "    .dataframe tbody tr th:only-of-type {\n",
       "        vertical-align: middle;\n",
       "    }\n",
       "\n",
       "    .dataframe tbody tr th {\n",
       "        vertical-align: top;\n",
       "    }\n",
       "\n",
       "    .dataframe thead th {\n",
       "        text-align: right;\n",
       "    }\n",
       "</style>\n",
       "<table border=\"1\" class=\"dataframe\">\n",
       "  <thead>\n",
       "    <tr style=\"text-align: right;\">\n",
       "      <th></th>\n",
       "      <th>less_toxic</th>\n",
       "    </tr>\n",
       "  </thead>\n",
       "  <tbody>\n",
       "    <tr>\n",
       "      <th>sorry i jumped to conclusions \\n\\non christian terrorism article man, I don't agree with you, and I want you to go and listen to 'prophet of doom' (now in audio format) as it is good. But I was wrong to be so rude. It is not the Southern European way.</th>\n",
       "      <td>26</td>\n",
       "    </tr>\n",
       "    <tr>\n",
       "      <th>How many sockpuppets do you have?</th>\n",
       "      <td>26</td>\n",
       "    </tr>\n",
       "    <tr>\n",
       "      <th>this irishtom guy is turning every article into an ad for islam</th>\n",
       "      <td>24</td>\n",
       "    </tr>\n",
       "    <tr>\n",
       "      <th>I erased your cuss word\\nFrom: some random person out there in the world</th>\n",
       "      <td>24</td>\n",
       "    </tr>\n",
       "    <tr>\n",
       "      <th>An addition comment of interest by Andrew Coyne National Post Dec 7th regarding Dion's dual citizenship-“Anyone who questions Stephan Dion’s patriotism is either a fool or a scoundrel.  After the service he has done this country, after the abuse he has suffered in its name, to cast even the slightest doubt on his loyalty to Canada shames those who would try.  There can be few Canadians who believe in their country more, or have done more to defend it.”  \\nThis tactic that the PC's are using regarding the citizenship issue is very much a copy of the Republic book.  If somewhere an article or sourced information could be found it could be of interest to add as a counterbalance.</th>\n",
       "      <td>24</td>\n",
       "    </tr>\n",
       "    <tr>\n",
       "      <th>...</th>\n",
       "      <td>...</td>\n",
       "    </tr>\n",
       "    <tr>\n",
       "      <th>\"\\n\\n ********************BABY EATERS????******************** \\n\\nAlright is it true that some of the band's songs translate into lyrics like \"\"I'm going to cut open your fetus, and eat your baby\"\" ? Or other horrific lyrics?\"</th>\n",
       "      <td>2</td>\n",
       "    </tr>\n",
       "    <tr>\n",
       "      <th>Screw them all. I'm out of here. IDcab and their new found attack dog jossi have won. Adios.</th>\n",
       "      <td>2</td>\n",
       "    </tr>\n",
       "    <tr>\n",
       "      <th>marathas are not rajputs \\n\\nMarathas are not rajputs. This article has lot of false information.  In fact marathas defeated rajputs many times. Rajputs made alliance with muslims\\nfor defeating muslim invaders.</th>\n",
       "      <td>2</td>\n",
       "    </tr>\n",
       "    <tr>\n",
       "      <th>Assalam-o-Alikum (Peace Be Upon You) \\n\\nI am back. But let me tell you, I was evenO.k while I was  blocked, because my conscience was still alive.\\n\\nAnyhow, against your kindness,  I wish  if we could  be friends.\\n\\nThanking youin anticipation,\\n\\nA M. Khan\\n</th>\n",
       "      <td>2</td>\n",
       "    </tr>\n",
       "    <tr>\n",
       "      <th>Perfect example gar, the Jacobite Church and the people from Tur Abdin are not aramean, they are Assyrian. You're an anti-semite. Nothing more than a common terrorist, who hates people and uses his religious position to destroy others.</th>\n",
       "      <td>2</td>\n",
       "    </tr>\n",
       "  </tbody>\n",
       "</table>\n",
       "<p>11531 rows × 1 columns</p>\n",
       "</div>"
      ],
      "text/plain": [
       "                                                    less_toxic\n",
       " sorry i jumped to conclusions \\n\\non christian...          26\n",
       "How many sockpuppets do you have?                           26\n",
       "this irishtom guy is turning every article into...          24\n",
       "I erased your cuss word\\nFrom: some random pers...          24\n",
       "An addition comment of interest by Andrew Coyne...          24\n",
       "...                                                        ...\n",
       "\"\\n\\n ********************BABY EATERS????******...           2\n",
       "Screw them all. I'm out of here. IDcab and thei...           2\n",
       " marathas are not rajputs \\n\\nMarathas are not ...           2\n",
       " Assalam-o-Alikum (Peace Be Upon You) \\n\\nI am ...           2\n",
       "Perfect example gar, the Jacobite Church and th...           2\n",
       "\n",
       "[11531 rows x 1 columns]"
      ]
     },
     "metadata": {},
     "output_type": "display_data"
    }
   ],
   "source": [
    "# comparable annotation 内に同一テキストが何回出現しているか\n",
    "n_text_appear = pd.concat([valid_data['less_toxic'], valid_data['less_toxic']]).value_counts().to_frame()\n",
    "display(n_text_appear)"
   ]
  },
  {
   "cell_type": "code",
   "execution_count": 11,
   "id": "515795ed",
   "metadata": {
    "execution": {
     "iopub.execute_input": "2021-11-25T15:35:03.886316Z",
     "iopub.status.busy": "2021-11-25T15:35:03.885572Z",
     "iopub.status.idle": "2021-11-25T15:35:04.111661Z",
     "shell.execute_reply": "2021-11-25T15:35:04.112225Z",
     "shell.execute_reply.started": "2021-11-25T14:21:32.845842Z"
    },
    "papermill": {
     "duration": 0.273162,
     "end_time": "2021-11-25T15:35:04.112410",
     "exception": false,
     "start_time": "2021-11-25T15:35:03.839248",
     "status": "completed"
    },
    "tags": []
   },
   "outputs": [
    {
     "data": {
      "image/png": "[encoded data removed]",
      "text/plain": [
       "<Figure size 432x288 with 1 Axes>"
      ]
     },
     "metadata": {
      "needs_background": "light"
     },
     "output_type": "display_data"
    }
   ],
   "source": [
    "# comparable annotation 内のテキストの出現回数をヒストグラムで確認\n",
    "plt.hist(n_text_appear, bins=n_text_appear['less_toxic'].max())\n",
    "plt.show()"
   ]
  },
  {
   "cell_type": "code",
   "execution_count": 12,
   "id": "346a708d",
   "metadata": {
    "execution": {
     "iopub.execute_input": "2021-11-25T15:35:04.197192Z",
     "iopub.status.busy": "2021-11-25T15:35:04.196476Z",
     "iopub.status.idle": "2021-11-25T15:35:04.205475Z",
     "shell.execute_reply": "2021-11-25T15:35:04.206056Z",
     "shell.execute_reply.started": "2021-11-25T14:21:33.060214Z"
    },
    "papermill": {
     "duration": 0.053065,
     "end_time": "2021-11-25T15:35:04.206264",
     "exception": false,
     "start_time": "2021-11-25T15:35:04.153199",
     "status": "completed"
    },
    "tags": []
   },
   "outputs": [
    {
     "name": "stdout",
     "output_type": "stream",
     "text": [
      "less_toxic\n",
      "4             3132\n",
      "2             3123\n",
      "6             3033\n",
      "8              827\n",
      "10             725\n",
      "12             421\n",
      "14             129\n",
      "16              67\n",
      "18              41\n",
      "20              16\n",
      "22              11\n",
      "24               4\n",
      "26               2\n",
      "dtype: int64\n"
     ]
    }
   ],
   "source": [
    "print(n_text_appear.value_counts())"
   ]
  },
  {
   "cell_type": "markdown",
   "id": "d385b9fa",
   "metadata": {
    "papermill": {
     "duration": 0.041396,
     "end_time": "2021-11-25T15:35:04.289310",
     "exception": false,
     "start_time": "2021-11-25T15:35:04.247914",
     "status": "completed"
    },
    "tags": []
   },
   "source": [
    "- テキストには、改行記号 \"\\n\" がそのまま入っているため、クリーニングが必要。\n",
    "- テキストが評価されるのは偶数回。\n",
    "- テキストが評価に使用された回数は、2, 4, 6回が多い。"
   ]
  },
  {
   "cell_type": "code",
   "execution_count": 13,
   "id": "1a6c7bf8",
   "metadata": {
    "execution": {
     "iopub.execute_input": "2021-11-25T15:35:04.379586Z",
     "iopub.status.busy": "2021-11-25T15:35:04.378882Z",
     "iopub.status.idle": "2021-11-25T15:35:05.235901Z",
     "shell.execute_reply": "2021-11-25T15:35:05.236438Z",
     "shell.execute_reply.started": "2021-11-25T14:21:33.445456Z"
    },
    "papermill": {
     "duration": 0.904551,
     "end_time": "2021-11-25T15:35:05.236612",
     "exception": false,
     "start_time": "2021-11-25T15:35:04.332061",
     "status": "completed"
    },
    "tags": []
   },
   "outputs": [
    {
     "name": "stdout",
     "output_type": "stream",
     "text": [
      "737    248\n",
      "461    240\n",
      "114    228\n",
      "728    221\n",
      "639    216\n",
      "Name: worker, dtype: int64\n"
     ]
    },
    {
     "data": {
      "image/png": "[encoded data removed]",
      "text/plain": [
       "<Figure size 1440x288 with 1 Axes>"
      ]
     },
     "metadata": {
      "needs_background": "light"
     },
     "output_type": "display_data"
    }
   ],
   "source": [
    "# worker が何回評価したかをヒストグラムにする\n",
    "n_valid_worker = valid_data['worker'].value_counts()\n",
    "print(n_valid_worker.head())\n",
    "\n",
    "plt.figure(figsize=(20, 4))\n",
    "plt.hist(n_valid_worker, bins=max(n_valid_worker))\n",
    "plt.show()"
   ]
  },
  {
   "cell_type": "markdown",
   "id": "d6ad68d6",
   "metadata": {
    "papermill": {
     "duration": 0.042038,
     "end_time": "2021-11-25T15:35:05.320641",
     "exception": false,
     "start_time": "2021-11-25T15:35:05.278603",
     "status": "completed"
    },
    "tags": []
   },
   "source": [
    "737番の worker がテキストを比較評価した回数が最も多く248回。  \n",
    "ついで461番の worker で240回。  "
   ]
  },
  {
   "cell_type": "code",
   "execution_count": 14,
   "id": "32f3be20",
   "metadata": {
    "execution": {
     "iopub.execute_input": "2021-11-25T15:35:05.408483Z",
     "iopub.status.busy": "2021-11-25T15:35:05.407845Z",
     "iopub.status.idle": "2021-11-25T15:35:05.415356Z",
     "shell.execute_reply": "2021-11-25T15:35:05.415845Z",
     "shell.execute_reply.started": "2021-11-25T14:21:34.237474Z"
    },
    "papermill": {
     "duration": 0.053114,
     "end_time": "2021-11-25T15:35:05.416039",
     "exception": false,
     "start_time": "2021-11-25T15:35:05.362925",
     "status": "completed"
    },
    "tags": []
   },
   "outputs": [
    {
     "name": "stdout",
     "output_type": "stream",
     "text": [
      "4      140\n",
      "8       71\n",
      "12      50\n",
      "20      41\n",
      "16      38\n",
      "28      31\n",
      "32      30\n",
      "24      24\n",
      "36      23\n",
      "44      22\n",
      "52      21\n",
      "40      18\n",
      "56      16\n",
      "48      15\n",
      "64      11\n",
      "76      11\n",
      "68      11\n",
      "112      9\n",
      "108      9\n",
      "1        9\n",
      "72       8\n",
      "84       7\n",
      "116      7\n",
      "60       7\n",
      "100      7\n",
      "92       6\n",
      "104      6\n",
      "96       6\n",
      "160      5\n",
      "140      5\n",
      "88       5\n",
      "128      5\n",
      "132      5\n",
      "156      5\n",
      "124      4\n",
      "80       4\n",
      "136      4\n",
      "120      4\n",
      "3        3\n",
      "5        3\n",
      "61       3\n",
      "2        2\n",
      "9        2\n",
      "23       2\n",
      "29       2\n",
      "164      2\n",
      "37       2\n",
      "41       2\n",
      "144      2\n",
      "152      2\n",
      "42       1\n",
      "17       1\n",
      "111      1\n",
      "94       1\n",
      "228      1\n",
      "78       1\n",
      "6        1\n",
      "7        1\n",
      "221      1\n",
      "240      1\n",
      "216      1\n",
      "15       1\n",
      "205      1\n",
      "187      1\n",
      "21       1\n",
      "180      1\n",
      "25       1\n",
      "176      1\n",
      "148      1\n",
      "30       1\n",
      "168      1\n",
      "34       1\n",
      "35       1\n",
      "149      1\n",
      "49       1\n",
      "248      1\n",
      "Name: worker, dtype: int64\n"
     ]
    }
   ],
   "source": [
    "print(n_valid_worker.value_counts())"
   ]
  },
  {
   "cell_type": "markdown",
   "id": "704d8432",
   "metadata": {
    "papermill": {
     "duration": 0.102456,
     "end_time": "2021-11-25T15:35:05.561094",
     "exception": false,
     "start_time": "2021-11-25T15:35:05.458638",
     "status": "completed"
    },
    "tags": []
   },
   "source": [
    "worker がテキストを比較評価した回数のヒストグラムをみると、4回評価した worker が最も多く140人。  \n",
    "ついで8回が多く71人。"
   ]
  },
  {
   "cell_type": "code",
   "execution_count": 15,
   "id": "fa760d05",
   "metadata": {
    "execution": {
     "iopub.execute_input": "2021-11-25T15:35:05.650376Z",
     "iopub.status.busy": "2021-11-25T15:35:05.649344Z",
     "iopub.status.idle": "2021-11-25T15:35:05.659555Z",
     "shell.execute_reply": "2021-11-25T15:35:05.660119Z",
     "shell.execute_reply.started": "2021-11-25T14:21:35.232106Z"
    },
    "papermill": {
     "duration": 0.056367,
     "end_time": "2021-11-25T15:35:05.660293",
     "exception": false,
     "start_time": "2021-11-25T15:35:05.603926",
     "status": "completed"
    },
    "tags": []
   },
   "outputs": [
    {
     "data": {
      "text/html": [
       "<div>\n",
       "<style scoped>\n",
       "    .dataframe tbody tr th:only-of-type {\n",
       "        vertical-align: middle;\n",
       "    }\n",
       "\n",
       "    .dataframe tbody tr th {\n",
       "        vertical-align: top;\n",
       "    }\n",
       "\n",
       "    .dataframe thead th {\n",
       "        text-align: right;\n",
       "    }\n",
       "</style>\n",
       "<table border=\"1\" class=\"dataframe\">\n",
       "  <thead>\n",
       "    <tr style=\"text-align: right;\">\n",
       "      <th></th>\n",
       "      <th>worker</th>\n",
       "      <th>less_toxic</th>\n",
       "      <th>more_toxic</th>\n",
       "    </tr>\n",
       "  </thead>\n",
       "  <tbody>\n",
       "    <tr>\n",
       "      <th>0</th>\n",
       "      <td>313</td>\n",
       "      <td>This article sucks \\n\\nwoo woo wooooooo</td>\n",
       "      <td>WHAT!!!!!!!!?!?!!?!?!!?!?!?!?!!!!!!!!!!!!!!!!!...</td>\n",
       "    </tr>\n",
       "    <tr>\n",
       "      <th>1</th>\n",
       "      <td>188</td>\n",
       "      <td>\"And yes, people should recognize that but the...</td>\n",
       "      <td>Daphne Guinness \\n\\nTop of the mornin' my fav...</td>\n",
       "    </tr>\n",
       "    <tr>\n",
       "      <th>2</th>\n",
       "      <td>82</td>\n",
       "      <td>Western Media?\\n\\nYup, because every crime in...</td>\n",
       "      <td>\"Atom you don't believe actual photos of mastu...</td>\n",
       "    </tr>\n",
       "    <tr>\n",
       "      <th>3</th>\n",
       "      <td>347</td>\n",
       "      <td>And you removed it! You numbskull! I don't car...</td>\n",
       "      <td>You seem to have sand in your vagina.\\n\\nMight...</td>\n",
       "    </tr>\n",
       "    <tr>\n",
       "      <th>4</th>\n",
       "      <td>539</td>\n",
       "      <td>smelly vagina \\n\\nBluerasberry why don't you ...</td>\n",
       "      <td>hey \\n\\nway to support nazis, you racist</td>\n",
       "    </tr>\n",
       "  </tbody>\n",
       "</table>\n",
       "</div>"
      ],
      "text/plain": [
       "   worker                                         less_toxic  \\\n",
       "0     313            This article sucks \\n\\nwoo woo wooooooo   \n",
       "1     188  \"And yes, people should recognize that but the...   \n",
       "2      82   Western Media?\\n\\nYup, because every crime in...   \n",
       "3     347  And you removed it! You numbskull! I don't car...   \n",
       "4     539   smelly vagina \\n\\nBluerasberry why don't you ...   \n",
       "\n",
       "                                          more_toxic  \n",
       "0  WHAT!!!!!!!!?!?!!?!?!!?!?!?!?!!!!!!!!!!!!!!!!!...  \n",
       "1   Daphne Guinness \\n\\nTop of the mornin' my fav...  \n",
       "2  \"Atom you don't believe actual photos of mastu...  \n",
       "3  You seem to have sand in your vagina.\\n\\nMight...  \n",
       "4           hey \\n\\nway to support nazis, you racist  "
      ]
     },
     "execution_count": 15,
     "metadata": {},
     "output_type": "execute_result"
    }
   ],
   "source": [
    "valid_data.head()"
   ]
  },
  {
   "cell_type": "code",
   "execution_count": 16,
   "id": "6bb6ff14",
   "metadata": {
    "execution": {
     "iopub.execute_input": "2021-11-25T15:35:05.750231Z",
     "iopub.status.busy": "2021-11-25T15:35:05.749266Z",
     "iopub.status.idle": "2021-11-25T15:35:09.925669Z",
     "shell.execute_reply": "2021-11-25T15:35:09.926220Z",
     "shell.execute_reply.started": "2021-11-25T14:21:35.415313Z"
    },
    "papermill": {
     "duration": 4.22296,
     "end_time": "2021-11-25T15:35:09.926397",
     "exception": false,
     "start_time": "2021-11-25T15:35:05.703437",
     "status": "completed"
    },
    "tags": []
   },
   "outputs": [
    {
     "data": {
      "text/html": [
       "<style type=\"text/css\">\n",
       "#T_fb32d_row0_col3, #T_fb32d_row4_col3 {\n",
       "  width: 10em;\n",
       "  height: 80%;\n",
       "}\n",
       "#T_fb32d_row1_col3, #T_fb32d_row5_col3, #T_fb32d_row7_col3 {\n",
       "  width: 10em;\n",
       "  height: 80%;\n",
       "  background: linear-gradient(90deg,#205ff2 100.0%, transparent 100.0%);\n",
       "}\n",
       "#T_fb32d_row2_col3, #T_fb32d_row9_col3 {\n",
       "  width: 10em;\n",
       "  height: 80%;\n",
       "  background: linear-gradient(90deg,#205ff2 33.3%, transparent 33.3%);\n",
       "}\n",
       "#T_fb32d_row3_col3, #T_fb32d_row6_col3, #T_fb32d_row8_col3 {\n",
       "  width: 10em;\n",
       "  height: 80%;\n",
       "  background: linear-gradient(90deg,#205ff2 66.7%, transparent 66.7%);\n",
       "}\n",
       "</style>\n",
       "<table id=\"T_fb32d_\">\n",
       "  <thead>\n",
       "    <tr>\n",
       "      <th class=\"blank level0\" >&nbsp;</th>\n",
       "      <th class=\"col_heading level0 col0\" colspan=\"3\">valid</th>\n",
       "      <th class=\"col_heading level0 col3\" >toxic_ratio</th>\n",
       "    </tr>\n",
       "    <tr>\n",
       "      <th class=\"blank level1\" >&nbsp;</th>\n",
       "      <th class=\"col_heading level1 col0\" >count</th>\n",
       "      <th class=\"col_heading level1 col1\" >more</th>\n",
       "      <th class=\"col_heading level1 col2\" >less</th>\n",
       "      <th class=\"col_heading level1 col3\" ></th>\n",
       "    </tr>\n",
       "    <tr>\n",
       "      <th class=\"index_name level0\" >text</th>\n",
       "      <th class=\"blank col0\" >&nbsp;</th>\n",
       "      <th class=\"blank col1\" >&nbsp;</th>\n",
       "      <th class=\"blank col2\" >&nbsp;</th>\n",
       "      <th class=\"blank col3\" >&nbsp;</th>\n",
       "    </tr>\n",
       "  </thead>\n",
       "  <tbody>\n",
       "    <tr>\n",
       "      <th id=\"T_fb32d_level0_row0\" class=\"row_heading level0 row0\" >I will not stop, who's wrong here is you, who is deleting information here is you, STOP.   </th>\n",
       "      <td id=\"T_fb32d_row0_col0\" class=\"data row0 col0\" >6</td>\n",
       "      <td id=\"T_fb32d_row0_col1\" class=\"data row0 col1\" >0</td>\n",
       "      <td id=\"T_fb32d_row0_col2\" class=\"data row0 col2\" >6</td>\n",
       "      <td id=\"T_fb32d_row0_col3\" class=\"data row0 col3\" >0.000000</td>\n",
       "    </tr>\n",
       "    <tr>\n",
       "      <th id=\"T_fb32d_level0_row1\" class=\"row_heading level0 row1\" > ASS \n",
       "\n",
       "You piece of fucking shit, your mother was a frisco dike. You fuck for dollars. Also your dad was a jiggalo.</th>\n",
       "      <td id=\"T_fb32d_row1_col0\" class=\"data row1 col0\" >3</td>\n",
       "      <td id=\"T_fb32d_row1_col1\" class=\"data row1 col1\" >3</td>\n",
       "      <td id=\"T_fb32d_row1_col2\" class=\"data row1 col2\" >0</td>\n",
       "      <td id=\"T_fb32d_row1_col3\" class=\"data row1 col3\" >1.000000</td>\n",
       "    </tr>\n",
       "    <tr>\n",
       "      <th id=\"T_fb32d_level0_row2\" class=\"row_heading level0 row2\" > please do not do that \n",
       "\n",
       "please don't take those pictures off my page becuz any body who does that will get cursed out and if you dont wont anybody doing that to your page dont do that to my page. </th>\n",
       "      <td id=\"T_fb32d_row2_col0\" class=\"data row2 col0\" >3</td>\n",
       "      <td id=\"T_fb32d_row2_col1\" class=\"data row2 col1\" >1</td>\n",
       "      <td id=\"T_fb32d_row2_col2\" class=\"data row2 col2\" >2</td>\n",
       "      <td id=\"T_fb32d_row2_col3\" class=\"data row2 col3\" >0.333333</td>\n",
       "    </tr>\n",
       "    <tr>\n",
       "      <th id=\"T_fb32d_level0_row3\" class=\"row_heading level0 row3\" >, P.S. I love it when balls are in my face</th>\n",
       "      <td id=\"T_fb32d_row3_col0\" class=\"data row3 col0\" >3</td>\n",
       "      <td id=\"T_fb32d_row3_col1\" class=\"data row3 col1\" >2</td>\n",
       "      <td id=\"T_fb32d_row3_col2\" class=\"data row3 col2\" >1</td>\n",
       "      <td id=\"T_fb32d_row3_col3\" class=\"data row3 col3\" >0.666667</td>\n",
       "    </tr>\n",
       "    <tr>\n",
       "      <th id=\"T_fb32d_level0_row4\" class=\"row_heading level0 row4\" >\"\n",
       "Do your own homework, rather than blocking someone and then tuning around and asking for their help. My god, do you know shit about real life ?   ☏ 00:15, 22 Jun 2012 (UTC)\"</th>\n",
       "      <td id=\"T_fb32d_row4_col0\" class=\"data row4 col0\" >3</td>\n",
       "      <td id=\"T_fb32d_row4_col1\" class=\"data row4 col1\" >0</td>\n",
       "      <td id=\"T_fb32d_row4_col2\" class=\"data row4 col2\" >3</td>\n",
       "      <td id=\"T_fb32d_row4_col3\" class=\"data row4 col3\" >0.000000</td>\n",
       "    </tr>\n",
       "    <tr>\n",
       "      <th id=\"T_fb32d_level0_row5\" class=\"row_heading level0 row5\" >\"\n",
       "\n",
       "No, Charles Edward, you're a troll. You're a troll because rjensen says so. This is wikipedia, and the first person to make a personal accusation wins WP:NAMECALLING. He calls me a troll. I've called him a troll, and he's called me a troll, so we're all trolls. And actually, invoking a status as a 'well-respected, featured content writer and reviewer' is beside the point. I could demonstrate a long posting history under different names and/or a personal career that would knock the socks off most any posters, but that is quite in the wikipedian ideal. Here the logic of your opinions is supposed to be the only thing that matters; this is wikipedia, where anyone can edit. All that being said....\n",
       "I actually am the only poster in months who has actually proffered a way out of this problem, (note also: I have been vehemently accused of being unconstructive but I'm the one offering suggestions). \"\"If it said, \"\"Use of the phrase 'Democrat Party' is an entirely normal vernacular usage in America, although it is a technically incorrect adjective formation. However, some insider commentators in Washington consider the use of the term \"\"Democrat Party\"\" as prejorative, since it removes a direct association to the adjective 'democratic'. This theory has no support in reality since the phrase has been in common usage since before the Civil War.\"\" -And that would be the sum total of the article, and you could add the cites to that. ... 129.133.127.244 (talk) \"\" -You may disagree with this particular formation, but the correct wikipedia solution is to simply state the ambiguous nature of the claim, (if at all) and leave it at that. That is how it should be solved. \n",
       "As it stands, this is a violation of NPOV, WP:PRIMARY, and WP:SYNTH among others.129.133.127.244  \"</th>\n",
       "      <td id=\"T_fb32d_row5_col0\" class=\"data row5 col0\" >3</td>\n",
       "      <td id=\"T_fb32d_row5_col1\" class=\"data row5 col1\" >3</td>\n",
       "      <td id=\"T_fb32d_row5_col2\" class=\"data row5 col2\" >0</td>\n",
       "      <td id=\"T_fb32d_row5_col3\" class=\"data row5 col3\" >1.000000</td>\n",
       "    </tr>\n",
       "    <tr>\n",
       "      <th id=\"T_fb32d_level0_row6\" class=\"row_heading level0 row6\" > Islam, Judeae, and Christianity \n",
       "\n",
       "Leviticus 11:9-12 and Deuteronomy 14:9-10 clearly state that eating shrimp is an abomination of God in Christian society, why isn't it mentioned in this article.  It mentions Jewish and Islamic prohibitions but not Christian prohibitions.</th>\n",
       "      <td id=\"T_fb32d_row6_col0\" class=\"data row6 col0\" >3</td>\n",
       "      <td id=\"T_fb32d_row6_col1\" class=\"data row6 col1\" >2</td>\n",
       "      <td id=\"T_fb32d_row6_col2\" class=\"data row6 col2\" >1</td>\n",
       "      <td id=\"T_fb32d_row6_col3\" class=\"data row6 col3\" >0.666667</td>\n",
       "    </tr>\n",
       "    <tr>\n",
       "      <th id=\"T_fb32d_level0_row7\" class=\"row_heading level0 row7\" > hi \n",
       "\n",
       "i want to assfack you   </th>\n",
       "      <td id=\"T_fb32d_row7_col0\" class=\"data row7 col0\" >3</td>\n",
       "      <td id=\"T_fb32d_row7_col1\" class=\"data row7 col1\" >3</td>\n",
       "      <td id=\"T_fb32d_row7_col2\" class=\"data row7 col2\" >0</td>\n",
       "      <td id=\"T_fb32d_row7_col3\" class=\"data row7 col3\" >1.000000</td>\n",
       "    </tr>\n",
       "    <tr>\n",
       "      <th id=\"T_fb32d_level0_row8\" class=\"row_heading level0 row8\" >\"to:Image:Flaccid and erect human penis.jpg\n",
       "\n",
       "400px\n",
       "\n",
       "thumb|right|Transverse section through the left side of the scrotum and the left Yandman.\n",
       "Image:Gray1148.png\n",
       "></th>\n",
       "      <td id=\"T_fb32d_row8_col0\" class=\"data row8 col0\" >3</td>\n",
       "      <td id=\"T_fb32d_row8_col1\" class=\"data row8 col1\" >2</td>\n",
       "      <td id=\"T_fb32d_row8_col2\" class=\"data row8 col2\" >1</td>\n",
       "      <td id=\"T_fb32d_row8_col3\" class=\"data row8 col3\" >0.666667</td>\n",
       "    </tr>\n",
       "    <tr>\n",
       "      <th id=\"T_fb32d_level0_row9\" class=\"row_heading level0 row9\" > Apologies \n",
       "\n",
       "for the stupid pointless bickering at WP:RD/H. I should have read your comments more closely. I guess I'm tired now. Sorry, Zain Ebrahim  </th>\n",
       "      <td id=\"T_fb32d_row9_col0\" class=\"data row9 col0\" >3</td>\n",
       "      <td id=\"T_fb32d_row9_col1\" class=\"data row9 col1\" >1</td>\n",
       "      <td id=\"T_fb32d_row9_col2\" class=\"data row9 col2\" >2</td>\n",
       "      <td id=\"T_fb32d_row9_col3\" class=\"data row9 col3\" >0.333333</td>\n",
       "    </tr>\n",
       "  </tbody>\n",
       "</table>\n"
      ],
      "text/plain": [
       "<pandas.io.formats.style.Styler at 0x7f22484510d0>"
      ]
     },
     "execution_count": 16,
     "metadata": {},
     "output_type": "execute_result"
    }
   ],
   "source": [
    "# text 出現数, less 評価数、 more 評価数を集計して toxic_ratio を計算\n",
    "less_toxic_text = valid_data['less_toxic'].to_frame(name='text')\n",
    "less_toxic_text = less_toxic_text.assign(valid = 0)\n",
    "more_toxic_text = valid_data['more_toxic'].to_frame(name='text')\n",
    "more_toxic_text = more_toxic_text.assign(valid = 1)\n",
    "\n",
    "all_text = pd.concat([less_toxic_text, more_toxic_text], axis=0)\n",
    "\n",
    "all_text = all_text.groupby('text').agg(\n",
    "    ['count', \n",
    "     ('more', lambda x: (x==1).sum()), \n",
    "     ('less', lambda x: (x==0).sum())]\n",
    ").sort_values(('valid', 'count'), ascending=False)\n",
    "\n",
    "all_text['toxic_ratio'] = all_text[('valid', 'more')] / all_text[('valid', 'count')]\n",
    "all_text.sort_values(['toxic_ratio', ('valid', 'count')], ascending=False).sample(n=10).style.bar(subset=['toxic_ratio'], color='#205ff2')"
   ]
  },
  {
   "cell_type": "code",
   "execution_count": 17,
   "id": "79f8c9ea",
   "metadata": {
    "execution": {
     "iopub.execute_input": "2021-11-25T15:35:10.017925Z",
     "iopub.status.busy": "2021-11-25T15:35:10.017253Z",
     "iopub.status.idle": "2021-11-25T15:35:10.277947Z",
     "shell.execute_reply": "2021-11-25T15:35:10.278545Z",
     "shell.execute_reply.started": "2021-11-25T14:21:39.279678Z"
    },
    "papermill": {
     "duration": 0.307895,
     "end_time": "2021-11-25T15:35:10.278734",
     "exception": false,
     "start_time": "2021-11-25T15:35:09.970839",
     "status": "completed"
    },
    "tags": []
   },
   "outputs": [
    {
     "name": "stdout",
     "output_type": "stream",
     "text": [
      "0.333333    3256\n",
      "0.666667    3229\n",
      "1.000000    2719\n",
      "0.000000    2572\n",
      "0.500000     735\n",
      "0.166667     578\n",
      "0.833333     462\n",
      "0.444444     141\n",
      "0.555556     127\n",
      "0.222222      98\n",
      "Name: toxic_ratio, dtype: int64\n"
     ]
    },
    {
     "data": {
      "image/png": "[encoded data removed]",
      "text/plain": [
       "<Figure size 576x288 with 1 Axes>"
      ]
     },
     "metadata": {
      "needs_background": "light"
     },
     "output_type": "display_data"
    }
   ],
   "source": [
    "# toxic_ratio の分布を確認\n",
    "print(all_text['toxic_ratio'].value_counts().head(10))\n",
    "\n",
    "fig, ax = plt.subplots(nrows=1, ncols=1, tight_layout=True, figsize=(8, 4))\n",
    "ax.hist(all_text['toxic_ratio'], bins=10)\n",
    "plt.show()"
   ]
  },
  {
   "cell_type": "code",
   "execution_count": 18,
   "id": "1df0933e",
   "metadata": {
    "execution": {
     "iopub.execute_input": "2021-11-25T15:35:10.372881Z",
     "iopub.status.busy": "2021-11-25T15:35:10.372174Z",
     "iopub.status.idle": "2021-11-25T15:35:10.380478Z",
     "shell.execute_reply": "2021-11-25T15:35:10.381120Z",
     "shell.execute_reply.started": "2021-11-25T14:21:39.532007Z"
    },
    "papermill": {
     "duration": 0.056966,
     "end_time": "2021-11-25T15:35:10.381353",
     "exception": false,
     "start_time": "2021-11-25T15:35:10.324387",
     "status": "completed"
    },
    "tags": []
   },
   "outputs": [
    {
     "name": "stdout",
     "output_type": "stream",
     "text": [
      "0.333333    3256\n",
      "0.666667    3229\n",
      "1.000000    2719\n",
      "0.000000    2572\n",
      "0.500000     735\n",
      "0.166667     578\n",
      "0.833333     462\n",
      "0.444444     141\n",
      "0.555556     127\n",
      "0.222222      98\n",
      "0.777778      77\n",
      "0.888889      57\n",
      "0.111111      50\n",
      "0.250000      33\n",
      "0.416667      25\n",
      "0.750000      15\n",
      "0.583333      13\n",
      "0.916667       9\n",
      "0.083333       9\n",
      "0.400000       5\n",
      "0.857143       4\n",
      "0.714286       4\n",
      "0.533333       4\n",
      "0.142857       3\n",
      "0.285714       3\n",
      "0.428571       3\n",
      "0.571429       3\n",
      "0.933333       2\n",
      "0.800000       2\n",
      "0.600000       2\n",
      "0.466667       2\n",
      "0.100000       1\n",
      "0.388889       1\n",
      "0.277778       1\n",
      "0.733333       1\n",
      "0.461538       1\n",
      "0.133333       1\n",
      "0.200000       1\n",
      "0.266667       1\n",
      "Name: toxic_ratio, dtype: int64\n"
     ]
    }
   ],
   "source": [
    "print(all_text['toxic_ratio'].value_counts())"
   ]
  },
  {
   "cell_type": "markdown",
   "id": "6cb719ff",
   "metadata": {
    "papermill": {
     "duration": 0.056158,
     "end_time": "2021-11-25T15:35:10.485455",
     "exception": false,
     "start_time": "2021-11-25T15:35:10.429297",
     "status": "completed"
    },
    "tags": []
   },
   "source": [
    "- 分布のピークが4つある。これは評価される数が原因か。"
   ]
  },
  {
   "cell_type": "markdown",
   "id": "5e7d4ae8",
   "metadata": {
    "papermill": {
     "duration": 0.045142,
     "end_time": "2021-11-25T15:35:10.575781",
     "exception": false,
     "start_time": "2021-11-25T15:35:10.530639",
     "status": "completed"
    },
    "tags": []
   },
   "source": [
    "## Clearning\n",
    "\n",
    "**stemming**  \n",
    "stem は日本語では \"語幹\" の意味。  \n",
    "NLP で steming というと、単語の語形変化の基礎部分に変形する。  \n",
    "たとえば、connect に関連する単語は、steming により以下のように変形される。\n",
    "```py\n",
    ">>> from nltk.stem import PorterStemmer\n",
    ">>> porter = PorterStemmer()\n",
    ">>> word_list = [\"connected\", \"connecting\", \"connection\", \"connections\"]\n",
    ">>>\n",
    ">>> for word in word_list:\n",
    "...     print(porter.stem(word))\n",
    "...\n",
    "connect\n",
    "connect\n",
    "connect\n",
    "connect\n",
    "```"
   ]
  },
  {
   "cell_type": "code",
   "execution_count": 19,
   "id": "f3614c9e",
   "metadata": {
    "execution": {
     "iopub.execute_input": "2021-11-25T15:35:10.670220Z",
     "iopub.status.busy": "2021-11-25T15:35:10.669549Z",
     "iopub.status.idle": "2021-11-25T15:35:10.676213Z",
     "shell.execute_reply": "2021-11-25T15:35:10.676706Z",
     "shell.execute_reply.started": "2021-11-25T14:21:39.543399Z"
    },
    "papermill": {
     "duration": 0.055666,
     "end_time": "2021-11-25T15:35:10.676893",
     "exception": false,
     "start_time": "2021-11-25T15:35:10.621227",
     "status": "completed"
    },
    "tags": []
   },
   "outputs": [
    {
     "name": "stderr",
     "output_type": "stream",
     "text": [
      "2021-11-25 15:35:10,670 nb01 3 [INFO][<module>] 318\n",
      "2021-11-25 15:35:10,671 nb01 4 [INFO][<module>] can more whereas call your yours i our within front well twenty thereupon twelve yourself whence de among further own his thereafter besides all an nobody detail sincere the therefore thru at those go found first seems hers since un during then move find ever amoungst seemed sometime else interest in cant moreover forty on become he either seem there somehow anything mine these because its would please where such two less nor done elsewhere who must six namely are four myself side many cannot out former that wherein behind both formerly put also again everything due whether and hereupon hence if everyone most ltd too whom whole whatever ie we could ten by mill still per no seeming this may together herself from whither what beside them three being next when throughout along becomes whenever con sometimes how fifty about over perhaps not were keep whoever themselves none latter me back give however several least why of top hereafter five became serious thence into himself which have enough is few yourselves above through once ourselves up with here alone was nowhere anywhere see us eight any her something or via fire across becoming same for whereupon has thus get empty thick nevertheless rather made after will almost do although mostly sixty part to down some co had amongst hundred am nine whereafter whereby hereby bill upon herein between fifteen itself often below another than off whose but towards bottom re eg describe never it around name take been beforehand should eleven full without last latterly hasnt every nothing while their each as meanwhile yet otherwise before indeed others only until anyhow my anyway beyond someone inc ours onto system third much she though might very a other you couldnt him always against cry so they even neither except everywhere now show noone therein anyone under amount fill thereby thin somewhere already one etc afterwards toward wherever be\n"
     ]
    }
   ],
   "source": [
    "# english stop words のリストを作成\n",
    "stop_words = list(text.ENGLISH_STOP_WORDS)\n",
    "get_logger(VERSION).info(len(stop_words))\n",
    "get_logger(VERSION).info(' '.join(stop_words))"
   ]
  },
  {
   "cell_type": "code",
   "execution_count": 20,
   "id": "dede765e",
   "metadata": {
    "execution": {
     "iopub.execute_input": "2021-11-25T15:35:10.778503Z",
     "iopub.status.busy": "2021-11-25T15:35:10.777811Z",
     "iopub.status.idle": "2021-11-25T15:35:10.779176Z",
     "shell.execute_reply": "2021-11-25T15:35:10.779784Z",
     "shell.execute_reply.started": "2021-11-25T14:21:39.554339Z"
    },
    "papermill": {
     "duration": 0.05692,
     "end_time": "2021-11-25T15:35:10.779967",
     "exception": false,
     "start_time": "2021-11-25T15:35:10.723047",
     "status": "completed"
    },
    "tags": []
   },
   "outputs": [],
   "source": [
    "# html タグとその他の消去する単語のリスト\n",
    "html_tags = ['<p>', '</p>', '<table>', '</table>', '<tr>', '</tr>', '<ul>', '</ul>', '<ol>', '</ol>', '<dl>', '</dl>', \\\n",
    "             '<li>', '</li>', '<dd>', '</dd>', '<dt>', '</dt>', '/n', '\\n']\n",
    "r_buf = ['it', 'is', 'are', 'do', 'does', 'did', 'was', 'were', 'will', 'can', 'the', 'a', 'of', 'in', 'and', 'on', \\\n",
    "         'what', 'where', 'when', 'which']\n",
    "to_remove = list(set(stop_words + html_tags + r_buf))"
   ]
  },
  {
   "cell_type": "code",
   "execution_count": 21,
   "id": "c95ee919",
   "metadata": {
    "execution": {
     "iopub.execute_input": "2021-11-25T15:35:10.880142Z",
     "iopub.status.busy": "2021-11-25T15:35:10.879439Z",
     "iopub.status.idle": "2021-11-25T15:35:43.686502Z",
     "shell.execute_reply": "2021-11-25T15:35:43.685960Z",
     "shell.execute_reply.started": "2021-11-25T14:21:39.573300Z"
    },
    "papermill": {
     "duration": 32.860954,
     "end_time": "2021-11-25T15:35:43.686642",
     "exception": false,
     "start_time": "2021-11-25T15:35:10.825688",
     "status": "completed"
    },
    "tags": []
   },
   "outputs": [
    {
     "data": {
      "text/html": [
       "<div>\n",
       "<style scoped>\n",
       "    .dataframe tbody tr th:only-of-type {\n",
       "        vertical-align: middle;\n",
       "    }\n",
       "\n",
       "    .dataframe tbody tr th {\n",
       "        vertical-align: top;\n",
       "    }\n",
       "\n",
       "    .dataframe thead th {\n",
       "        text-align: right;\n",
       "    }\n",
       "</style>\n",
       "<table border=\"1\" class=\"dataframe\">\n",
       "  <thead>\n",
       "    <tr style=\"text-align: right;\">\n",
       "      <th></th>\n",
       "      <th>worker</th>\n",
       "      <th>less_toxic</th>\n",
       "      <th>more_toxic</th>\n",
       "      <th>less_toxic_clean</th>\n",
       "      <th>more_toxic_clean</th>\n",
       "    </tr>\n",
       "  </thead>\n",
       "  <tbody>\n",
       "    <tr>\n",
       "      <th>0</th>\n",
       "      <td>313</td>\n",
       "      <td>This article sucks \\n\\nwoo woo wooooooo</td>\n",
       "      <td>WHAT!!!!!!!!?!?!!?!?!!?!?!?!?!!!!!!!!!!!!!!!!!...</td>\n",
       "      <td>article suck woo woo wooooooo</td>\n",
       "      <td>wher sexy pic gone main page</td>\n",
       "    </tr>\n",
       "    <tr>\n",
       "      <th>1</th>\n",
       "      <td>188</td>\n",
       "      <td>\"And yes, people should recognize that but the...</td>\n",
       "      <td>Daphne Guinness \\n\\nTop of the mornin' my fav...</td>\n",
       "      <td>yes people recognize usually dont objection he...</td>\n",
       "      <td>daphne guinness mornin favourite alien life fo...</td>\n",
       "    </tr>\n",
       "    <tr>\n",
       "      <th>2</th>\n",
       "      <td>82</td>\n",
       "      <td>Western Media?\\n\\nYup, because every crime in...</td>\n",
       "      <td>\"Atom you don't believe actual photos of mastu...</td>\n",
       "      <td>western medium yup crime entire world caused w...</td>\n",
       "      <td>atom dont believe actual photo masturbation se...</td>\n",
       "    </tr>\n",
       "    <tr>\n",
       "      <th>3</th>\n",
       "      <td>347</td>\n",
       "      <td>And you removed it! You numbskull! I don't car...</td>\n",
       "      <td>You seem to have sand in your vagina.\\n\\nMight...</td>\n",
       "      <td>removed numbskull dont care say anymore life a...</td>\n",
       "      <td>sand vagina want wash stinking hole bitch</td>\n",
       "    </tr>\n",
       "    <tr>\n",
       "      <th>4</th>\n",
       "      <td>539</td>\n",
       "      <td>smelly vagina \\n\\nBluerasberry why don't you ...</td>\n",
       "      <td>hey \\n\\nway to support nazis, you racist</td>\n",
       "      <td>smelly vagina bluerasberry dont model cheesy b...</td>\n",
       "      <td>hey way support nazi racist</td>\n",
       "    </tr>\n",
       "  </tbody>\n",
       "</table>\n",
       "</div>"
      ],
      "text/plain": [
       "   worker                                         less_toxic  \\\n",
       "0     313            This article sucks \\n\\nwoo woo wooooooo   \n",
       "1     188  \"And yes, people should recognize that but the...   \n",
       "2      82   Western Media?\\n\\nYup, because every crime in...   \n",
       "3     347  And you removed it! You numbskull! I don't car...   \n",
       "4     539   smelly vagina \\n\\nBluerasberry why don't you ...   \n",
       "\n",
       "                                          more_toxic  \\\n",
       "0  WHAT!!!!!!!!?!?!!?!?!!?!?!?!?!!!!!!!!!!!!!!!!!...   \n",
       "1   Daphne Guinness \\n\\nTop of the mornin' my fav...   \n",
       "2  \"Atom you don't believe actual photos of mastu...   \n",
       "3  You seem to have sand in your vagina.\\n\\nMight...   \n",
       "4           hey \\n\\nway to support nazis, you racist   \n",
       "\n",
       "                                    less_toxic_clean  \\\n",
       "0                      article suck woo woo wooooooo   \n",
       "1  yes people recognize usually dont objection he...   \n",
       "2  western medium yup crime entire world caused w...   \n",
       "3  removed numbskull dont care say anymore life a...   \n",
       "4  smelly vagina bluerasberry dont model cheesy b...   \n",
       "\n",
       "                                    more_toxic_clean  \n",
       "0                       wher sexy pic gone main page  \n",
       "1  daphne guinness mornin favourite alien life fo...  \n",
       "2  atom dont believe actual photo masturbation se...  \n",
       "3          sand vagina want wash stinking hole bitch  \n",
       "4                        hey way support nazi racist  "
      ]
     },
     "metadata": {},
     "output_type": "display_data"
    },
    {
     "data": {
      "text/html": [
       "<div>\n",
       "<style scoped>\n",
       "    .dataframe tbody tr th:only-of-type {\n",
       "        vertical-align: middle;\n",
       "    }\n",
       "\n",
       "    .dataframe tbody tr th {\n",
       "        vertical-align: top;\n",
       "    }\n",
       "\n",
       "    .dataframe thead th {\n",
       "        text-align: right;\n",
       "    }\n",
       "</style>\n",
       "<table border=\"1\" class=\"dataframe\">\n",
       "  <thead>\n",
       "    <tr style=\"text-align: right;\">\n",
       "      <th></th>\n",
       "      <th>comment_id</th>\n",
       "      <th>text</th>\n",
       "      <th>text_clean</th>\n",
       "    </tr>\n",
       "  </thead>\n",
       "  <tbody>\n",
       "    <tr>\n",
       "      <th>0</th>\n",
       "      <td>114890</td>\n",
       "      <td>\"\\n \\n\\nGjalexei, you asked about whether ther...</td>\n",
       "      <td>gjalexei asked antieditorializing policy calle...</td>\n",
       "    </tr>\n",
       "    <tr>\n",
       "      <th>1</th>\n",
       "      <td>732895</td>\n",
       "      <td>Looks like be have an abuser , can you please ...</td>\n",
       "      <td>look like abuser look thanks</td>\n",
       "    </tr>\n",
       "    <tr>\n",
       "      <th>2</th>\n",
       "      <td>1139051</td>\n",
       "      <td>I confess to having complete (and apparently b...</td>\n",
       "      <td>confess having complete apparently blissful ig...</td>\n",
       "    </tr>\n",
       "    <tr>\n",
       "      <th>3</th>\n",
       "      <td>1434512</td>\n",
       "      <td>\"\\n\\nFreud's ideas are certainly much discusse...</td>\n",
       "      <td>freud idea certainly discussed today agree gra...</td>\n",
       "    </tr>\n",
       "    <tr>\n",
       "      <th>4</th>\n",
       "      <td>2084821</td>\n",
       "      <td>It is not just you. This is a laundry list of ...</td>\n",
       "      <td>just laundry list stupid allegation scooped go...</td>\n",
       "    </tr>\n",
       "  </tbody>\n",
       "</table>\n",
       "</div>"
      ],
      "text/plain": [
       "   comment_id                                               text  \\\n",
       "0      114890  \"\\n \\n\\nGjalexei, you asked about whether ther...   \n",
       "1      732895  Looks like be have an abuser , can you please ...   \n",
       "2     1139051  I confess to having complete (and apparently b...   \n",
       "3     1434512  \"\\n\\nFreud's ideas are certainly much discusse...   \n",
       "4     2084821  It is not just you. This is a laundry list of ...   \n",
       "\n",
       "                                          text_clean  \n",
       "0  gjalexei asked antieditorializing policy calle...  \n",
       "1                       look like abuser look thanks  \n",
       "2  confess having complete apparently blissful ig...  \n",
       "3  freud idea certainly discussed today agree gra...  \n",
       "4  just laundry list stupid allegation scooped go...  "
      ]
     },
     "metadata": {},
     "output_type": "display_data"
    }
   ],
   "source": [
    "# テキストをクリーニング\n",
    "valid_data['less_toxic_clean'] = valid_data['less_toxic'].apply(lambda x: utils_preprocess_text(x, flg_stemm=False, flg_lemm=True, lst_stopwords=to_remove))\n",
    "valid_data['more_toxic_clean'] = valid_data['more_toxic'].apply(lambda x: utils_preprocess_text(x, flg_stemm=False, flg_lemm=True, lst_stopwords=to_remove))\n",
    "comments_score['text_clean'] = comments_score['text'].apply(lambda x: utils_preprocess_text(x, flg_stemm=False, flg_lemm=True, lst_stopwords=to_remove))\n",
    "\n",
    "display(valid_data.head())\n",
    "display(comments_score.head())"
   ]
  },
  {
   "cell_type": "markdown",
   "id": "2c768559",
   "metadata": {
    "papermill": {
     "duration": 0.046954,
     "end_time": "2021-11-25T15:35:43.780648",
     "exception": false,
     "start_time": "2021-11-25T15:35:43.733694",
     "status": "completed"
    },
    "tags": []
   },
   "source": [
    "とりあえずの特徴量抽出の考え方\n",
    "- train の text から test の text を除く必要はない。\n",
    "- X_train と X_test の分布差は確認する必要がある。"
   ]
  },
  {
   "cell_type": "code",
   "execution_count": 22,
   "id": "6a0fe6a3",
   "metadata": {
    "execution": {
     "iopub.execute_input": "2021-11-25T15:35:43.883776Z",
     "iopub.status.busy": "2021-11-25T15:35:43.882579Z",
     "iopub.status.idle": "2021-11-25T15:35:43.894743Z",
     "shell.execute_reply": "2021-11-25T15:35:43.894061Z",
     "shell.execute_reply.started": "2021-11-25T14:22:05.263974Z"
    },
    "papermill": {
     "duration": 0.067268,
     "end_time": "2021-11-25T15:35:43.894959",
     "exception": false,
     "start_time": "2021-11-25T15:35:43.827691",
     "status": "completed"
    },
    "tags": []
   },
   "outputs": [
    {
     "name": "stderr",
     "output_type": "stream",
     "text": [
      "2021-11-25 15:35:43,885 nb01 7 [INFO][<module>] X_train shape: (60216,)\n",
      "2021-11-25 15:35:43,886 nb01 8 [INFO][<module>] y_train shape: (60216, 1)\n",
      "2021-11-25 15:35:43,888 nb01 9 [INFO][<module>] X_test shape: (7537,)\n"
     ]
    }
   ],
   "source": [
    "# クリーニングしたテキストを使って訓練用データセットとテスト用データセットをつくる\n",
    "X_train = pd.concat([valid_data['less_toxic_clean'], valid_data['more_toxic_clean']])\n",
    "y_train = np.vstack([np.zeros(shape=(len(valid_data['less_toxic_clean']), 1)),\n",
    "                     np.ones(shape=(len(valid_data['more_toxic_clean']), 1))])\n",
    "X_test = comments_score['text_clean']\n",
    "\n",
    "get_logger(VERSION).info(f\"X_train shape: {X_train.shape}\")\n",
    "get_logger(VERSION).info(f\"y_train shape: {y_train.shape}\")\n",
    "get_logger(VERSION).info(f\"X_test shape: {X_test.shape}\")"
   ]
  },
  {
   "cell_type": "code",
   "execution_count": 23,
   "id": "5171cd35",
   "metadata": {
    "execution": {
     "iopub.execute_input": "2021-11-25T15:35:43.999264Z",
     "iopub.status.busy": "2021-11-25T15:35:43.998507Z",
     "iopub.status.idle": "2021-11-25T15:35:44.009040Z",
     "shell.execute_reply": "2021-11-25T15:35:44.008404Z",
     "shell.execute_reply.started": "2021-11-25T14:22:05.279690Z"
    },
    "papermill": {
     "duration": 0.063744,
     "end_time": "2021-11-25T15:35:44.009188",
     "exception": false,
     "start_time": "2021-11-25T15:35:43.945444",
     "status": "completed"
    },
    "tags": []
   },
   "outputs": [
    {
     "data": {
      "text/plain": [
       "0                        article suck woo woo wooooooo\n",
       "1    yes people recognize usually dont objection he...\n",
       "2    western medium yup crime entire world caused w...\n",
       "3    removed numbskull dont care say anymore life a...\n",
       "4    smelly vagina bluerasberry dont model cheesy b...\n",
       "dtype: object"
      ]
     },
     "metadata": {},
     "output_type": "display_data"
    },
    {
     "data": {
      "text/plain": [
       "0    gjalexei asked antieditorializing policy calle...\n",
       "1                         look like abuser look thanks\n",
       "2    confess having complete apparently blissful ig...\n",
       "3    freud idea certainly discussed today agree gra...\n",
       "4    just laundry list stupid allegation scooped go...\n",
       "Name: text_clean, dtype: object"
      ]
     },
     "metadata": {},
     "output_type": "display_data"
    }
   ],
   "source": [
    "display(X_train.head())\n",
    "display(X_test.head())"
   ]
  },
  {
   "cell_type": "markdown",
   "id": "127bc60d",
   "metadata": {
    "papermill": {
     "duration": 0.050064,
     "end_time": "2021-11-25T15:35:44.109385",
     "exception": false,
     "start_time": "2021-11-25T15:35:44.059321",
     "status": "completed"
    },
    "tags": []
   },
   "source": [
    "## Feature extraction"
   ]
  },
  {
   "cell_type": "code",
   "execution_count": 24,
   "id": "1515d9ba",
   "metadata": {
    "execution": {
     "iopub.execute_input": "2021-11-25T15:35:44.253653Z",
     "iopub.status.busy": "2021-11-25T15:35:44.216944Z",
     "iopub.status.idle": "2021-11-25T15:35:48.607980Z",
     "shell.execute_reply": "2021-11-25T15:35:48.608504Z",
     "shell.execute_reply.started": "2021-11-25T14:22:05.299610Z"
    },
    "papermill": {
     "duration": 4.44961,
     "end_time": "2021-11-25T15:35:48.608683",
     "exception": false,
     "start_time": "2021-11-25T15:35:44.159073",
     "status": "completed"
    },
    "tags": []
   },
   "outputs": [
    {
     "name": "stderr",
     "output_type": "stream",
     "text": [
      "2021-11-25 15:35:48,589 nb01 5 [INFO][<module>] X_train shape: (60216, 7577)\n",
      "2021-11-25 15:35:48,590 nb01 6 [INFO][<module>] X_test shape: (7537, 7577)\n",
      "2021-11-25 15:35:48,599 nb01 7 [INFO][<module>] aa aaron abandon abandoned abd abducted abhor abide ability able abnormal abortion abovementioned absence absolute absolutely absolutly absurd absurdity abuse abused abuser abusing abusive academia academic academy accept acceptable acceptance accepted accepting access accessible accident accidentally accomplish accomplished accomplishment accordance according account accountable accuracy accurate accurately accusation accuse accused accuser accuses accusing achieve achieved achievement acid acknowledge acknowledged acknowledgement acknowledging aclu acne acorn acquisition acronym act acted acting action active actively activist activity actor actress actual actually ad adam add added adding addition additional additionally address addressed addressing adequate adequately adjective adjust adl admi admin administered administration administrative administrator admins adminship adminstrator admire admission admit admits admitted admittedly admitting adolf adopt adopted adorable adress adult advance advanced advantage adverse advertising advice advise advised advocacy advocate ae afd affair affect affected affiliation affirmative affront afghan afghanistan aforementioned afraid africa african africanamerican afternoon age aged agency agenda agendabased agent agf aggression aggressive ago agony agree agreed agreeing agreement agrees agw ah ahead ahem ahhh ahole aid aim aimed aiming aint air aircraft airline airport aiv aka akbar al ala alan alarm albania albanian albeit albert album alcohol alert alex alexander algerian ali alias alien alike alive allah allahu allegation allege alleged allegedly allegiance alleging allen alliance allied allow allowed allowing allows allready allusion ally alongside alot alphabet alright alter altered alternate alternative alternatively altogether alumnus amateur amazed amazing amazon ambassador ambiguous amen amended amendment america american amerindian amount amused amusement amusing an anal analogous analogy analysis anarchism anarchist anatomy ancestor ancestral ancestry ancient anderson andor andrew andy angel angela anger angered angle anglican anglos anglosaxon angry ani animal anime ann anna anne announce announced annoy annoyance annoyed annoying annoys anon anonymiss anonymous anonymously anorexia answer answered answering anthem anthony anti antiamerican antic antifascist antigay antigreek antihindu antiislamic antimuslim antisemite antisemites antisemitic antisemitism antivandalism anus anybody anymore anyones anytime anyways aol aoluwatoyin apart apartment apathy ape apologise apologised apologising apologist apologize apologized apology apostle appalling apparantly apparent apparently appeal appealed appealing appear appearance appeared appears appease apple applicable application applied applies apply appointed appologize appreciate appreciated appreciation approach appropiate appropriate appropriated appropriately approval approve approved approximately apr april apt ar arab arabia arabic aramaic aramean arb arbcom arbitrarily arbitrary arbitration arc arcane architecture archive archived area arent argentina argentine argue argued arguement argues arguing argument argumentation ark arm armed armenia armenian army arnold arrange arrest arrested arrived arrogance arrogant arrow arse arsehole arses art arthur artical article artist arvanites aryan as asap ashamed ashkenazi ashley asia asian aside ask asked asking asks aspect aspergers ass assassin assassinate assassination assault assed assert assertion asserts assessment assface asshat asshole assigned assist assistance assistant associate associated associating association assorted assume assumed assumes assuming assumption assurance assure assured asswipe assyrian astronomical aswell asylum ate atheism atheist atheistic athlete atleast atmosphere atom atomicer atrocious atrocity atta attached attack attacked attacker attacking attempt attempted attempting attend attended attention attitude attorney attracted attraction attractive attribute attributed audacity audi audience audio aug august aunt aussie australia australian austrian authentic author authored authoritarian authoritative authority auto autoblock automated automatic automatically avail available avatar avenue average aversion aviation avid avoid avoided avoiding awaiting award aware away awesome awful awfully awww ax azeri ba babe baboon baby back backed background backup backward bacon bad badass badge badly bag bail bait baiting baker bakutrix balance balanced bald balkan ball bam ban banana band bandit bandwagon bang bangladesh bank bankrupt banned banner banning banter baptist bar barack barbarian barbaric bare barely bark barnstar barnstars barred barrel barry base baseball based baseless basement bash bashing basic basically basing basis bass bastard bat batman battle battled battlefield battleground bay bb bbc bc beach beagle bean bear beard bearing beast beat beaten beating beatles beautiful beauty becasue becuase bed beef beeing beer beg began begging begin beginning begun behalf behave behaving behavior behaviour behold being bektashi beleive belief believe believed believer believing belive bell belligerent belly belong belonged belonging belongs beloved belt ben bend beneath beneficial benefit bent berkeley berlin besmirched best bet betrayed better beware bhaisaab bias biased bible biblical bibliography bid big bigger biggest bigot bigoted bigotry billion billionaire bin bio biographical biography biological bird birth birthday bisexual bishonen bishop bit bitch bitching bitchy bite bitter bizarre black blackpearl blah blame blamed blaming blank blanked blanket blanking blast blatant blatantly blatent bleeding bless blessing blew blind blindly blink block blockable blockd blocked blocking blog blogger blond blonde blood bloodline bloody blow blowing blowjob blown blp blue blunt bnp boa board boast boat bob body bogdanov bogus boi boil bold bolivian bollock bolster bolt bolton bomb bombed bomber bombing bon bone bongwarrior boo boob book boot booted border borderline bored boring born bos boston bot bother bothered bothering bottle bought bound boundary bout bow bowel bowl box boy boyfriend bozo bracket brad brag brahmin brain brainless brainwashed branch brand branded brandon brat brave breach break breakdown breakfast breaking breast breath breathing breed bressman brian brick bride bridge brief brigade bright brilliant bring bringing brings brit britain britannica british britney briton bro broad broadcast broke broken bros brother brought brown browse brush brutal brutally bryan bryant btch btw bubble buck bucket bud buddhism buddhist buddy bug bugger build building built bulgaria bulgarian bulk bull bullet bullshido bullshit bully bullying bum bump bunch burden bureaucrat bureaucratic burger buried burn burned burning burnt burrito bush business busting busy butt button buy buying bye byrd bystander byte cabal cable cadre cage cake calculation calendar california call called calling calm calmly calzaghe cambridge came camera camp campaign campbell canada canadian cancel cancer candidacy candidate candy cannon canon canvassing cap capability capable capacity capital capitalism capitalist captain caption captured car carbuncle card care cared career careful carefully careless caribbean caring carp carpet carried carry carrying cartoon case casino cast caste castilian castle castro casual cat catch catching category catholic catholicism caucasian caught cause caused causing caution cave cc cd cease ceased celebrate celebrity cell celtic cena censor censored censoring censorship censure census cent center centered central century ceremony certain certainly certificate certified cesspool cf cfred chain chair chalk challenge challenged challenging chamber chameria chamerias champion championship chan chance change changed changing channel chaos chap chapter character characteristic characterization characterized charade charge charged charging charity charles chart chase chat chatting che cheap cheat cheater cheating check checked checking checkuser cheek cheer cheese chemical chemist chemistry cheney cherokee chest chi chicago chick chicken chief chihuahua child childhood childish childishness childrens chile chilean chill chilling chimp chin china chinese chink chip choice choke choose chooses choosing chop chose chosen chris chriss christ christian christianity christmas christopher chuck chuckle chump church churchill cia ciao cigarette circa circle circuit circumcision circumstance circumvent circus citation cite cited citing citizen city civil civilian civility civilization civilized claim claimed claiming claire clan clarification clarified clarify clarity clark class classed classic classical classified classify clause clean cleaned cleaning cleankeeper cleansing cleanup clear clearcut cleared clearer clearly clever cleverly click client cliff climate clinton clio clip clique close closed closely closer closest closet closing clothes cloud clown club clue cluebot clueless cmon cnn co coast coat cocaine cock cocksucker cocksucking cod code cody coffee coi coin coincidence coke cola colbert cold coldplay cole collaborate collaborated collaborating collaboration collaborative collaborator collage collapse collapsed colleague collect collected collecting collection collective collectonian college collins colloquial collude colmes colombo colony color colored colorful colour columbia column com combat combination combined come comedy comfort comic coming comitted command commander commandment comment commentary commentator commented commenting commercial commie commission commit commited commits committed committee common commonly communicate communicating communication communism communist community companion company comparable compare compared comparing comparison compelled compelling competent compiled complain complained complaining complains complaint complete completed completely complex complexion compliant complicated complication compliment comply comprehend comprehensive compromise compromised compulsive computer comrade conceal concealed concede conceded concentrate concentration concept conception concern concerned concerning concert concession concise conclude conclusion conclusive concrete condemn condemned condescending condition condom conduct conducted conference confess confessed confession confidence confident confirm confirmed confirms conflict conform confronted confuse confused confusing confusion congrats congratulation congregation congress congressional congressman connect connected connection connor connotation conquest conscience conscious consensus consent consequence conservative consider considerable consideration considered considering considers consisted consistent consistently consisting consists conspiracy conspire constance constant constantly constitute constituted constitutes constitution constructed constructive constructively construed consult consume cont contact contacted contacting contain contained containing contains contemporary contempt content contentious contest contested context continent continental continously continual continually continue continued continues continuing continuously contra contract contradict contradicted contradicting contradiction contradictory contradicts contrary contrast contribs contribute contributed contributing contribution contributor contrived control controlled controlling controversial controversy convenience convenient conveniently convention conventional conversation conversion convert converted converting convey conveying convicted conviction convince convinced convincing cook cookie cooky cool cooler cooperation cop copied copy copyedit copyediting copying copyright copyvio core corner corp corporate corporation corpse corpus correct corrected correcting correction correctly correctness correlation corrupt corrupted corruption cost cougar cough coulter council count counted counter countered counterproductive counting countless country countryman county coup couple courage course court courtesy cousin cover coverage covered covering coverup cow coward cowardly cowboy cozy crack cracka cracker crackpot craig cram crank crap crappy crash crawl crazy cream create created creates creating creation creationists creative creativity creator creature credential credibility credible credit crediting creed creep creepy cretin crew cricket crime criminal cripple crisis criterion critic critical criticise criticism criticize criticized criticizing critique croatia croatian crock crook cross crossed crossing crossmr crowd crown cruel cruft crusade crush crushed cry crybaby csd cu cuba cuban cult cultish cultist cultural culturally culture cum cumbey cumming cunt cup curiosity curious current currently curse cursing curve cuss cussing custom cut cute cutting cuz cw cyber cyde cynical cypriot czech da dab dad daddy daedalus daemon dahn daily dalits dallas damage damaged damaging dame dammit damn damned damnit dan dance dancing dandy danger dangerous daniel danny dare dared dark darker darkness darling darn darwin dat data database date dated dating daughter dave david dawg dawn day db dc dd dead deadbeat deadly deaf deal dealing dealt dear death debatable debate debated debating debt debunked debunking dec decade deceased deceived december decency decent decide decided decides deciding decision deck declaration declare declared declaring decline declined declining dedicated deed deem deemed deep deeply defacement defacing defamation defamatory defame defeat defeated defence defend defended defender defending defense defensive definately define defined defines definetely defining definitely definition degenerate degrade degrading degree deity delanoy delay delete deleted deleteing deletes deleting deletion deletionist deletionists deliberate deliberately delicious delight delivered delta delted delusion delusional dem demand demanding demeaning demise demo democracy democrat democratic demographic demonstrably demonstrate demonstrated demonstrates den denial denialist denied denier dense density deny denying department depend depending depends depict depicted depicting depiction depicts deplorable deportation deported depression deprived dept depth deranged derived derives derogatory descendant descended descent described describes describing description desert deserve deserved deserves deserving designation designed desire desired desist desk deskana desperate desperately despicable despise despised despite destroy destroyed destroying destruction destructive detail detailed determination determine determined determines detriment detrimental detroit develop developed developer developing development deviant device devil devote devoted devoting devout dey dharmic dheyward di diagnosis diagram diagree dialect dialogue diamond diareah diarrhea diatribe dick dickhead dictate dictator dictatorial dictatorship dictionary didnt die died diego diem diet diff differ difference different differently differing differs difficult difficulty diffs dig digest digg digging digital dildo diminish ding dink dinner dinosaur diplomat diplomatic dipshit direct directed direction directly director dirt dirty dis disability disabled disagree disagreed disagreeing disagreement disagrees disambiguation disappear disappeared disappointed discernable discipline disclaimer disclose disco discography discount discourse discover discovered discovery discredit discredited discrediting discrepancy discriminate discriminated discrimination discriminatory discus discussed discussing discussion disdain disease disgrace disgraced disgraceful disgust disgusted disgusting dish dishonest dishonestly dishonesty disinformation disingenuous dislike dismayed dismiss dismissed dismissing disney disorder dispatch display displayed displaying disprove disproven dispute disputed disputing disregard disrespect disrespectful disrupt disrupted disrupting disruption disruptive disservice dissident distance distinct distinction distinctive distinguish distinguished distort distorted distorting distortion distracting distribution district disturbed disturbing divided divine division divorce divorced dj dna do doc doctor doctrine document documentary documentation documented doesnt dog doin doing dollar dolphin domain domestic dominate dominated domination dominican don donald donate donation dong donkey dont doo doom door dork dorm dose dosent dot double doubt doubtful douche douchebag douchebags downfall downhill downplay downright downward dozen dr drag dragged dragon drain drama dramatically draw drawing drawn dream dreamguy dresden dress drew drink drinker drinking drive drivel driven driving drmies drooling drop dropped dropping drove drowned drug drunk drunken du dubious dublin duck dude duel dug duh duke dull dumb dumbass dumbest dumbfuck dumbledore dummy dump dumpster dung dungeon dunno duplicate dutch duty dvd dweeb dweller dy dying dyk dyke dylan dynamic dynasty ea eachother ear earlier early earn earned earth easier easiest easily east eastern easy eat eaten eater eating eats ec economic economical economics economist economy ect ed edgar edge edit edited editing edition editor editorial editorializing edits editting editwar editwarring educate educated education educational edward eff effect effective effectively efficient efficiently effort egg ego egregious egypt egyptian eh einstein el elaborate elder elected election element elementary elephant elf eliminate elite elitist elizabeth elonka em email emailed emailing embarassing embarassment embarrassed embarrassing embarrassingly emerging eminem eminent eminently emo emotion emotional emotionally emperor emphasis emphasize empire empirically employ employed employee employer en encounter encountered encourage encouraged encouraging encyclopaedia encyclopaedic encyclopedia encyclopedic encylopediactionary end ended ending endless endorse endorsed endorsement enemy energy enforce enforced enforcement enforcing engage engaged engages engaging engine engineer engineering england english enhance enjoy enjoyable enjoyed enjoying enjoyment enjoys enlighten enlightening enlightenment ensuing ensure enter entered entering enterprise entertained entertaining entertainment enthiran entire entirely entirety entitled entity entry environment environmental envy ep epic epipelagic epirus episode epithet equal equality equally equate equipment equivalent er era erase erased erasing erect ergo eric erotic erroneous error erudite escalating escape escort esp especially essay essence essential essentially est establish established establishing establishment estimate estimated estonia et eternal ethic ethical ethnic ethnically ethnicity ethos etiquette etymology eu eulogy europe european eva evade evading evaluate evangelical eve evening event eventual eventually everybody everybodys everyday everyones everytime evidence evidenced evident evidently evil evolution evolutionary evolutionist evolved evula ex exact exactly exaggerated examination example exceed excellent exception excerpt excessive exchange exclude excluded exclusion exclusive exclusively excuse execution exempt exemption exercise exercised exhausted exhausting exhibit exist existed existence existing exists expand expanded expanding expansion expect expectation expected expecting expelled expense experience experienced experiment expert expertise expired expires expiry explain explained explaining explains explanation explicit explicitly explode exploit exploited expose exposed exposing exposure express expressed expressing expression expressly extend extended extensive extensively extent exterminated external extinct extra extraneous extreme extremely extremist eye fa fabricated fabrication fac facade face facebook faced facet facist fact facto factor factory factual factually fag fagget faggot faggoty fagot fail failed failing fails failure fair fairly fairness fairy faith faithful fake faking falcon fall fallacious fallacy fallen falling false falsehood falsely falsified falsifying falun fame familiar familiarity familiarize family famine famous fan fanatic fanatical fanboy fanciful fancy fansite fantastic fantasy far farce farcical fark farm fart fascinating fascism fascist fashion fast faster fat father fatty fatuorum fault faulty favonian favor favorite favour favourite fbi fc fck fcker fckin fcking fcuk fcuking fe fear feather feature featured feb february feces fed federal federation feed feedback feeding feel feelin feeling fell fella fellatio fellow felony felt female feminine feminist fenian fetus feud fewer fgm fi fiction fictional field fiend fifa fight fighter fighting figure figured file filed filing filled filling film filth filthy final finally financial financially find finding fine fing finger finish finished finishing finland fired firm firmly firstly fish fisherqueen fist fit fitting fix fixed fixing fk fking flag flagged flame flaming flash flat flattered flaw flawed flee flesh flew flick flight flip flock flood flooding floor florida flow fluff flush fly flying fo focus focused fodder foist folk follow followed follower following follows fond food fool fooled fooling foolish foolishly foolishness foot footage football footnote forbes forbid forbidden force forced forcing foreign foreigner foreskin forest forever forget forgetting forgive forgiving forgot forgotten fork form formal formally format formation formatted formatting formed forming forth fortune forum forward fostering fought foul foundation founded founder founding fourth fox fr fragile frame framed france francis francisco frank frankly franz fraud fraudulent freak freakin freaking freaky fred free freedom freely freeman french frequency frequent frequently fresh freud fricken frickin friction friday fried friend friendly friendship friggin frigging fringe frivolous fron front frowned fruit frustrated frustration fry ft fu fuck fucked fucken fucker fuckface fuckhead fuckign fuckin fucking fucktard fuckwit fudge fuk fukin fuking fukk fukkers fulfill fulfilling fully fun function functional functioning fund fundamental fundamentalist funeral funk funniest funny furious furry furthermore fuss futhermore futile future fwiw fyi ga gag gain gal gale gamaliel game gamer gaming gang ganging garbage garden gary gas gather gathered gave gay gd gear gee geek geeky geez gender gene general generally generate generated generation genesis genetic geneva genital genitalia genitals genius genocidal genocide genre gentle gentleman genuine genuinely geographical geography geogre george georgia georgian german germanic germany gestapo get getting ghetto giano giant gibberish gibson gifted giggle gimme gimp gino girl girlfriend git give given giving glad gladly glance glass gleaned glen global globe glory gloss gnaa go goal goat god goddamn goin going gold golden gone gong gonna good goodbye goodfaith goodness goof goofball google goon goose gore gosh gossip got goth gotta gotten goverment government goy grab grabbing grace grade graduate graduated graf grain grammar grammatical grand grandfather grandmother grant granted graphic grasp grass grateful grave gravitation great greater greatest greatly greece greedy greek green greeting grew grey grief grind gross grosser grossly ground grounding group groupthink grow growing grown growth grudge gtfo guarantee guard guarded guardian guarding guerilla guess guessed guessing guest guevara guidance guide guideline guiding guilt guilty guise guitar guitarist gun gunna guru gut guy gwen gwernol ha habit hack hacked hacker hadnt haggard haha hahah hahaha hahahaha hahahahaha hahahahahahahaha hail hair hairy hal half halfway halfwit hall hamas hammer han hand handed handful handing handle handled handling handy hang hanging happen happend happened happening happens happily happy harass harassed harassing harassment hard hardcore harder hardliner hardly harm harmful harrasing harrassed harrassing harrassment harris harry harsh harvey hasbara hat hatchet hate hated hateful hater hating hatred haunt hav haven havent having havoc hawk hdayejr he head headed header heading headline headsup health healthy heap hear heard hearing hearsay heart heartfelt heat heated heaven heavily heavy hebrew heck hed hee heel heh hehe heil held helicopter hell hellenic hello helm help helped helpful helping here heritage hermit hero herodotus heshe hesitate hesperian heterosexual hey hi hid hidden hide hiding high higher highest highlight highlighted highly highway hijacked hilarious hill hindi hindu hinduism hint hinted hip hiphop hippie hire hisher hispanic hist historian historic historical historically history hit hitler hm hmm hmmm hmmmm ho hoax hoaxing hobby hoe hog hogwash hold holder holding hole holiday holier hollywood holocaust holodomor holy home homepage homer homework homie hominem homo homoerotic homophobe homophobia homophobic homosexual homosexuality honest honestly honesty honey honor honorable honour hoo hook hooked hop hope hopefully hopeless hoping hopping horde hormone horny horrible horribly horrid horror horse hospital host hostage hostile hostility hot hotel hound hour house howard hows hr httpenwikipediaorgwikiuser_talkbeagel httpenwikipediaorgwikiuser_talkepipelagic httpenwikipediaorgwikiuser_talkjohnfosthe_signpost__october_ httpenwikipediaorgwikiuser_talklawrencekhoo hue hug huge huh human humanity humble humiliated humiliating humility humor humorous humour hundred hung hungarian hungry hunjan hunt hunter hunting hurricane hurry hurt hurting husband hustler hyphen hypocrisy hypocrite hypocritical hypothetical hysterical iam ian ibn ice icon id idea ideal identical identified identifies identify identifying identity ideological ideology idf idiocy idiot idiotic idle idly idoit ignorance ignorant ignorants ignore ignored ignores ignoring igor ii iii iirc il ilchee ill illegal illegals illegitimate illiterate illness illuminate illusion illustrate illustration illyriansorg ilovedirtbikes im ima image imaginary imagination imagine imagined imbecile imdb imho imma immaterial immature immaturity immediate immediately immigrant immigrated immoral immune imo impact impartial impartiality imperial imperialist impersonating impersonator implement implication implied implies imply implying impolite import importance important importantly impose imposed imposing impossible imposter impotent impress impressed impression impressive improper improve improved improvement improving impulse impunity inability inaccuracy inaccurate inane inappropriate inappropriately inbred incapable incest inch incident incidentally incite incivil incivility inclined include included includes including inclusion incoherent income incompetence incompetent incomplete inconsiderate inconsistent incorrect incorrectly increase increased increasing incredible incredibly incumbent indecent indef indefinite indefinitely independence independent index india indian indicate indicated indicates indicating indication indicative indicator indie indigenous indirectly indiscriminately individual indoctrinated indulge indulgent industry inequality inevitable inevitably infact infamous infantile infer inference inferior inferiority infinite inflammatory inflated influence influenced influx info infobox inform information informative informed informing infraction infrastructure infringement infuriating ing inhabitant inherent inherently inhuman initial initially initiated initiative injury injustice inner innocence innocent innuendo input inquiry insane insanity insecure insert inserted inserting insertion inside insider insight insignificant insipid insist insistence insistent insisting insists inspired instance instant instantly instead institute institution instructed instruction instrument insufferable insult insulted insulting intact integral integrity intellect intellectual intellectually intelligence intelligent intelligently intend intended intense intent intention intentional intentionally interaction intercourse interest interested interesting interestingly interface interfering internal international internationally internet interpret interpretation interpreted interpreting intervene intervention interview interviewed intimidate intimidated intimidation intolerant intro introduce introduced introduces introduction invade invaded invader invalid invasion invent invented invention inventor invest investigate investigated investigation invisible invite invited inviting invoking involve involved involvement involves involving iota ip iq ira iran iranian iranica iraq iraqi irc ireland irish iron ironic ironically irony irrational irrelevant irrelevent irrespective irresponsible irritating irs isbn islam islamic islamist islamophobia island isle isnt isp israel israeli issue issued issuing italian italic italy itd item itll ive ix ja jack jackass jackie jackson jail jake james jamesbwatson jamie jan janet janitor january japan japanese jason jay jayjg jayron jd jdelanoy jealous jealousy jean jeez jeff jeffrey jehovah jenkins jenny jerk jerking jerkoff jerry jersey jerusalem jesus jew jewish jfdwolff jfk jihad jim jimbo jimbos jimini jimmy jo joan job joe john johnny johnphos johnson join joined joining joint joke joker joking jolly jon jonathan jones jordan jose joseph josh josé journal journalism journalist journey joy jpgordon jr jsut judaism judge judged judgement judging judgment juice juicy jul july jump jumped jumping jun june junior junk jurisdiction jury jus just justice justifiable justification justified justify justifying justin juvenile jw jws ka kansa katrina keep keeping keith kelly ken kennedy kept kevin key keyboard khan khorasan ki kick kicked kicking kid kidding kiddo kiddy kidnapped kike kill killed killer killing kim kind kinda kindergarten kindly kindness king kingdom kinky kirk kiss kissing kitchen kite kitten kkk klan klux knee knew knife knight knock knocking knol know knowing knowingly knowledge knowledgeable known knuckle ko kook koran korea korean korn kosher kosovo kshatriya ku kurd kurdish kurdistan kurt kuru kww kyle la lab label labeled labeling labelled labelling labor laborer lack lacking lad laden lady lager laid lake lamb lame lancashire land landed language lanka large largely larger largest larry laser lastly late lately later latest latin latino latitude laugh laughable laughably laughing laughter launch law lawrencekhoo lawsuit lawyer lay laziness lazy le lead leader leadership leading leaf league leak leap learn learned learning learnt leave leaving lebanese lebanon lecture lectured lecturing led lee left leftist leftwing leg legacy legal legally legend legendary legion legislation legit legitimate lend length lengthy leno lesbian lesser lesson lest let letter letting level levy lewis lgagnon lgbt liar libel libelous liberal liberate liberation liberator liberty library licence license lick licking lie lied lieing life lifestyle lifetime lift light lighten lighter like liked likely likewise liking lil limit limitation limited limiting line lineage linear linguist linguistic link linked linkin linking lion lip lisa list listed listen listened listening listing lit literacy literal literally literate literature littered little live lived livelihood living ll llama lmao load loaded lobby lobbyist local located location lock locked locking lofton log logged logic logical logically logo lol london lonely long longer longest longitude longterm look looked lookin looking loony loophole loose looser lord lose loser loses losing loss lost lot loud lousy love loved lovely lover loving low lower lowest lowlife loyal loyalist lucas lucid luck lucky lucy ludicrous luke lulu lulz lump lunatic lunch lust luv lying lynch lyric ma mabye mac macedonia macedonian machine mad madchen maddox madness madrid mafia mag magazine maggot magic magnet magnificent mah maid mail main mainly mainstream maintain maintaining major majority majorly make maker makin making malaysia male malice malicious malignant mall malta mama man manage managed manager manchu mandate maniac manifest manifestly manipulate manipulated manipulating manipulation manipulative mankind manner manual manually map mar maratha marc march marcus mardyks margin maria marie marijuana marine mark marked market marking marriage married marry martin marx marxist mary mask mason mass massachusetts massacre massive massively master masturbate masturbating masturbation mat match matching mate material math mathematical mathematician matt matter mature maturity max maya mayanists maybe mayor mc mccain mcdonalds meal mean meaning meaningful meaningless meanspirited meant meantime measure meat meatpuppet meatpuppets mechanic mechanism med mediation mediator medical medicine medieval mediocre mediocrity medium meet meeting megan mei mel melmac melodic melon member membership meme memo memory men menace menacing ment mental mentality mentally mentaly mention mentioned mentioning mercy mere merely merge merged merging merit merkey merry mess message messed messenger messiah messing mestizo met metal metaphor method methodology metric metro metropolitan mexican mexico mf mfd mi miami michael michelle michigan microsoft mid middle midwest mighty mike mild mile militant military miller million milo mind minded mindless minimal minimize minimum minion minister ministry minor minority minute minutia mirror misc misconception misconstrued miserable misguided misinformation misinformed misinterpretation misinterpreted misleading misquoting misrepresent misrepresentation misrepresented misrepresenting miss missed missing mission missionary mistake mistaken mister misunderstand misunderstanding misunderstood misuse mix mixed mixing mo moaning mob mobile mock mod model modem moderate moderator modern modification modifying modus mohammed molested molester molesting mom moment momma mommy monday money mongo mongol mongolia mongrel monitor monitored monitoring monkey monster montana month mood moon moore moot mop moral morale moralistic morality morally mormon morning moron moronic moscow moses mother motherfucker motherfucking motherland mothjer motif motion motivated motivation motive motor mountain mouse mouth mouthed move moved movement movie moving mozart mp mr msg msn mt mtf mtv mud muhammad mulatto mule multiple multiply multiracial multitude mum mummy muppet murder murdered murderer murdering murderous murphy museum music musical musician muslim mutha mutilation mutt mutual mutually muzemike mvp myspace mystery myth mythology na nad nah nail nair nairs naive naked nambla name namecalling named naming nancy nandesuka napoleon narrative narrow narrowminded nash nasty natalie nation national nationalism nationalist nationalistic nationality native nato natural naturally nature naughty nauseum nawlinwiki nazi nazism nb nba nd ndp ne near nearest nearly necessarily necessary necessity neck need needed needing needle needlessly negative negatively neglected negotiation negro neighbor neighborhood neil nelson neo neoconservative neologism neonazi neonazis nerd nerdy nerve nervosa net netaji netherlands network neutral neutrality neutrally nevermind new newbie newcomer newer newest newly news newspaper newsworthy nguyen nice nicely nick nickname nigeria nigga nigger night nightmare ninja nipple nitpicking nixer nk noah nob nobel noble noise nolife nom nominate nominated nominating nomination nominator non nonetheless nonexistent nongreek nonmuslim nonmuslims nonnotable nonscientific nonsense nonsensical noob nope nordic norm normal normally norman north northern norton norwegian nose nostril notability notable notably note noted noteworthy nothin notice noticeboard noticed notification notified notify noting notion notoriety notorious noun nov novel novelty november novice nowadays npa npov nuclear nude nuff nuisance number numbered numerous nursing nut nutcase nutjob nutshell nutter ny nyc oakland oath obama obamas obese obesity object objecting objection objective objectively objectivity obligation obnoxious obscene obscure observation observer observing obsessed obsession obsessive obsessively obstacle obtuse obvious obviously occasion occasional occasionally occupation occupied occupy occur occured occurred occurs ocd ocean oct october odd odds offence offend offended offender offending offends offense offensive offer offered offering offical office officer official officially offspring offtopic oh ohio ohnoitsjamie oi oil ok okay ol old older oldest olive om omega omg omnigan one oneday onesided ongoing online ooh oooh ooooooh oops op open opened opening openly opera operandi operate operating operation operational operator opinion opinionated opponent opportunity oppose opposed opposes opposing opposite opposition oppress oppressed oppression ops optimism optimistic option optional oral orange order ordered ordinary oregon oreilly organ organisation organization organize organized orgasm orgy orientation origin original originally originated orleans orthodox orton orwellian osama oscar ossetia oswald ot ott ottoman ou ought outburst outcome outing outlandish outline outrage outraged outrageous outright outside outta overall overboard overlap overly overreacted oversight overweight overwhelming overzealous owned owner ownership owns oxford oxygen pa pace pacific pack package paedophile paedophilia pagan paganism page paid pain painful painfully paint painting pair pakistan pakistani pal pale palestine palestinian palin palmer panic pant panty paper par para parade paradise paragraph parallel paranoia paranoid pardon parent paris park parker parliament parody parrot part partial partially participant participate participation particular particularly partisan partly partner party pas pashtun pass passage passed passing passion passport past paste pasted pasting pat patent patently path pathetic patience patient patrick patriot patriotic patrol patronising pattern patting paul pause pay paying pb pc peace peaceful peacefully peasant peculiar pedantic pedia pedigree pedophile pedophilia pee peel peep peer peerreviewed peewee peice pejorative pen penalty pencil pending penis penn pennsylvania penny people perceive perceived percent percentage perception perfect perfectly perfidious perform performance performed performer performing performs peril period permanent permanently permission permit perpetrated perpetrator perpetually perpetuate perpetuating persecuted persecution persian persist persistant persistence persistent person personal personality personally personnel perspective persuade pertain pertaining pertinent perverse pervert perverted pest pestering pet pete peter petty phantom phase phd phelps phenomenon phil philip philippine philosopher philosophy phobia phoenix phone phony photo photograph photographed photography phrase phrased phrasing physic physical physically physician physicist piano pic pick picked picking picture pie piece pig pile pillar pilot pimp pin pinch pink pint pipe pira pirate piss pissed pissing pistol pit pitiful pity pizza place placed placing plague plain plainly plan plane planet planned planning plant plastic platform play played player playground playing pleasant pleased pleasure plenty plot pls plunder plus plz pm po pocket pod poem poet poetry point pointed pointing pointless poised poison poke poland pole police policy polish polite politely political politically politician politics poll polluted pompous pond poo pool poop poor poorly pop popcorn pope popped popper popular popularity populated population porn porno pornographic pornography port portal portion portrait portray portrayal portrayed portugal portuguese pose posed position positive posse possibility possible possibly post posted poster posting pot potato potential potentially potter pound pour poured pov povpushing povs power powerful powerhungry powermad pp ppl pps pr practical practically practice practicing praise praised praising prank prat pray prayer preach precedent preceding precious precise precisely predator preemptive prefer preference preferred prefers pregnancy pregnant prejudice prejudiced prejudicial premature premier premise prepare prepared preposterous prepubescent prerogative presence present presentation presented presenting presently preservation preserve preserved presidency president press pressed pressure presumably presume presumed pretend pretending pretentious pretty prevail prevent prevented preventing prevents previous previously price prick pride priest primarily primary prime prince princess principal principle print printed prior priority prison prisoner privacy private privilege privileged prize pro probably probaly probation problem problematic procedure proceed proceeded proceeding process proclaim proclaimed produce produced product production productive prof profane profanity profession professional professor profile profit program programme progress prohibit prohibited project prominent prominently promise promised promote promoted promotes promoting promotion promotional prompt promptly pronoun proof proove propaganda propagandist proper properly property prophecy prophet propol proponent proportion proposal propose proposed proposing prosecution prostitute prostitution protect protected protecting protection protector protest protestant protested protesting protibet protocol proud proudly prove proved proven provide provided provides providing province proving provocateur provocation provocative provoke provoked provoking proxy pschemp pseudo pseudoscience psychiatrist psychiatry psycho psychological psychologist psychology psychopath psychotic pubic public publically publication publicity publicly publish published publisher publishing puerto puff puke pull pulled pulling pulp pump pumpkin pun punch punish punished punishment punk puny puppet puppeteer puppetry puppy purchase pure purely purge purity purple purported purpose purposely pursue pursuing pursuit pus push pushed pusher pushing pussy put putting putz puzzle pwned px qaeda qing qualification qualified qualify quality queen queer query quest question questionable questioned questioning quick quicker quickly quiet quietly quit quite quotation quote quoted quoting quran rabbi rabbit rabid race racial racially racism racist radical radio raf rag rage raging raid railroad rain raise raised raising rajput rally rambling rampant ran randall random randomly randy range ranger rank ranking rant ranting rap rape raped rapidly raping rapist rapper rare rarely rat rate rating ratiocinative rational rationale raul raving raw rd reach reached react reacted reaction read readable readded reader reading ready real realise realised realistic reality realize realized realizing really realy reasearch reason reasonable reasonably reasoned reasoning rebbe rebel rebuttal recall reccomend receive received receiving recent recently recieved recieving reckless recognised recognition recognize recognized recommend recommended reconsider record recorded recording recreate recruit recruitment rectify rectum red redacted redemption rediculous redirect redirected redirecting redirects redneck reduce reduced redundant redvers reediting ref refer reference referenced referencing refering referred referring refers reflect reflected reflection reflects reform refrain refugee refusal refuse refused refusing refutation refute refuted reg regard regarded regarding regardless regime region regional register registered registration regret regular regularly regulation reich reign reinstate reinstated reiterate reject rejected rejecting rejection relate related relates relating relation relationship relative relatively relax release released relevance relevant relevent reliability reliable reliably relies religion religious rely relying remain remained remaining remains remark remeber remember remembered remind reminded reminds remotely removal remove removed removing renamed render renewed repeat repeated repeatedly repeating repetition repetitive replace replaced replacement replacing replied reply replying reponse report reported reportedly reporter reporting repost represent representative represented representing represents repression reproduction republic republican repugnant repulsive reputable reputation request requested requesting require required requirement requires requiring reread rescue research researched researcher researching resembling reserve reset resident resign resist resistance resolution resolve resolved resort resorted resource respect respectable respected respectful respectfully respecting respective respond responded responding responds response responsibility responsible rest restaurant restoration restore restored restoring restricted restriction result resulted resulting resume retaliation retard retarded retarted retentive rethink retire retired retirement retract retracted retrieved return returned returning rev reveal revealed revealing reveals revel revelation revenge revered reverse reversing reversion revert reverted reverting reverts review reviewed reviewer revised revision revisionism revisionist revived revoke revoked revolting revolution revolutionary revolve reward rewarding rewrite rewriting rfa rfas rfc rhetoric rhetorical rhyme riana rican rice rich richard rickk rid riddled ride ridicilous ridicule ridiculed ridiculous ridiculously riff rifle rig right righteous rightly rightwing ring riot rip ripped rise risk ritual rival river road rob robe robert robin robinson robot robs rock rocket rod rodhullandemu rofl roflmao roger rogue role roll rolled rolling roman romania romanian rome ron ronald room root rope rose roskam roster rot roti rotten rotting round rounded route routine roy royal rpg rr rub rubber rubbish rude rudely rudeness rugby ruin ruined ruining rule ruled ruler ruling rumor rumour run running rush russell russia russian rv rw ryan ryulong sa sabotage sack sacred sacrifice sacrificed sad saddened sadder saddo sadism sadistic sadly safavids safe safety said sake salam sale saloncom salt salute salvio sam samesex samev sample samuel san sanchez sanctimonious sanction sanctioned sand sandbox sandwich sane sanger sanity sanskrit santa sarah sarcastic sat satan satanic satanism satellite satisfaction satisfied satisfy saturday sauce saudi savage save saved saving savior saw say saying scale scam scan scandal scandalous scapegoat scare scared scary scenario scene schedule scheme schizophrenia schizophrenic schmuck scholar scholarly scholarship school schoolyard schumin science scientific scientifically scientist scientology scjessey scope score scotland scott scottish scox scrap scratch scream screaming screen screw screwed screwing script scroll scrotum sculpture scum scumbag scumbags scummy sd se sea seal sean search searched searching season seat seattle seb second secondary secondly secret sect section sector secular secure security see seed seeing seek seeking seemingly seen segment select selected selection selective self selfappointed selfesteem selfhating selfidentified selfimportance selfimportant selfish selfproclaimed selfrighteous selfserving sell selling semen semi semite semitic senator send sending sends senior sens sense senseless sensibility sensible sensitive sensitivity sent sentence sentiment separate separated separatist seperate september serb serbia serbian serf serial series seriously seriousness sermon servant serve served server service serving session set setting settle settled settlement setup seven severe severely severity sewer sex sexist sexual sexuality sexually sexy sh shade shadow shah shakespeare shall shallow shalom sham shame shameful shameless shape shaped share shared sharing sharp sharpton shave shed sheep sheer sheesh sheet shelf shell shelter shenanigan shepherd shes shia shield shift shii shill shine shining ship shirt shit shithead shithole shitload shitting shitty shock shocked shocking shoe shoot shooting shop shopping short shortcut shortened shorter shortly shot shotgun shoulder shouldnt shouldve shout shouting shove shoved show showed shower showing shown shrug sht shut shutting shyt sic sick sickening side sided sieg sigh sight sign signal signature signed significance significant significantly signing sikh silence silenced silent silliness silly silver similar similarity similarly similiar simon simple simpleminded simplified simply simpson simultaneously sin sina sincerely sing singer singh singing single singled singlefile sings sinn sipping sir sissy sister sit site sits sitting situation sitush sixteen sixth size skeptic skill skin skinny skip skirt skull sky slander slandering slanderous slang slant slap slapped slapping slash slaughtered slav slave slavery slavic sleep slept sliding slight slightest slightly slim slime slimvirgin slimy slip slit slogan sloppy slovak slow slowly slur slut slutty sm small smaller smart smarta smarter smartest smash smashed smear smearing smell smelly smile smith smoke smoker smoking smooth smug snake snap sneaky snide snitch snivelling snorting snot soap sob sober socalled soccer social socialism socialist socially society sociopath sock sockpuppet sockpuppeting sockpuppetry sockpuppets sod sodomite soft software soil sold soldier sole solely solicitation solid solution solve solved som somebody someday someone somethings someting somewhat somone son song sonofabitch sony soon sooner sooo sooooo sore sorry sort sought soul sould sound sounded sounding soup source sourced sourcing south southern soviet space spade spain spam spammer spamming span spaniard spanish spanked spare spastic speak speaker speaking speaks spear special specialist specially specie specific specifically specify speculated speculation speculative speech speed speedily speedy spell spelled spelling spend spending spends spent spi spill spin spinning spiral spirit spit spite spiteful spitting split spoiled spoiler spoke spoken sponsored sport spot spotted spouted spouting spread spreading spree spring spui spun spurious spy squad square squeakbox squeeze sri st stab stadium staff stage stair stake stalin stalk stalker stalking stamp stance stand standard standing star stark start started starter starting starve state stated statement static stating station statistic statistical statments stats statue status stay stayed staying steal stealing stealth steaming steel step stephen stereotype stereotypical stern steve steven stewart stfu stick sticking stifle stink stinking stinky stir stirring stitler stock stolen stomach stomp stone stoned stood stop stopped stopping store stored storm story straight straightforward strange strangely stranger strategy straw strawman stream street strength stress stretch stretched strict strictly strike string stripped stripper strive striving stroke strom strong stronger strongest strongly struck structure structured struggle stuart stub stubborn stuck student studied studio study studying stuff stuffed stumbled stupid stupidest stupidity stupidly style su subculture subhuman subject subjected subjective submission submit submitted subscribe subsection subsequent subsequently substance substantial substantially substantive subtle subtly subtract succeed succeeded success successful successfully suck sucked sucker sucking sudden suddenly sue sued suffer suffered suffering suffers suffice sufficient sufficiently sugar suggest suggested suggesting suggestion suggestive suggests suicide suit suitability suitable suited sum summarise summarizing summary summer summons sun sunday sundry sunni sunrise super superficial superior supervise supplied supply support supported supporter supporting supportive suppose supposed supposedly suppress suppression supremacist supremacy supreme supress suprise sure surely surface surfaced surgery surname surprise surprised surprising surrounded surrounding survey survive surviving susan suspect suspected suspended suspicion suspicious swallow swastika swear swearing swears swedish sweet sweetheart swept swift swine swing switched sword sycophant sydney symbol sympathetic sympathize sympathy syndrome synonym synopsis synthesis syria syriac sysop system systematic systematically systemic ta tab table tabloid tabtab tactic tactical tad tag tagged tagging tagteam taht tail tajik take taken taker taking tale talent taliban talk talkback talkcontribs talked talkemail talkin talking talkpage tall talmud tamil tampering tan tandem tank tantrum tao tape taran tard target targeted targeting tariq tasc task taste tasty taught tax tc tcc te tea teach teacher teaching team teaming tear tease tech technical technically technique technocracy technology ted tedious teen teenage teenager teeth teh television tell telling temper template temple temporarily temporary tempted ten tend tendency tendentious tends tennis term terminator terminology terri terrible terribly terrifying territory terror terrorism terrorist test testicle testified testimony testing texas text textbook th tha thai thank thankful thankfully thanks thankyou thatcher thatd thatll thats theatre thee theft theirs theme themself theology theorized theory ther there theresa thesis theyd theyll theyre theyve thief thier thing think thinker thinking thirdly thirty tho thomas thompson thorough thoroughly thou thought thousand thread threat threaten threatened threatening threatens threating threesome threw throat throw throwing thrown thrust thug thuggish thursday thx ti tibetan ticket ticking tidbit tide tie tied tiger tight til tilde till tim time timeline tiny tip tipler tirade tire tired tireless tissue tit titanic title titled tito titty tm tna today todd todo toe toilet token told tolerance tolerate tolerated tom tomb tome tomorrow ton tone tongue tonight tony took tool toot tooth topic tor torah toronto torture toss tossed tosser tossing total totalitarian totally totaly touch touched tough tourist tournament tower town toxic toy trace traced track tracking tract trade tradition traditional traffic tragedy trail train trained training trait traitor tralala tramp trampled tranny transcript transgender transgendered transition translate translated translation transparent transsexual trap trash trashy travel travelling travesty travis tread treat treated treating treatment treaty tree trek tremendous trench trend trial tribal tribe tribute trick tricked tried trigger trinity trip triple trite trivia trivial troll trolling trollish troop trouble troubled troublemaker tru truck true truely truly trust trusted trustworthy truth truthful try trying tshirts tt tuesday turd turk turkey turkic turkish turn turned turner turning tutorial tv twat twice twin twist twisted twisting twit tyler type typed typical typically typing typo tyranny tyrant ugh ugliest ugly uh uk ukrainian ulterior ultimate ultimately ultimatum ultra um unable unacceptable unarmed unattractive unauthorized unaware unbalanced unban unbelievable unbelievably unbiased unblock unblocked unblocking uncalled uncertain unchecked uncited uncivil uncle unclear uncomfortable unconfirmed unconscious unconstructive undeleted undeniable underage undergone underground underlying undermine undermines underneath understand understandable understanding understands understood undertake undesired undid undisputed undo undoing undoubtedly undue unduly uneducated unemployed unencyclopedic unethical unfair unfairly unfamiliar unfortunate unfortunately unfounded unfriendly unhappy unhelpful unification uniform unike unilateral unintelligent unintentionally uninvolved union unique unit unite united universal universe university unjustified unknown unless unlike unlikely unlock unlocked unnecessarily unnecessary unneeded unnotable unofficial unorthodox unpleasant unprofessional unprotect unqualified unreasonable unreferenced unrelated unreliable unresolved unsigned unsolicited unsourced unstable unsubstantiated unsuccessful unsupported unthinking untill unto untrue untruth unusual unverifiable unverified unwanted unwarranted unwelcome unwilling unworthy upa update updated uphold upload uploaded uploading upper uprising upset upton ur urdu urge urine url urself us usa usage use used useful useing useless user userbox userboxes username usernames userpage userpages userspace usertalk using ussr usual usually utc utmost utter uttered utterly vacation vacuum vadalizing vagina vaginal vague vaguely vain valid validate validity valley valuable value van vandal vandalcoddling vandalise vandalised vandalising vandalism vandalize vandalized vandalizing vandalsim vandelism vandilism vandlism vanity variable variation variety various vassal vast vastly ve vegan vegetarian vehicle veiled velocity vendetta vengeance venom vent venue verb verbal verbally verbatim verifiability verifiable verifiably verification verified verify verse version versus veryverser vested veteran vfd vhp vice vicious victim victoria victorian victory video vietnam view viewed viewer viewing viewpoint vile village vindictive vindictiveness violate violated violates violating violation violence violent violently virgin virginia virtual virtually virtue virus visible vision visit visited visiting visitor vital vitriolic viva vocabulary vocal voice voicing volume voluntarily volunteer vomit von vote voted voter voting voyer vt vulnerable wacko wade wage waggers wait waiting wake wale walk walked walker walking wall walmart walt walter wank wanker wanking wanna wannabe wannabee want wanted wanting war ward warden warfare warhead warm warming warn warned warning warrant warranted warring warrior wary wash washed washing washington wasnt wasp waste wasted wasting wat watch watched watching watchlist water watermelon wave waving way wayne wayward weak weakling weakness wealth weapon wear wearing weasel weather web webpage website wed weed week weekend weep weigh weight weiner weird welcome welcomed welfare wellintentioned wellknown wellrespected went werent wessely west western wet wether weve whack whale whats whatsoever wheel wheres whichever whihc whilst whim whine whining whiny whipping white whitewash whitewashed whitewashing who whoa wholly whoop whoopee whore wicked wid wide widely widespread wierd wife wik wikepedia wiki wikia wikiality wikibreak wikid wikidick wikimedia wikinazi wikinews wikipage wikipedia wikipediaarticles wikipedian wikipedians wikipediarequests wikipedias wikipediasockpuppet wikipediasuspected wikipeida wikipeidia wikiproject wikis wikistalked wikistalking wikpedia wil wild wildly willful william williams willing willy win wind window wing winner winning winston winter wipe wiped wiping wire wisdom wise wish wished wishing wit witch withdraw withdrawn witness witnessed wll wm wnat wobbs wolfkeeper wolfowitz woman won wonder wonderful wondering wont wood word worded wording wore work worked worker working workshop world worldwide worm worn worried worry worrying worse worship worst worth worthless worthwhile worthy wouldnt wouldve wound wow wp wpagf wpani wpblp wpbold wpcivil wpcivility wpcoi wpnor wpnpa wpnpov wpor wpown wppoint wprr wprs wpspi wpundue wpv wqa wr wrapped wrath wreak wrestlemania wrestler wrestling wright write writer writes writing written wrong wrongdoing wrongful wrongfully wrongly wrote wtf wth ww wwe wwi wwii xbox xd xenophobia xtian xxx xxxx ya yada yah yahoo yall yamla yank yankee yard yay ybm ye yea yeah year yearold yell yellow yep yer yes yesterday yknow yo york youd youi youll young younger youre youth youtube youve yr yu yugoslavia yup yur zeal zealous zero zhanzhao zion zionism zionist zip zoe zoey zombie zomg zone δbutler\n"
     ]
    }
   ],
   "source": [
    "cnt_vec = CountVectorizer(min_df=3)\n",
    "X_test = cnt_vec.fit_transform(X_test).toarray()\n",
    "X_train = cnt_vec.transform(X_train).toarray()\n",
    "\n",
    "get_logger(VERSION).info(f\"X_train shape: {X_train.shape}\")\n",
    "get_logger(VERSION).info(f\"X_test shape: {X_test.shape}\")\n",
    "get_logger(VERSION).info(' '.join(cnt_vec.get_feature_names()))"
   ]
  },
  {
   "cell_type": "code",
   "execution_count": 25,
   "id": "2944d252",
   "metadata": {
    "execution": {
     "iopub.execute_input": "2021-11-25T15:35:48.719885Z",
     "iopub.status.busy": "2021-11-25T15:35:48.719086Z",
     "iopub.status.idle": "2021-11-25T15:35:49.923015Z",
     "shell.execute_reply": "2021-11-25T15:35:49.923538Z",
     "shell.execute_reply.started": "2021-11-25T14:22:08.759891Z"
    },
    "papermill": {
     "duration": 1.262452,
     "end_time": "2021-11-25T15:35:49.923716",
     "exception": false,
     "start_time": "2021-11-25T15:35:48.661264",
     "status": "completed"
    },
    "tags": []
   },
   "outputs": [
    {
     "name": "stdout",
     "output_type": "stream",
     "text": [
      "162\n",
      "16\n"
     ]
    }
   ],
   "source": [
    "# 特徴量の値がすべて0になったサンプルの数を確認\n",
    "print(sum(X_train.sum(axis=1)==0))\n",
    "print(sum(X_test.sum(axis=1)==0))"
   ]
  },
  {
   "cell_type": "code",
   "execution_count": 26,
   "id": "48339132",
   "metadata": {
    "execution": {
     "iopub.execute_input": "2021-11-25T15:35:50.049218Z",
     "iopub.status.busy": "2021-11-25T15:35:50.048504Z",
     "iopub.status.idle": "2021-11-25T15:36:02.529514Z",
     "shell.execute_reply": "2021-11-25T15:36:02.530035Z",
     "shell.execute_reply.started": "2021-11-25T14:22:09.898675Z"
    },
    "papermill": {
     "duration": 12.553856,
     "end_time": "2021-11-25T15:36:02.530210",
     "exception": false,
     "start_time": "2021-11-25T15:35:49.976354",
     "status": "completed"
    },
    "tags": []
   },
   "outputs": [
    {
     "data": {
      "text/html": [
       "<style type=\"text/css\">\n",
       "#T_3ec2e_row0_col2 {\n",
       "  width: 10em;\n",
       "  height: 80%;\n",
       "  background: linear-gradient(90deg,#205ff2 100.0%, transparent 100.0%);\n",
       "}\n",
       "#T_3ec2e_row1_col2 {\n",
       "  width: 10em;\n",
       "  height: 80%;\n",
       "  background: linear-gradient(90deg,#205ff2 42.7%, transparent 42.7%);\n",
       "}\n",
       "#T_3ec2e_row2_col2 {\n",
       "  width: 10em;\n",
       "  height: 80%;\n",
       "  background: linear-gradient(90deg,#205ff2 22.9%, transparent 22.9%);\n",
       "}\n",
       "#T_3ec2e_row3_col2 {\n",
       "  width: 10em;\n",
       "  height: 80%;\n",
       "  background: linear-gradient(90deg,#205ff2 19.8%, transparent 19.8%);\n",
       "}\n",
       "#T_3ec2e_row4_col2 {\n",
       "  width: 10em;\n",
       "  height: 80%;\n",
       "  background: linear-gradient(90deg,#205ff2 7.6%, transparent 7.6%);\n",
       "}\n",
       "#T_3ec2e_row5_col2 {\n",
       "  width: 10em;\n",
       "  height: 80%;\n",
       "  background: linear-gradient(90deg,#205ff2 7.1%, transparent 7.1%);\n",
       "}\n",
       "#T_3ec2e_row6_col2 {\n",
       "  width: 10em;\n",
       "  height: 80%;\n",
       "  background: linear-gradient(90deg,#205ff2 5.0%, transparent 5.0%);\n",
       "}\n",
       "#T_3ec2e_row7_col2 {\n",
       "  width: 10em;\n",
       "  height: 80%;\n",
       "  background: linear-gradient(90deg,#205ff2 3.6%, transparent 3.6%);\n",
       "}\n",
       "#T_3ec2e_row8_col2 {\n",
       "  width: 10em;\n",
       "  height: 80%;\n",
       "  background: linear-gradient(90deg,#205ff2 3.0%, transparent 3.0%);\n",
       "}\n",
       "#T_3ec2e_row9_col2 {\n",
       "  width: 10em;\n",
       "  height: 80%;\n",
       "  background: linear-gradient(90deg,#205ff2 2.9%, transparent 2.9%);\n",
       "}\n",
       "#T_3ec2e_row10_col2 {\n",
       "  width: 10em;\n",
       "  height: 80%;\n",
       "  background: linear-gradient(90deg,#205ff2 2.6%, transparent 2.6%);\n",
       "}\n",
       "#T_3ec2e_row11_col2, #T_3ec2e_row12_col2 {\n",
       "  width: 10em;\n",
       "  height: 80%;\n",
       "  background: linear-gradient(90deg,#205ff2 2.2%, transparent 2.2%);\n",
       "}\n",
       "#T_3ec2e_row13_col2 {\n",
       "  width: 10em;\n",
       "  height: 80%;\n",
       "  background: linear-gradient(90deg,#205ff2 2.0%, transparent 2.0%);\n",
       "}\n",
       "#T_3ec2e_row14_col2, #T_3ec2e_row15_col2, #T_3ec2e_row16_col2 {\n",
       "  width: 10em;\n",
       "  height: 80%;\n",
       "  background: linear-gradient(90deg,#205ff2 0.8%, transparent 0.8%);\n",
       "}\n",
       "#T_3ec2e_row17_col2, #T_3ec2e_row18_col2, #T_3ec2e_row19_col2, #T_3ec2e_row20_col2 {\n",
       "  width: 10em;\n",
       "  height: 80%;\n",
       "  background: linear-gradient(90deg,#205ff2 0.7%, transparent 0.7%);\n",
       "}\n",
       "#T_3ec2e_row21_col2, #T_3ec2e_row22_col2 {\n",
       "  width: 10em;\n",
       "  height: 80%;\n",
       "  background: linear-gradient(90deg,#205ff2 0.6%, transparent 0.6%);\n",
       "}\n",
       "#T_3ec2e_row23_col2 {\n",
       "  width: 10em;\n",
       "  height: 80%;\n",
       "  background: linear-gradient(90deg,#205ff2 0.5%, transparent 0.5%);\n",
       "}\n",
       "#T_3ec2e_row24_col2, #T_3ec2e_row25_col2, #T_3ec2e_row26_col2 {\n",
       "  width: 10em;\n",
       "  height: 80%;\n",
       "  background: linear-gradient(90deg,#205ff2 0.4%, transparent 0.4%);\n",
       "}\n",
       "#T_3ec2e_row27_col2, #T_3ec2e_row28_col2, #T_3ec2e_row29_col2, #T_3ec2e_row30_col2, #T_3ec2e_row31_col2, #T_3ec2e_row32_col2 {\n",
       "  width: 10em;\n",
       "  height: 80%;\n",
       "  background: linear-gradient(90deg,#205ff2 0.3%, transparent 0.3%);\n",
       "}\n",
       "#T_3ec2e_row33_col2, #T_3ec2e_row34_col2, #T_3ec2e_row35_col2, #T_3ec2e_row36_col2, #T_3ec2e_row37_col2, #T_3ec2e_row38_col2 {\n",
       "  width: 10em;\n",
       "  height: 80%;\n",
       "  background: linear-gradient(90deg,#205ff2 0.1%, transparent 0.1%);\n",
       "}\n",
       "#T_3ec2e_row39_col2 {\n",
       "  width: 10em;\n",
       "  height: 80%;\n",
       "}\n",
       "</style>\n",
       "<table id=\"T_3ec2e_\">\n",
       "  <thead>\n",
       "    <tr>\n",
       "      <th class=\"blank level0\" >&nbsp;</th>\n",
       "      <th class=\"col_heading level0 col0\" >X_train_feature_mean</th>\n",
       "      <th class=\"col_heading level0 col1\" >X_test_feature_mean</th>\n",
       "      <th class=\"col_heading level0 col2\" >lift</th>\n",
       "    </tr>\n",
       "  </thead>\n",
       "  <tbody>\n",
       "    <tr>\n",
       "      <th id=\"T_3ec2e_level0_row0\" class=\"row_heading level0 row0\" >nipple</th>\n",
       "      <td id=\"T_3ec2e_row0_col0\" class=\"data row0 col0\" >0.106317</td>\n",
       "      <td id=\"T_3ec2e_row0_col1\" class=\"data row0 col1\" >0.000796</td>\n",
       "      <td id=\"T_3ec2e_row0_col2\" class=\"data row0 col2\" >133.552195</td>\n",
       "    </tr>\n",
       "    <tr>\n",
       "      <th id=\"T_3ec2e_level0_row1\" class=\"row_heading level0 row1\" >heil</th>\n",
       "      <td id=\"T_3ec2e_row1_col0\" class=\"data row1 col0\" >0.038860</td>\n",
       "      <td id=\"T_3ec2e_row1_col1\" class=\"data row1 col1\" >0.000663</td>\n",
       "      <td id=\"T_3ec2e_row1_col2\" class=\"data row1 col2\" >58.577720</td>\n",
       "    </tr>\n",
       "    <tr>\n",
       "      <th id=\"T_3ec2e_level0_row2\" class=\"row_heading level0 row2\" >smell</th>\n",
       "      <td id=\"T_3ec2e_row2_col0\" class=\"data row2 col0\" >0.077919</td>\n",
       "      <td id=\"T_3ec2e_row2_col1\" class=\"data row2 col1\" >0.002388</td>\n",
       "      <td id=\"T_3ec2e_row2_col2\" class=\"data row2 col2\" >32.626622</td>\n",
       "    </tr>\n",
       "    <tr>\n",
       "      <th id=\"T_3ec2e_level0_row3\" class=\"row_heading level0 row3\" >youi</th>\n",
       "      <td id=\"T_3ec2e_row3_col0\" class=\"data row3 col0\" >0.022768</td>\n",
       "      <td id=\"T_3ec2e_row3_col1\" class=\"data row3 col1\" >0.000796</td>\n",
       "      <td id=\"T_3ec2e_row3_col2\" class=\"data row3 col2\" >28.600447</td>\n",
       "    </tr>\n",
       "    <tr>\n",
       "      <th id=\"T_3ec2e_level0_row4\" class=\"row_heading level0 row4\" >spanish</th>\n",
       "      <td id=\"T_3ec2e_row4_col0\" class=\"data row4 col0\" >0.048293</td>\n",
       "      <td id=\"T_3ec2e_row4_col1\" class=\"data row4 col1\" >0.003848</td>\n",
       "      <td id=\"T_3ec2e_row4_col2\" class=\"data row4 col2\" >12.551135</td>\n",
       "    </tr>\n",
       "    <tr>\n",
       "      <th id=\"T_3ec2e_level0_row5\" class=\"row_heading level0 row5\" >anal</th>\n",
       "      <td id=\"T_3ec2e_row5_col0\" class=\"data row5 col0\" >0.037864</td>\n",
       "      <td id=\"T_3ec2e_row5_col1\" class=\"data row5 col1\" >0.003184</td>\n",
       "      <td id=\"T_3ec2e_row5_col2\" class=\"data row5 col2\" >11.890777</td>\n",
       "    </tr>\n",
       "    <tr>\n",
       "      <th id=\"T_3ec2e_level0_row6\" class=\"row_heading level0 row6\" >atheist</th>\n",
       "      <td id=\"T_3ec2e_row6_col0\" class=\"data row6 col0\" >0.029444</td>\n",
       "      <td id=\"T_3ec2e_row6_col1\" class=\"data row6 col1\" >0.003184</td>\n",
       "      <td id=\"T_3ec2e_row6_col2\" class=\"data row6 col2\" >9.246643</td>\n",
       "    </tr>\n",
       "    <tr>\n",
       "      <th id=\"T_3ec2e_level0_row7\" class=\"row_heading level0 row7\" >di</th>\n",
       "      <td id=\"T_3ec2e_row7_col0\" class=\"data row7 col0\" >0.009715</td>\n",
       "      <td id=\"T_3ec2e_row7_col1\" class=\"data row7 col1\" >0.001327</td>\n",
       "      <td id=\"T_3ec2e_row7_col2\" class=\"data row7 col2\" >7.322215</td>\n",
       "    </tr>\n",
       "    <tr>\n",
       "      <th id=\"T_3ec2e_level0_row8\" class=\"row_heading level0 row8\" >cocksucking</th>\n",
       "      <td id=\"T_3ec2e_row8_col0\" class=\"data row8 col0\" >0.010512</td>\n",
       "      <td id=\"T_3ec2e_row8_col1\" class=\"data row8 col1\" >0.001592</td>\n",
       "      <td id=\"T_3ec2e_row8_col2\" class=\"data row8 col2\" >6.602510</td>\n",
       "    </tr>\n",
       "    <tr>\n",
       "      <th id=\"T_3ec2e_level0_row9\" class=\"row_heading level0 row9\" >wanker</th>\n",
       "      <td id=\"T_3ec2e_row9_col0\" class=\"data row9 col0\" >0.025857</td>\n",
       "      <td id=\"T_3ec2e_row9_col1\" class=\"data row9 col1\" >0.003980</td>\n",
       "      <td id=\"T_3ec2e_row9_col2\" class=\"data row9 col2\" >6.496119</td>\n",
       "    </tr>\n",
       "    <tr>\n",
       "      <th id=\"T_3ec2e_level0_row10\" class=\"row_heading level0 row10\" >hitler</th>\n",
       "      <td id=\"T_3ec2e_row10_col0\" class=\"data row10 col0\" >0.046599</td>\n",
       "      <td id=\"T_3ec2e_row10_col1\" class=\"data row10 col1\" >0.007695</td>\n",
       "      <td id=\"T_3ec2e_row10_col2\" class=\"data row10 col2\" >6.055448</td>\n",
       "    </tr>\n",
       "    <tr>\n",
       "      <th id=\"T_3ec2e_level0_row11\" class=\"row_heading level0 row11\" >poop</th>\n",
       "      <td id=\"T_3ec2e_row11_col0\" class=\"data row11 col0\" >0.024794</td>\n",
       "      <td id=\"T_3ec2e_row11_col1\" class=\"data row11 col1\" >0.004511</td>\n",
       "      <td id=\"T_3ec2e_row11_col2\" class=\"data row11 col2\" >5.496263</td>\n",
       "    </tr>\n",
       "    <tr>\n",
       "      <th id=\"T_3ec2e_level0_row12\" class=\"row_heading level0 row12\" >lifetime</th>\n",
       "      <td id=\"T_3ec2e_row12_col0\" class=\"data row12 col0\" >0.003637</td>\n",
       "      <td id=\"T_3ec2e_row12_col1\" class=\"data row12 col1\" >0.000663</td>\n",
       "      <td id=\"T_3ec2e_row12_col2\" class=\"data row12 col2\" >5.482274</td>\n",
       "    </tr>\n",
       "    <tr>\n",
       "      <th id=\"T_3ec2e_level0_row13\" class=\"row_heading level0 row13\" >robert</th>\n",
       "      <td id=\"T_3ec2e_row13_col0\" class=\"data row13 col0\" >0.010579</td>\n",
       "      <td id=\"T_3ec2e_row13_col1\" class=\"data row13 col1\" >0.001990</td>\n",
       "      <td id=\"T_3ec2e_row13_col2\" class=\"data row13 col2\" >5.315386</td>\n",
       "    </tr>\n",
       "    <tr>\n",
       "      <th id=\"T_3ec2e_level0_row14\" class=\"row_heading level0 row14\" >bush</th>\n",
       "      <td id=\"T_3ec2e_row14_col0\" class=\"data row14 col0\" >0.037897</td>\n",
       "      <td id=\"T_3ec2e_row14_col1\" class=\"data row14 col1\" >0.010084</td>\n",
       "      <td id=\"T_3ec2e_row14_col2\" class=\"data row14 col2\" >3.758276</td>\n",
       "    </tr>\n",
       "    <tr>\n",
       "      <th id=\"T_3ec2e_level0_row15\" class=\"row_heading level0 row15\" >rape</th>\n",
       "      <td id=\"T_3ec2e_row15_col0\" class=\"data row15 col0\" >0.050967</td>\n",
       "      <td id=\"T_3ec2e_row15_col1\" class=\"data row15 col1\" >0.013799</td>\n",
       "      <td id=\"T_3ec2e_row15_col2\" class=\"data row15 col2\" >3.693603</td>\n",
       "    </tr>\n",
       "    <tr>\n",
       "      <th id=\"T_3ec2e_level0_row16\" class=\"row_heading level0 row16\" >string</th>\n",
       "      <td id=\"T_3ec2e_row16_col0\" class=\"data row16 col0\" >0.004384</td>\n",
       "      <td id=\"T_3ec2e_row16_col1\" class=\"data row16 col1\" >0.001194</td>\n",
       "      <td id=\"T_3ec2e_row16_col2\" class=\"data row16 col2\" >3.671538</td>\n",
       "    </tr>\n",
       "    <tr>\n",
       "      <th id=\"T_3ec2e_level0_row17\" class=\"row_heading level0 row17\" >kshatriya</th>\n",
       "      <td id=\"T_3ec2e_row17_col0\" class=\"data row17 col0\" >0.001893</td>\n",
       "      <td id=\"T_3ec2e_row17_col1\" class=\"data row17 col1\" >0.000531</td>\n",
       "      <td id=\"T_3ec2e_row17_col2\" class=\"data row17 col2\" >3.567233</td>\n",
       "    </tr>\n",
       "    <tr>\n",
       "      <th id=\"T_3ec2e_level0_row18\" class=\"row_heading level0 row18\" >performance</th>\n",
       "      <td id=\"T_3ec2e_row18_col0\" class=\"data row18 col0\" >0.001395</td>\n",
       "      <td id=\"T_3ec2e_row18_col1\" class=\"data row18 col1\" >0.000398</td>\n",
       "      <td id=\"T_3ec2e_row18_col2\" class=\"data row18 col2\" >3.504650</td>\n",
       "    </tr>\n",
       "    <tr>\n",
       "      <th id=\"T_3ec2e_level0_row19\" class=\"row_heading level0 row19\" >aug</th>\n",
       "      <td id=\"T_3ec2e_row19_col0\" class=\"data row19 col0\" >0.001395</td>\n",
       "      <td id=\"T_3ec2e_row19_col1\" class=\"data row19 col1\" >0.000398</td>\n",
       "      <td id=\"T_3ec2e_row19_col2\" class=\"data row19 col2\" >3.504650</td>\n",
       "    </tr>\n",
       "    <tr>\n",
       "      <th id=\"T_3ec2e_level0_row20\" class=\"row_heading level0 row20\" >consent</th>\n",
       "      <td id=\"T_3ec2e_row20_col0\" class=\"data row20 col0\" >0.001860</td>\n",
       "      <td id=\"T_3ec2e_row20_col1\" class=\"data row20 col1\" >0.000531</td>\n",
       "      <td id=\"T_3ec2e_row20_col2\" class=\"data row20 col2\" >3.504650</td>\n",
       "    </tr>\n",
       "    <tr>\n",
       "      <th id=\"T_3ec2e_level0_row21\" class=\"row_heading level0 row21\" >nair</th>\n",
       "      <td id=\"T_3ec2e_row21_col0\" class=\"data row21 col0\" >0.001843</td>\n",
       "      <td id=\"T_3ec2e_row21_col1\" class=\"data row21 col1\" >0.000531</td>\n",
       "      <td id=\"T_3ec2e_row21_col2\" class=\"data row21 col2\" >3.473358</td>\n",
       "    </tr>\n",
       "    <tr>\n",
       "      <th id=\"T_3ec2e_level0_row22\" class=\"row_heading level0 row22\" >ghetto</th>\n",
       "      <td id=\"T_3ec2e_row22_col0\" class=\"data row22 col0\" >0.001345</td>\n",
       "      <td id=\"T_3ec2e_row22_col1\" class=\"data row22 col1\" >0.000398</td>\n",
       "      <td id=\"T_3ec2e_row22_col2\" class=\"data row22 col2\" >3.379484</td>\n",
       "    </tr>\n",
       "    <tr>\n",
       "      <th id=\"T_3ec2e_level0_row23\" class=\"row_heading level0 row23\" >poland</th>\n",
       "      <td id=\"T_3ec2e_row23_col0\" class=\"data row23 col0\" >0.001295</td>\n",
       "      <td id=\"T_3ec2e_row23_col1\" class=\"data row23 col1\" >0.000398</td>\n",
       "      <td id=\"T_3ec2e_row23_col2\" class=\"data row23 col2\" >3.254318</td>\n",
       "    </tr>\n",
       "    <tr>\n",
       "      <th id=\"T_3ec2e_level0_row24\" class=\"row_heading level0 row24\" >technique</th>\n",
       "      <td id=\"T_3ec2e_row24_col0\" class=\"data row24 col0\" >0.002989</td>\n",
       "      <td id=\"T_3ec2e_row24_col1\" class=\"data row24 col1\" >0.000929</td>\n",
       "      <td id=\"T_3ec2e_row24_col2\" class=\"data row24 col2\" >3.218556</td>\n",
       "    </tr>\n",
       "    <tr>\n",
       "      <th id=\"T_3ec2e_level0_row25\" class=\"row_heading level0 row25\" >angela</th>\n",
       "      <td id=\"T_3ec2e_row25_col0\" class=\"data row25 col0\" >0.002109</td>\n",
       "      <td id=\"T_3ec2e_row25_col1\" class=\"data row25 col1\" >0.000663</td>\n",
       "      <td id=\"T_3ec2e_row25_col2\" class=\"data row25 col2\" >3.179218</td>\n",
       "    </tr>\n",
       "    <tr>\n",
       "      <th id=\"T_3ec2e_level0_row26\" class=\"row_heading level0 row26\" >wayne</th>\n",
       "      <td id=\"T_3ec2e_row26_col0\" class=\"data row26 col0\" >0.001246</td>\n",
       "      <td id=\"T_3ec2e_row26_col1\" class=\"data row26 col1\" >0.000398</td>\n",
       "      <td id=\"T_3ec2e_row26_col2\" class=\"data row26 col2\" >3.129152</td>\n",
       "    </tr>\n",
       "    <tr>\n",
       "      <th id=\"T_3ec2e_level0_row27\" class=\"row_heading level0 row27\" >mum</th>\n",
       "      <td id=\"T_3ec2e_row27_col0\" class=\"data row27 col0\" >0.005347</td>\n",
       "      <td id=\"T_3ec2e_row27_col1\" class=\"data row27 col1\" >0.001725</td>\n",
       "      <td id=\"T_3ec2e_row27_col2\" class=\"data row27 col2\" >3.100267</td>\n",
       "    </tr>\n",
       "    <tr>\n",
       "      <th id=\"T_3ec2e_level0_row28\" class=\"row_heading level0 row28\" >bail</th>\n",
       "      <td id=\"T_3ec2e_row28_col0\" class=\"data row28 col0\" >0.001644</td>\n",
       "      <td id=\"T_3ec2e_row28_col1\" class=\"data row28 col1\" >0.000531</td>\n",
       "      <td id=\"T_3ec2e_row28_col2\" class=\"data row28 col2\" >3.097860</td>\n",
       "    </tr>\n",
       "    <tr>\n",
       "      <th id=\"T_3ec2e_level0_row29\" class=\"row_heading level0 row29\" >sexual</th>\n",
       "      <td id=\"T_3ec2e_row29_col0\" class=\"data row29 col0\" >0.033994</td>\n",
       "      <td id=\"T_3ec2e_row29_col1\" class=\"data row29 col1\" >0.011012</td>\n",
       "      <td id=\"T_3ec2e_row29_col2\" class=\"data row29 col2\" >3.086927</td>\n",
       "    </tr>\n",
       "    <tr>\n",
       "      <th id=\"T_3ec2e_level0_row30\" class=\"row_heading level0 row30\" >unemployed</th>\n",
       "      <td id=\"T_3ec2e_row30_col0\" class=\"data row30 col0\" >0.002840</td>\n",
       "      <td id=\"T_3ec2e_row30_col1\" class=\"data row30 col1\" >0.000929</td>\n",
       "      <td id=\"T_3ec2e_row30_col2\" class=\"data row30 col2\" >3.057628</td>\n",
       "    </tr>\n",
       "    <tr>\n",
       "      <th id=\"T_3ec2e_level0_row31\" class=\"row_heading level0 row31\" >orgasm</th>\n",
       "      <td id=\"T_3ec2e_row31_col0\" class=\"data row31 col0\" >0.001196</td>\n",
       "      <td id=\"T_3ec2e_row31_col1\" class=\"data row31 col1\" >0.000398</td>\n",
       "      <td id=\"T_3ec2e_row31_col2\" class=\"data row31 col2\" >3.003986</td>\n",
       "    </tr>\n",
       "    <tr>\n",
       "      <th id=\"T_3ec2e_level0_row32\" class=\"row_heading level0 row32\" >caucasian</th>\n",
       "      <td id=\"T_3ec2e_row32_col0\" class=\"data row32 col0\" >0.001196</td>\n",
       "      <td id=\"T_3ec2e_row32_col1\" class=\"data row32 col1\" >0.000398</td>\n",
       "      <td id=\"T_3ec2e_row32_col2\" class=\"data row32 col2\" >3.003986</td>\n",
       "    </tr>\n",
       "    <tr>\n",
       "      <th id=\"T_3ec2e_level0_row33\" class=\"row_heading level0 row33\" >rescue</th>\n",
       "      <td id=\"T_3ec2e_row33_col0\" class=\"data row33 col0\" >0.001495</td>\n",
       "      <td id=\"T_3ec2e_row33_col1\" class=\"data row33 col1\" >0.000531</td>\n",
       "      <td id=\"T_3ec2e_row33_col2\" class=\"data row33 col2\" >2.816237</td>\n",
       "    </tr>\n",
       "    <tr>\n",
       "      <th id=\"T_3ec2e_level0_row34\" class=\"row_heading level0 row34\" >courage</th>\n",
       "      <td id=\"T_3ec2e_row34_col0\" class=\"data row34 col0\" >0.001096</td>\n",
       "      <td id=\"T_3ec2e_row34_col1\" class=\"data row34 col1\" >0.000398</td>\n",
       "      <td id=\"T_3ec2e_row34_col2\" class=\"data row34 col2\" >2.753654</td>\n",
       "    </tr>\n",
       "    <tr>\n",
       "      <th id=\"T_3ec2e_level0_row35\" class=\"row_heading level0 row35\" >slaughtered</th>\n",
       "      <td id=\"T_3ec2e_row35_col0\" class=\"data row35 col0\" >0.001096</td>\n",
       "      <td id=\"T_3ec2e_row35_col1\" class=\"data row35 col1\" >0.000398</td>\n",
       "      <td id=\"T_3ec2e_row35_col2\" class=\"data row35 col2\" >2.753654</td>\n",
       "    </tr>\n",
       "    <tr>\n",
       "      <th id=\"T_3ec2e_level0_row36\" class=\"row_heading level0 row36\" >economy</th>\n",
       "      <td id=\"T_3ec2e_row36_col0\" class=\"data row36 col0\" >0.001096</td>\n",
       "      <td id=\"T_3ec2e_row36_col1\" class=\"data row36 col1\" >0.000398</td>\n",
       "      <td id=\"T_3ec2e_row36_col2\" class=\"data row36 col2\" >2.753654</td>\n",
       "    </tr>\n",
       "    <tr>\n",
       "      <th id=\"T_3ec2e_level0_row37\" class=\"row_heading level0 row37\" >disagreed</th>\n",
       "      <td id=\"T_3ec2e_row37_col0\" class=\"data row37 col0\" >0.001096</td>\n",
       "      <td id=\"T_3ec2e_row37_col1\" class=\"data row37 col1\" >0.000398</td>\n",
       "      <td id=\"T_3ec2e_row37_col2\" class=\"data row37 col2\" >2.753654</td>\n",
       "    </tr>\n",
       "    <tr>\n",
       "      <th id=\"T_3ec2e_level0_row38\" class=\"row_heading level0 row38\" >swastika</th>\n",
       "      <td id=\"T_3ec2e_row38_col0\" class=\"data row38 col0\" >0.001445</td>\n",
       "      <td id=\"T_3ec2e_row38_col1\" class=\"data row38 col1\" >0.000531</td>\n",
       "      <td id=\"T_3ec2e_row38_col2\" class=\"data row38 col2\" >2.722362</td>\n",
       "    </tr>\n",
       "    <tr>\n",
       "      <th id=\"T_3ec2e_level0_row39\" class=\"row_heading level0 row39\" >duck</th>\n",
       "      <td id=\"T_3ec2e_row39_col0\" class=\"data row39 col0\" >0.001760</td>\n",
       "      <td id=\"T_3ec2e_row39_col1\" class=\"data row39 col1\" >0.000663</td>\n",
       "      <td id=\"T_3ec2e_row39_col2\" class=\"data row39 col2\" >2.653521</td>\n",
       "    </tr>\n",
       "  </tbody>\n",
       "</table>\n"
      ],
      "text/plain": [
       "<pandas.io.formats.style.Styler at 0x7f224846aa90>"
      ]
     },
     "execution_count": 26,
     "metadata": {},
     "output_type": "execute_result"
    }
   ],
   "source": [
    "# X_train と X_test の分布差を確認\n",
    "df_mean_lift = pd.DataFrame(index=cnt_vec.get_feature_names(), columns=['X_train_feature_mean', 'X_test_feature_mean', 'lift'])\n",
    "\n",
    "for i, word in enumerate(cnt_vec.get_feature_names()):\n",
    "        df_mean_lift.loc[word, 'X_train_feature_mean'] = X_train[:, i].mean()\n",
    "        df_mean_lift.loc[word, 'X_test_feature_mean'] = X_test[:, i].mean()\n",
    "\n",
    "df_mean_lift['lift'] = df_mean_lift['X_train_feature_mean'] / df_mean_lift['X_test_feature_mean']\n",
    "df_mean_lift.query('X_train_feature_mean != 0.0 and X_test_feature_mean != 0.0').sort_values('lift', ascending=False).head(40).style.bar(subset=['lift'], color='#205ff2')"
   ]
  },
  {
   "cell_type": "markdown",
   "id": "8c8edda0",
   "metadata": {
    "papermill": {
     "duration": 0.052811,
     "end_time": "2021-11-25T15:36:02.636850",
     "exception": false,
     "start_time": "2021-11-25T15:36:02.584039",
     "status": "completed"
    },
    "tags": []
   },
   "source": [
    "- nipple は乳首\n",
    "- heil はナチス式敬礼\n",
    "- smell は匂い\n",
    "- youi はわからん"
   ]
  },
  {
   "cell_type": "markdown",
   "id": "f8a2a775",
   "metadata": {
    "papermill": {
     "duration": 0.053172,
     "end_time": "2021-11-25T15:36:02.742943",
     "exception": false,
     "start_time": "2021-11-25T15:36:02.689771",
     "status": "completed"
    },
    "tags": []
   },
   "source": [
    "## Training"
   ]
  },
  {
   "cell_type": "code",
   "execution_count": 27,
   "id": "e9360111",
   "metadata": {
    "execution": {
     "iopub.execute_input": "2021-11-25T15:36:02.853053Z",
     "iopub.status.busy": "2021-11-25T15:36:02.852333Z",
     "iopub.status.idle": "2021-11-25T15:38:57.748062Z",
     "shell.execute_reply": "2021-11-25T15:38:57.748586Z",
     "shell.execute_reply.started": "2021-11-25T15:32:05.433255Z"
    },
    "papermill": {
     "duration": 174.952335,
     "end_time": "2021-11-25T15:38:57.748803",
     "exception": false,
     "start_time": "2021-11-25T15:36:02.796468",
     "status": "completed"
    },
    "tags": []
   },
   "outputs": [
    {
     "name": "stdout",
     "output_type": "stream",
     "text": [
      "MultinomialNB()\n",
      "LogisticRegression(solver='liblinear')\n",
      "SGDClassifier(loss='modified_huber', n_jobs=-1)\n",
      "RandomForestClassifier(max_depth=32, n_jobs=-1)\n",
      "CPU times: user 6min 13s, sys: 2.25 s, total: 6min 15s\n",
      "Wall time: 2min 54s\n"
     ]
    }
   ],
   "source": [
    "%%time\n",
    "\n",
    "models = [\n",
    "    MultinomialNB(), \n",
    "    LogisticRegression(solver='liblinear'), \n",
    "    SGDClassifier(loss='modified_huber', max_iter=1000, tol=1e-3, n_jobs=-1), \n",
    "    RandomForestClassifier(n_estimators=100, max_depth=32, n_jobs=-1),\n",
    "    # KNeighborsClassifier(n_neighbors=5, n_jobs=-1),\n",
    "    # KNeighborsClassifier(n_neighbors=7, n_jobs=-1),\n",
    "    # KNeighborsClassifier(n_neighbors=9, n_jobs=-1)\n",
    "]\n",
    "\n",
    "for model in models:\n",
    "    print(model)\n",
    "    model.fit(X_train, y_train.ravel())"
   ]
  },
  {
   "cell_type": "markdown",
   "id": "b2e4ee11",
   "metadata": {
    "papermill": {
     "duration": 0.054873,
     "end_time": "2021-11-25T15:38:57.858301",
     "exception": false,
     "start_time": "2021-11-25T15:38:57.803428",
     "status": "completed"
    },
    "tags": []
   },
   "source": [
    "## Inference"
   ]
  },
  {
   "cell_type": "code",
   "execution_count": 28,
   "id": "77eca210",
   "metadata": {
    "execution": {
     "iopub.execute_input": "2021-11-25T15:38:57.975571Z",
     "iopub.status.busy": "2021-11-25T15:38:57.974236Z",
     "iopub.status.idle": "2021-11-25T15:38:58.966186Z",
     "shell.execute_reply": "2021-11-25T15:38:58.966714Z",
     "shell.execute_reply.started": "2021-11-25T15:34:02.501956Z"
    },
    "papermill": {
     "duration": 1.05392,
     "end_time": "2021-11-25T15:38:58.966945",
     "exception": false,
     "start_time": "2021-11-25T15:38:57.913025",
     "status": "completed"
    },
    "tags": []
   },
   "outputs": [
    {
     "name": "stdout",
     "output_type": "stream",
     "text": [
      "MultinomialNB()\n",
      "LogisticRegression(solver='liblinear')\n",
      "SGDClassifier(loss='modified_huber', n_jobs=-1)\n",
      "RandomForestClassifier(max_depth=32, n_jobs=-1)\n",
      "CPU times: user 1.68 s, sys: 1.06 s, total: 2.74 s\n",
      "Wall time: 990 ms\n"
     ]
    }
   ],
   "source": [
    "%%time\n",
    "\n",
    "preds = []\n",
    "for model in models:\n",
    "    print(model)\n",
    "    pred = model.predict_proba(X_test)[:, 1]\n",
    "    preds.append(pred)"
   ]
  },
  {
   "cell_type": "code",
   "execution_count": 29,
   "id": "78d09f6f",
   "metadata": {
    "execution": {
     "iopub.execute_input": "2021-11-25T15:38:59.081059Z",
     "iopub.status.busy": "2021-11-25T15:38:59.080416Z",
     "iopub.status.idle": "2021-11-25T15:38:59.095702Z",
     "shell.execute_reply": "2021-11-25T15:38:59.096325Z",
     "shell.execute_reply.started": "2021-11-25T15:34:05.410350Z"
    },
    "papermill": {
     "duration": 0.074359,
     "end_time": "2021-11-25T15:38:59.096505",
     "exception": false,
     "start_time": "2021-11-25T15:38:59.022146",
     "status": "completed"
    },
    "tags": []
   },
   "outputs": [
    {
     "data": {
      "text/html": [
       "<div>\n",
       "<style scoped>\n",
       "    .dataframe tbody tr th:only-of-type {\n",
       "        vertical-align: middle;\n",
       "    }\n",
       "\n",
       "    .dataframe tbody tr th {\n",
       "        vertical-align: top;\n",
       "    }\n",
       "\n",
       "    .dataframe thead th {\n",
       "        text-align: right;\n",
       "    }\n",
       "</style>\n",
       "<table border=\"1\" class=\"dataframe\">\n",
       "  <thead>\n",
       "    <tr style=\"text-align: right;\">\n",
       "      <th></th>\n",
       "      <th>count</th>\n",
       "      <th>mean</th>\n",
       "      <th>std</th>\n",
       "      <th>min</th>\n",
       "      <th>25%</th>\n",
       "      <th>50%</th>\n",
       "      <th>75%</th>\n",
       "      <th>max</th>\n",
       "    </tr>\n",
       "  </thead>\n",
       "  <tbody>\n",
       "    <tr>\n",
       "      <th>0</th>\n",
       "      <td>7537.0</td>\n",
       "      <td>0.463863</td>\n",
       "      <td>0.216296</td>\n",
       "      <td>0.015757</td>\n",
       "      <td>0.29458</td>\n",
       "      <td>0.447237</td>\n",
       "      <td>0.609972</td>\n",
       "      <td>0.979037</td>\n",
       "    </tr>\n",
       "  </tbody>\n",
       "</table>\n",
       "</div>"
      ],
      "text/plain": [
       "    count      mean       std       min      25%       50%       75%       max\n",
       "0  7537.0  0.463863  0.216296  0.015757  0.29458  0.447237  0.609972  0.979037"
      ]
     },
     "execution_count": 29,
     "metadata": {},
     "output_type": "execute_result"
    }
   ],
   "source": [
    "y_pred = np.array(preds).T.sum(axis=1) / len(preds)\n",
    "pd.DataFrame(pd.Series(y_pred.ravel()).describe()).transpose()"
   ]
  },
  {
   "cell_type": "code",
   "execution_count": 30,
   "id": "de3bc75d",
   "metadata": {
    "execution": {
     "iopub.execute_input": "2021-11-25T15:38:59.213431Z",
     "iopub.status.busy": "2021-11-25T15:38:59.212658Z",
     "iopub.status.idle": "2021-11-25T15:38:59.221511Z",
     "shell.execute_reply": "2021-11-25T15:38:59.222025Z",
     "shell.execute_reply.started": "2021-11-25T15:34:09.965801Z"
    },
    "papermill": {
     "duration": 0.067906,
     "end_time": "2021-11-25T15:38:59.222209",
     "exception": false,
     "start_time": "2021-11-25T15:38:59.154303",
     "status": "completed"
    },
    "tags": []
   },
   "outputs": [
    {
     "data": {
      "text/html": [
       "<div>\n",
       "<style scoped>\n",
       "    .dataframe tbody tr th:only-of-type {\n",
       "        vertical-align: middle;\n",
       "    }\n",
       "\n",
       "    .dataframe tbody tr th {\n",
       "        vertical-align: top;\n",
       "    }\n",
       "\n",
       "    .dataframe thead th {\n",
       "        text-align: right;\n",
       "    }\n",
       "</style>\n",
       "<table border=\"1\" class=\"dataframe\">\n",
       "  <thead>\n",
       "    <tr style=\"text-align: right;\">\n",
       "      <th></th>\n",
       "      <th>comment_id</th>\n",
       "      <th>score</th>\n",
       "    </tr>\n",
       "  </thead>\n",
       "  <tbody>\n",
       "    <tr>\n",
       "      <th>0</th>\n",
       "      <td>114890</td>\n",
       "      <td>0.196969</td>\n",
       "    </tr>\n",
       "    <tr>\n",
       "      <th>1</th>\n",
       "      <td>732895</td>\n",
       "      <td>0.309050</td>\n",
       "    </tr>\n",
       "    <tr>\n",
       "      <th>2</th>\n",
       "      <td>1139051</td>\n",
       "      <td>0.198691</td>\n",
       "    </tr>\n",
       "    <tr>\n",
       "      <th>3</th>\n",
       "      <td>1434512</td>\n",
       "      <td>0.092089</td>\n",
       "    </tr>\n",
       "    <tr>\n",
       "      <th>4</th>\n",
       "      <td>2084821</td>\n",
       "      <td>0.414525</td>\n",
       "    </tr>\n",
       "  </tbody>\n",
       "</table>\n",
       "</div>"
      ],
      "text/plain": [
       "   comment_id     score\n",
       "0      114890  0.196969\n",
       "1      732895  0.309050\n",
       "2     1139051  0.198691\n",
       "3     1434512  0.092089\n",
       "4     2084821  0.414525"
      ]
     },
     "execution_count": 30,
     "metadata": {},
     "output_type": "execute_result"
    }
   ],
   "source": [
    "submission['score'] = y_pred\n",
    "submission.head()"
   ]
  },
  {
   "cell_type": "code",
   "execution_count": 31,
   "id": "f9b69a6c",
   "metadata": {
    "execution": {
     "iopub.execute_input": "2021-11-25T15:38:59.340313Z",
     "iopub.status.busy": "2021-11-25T15:38:59.339356Z",
     "iopub.status.idle": "2021-11-25T15:38:59.374702Z",
     "shell.execute_reply": "2021-11-25T15:38:59.375278Z",
     "shell.execute_reply.started": "2021-11-25T13:45:23.410788Z"
    },
    "papermill": {
     "duration": 0.096979,
     "end_time": "2021-11-25T15:38:59.375472",
     "exception": false,
     "start_time": "2021-11-25T15:38:59.278493",
     "status": "completed"
    },
    "tags": []
   },
   "outputs": [],
   "source": [
    "submission.to_csv('submission.csv', index=False)"
   ]
  }
 ],
 "metadata": {
  "kernelspec": {
   "display_name": "Python 3",
   "language": "python",
   "name": "python3"
  },
  "language_info": {
   "codemirror_mode": {
    "name": "ipython",
    "version": 3
   },
   "file_extension": ".py",
   "mimetype": "text/x-python",
   "name": "python",
   "nbconvert_exporter": "python",
   "pygments_lexer": "ipython3",
   "version": "3.7.10"
  },
  "papermill": {
   "default_parameters": {},
   "duration": 259.694519,
   "end_time": "2021-11-25T15:39:02.791589",
   "environment_variables": {},
   "exception": null,
   "input_path": "__notebook__.ipynb",
   "output_path": "__notebook__.ipynb",
   "parameters": {},
   "start_time": "2021-11-25T15:34:43.097070",
   "version": "2.3.3"
  }
 },
 "nbformat": 4,
 "nbformat_minor": 5
}
