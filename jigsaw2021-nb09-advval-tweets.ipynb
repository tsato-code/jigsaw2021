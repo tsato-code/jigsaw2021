{
 "cells": [
  {
   "cell_type": "markdown",
   "id": "788d8c09",
   "metadata": {
    "papermill": {
     "duration": 0.030118,
     "end_time": "2022-01-04T15:13:46.886190",
     "exception": false,
     "start_time": "2022-01-04T15:13:46.856072",
     "status": "completed"
    },
    "tags": []
   },
   "source": [
    "# Overview\n",
    "\n",
    "- EDA\n",
    "- sample/feature selection\n",
    "- baseline model\n",
    "- validation\n",
    "- submit\n",
    "\n",
    "【基本の考え方】\n",
    "- Private LB がテストデータで評価されるため、テストデータに基づいてクリーニング、特徴量選択、訓練データの選択、を行う。\n",
    "- nb06 のデータセットを変えて公開されたデータセット Toxic Tweets Dataset 版をつくる。"
   ]
  },
  {
   "cell_type": "code",
   "execution_count": 1,
   "id": "b4a865b6",
   "metadata": {
    "_cell_guid": "b1076dfc-b9ad-4769-8c92-a6c4dae69d19",
    "_uuid": "8f2839f25d086af736a60e9eeb907d3b93b6e0e5",
    "execution": {
     "iopub.execute_input": "2022-01-04T15:13:46.955381Z",
     "iopub.status.busy": "2022-01-04T15:13:46.954734Z",
     "iopub.status.idle": "2022-01-04T15:13:46.973037Z",
     "shell.execute_reply": "2022-01-04T15:13:46.973687Z",
     "shell.execute_reply.started": "2022-01-04T15:04:26.656016Z"
    },
    "papermill": {
     "duration": 0.057429,
     "end_time": "2022-01-04T15:13:46.974050",
     "exception": false,
     "start_time": "2022-01-04T15:13:46.916621",
     "status": "completed"
    },
    "tags": []
   },
   "outputs": [
    {
     "name": "stdout",
     "output_type": "stream",
     "text": [
      "/kaggle/input/jigsaw-toxic-severity-rating/sample_submission.csv\n",
      "/kaggle/input/jigsaw-toxic-severity-rating/validation_data.csv\n",
      "/kaggle/input/jigsaw-toxic-severity-rating/comments_to_score.csv\n",
      "/kaggle/input/toxic-tweets-dataset/FinalBalancedDataset.csv\n"
     ]
    }
   ],
   "source": [
    "# Directories\n",
    "import os\n",
    "for dirname, _, filenames in os.walk('/kaggle/input'):\n",
    "    for filename in filenames:\n",
    "        print(os.path.join(dirname, filename))"
   ]
  },
  {
   "cell_type": "code",
   "execution_count": 2,
   "id": "347aaf6a",
   "metadata": {
    "execution": {
     "iopub.execute_input": "2022-01-04T15:13:47.039840Z",
     "iopub.status.busy": "2022-01-04T15:13:47.039106Z",
     "iopub.status.idle": "2022-01-04T15:13:47.040916Z",
     "shell.execute_reply": "2022-01-04T15:13:47.041372Z",
     "shell.execute_reply.started": "2022-01-04T15:04:50.761205Z"
    },
    "papermill": {
     "duration": 0.037792,
     "end_time": "2022-01-04T15:13:47.041695",
     "exception": false,
     "start_time": "2022-01-04T15:13:47.003903",
     "status": "completed"
    },
    "tags": []
   },
   "outputs": [],
   "source": [
    "# Parameters\n",
    "DEBUG_FLAG = False\n",
    "VERSION = 'nb06'\n",
    "\n",
    "SUBMISSION_PATH = '/kaggle/input/jigsaw-toxic-severity-rating/sample_submission.csv'\n",
    "VALIDATION_DATA_PATH = '/kaggle/input/jigsaw-toxic-severity-rating/validation_data.csv'\n",
    "COMMENTS_SCORE_PATH = '/kaggle/input/jigsaw-toxic-severity-rating/comments_to_score.csv'\n",
    "TWEETS_TRAIN_PATH = '/kaggle/input/toxic-tweets-dataset/FinalBalancedDataset.csv'\n",
    "\n",
    "N_SPLITS = 5 if not DEBUG_FLAG else 2"
   ]
  },
  {
   "cell_type": "code",
   "execution_count": 3,
   "id": "cc79b47a",
   "metadata": {
    "execution": {
     "iopub.execute_input": "2022-01-04T15:13:47.103835Z",
     "iopub.status.busy": "2022-01-04T15:13:47.103107Z",
     "iopub.status.idle": "2022-01-04T15:13:48.897939Z",
     "shell.execute_reply": "2022-01-04T15:13:48.898440Z",
     "shell.execute_reply.started": "2022-01-04T15:04:58.877536Z"
    },
    "papermill": {
     "duration": 1.827358,
     "end_time": "2022-01-04T15:13:48.898622",
     "exception": false,
     "start_time": "2022-01-04T15:13:47.071264",
     "status": "completed"
    },
    "tags": []
   },
   "outputs": [
    {
     "data": {
      "text/html": [
       "<style type='text/css'>\n",
       ".datatable table.frame { margin-bottom: 0; }\n",
       ".datatable table.frame thead { border-bottom: none; }\n",
       ".datatable table.frame tr.coltypes td {  color: #FFFFFF;  line-height: 6px;  padding: 0 0.5em;}\n",
       ".datatable .bool    { background: #DDDD99; }\n",
       ".datatable .object  { background: #565656; }\n",
       ".datatable .int     { background: #5D9E5D; }\n",
       ".datatable .float   { background: #4040CC; }\n",
       ".datatable .str     { background: #CC4040; }\n",
       ".datatable .time    { background: #40CC40; }\n",
       ".datatable .row_index {  background: var(--jp-border-color3);  border-right: 1px solid var(--jp-border-color0);  color: var(--jp-ui-font-color3);  font-size: 9px;}\n",
       ".datatable .frame tbody td { text-align: left; }\n",
       ".datatable .frame tr.coltypes .row_index {  background: var(--jp-border-color0);}\n",
       ".datatable th:nth-child(2) { padding-left: 12px; }\n",
       ".datatable .hellipsis {  color: var(--jp-cell-editor-border-color);}\n",
       ".datatable .vellipsis {  background: var(--jp-layout-color0);  color: var(--jp-cell-editor-border-color);}\n",
       ".datatable .na {  color: var(--jp-cell-editor-border-color);  font-size: 80%;}\n",
       ".datatable .sp {  opacity: 0.25;}\n",
       ".datatable .footer { font-size: 9px; }\n",
       ".datatable .frame_dimensions {  background: var(--jp-border-color3);  border-top: 1px solid var(--jp-border-color0);  color: var(--jp-ui-font-color3);  display: inline-block;  opacity: 0.6;  padding: 1px 10px 1px 5px;}\n",
       "</style>\n"
      ],
      "text/plain": [
       "<IPython.core.display.HTML object>"
      ]
     },
     "metadata": {},
     "output_type": "display_data"
    }
   ],
   "source": [
    "# Modules\n",
    "import re\n",
    "import sys\n",
    "import time\n",
    "\n",
    "import datatable as dt\n",
    "import nltk\n",
    "import numpy as np\n",
    "import pandas as pd\n",
    "\n",
    "from matplotlib import pyplot as plt\n",
    "from matplotlib_venn import venn3\n",
    "from sklearn.feature_extraction import text\n",
    "from sklearn.feature_extraction.text import TfidfVectorizer\n",
    "from sklearn.linear_model import Ridge, SGDClassifier, SGDRegressor\n",
    "from sklearn.metrics import mean_squared_error, roc_auc_score\n",
    "from sklearn.model_selection import KFold, StratifiedKFold\n",
    "from sklearn.naive_bayes import MultinomialNB\n",
    "\n",
    "sys.setrecursionlimit(5000)"
   ]
  },
  {
   "cell_type": "code",
   "execution_count": 4,
   "id": "25d336a1",
   "metadata": {
    "execution": {
     "iopub.execute_input": "2022-01-04T15:13:48.961925Z",
     "iopub.status.busy": "2022-01-04T15:13:48.961199Z",
     "iopub.status.idle": "2022-01-04T15:13:48.967423Z",
     "shell.execute_reply": "2022-01-04T15:13:48.967906Z",
     "shell.execute_reply.started": "2022-01-04T15:05:24.454760Z"
    },
    "papermill": {
     "duration": 0.039555,
     "end_time": "2022-01-04T15:13:48.968099",
     "exception": false,
     "start_time": "2022-01-04T15:13:48.928544",
     "status": "completed"
    },
    "tags": []
   },
   "outputs": [],
   "source": [
    "# My functions\n",
    "def read_df():\n",
    "    valid = dt.fread(VALIDATION_DATA_PATH).to_pandas()\n",
    "    test = dt.fread(COMMENTS_SCORE_PATH).to_pandas()\n",
    "    submission = dt.fread(SUBMISSION_PATH).to_pandas()\n",
    "    tweets = dt.fread(TWEETS_TRAIN_PATH).to_pandas()\n",
    "    \n",
    "    if DEBUG_FLAG:\n",
    "        valid = valid.sample(n=1000).reset_index(drop=True)\n",
    "        test = test.sample(n=1000).reset_index(drop=True)\n",
    "        tweets = tweets.sample(n=1000).reset_index(drop=True)\n",
    "    \n",
    "    return valid, test, submission, tweets"
   ]
  },
  {
   "cell_type": "code",
   "execution_count": 5,
   "id": "6bf56d88",
   "metadata": {
    "execution": {
     "iopub.execute_input": "2022-01-04T15:13:49.031863Z",
     "iopub.status.busy": "2022-01-04T15:13:49.030839Z",
     "iopub.status.idle": "2022-01-04T15:13:49.865761Z",
     "shell.execute_reply": "2022-01-04T15:13:49.866476Z",
     "shell.execute_reply.started": "2022-01-04T15:05:41.338551Z"
    },
    "papermill": {
     "duration": 0.86886,
     "end_time": "2022-01-04T15:13:49.866658",
     "exception": false,
     "start_time": "2022-01-04T15:13:48.997798",
     "status": "completed"
    },
    "tags": []
   },
   "outputs": [
    {
     "name": "stdout",
     "output_type": "stream",
     "text": [
      "valid shape: (30108, 3)\n",
      "test shape: (7537, 2)\n",
      "submission shape: (7537, 2)\n",
      "tweets shape: (56745, 3)\n"
     ]
    }
   ],
   "source": [
    "valid, test, submission, tweets = read_df()\n",
    "\n",
    "print(f'valid shape: {valid.shape}')\n",
    "print(f'test shape: {test.shape}')\n",
    "print(f'submission shape: {submission.shape}')\n",
    "print(f'tweets shape: {tweets.shape}')"
   ]
  },
  {
   "cell_type": "code",
   "execution_count": 6,
   "id": "c2d6eceb",
   "metadata": {
    "execution": {
     "iopub.execute_input": "2022-01-04T15:13:49.941421Z",
     "iopub.status.busy": "2022-01-04T15:13:49.940763Z",
     "iopub.status.idle": "2022-01-04T15:13:49.969213Z",
     "shell.execute_reply": "2022-01-04T15:13:49.968633Z",
     "shell.execute_reply.started": "2022-01-04T15:05:52.725309Z"
    },
    "papermill": {
     "duration": 0.067643,
     "end_time": "2022-01-04T15:13:49.969352",
     "exception": false,
     "start_time": "2022-01-04T15:13:49.901709",
     "status": "completed"
    },
    "tags": []
   },
   "outputs": [
    {
     "data": {
      "text/html": [
       "<div>\n",
       "<style scoped>\n",
       "    .dataframe tbody tr th:only-of-type {\n",
       "        vertical-align: middle;\n",
       "    }\n",
       "\n",
       "    .dataframe tbody tr th {\n",
       "        vertical-align: top;\n",
       "    }\n",
       "\n",
       "    .dataframe thead th {\n",
       "        text-align: right;\n",
       "    }\n",
       "</style>\n",
       "<table border=\"1\" class=\"dataframe\">\n",
       "  <thead>\n",
       "    <tr style=\"text-align: right;\">\n",
       "      <th></th>\n",
       "      <th>worker</th>\n",
       "      <th>less_toxic</th>\n",
       "      <th>more_toxic</th>\n",
       "    </tr>\n",
       "  </thead>\n",
       "  <tbody>\n",
       "    <tr>\n",
       "      <th>0</th>\n",
       "      <td>313</td>\n",
       "      <td>This article sucks \\n\\nwoo woo wooooooo</td>\n",
       "      <td>WHAT!!!!!!!!?!?!!?!?!!?!?!?!?!!!!!!!!!!!!!!!!!...</td>\n",
       "    </tr>\n",
       "    <tr>\n",
       "      <th>1</th>\n",
       "      <td>188</td>\n",
       "      <td>\"And yes, people should recognize that but the...</td>\n",
       "      <td>Daphne Guinness \\n\\nTop of the mornin' my fav...</td>\n",
       "    </tr>\n",
       "    <tr>\n",
       "      <th>2</th>\n",
       "      <td>82</td>\n",
       "      <td>Western Media?\\n\\nYup, because every crime in...</td>\n",
       "      <td>\"Atom you don't believe actual photos of mastu...</td>\n",
       "    </tr>\n",
       "    <tr>\n",
       "      <th>3</th>\n",
       "      <td>347</td>\n",
       "      <td>And you removed it! You numbskull! I don't car...</td>\n",
       "      <td>You seem to have sand in your vagina.\\n\\nMight...</td>\n",
       "    </tr>\n",
       "    <tr>\n",
       "      <th>4</th>\n",
       "      <td>539</td>\n",
       "      <td>smelly vagina \\n\\nBluerasberry why don't you ...</td>\n",
       "      <td>hey \\n\\nway to support nazis, you racist</td>\n",
       "    </tr>\n",
       "  </tbody>\n",
       "</table>\n",
       "</div>"
      ],
      "text/plain": [
       "   worker                                         less_toxic  \\\n",
       "0     313            This article sucks \\n\\nwoo woo wooooooo   \n",
       "1     188  \"And yes, people should recognize that but the...   \n",
       "2      82   Western Media?\\n\\nYup, because every crime in...   \n",
       "3     347  And you removed it! You numbskull! I don't car...   \n",
       "4     539   smelly vagina \\n\\nBluerasberry why don't you ...   \n",
       "\n",
       "                                          more_toxic  \n",
       "0  WHAT!!!!!!!!?!?!!?!?!!?!?!?!?!!!!!!!!!!!!!!!!!...  \n",
       "1   Daphne Guinness \\n\\nTop of the mornin' my fav...  \n",
       "2  \"Atom you don't believe actual photos of mastu...  \n",
       "3  You seem to have sand in your vagina.\\n\\nMight...  \n",
       "4           hey \\n\\nway to support nazis, you racist  "
      ]
     },
     "metadata": {},
     "output_type": "display_data"
    },
    {
     "data": {
      "text/html": [
       "<div>\n",
       "<style scoped>\n",
       "    .dataframe tbody tr th:only-of-type {\n",
       "        vertical-align: middle;\n",
       "    }\n",
       "\n",
       "    .dataframe tbody tr th {\n",
       "        vertical-align: top;\n",
       "    }\n",
       "\n",
       "    .dataframe thead th {\n",
       "        text-align: right;\n",
       "    }\n",
       "</style>\n",
       "<table border=\"1\" class=\"dataframe\">\n",
       "  <thead>\n",
       "    <tr style=\"text-align: right;\">\n",
       "      <th></th>\n",
       "      <th>comment_id</th>\n",
       "      <th>text</th>\n",
       "    </tr>\n",
       "  </thead>\n",
       "  <tbody>\n",
       "    <tr>\n",
       "      <th>0</th>\n",
       "      <td>114890</td>\n",
       "      <td>\"\\n \\n\\nGjalexei, you asked about whether ther...</td>\n",
       "    </tr>\n",
       "    <tr>\n",
       "      <th>1</th>\n",
       "      <td>732895</td>\n",
       "      <td>Looks like be have an abuser , can you please ...</td>\n",
       "    </tr>\n",
       "    <tr>\n",
       "      <th>2</th>\n",
       "      <td>1139051</td>\n",
       "      <td>I confess to having complete (and apparently b...</td>\n",
       "    </tr>\n",
       "    <tr>\n",
       "      <th>3</th>\n",
       "      <td>1434512</td>\n",
       "      <td>\"\\n\\nFreud's ideas are certainly much discusse...</td>\n",
       "    </tr>\n",
       "    <tr>\n",
       "      <th>4</th>\n",
       "      <td>2084821</td>\n",
       "      <td>It is not just you. This is a laundry list of ...</td>\n",
       "    </tr>\n",
       "  </tbody>\n",
       "</table>\n",
       "</div>"
      ],
      "text/plain": [
       "   comment_id                                               text\n",
       "0      114890  \"\\n \\n\\nGjalexei, you asked about whether ther...\n",
       "1      732895  Looks like be have an abuser , can you please ...\n",
       "2     1139051  I confess to having complete (and apparently b...\n",
       "3     1434512  \"\\n\\nFreud's ideas are certainly much discusse...\n",
       "4     2084821  It is not just you. This is a laundry list of ..."
      ]
     },
     "metadata": {},
     "output_type": "display_data"
    },
    {
     "data": {
      "text/html": [
       "<div>\n",
       "<style scoped>\n",
       "    .dataframe tbody tr th:only-of-type {\n",
       "        vertical-align: middle;\n",
       "    }\n",
       "\n",
       "    .dataframe tbody tr th {\n",
       "        vertical-align: top;\n",
       "    }\n",
       "\n",
       "    .dataframe thead th {\n",
       "        text-align: right;\n",
       "    }\n",
       "</style>\n",
       "<table border=\"1\" class=\"dataframe\">\n",
       "  <thead>\n",
       "    <tr style=\"text-align: right;\">\n",
       "      <th></th>\n",
       "      <th>comment_id</th>\n",
       "      <th>score</th>\n",
       "    </tr>\n",
       "  </thead>\n",
       "  <tbody>\n",
       "    <tr>\n",
       "      <th>0</th>\n",
       "      <td>114890</td>\n",
       "      <td>0.5</td>\n",
       "    </tr>\n",
       "    <tr>\n",
       "      <th>1</th>\n",
       "      <td>732895</td>\n",
       "      <td>0.5</td>\n",
       "    </tr>\n",
       "    <tr>\n",
       "      <th>2</th>\n",
       "      <td>1139051</td>\n",
       "      <td>0.5</td>\n",
       "    </tr>\n",
       "    <tr>\n",
       "      <th>3</th>\n",
       "      <td>1434512</td>\n",
       "      <td>0.5</td>\n",
       "    </tr>\n",
       "    <tr>\n",
       "      <th>4</th>\n",
       "      <td>2084821</td>\n",
       "      <td>0.5</td>\n",
       "    </tr>\n",
       "  </tbody>\n",
       "</table>\n",
       "</div>"
      ],
      "text/plain": [
       "   comment_id  score\n",
       "0      114890    0.5\n",
       "1      732895    0.5\n",
       "2     1139051    0.5\n",
       "3     1434512    0.5\n",
       "4     2084821    0.5"
      ]
     },
     "metadata": {},
     "output_type": "display_data"
    },
    {
     "data": {
      "text/html": [
       "<div>\n",
       "<style scoped>\n",
       "    .dataframe tbody tr th:only-of-type {\n",
       "        vertical-align: middle;\n",
       "    }\n",
       "\n",
       "    .dataframe tbody tr th {\n",
       "        vertical-align: top;\n",
       "    }\n",
       "\n",
       "    .dataframe thead th {\n",
       "        text-align: right;\n",
       "    }\n",
       "</style>\n",
       "<table border=\"1\" class=\"dataframe\">\n",
       "  <thead>\n",
       "    <tr style=\"text-align: right;\">\n",
       "      <th></th>\n",
       "      <th>C0</th>\n",
       "      <th>Toxicity</th>\n",
       "      <th>tweet</th>\n",
       "    </tr>\n",
       "  </thead>\n",
       "  <tbody>\n",
       "    <tr>\n",
       "      <th>0</th>\n",
       "      <td>0</td>\n",
       "      <td>False</td>\n",
       "      <td>@user when a father is dysfunctional and is so...</td>\n",
       "    </tr>\n",
       "    <tr>\n",
       "      <th>1</th>\n",
       "      <td>1</td>\n",
       "      <td>False</td>\n",
       "      <td>@user @user thanks for #lyft credit i can't us...</td>\n",
       "    </tr>\n",
       "    <tr>\n",
       "      <th>2</th>\n",
       "      <td>2</td>\n",
       "      <td>False</td>\n",
       "      <td>bihday your majesty</td>\n",
       "    </tr>\n",
       "    <tr>\n",
       "      <th>3</th>\n",
       "      <td>3</td>\n",
       "      <td>False</td>\n",
       "      <td>#model   i love u take with u all the time in ...</td>\n",
       "    </tr>\n",
       "    <tr>\n",
       "      <th>4</th>\n",
       "      <td>4</td>\n",
       "      <td>False</td>\n",
       "      <td>factsguide: society now    #motivation</td>\n",
       "    </tr>\n",
       "  </tbody>\n",
       "</table>\n",
       "</div>"
      ],
      "text/plain": [
       "   C0  Toxicity                                              tweet\n",
       "0   0     False  @user when a father is dysfunctional and is so...\n",
       "1   1     False  @user @user thanks for #lyft credit i can't us...\n",
       "2   2     False                                bihday your majesty\n",
       "3   3     False  #model   i love u take with u all the time in ...\n",
       "4   4     False             factsguide: society now    #motivation"
      ]
     },
     "metadata": {},
     "output_type": "display_data"
    }
   ],
   "source": [
    "display(valid.head())\n",
    "display(test.head())\n",
    "display(submission.head())\n",
    "display(tweets.head())"
   ]
  },
  {
   "cell_type": "code",
   "execution_count": 7,
   "id": "19e055c3",
   "metadata": {
    "execution": {
     "iopub.execute_input": "2022-01-04T15:13:50.037889Z",
     "iopub.status.busy": "2022-01-04T15:13:50.037195Z",
     "iopub.status.idle": "2022-01-04T15:13:50.391117Z",
     "shell.execute_reply": "2022-01-04T15:13:50.391624Z",
     "shell.execute_reply.started": "2022-01-04T15:06:22.888712Z"
    },
    "papermill": {
     "duration": 0.390039,
     "end_time": "2022-01-04T15:13:50.391814",
     "exception": false,
     "start_time": "2022-01-04T15:13:50.001775",
     "status": "completed"
    },
    "tags": []
   },
   "outputs": [
    {
     "data": {
      "image/png": "[encoded data removed]",
      "text/plain": [
       "<Figure size 432x432 with 1 Axes>"
      ]
     },
     "metadata": {},
     "output_type": "display_data"
    }
   ],
   "source": [
    "valid_unique_text = set(pd.concat([valid['less_toxic'], valid['more_toxic']]).unique())\n",
    "test_unique_text = set(test['text'].unique())\n",
    "tweets_unique_text = set(tweets['tweet'].unique())\n",
    "\n",
    "plt.figure(figsize=(6,6))\n",
    "venn3(subsets=(valid_unique_text, test_unique_text, tweets_unique_text),\n",
    "      set_labels=('Validation set', 'test set', 'tweets set'))\n",
    "plt.title('text')\n",
    "plt.tight_layout()\n",
    "plt.show()"
   ]
  },
  {
   "cell_type": "markdown",
   "id": "6afb548a",
   "metadata": {
    "papermill": {
     "duration": 0.032715,
     "end_time": "2022-01-04T15:13:50.457784",
     "exception": false,
     "start_time": "2022-01-04T15:13:50.425069",
     "status": "completed"
    },
    "tags": []
   },
   "source": [
    "test は validation に含まれている。一方で test は tweets にほとんど含まれていない。アンサンブルに使うスコアをつくるのであれば、ないよりはよいという考え。\n",
    "\n",
    "方針としては、特徴抽出して、adversarial validation により似ているサンプルセットを使って学習、予測という流れ。"
   ]
  },
  {
   "cell_type": "code",
   "execution_count": 8,
   "id": "704a62c9",
   "metadata": {
    "execution": {
     "iopub.execute_input": "2022-01-04T15:13:50.528068Z",
     "iopub.status.busy": "2022-01-04T15:13:50.527066Z",
     "iopub.status.idle": "2022-01-04T15:13:50.536432Z",
     "shell.execute_reply": "2022-01-04T15:13:50.536967Z",
     "shell.execute_reply.started": "2022-01-04T15:06:50.330643Z"
    },
    "papermill": {
     "duration": 0.046366,
     "end_time": "2022-01-04T15:13:50.537140",
     "exception": false,
     "start_time": "2022-01-04T15:13:50.490774",
     "status": "completed"
    },
    "tags": []
   },
   "outputs": [],
   "source": [
    "# クリーニング関数\n",
    "def utils_preprocess_text(text, flg_stemm=False, flg_lemm=True, lst_stopwords=None, whitelist=None):\n",
    "    # clean (convert to lowercase and remove punctuations and characters and then strip)\n",
    "    text = re.sub(r'[^\\w\\s]', '', str(text).lower().strip())\n",
    "    \n",
    "    # remove numbers\n",
    "    text = re.sub(r'[\\d]', '', text)\n",
    "            \n",
    "    # Tokenize (convert from string to list)\n",
    "    lst_text = text.split()\n",
    "    \n",
    "    # remove Stopwords\n",
    "    if lst_stopwords is not None:\n",
    "        lst_text = [word for word in lst_text if word not in lst_stopwords]\n",
    "                \n",
    "    # Stemming (remove -ing, -ly, ...)\n",
    "    if flg_stemm == True:\n",
    "        ps = nltk.stem.porter.PorterStemmer()\n",
    "        lst_text = [ps.stem(word) for word in lst_text]\n",
    "                \n",
    "    # Lemmatisation (convert the word into root word)\n",
    "    if flg_lemm == True:\n",
    "        lem = nltk.stem.wordnet.WordNetLemmatizer()\n",
    "        lst_text = [lem.lemmatize(word) for word in lst_text]\n",
    "    \n",
    "    # white words list\n",
    "    if whitelist is not None:\n",
    "        lst_text = [word for word in lst_text if word in whitelist]\n",
    "        \n",
    "    # back to string from list\n",
    "    text = ' '.join(lst_text)\n",
    "    \n",
    "    return text"
   ]
  },
  {
   "cell_type": "code",
   "execution_count": 9,
   "id": "df4b4c73",
   "metadata": {
    "execution": {
     "iopub.execute_input": "2022-01-04T15:13:50.609854Z",
     "iopub.status.busy": "2022-01-04T15:13:50.608888Z",
     "iopub.status.idle": "2022-01-04T15:14:04.077923Z",
     "shell.execute_reply": "2022-01-04T15:14:04.078855Z",
     "shell.execute_reply.started": "2022-01-04T15:06:57.119520Z"
    },
    "papermill": {
     "duration": 13.507882,
     "end_time": "2022-01-04T15:14:04.079043",
     "exception": false,
     "start_time": "2022-01-04T15:13:50.571161",
     "status": "completed"
    },
    "tags": []
   },
   "outputs": [
    {
     "name": "stdout",
     "output_type": "stream",
     "text": [
      "test_words size: 23636\n",
      "CPU times: user 13.3 s, sys: 139 ms, total: 13.4 s\n",
      "Wall time: 13.5 s\n"
     ]
    }
   ],
   "source": [
    "%%time\n",
    "stop_words = list(text.ENGLISH_STOP_WORDS)\n",
    "\n",
    "# test のクリーニング\n",
    "test['text_clean'] = test['text'].apply(lambda x: \n",
    "    utils_preprocess_text(x, flg_stemm=True, flg_lemm=True, lst_stopwords=stop_words, whitelist=None)\n",
    ")\n",
    "\n",
    "test_words = set(' '.join(test['text_clean']).split())\n",
    "print(f'test_words size: {len(test_words)}')"
   ]
  },
  {
   "cell_type": "code",
   "execution_count": 10,
   "id": "6083bd5b",
   "metadata": {
    "execution": {
     "iopub.execute_input": "2022-01-04T15:14:04.149306Z",
     "iopub.status.busy": "2022-01-04T15:14:04.148293Z",
     "iopub.status.idle": "2022-01-04T15:14:45.753078Z",
     "shell.execute_reply": "2022-01-04T15:14:45.753607Z",
     "shell.execute_reply.started": "2022-01-04T15:07:28.586779Z"
    },
    "papermill": {
     "duration": 41.641736,
     "end_time": "2022-01-04T15:14:45.753813",
     "exception": false,
     "start_time": "2022-01-04T15:14:04.112077",
     "status": "completed"
    },
    "tags": []
   },
   "outputs": [
    {
     "name": "stdout",
     "output_type": "stream",
     "text": [
      "CPU times: user 41.5 s, sys: 48.3 ms, total: 41.5 s\n",
      "Wall time: 41.6 s\n"
     ]
    }
   ],
   "source": [
    "%%time\n",
    "\n",
    "# valid のクリーニング\n",
    "valid_unique_text = pd.Series(pd.concat([valid['less_toxic'], valid['more_toxic']]).unique())\n",
    "valid_unique_text_cleaned = valid_unique_text.apply(lambda x: \n",
    "    utils_preprocess_text(x, flg_stemm=True, flg_lemm=True, lst_stopwords=stop_words, whitelist=test_words)\n",
    ")\n",
    "valid_unique_text_dic = {text: cleaned_text for text, cleaned_text in zip(valid_unique_text, valid_unique_text_cleaned)}\n",
    "valid['less_toxic_clean'] = valid['less_toxic'].map(valid_unique_text_dic)\n",
    "valid['more_toxic_clean'] = valid['more_toxic'].map(valid_unique_text_dic)\n",
    "\n",
    "# wiki のクリーニング\n",
    "tweets = tweets.rename(columns={'tweet': 'text'})\n",
    "tweets['text_clean'] = tweets['text'].apply(lambda x: \n",
    "    utils_preprocess_text(x, flg_stemm=True, flg_lemm=True, lst_stopwords=stop_words, whitelist=test_words)\n",
    ")"
   ]
  },
  {
   "cell_type": "code",
   "execution_count": 11,
   "id": "04b10746",
   "metadata": {
    "execution": {
     "iopub.execute_input": "2022-01-04T15:14:45.825467Z",
     "iopub.status.busy": "2022-01-04T15:14:45.824495Z",
     "iopub.status.idle": "2022-01-04T15:14:45.884668Z",
     "shell.execute_reply": "2022-01-04T15:14:45.885285Z",
     "shell.execute_reply.started": "2022-01-04T15:08:10.323970Z"
    },
    "papermill": {
     "duration": 0.097575,
     "end_time": "2022-01-04T15:14:45.885467",
     "exception": false,
     "start_time": "2022-01-04T15:14:45.787892",
     "status": "completed"
    },
    "tags": []
   },
   "outputs": [
    {
     "data": {
      "text/html": [
       "<div>\n",
       "<style scoped>\n",
       "    .dataframe tbody tr th:only-of-type {\n",
       "        vertical-align: middle;\n",
       "    }\n",
       "\n",
       "    .dataframe tbody tr th {\n",
       "        vertical-align: top;\n",
       "    }\n",
       "\n",
       "    .dataframe thead th {\n",
       "        text-align: right;\n",
       "    }\n",
       "</style>\n",
       "<table border=\"1\" class=\"dataframe\">\n",
       "  <thead>\n",
       "    <tr style=\"text-align: right;\">\n",
       "      <th></th>\n",
       "      <th>less_toxic</th>\n",
       "      <th>less_toxic_clean</th>\n",
       "    </tr>\n",
       "  </thead>\n",
       "  <tbody>\n",
       "    <tr>\n",
       "      <th>0</th>\n",
       "      <td>This article sucks \\n\\nwoo woo wooooooo</td>\n",
       "      <td>articl suck woo woo wooooooo</td>\n",
       "    </tr>\n",
       "    <tr>\n",
       "      <th>1</th>\n",
       "      <td>\"And yes, people should recognize that but the...</td>\n",
       "      <td>ye peopl recogn usual dont object hear direct ...</td>\n",
       "    </tr>\n",
       "    <tr>\n",
       "      <th>2</th>\n",
       "      <td>Western Media?\\n\\nYup, because every crime in...</td>\n",
       "      <td>western medium yup crime entir world caus west...</td>\n",
       "    </tr>\n",
       "    <tr>\n",
       "      <th>3</th>\n",
       "      <td>And you removed it! You numbskull! I don't car...</td>\n",
       "      <td>remov numbskul dont care say anymor life ahead...</td>\n",
       "    </tr>\n",
       "    <tr>\n",
       "      <th>4</th>\n",
       "      <td>smelly vagina \\n\\nBluerasberry why don't you ...</td>\n",
       "      <td>smelli vagina bluerasberri dont model cheesi b...</td>\n",
       "    </tr>\n",
       "    <tr>\n",
       "      <th>...</th>\n",
       "      <td>...</td>\n",
       "      <td>...</td>\n",
       "    </tr>\n",
       "    <tr>\n",
       "      <th>30103</th>\n",
       "      <td>I'm sorry. I'm not an admin. I will give you t...</td>\n",
       "      <td>im sorri im admin piec advic edit page away gu...</td>\n",
       "    </tr>\n",
       "    <tr>\n",
       "      <th>30104</th>\n",
       "      <td>I'm sorry. I'm not an admin. I will give you t...</td>\n",
       "      <td>im sorri im admin piec advic edit page away gu...</td>\n",
       "    </tr>\n",
       "    <tr>\n",
       "      <th>30105</th>\n",
       "      <td>wow...\\nare you out of your mind, how was my e...</td>\n",
       "      <td>wow mind edit talk page vandal simpli explain ...</td>\n",
       "    </tr>\n",
       "    <tr>\n",
       "      <th>30106</th>\n",
       "      <td>wow...\\nare you out of your mind, how was my e...</td>\n",
       "      <td>wow mind edit talk page vandal simpli explain ...</td>\n",
       "    </tr>\n",
       "    <tr>\n",
       "      <th>30107</th>\n",
       "      <td>wow...\\nare you out of your mind, how was my e...</td>\n",
       "      <td>wow mind edit talk page vandal simpli explain ...</td>\n",
       "    </tr>\n",
       "  </tbody>\n",
       "</table>\n",
       "<p>30108 rows × 2 columns</p>\n",
       "</div>"
      ],
      "text/plain": [
       "                                              less_toxic  \\\n",
       "0                This article sucks \\n\\nwoo woo wooooooo   \n",
       "1      \"And yes, people should recognize that but the...   \n",
       "2       Western Media?\\n\\nYup, because every crime in...   \n",
       "3      And you removed it! You numbskull! I don't car...   \n",
       "4       smelly vagina \\n\\nBluerasberry why don't you ...   \n",
       "...                                                  ...   \n",
       "30103  I'm sorry. I'm not an admin. I will give you t...   \n",
       "30104  I'm sorry. I'm not an admin. I will give you t...   \n",
       "30105  wow...\\nare you out of your mind, how was my e...   \n",
       "30106  wow...\\nare you out of your mind, how was my e...   \n",
       "30107  wow...\\nare you out of your mind, how was my e...   \n",
       "\n",
       "                                        less_toxic_clean  \n",
       "0                           articl suck woo woo wooooooo  \n",
       "1      ye peopl recogn usual dont object hear direct ...  \n",
       "2      western medium yup crime entir world caus west...  \n",
       "3      remov numbskul dont care say anymor life ahead...  \n",
       "4      smelli vagina bluerasberri dont model cheesi b...  \n",
       "...                                                  ...  \n",
       "30103  im sorri im admin piec advic edit page away gu...  \n",
       "30104  im sorri im admin piec advic edit page away gu...  \n",
       "30105  wow mind edit talk page vandal simpli explain ...  \n",
       "30106  wow mind edit talk page vandal simpli explain ...  \n",
       "30107  wow mind edit talk page vandal simpli explain ...  \n",
       "\n",
       "[30108 rows x 2 columns]"
      ]
     },
     "metadata": {},
     "output_type": "display_data"
    },
    {
     "data": {
      "text/html": [
       "<div>\n",
       "<style scoped>\n",
       "    .dataframe tbody tr th:only-of-type {\n",
       "        vertical-align: middle;\n",
       "    }\n",
       "\n",
       "    .dataframe tbody tr th {\n",
       "        vertical-align: top;\n",
       "    }\n",
       "\n",
       "    .dataframe thead th {\n",
       "        text-align: right;\n",
       "    }\n",
       "</style>\n",
       "<table border=\"1\" class=\"dataframe\">\n",
       "  <thead>\n",
       "    <tr style=\"text-align: right;\">\n",
       "      <th></th>\n",
       "      <th>more_toxic</th>\n",
       "      <th>more_toxic_clean</th>\n",
       "    </tr>\n",
       "  </thead>\n",
       "  <tbody>\n",
       "    <tr>\n",
       "      <th>0</th>\n",
       "      <td>WHAT!!!!!!!!?!?!!?!?!!?!?!?!?!!!!!!!!!!!!!!!!!...</td>\n",
       "      <td>wher sexi pic gone main page</td>\n",
       "    </tr>\n",
       "    <tr>\n",
       "      <th>1</th>\n",
       "      <td>Daphne Guinness \\n\\nTop of the mornin' my fav...</td>\n",
       "      <td>daphn guin mornin favourit alien life form im ...</td>\n",
       "    </tr>\n",
       "    <tr>\n",
       "      <th>2</th>\n",
       "      <td>\"Atom you don't believe actual photos of mastu...</td>\n",
       "      <td>atom dont believ actual photo masturb sexual e...</td>\n",
       "    </tr>\n",
       "    <tr>\n",
       "      <th>3</th>\n",
       "      <td>You seem to have sand in your vagina.\\n\\nMight...</td>\n",
       "      <td>sand vagina want wash stink hole bitch</td>\n",
       "    </tr>\n",
       "    <tr>\n",
       "      <th>4</th>\n",
       "      <td>hey \\n\\nway to support nazis, you racist</td>\n",
       "      <td>hey way support nazi racist</td>\n",
       "    </tr>\n",
       "    <tr>\n",
       "      <th>...</th>\n",
       "      <td>...</td>\n",
       "      <td>...</td>\n",
       "    </tr>\n",
       "    <tr>\n",
       "      <th>30103</th>\n",
       "      <td>get out my large penis</td>\n",
       "      <td>larg peni</td>\n",
       "    </tr>\n",
       "    <tr>\n",
       "      <th>30104</th>\n",
       "      <td>get out my large penis</td>\n",
       "      <td>larg peni</td>\n",
       "    </tr>\n",
       "    <tr>\n",
       "      <th>30105</th>\n",
       "      <td>Piss off you slant eyed-gook</td>\n",
       "      <td>piss slant eyedgook</td>\n",
       "    </tr>\n",
       "    <tr>\n",
       "      <th>30106</th>\n",
       "      <td>Piss off you slant eyed-gook</td>\n",
       "      <td>piss slant eyedgook</td>\n",
       "    </tr>\n",
       "    <tr>\n",
       "      <th>30107</th>\n",
       "      <td>Piss off you slant eyed-gook</td>\n",
       "      <td>piss slant eyedgook</td>\n",
       "    </tr>\n",
       "  </tbody>\n",
       "</table>\n",
       "<p>30108 rows × 2 columns</p>\n",
       "</div>"
      ],
      "text/plain": [
       "                                              more_toxic  \\\n",
       "0      WHAT!!!!!!!!?!?!!?!?!!?!?!?!?!!!!!!!!!!!!!!!!!...   \n",
       "1       Daphne Guinness \\n\\nTop of the mornin' my fav...   \n",
       "2      \"Atom you don't believe actual photos of mastu...   \n",
       "3      You seem to have sand in your vagina.\\n\\nMight...   \n",
       "4               hey \\n\\nway to support nazis, you racist   \n",
       "...                                                  ...   \n",
       "30103                             get out my large penis   \n",
       "30104                             get out my large penis   \n",
       "30105                       Piss off you slant eyed-gook   \n",
       "30106                       Piss off you slant eyed-gook   \n",
       "30107                       Piss off you slant eyed-gook   \n",
       "\n",
       "                                        more_toxic_clean  \n",
       "0                           wher sexi pic gone main page  \n",
       "1      daphn guin mornin favourit alien life form im ...  \n",
       "2      atom dont believ actual photo masturb sexual e...  \n",
       "3                 sand vagina want wash stink hole bitch  \n",
       "4                            hey way support nazi racist  \n",
       "...                                                  ...  \n",
       "30103                                          larg peni  \n",
       "30104                                          larg peni  \n",
       "30105                                piss slant eyedgook  \n",
       "30106                                piss slant eyedgook  \n",
       "30107                                piss slant eyedgook  \n",
       "\n",
       "[30108 rows x 2 columns]"
      ]
     },
     "metadata": {},
     "output_type": "display_data"
    },
    {
     "data": {
      "text/html": [
       "<div>\n",
       "<style scoped>\n",
       "    .dataframe tbody tr th:only-of-type {\n",
       "        vertical-align: middle;\n",
       "    }\n",
       "\n",
       "    .dataframe tbody tr th {\n",
       "        vertical-align: top;\n",
       "    }\n",
       "\n",
       "    .dataframe thead th {\n",
       "        text-align: right;\n",
       "    }\n",
       "</style>\n",
       "<table border=\"1\" class=\"dataframe\">\n",
       "  <thead>\n",
       "    <tr style=\"text-align: right;\">\n",
       "      <th></th>\n",
       "      <th>text</th>\n",
       "      <th>text_clean</th>\n",
       "    </tr>\n",
       "  </thead>\n",
       "  <tbody>\n",
       "    <tr>\n",
       "      <th>0</th>\n",
       "      <td>\"\\n \\n\\nGjalexei, you asked about whether ther...</td>\n",
       "      <td>gjalexei ask antieditori polici call wikipedia...</td>\n",
       "    </tr>\n",
       "    <tr>\n",
       "      <th>1</th>\n",
       "      <td>Looks like be have an abuser , can you please ...</td>\n",
       "      <td>look like abus look thank</td>\n",
       "    </tr>\n",
       "    <tr>\n",
       "      <th>2</th>\n",
       "      <td>I confess to having complete (and apparently b...</td>\n",
       "      <td>confess have complet appar bliss ignor jordan ...</td>\n",
       "    </tr>\n",
       "    <tr>\n",
       "      <th>3</th>\n",
       "      <td>\"\\n\\nFreud's ideas are certainly much discusse...</td>\n",
       "      <td>freud idea certainli discus today agre grappl ...</td>\n",
       "    </tr>\n",
       "    <tr>\n",
       "      <th>4</th>\n",
       "      <td>It is not just you. This is a laundry list of ...</td>\n",
       "      <td>just laundri list stupid alleg scoop godknowsw...</td>\n",
       "    </tr>\n",
       "    <tr>\n",
       "      <th>...</th>\n",
       "      <td>...</td>\n",
       "      <td>...</td>\n",
       "    </tr>\n",
       "    <tr>\n",
       "      <th>7532</th>\n",
       "      <td>Go away, you annoying vandal.</td>\n",
       "      <td>away annoy vandal</td>\n",
       "    </tr>\n",
       "    <tr>\n",
       "      <th>7533</th>\n",
       "      <td>This user is a vandal.</td>\n",
       "      <td>user vandal</td>\n",
       "    </tr>\n",
       "    <tr>\n",
       "      <th>7534</th>\n",
       "      <td>\" \\n\\nSorry to sound like a pain, but one by f...</td>\n",
       "      <td>sorri sound like pain follow tad stalk honesti...</td>\n",
       "    </tr>\n",
       "    <tr>\n",
       "      <th>7535</th>\n",
       "      <td>Well it's pretty fucking irrelevant now I'm un...</td>\n",
       "      <td>pretti fuck irrelev im unblock aint</td>\n",
       "    </tr>\n",
       "    <tr>\n",
       "      <th>7536</th>\n",
       "      <td>The team name is Great Britain and Northern Ir...</td>\n",
       "      <td>team great britain northern ireland blind reve...</td>\n",
       "    </tr>\n",
       "  </tbody>\n",
       "</table>\n",
       "<p>7537 rows × 2 columns</p>\n",
       "</div>"
      ],
      "text/plain": [
       "                                                   text  \\\n",
       "0     \"\\n \\n\\nGjalexei, you asked about whether ther...   \n",
       "1     Looks like be have an abuser , can you please ...   \n",
       "2     I confess to having complete (and apparently b...   \n",
       "3     \"\\n\\nFreud's ideas are certainly much discusse...   \n",
       "4     It is not just you. This is a laundry list of ...   \n",
       "...                                                 ...   \n",
       "7532                      Go away, you annoying vandal.   \n",
       "7533                             This user is a vandal.   \n",
       "7534  \" \\n\\nSorry to sound like a pain, but one by f...   \n",
       "7535  Well it's pretty fucking irrelevant now I'm un...   \n",
       "7536  The team name is Great Britain and Northern Ir...   \n",
       "\n",
       "                                             text_clean  \n",
       "0     gjalexei ask antieditori polici call wikipedia...  \n",
       "1                             look like abus look thank  \n",
       "2     confess have complet appar bliss ignor jordan ...  \n",
       "3     freud idea certainli discus today agre grappl ...  \n",
       "4     just laundri list stupid alleg scoop godknowsw...  \n",
       "...                                                 ...  \n",
       "7532                                  away annoy vandal  \n",
       "7533                                        user vandal  \n",
       "7534  sorri sound like pain follow tad stalk honesti...  \n",
       "7535                pretti fuck irrelev im unblock aint  \n",
       "7536  team great britain northern ireland blind reve...  \n",
       "\n",
       "[7537 rows x 2 columns]"
      ]
     },
     "metadata": {},
     "output_type": "display_data"
    },
    {
     "data": {
      "text/html": [
       "<div>\n",
       "<style scoped>\n",
       "    .dataframe tbody tr th:only-of-type {\n",
       "        vertical-align: middle;\n",
       "    }\n",
       "\n",
       "    .dataframe tbody tr th {\n",
       "        vertical-align: top;\n",
       "    }\n",
       "\n",
       "    .dataframe thead th {\n",
       "        text-align: right;\n",
       "    }\n",
       "</style>\n",
       "<table border=\"1\" class=\"dataframe\">\n",
       "  <thead>\n",
       "    <tr style=\"text-align: right;\">\n",
       "      <th></th>\n",
       "      <th>text</th>\n",
       "      <th>text_clean</th>\n",
       "    </tr>\n",
       "  </thead>\n",
       "  <tbody>\n",
       "    <tr>\n",
       "      <th>0</th>\n",
       "      <td>@user when a father is dysfunctional and is so...</td>\n",
       "      <td>user father dysfunct selfish drag kid dysfunct...</td>\n",
       "    </tr>\n",
       "    <tr>\n",
       "      <th>1</th>\n",
       "      <td>@user @user thanks for #lyft credit i can't us...</td>\n",
       "      <td>user user thank credit use caus dont offer van...</td>\n",
       "    </tr>\n",
       "    <tr>\n",
       "      <th>2</th>\n",
       "      <td>bihday your majesty</td>\n",
       "      <td>majesti</td>\n",
       "    </tr>\n",
       "    <tr>\n",
       "      <th>3</th>\n",
       "      <td>#model   i love u take with u all the time in ...</td>\n",
       "      <td>model love u u time</td>\n",
       "    </tr>\n",
       "    <tr>\n",
       "      <th>4</th>\n",
       "      <td>factsguide: society now    #motivation</td>\n",
       "      <td>societi motiv</td>\n",
       "    </tr>\n",
       "    <tr>\n",
       "      <th>...</th>\n",
       "      <td>...</td>\n",
       "      <td>...</td>\n",
       "    </tr>\n",
       "    <tr>\n",
       "      <th>56740</th>\n",
       "      <td>you's a muthaf***in lie &amp;#8220;@LifeAsKing: @2...</td>\n",
       "      <td>you lie right trash bibl scriptur</td>\n",
       "    </tr>\n",
       "    <tr>\n",
       "      <th>56741</th>\n",
       "      <td>you've gone and broke the wrong heart baby, an...</td>\n",
       "      <td>youv gone broke wrong heart babi drove redneck...</td>\n",
       "    </tr>\n",
       "    <tr>\n",
       "      <th>56742</th>\n",
       "      <td>young buck wanna eat!!.. dat nigguh like I ain...</td>\n",
       "      <td>young buck wanna eat dat like aint fuckin di</td>\n",
       "    </tr>\n",
       "    <tr>\n",
       "      <th>56743</th>\n",
       "      <td>youu got wild bitches tellin you lies</td>\n",
       "      <td>got wild bitch tellin lie</td>\n",
       "    </tr>\n",
       "    <tr>\n",
       "      <th>56744</th>\n",
       "      <td>~~Ruffled | Ntac Eileen Dahlia - Beautiful col...</td>\n",
       "      <td>ruffl beauti color combin pink orang yellow wh...</td>\n",
       "    </tr>\n",
       "  </tbody>\n",
       "</table>\n",
       "<p>56745 rows × 2 columns</p>\n",
       "</div>"
      ],
      "text/plain": [
       "                                                    text  \\\n",
       "0      @user when a father is dysfunctional and is so...   \n",
       "1      @user @user thanks for #lyft credit i can't us...   \n",
       "2                                    bihday your majesty   \n",
       "3      #model   i love u take with u all the time in ...   \n",
       "4                 factsguide: society now    #motivation   \n",
       "...                                                  ...   \n",
       "56740  you's a muthaf***in lie &#8220;@LifeAsKing: @2...   \n",
       "56741  you've gone and broke the wrong heart baby, an...   \n",
       "56742  young buck wanna eat!!.. dat nigguh like I ain...   \n",
       "56743              youu got wild bitches tellin you lies   \n",
       "56744  ~~Ruffled | Ntac Eileen Dahlia - Beautiful col...   \n",
       "\n",
       "                                              text_clean  \n",
       "0      user father dysfunct selfish drag kid dysfunct...  \n",
       "1      user user thank credit use caus dont offer van...  \n",
       "2                                                majesti  \n",
       "3                                    model love u u time  \n",
       "4                                          societi motiv  \n",
       "...                                                  ...  \n",
       "56740                  you lie right trash bibl scriptur  \n",
       "56741  youv gone broke wrong heart babi drove redneck...  \n",
       "56742       young buck wanna eat dat like aint fuckin di  \n",
       "56743                          got wild bitch tellin lie  \n",
       "56744  ruffl beauti color combin pink orang yellow wh...  \n",
       "\n",
       "[56745 rows x 2 columns]"
      ]
     },
     "metadata": {},
     "output_type": "display_data"
    }
   ],
   "source": [
    "display(valid[['less_toxic', 'less_toxic_clean']])\n",
    "display(valid[['more_toxic', 'more_toxic_clean']])\n",
    "display(test[['text', 'text_clean']])\n",
    "display(tweets[['text', 'text_clean']])"
   ]
  },
  {
   "cell_type": "code",
   "execution_count": 12,
   "id": "9970c0c7",
   "metadata": {
    "execution": {
     "iopub.execute_input": "2022-01-04T15:14:45.962884Z",
     "iopub.status.busy": "2022-01-04T15:14:45.961891Z",
     "iopub.status.idle": "2022-01-04T15:14:46.079715Z",
     "shell.execute_reply": "2022-01-04T15:14:46.079165Z",
     "shell.execute_reply.started": "2022-01-04T15:08:14.577707Z"
    },
    "papermill": {
     "duration": 0.157582,
     "end_time": "2022-01-04T15:14:46.079903",
     "exception": false,
     "start_time": "2022-01-04T15:14:45.922321",
     "status": "completed"
    },
    "tags": []
   },
   "outputs": [
    {
     "name": "stdout",
     "output_type": "stream",
     "text": [
      "1 / 7537\n",
      "21 / 30108\n",
      "21 / 30108\n",
      "263 / 56745\n"
     ]
    }
   ],
   "source": [
    "# クリーニングにより空文字列になった文字列を抽出\n",
    "print(sum(test['text_clean'].apply(lambda x: len(x)) == 0), '/', len(test))\n",
    "print(sum(valid['less_toxic_clean'].apply(lambda x: len(x)) == 0), '/', len(valid))\n",
    "print(sum(valid['more_toxic_clean'].apply(lambda x: len(x)) == 0), '/', len(valid))\n",
    "print(sum(tweets['text_clean'].apply(lambda x: len(x)) == 0), '/', len(tweets))"
   ]
  },
  {
   "cell_type": "code",
   "execution_count": 13,
   "id": "7d265615",
   "metadata": {
    "execution": {
     "iopub.execute_input": "2022-01-04T15:14:46.159906Z",
     "iopub.status.busy": "2022-01-04T15:14:46.159209Z",
     "iopub.status.idle": "2022-01-04T15:14:46.268501Z",
     "shell.execute_reply": "2022-01-04T15:14:46.267897Z",
     "shell.execute_reply.started": "2022-01-04T15:08:34.097556Z"
    },
    "papermill": {
     "duration": 0.150211,
     "end_time": "2022-01-04T15:14:46.268662",
     "exception": false,
     "start_time": "2022-01-04T15:14:46.118451",
     "status": "completed"
    },
    "tags": []
   },
   "outputs": [],
   "source": [
    "# 空文字列の行を除く\n",
    "tweets['word_size'] = tweets['text_clean'].apply(lambda x: len(x))\n",
    "valid['less_toxic_size'] = valid['less_toxic_clean'].apply(lambda x: len(x))\n",
    "valid['more_toxic_size'] = valid['more_toxic_clean'].apply(lambda x: len(x))\n",
    "\n",
    "tweets = tweets.query('word_size != 0')\n",
    "valid = valid.query('less_toxic_size != 0 | more_toxic_size != 0')"
   ]
  },
  {
   "cell_type": "code",
   "execution_count": 14,
   "id": "945835d6",
   "metadata": {
    "execution": {
     "iopub.execute_input": "2022-01-04T15:14:46.350687Z",
     "iopub.status.busy": "2022-01-04T15:14:46.349983Z",
     "iopub.status.idle": "2022-01-04T15:14:46.357335Z",
     "shell.execute_reply": "2022-01-04T15:14:46.357956Z",
     "shell.execute_reply.started": "2022-01-04T15:08:55.859904Z"
    },
    "papermill": {
     "duration": 0.052318,
     "end_time": "2022-01-04T15:14:46.358138",
     "exception": false,
     "start_time": "2022-01-04T15:14:46.305820",
     "status": "completed"
    },
    "tags": []
   },
   "outputs": [
    {
     "name": "stdout",
     "output_type": "stream",
     "text": [
      "advval_train_X shape: (64019,)\n",
      "advval_train_y shape: (64019,)\n"
     ]
    }
   ],
   "source": [
    "# preparing adversarial validation\n",
    "advval_train_X = pd.concat([tweets['text_clean'], test['text_clean']])\n",
    "advval_train_y = pd.concat([pd.Series(np.ones(tweets.shape[0])), pd.Series(np.zeros(test.shape[0]))])\n",
    "advval_valid_less_X = valid['less_toxic_clean']\n",
    "advval_valid_more_X = valid['more_toxic_clean']\n",
    "\n",
    "print(f'advval_train_X shape: {advval_train_X.shape}')\n",
    "print(f'advval_train_y shape: {advval_train_y.shape}')"
   ]
  },
  {
   "cell_type": "code",
   "execution_count": 15,
   "id": "2b6d1b3a",
   "metadata": {
    "execution": {
     "iopub.execute_input": "2022-01-04T15:14:46.438020Z",
     "iopub.status.busy": "2022-01-04T15:14:46.437267Z",
     "iopub.status.idle": "2022-01-04T15:14:50.562240Z",
     "shell.execute_reply": "2022-01-04T15:14:50.561680Z",
     "shell.execute_reply.started": "2022-01-04T15:09:05.150321Z"
    },
    "papermill": {
     "duration": 4.166088,
     "end_time": "2022-01-04T15:14:50.562387",
     "exception": false,
     "start_time": "2022-01-04T15:14:46.396299",
     "status": "completed"
    },
    "tags": []
   },
   "outputs": [
    {
     "name": "stdout",
     "output_type": "stream",
     "text": [
      "feature extracting ...\n",
      "Total number of features: 9247\n",
      "CPU times: user 4.09 s, sys: 23 ms, total: 4.11 s\n",
      "Wall time: 4.12 s\n"
     ]
    }
   ],
   "source": [
    "%%time\n",
    "\n",
    "# 特徴抽出\n",
    "print(f'feature extracting ...')\n",
    "advval_tfidf = TfidfVectorizer(\n",
    "    stop_words=stop_words,\n",
    "    min_df=3,\n",
    "    max_df=0.5, \n",
    "    max_features=100_000,\n",
    "    analyzer='word',\n",
    "    ngram_range=(1, 1)\n",
    ")\n",
    "advval_train_X_tfidf = advval_tfidf.fit_transform(advval_train_X)\n",
    "advval_train_X_tfidf_feature_names = advval_tfidf.get_feature_names()\n",
    "advval_train_X_tfidf_vocab = advval_tfidf.vocabulary_\n",
    "advval_valid_less_X_tfidf = advval_tfidf.transform(advval_valid_less_X)\n",
    "advval_valid_more_X_tfidf = advval_tfidf.transform(advval_valid_more_X)\n",
    "\n",
    "print('Total number of features:', advval_train_X_tfidf.shape[1])"
   ]
  },
  {
   "cell_type": "code",
   "execution_count": 16,
   "id": "a7764c8e",
   "metadata": {
    "execution": {
     "iopub.execute_input": "2022-01-04T15:14:50.642606Z",
     "iopub.status.busy": "2022-01-04T15:14:50.641590Z",
     "iopub.status.idle": "2022-01-04T15:14:50.670198Z",
     "shell.execute_reply": "2022-01-04T15:14:50.670716Z",
     "shell.execute_reply.started": "2022-01-04T15:09:20.183674Z"
    },
    "papermill": {
     "duration": 0.069984,
     "end_time": "2022-01-04T15:14:50.670904",
     "exception": false,
     "start_time": "2022-01-04T15:14:50.600920",
     "status": "completed"
    },
    "tags": []
   },
   "outputs": [
    {
     "data": {
      "text/html": [
       "<div>\n",
       "<style scoped>\n",
       "    .dataframe tbody tr th:only-of-type {\n",
       "        vertical-align: middle;\n",
       "    }\n",
       "\n",
       "    .dataframe tbody tr th {\n",
       "        vertical-align: top;\n",
       "    }\n",
       "\n",
       "    .dataframe thead th {\n",
       "        text-align: right;\n",
       "    }\n",
       "</style>\n",
       "<table border=\"1\" class=\"dataframe\">\n",
       "  <thead>\n",
       "    <tr style=\"text-align: right;\">\n",
       "      <th></th>\n",
       "      <th>word</th>\n",
       "      <th>weight</th>\n",
       "    </tr>\n",
       "  </thead>\n",
       "  <tbody>\n",
       "    <tr>\n",
       "      <th>791</th>\n",
       "      <td>bhadani</td>\n",
       "      <td>10.680656</td>\n",
       "    </tr>\n",
       "    <tr>\n",
       "      <th>1023</th>\n",
       "      <td>brixton</td>\n",
       "      <td>10.680656</td>\n",
       "    </tr>\n",
       "    <tr>\n",
       "      <th>3242</th>\n",
       "      <td>gale</td>\n",
       "      <td>10.680656</td>\n",
       "    </tr>\n",
       "    <tr>\n",
       "      <th>3237</th>\n",
       "      <td>gail</td>\n",
       "      <td>10.680656</td>\n",
       "    </tr>\n",
       "    <tr>\n",
       "      <th>3234</th>\n",
       "      <td>gaddafi</td>\n",
       "      <td>10.680656</td>\n",
       "    </tr>\n",
       "    <tr>\n",
       "      <th>...</th>\n",
       "      <td>...</td>\n",
       "      <td>...</td>\n",
       "    </tr>\n",
       "    <tr>\n",
       "      <th>3775</th>\n",
       "      <td>hoe</td>\n",
       "      <td>3.772401</td>\n",
       "    </tr>\n",
       "    <tr>\n",
       "      <th>4689</th>\n",
       "      <td>like</td>\n",
       "      <td>3.549558</td>\n",
       "    </tr>\n",
       "    <tr>\n",
       "      <th>6944</th>\n",
       "      <td>rt</td>\n",
       "      <td>3.192503</td>\n",
       "    </tr>\n",
       "    <tr>\n",
       "      <th>836</th>\n",
       "      <td>bitch</td>\n",
       "      <td>2.773465</td>\n",
       "    </tr>\n",
       "    <tr>\n",
       "      <th>8632</th>\n",
       "      <td>user</td>\n",
       "      <td>2.708104</td>\n",
       "    </tr>\n",
       "  </tbody>\n",
       "</table>\n",
       "<p>9247 rows × 2 columns</p>\n",
       "</div>"
      ],
      "text/plain": [
       "         word     weight\n",
       "791   bhadani  10.680656\n",
       "1023  brixton  10.680656\n",
       "3242     gale  10.680656\n",
       "3237     gail  10.680656\n",
       "3234  gaddafi  10.680656\n",
       "...       ...        ...\n",
       "3775      hoe   3.772401\n",
       "4689     like   3.549558\n",
       "6944       rt   3.192503\n",
       "836     bitch   2.773465\n",
       "8632     user   2.708104\n",
       "\n",
       "[9247 rows x 2 columns]"
      ]
     },
     "execution_count": 16,
     "metadata": {},
     "output_type": "execute_result"
    }
   ],
   "source": [
    "# idf ranking\n",
    "idf = {'word': advval_tfidf.get_feature_names(), 'weight': advval_tfidf.idf_}\n",
    "pd.DataFrame(idf).sort_values('weight', ascending=False)"
   ]
  },
  {
   "cell_type": "code",
   "execution_count": 17,
   "id": "38610e65",
   "metadata": {
    "execution": {
     "iopub.execute_input": "2022-01-04T15:14:50.751444Z",
     "iopub.status.busy": "2022-01-04T15:14:50.750394Z",
     "iopub.status.idle": "2022-01-04T15:14:50.763937Z",
     "shell.execute_reply": "2022-01-04T15:14:50.764533Z",
     "shell.execute_reply.started": "2022-01-04T15:09:35.016213Z"
    },
    "papermill": {
     "duration": 0.055556,
     "end_time": "2022-01-04T15:14:50.764740",
     "exception": false,
     "start_time": "2022-01-04T15:14:50.709184",
     "status": "completed"
    },
    "tags": []
   },
   "outputs": [],
   "source": [
    "# adversarial validation\n",
    "def adversarial_validation(train_X, train_y, tfidf):\n",
    "\n",
    "    models = []\n",
    "    oof_train = np.zeros((train_X.shape[0],))\n",
    "    scores = []\n",
    "\n",
    "    stkf = StratifiedKFold(\n",
    "        n_splits=N_SPLITS, \n",
    "        shuffle=True,\n",
    "        random_state=None\n",
    "    )\n",
    "\n",
    "    # 交差検証\n",
    "    for fold_id, (train_idx, valid_idx) in enumerate(stkf.split(train_X, train_y)):\n",
    "        start = time.time()\n",
    "        print(f'* ' * 40)\n",
    "        print(f'fold_id: {fold_id}')\n",
    "\n",
    "        # 訓練データ、評価データ、テストデータを整形\n",
    "        print(f'preprocessing ...')\n",
    "        X_trn = train_X.iloc[train_idx].reset_index(drop=True)\n",
    "        X_val = train_X.iloc[valid_idx].reset_index(drop=True)\n",
    "        y_trn = train_y.iloc[train_idx].reset_index(drop=True)\n",
    "        y_val = train_y.iloc[valid_idx].reset_index(drop=True)\n",
    "\n",
    "        X_trn_tfidf = tfidf.transform(X_trn)\n",
    "        X_val_tfidf = tfidf.transform(X_val)\n",
    "\n",
    "        print('Total number of train samples:', X_trn_tfidf.shape[0])\n",
    "        print('Total number of valid samples:', X_val_tfidf.shape[0])\n",
    "\n",
    "        # 訓練\n",
    "        print(f'training ...')\n",
    "        clf = SGDClassifier(\n",
    "            loss='log', \n",
    "            class_weight='balanced',\n",
    "            max_iter=10000, \n",
    "            tol=1e-3, \n",
    "            n_jobs=-1\n",
    "        )\n",
    "\n",
    "        clf.fit(X_trn_tfidf, y_trn)\n",
    "\n",
    "        # 推論\n",
    "        print(f'predicting ...')\n",
    "        val_pred = clf.predict_proba(X_val_tfidf)[:, 1]\n",
    "        oof_train[valid_idx] = val_pred\n",
    "        models.append(clf)\n",
    "\n",
    "        # 評価\n",
    "        print(f'validation ...')\n",
    "        score_auc = roc_auc_score(y_val, val_pred)\n",
    "        scores.append(score_auc)\n",
    "        elapsed = time.time() - start\n",
    "        print(f'fold {fold_id} - score: {score_auc:.6f}, elapsed time: {elapsed:.2f} [sec]')\n",
    "\n",
    "    print(f'* ' * 40)\n",
    "    print(f'Average AUC: {sum(scores)/N_SPLITS:.6f}')\n",
    "    \n",
    "    return oof_train, models"
   ]
  },
  {
   "cell_type": "code",
   "execution_count": 18,
   "id": "39cba214",
   "metadata": {
    "execution": {
     "iopub.execute_input": "2022-01-04T15:14:50.851086Z",
     "iopub.status.busy": "2022-01-04T15:14:50.850401Z",
     "iopub.status.idle": "2022-01-04T15:14:57.692644Z",
     "shell.execute_reply": "2022-01-04T15:14:57.693454Z",
     "shell.execute_reply.started": "2022-01-04T15:09:42.448937Z"
    },
    "papermill": {
     "duration": 6.889213,
     "end_time": "2022-01-04T15:14:57.693752",
     "exception": false,
     "start_time": "2022-01-04T15:14:50.804539",
     "status": "completed"
    },
    "tags": []
   },
   "outputs": [
    {
     "name": "stdout",
     "output_type": "stream",
     "text": [
      "* * * * * * * * * * * * * * * * * * * * * * * * * * * * * * * * * * * * * * * * \n",
      "fold_id: 0\n",
      "preprocessing ...\n",
      "Total number of train samples: 51215\n",
      "Total number of valid samples: 12804\n",
      "training ...\n",
      "predicting ...\n",
      "validation ...\n",
      "fold 0 - score: 0.979626, elapsed time: 1.36 [sec]\n",
      "* * * * * * * * * * * * * * * * * * * * * * * * * * * * * * * * * * * * * * * * \n",
      "fold_id: 1\n",
      "preprocessing ...\n",
      "Total number of train samples: 51215\n",
      "Total number of valid samples: 12804\n",
      "training ...\n",
      "predicting ...\n",
      "validation ...\n",
      "fold 1 - score: 0.976522, elapsed time: 1.33 [sec]\n",
      "* * * * * * * * * * * * * * * * * * * * * * * * * * * * * * * * * * * * * * * * \n",
      "fold_id: 2\n",
      "preprocessing ...\n",
      "Total number of train samples: 51215\n",
      "Total number of valid samples: 12804\n",
      "training ...\n",
      "predicting ...\n",
      "validation ...\n",
      "fold 2 - score: 0.976253, elapsed time: 1.39 [sec]\n",
      "* * * * * * * * * * * * * * * * * * * * * * * * * * * * * * * * * * * * * * * * \n",
      "fold_id: 3\n",
      "preprocessing ...\n",
      "Total number of train samples: 51215\n",
      "Total number of valid samples: 12804\n",
      "training ...\n",
      "predicting ...\n",
      "validation ...\n",
      "fold 3 - score: 0.978123, elapsed time: 1.37 [sec]\n",
      "* * * * * * * * * * * * * * * * * * * * * * * * * * * * * * * * * * * * * * * * \n",
      "fold_id: 4\n",
      "preprocessing ...\n",
      "Total number of train samples: 51216\n",
      "Total number of valid samples: 12803\n",
      "training ...\n",
      "predicting ...\n",
      "validation ...\n",
      "fold 4 - score: 0.977470, elapsed time: 1.37 [sec]\n",
      "* * * * * * * * * * * * * * * * * * * * * * * * * * * * * * * * * * * * * * * * \n",
      "Average AUC: 0.977599\n",
      "CPU times: user 6.82 s, sys: 15 ms, total: 6.83 s\n",
      "Wall time: 6.84 s\n"
     ]
    }
   ],
   "source": [
    "%%time\n",
    "advval_oof_train, advval_models = adversarial_validation(advval_train_X, advval_train_y, advval_tfidf)"
   ]
  },
  {
   "cell_type": "markdown",
   "id": "d30e862d",
   "metadata": {
    "papermill": {
     "duration": 0.041364,
     "end_time": "2022-01-04T15:14:57.777160",
     "exception": false,
     "start_time": "2022-01-04T15:14:57.735796",
     "status": "completed"
    },
    "tags": []
   },
   "source": [
    "Average AUC が 0.80 程度だと train と test を分離できそうな分類器ができたということ。すなわち、訓練データとテストデータの特徴量分布が異なることを意味している。いま、訓練データをラベル1、テストデータをラベル0としたので、スコアの低い訓練データを取り出すことで、テストデータに近い訓練データが手に入る。"
   ]
  },
  {
   "cell_type": "code",
   "execution_count": 19,
   "id": "8a8c7231",
   "metadata": {
    "execution": {
     "iopub.execute_input": "2022-01-04T15:14:57.860872Z",
     "iopub.status.busy": "2022-01-04T15:14:57.860196Z",
     "iopub.status.idle": "2022-01-04T15:14:58.223985Z",
     "shell.execute_reply": "2022-01-04T15:14:58.223193Z",
     "shell.execute_reply.started": "2022-01-04T15:10:08.729583Z"
    },
    "papermill": {
     "duration": 0.406872,
     "end_time": "2022-01-04T15:14:58.224158",
     "exception": false,
     "start_time": "2022-01-04T15:14:57.817286",
     "status": "completed"
    },
    "tags": []
   },
   "outputs": [
    {
     "data": {
      "image/png": "[encoded data removed]",
      "text/plain": [
       "<Figure size 432x288 with 1 Axes>"
      ]
     },
     "metadata": {
      "needs_background": "light"
     },
     "output_type": "display_data"
    }
   ],
   "source": [
    "# スコア分布\n",
    "plt.figure()\n",
    "plt.hist(advval_oof_train, alpha=.8, bins=100)\n",
    "plt.show()"
   ]
  },
  {
   "cell_type": "code",
   "execution_count": 20,
   "id": "4ea107be",
   "metadata": {
    "execution": {
     "iopub.execute_input": "2022-01-04T15:14:58.316745Z",
     "iopub.status.busy": "2022-01-04T15:14:58.316025Z",
     "iopub.status.idle": "2022-01-04T15:14:58.327476Z",
     "shell.execute_reply": "2022-01-04T15:14:58.328133Z",
     "shell.execute_reply.started": "2022-01-04T15:10:18.648280Z"
    },
    "papermill": {
     "duration": 0.061357,
     "end_time": "2022-01-04T15:14:58.328310",
     "exception": false,
     "start_time": "2022-01-04T15:14:58.266953",
     "status": "completed"
    },
    "tags": []
   },
   "outputs": [
    {
     "data": {
      "text/html": [
       "<div>\n",
       "<style scoped>\n",
       "    .dataframe tbody tr th:only-of-type {\n",
       "        vertical-align: middle;\n",
       "    }\n",
       "\n",
       "    .dataframe tbody tr th {\n",
       "        vertical-align: top;\n",
       "    }\n",
       "\n",
       "    .dataframe thead th {\n",
       "        text-align: right;\n",
       "    }\n",
       "</style>\n",
       "<table border=\"1\" class=\"dataframe\">\n",
       "  <thead>\n",
       "    <tr style=\"text-align: right;\">\n",
       "      <th></th>\n",
       "      <th>oof_train</th>\n",
       "      <th>y</th>\n",
       "    </tr>\n",
       "  </thead>\n",
       "  <tbody>\n",
       "    <tr>\n",
       "      <th>0</th>\n",
       "      <td>0.816850</td>\n",
       "      <td>1.0</td>\n",
       "    </tr>\n",
       "    <tr>\n",
       "      <th>1</th>\n",
       "      <td>0.920340</td>\n",
       "      <td>1.0</td>\n",
       "    </tr>\n",
       "    <tr>\n",
       "      <th>2</th>\n",
       "      <td>0.659851</td>\n",
       "      <td>1.0</td>\n",
       "    </tr>\n",
       "    <tr>\n",
       "      <th>3</th>\n",
       "      <td>0.946754</td>\n",
       "      <td>1.0</td>\n",
       "    </tr>\n",
       "    <tr>\n",
       "      <th>4</th>\n",
       "      <td>0.755582</td>\n",
       "      <td>1.0</td>\n",
       "    </tr>\n",
       "    <tr>\n",
       "      <th>...</th>\n",
       "      <td>...</td>\n",
       "      <td>...</td>\n",
       "    </tr>\n",
       "    <tr>\n",
       "      <th>7532</th>\n",
       "      <td>0.092527</td>\n",
       "      <td>0.0</td>\n",
       "    </tr>\n",
       "    <tr>\n",
       "      <th>7533</th>\n",
       "      <td>0.595873</td>\n",
       "      <td>0.0</td>\n",
       "    </tr>\n",
       "    <tr>\n",
       "      <th>7534</th>\n",
       "      <td>0.012766</td>\n",
       "      <td>0.0</td>\n",
       "    </tr>\n",
       "    <tr>\n",
       "      <th>7535</th>\n",
       "      <td>0.315220</td>\n",
       "      <td>0.0</td>\n",
       "    </tr>\n",
       "    <tr>\n",
       "      <th>7536</th>\n",
       "      <td>0.325048</td>\n",
       "      <td>0.0</td>\n",
       "    </tr>\n",
       "  </tbody>\n",
       "</table>\n",
       "<p>64019 rows × 2 columns</p>\n",
       "</div>"
      ],
      "text/plain": [
       "      oof_train    y\n",
       "0      0.816850  1.0\n",
       "1      0.920340  1.0\n",
       "2      0.659851  1.0\n",
       "3      0.946754  1.0\n",
       "4      0.755582  1.0\n",
       "...         ...  ...\n",
       "7532   0.092527  0.0\n",
       "7533   0.595873  0.0\n",
       "7534   0.012766  0.0\n",
       "7535   0.315220  0.0\n",
       "7536   0.325048  0.0\n",
       "\n",
       "[64019 rows x 2 columns]"
      ]
     },
     "execution_count": 20,
     "metadata": {},
     "output_type": "execute_result"
    }
   ],
   "source": [
    "advval_oof_train = pd.DataFrame({'oof_train': advval_oof_train, 'y': advval_train_y})\n",
    "advval_oof_train"
   ]
  },
  {
   "cell_type": "code",
   "execution_count": 21,
   "id": "a7b9bb47",
   "metadata": {
    "execution": {
     "iopub.execute_input": "2022-01-04T15:14:58.418527Z",
     "iopub.status.busy": "2022-01-04T15:14:58.417817Z",
     "iopub.status.idle": "2022-01-04T15:14:58.432400Z",
     "shell.execute_reply": "2022-01-04T15:14:58.432941Z",
     "shell.execute_reply.started": "2022-01-04T15:10:39.841847Z"
    },
    "papermill": {
     "duration": 0.061073,
     "end_time": "2022-01-04T15:14:58.433131",
     "exception": false,
     "start_time": "2022-01-04T15:14:58.372058",
     "status": "completed"
    },
    "tags": []
   },
   "outputs": [
    {
     "data": {
      "text/html": [
       "<div>\n",
       "<style scoped>\n",
       "    .dataframe tbody tr th:only-of-type {\n",
       "        vertical-align: middle;\n",
       "    }\n",
       "\n",
       "    .dataframe tbody tr th {\n",
       "        vertical-align: top;\n",
       "    }\n",
       "\n",
       "    .dataframe thead th {\n",
       "        text-align: right;\n",
       "    }\n",
       "</style>\n",
       "<table border=\"1\" class=\"dataframe\">\n",
       "  <thead>\n",
       "    <tr style=\"text-align: right;\">\n",
       "      <th></th>\n",
       "      <th>oof_train</th>\n",
       "      <th>y</th>\n",
       "    </tr>\n",
       "  </thead>\n",
       "  <tbody>\n",
       "    <tr>\n",
       "      <th>5</th>\n",
       "      <td>0.439840</td>\n",
       "      <td>1.0</td>\n",
       "    </tr>\n",
       "    <tr>\n",
       "      <th>14</th>\n",
       "      <td>0.355676</td>\n",
       "      <td>1.0</td>\n",
       "    </tr>\n",
       "    <tr>\n",
       "      <th>17</th>\n",
       "      <td>0.345470</td>\n",
       "      <td>1.0</td>\n",
       "    </tr>\n",
       "    <tr>\n",
       "      <th>101</th>\n",
       "      <td>0.455073</td>\n",
       "      <td>1.0</td>\n",
       "    </tr>\n",
       "    <tr>\n",
       "      <th>106</th>\n",
       "      <td>0.231621</td>\n",
       "      <td>1.0</td>\n",
       "    </tr>\n",
       "    <tr>\n",
       "      <th>...</th>\n",
       "      <td>...</td>\n",
       "      <td>...</td>\n",
       "    </tr>\n",
       "    <tr>\n",
       "      <th>56379</th>\n",
       "      <td>0.407320</td>\n",
       "      <td>1.0</td>\n",
       "    </tr>\n",
       "    <tr>\n",
       "      <th>56401</th>\n",
       "      <td>0.495345</td>\n",
       "      <td>1.0</td>\n",
       "    </tr>\n",
       "    <tr>\n",
       "      <th>56440</th>\n",
       "      <td>0.380521</td>\n",
       "      <td>1.0</td>\n",
       "    </tr>\n",
       "    <tr>\n",
       "      <th>56470</th>\n",
       "      <td>0.312002</td>\n",
       "      <td>1.0</td>\n",
       "    </tr>\n",
       "    <tr>\n",
       "      <th>56476</th>\n",
       "      <td>0.263710</td>\n",
       "      <td>1.0</td>\n",
       "    </tr>\n",
       "  </tbody>\n",
       "</table>\n",
       "<p>3240 rows × 2 columns</p>\n",
       "</div>"
      ],
      "text/plain": [
       "       oof_train    y\n",
       "5       0.439840  1.0\n",
       "14      0.355676  1.0\n",
       "17      0.345470  1.0\n",
       "101     0.455073  1.0\n",
       "106     0.231621  1.0\n",
       "...          ...  ...\n",
       "56379   0.407320  1.0\n",
       "56401   0.495345  1.0\n",
       "56440   0.380521  1.0\n",
       "56470   0.312002  1.0\n",
       "56476   0.263710  1.0\n",
       "\n",
       "[3240 rows x 2 columns]"
      ]
     },
     "execution_count": 21,
     "metadata": {},
     "output_type": "execute_result"
    }
   ],
   "source": [
    "# 訓練データのうちテストデータに近いサンプルを抽出\n",
    "advval_oof_train.query('oof_train < 0.5 & y == 1')"
   ]
  },
  {
   "cell_type": "code",
   "execution_count": 22,
   "id": "0cecc211",
   "metadata": {
    "execution": {
     "iopub.execute_input": "2022-01-04T15:14:58.521878Z",
     "iopub.status.busy": "2022-01-04T15:14:58.521205Z",
     "iopub.status.idle": "2022-01-04T15:14:58.530041Z",
     "shell.execute_reply": "2022-01-04T15:14:58.529492Z",
     "shell.execute_reply.started": "2022-01-04T15:10:48.343785Z"
    },
    "papermill": {
     "duration": 0.053752,
     "end_time": "2022-01-04T15:14:58.530188",
     "exception": false,
     "start_time": "2022-01-04T15:14:58.476436",
     "status": "completed"
    },
    "tags": []
   },
   "outputs": [
    {
     "name": "stdout",
     "output_type": "stream",
     "text": [
      "3240\n"
     ]
    }
   ],
   "source": [
    "advval_train_idx = advval_oof_train.query('oof_train < 0.5 & y == 1').index\n",
    "print(len(advval_train_idx))"
   ]
  },
  {
   "cell_type": "code",
   "execution_count": 23,
   "id": "dfc3f0df",
   "metadata": {
    "execution": {
     "iopub.execute_input": "2022-01-04T15:14:58.629174Z",
     "iopub.status.busy": "2022-01-04T15:14:58.628239Z",
     "iopub.status.idle": "2022-01-04T15:14:58.631824Z",
     "shell.execute_reply": "2022-01-04T15:14:58.632326Z",
     "shell.execute_reply.started": "2022-01-04T15:10:59.217000Z"
    },
    "papermill": {
     "duration": 0.059861,
     "end_time": "2022-01-04T15:14:58.632504",
     "exception": false,
     "start_time": "2022-01-04T15:14:58.572643",
     "status": "completed"
    },
    "tags": []
   },
   "outputs": [
    {
     "data": {
      "text/html": [
       "<div>\n",
       "<style scoped>\n",
       "    .dataframe tbody tr th:only-of-type {\n",
       "        vertical-align: middle;\n",
       "    }\n",
       "\n",
       "    .dataframe tbody tr th {\n",
       "        vertical-align: top;\n",
       "    }\n",
       "\n",
       "    .dataframe thead th {\n",
       "        text-align: right;\n",
       "    }\n",
       "</style>\n",
       "<table border=\"1\" class=\"dataframe\">\n",
       "  <thead>\n",
       "    <tr style=\"text-align: right;\">\n",
       "      <th></th>\n",
       "      <th>C0</th>\n",
       "      <th>Toxicity</th>\n",
       "      <th>text</th>\n",
       "      <th>text_clean</th>\n",
       "      <th>word_size</th>\n",
       "    </tr>\n",
       "  </thead>\n",
       "  <tbody>\n",
       "    <tr>\n",
       "      <th>0</th>\n",
       "      <td>0</td>\n",
       "      <td>False</td>\n",
       "      <td>@user when a father is dysfunctional and is so...</td>\n",
       "      <td>user father dysfunct selfish drag kid dysfunct...</td>\n",
       "      <td>50</td>\n",
       "    </tr>\n",
       "    <tr>\n",
       "      <th>1</th>\n",
       "      <td>1</td>\n",
       "      <td>False</td>\n",
       "      <td>@user @user thanks for #lyft credit i can't us...</td>\n",
       "      <td>user user thank credit use caus dont offer van...</td>\n",
       "      <td>56</td>\n",
       "    </tr>\n",
       "    <tr>\n",
       "      <th>2</th>\n",
       "      <td>2</td>\n",
       "      <td>False</td>\n",
       "      <td>bihday your majesty</td>\n",
       "      <td>majesti</td>\n",
       "      <td>7</td>\n",
       "    </tr>\n",
       "    <tr>\n",
       "      <th>3</th>\n",
       "      <td>3</td>\n",
       "      <td>False</td>\n",
       "      <td>#model   i love u take with u all the time in ...</td>\n",
       "      <td>model love u u time</td>\n",
       "      <td>19</td>\n",
       "    </tr>\n",
       "    <tr>\n",
       "      <th>4</th>\n",
       "      <td>4</td>\n",
       "      <td>False</td>\n",
       "      <td>factsguide: society now    #motivation</td>\n",
       "      <td>societi motiv</td>\n",
       "      <td>13</td>\n",
       "    </tr>\n",
       "    <tr>\n",
       "      <th>...</th>\n",
       "      <td>...</td>\n",
       "      <td>...</td>\n",
       "      <td>...</td>\n",
       "      <td>...</td>\n",
       "      <td>...</td>\n",
       "    </tr>\n",
       "    <tr>\n",
       "      <th>56740</th>\n",
       "      <td>56740</td>\n",
       "      <td>True</td>\n",
       "      <td>you's a muthaf***in lie &amp;#8220;@LifeAsKing: @2...</td>\n",
       "      <td>you lie right trash bibl scriptur</td>\n",
       "      <td>33</td>\n",
       "    </tr>\n",
       "    <tr>\n",
       "      <th>56741</th>\n",
       "      <td>56741</td>\n",
       "      <td>True</td>\n",
       "      <td>you've gone and broke the wrong heart baby, an...</td>\n",
       "      <td>youv gone broke wrong heart babi drove redneck...</td>\n",
       "      <td>52</td>\n",
       "    </tr>\n",
       "    <tr>\n",
       "      <th>56742</th>\n",
       "      <td>56742</td>\n",
       "      <td>True</td>\n",
       "      <td>young buck wanna eat!!.. dat nigguh like I ain...</td>\n",
       "      <td>young buck wanna eat dat like aint fuckin di</td>\n",
       "      <td>44</td>\n",
       "    </tr>\n",
       "    <tr>\n",
       "      <th>56743</th>\n",
       "      <td>56743</td>\n",
       "      <td>True</td>\n",
       "      <td>youu got wild bitches tellin you lies</td>\n",
       "      <td>got wild bitch tellin lie</td>\n",
       "      <td>25</td>\n",
       "    </tr>\n",
       "    <tr>\n",
       "      <th>56744</th>\n",
       "      <td>56744</td>\n",
       "      <td>False</td>\n",
       "      <td>~~Ruffled | Ntac Eileen Dahlia - Beautiful col...</td>\n",
       "      <td>ruffl beauti color combin pink orang yellow wh...</td>\n",
       "      <td>54</td>\n",
       "    </tr>\n",
       "  </tbody>\n",
       "</table>\n",
       "<p>56482 rows × 5 columns</p>\n",
       "</div>"
      ],
      "text/plain": [
       "          C0  Toxicity                                               text  \\\n",
       "0          0     False  @user when a father is dysfunctional and is so...   \n",
       "1          1     False  @user @user thanks for #lyft credit i can't us...   \n",
       "2          2     False                                bihday your majesty   \n",
       "3          3     False  #model   i love u take with u all the time in ...   \n",
       "4          4     False             factsguide: society now    #motivation   \n",
       "...      ...       ...                                                ...   \n",
       "56740  56740      True  you's a muthaf***in lie &#8220;@LifeAsKing: @2...   \n",
       "56741  56741      True  you've gone and broke the wrong heart baby, an...   \n",
       "56742  56742      True  young buck wanna eat!!.. dat nigguh like I ain...   \n",
       "56743  56743      True              youu got wild bitches tellin you lies   \n",
       "56744  56744     False  ~~Ruffled | Ntac Eileen Dahlia - Beautiful col...   \n",
       "\n",
       "                                              text_clean  word_size  \n",
       "0      user father dysfunct selfish drag kid dysfunct...         50  \n",
       "1      user user thank credit use caus dont offer van...         56  \n",
       "2                                                majesti          7  \n",
       "3                                    model love u u time         19  \n",
       "4                                          societi motiv         13  \n",
       "...                                                  ...        ...  \n",
       "56740                  you lie right trash bibl scriptur         33  \n",
       "56741  youv gone broke wrong heart babi drove redneck...         52  \n",
       "56742       young buck wanna eat dat like aint fuckin di         44  \n",
       "56743                          got wild bitch tellin lie         25  \n",
       "56744  ruffl beauti color combin pink orang yellow wh...         54  \n",
       "\n",
       "[56482 rows x 5 columns]"
      ]
     },
     "execution_count": 23,
     "metadata": {},
     "output_type": "execute_result"
    }
   ],
   "source": [
    "tweets"
   ]
  },
  {
   "cell_type": "code",
   "execution_count": 24,
   "id": "db934afd",
   "metadata": {
    "execution": {
     "iopub.execute_input": "2022-01-04T15:14:58.726263Z",
     "iopub.status.busy": "2022-01-04T15:14:58.722465Z",
     "iopub.status.idle": "2022-01-04T15:14:58.733618Z",
     "shell.execute_reply": "2022-01-04T15:14:58.734213Z",
     "shell.execute_reply.started": "2022-01-04T15:11:35.720219Z"
    },
    "papermill": {
     "duration": 0.05858,
     "end_time": "2022-01-04T15:14:58.734397",
     "exception": false,
     "start_time": "2022-01-04T15:14:58.675817",
     "status": "completed"
    },
    "tags": []
   },
   "outputs": [
    {
     "name": "stdout",
     "output_type": "stream",
     "text": [
      "main_train_X shape: (64019,)\n",
      "main_train_y shape: (64019,)\n",
      "main_valid_less_X shape: (30108,)\n",
      "main_valid_more_X shape: (30108,)\n"
     ]
    }
   ],
   "source": [
    "# preparing main training data\n",
    "main_train_X = tweets.iloc[advval_train_idx]['text_clean']\n",
    "main_train_y = tweets.iloc[advval_train_idx]['Toxicity'].astype(int)\n",
    "main_valid_less_X = valid['less_toxic_clean']\n",
    "main_valid_more_X = valid['more_toxic_clean']\n",
    "\n",
    "print(f'main_train_X shape: {advval_train_X.shape}')\n",
    "print(f'main_train_y shape: {advval_train_y.shape}')\n",
    "print(f'main_valid_less_X shape: {main_valid_less_X.shape}')\n",
    "print(f'main_valid_more_X shape: {main_valid_more_X.shape}')"
   ]
  },
  {
   "cell_type": "code",
   "execution_count": 25,
   "id": "c044e6db",
   "metadata": {
    "execution": {
     "iopub.execute_input": "2022-01-04T15:14:58.826980Z",
     "iopub.status.busy": "2022-01-04T15:14:58.825921Z",
     "iopub.status.idle": "2022-01-04T15:15:01.564445Z",
     "shell.execute_reply": "2022-01-04T15:15:01.563818Z",
     "shell.execute_reply.started": "2022-01-04T15:11:51.801655Z"
    },
    "papermill": {
     "duration": 2.786094,
     "end_time": "2022-01-04T15:15:01.564657",
     "exception": false,
     "start_time": "2022-01-04T15:14:58.778563",
     "status": "completed"
    },
    "tags": []
   },
   "outputs": [
    {
     "name": "stdout",
     "output_type": "stream",
     "text": [
      "feature extracting ...\n",
      "Total number of features: 1319\n"
     ]
    }
   ],
   "source": [
    "# 特徴抽出\n",
    "print(f'feature extracting ...')\n",
    "main_tfidf = TfidfVectorizer(\n",
    "    stop_words=stop_words,\n",
    "    min_df=3,\n",
    "    max_df=0.5, \n",
    "    max_features=100_000,\n",
    "    analyzer='word',\n",
    "    ngram_range=(1, 1)\n",
    ")\n",
    "\n",
    "main_train_X_tfidf = main_tfidf.fit_transform(main_train_X)\n",
    "main_train_X_tfidf_feature_names = main_tfidf.get_feature_names()\n",
    "main_train_X_tfidf_vocab = main_tfidf.vocabulary_\n",
    "main_valid_less_X_tfidf = main_tfidf.transform(main_valid_less_X)\n",
    "main_valid_more_X_tfidf = main_tfidf.transform(main_valid_more_X)\n",
    "\n",
    "print('Total number of features:', main_train_X_tfidf.shape[1])"
   ]
  },
  {
   "cell_type": "code",
   "execution_count": 26,
   "id": "c17f2029",
   "metadata": {
    "execution": {
     "iopub.execute_input": "2022-01-04T15:15:01.657709Z",
     "iopub.status.busy": "2022-01-04T15:15:01.657046Z",
     "iopub.status.idle": "2022-01-04T15:15:01.672817Z",
     "shell.execute_reply": "2022-01-04T15:15:01.672159Z",
     "shell.execute_reply.started": "2022-01-04T15:12:06.702292Z"
    },
    "papermill": {
     "duration": 0.062879,
     "end_time": "2022-01-04T15:15:01.672964",
     "exception": false,
     "start_time": "2022-01-04T15:15:01.610085",
     "status": "completed"
    },
    "tags": []
   },
   "outputs": [
    {
     "data": {
      "text/html": [
       "<div>\n",
       "<style scoped>\n",
       "    .dataframe tbody tr th:only-of-type {\n",
       "        vertical-align: middle;\n",
       "    }\n",
       "\n",
       "    .dataframe tbody tr th {\n",
       "        vertical-align: top;\n",
       "    }\n",
       "\n",
       "    .dataframe thead th {\n",
       "        text-align: right;\n",
       "    }\n",
       "</style>\n",
       "<table border=\"1\" class=\"dataframe\">\n",
       "  <thead>\n",
       "    <tr style=\"text-align: right;\">\n",
       "      <th></th>\n",
       "      <th>word</th>\n",
       "      <th>weight</th>\n",
       "    </tr>\n",
       "  </thead>\n",
       "  <tbody>\n",
       "    <tr>\n",
       "      <th>1318</th>\n",
       "      <td>zionism</td>\n",
       "      <td>7.697343</td>\n",
       "    </tr>\n",
       "    <tr>\n",
       "      <th>439</th>\n",
       "      <td>finger</td>\n",
       "      <td>7.697343</td>\n",
       "    </tr>\n",
       "    <tr>\n",
       "      <th>541</th>\n",
       "      <td>heritag</td>\n",
       "      <td>7.697343</td>\n",
       "    </tr>\n",
       "    <tr>\n",
       "      <th>536</th>\n",
       "      <td>heck</td>\n",
       "      <td>7.697343</td>\n",
       "    </tr>\n",
       "    <tr>\n",
       "      <th>1170</th>\n",
       "      <td>tip</td>\n",
       "      <td>7.697343</td>\n",
       "    </tr>\n",
       "    <tr>\n",
       "      <th>...</th>\n",
       "      <td>...</td>\n",
       "      <td>...</td>\n",
       "    </tr>\n",
       "    <tr>\n",
       "      <th>676</th>\n",
       "      <td>like</td>\n",
       "      <td>3.534561</td>\n",
       "    </tr>\n",
       "    <tr>\n",
       "      <th>844</th>\n",
       "      <td>peopl</td>\n",
       "      <td>3.500141</td>\n",
       "    </tr>\n",
       "    <tr>\n",
       "      <th>624</th>\n",
       "      <td>just</td>\n",
       "      <td>3.420677</td>\n",
       "    </tr>\n",
       "    <tr>\n",
       "      <th>354</th>\n",
       "      <td>dont</td>\n",
       "      <td>3.373210</td>\n",
       "    </tr>\n",
       "    <tr>\n",
       "      <th>465</th>\n",
       "      <td>fuck</td>\n",
       "      <td>2.901552</td>\n",
       "    </tr>\n",
       "  </tbody>\n",
       "</table>\n",
       "<p>1319 rows × 2 columns</p>\n",
       "</div>"
      ],
      "text/plain": [
       "         word    weight\n",
       "1318  zionism  7.697343\n",
       "439    finger  7.697343\n",
       "541   heritag  7.697343\n",
       "536      heck  7.697343\n",
       "1170      tip  7.697343\n",
       "...       ...       ...\n",
       "676      like  3.534561\n",
       "844     peopl  3.500141\n",
       "624      just  3.420677\n",
       "354      dont  3.373210\n",
       "465      fuck  2.901552\n",
       "\n",
       "[1319 rows x 2 columns]"
      ]
     },
     "execution_count": 26,
     "metadata": {},
     "output_type": "execute_result"
    }
   ],
   "source": [
    "# idf ranking\n",
    "idf = {'word': main_tfidf.get_feature_names(), 'weight': main_tfidf.idf_}\n",
    "pd.DataFrame(idf).sort_values('weight', ascending=False)"
   ]
  },
  {
   "cell_type": "code",
   "execution_count": 27,
   "id": "a2856d44",
   "metadata": {
    "execution": {
     "iopub.execute_input": "2022-01-04T15:15:01.768791Z",
     "iopub.status.busy": "2022-01-04T15:15:01.767993Z",
     "iopub.status.idle": "2022-01-04T15:15:01.781397Z",
     "shell.execute_reply": "2022-01-04T15:15:01.780759Z",
     "shell.execute_reply.started": "2022-01-04T15:12:17.046227Z"
    },
    "papermill": {
     "duration": 0.062087,
     "end_time": "2022-01-04T15:15:01.781541",
     "exception": false,
     "start_time": "2022-01-04T15:15:01.719454",
     "status": "completed"
    },
    "tags": []
   },
   "outputs": [],
   "source": [
    "# main\n",
    "def main_training(train_X, train_y, tfidf):\n",
    "\n",
    "    models = []\n",
    "    oof_train = np.zeros((train_X.shape[0],))\n",
    "    scores = []\n",
    "\n",
    "    kf = KFold(\n",
    "        n_splits=N_SPLITS, \n",
    "        shuffle=True,\n",
    "        random_state=None\n",
    "    )\n",
    "\n",
    "    # 交差検証\n",
    "    for fold_id, (train_idx, valid_idx) in enumerate(kf.split(train_X, train_y)):\n",
    "        start = time.time()\n",
    "        print(f'* ' * 40)\n",
    "        print(f'fold_id: {fold_id}')\n",
    "\n",
    "        # 訓練データ、評価データ、テストデータを整形\n",
    "        print(f'preprocessing ...')\n",
    "        X_trn = train_X.iloc[train_idx].reset_index(drop=True)\n",
    "        X_val = train_X.iloc[valid_idx].reset_index(drop=True)\n",
    "        y_trn = train_y.iloc[train_idx].reset_index(drop=True)\n",
    "        y_val = train_y.iloc[valid_idx].reset_index(drop=True)\n",
    "\n",
    "        X_trn_tfidf = tfidf.transform(X_trn)\n",
    "        X_val_tfidf = tfidf.transform(X_val)\n",
    "\n",
    "        print('Total number of train samples:', X_trn_tfidf.shape[0])\n",
    "        print('Total number of valid samples:', X_val_tfidf.shape[0])\n",
    "\n",
    "        # 訓練\n",
    "        print(f'training ...')\n",
    "        clf = MultinomialNB()\n",
    "        clf.fit(X_trn_tfidf, y_trn)\n",
    "\n",
    "        # 推論\n",
    "        print(f'predicting ...')\n",
    "        val_pred = clf.predict_proba(X_val_tfidf)[:, 1]\n",
    "        oof_train[valid_idx] = val_pred\n",
    "        models.append(clf)\n",
    "\n",
    "        # 評価\n",
    "        print(f'validation ...')\n",
    "        score_auc = roc_auc_score(y_val, val_pred)\n",
    "        scores.append(score_auc)\n",
    "        elapsed = time.time() - start\n",
    "        print(f'fold {fold_id} - score: {score_auc:.6f}, elapsed time: {elapsed:.2f} [sec]')\n",
    "\n",
    "    print(f'* ' * 40)\n",
    "    print(f'Average AUC: {sum(scores)/N_SPLITS:.6f}')\n",
    "    \n",
    "    return oof_train, models"
   ]
  },
  {
   "cell_type": "code",
   "execution_count": 28,
   "id": "3449867d",
   "metadata": {
    "execution": {
     "iopub.execute_input": "2022-01-04T15:15:01.879459Z",
     "iopub.status.busy": "2022-01-04T15:15:01.878783Z",
     "iopub.status.idle": "2022-01-04T15:15:02.202495Z",
     "shell.execute_reply": "2022-01-04T15:15:02.203060Z",
     "shell.execute_reply.started": "2022-01-04T15:12:26.496588Z"
    },
    "papermill": {
     "duration": 0.375915,
     "end_time": "2022-01-04T15:15:02.203242",
     "exception": false,
     "start_time": "2022-01-04T15:15:01.827327",
     "status": "completed"
    },
    "tags": []
   },
   "outputs": [
    {
     "name": "stdout",
     "output_type": "stream",
     "text": [
      "* * * * * * * * * * * * * * * * * * * * * * * * * * * * * * * * * * * * * * * * \n",
      "fold_id: 0\n",
      "preprocessing ...\n",
      "Total number of train samples: 2592\n",
      "Total number of valid samples: 648\n",
      "training ...\n",
      "predicting ...\n",
      "validation ...\n",
      "fold 0 - score: 0.890067, elapsed time: 0.06 [sec]\n",
      "* * * * * * * * * * * * * * * * * * * * * * * * * * * * * * * * * * * * * * * * \n",
      "fold_id: 1\n",
      "preprocessing ...\n",
      "Total number of train samples: 2592\n",
      "Total number of valid samples: 648\n",
      "training ...\n",
      "predicting ...\n",
      "validation ...\n",
      "fold 1 - score: 0.875528, elapsed time: 0.07 [sec]\n",
      "* * * * * * * * * * * * * * * * * * * * * * * * * * * * * * * * * * * * * * * * \n",
      "fold_id: 2\n",
      "preprocessing ...\n",
      "Total number of train samples: 2592\n",
      "Total number of valid samples: 648\n",
      "training ...\n",
      "predicting ...\n",
      "validation ...\n",
      "fold 2 - score: 0.892716, elapsed time: 0.07 [sec]\n",
      "* * * * * * * * * * * * * * * * * * * * * * * * * * * * * * * * * * * * * * * * \n",
      "fold_id: 3\n",
      "preprocessing ...\n",
      "Total number of train samples: 2592\n",
      "Total number of valid samples: 648\n",
      "training ...\n",
      "predicting ...\n",
      "validation ...\n",
      "fold 3 - score: 0.878583, elapsed time: 0.06 [sec]\n",
      "* * * * * * * * * * * * * * * * * * * * * * * * * * * * * * * * * * * * * * * * \n",
      "fold_id: 4\n",
      "preprocessing ...\n",
      "Total number of train samples: 2592\n",
      "Total number of valid samples: 648\n",
      "training ...\n",
      "predicting ...\n",
      "validation ...\n",
      "fold 4 - score: 0.892602, elapsed time: 0.06 [sec]\n",
      "* * * * * * * * * * * * * * * * * * * * * * * * * * * * * * * * * * * * * * * * \n",
      "Average AUC: 0.885899\n",
      "CPU times: user 316 ms, sys: 8.93 ms, total: 325 ms\n",
      "Wall time: 322 ms\n"
     ]
    }
   ],
   "source": [
    "%%time\n",
    "main_oof_train, main_models = main_training(main_train_X, main_train_y, main_tfidf)"
   ]
  },
  {
   "cell_type": "code",
   "execution_count": 29,
   "id": "262a93a6",
   "metadata": {
    "execution": {
     "iopub.execute_input": "2022-01-04T15:15:02.321955Z",
     "iopub.status.busy": "2022-01-04T15:15:02.316814Z",
     "iopub.status.idle": "2022-01-04T15:15:02.674839Z",
     "shell.execute_reply": "2022-01-04T15:15:02.674221Z",
     "shell.execute_reply.started": "2022-01-04T15:12:38.997890Z"
    },
    "papermill": {
     "duration": 0.425188,
     "end_time": "2022-01-04T15:15:02.675007",
     "exception": false,
     "start_time": "2022-01-04T15:15:02.249819",
     "status": "completed"
    },
    "tags": []
   },
   "outputs": [
    {
     "data": {
      "image/png": "[encoded data removed]",
      "text/plain": [
       "<Figure size 432x288 with 1 Axes>"
      ]
     },
     "metadata": {
      "needs_background": "light"
     },
     "output_type": "display_data"
    }
   ],
   "source": [
    "# スコア分布\n",
    "plt.figure()\n",
    "plt.hist(main_oof_train, alpha=.8, bins=100)\n",
    "plt.show()"
   ]
  },
  {
   "cell_type": "code",
   "execution_count": 30,
   "id": "fc8e2707",
   "metadata": {
    "execution": {
     "iopub.execute_input": "2022-01-04T15:15:02.774626Z",
     "iopub.status.busy": "2022-01-04T15:15:02.770129Z",
     "iopub.status.idle": "2022-01-04T15:15:02.917701Z",
     "shell.execute_reply": "2022-01-04T15:15:02.916650Z",
     "shell.execute_reply.started": "2022-01-04T15:12:47.477550Z"
    },
    "papermill": {
     "duration": 0.197026,
     "end_time": "2022-01-04T15:15:02.917952",
     "exception": false,
     "start_time": "2022-01-04T15:15:02.720926",
     "status": "completed"
    },
    "tags": []
   },
   "outputs": [
    {
     "name": "stdout",
     "output_type": "stream",
     "text": [
      "25336 / 30108\n"
     ]
    }
   ],
   "source": [
    "# adversarial validation によりテストデータに近い評価データを作成\n",
    "advval_score_valid_less_toxic = np.array([clf.predict_proba(advval_valid_less_X_tfidf)[:, 1] for clf in advval_models]).sum(axis=0) / N_SPLITS\n",
    "advval_score_valid_more_toxic = np.array([clf.predict_proba(advval_valid_more_X_tfidf)[:, 1] for clf in advval_models]).sum(axis=0) / N_SPLITS\n",
    "\n",
    "test_like_valid_idx = (advval_score_valid_less_toxic < 0.5) & (advval_score_valid_more_toxic < 0.5)\n",
    "print(sum(test_like_valid_idx), '/', len(test_like_valid_idx))"
   ]
  },
  {
   "cell_type": "code",
   "execution_count": 31,
   "id": "33dc13a4",
   "metadata": {
    "execution": {
     "iopub.execute_input": "2022-01-04T15:15:03.021389Z",
     "iopub.status.busy": "2022-01-04T15:15:03.020670Z",
     "iopub.status.idle": "2022-01-04T15:15:03.090189Z",
     "shell.execute_reply": "2022-01-04T15:15:03.091016Z",
     "shell.execute_reply.started": "2022-01-04T15:12:55.798815Z"
    },
    "papermill": {
     "duration": 0.123361,
     "end_time": "2022-01-04T15:15:03.091276",
     "exception": false,
     "start_time": "2022-01-04T15:15:02.967915",
     "status": "completed"
    },
    "tags": []
   },
   "outputs": [
    {
     "name": "stdout",
     "output_type": "stream",
     "text": [
      "0.599582\n"
     ]
    }
   ],
   "source": [
    "# validation score\n",
    "preds_less_toxic = np.array([clf.predict_proba(main_valid_less_X_tfidf[test_like_valid_idx])[:, 1] for clf in main_models]).sum(axis=0)\n",
    "preds_more_toxic = np.array([clf.predict_proba(main_valid_more_X_tfidf[test_like_valid_idx])[:, 1] for clf in main_models]).sum(axis=0)\n",
    "\n",
    "print(f'{(preds_less_toxic < preds_more_toxic).mean():.6f}')"
   ]
  },
  {
   "cell_type": "code",
   "execution_count": 32,
   "id": "aeaeb7d1",
   "metadata": {
    "execution": {
     "iopub.execute_input": "2022-01-04T15:15:03.212737Z",
     "iopub.status.busy": "2022-01-04T15:15:03.211736Z",
     "iopub.status.idle": "2022-01-04T15:15:03.567667Z",
     "shell.execute_reply": "2022-01-04T15:15:03.568229Z",
     "shell.execute_reply.started": "2022-01-04T15:13:05.283545Z"
    },
    "papermill": {
     "duration": 0.429113,
     "end_time": "2022-01-04T15:15:03.568406",
     "exception": false,
     "start_time": "2022-01-04T15:15:03.139293",
     "status": "completed"
    },
    "tags": []
   },
   "outputs": [
    {
     "data": {
      "text/html": [
       "<div>\n",
       "<style scoped>\n",
       "    .dataframe tbody tr th:only-of-type {\n",
       "        vertical-align: middle;\n",
       "    }\n",
       "\n",
       "    .dataframe tbody tr th {\n",
       "        vertical-align: top;\n",
       "    }\n",
       "\n",
       "    .dataframe thead th {\n",
       "        text-align: right;\n",
       "    }\n",
       "</style>\n",
       "<table border=\"1\" class=\"dataframe\">\n",
       "  <thead>\n",
       "    <tr style=\"text-align: right;\">\n",
       "      <th></th>\n",
       "      <th>count</th>\n",
       "      <th>mean</th>\n",
       "      <th>std</th>\n",
       "      <th>min</th>\n",
       "      <th>25%</th>\n",
       "      <th>50%</th>\n",
       "      <th>75%</th>\n",
       "      <th>max</th>\n",
       "    </tr>\n",
       "  </thead>\n",
       "  <tbody>\n",
       "    <tr>\n",
       "      <th>0</th>\n",
       "      <td>7537.0</td>\n",
       "      <td>0.424467</td>\n",
       "      <td>0.204088</td>\n",
       "      <td>0.034828</td>\n",
       "      <td>0.26783</td>\n",
       "      <td>0.394884</td>\n",
       "      <td>0.552355</td>\n",
       "      <td>0.993947</td>\n",
       "    </tr>\n",
       "  </tbody>\n",
       "</table>\n",
       "</div>"
      ],
      "text/plain": [
       "    count      mean       std       min      25%       50%       75%       max\n",
       "0  7537.0  0.424467  0.204088  0.034828  0.26783  0.394884  0.552355  0.993947"
      ]
     },
     "execution_count": 32,
     "metadata": {},
     "output_type": "execute_result"
    }
   ],
   "source": [
    "test_X_tfidf = main_tfidf.transform(test['text_clean'])\n",
    "preds_test = np.array([clf.predict_proba(test_X_tfidf)[:, 1] for clf in main_models]).sum(axis=0) / N_SPLITS\n",
    "submission['score'] = preds_test\n",
    "\n",
    "pd.DataFrame(pd.Series(submission['score'].ravel()).describe()).transpose()"
   ]
  },
  {
   "cell_type": "code",
   "execution_count": 33,
   "id": "5d5cd038",
   "metadata": {
    "execution": {
     "iopub.execute_input": "2022-01-04T15:15:03.667557Z",
     "iopub.status.busy": "2022-01-04T15:15:03.666843Z",
     "iopub.status.idle": "2022-01-04T15:15:03.711025Z",
     "shell.execute_reply": "2022-01-04T15:15:03.711529Z",
     "shell.execute_reply.started": "2022-01-04T15:13:17.926801Z"
    },
    "papermill": {
     "duration": 0.095327,
     "end_time": "2022-01-04T15:15:03.711713",
     "exception": false,
     "start_time": "2022-01-04T15:15:03.616386",
     "status": "completed"
    },
    "tags": []
   },
   "outputs": [
    {
     "data": {
      "text/html": [
       "<div>\n",
       "<style scoped>\n",
       "    .dataframe tbody tr th:only-of-type {\n",
       "        vertical-align: middle;\n",
       "    }\n",
       "\n",
       "    .dataframe tbody tr th {\n",
       "        vertical-align: top;\n",
       "    }\n",
       "\n",
       "    .dataframe thead th {\n",
       "        text-align: right;\n",
       "    }\n",
       "</style>\n",
       "<table border=\"1\" class=\"dataframe\">\n",
       "  <thead>\n",
       "    <tr style=\"text-align: right;\">\n",
       "      <th></th>\n",
       "      <th>comment_id</th>\n",
       "      <th>score</th>\n",
       "    </tr>\n",
       "  </thead>\n",
       "  <tbody>\n",
       "    <tr>\n",
       "      <th>0</th>\n",
       "      <td>114890</td>\n",
       "      <td>0.255212</td>\n",
       "    </tr>\n",
       "    <tr>\n",
       "      <th>1</th>\n",
       "      <td>732895</td>\n",
       "      <td>0.696966</td>\n",
       "    </tr>\n",
       "    <tr>\n",
       "      <th>2</th>\n",
       "      <td>1139051</td>\n",
       "      <td>0.393945</td>\n",
       "    </tr>\n",
       "    <tr>\n",
       "      <th>3</th>\n",
       "      <td>1434512</td>\n",
       "      <td>0.370333</td>\n",
       "    </tr>\n",
       "    <tr>\n",
       "      <th>4</th>\n",
       "      <td>2084821</td>\n",
       "      <td>0.340907</td>\n",
       "    </tr>\n",
       "    <tr>\n",
       "      <th>...</th>\n",
       "      <td>...</td>\n",
       "      <td>...</td>\n",
       "    </tr>\n",
       "    <tr>\n",
       "      <th>7532</th>\n",
       "      <td>504235362</td>\n",
       "      <td>0.541969</td>\n",
       "    </tr>\n",
       "    <tr>\n",
       "      <th>7533</th>\n",
       "      <td>504235566</td>\n",
       "      <td>0.550327</td>\n",
       "    </tr>\n",
       "    <tr>\n",
       "      <th>7534</th>\n",
       "      <td>504308177</td>\n",
       "      <td>0.268665</td>\n",
       "    </tr>\n",
       "    <tr>\n",
       "      <th>7535</th>\n",
       "      <td>504570375</td>\n",
       "      <td>0.656908</td>\n",
       "    </tr>\n",
       "    <tr>\n",
       "      <th>7536</th>\n",
       "      <td>504598250</td>\n",
       "      <td>0.338502</td>\n",
       "    </tr>\n",
       "  </tbody>\n",
       "</table>\n",
       "<p>7537 rows × 2 columns</p>\n",
       "</div>"
      ],
      "text/plain": [
       "      comment_id     score\n",
       "0         114890  0.255212\n",
       "1         732895  0.696966\n",
       "2        1139051  0.393945\n",
       "3        1434512  0.370333\n",
       "4        2084821  0.340907\n",
       "...          ...       ...\n",
       "7532   504235362  0.541969\n",
       "7533   504235566  0.550327\n",
       "7534   504308177  0.268665\n",
       "7535   504570375  0.656908\n",
       "7536   504598250  0.338502\n",
       "\n",
       "[7537 rows x 2 columns]"
      ]
     },
     "execution_count": 33,
     "metadata": {},
     "output_type": "execute_result"
    }
   ],
   "source": [
    "submission.to_csv('submission.csv', index=False)\n",
    "submission"
   ]
  }
 ],
 "metadata": {
  "kernelspec": {
   "display_name": "Python 3",
   "language": "python",
   "name": "python3"
  },
  "language_info": {
   "codemirror_mode": {
    "name": "ipython",
    "version": 3
   },
   "file_extension": ".py",
   "mimetype": "text/x-python",
   "name": "python",
   "nbconvert_exporter": "python",
   "pygments_lexer": "ipython3",
   "version": "3.7.12"
  },
  "papermill": {
   "default_parameters": {},
   "duration": 88.25929,
   "end_time": "2022-01-04T15:15:04.770382",
   "environment_variables": {},
   "exception": null,
   "input_path": "__notebook__.ipynb",
   "output_path": "__notebook__.ipynb",
   "parameters": {},
   "start_time": "2022-01-04T15:13:36.511092",
   "version": "2.3.3"
  }
 },
 "nbformat": 4,
 "nbformat_minor": 5
}
