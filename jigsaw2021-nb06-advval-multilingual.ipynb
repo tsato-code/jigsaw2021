{
 "cells": [
  {
   "cell_type": "markdown",
   "id": "299fc4f9",
   "metadata": {
    "papermill": {
     "duration": 0.024362,
     "end_time": "2022-01-04T12:25:37.840856",
     "exception": false,
     "start_time": "2022-01-04T12:25:37.816494",
     "status": "completed"
    },
    "tags": []
   },
   "source": [
    "# Overview\n",
    "\n",
    "- EDA\n",
    "- sample/feature selection\n",
    "- baseline model\n",
    "- validation\n",
    "- submit\n",
    "\n",
    "【基本の考え方】  \n",
    "- Private LB がテストデータで評価されるため、テストデータに基づいてクリーニング、特徴量選択、訓練データの選択、を行う。"
   ]
  },
  {
   "cell_type": "code",
   "execution_count": 1,
   "id": "25e57673",
   "metadata": {
    "execution": {
     "iopub.execute_input": "2022-01-04T12:25:37.889256Z",
     "iopub.status.busy": "2022-01-04T12:25:37.888197Z",
     "iopub.status.idle": "2022-01-04T12:25:37.919683Z",
     "shell.execute_reply": "2022-01-04T12:25:37.920369Z",
     "shell.execute_reply.started": "2022-01-03T07:07:35.853713Z"
    },
    "papermill": {
     "duration": 0.057543,
     "end_time": "2022-01-04T12:25:37.920833",
     "exception": false,
     "start_time": "2022-01-04T12:25:37.863290",
     "status": "completed"
    },
    "tags": []
   },
   "outputs": [
    {
     "name": "stdout",
     "output_type": "stream",
     "text": [
      "/kaggle/input/jigsaw-toxic-severity-rating/sample_submission.csv\n",
      "/kaggle/input/jigsaw-toxic-severity-rating/validation_data.csv\n",
      "/kaggle/input/jigsaw-toxic-severity-rating/comments_to_score.csv\n",
      "/kaggle/input/jigsaw-multilingual-toxic-comment-classification/sample_submission.csv\n",
      "/kaggle/input/jigsaw-multilingual-toxic-comment-classification/test_labels.csv\n",
      "/kaggle/input/jigsaw-multilingual-toxic-comment-classification/validation-processed-seqlen128.csv\n",
      "/kaggle/input/jigsaw-multilingual-toxic-comment-classification/test-processed-seqlen128.csv\n",
      "/kaggle/input/jigsaw-multilingual-toxic-comment-classification/jigsaw-unintended-bias-train-processed-seqlen128.csv\n",
      "/kaggle/input/jigsaw-multilingual-toxic-comment-classification/validation.csv\n",
      "/kaggle/input/jigsaw-multilingual-toxic-comment-classification/jigsaw-toxic-comment-train.csv\n",
      "/kaggle/input/jigsaw-multilingual-toxic-comment-classification/test.csv\n",
      "/kaggle/input/jigsaw-multilingual-toxic-comment-classification/jigsaw-unintended-bias-train.csv\n",
      "/kaggle/input/jigsaw-multilingual-toxic-comment-classification/jigsaw-toxic-comment-train-processed-seqlen128.csv\n"
     ]
    }
   ],
   "source": [
    "# Directories\n",
    "import os\n",
    "for dirname, _, filenames in os.walk('/kaggle/input'):\n",
    "    for filename in filenames:\n",
    "        print(os.path.join(dirname, filename))"
   ]
  },
  {
   "cell_type": "code",
   "execution_count": 2,
   "id": "f4e7a59f",
   "metadata": {
    "execution": {
     "iopub.execute_input": "2022-01-04T12:25:37.970392Z",
     "iopub.status.busy": "2022-01-04T12:25:37.969385Z",
     "iopub.status.idle": "2022-01-04T12:25:37.973952Z",
     "shell.execute_reply": "2022-01-04T12:25:37.974413Z",
     "shell.execute_reply.started": "2022-01-03T07:07:38.322638Z"
    },
    "papermill": {
     "duration": 0.030587,
     "end_time": "2022-01-04T12:25:37.974610",
     "exception": false,
     "start_time": "2022-01-04T12:25:37.944023",
     "status": "completed"
    },
    "tags": []
   },
   "outputs": [],
   "source": [
    "# Parameters\n",
    "DEBUG_FLAG = False\n",
    "VERSION = 'nb06'\n",
    "\n",
    "SUBMISSION_PATH = '/kaggle/input/jigsaw-toxic-severity-rating/sample_submission.csv'\n",
    "VALIDATION_DATA_PATH = '/kaggle/input/jigsaw-toxic-severity-rating/validation_data.csv'\n",
    "COMMENTS_SCORE_PATH = '/kaggle/input/jigsaw-toxic-severity-rating/comments_to_score.csv'\n",
    "TOXIC3_TRAIN_PATH = '/kaggle/input/jigsaw-multilingual-toxic-comment-classification/jigsaw-toxic-comment-train.csv'\n",
    "\n",
    "N_SPLITS = 5 if not DEBUG_FLAG else 2"
   ]
  },
  {
   "cell_type": "code",
   "execution_count": 3,
   "id": "bfc4933f",
   "metadata": {
    "execution": {
     "iopub.execute_input": "2022-01-04T12:25:38.023551Z",
     "iopub.status.busy": "2022-01-04T12:25:38.022576Z",
     "iopub.status.idle": "2022-01-04T12:25:39.565147Z",
     "shell.execute_reply": "2022-01-04T12:25:39.564548Z",
     "shell.execute_reply.started": "2022-01-03T07:07:40.307837Z"
    },
    "papermill": {
     "duration": 1.568564,
     "end_time": "2022-01-04T12:25:39.565286",
     "exception": false,
     "start_time": "2022-01-04T12:25:37.996722",
     "status": "completed"
    },
    "tags": []
   },
   "outputs": [
    {
     "data": {
      "text/html": [
       "<style type='text/css'>\n",
       ".datatable table.frame { margin-bottom: 0; }\n",
       ".datatable table.frame thead { border-bottom: none; }\n",
       ".datatable table.frame tr.coltypes td {  color: #FFFFFF;  line-height: 6px;  padding: 0 0.5em;}\n",
       ".datatable .bool    { background: #DDDD99; }\n",
       ".datatable .object  { background: #565656; }\n",
       ".datatable .int     { background: #5D9E5D; }\n",
       ".datatable .float   { background: #4040CC; }\n",
       ".datatable .str     { background: #CC4040; }\n",
       ".datatable .time    { background: #40CC40; }\n",
       ".datatable .row_index {  background: var(--jp-border-color3);  border-right: 1px solid var(--jp-border-color0);  color: var(--jp-ui-font-color3);  font-size: 9px;}\n",
       ".datatable .frame tbody td { text-align: left; }\n",
       ".datatable .frame tr.coltypes .row_index {  background: var(--jp-border-color0);}\n",
       ".datatable th:nth-child(2) { padding-left: 12px; }\n",
       ".datatable .hellipsis {  color: var(--jp-cell-editor-border-color);}\n",
       ".datatable .vellipsis {  background: var(--jp-layout-color0);  color: var(--jp-cell-editor-border-color);}\n",
       ".datatable .na {  color: var(--jp-cell-editor-border-color);  font-size: 80%;}\n",
       ".datatable .sp {  opacity: 0.25;}\n",
       ".datatable .footer { font-size: 9px; }\n",
       ".datatable .frame_dimensions {  background: var(--jp-border-color3);  border-top: 1px solid var(--jp-border-color0);  color: var(--jp-ui-font-color3);  display: inline-block;  opacity: 0.6;  padding: 1px 10px 1px 5px;}\n",
       "</style>\n"
      ],
      "text/plain": [
       "<IPython.core.display.HTML object>"
      ]
     },
     "metadata": {},
     "output_type": "display_data"
    }
   ],
   "source": [
    "# Modules\n",
    "import re\n",
    "import sys\n",
    "import time\n",
    "\n",
    "import datatable as dt\n",
    "import nltk\n",
    "import numpy as np\n",
    "import pandas as pd\n",
    "\n",
    "from matplotlib import pyplot as plt\n",
    "from matplotlib_venn import venn3\n",
    "from sklearn.feature_extraction import text\n",
    "from sklearn.feature_extraction.text import TfidfVectorizer\n",
    "from sklearn.linear_model import Ridge, SGDClassifier, SGDRegressor\n",
    "from sklearn.metrics import mean_squared_error, roc_auc_score\n",
    "from sklearn.model_selection import KFold, StratifiedKFold\n",
    "\n",
    "sys.setrecursionlimit(5000)"
   ]
  },
  {
   "cell_type": "code",
   "execution_count": 4,
   "id": "ac76a4d8",
   "metadata": {
    "_cell_guid": "b1076dfc-b9ad-4769-8c92-a6c4dae69d19",
    "_uuid": "8f2839f25d086af736a60e9eeb907d3b93b6e0e5",
    "execution": {
     "iopub.execute_input": "2022-01-04T12:25:39.618436Z",
     "iopub.status.busy": "2022-01-04T12:25:39.617807Z",
     "iopub.status.idle": "2022-01-04T12:25:39.620158Z",
     "shell.execute_reply": "2022-01-04T12:25:39.619674Z",
     "shell.execute_reply.started": "2022-01-03T07:07:42.687862Z"
    },
    "papermill": {
     "duration": 0.032487,
     "end_time": "2022-01-04T12:25:39.620295",
     "exception": false,
     "start_time": "2022-01-04T12:25:39.587808",
     "status": "completed"
    },
    "tags": []
   },
   "outputs": [],
   "source": [
    "# My functions\n",
    "def read_df():\n",
    "    valid = dt.fread(VALIDATION_DATA_PATH).to_pandas()\n",
    "    test = dt.fread(COMMENTS_SCORE_PATH).to_pandas()\n",
    "    submission = dt.fread(SUBMISSION_PATH).to_pandas()\n",
    "    toxic3 = dt.fread(TOXIC3_TRAIN_PATH).to_pandas()\n",
    "    \n",
    "    if DEBUG_FLAG:\n",
    "        valid = valid.sample(n=1000).reset_index(drop=True)\n",
    "        test = test.sample(n=1000).reset_index(drop=True)\n",
    "        toxic3 = toxic3.sample(n=1000).reset_index(drop=True)\n",
    "    \n",
    "    return valid, test, submission, toxic3"
   ]
  },
  {
   "cell_type": "code",
   "execution_count": 5,
   "id": "ba990f40",
   "metadata": {
    "execution": {
     "iopub.execute_input": "2022-01-04T12:25:39.668051Z",
     "iopub.status.busy": "2022-01-04T12:25:39.667442Z",
     "iopub.status.idle": "2022-01-04T12:25:41.440027Z",
     "shell.execute_reply": "2022-01-04T12:25:41.440705Z",
     "shell.execute_reply.started": "2022-01-03T07:07:44.744310Z"
    },
    "papermill": {
     "duration": 1.79829,
     "end_time": "2022-01-04T12:25:41.440935",
     "exception": false,
     "start_time": "2022-01-04T12:25:39.642645",
     "status": "completed"
    },
    "tags": []
   },
   "outputs": [
    {
     "name": "stdout",
     "output_type": "stream",
     "text": [
      "valid shape: (30108, 3)\n",
      "test shape: (7537, 2)\n",
      "submission shape: (7537, 2)\n",
      "toxic3 shape: (223549, 8)\n"
     ]
    }
   ],
   "source": [
    "valid, test, submission, toxic3 = read_df()\n",
    "\n",
    "print(f'valid shape: {valid.shape}')\n",
    "print(f'test shape: {test.shape}')\n",
    "print(f'submission shape: {submission.shape}')\n",
    "print(f'toxic3 shape: {toxic3.shape}')"
   ]
  },
  {
   "cell_type": "code",
   "execution_count": 6,
   "id": "a9639b26",
   "metadata": {
    "execution": {
     "iopub.execute_input": "2022-01-04T12:25:41.495347Z",
     "iopub.status.busy": "2022-01-04T12:25:41.494695Z",
     "iopub.status.idle": "2022-01-04T12:25:41.526204Z",
     "shell.execute_reply": "2022-01-04T12:25:41.526648Z",
     "shell.execute_reply.started": "2022-01-03T07:07:46.808448Z"
    },
    "papermill": {
     "duration": 0.063108,
     "end_time": "2022-01-04T12:25:41.526839",
     "exception": false,
     "start_time": "2022-01-04T12:25:41.463731",
     "status": "completed"
    },
    "tags": []
   },
   "outputs": [
    {
     "data": {
      "text/html": [
       "<div>\n",
       "<style scoped>\n",
       "    .dataframe tbody tr th:only-of-type {\n",
       "        vertical-align: middle;\n",
       "    }\n",
       "\n",
       "    .dataframe tbody tr th {\n",
       "        vertical-align: top;\n",
       "    }\n",
       "\n",
       "    .dataframe thead th {\n",
       "        text-align: right;\n",
       "    }\n",
       "</style>\n",
       "<table border=\"1\" class=\"dataframe\">\n",
       "  <thead>\n",
       "    <tr style=\"text-align: right;\">\n",
       "      <th></th>\n",
       "      <th>worker</th>\n",
       "      <th>less_toxic</th>\n",
       "      <th>more_toxic</th>\n",
       "    </tr>\n",
       "  </thead>\n",
       "  <tbody>\n",
       "    <tr>\n",
       "      <th>0</th>\n",
       "      <td>313</td>\n",
       "      <td>This article sucks \\n\\nwoo woo wooooooo</td>\n",
       "      <td>WHAT!!!!!!!!?!?!!?!?!!?!?!?!?!!!!!!!!!!!!!!!!!...</td>\n",
       "    </tr>\n",
       "    <tr>\n",
       "      <th>1</th>\n",
       "      <td>188</td>\n",
       "      <td>\"And yes, people should recognize that but the...</td>\n",
       "      <td>Daphne Guinness \\n\\nTop of the mornin' my fav...</td>\n",
       "    </tr>\n",
       "    <tr>\n",
       "      <th>2</th>\n",
       "      <td>82</td>\n",
       "      <td>Western Media?\\n\\nYup, because every crime in...</td>\n",
       "      <td>\"Atom you don't believe actual photos of mastu...</td>\n",
       "    </tr>\n",
       "    <tr>\n",
       "      <th>3</th>\n",
       "      <td>347</td>\n",
       "      <td>And you removed it! You numbskull! I don't car...</td>\n",
       "      <td>You seem to have sand in your vagina.\\n\\nMight...</td>\n",
       "    </tr>\n",
       "    <tr>\n",
       "      <th>4</th>\n",
       "      <td>539</td>\n",
       "      <td>smelly vagina \\n\\nBluerasberry why don't you ...</td>\n",
       "      <td>hey \\n\\nway to support nazis, you racist</td>\n",
       "    </tr>\n",
       "  </tbody>\n",
       "</table>\n",
       "</div>"
      ],
      "text/plain": [
       "   worker                                         less_toxic  \\\n",
       "0     313            This article sucks \\n\\nwoo woo wooooooo   \n",
       "1     188  \"And yes, people should recognize that but the...   \n",
       "2      82   Western Media?\\n\\nYup, because every crime in...   \n",
       "3     347  And you removed it! You numbskull! I don't car...   \n",
       "4     539   smelly vagina \\n\\nBluerasberry why don't you ...   \n",
       "\n",
       "                                          more_toxic  \n",
       "0  WHAT!!!!!!!!?!?!!?!?!!?!?!?!?!!!!!!!!!!!!!!!!!...  \n",
       "1   Daphne Guinness \\n\\nTop of the mornin' my fav...  \n",
       "2  \"Atom you don't believe actual photos of mastu...  \n",
       "3  You seem to have sand in your vagina.\\n\\nMight...  \n",
       "4           hey \\n\\nway to support nazis, you racist  "
      ]
     },
     "metadata": {},
     "output_type": "display_data"
    },
    {
     "data": {
      "text/html": [
       "<div>\n",
       "<style scoped>\n",
       "    .dataframe tbody tr th:only-of-type {\n",
       "        vertical-align: middle;\n",
       "    }\n",
       "\n",
       "    .dataframe tbody tr th {\n",
       "        vertical-align: top;\n",
       "    }\n",
       "\n",
       "    .dataframe thead th {\n",
       "        text-align: right;\n",
       "    }\n",
       "</style>\n",
       "<table border=\"1\" class=\"dataframe\">\n",
       "  <thead>\n",
       "    <tr style=\"text-align: right;\">\n",
       "      <th></th>\n",
       "      <th>comment_id</th>\n",
       "      <th>text</th>\n",
       "    </tr>\n",
       "  </thead>\n",
       "  <tbody>\n",
       "    <tr>\n",
       "      <th>0</th>\n",
       "      <td>114890</td>\n",
       "      <td>\"\\n \\n\\nGjalexei, you asked about whether ther...</td>\n",
       "    </tr>\n",
       "    <tr>\n",
       "      <th>1</th>\n",
       "      <td>732895</td>\n",
       "      <td>Looks like be have an abuser , can you please ...</td>\n",
       "    </tr>\n",
       "    <tr>\n",
       "      <th>2</th>\n",
       "      <td>1139051</td>\n",
       "      <td>I confess to having complete (and apparently b...</td>\n",
       "    </tr>\n",
       "    <tr>\n",
       "      <th>3</th>\n",
       "      <td>1434512</td>\n",
       "      <td>\"\\n\\nFreud's ideas are certainly much discusse...</td>\n",
       "    </tr>\n",
       "    <tr>\n",
       "      <th>4</th>\n",
       "      <td>2084821</td>\n",
       "      <td>It is not just you. This is a laundry list of ...</td>\n",
       "    </tr>\n",
       "  </tbody>\n",
       "</table>\n",
       "</div>"
      ],
      "text/plain": [
       "   comment_id                                               text\n",
       "0      114890  \"\\n \\n\\nGjalexei, you asked about whether ther...\n",
       "1      732895  Looks like be have an abuser , can you please ...\n",
       "2     1139051  I confess to having complete (and apparently b...\n",
       "3     1434512  \"\\n\\nFreud's ideas are certainly much discusse...\n",
       "4     2084821  It is not just you. This is a laundry list of ..."
      ]
     },
     "metadata": {},
     "output_type": "display_data"
    },
    {
     "data": {
      "text/html": [
       "<div>\n",
       "<style scoped>\n",
       "    .dataframe tbody tr th:only-of-type {\n",
       "        vertical-align: middle;\n",
       "    }\n",
       "\n",
       "    .dataframe tbody tr th {\n",
       "        vertical-align: top;\n",
       "    }\n",
       "\n",
       "    .dataframe thead th {\n",
       "        text-align: right;\n",
       "    }\n",
       "</style>\n",
       "<table border=\"1\" class=\"dataframe\">\n",
       "  <thead>\n",
       "    <tr style=\"text-align: right;\">\n",
       "      <th></th>\n",
       "      <th>comment_id</th>\n",
       "      <th>score</th>\n",
       "    </tr>\n",
       "  </thead>\n",
       "  <tbody>\n",
       "    <tr>\n",
       "      <th>0</th>\n",
       "      <td>114890</td>\n",
       "      <td>0.5</td>\n",
       "    </tr>\n",
       "    <tr>\n",
       "      <th>1</th>\n",
       "      <td>732895</td>\n",
       "      <td>0.5</td>\n",
       "    </tr>\n",
       "    <tr>\n",
       "      <th>2</th>\n",
       "      <td>1139051</td>\n",
       "      <td>0.5</td>\n",
       "    </tr>\n",
       "    <tr>\n",
       "      <th>3</th>\n",
       "      <td>1434512</td>\n",
       "      <td>0.5</td>\n",
       "    </tr>\n",
       "    <tr>\n",
       "      <th>4</th>\n",
       "      <td>2084821</td>\n",
       "      <td>0.5</td>\n",
       "    </tr>\n",
       "  </tbody>\n",
       "</table>\n",
       "</div>"
      ],
      "text/plain": [
       "   comment_id  score\n",
       "0      114890    0.5\n",
       "1      732895    0.5\n",
       "2     1139051    0.5\n",
       "3     1434512    0.5\n",
       "4     2084821    0.5"
      ]
     },
     "metadata": {},
     "output_type": "display_data"
    },
    {
     "data": {
      "text/html": [
       "<div>\n",
       "<style scoped>\n",
       "    .dataframe tbody tr th:only-of-type {\n",
       "        vertical-align: middle;\n",
       "    }\n",
       "\n",
       "    .dataframe tbody tr th {\n",
       "        vertical-align: top;\n",
       "    }\n",
       "\n",
       "    .dataframe thead th {\n",
       "        text-align: right;\n",
       "    }\n",
       "</style>\n",
       "<table border=\"1\" class=\"dataframe\">\n",
       "  <thead>\n",
       "    <tr style=\"text-align: right;\">\n",
       "      <th></th>\n",
       "      <th>id</th>\n",
       "      <th>comment_text</th>\n",
       "      <th>toxic</th>\n",
       "      <th>severe_toxic</th>\n",
       "      <th>obscene</th>\n",
       "      <th>threat</th>\n",
       "      <th>insult</th>\n",
       "      <th>identity_hate</th>\n",
       "    </tr>\n",
       "  </thead>\n",
       "  <tbody>\n",
       "    <tr>\n",
       "      <th>0</th>\n",
       "      <td>0000997932d777bf</td>\n",
       "      <td>Explanation\\nWhy the edits made under my usern...</td>\n",
       "      <td>False</td>\n",
       "      <td>False</td>\n",
       "      <td>False</td>\n",
       "      <td>False</td>\n",
       "      <td>False</td>\n",
       "      <td>False</td>\n",
       "    </tr>\n",
       "    <tr>\n",
       "      <th>1</th>\n",
       "      <td>000103f0d9cfb60f</td>\n",
       "      <td>D'aww! He matches this background colour I'm s...</td>\n",
       "      <td>False</td>\n",
       "      <td>False</td>\n",
       "      <td>False</td>\n",
       "      <td>False</td>\n",
       "      <td>False</td>\n",
       "      <td>False</td>\n",
       "    </tr>\n",
       "    <tr>\n",
       "      <th>2</th>\n",
       "      <td>000113f07ec002fd</td>\n",
       "      <td>Hey man, I'm really not trying to edit war. It...</td>\n",
       "      <td>False</td>\n",
       "      <td>False</td>\n",
       "      <td>False</td>\n",
       "      <td>False</td>\n",
       "      <td>False</td>\n",
       "      <td>False</td>\n",
       "    </tr>\n",
       "    <tr>\n",
       "      <th>3</th>\n",
       "      <td>0001b41b1c6bb37e</td>\n",
       "      <td>\"\\nMore\\nI can't make any real suggestions on ...</td>\n",
       "      <td>False</td>\n",
       "      <td>False</td>\n",
       "      <td>False</td>\n",
       "      <td>False</td>\n",
       "      <td>False</td>\n",
       "      <td>False</td>\n",
       "    </tr>\n",
       "    <tr>\n",
       "      <th>4</th>\n",
       "      <td>0001d958c54c6e35</td>\n",
       "      <td>You, sir, are my hero. Any chance you remember...</td>\n",
       "      <td>False</td>\n",
       "      <td>False</td>\n",
       "      <td>False</td>\n",
       "      <td>False</td>\n",
       "      <td>False</td>\n",
       "      <td>False</td>\n",
       "    </tr>\n",
       "  </tbody>\n",
       "</table>\n",
       "</div>"
      ],
      "text/plain": [
       "                 id                                       comment_text  toxic  \\\n",
       "0  0000997932d777bf  Explanation\\nWhy the edits made under my usern...  False   \n",
       "1  000103f0d9cfb60f  D'aww! He matches this background colour I'm s...  False   \n",
       "2  000113f07ec002fd  Hey man, I'm really not trying to edit war. It...  False   \n",
       "3  0001b41b1c6bb37e  \"\\nMore\\nI can't make any real suggestions on ...  False   \n",
       "4  0001d958c54c6e35  You, sir, are my hero. Any chance you remember...  False   \n",
       "\n",
       "   severe_toxic  obscene  threat  insult  identity_hate  \n",
       "0         False    False   False   False          False  \n",
       "1         False    False   False   False          False  \n",
       "2         False    False   False   False          False  \n",
       "3         False    False   False   False          False  \n",
       "4         False    False   False   False          False  "
      ]
     },
     "metadata": {},
     "output_type": "display_data"
    }
   ],
   "source": [
    "display(valid.head())\n",
    "display(test.head())\n",
    "display(submission.head())\n",
    "display(toxic3.head())"
   ]
  },
  {
   "cell_type": "code",
   "execution_count": 7,
   "id": "f6952b8f",
   "metadata": {
    "execution": {
     "iopub.execute_input": "2022-01-04T12:25:41.580324Z",
     "iopub.status.busy": "2022-01-04T12:25:41.579264Z",
     "iopub.status.idle": "2022-01-04T12:25:42.492387Z",
     "shell.execute_reply": "2022-01-04T12:25:42.491703Z",
     "shell.execute_reply.started": "2022-01-03T07:07:50.027998Z"
    },
    "papermill": {
     "duration": 0.941576,
     "end_time": "2022-01-04T12:25:42.492690",
     "exception": false,
     "start_time": "2022-01-04T12:25:41.551114",
     "status": "completed"
    },
    "tags": []
   },
   "outputs": [
    {
     "data": {
      "image/png": "[encoded data removed]",
      "text/plain": [
       "<Figure size 432x432 with 1 Axes>"
      ]
     },
     "metadata": {},
     "output_type": "display_data"
    }
   ],
   "source": [
    "valid_unique_text = set(pd.concat([valid['less_toxic'], valid['more_toxic']]).unique())\n",
    "test_unique_text = set(test['text'].unique())\n",
    "toxic3_unique_text = set(toxic3['comment_text'].unique())\n",
    "\n",
    "plt.figure(figsize=(6,6))\n",
    "venn3(subsets=(valid_unique_text, test_unique_text, toxic3_unique_text),\n",
    "      set_labels=('Validation set', 'test set', 'toxic3 set'))\n",
    "plt.title('text')\n",
    "plt.tight_layout()\n",
    "plt.show()"
   ]
  },
  {
   "cell_type": "markdown",
   "id": "4d229048",
   "metadata": {
    "papermill": {
     "duration": 0.031551,
     "end_time": "2022-01-04T12:25:42.553387",
     "exception": false,
     "start_time": "2022-01-04T12:25:42.521836",
     "status": "completed"
    },
    "tags": []
   },
   "source": [
    "test は validation に含まれている。一方で test は toxic3 に完全に含まれているわけではない。これにより、toxic3 を訓練データとして使う場合、同じテキストのサンプルを選択するよりも、予め特徴抽出した上で、似ているサンプルを選択するのがよいのかもしれない。\n",
    "\n",
    "方針としては、特徴抽出して、adversarial validation により似ているサンプルセットを使って学習、予測という流れ。"
   ]
  },
  {
   "cell_type": "code",
   "execution_count": 8,
   "id": "b8b7e6fc",
   "metadata": {
    "execution": {
     "iopub.execute_input": "2022-01-04T12:25:42.614647Z",
     "iopub.status.busy": "2022-01-04T12:25:42.613765Z",
     "iopub.status.idle": "2022-01-04T12:25:42.622696Z",
     "shell.execute_reply": "2022-01-04T12:25:42.623271Z",
     "shell.execute_reply.started": "2022-01-03T07:07:59.202126Z"
    },
    "papermill": {
     "duration": 0.043221,
     "end_time": "2022-01-04T12:25:42.623441",
     "exception": false,
     "start_time": "2022-01-04T12:25:42.580220",
     "status": "completed"
    },
    "tags": []
   },
   "outputs": [],
   "source": [
    "# クリーニング関数\n",
    "def utils_preprocess_text(text, flg_stemm=False, flg_lemm=True, lst_stopwords=None, whitelist=None):\n",
    "    # clean (convert to lowercase and remove punctuations and characters and then strip)\n",
    "    text = re.sub(r'[^\\w\\s]', '', str(text).lower().strip())\n",
    "    \n",
    "    # remove numbers\n",
    "    text = re.sub(r'[\\d]', '', text)\n",
    "            \n",
    "    # Tokenize (convert from string to list)\n",
    "    lst_text = text.split()\n",
    "    \n",
    "    # remove Stopwords\n",
    "    if lst_stopwords is not None:\n",
    "        lst_text = [word for word in lst_text if word not in lst_stopwords]\n",
    "                \n",
    "    # Stemming (remove -ing, -ly, ...)\n",
    "    if flg_stemm == True:\n",
    "        ps = nltk.stem.porter.PorterStemmer()\n",
    "        lst_text = [ps.stem(word) for word in lst_text]\n",
    "                \n",
    "    # Lemmatisation (convert the word into root word)\n",
    "    if flg_lemm == True:\n",
    "        lem = nltk.stem.wordnet.WordNetLemmatizer()\n",
    "        lst_text = [lem.lemmatize(word) for word in lst_text]\n",
    "    \n",
    "    # white words list\n",
    "    if whitelist is not None:\n",
    "        lst_text = [word for word in lst_text if word in whitelist]\n",
    "        \n",
    "    # back to string from list\n",
    "    text = ' '.join(lst_text)\n",
    "    \n",
    "    return text"
   ]
  },
  {
   "cell_type": "code",
   "execution_count": 9,
   "id": "2a9c13ef",
   "metadata": {
    "execution": {
     "iopub.execute_input": "2022-01-04T12:25:42.687436Z",
     "iopub.status.busy": "2022-01-04T12:25:42.686484Z",
     "iopub.status.idle": "2022-01-04T12:25:52.157123Z",
     "shell.execute_reply": "2022-01-04T12:25:52.156506Z",
     "shell.execute_reply.started": "2022-01-03T07:08:01.771658Z"
    },
    "papermill": {
     "duration": 9.504996,
     "end_time": "2022-01-04T12:25:52.157274",
     "exception": false,
     "start_time": "2022-01-04T12:25:42.652278",
     "status": "completed"
    },
    "tags": []
   },
   "outputs": [
    {
     "name": "stdout",
     "output_type": "stream",
     "text": [
      "test_words size: 23636\n",
      "CPU times: user 9.32 s, sys: 136 ms, total: 9.46 s\n",
      "Wall time: 9.47 s\n"
     ]
    }
   ],
   "source": [
    "%%time\n",
    "stop_words = list(text.ENGLISH_STOP_WORDS)\n",
    "\n",
    "# test のクリーニング\n",
    "test['text_clean'] = test['text'].apply(lambda x: \n",
    "    utils_preprocess_text(x, flg_stemm=True, flg_lemm=True, lst_stopwords=stop_words, whitelist=None)\n",
    ")\n",
    "\n",
    "test_words = set(' '.join(test['text_clean']).split())\n",
    "print(f'test_words size: {len(test_words)}')"
   ]
  },
  {
   "cell_type": "code",
   "execution_count": 10,
   "id": "8fa1a085",
   "metadata": {
    "execution": {
     "iopub.execute_input": "2022-01-04T12:25:52.218324Z",
     "iopub.status.busy": "2022-01-04T12:25:52.217613Z",
     "iopub.status.idle": "2022-01-04T12:29:39.798668Z",
     "shell.execute_reply": "2022-01-04T12:29:39.799222Z",
     "shell.execute_reply.started": "2022-01-03T07:08:15.498164Z"
    },
    "papermill": {
     "duration": 227.616706,
     "end_time": "2022-01-04T12:29:39.799433",
     "exception": false,
     "start_time": "2022-01-04T12:25:52.182727",
     "status": "completed"
    },
    "tags": []
   },
   "outputs": [
    {
     "name": "stdout",
     "output_type": "stream",
     "text": [
      "CPU times: user 3min 46s, sys: 447 ms, total: 3min 47s\n",
      "Wall time: 3min 47s\n"
     ]
    }
   ],
   "source": [
    "%%time\n",
    "\n",
    "# valid のクリーニング\n",
    "valid_unique_text = pd.Series(pd.concat([valid['less_toxic'], valid['more_toxic']]).unique())\n",
    "valid_unique_text_cleaned = valid_unique_text.apply(lambda x: \n",
    "    utils_preprocess_text(x, flg_stemm=True, flg_lemm=True, lst_stopwords=stop_words, whitelist=test_words)\n",
    ")\n",
    "valid_unique_text_dic = {text: cleaned_text for text, cleaned_text in zip(valid_unique_text, valid_unique_text_cleaned)}\n",
    "valid['less_toxic_clean'] = valid['less_toxic'].map(valid_unique_text_dic)\n",
    "valid['more_toxic_clean'] = valid['more_toxic'].map(valid_unique_text_dic)\n",
    "\n",
    "# toxic3 のクリーニング\n",
    "toxic3 = toxic3.rename(columns={'comment_text': 'text'})\n",
    "toxic3['text_clean'] = toxic3['text'].apply(lambda x: \n",
    "    utils_preprocess_text(x, flg_stemm=True, flg_lemm=True, lst_stopwords=stop_words, whitelist=test_words)\n",
    ")"
   ]
  },
  {
   "cell_type": "code",
   "execution_count": 11,
   "id": "f35ac597",
   "metadata": {
    "execution": {
     "iopub.execute_input": "2022-01-04T12:29:39.865598Z",
     "iopub.status.busy": "2022-01-04T12:29:39.861480Z",
     "iopub.status.idle": "2022-01-04T12:29:39.970454Z",
     "shell.execute_reply": "2022-01-04T12:29:39.970968Z",
     "shell.execute_reply.started": "2022-01-03T07:13:43.665453Z"
    },
    "papermill": {
     "duration": 0.143094,
     "end_time": "2022-01-04T12:29:39.971153",
     "exception": false,
     "start_time": "2022-01-04T12:29:39.828059",
     "status": "completed"
    },
    "tags": []
   },
   "outputs": [
    {
     "data": {
      "text/html": [
       "<div>\n",
       "<style scoped>\n",
       "    .dataframe tbody tr th:only-of-type {\n",
       "        vertical-align: middle;\n",
       "    }\n",
       "\n",
       "    .dataframe tbody tr th {\n",
       "        vertical-align: top;\n",
       "    }\n",
       "\n",
       "    .dataframe thead th {\n",
       "        text-align: right;\n",
       "    }\n",
       "</style>\n",
       "<table border=\"1\" class=\"dataframe\">\n",
       "  <thead>\n",
       "    <tr style=\"text-align: right;\">\n",
       "      <th></th>\n",
       "      <th>less_toxic</th>\n",
       "      <th>less_toxic_clean</th>\n",
       "    </tr>\n",
       "  </thead>\n",
       "  <tbody>\n",
       "    <tr>\n",
       "      <th>0</th>\n",
       "      <td>This article sucks \\n\\nwoo woo wooooooo</td>\n",
       "      <td>articl suck woo woo wooooooo</td>\n",
       "    </tr>\n",
       "    <tr>\n",
       "      <th>1</th>\n",
       "      <td>\"And yes, people should recognize that but the...</td>\n",
       "      <td>ye peopl recogn usual dont object hear direct ...</td>\n",
       "    </tr>\n",
       "    <tr>\n",
       "      <th>2</th>\n",
       "      <td>Western Media?\\n\\nYup, because every crime in...</td>\n",
       "      <td>western medium yup crime entir world caus west...</td>\n",
       "    </tr>\n",
       "    <tr>\n",
       "      <th>3</th>\n",
       "      <td>And you removed it! You numbskull! I don't car...</td>\n",
       "      <td>remov numbskul dont care say anymor life ahead...</td>\n",
       "    </tr>\n",
       "    <tr>\n",
       "      <th>4</th>\n",
       "      <td>smelly vagina \\n\\nBluerasberry why don't you ...</td>\n",
       "      <td>smelli vagina bluerasberri dont model cheesi b...</td>\n",
       "    </tr>\n",
       "    <tr>\n",
       "      <th>...</th>\n",
       "      <td>...</td>\n",
       "      <td>...</td>\n",
       "    </tr>\n",
       "    <tr>\n",
       "      <th>30103</th>\n",
       "      <td>I'm sorry. I'm not an admin. I will give you t...</td>\n",
       "      <td>im sorri im admin piec advic edit page away gu...</td>\n",
       "    </tr>\n",
       "    <tr>\n",
       "      <th>30104</th>\n",
       "      <td>I'm sorry. I'm not an admin. I will give you t...</td>\n",
       "      <td>im sorri im admin piec advic edit page away gu...</td>\n",
       "    </tr>\n",
       "    <tr>\n",
       "      <th>30105</th>\n",
       "      <td>wow...\\nare you out of your mind, how was my e...</td>\n",
       "      <td>wow mind edit talk page vandal simpli explain ...</td>\n",
       "    </tr>\n",
       "    <tr>\n",
       "      <th>30106</th>\n",
       "      <td>wow...\\nare you out of your mind, how was my e...</td>\n",
       "      <td>wow mind edit talk page vandal simpli explain ...</td>\n",
       "    </tr>\n",
       "    <tr>\n",
       "      <th>30107</th>\n",
       "      <td>wow...\\nare you out of your mind, how was my e...</td>\n",
       "      <td>wow mind edit talk page vandal simpli explain ...</td>\n",
       "    </tr>\n",
       "  </tbody>\n",
       "</table>\n",
       "<p>30108 rows × 2 columns</p>\n",
       "</div>"
      ],
      "text/plain": [
       "                                              less_toxic  \\\n",
       "0                This article sucks \\n\\nwoo woo wooooooo   \n",
       "1      \"And yes, people should recognize that but the...   \n",
       "2       Western Media?\\n\\nYup, because every crime in...   \n",
       "3      And you removed it! You numbskull! I don't car...   \n",
       "4       smelly vagina \\n\\nBluerasberry why don't you ...   \n",
       "...                                                  ...   \n",
       "30103  I'm sorry. I'm not an admin. I will give you t...   \n",
       "30104  I'm sorry. I'm not an admin. I will give you t...   \n",
       "30105  wow...\\nare you out of your mind, how was my e...   \n",
       "30106  wow...\\nare you out of your mind, how was my e...   \n",
       "30107  wow...\\nare you out of your mind, how was my e...   \n",
       "\n",
       "                                        less_toxic_clean  \n",
       "0                           articl suck woo woo wooooooo  \n",
       "1      ye peopl recogn usual dont object hear direct ...  \n",
       "2      western medium yup crime entir world caus west...  \n",
       "3      remov numbskul dont care say anymor life ahead...  \n",
       "4      smelli vagina bluerasberri dont model cheesi b...  \n",
       "...                                                  ...  \n",
       "30103  im sorri im admin piec advic edit page away gu...  \n",
       "30104  im sorri im admin piec advic edit page away gu...  \n",
       "30105  wow mind edit talk page vandal simpli explain ...  \n",
       "30106  wow mind edit talk page vandal simpli explain ...  \n",
       "30107  wow mind edit talk page vandal simpli explain ...  \n",
       "\n",
       "[30108 rows x 2 columns]"
      ]
     },
     "metadata": {},
     "output_type": "display_data"
    },
    {
     "data": {
      "text/html": [
       "<div>\n",
       "<style scoped>\n",
       "    .dataframe tbody tr th:only-of-type {\n",
       "        vertical-align: middle;\n",
       "    }\n",
       "\n",
       "    .dataframe tbody tr th {\n",
       "        vertical-align: top;\n",
       "    }\n",
       "\n",
       "    .dataframe thead th {\n",
       "        text-align: right;\n",
       "    }\n",
       "</style>\n",
       "<table border=\"1\" class=\"dataframe\">\n",
       "  <thead>\n",
       "    <tr style=\"text-align: right;\">\n",
       "      <th></th>\n",
       "      <th>more_toxic</th>\n",
       "      <th>more_toxic_clean</th>\n",
       "    </tr>\n",
       "  </thead>\n",
       "  <tbody>\n",
       "    <tr>\n",
       "      <th>0</th>\n",
       "      <td>WHAT!!!!!!!!?!?!!?!?!!?!?!?!?!!!!!!!!!!!!!!!!!...</td>\n",
       "      <td>wher sexi pic gone main page</td>\n",
       "    </tr>\n",
       "    <tr>\n",
       "      <th>1</th>\n",
       "      <td>Daphne Guinness \\n\\nTop of the mornin' my fav...</td>\n",
       "      <td>daphn guin mornin favourit alien life form im ...</td>\n",
       "    </tr>\n",
       "    <tr>\n",
       "      <th>2</th>\n",
       "      <td>\"Atom you don't believe actual photos of mastu...</td>\n",
       "      <td>atom dont believ actual photo masturb sexual e...</td>\n",
       "    </tr>\n",
       "    <tr>\n",
       "      <th>3</th>\n",
       "      <td>You seem to have sand in your vagina.\\n\\nMight...</td>\n",
       "      <td>sand vagina want wash stink hole bitch</td>\n",
       "    </tr>\n",
       "    <tr>\n",
       "      <th>4</th>\n",
       "      <td>hey \\n\\nway to support nazis, you racist</td>\n",
       "      <td>hey way support nazi racist</td>\n",
       "    </tr>\n",
       "    <tr>\n",
       "      <th>...</th>\n",
       "      <td>...</td>\n",
       "      <td>...</td>\n",
       "    </tr>\n",
       "    <tr>\n",
       "      <th>30103</th>\n",
       "      <td>get out my large penis</td>\n",
       "      <td>larg peni</td>\n",
       "    </tr>\n",
       "    <tr>\n",
       "      <th>30104</th>\n",
       "      <td>get out my large penis</td>\n",
       "      <td>larg peni</td>\n",
       "    </tr>\n",
       "    <tr>\n",
       "      <th>30105</th>\n",
       "      <td>Piss off you slant eyed-gook</td>\n",
       "      <td>piss slant eyedgook</td>\n",
       "    </tr>\n",
       "    <tr>\n",
       "      <th>30106</th>\n",
       "      <td>Piss off you slant eyed-gook</td>\n",
       "      <td>piss slant eyedgook</td>\n",
       "    </tr>\n",
       "    <tr>\n",
       "      <th>30107</th>\n",
       "      <td>Piss off you slant eyed-gook</td>\n",
       "      <td>piss slant eyedgook</td>\n",
       "    </tr>\n",
       "  </tbody>\n",
       "</table>\n",
       "<p>30108 rows × 2 columns</p>\n",
       "</div>"
      ],
      "text/plain": [
       "                                              more_toxic  \\\n",
       "0      WHAT!!!!!!!!?!?!!?!?!!?!?!?!?!!!!!!!!!!!!!!!!!...   \n",
       "1       Daphne Guinness \\n\\nTop of the mornin' my fav...   \n",
       "2      \"Atom you don't believe actual photos of mastu...   \n",
       "3      You seem to have sand in your vagina.\\n\\nMight...   \n",
       "4               hey \\n\\nway to support nazis, you racist   \n",
       "...                                                  ...   \n",
       "30103                             get out my large penis   \n",
       "30104                             get out my large penis   \n",
       "30105                       Piss off you slant eyed-gook   \n",
       "30106                       Piss off you slant eyed-gook   \n",
       "30107                       Piss off you slant eyed-gook   \n",
       "\n",
       "                                        more_toxic_clean  \n",
       "0                           wher sexi pic gone main page  \n",
       "1      daphn guin mornin favourit alien life form im ...  \n",
       "2      atom dont believ actual photo masturb sexual e...  \n",
       "3                 sand vagina want wash stink hole bitch  \n",
       "4                            hey way support nazi racist  \n",
       "...                                                  ...  \n",
       "30103                                          larg peni  \n",
       "30104                                          larg peni  \n",
       "30105                                piss slant eyedgook  \n",
       "30106                                piss slant eyedgook  \n",
       "30107                                piss slant eyedgook  \n",
       "\n",
       "[30108 rows x 2 columns]"
      ]
     },
     "metadata": {},
     "output_type": "display_data"
    },
    {
     "data": {
      "text/html": [
       "<div>\n",
       "<style scoped>\n",
       "    .dataframe tbody tr th:only-of-type {\n",
       "        vertical-align: middle;\n",
       "    }\n",
       "\n",
       "    .dataframe tbody tr th {\n",
       "        vertical-align: top;\n",
       "    }\n",
       "\n",
       "    .dataframe thead th {\n",
       "        text-align: right;\n",
       "    }\n",
       "</style>\n",
       "<table border=\"1\" class=\"dataframe\">\n",
       "  <thead>\n",
       "    <tr style=\"text-align: right;\">\n",
       "      <th></th>\n",
       "      <th>text</th>\n",
       "      <th>text_clean</th>\n",
       "    </tr>\n",
       "  </thead>\n",
       "  <tbody>\n",
       "    <tr>\n",
       "      <th>0</th>\n",
       "      <td>\"\\n \\n\\nGjalexei, you asked about whether ther...</td>\n",
       "      <td>gjalexei ask antieditori polici call wikipedia...</td>\n",
       "    </tr>\n",
       "    <tr>\n",
       "      <th>1</th>\n",
       "      <td>Looks like be have an abuser , can you please ...</td>\n",
       "      <td>look like abus look thank</td>\n",
       "    </tr>\n",
       "    <tr>\n",
       "      <th>2</th>\n",
       "      <td>I confess to having complete (and apparently b...</td>\n",
       "      <td>confess have complet appar bliss ignor jordan ...</td>\n",
       "    </tr>\n",
       "    <tr>\n",
       "      <th>3</th>\n",
       "      <td>\"\\n\\nFreud's ideas are certainly much discusse...</td>\n",
       "      <td>freud idea certainli discus today agre grappl ...</td>\n",
       "    </tr>\n",
       "    <tr>\n",
       "      <th>4</th>\n",
       "      <td>It is not just you. This is a laundry list of ...</td>\n",
       "      <td>just laundri list stupid alleg scoop godknowsw...</td>\n",
       "    </tr>\n",
       "    <tr>\n",
       "      <th>...</th>\n",
       "      <td>...</td>\n",
       "      <td>...</td>\n",
       "    </tr>\n",
       "    <tr>\n",
       "      <th>7532</th>\n",
       "      <td>Go away, you annoying vandal.</td>\n",
       "      <td>away annoy vandal</td>\n",
       "    </tr>\n",
       "    <tr>\n",
       "      <th>7533</th>\n",
       "      <td>This user is a vandal.</td>\n",
       "      <td>user vandal</td>\n",
       "    </tr>\n",
       "    <tr>\n",
       "      <th>7534</th>\n",
       "      <td>\" \\n\\nSorry to sound like a pain, but one by f...</td>\n",
       "      <td>sorri sound like pain follow tad stalk honesti...</td>\n",
       "    </tr>\n",
       "    <tr>\n",
       "      <th>7535</th>\n",
       "      <td>Well it's pretty fucking irrelevant now I'm un...</td>\n",
       "      <td>pretti fuck irrelev im unblock aint</td>\n",
       "    </tr>\n",
       "    <tr>\n",
       "      <th>7536</th>\n",
       "      <td>The team name is Great Britain and Northern Ir...</td>\n",
       "      <td>team great britain northern ireland blind reve...</td>\n",
       "    </tr>\n",
       "  </tbody>\n",
       "</table>\n",
       "<p>7537 rows × 2 columns</p>\n",
       "</div>"
      ],
      "text/plain": [
       "                                                   text  \\\n",
       "0     \"\\n \\n\\nGjalexei, you asked about whether ther...   \n",
       "1     Looks like be have an abuser , can you please ...   \n",
       "2     I confess to having complete (and apparently b...   \n",
       "3     \"\\n\\nFreud's ideas are certainly much discusse...   \n",
       "4     It is not just you. This is a laundry list of ...   \n",
       "...                                                 ...   \n",
       "7532                      Go away, you annoying vandal.   \n",
       "7533                             This user is a vandal.   \n",
       "7534  \" \\n\\nSorry to sound like a pain, but one by f...   \n",
       "7535  Well it's pretty fucking irrelevant now I'm un...   \n",
       "7536  The team name is Great Britain and Northern Ir...   \n",
       "\n",
       "                                             text_clean  \n",
       "0     gjalexei ask antieditori polici call wikipedia...  \n",
       "1                             look like abus look thank  \n",
       "2     confess have complet appar bliss ignor jordan ...  \n",
       "3     freud idea certainli discus today agre grappl ...  \n",
       "4     just laundri list stupid alleg scoop godknowsw...  \n",
       "...                                                 ...  \n",
       "7532                                  away annoy vandal  \n",
       "7533                                        user vandal  \n",
       "7534  sorri sound like pain follow tad stalk honesti...  \n",
       "7535                pretti fuck irrelev im unblock aint  \n",
       "7536  team great britain northern ireland blind reve...  \n",
       "\n",
       "[7537 rows x 2 columns]"
      ]
     },
     "metadata": {},
     "output_type": "display_data"
    },
    {
     "data": {
      "text/html": [
       "<div>\n",
       "<style scoped>\n",
       "    .dataframe tbody tr th:only-of-type {\n",
       "        vertical-align: middle;\n",
       "    }\n",
       "\n",
       "    .dataframe tbody tr th {\n",
       "        vertical-align: top;\n",
       "    }\n",
       "\n",
       "    .dataframe thead th {\n",
       "        text-align: right;\n",
       "    }\n",
       "</style>\n",
       "<table border=\"1\" class=\"dataframe\">\n",
       "  <thead>\n",
       "    <tr style=\"text-align: right;\">\n",
       "      <th></th>\n",
       "      <th>text</th>\n",
       "      <th>text_clean</th>\n",
       "    </tr>\n",
       "  </thead>\n",
       "  <tbody>\n",
       "    <tr>\n",
       "      <th>0</th>\n",
       "      <td>Explanation\\nWhy the edits made under my usern...</td>\n",
       "      <td>explan edit usernam hardcor fan revert werent ...</td>\n",
       "    </tr>\n",
       "    <tr>\n",
       "      <th>1</th>\n",
       "      <td>D'aww! He matches this background colour I'm s...</td>\n",
       "      <td>match background colour im seemingli stuck tha...</td>\n",
       "    </tr>\n",
       "    <tr>\n",
       "      <th>2</th>\n",
       "      <td>Hey man, I'm really not trying to edit war. It...</td>\n",
       "      <td>hey man im realli tri edit war just guy consta...</td>\n",
       "    </tr>\n",
       "    <tr>\n",
       "      <th>3</th>\n",
       "      <td>\"\\nMore\\nI can't make any real suggestions on ...</td>\n",
       "      <td>make real suggest improv wonder section statis...</td>\n",
       "    </tr>\n",
       "    <tr>\n",
       "      <th>4</th>\n",
       "      <td>You, sir, are my hero. Any chance you remember...</td>\n",
       "      <td>sir hero chanc rememb page that</td>\n",
       "    </tr>\n",
       "    <tr>\n",
       "      <th>...</th>\n",
       "      <td>...</td>\n",
       "      <td>...</td>\n",
       "    </tr>\n",
       "    <tr>\n",
       "      <th>223544</th>\n",
       "      <td>:Jerome, I see you never got around to this…! ...</td>\n",
       "      <td>jerom got im surpris look exampl nomin onlin m...</td>\n",
       "    </tr>\n",
       "    <tr>\n",
       "      <th>223545</th>\n",
       "      <td>==Lucky bastard== \\n http://wikimediafoundatio...</td>\n",
       "      <td>lucki bastard heh famou envi congrat</td>\n",
       "    </tr>\n",
       "    <tr>\n",
       "      <th>223546</th>\n",
       "      <td>==shame on you all!!!== \\n\\n You want to speak...</td>\n",
       "      <td>shame want speak gay romanian</td>\n",
       "    </tr>\n",
       "    <tr>\n",
       "      <th>223547</th>\n",
       "      <td>MEL GIBSON IS A NAZI BITCH WHO MAKES SHITTY MO...</td>\n",
       "      <td>mel gibson nazi bitch make shitti movi asshol ...</td>\n",
       "    </tr>\n",
       "    <tr>\n",
       "      <th>223548</th>\n",
       "      <td>\" \\n\\n == Unicorn lair discovery == \\n\\n Suppo...</td>\n",
       "      <td>discoveri supposedli discov pyongyang north ko...</td>\n",
       "    </tr>\n",
       "  </tbody>\n",
       "</table>\n",
       "<p>223549 rows × 2 columns</p>\n",
       "</div>"
      ],
      "text/plain": [
       "                                                     text  \\\n",
       "0       Explanation\\nWhy the edits made under my usern...   \n",
       "1       D'aww! He matches this background colour I'm s...   \n",
       "2       Hey man, I'm really not trying to edit war. It...   \n",
       "3       \"\\nMore\\nI can't make any real suggestions on ...   \n",
       "4       You, sir, are my hero. Any chance you remember...   \n",
       "...                                                   ...   \n",
       "223544  :Jerome, I see you never got around to this…! ...   \n",
       "223545  ==Lucky bastard== \\n http://wikimediafoundatio...   \n",
       "223546  ==shame on you all!!!== \\n\\n You want to speak...   \n",
       "223547  MEL GIBSON IS A NAZI BITCH WHO MAKES SHITTY MO...   \n",
       "223548  \" \\n\\n == Unicorn lair discovery == \\n\\n Suppo...   \n",
       "\n",
       "                                               text_clean  \n",
       "0       explan edit usernam hardcor fan revert werent ...  \n",
       "1       match background colour im seemingli stuck tha...  \n",
       "2       hey man im realli tri edit war just guy consta...  \n",
       "3       make real suggest improv wonder section statis...  \n",
       "4                         sir hero chanc rememb page that  \n",
       "...                                                   ...  \n",
       "223544  jerom got im surpris look exampl nomin onlin m...  \n",
       "223545               lucki bastard heh famou envi congrat  \n",
       "223546                      shame want speak gay romanian  \n",
       "223547  mel gibson nazi bitch make shitti movi asshol ...  \n",
       "223548  discoveri supposedli discov pyongyang north ko...  \n",
       "\n",
       "[223549 rows x 2 columns]"
      ]
     },
     "metadata": {},
     "output_type": "display_data"
    }
   ],
   "source": [
    "display(valid[['less_toxic', 'less_toxic_clean']])\n",
    "display(valid[['more_toxic', 'more_toxic_clean']])\n",
    "display(test[['text', 'text_clean']])\n",
    "display(toxic3[['text', 'text_clean']])"
   ]
  },
  {
   "cell_type": "code",
   "execution_count": 12,
   "id": "49172076",
   "metadata": {
    "execution": {
     "iopub.execute_input": "2022-01-04T12:29:40.035894Z",
     "iopub.status.busy": "2022-01-04T12:29:40.034908Z",
     "iopub.status.idle": "2022-01-04T12:29:40.218160Z",
     "shell.execute_reply": "2022-01-04T12:29:40.217469Z",
     "shell.execute_reply.started": "2022-01-03T07:13:43.819462Z"
    },
    "papermill": {
     "duration": 0.216882,
     "end_time": "2022-01-04T12:29:40.218314",
     "exception": false,
     "start_time": "2022-01-04T12:29:40.001432",
     "status": "completed"
    },
    "tags": []
   },
   "outputs": [
    {
     "name": "stdout",
     "output_type": "stream",
     "text": [
      "1 / 7537\n",
      "21 / 30108\n",
      "21 / 30108\n",
      "1461 / 223549\n"
     ]
    }
   ],
   "source": [
    "# クリーニングにより空文字列になった文字列を抽出\n",
    "print(sum(test['text_clean'].apply(lambda x: len(x)) == 0), '/', len(test))\n",
    "print(sum(valid['less_toxic_clean'].apply(lambda x: len(x)) == 0), '/', len(valid))\n",
    "print(sum(valid['more_toxic_clean'].apply(lambda x: len(x)) == 0), '/', len(valid))\n",
    "print(sum(toxic3['text_clean'].apply(lambda x: len(x)) == 0), '/', len(toxic3))"
   ]
  },
  {
   "cell_type": "code",
   "execution_count": 13,
   "id": "012a574f",
   "metadata": {
    "execution": {
     "iopub.execute_input": "2022-01-04T12:29:40.279913Z",
     "iopub.status.busy": "2022-01-04T12:29:40.278928Z",
     "iopub.status.idle": "2022-01-04T12:29:40.473807Z",
     "shell.execute_reply": "2022-01-04T12:29:40.473179Z",
     "shell.execute_reply.started": "2022-01-03T07:13:44.153860Z"
    },
    "papermill": {
     "duration": 0.226308,
     "end_time": "2022-01-04T12:29:40.473959",
     "exception": false,
     "start_time": "2022-01-04T12:29:40.247651",
     "status": "completed"
    },
    "tags": []
   },
   "outputs": [],
   "source": [
    "# 空文字列の行を除く\n",
    "toxic3['word_size'] = toxic3['text_clean'].apply(lambda x: len(x))\n",
    "valid['less_toxic_size'] = valid['less_toxic_clean'].apply(lambda x: len(x))\n",
    "valid['more_toxic_size'] = valid['more_toxic_clean'].apply(lambda x: len(x))\n",
    "\n",
    "toxic3 = toxic3.query('word_size != 0')\n",
    "valid = valid.query('less_toxic_size != 0 | more_toxic_size != 0')"
   ]
  },
  {
   "cell_type": "code",
   "execution_count": 14,
   "id": "c4ec3697",
   "metadata": {
    "execution": {
     "iopub.execute_input": "2022-01-04T12:29:40.534966Z",
     "iopub.status.busy": "2022-01-04T12:29:40.534275Z",
     "iopub.status.idle": "2022-01-04T12:29:40.549351Z",
     "shell.execute_reply": "2022-01-04T12:29:40.549897Z",
     "shell.execute_reply.started": "2022-01-03T07:13:44.471109Z"
    },
    "papermill": {
     "duration": 0.047904,
     "end_time": "2022-01-04T12:29:40.550077",
     "exception": false,
     "start_time": "2022-01-04T12:29:40.502173",
     "status": "completed"
    },
    "tags": []
   },
   "outputs": [
    {
     "name": "stdout",
     "output_type": "stream",
     "text": [
      "advval_train_X shape: (229625,)\n",
      "advval_train_y shape: (229625,)\n"
     ]
    }
   ],
   "source": [
    "# preparing adversarial validation\n",
    "advval_train_X = pd.concat([toxic3['text_clean'], test['text_clean']])\n",
    "advval_train_y = pd.concat([pd.Series(np.ones(toxic3.shape[0])), pd.Series(np.zeros(test.shape[0]))])\n",
    "advval_valid_less_X = valid['less_toxic_clean']\n",
    "advval_valid_more_X = valid['more_toxic_clean']\n",
    "\n",
    "print(f'advval_train_X shape: {advval_train_X.shape}')\n",
    "print(f'advval_train_y shape: {advval_train_y.shape}')"
   ]
  },
  {
   "cell_type": "code",
   "execution_count": 15,
   "id": "a88302bc",
   "metadata": {
    "execution": {
     "iopub.execute_input": "2022-01-04T12:29:40.610466Z",
     "iopub.status.busy": "2022-01-04T12:29:40.609841Z",
     "iopub.status.idle": "2022-01-04T12:29:48.567697Z",
     "shell.execute_reply": "2022-01-04T12:29:48.568425Z",
     "shell.execute_reply.started": "2022-01-03T07:25:08.616526Z"
    },
    "papermill": {
     "duration": 7.989651,
     "end_time": "2022-01-04T12:29:48.568681",
     "exception": false,
     "start_time": "2022-01-04T12:29:40.579030",
     "status": "completed"
    },
    "tags": []
   },
   "outputs": [
    {
     "name": "stdout",
     "output_type": "stream",
     "text": [
      "feature extracting ...\n",
      "Total number of features: 18607\n",
      "CPU times: user 7.81 s, sys: 116 ms, total: 7.93 s\n",
      "Wall time: 7.95 s\n"
     ]
    }
   ],
   "source": [
    "%%time\n",
    "\n",
    "# 特徴抽出\n",
    "print(f'feature extracting ...')\n",
    "advval_tfidf = TfidfVectorizer(\n",
    "    stop_words=stop_words,\n",
    "    min_df=3,\n",
    "    max_df=0.5, \n",
    "    max_features=100_000,\n",
    "    analyzer='word',\n",
    "    ngram_range=(1, 1)\n",
    ")\n",
    "advval_train_X_tfidf = advval_tfidf.fit_transform(advval_train_X)\n",
    "advval_train_X_tfidf_feature_names = advval_tfidf.get_feature_names()\n",
    "advval_train_X_tfidf_vocab = advval_tfidf.vocabulary_\n",
    "advval_valid_less_X_tfidf = advval_tfidf.transform(advval_valid_less_X)\n",
    "advval_valid_more_X_tfidf = advval_tfidf.transform(advval_valid_more_X)\n",
    "\n",
    "print('Total number of features:', advval_train_X_tfidf.shape[1])"
   ]
  },
  {
   "cell_type": "code",
   "execution_count": 16,
   "id": "38738fc1",
   "metadata": {
    "execution": {
     "iopub.execute_input": "2022-01-04T12:29:48.647238Z",
     "iopub.status.busy": "2022-01-04T12:29:48.631269Z",
     "iopub.status.idle": "2022-01-04T12:29:48.664983Z",
     "shell.execute_reply": "2022-01-04T12:29:48.665471Z",
     "shell.execute_reply.started": "2022-01-03T07:13:54.221545Z"
    },
    "papermill": {
     "duration": 0.066165,
     "end_time": "2022-01-04T12:29:48.665661",
     "exception": false,
     "start_time": "2022-01-04T12:29:48.599496",
     "status": "completed"
    },
    "tags": []
   },
   "outputs": [
    {
     "data": {
      "text/html": [
       "<div>\n",
       "<style scoped>\n",
       "    .dataframe tbody tr th:only-of-type {\n",
       "        vertical-align: middle;\n",
       "    }\n",
       "\n",
       "    .dataframe tbody tr th {\n",
       "        vertical-align: top;\n",
       "    }\n",
       "\n",
       "    .dataframe thead th {\n",
       "        text-align: right;\n",
       "    }\n",
       "</style>\n",
       "<table border=\"1\" class=\"dataframe\">\n",
       "  <thead>\n",
       "    <tr style=\"text-align: right;\">\n",
       "      <th></th>\n",
       "      <th>word</th>\n",
       "      <th>weight</th>\n",
       "    </tr>\n",
       "  </thead>\n",
       "  <tbody>\n",
       "    <tr>\n",
       "      <th>18606</th>\n",
       "      <td>ｗｗｗａｎｏｎｔａｌｋｃｏｍ</td>\n",
       "      <td>11.957913</td>\n",
       "    </tr>\n",
       "    <tr>\n",
       "      <th>17629</th>\n",
       "      <td>warmak</td>\n",
       "      <td>11.957913</td>\n",
       "    </tr>\n",
       "    <tr>\n",
       "      <th>2250</th>\n",
       "      <td>burywiganrochdal</td>\n",
       "      <td>11.957913</td>\n",
       "    </tr>\n",
       "    <tr>\n",
       "      <th>2254</th>\n",
       "      <td>bushido</td>\n",
       "      <td>11.957913</td>\n",
       "    </tr>\n",
       "    <tr>\n",
       "      <th>14616</th>\n",
       "      <td>sicker</td>\n",
       "      <td>11.957913</td>\n",
       "    </tr>\n",
       "    <tr>\n",
       "      <th>17624</th>\n",
       "      <td>warjet</td>\n",
       "      <td>11.957913</td>\n",
       "    </tr>\n",
       "    <tr>\n",
       "      <th>14617</th>\n",
       "      <td>sickmind</td>\n",
       "      <td>11.957913</td>\n",
       "    </tr>\n",
       "    <tr>\n",
       "      <th>14621</th>\n",
       "      <td>sidd</td>\n",
       "      <td>11.957913</td>\n",
       "    </tr>\n",
       "    <tr>\n",
       "      <th>7959</th>\n",
       "      <td>indofijian</td>\n",
       "      <td>11.957913</td>\n",
       "    </tr>\n",
       "    <tr>\n",
       "      <th>2267</th>\n",
       "      <td>butro</td>\n",
       "      <td>11.957913</td>\n",
       "    </tr>\n",
       "  </tbody>\n",
       "</table>\n",
       "</div>"
      ],
      "text/plain": [
       "                   word     weight\n",
       "18606    ｗｗｗａｎｏｎｔａｌｋｃｏｍ  11.957913\n",
       "17629            warmak  11.957913\n",
       "2250   burywiganrochdal  11.957913\n",
       "2254            bushido  11.957913\n",
       "14616            sicker  11.957913\n",
       "17624            warjet  11.957913\n",
       "14617          sickmind  11.957913\n",
       "14621              sidd  11.957913\n",
       "7959         indofijian  11.957913\n",
       "2267              butro  11.957913"
      ]
     },
     "execution_count": 16,
     "metadata": {},
     "output_type": "execute_result"
    }
   ],
   "source": [
    "# idf ranking\n",
    "idf = {'word': advval_tfidf.get_feature_names(), 'weight': advval_tfidf.idf_}\n",
    "pd.DataFrame(idf).sort_values('weight', ascending=False).head(10)"
   ]
  },
  {
   "cell_type": "code",
   "execution_count": 17,
   "id": "cfe5947b",
   "metadata": {
    "execution": {
     "iopub.execute_input": "2022-01-04T12:29:48.737397Z",
     "iopub.status.busy": "2022-01-04T12:29:48.736349Z",
     "iopub.status.idle": "2022-01-04T12:29:48.738569Z",
     "shell.execute_reply": "2022-01-04T12:29:48.738998Z",
     "shell.execute_reply.started": "2022-01-03T07:15:25.109464Z"
    },
    "papermill": {
     "duration": 0.04362,
     "end_time": "2022-01-04T12:29:48.739168",
     "exception": false,
     "start_time": "2022-01-04T12:29:48.695548",
     "status": "completed"
    },
    "tags": []
   },
   "outputs": [],
   "source": [
    "# adversarial validation\n",
    "def adversarial_validation(train_X, train_y, tfidf):\n",
    "\n",
    "    models = []\n",
    "    oof_train = np.zeros((train_X.shape[0],))\n",
    "    scores = []\n",
    "\n",
    "    stkf = StratifiedKFold(\n",
    "        n_splits=N_SPLITS, \n",
    "        shuffle=True,\n",
    "        random_state=None\n",
    "    )\n",
    "\n",
    "    # 交差検証\n",
    "    for fold_id, (train_idx, valid_idx) in enumerate(stkf.split(train_X, train_y)):\n",
    "        start = time.time()\n",
    "        print(f'* ' * 40)\n",
    "        print(f'fold_id: {fold_id}')\n",
    "\n",
    "        # 訓練データ、評価データ、テストデータを整形\n",
    "        print(f'preprocessing ...')\n",
    "        X_trn = train_X.iloc[train_idx].reset_index(drop=True)\n",
    "        X_val = train_X.iloc[valid_idx].reset_index(drop=True)\n",
    "        y_trn = train_y.iloc[train_idx].reset_index(drop=True)\n",
    "        y_val = train_y.iloc[valid_idx].reset_index(drop=True)\n",
    "\n",
    "        X_trn_tfidf = tfidf.transform(X_trn)\n",
    "        X_val_tfidf = tfidf.transform(X_val)\n",
    "\n",
    "        print('Total number of train samples:', X_trn_tfidf.shape[0])\n",
    "        print('Total number of valid samples:', X_val_tfidf.shape[0])\n",
    "\n",
    "        # 訓練\n",
    "        print(f'training ...')\n",
    "        clf = SGDClassifier(\n",
    "            loss='log', \n",
    "            class_weight='balanced',\n",
    "            max_iter=10000, \n",
    "            tol=1e-3, \n",
    "            n_jobs=-1\n",
    "        )\n",
    "\n",
    "        clf.fit(X_trn_tfidf, y_trn)\n",
    "\n",
    "        # 推論\n",
    "        print(f'predicting ...')\n",
    "        val_pred = clf.predict_proba(X_val_tfidf)[:, 1]\n",
    "        oof_train[valid_idx] = val_pred\n",
    "        models.append(clf)\n",
    "\n",
    "        # 評価\n",
    "        print(f'validation ...')\n",
    "        score_auc = roc_auc_score(y_val, val_pred)\n",
    "        scores.append(score_auc)\n",
    "        elapsed = time.time() - start\n",
    "        print(f'fold {fold_id} - score: {score_auc:.6f}, elapsed time: {elapsed:.2f} [sec]')\n",
    "\n",
    "    print(f'* ' * 40)\n",
    "    print(f'Average AUC: {sum(scores)/N_SPLITS:.6f}')\n",
    "    \n",
    "    return oof_train, models"
   ]
  },
  {
   "cell_type": "code",
   "execution_count": 18,
   "id": "53d71d8e",
   "metadata": {
    "execution": {
     "iopub.execute_input": "2022-01-04T12:29:48.802232Z",
     "iopub.status.busy": "2022-01-04T12:29:48.801212Z",
     "iopub.status.idle": "2022-01-04T12:30:26.786981Z",
     "shell.execute_reply": "2022-01-04T12:30:26.787441Z",
     "shell.execute_reply.started": "2022-01-03T07:22:02.426256Z"
    },
    "papermill": {
     "duration": 38.01916,
     "end_time": "2022-01-04T12:30:26.787634",
     "exception": false,
     "start_time": "2022-01-04T12:29:48.768474",
     "status": "completed"
    },
    "tags": []
   },
   "outputs": [
    {
     "name": "stdout",
     "output_type": "stream",
     "text": [
      "* * * * * * * * * * * * * * * * * * * * * * * * * * * * * * * * * * * * * * * * \n",
      "fold_id: 0\n",
      "preprocessing ...\n",
      "Total number of train samples: 183700\n",
      "Total number of valid samples: 45925\n",
      "training ...\n",
      "predicting ...\n",
      "validation ...\n",
      "fold 0 - score: 0.799609, elapsed time: 7.49 [sec]\n",
      "* * * * * * * * * * * * * * * * * * * * * * * * * * * * * * * * * * * * * * * * \n",
      "fold_id: 1\n",
      "preprocessing ...\n",
      "Total number of train samples: 183700\n",
      "Total number of valid samples: 45925\n",
      "training ...\n",
      "predicting ...\n",
      "validation ...\n",
      "fold 1 - score: 0.804230, elapsed time: 7.68 [sec]\n",
      "* * * * * * * * * * * * * * * * * * * * * * * * * * * * * * * * * * * * * * * * \n",
      "fold_id: 2\n",
      "preprocessing ...\n",
      "Total number of train samples: 183700\n",
      "Total number of valid samples: 45925\n",
      "training ...\n",
      "predicting ...\n",
      "validation ...\n",
      "fold 2 - score: 0.794327, elapsed time: 7.83 [sec]\n",
      "* * * * * * * * * * * * * * * * * * * * * * * * * * * * * * * * * * * * * * * * \n",
      "fold_id: 3\n",
      "preprocessing ...\n",
      "Total number of train samples: 183700\n",
      "Total number of valid samples: 45925\n",
      "training ...\n",
      "predicting ...\n",
      "validation ...\n",
      "fold 3 - score: 0.804752, elapsed time: 7.13 [sec]\n",
      "* * * * * * * * * * * * * * * * * * * * * * * * * * * * * * * * * * * * * * * * \n",
      "fold_id: 4\n",
      "preprocessing ...\n",
      "Total number of train samples: 183700\n",
      "Total number of valid samples: 45925\n",
      "training ...\n",
      "predicting ...\n",
      "validation ...\n",
      "fold 4 - score: 0.804118, elapsed time: 7.80 [sec]\n",
      "* * * * * * * * * * * * * * * * * * * * * * * * * * * * * * * * * * * * * * * * \n",
      "Average AUC: 0.801407\n",
      "CPU times: user 38.4 s, sys: 1.25 s, total: 39.7 s\n",
      "Wall time: 38 s\n"
     ]
    }
   ],
   "source": [
    "%%time\n",
    "advval_oof_train, advval_models = adversarial_validation(advval_train_X, advval_train_y, advval_tfidf)"
   ]
  },
  {
   "cell_type": "markdown",
   "id": "5639deca",
   "metadata": {
    "papermill": {
     "duration": 0.032181,
     "end_time": "2022-01-04T12:30:26.853917",
     "exception": false,
     "start_time": "2022-01-04T12:30:26.821736",
     "status": "completed"
    },
    "tags": []
   },
   "source": [
    "Average AUC が 0.80 程度だと train と test を分離できそうな分類器ができたということ。すなわち、訓練データとテストデータの特徴量分布が異なることを意味している。いま、訓練データをラベル1、テストデータをラベル0としたので、スコアの低い訓練データを取り出すことで、テストデータに近い訓練データが手に入る。"
   ]
  },
  {
   "cell_type": "code",
   "execution_count": 19,
   "id": "0cd17c30",
   "metadata": {
    "execution": {
     "iopub.execute_input": "2022-01-04T12:30:26.924841Z",
     "iopub.status.busy": "2022-01-04T12:30:26.924111Z",
     "iopub.status.idle": "2022-01-04T12:30:27.263847Z",
     "shell.execute_reply": "2022-01-04T12:30:27.263314Z",
     "shell.execute_reply.started": "2022-01-03T07:16:42.553612Z"
    },
    "papermill": {
     "duration": 0.375889,
     "end_time": "2022-01-04T12:30:27.263992",
     "exception": false,
     "start_time": "2022-01-04T12:30:26.888103",
     "status": "completed"
    },
    "tags": []
   },
   "outputs": [
    {
     "data": {
      "image/png": "[encoded data removed]",
      "text/plain": [
       "<Figure size 432x288 with 1 Axes>"
      ]
     },
     "metadata": {
      "needs_background": "light"
     },
     "output_type": "display_data"
    }
   ],
   "source": [
    "# スコア分布\n",
    "plt.figure()\n",
    "plt.hist(advval_oof_train, alpha=.8, bins=100)\n",
    "plt.show()"
   ]
  },
  {
   "cell_type": "code",
   "execution_count": 20,
   "id": "82124345",
   "metadata": {
    "execution": {
     "iopub.execute_input": "2022-01-04T12:30:27.337923Z",
     "iopub.status.busy": "2022-01-04T12:30:27.337254Z",
     "iopub.status.idle": "2022-01-04T12:30:27.348076Z",
     "shell.execute_reply": "2022-01-04T12:30:27.348581Z",
     "shell.execute_reply.started": "2022-01-03T07:16:45.850182Z"
    },
    "papermill": {
     "duration": 0.050367,
     "end_time": "2022-01-04T12:30:27.348752",
     "exception": false,
     "start_time": "2022-01-04T12:30:27.298385",
     "status": "completed"
    },
    "tags": []
   },
   "outputs": [
    {
     "data": {
      "text/html": [
       "<div>\n",
       "<style scoped>\n",
       "    .dataframe tbody tr th:only-of-type {\n",
       "        vertical-align: middle;\n",
       "    }\n",
       "\n",
       "    .dataframe tbody tr th {\n",
       "        vertical-align: top;\n",
       "    }\n",
       "\n",
       "    .dataframe thead th {\n",
       "        text-align: right;\n",
       "    }\n",
       "</style>\n",
       "<table border=\"1\" class=\"dataframe\">\n",
       "  <thead>\n",
       "    <tr style=\"text-align: right;\">\n",
       "      <th></th>\n",
       "      <th>oof_train</th>\n",
       "      <th>y</th>\n",
       "    </tr>\n",
       "  </thead>\n",
       "  <tbody>\n",
       "    <tr>\n",
       "      <th>0</th>\n",
       "      <td>0.612866</td>\n",
       "      <td>1.0</td>\n",
       "    </tr>\n",
       "    <tr>\n",
       "      <th>1</th>\n",
       "      <td>0.850895</td>\n",
       "      <td>1.0</td>\n",
       "    </tr>\n",
       "    <tr>\n",
       "      <th>2</th>\n",
       "      <td>0.517484</td>\n",
       "      <td>1.0</td>\n",
       "    </tr>\n",
       "    <tr>\n",
       "      <th>3</th>\n",
       "      <td>0.892088</td>\n",
       "      <td>1.0</td>\n",
       "    </tr>\n",
       "    <tr>\n",
       "      <th>4</th>\n",
       "      <td>0.658010</td>\n",
       "      <td>1.0</td>\n",
       "    </tr>\n",
       "    <tr>\n",
       "      <th>...</th>\n",
       "      <td>...</td>\n",
       "      <td>...</td>\n",
       "    </tr>\n",
       "    <tr>\n",
       "      <th>7532</th>\n",
       "      <td>0.196153</td>\n",
       "      <td>0.0</td>\n",
       "    </tr>\n",
       "    <tr>\n",
       "      <th>7533</th>\n",
       "      <td>0.151820</td>\n",
       "      <td>0.0</td>\n",
       "    </tr>\n",
       "    <tr>\n",
       "      <th>7534</th>\n",
       "      <td>0.474894</td>\n",
       "      <td>0.0</td>\n",
       "    </tr>\n",
       "    <tr>\n",
       "      <th>7535</th>\n",
       "      <td>0.318727</td>\n",
       "      <td>0.0</td>\n",
       "    </tr>\n",
       "    <tr>\n",
       "      <th>7536</th>\n",
       "      <td>0.443586</td>\n",
       "      <td>0.0</td>\n",
       "    </tr>\n",
       "  </tbody>\n",
       "</table>\n",
       "<p>229625 rows × 2 columns</p>\n",
       "</div>"
      ],
      "text/plain": [
       "      oof_train    y\n",
       "0      0.612866  1.0\n",
       "1      0.850895  1.0\n",
       "2      0.517484  1.0\n",
       "3      0.892088  1.0\n",
       "4      0.658010  1.0\n",
       "...         ...  ...\n",
       "7532   0.196153  0.0\n",
       "7533   0.151820  0.0\n",
       "7534   0.474894  0.0\n",
       "7535   0.318727  0.0\n",
       "7536   0.443586  0.0\n",
       "\n",
       "[229625 rows x 2 columns]"
      ]
     },
     "execution_count": 20,
     "metadata": {},
     "output_type": "execute_result"
    }
   ],
   "source": [
    "advval_oof_train = pd.DataFrame({'oof_train': advval_oof_train, 'y': advval_train_y})\n",
    "advval_oof_train"
   ]
  },
  {
   "cell_type": "code",
   "execution_count": 21,
   "id": "a473caeb",
   "metadata": {
    "execution": {
     "iopub.execute_input": "2022-01-04T12:30:27.418037Z",
     "iopub.status.busy": "2022-01-04T12:30:27.417339Z",
     "iopub.status.idle": "2022-01-04T12:30:27.435333Z",
     "shell.execute_reply": "2022-01-04T12:30:27.435885Z",
     "shell.execute_reply.started": "2022-01-03T07:16:49.987364Z"
    },
    "papermill": {
     "duration": 0.054366,
     "end_time": "2022-01-04T12:30:27.436059",
     "exception": false,
     "start_time": "2022-01-04T12:30:27.381693",
     "status": "completed"
    },
    "tags": []
   },
   "outputs": [
    {
     "data": {
      "text/html": [
       "<div>\n",
       "<style scoped>\n",
       "    .dataframe tbody tr th:only-of-type {\n",
       "        vertical-align: middle;\n",
       "    }\n",
       "\n",
       "    .dataframe tbody tr th {\n",
       "        vertical-align: top;\n",
       "    }\n",
       "\n",
       "    .dataframe thead th {\n",
       "        text-align: right;\n",
       "    }\n",
       "</style>\n",
       "<table border=\"1\" class=\"dataframe\">\n",
       "  <thead>\n",
       "    <tr style=\"text-align: right;\">\n",
       "      <th></th>\n",
       "      <th>oof_train</th>\n",
       "      <th>y</th>\n",
       "    </tr>\n",
       "  </thead>\n",
       "  <tbody>\n",
       "    <tr>\n",
       "      <th>6</th>\n",
       "      <td>0.319524</td>\n",
       "      <td>1.0</td>\n",
       "    </tr>\n",
       "    <tr>\n",
       "      <th>7</th>\n",
       "      <td>0.253058</td>\n",
       "      <td>1.0</td>\n",
       "    </tr>\n",
       "    <tr>\n",
       "      <th>12</th>\n",
       "      <td>0.482344</td>\n",
       "      <td>1.0</td>\n",
       "    </tr>\n",
       "    <tr>\n",
       "      <th>16</th>\n",
       "      <td>0.390102</td>\n",
       "      <td>1.0</td>\n",
       "    </tr>\n",
       "    <tr>\n",
       "      <th>27</th>\n",
       "      <td>0.446858</td>\n",
       "      <td>1.0</td>\n",
       "    </tr>\n",
       "    <tr>\n",
       "      <th>...</th>\n",
       "      <td>...</td>\n",
       "      <td>...</td>\n",
       "    </tr>\n",
       "    <tr>\n",
       "      <th>222074</th>\n",
       "      <td>0.468019</td>\n",
       "      <td>1.0</td>\n",
       "    </tr>\n",
       "    <tr>\n",
       "      <th>222081</th>\n",
       "      <td>0.388896</td>\n",
       "      <td>1.0</td>\n",
       "    </tr>\n",
       "    <tr>\n",
       "      <th>222082</th>\n",
       "      <td>0.429802</td>\n",
       "      <td>1.0</td>\n",
       "    </tr>\n",
       "    <tr>\n",
       "      <th>222085</th>\n",
       "      <td>0.314303</td>\n",
       "      <td>1.0</td>\n",
       "    </tr>\n",
       "    <tr>\n",
       "      <th>222086</th>\n",
       "      <td>0.206808</td>\n",
       "      <td>1.0</td>\n",
       "    </tr>\n",
       "  </tbody>\n",
       "</table>\n",
       "<p>51820 rows × 2 columns</p>\n",
       "</div>"
      ],
      "text/plain": [
       "        oof_train    y\n",
       "6        0.319524  1.0\n",
       "7        0.253058  1.0\n",
       "12       0.482344  1.0\n",
       "16       0.390102  1.0\n",
       "27       0.446858  1.0\n",
       "...           ...  ...\n",
       "222074   0.468019  1.0\n",
       "222081   0.388896  1.0\n",
       "222082   0.429802  1.0\n",
       "222085   0.314303  1.0\n",
       "222086   0.206808  1.0\n",
       "\n",
       "[51820 rows x 2 columns]"
      ]
     },
     "execution_count": 21,
     "metadata": {},
     "output_type": "execute_result"
    }
   ],
   "source": [
    "# 訓練データのうちテストデータに近いサンプルを抽出\n",
    "advval_oof_train.query('oof_train < 0.5 & y == 1')"
   ]
  },
  {
   "cell_type": "markdown",
   "id": "60a45b94",
   "metadata": {
    "papermill": {
     "duration": 0.032942,
     "end_time": "2022-01-04T12:30:27.502455",
     "exception": false,
     "start_time": "2022-01-04T12:30:27.469513",
     "status": "completed"
    },
    "tags": []
   },
   "source": [
    "問い。テストデータにない単語を使って学習することに価値はあるか？  \n",
    "答え。単語の意味の近さを利用せずに分類器を作成する場合にはないと言える。単語がテストデータのテキストが leak しているが、それを逆用する。一方で、深層学習のような枠組みを用いる場合においては、そうとは限らず、という感じ。"
   ]
  },
  {
   "cell_type": "code",
   "execution_count": 22,
   "id": "a730a9d9",
   "metadata": {
    "execution": {
     "iopub.execute_input": "2022-01-04T12:30:27.572659Z",
     "iopub.status.busy": "2022-01-04T12:30:27.572069Z",
     "iopub.status.idle": "2022-01-04T12:30:27.582377Z",
     "shell.execute_reply": "2022-01-04T12:30:27.582878Z",
     "shell.execute_reply.started": "2022-01-03T07:16:53.164472Z"
    },
    "papermill": {
     "duration": 0.046664,
     "end_time": "2022-01-04T12:30:27.583042",
     "exception": false,
     "start_time": "2022-01-04T12:30:27.536378",
     "status": "completed"
    },
    "tags": []
   },
   "outputs": [
    {
     "name": "stdout",
     "output_type": "stream",
     "text": [
      "51820\n"
     ]
    }
   ],
   "source": [
    "advval_train_idx = advval_oof_train.query('oof_train < 0.5 & y == 1').index\n",
    "print(len(advval_train_idx))"
   ]
  },
  {
   "cell_type": "code",
   "execution_count": 23,
   "id": "8358385a",
   "metadata": {
    "execution": {
     "iopub.execute_input": "2022-01-04T12:30:27.654733Z",
     "iopub.status.busy": "2022-01-04T12:30:27.654036Z",
     "iopub.status.idle": "2022-01-04T12:30:27.694646Z",
     "shell.execute_reply": "2022-01-04T12:30:27.694132Z",
     "shell.execute_reply.started": "2022-01-03T07:18:17.409171Z"
    },
    "papermill": {
     "duration": 0.078296,
     "end_time": "2022-01-04T12:30:27.694799",
     "exception": false,
     "start_time": "2022-01-04T12:30:27.616503",
     "status": "completed"
    },
    "tags": []
   },
   "outputs": [
    {
     "name": "stdout",
     "output_type": "stream",
     "text": [
      "main_train_X shape: (229625,)\n",
      "main_train_y shape: (229625,)\n",
      "main_valid_less_X shape: (30108,)\n",
      "main_valid_more_X shape: (30108,)\n"
     ]
    }
   ],
   "source": [
    "# preparing main training data\n",
    "main_train_X = toxic3.iloc[advval_train_idx]['text_clean']\n",
    "main_train_y = toxic3.iloc[advval_train_idx][['toxic', 'severe_toxic', 'obscene', 'threat', 'insult', 'identity_hate']].sum(axis=1)\n",
    "main_train_y += toxic3.iloc[advval_train_idx]['severe_toxic']\n",
    "main_train_y /= main_train_y.max()\n",
    "main_valid_less_X = valid['less_toxic_clean']\n",
    "main_valid_more_X = valid['more_toxic_clean']\n",
    "\n",
    "print(f'main_train_X shape: {advval_train_X.shape}')\n",
    "print(f'main_train_y shape: {advval_train_y.shape}')\n",
    "print(f'main_valid_less_X shape: {main_valid_less_X.shape}')\n",
    "print(f'main_valid_more_X shape: {main_valid_more_X.shape}')"
   ]
  },
  {
   "cell_type": "code",
   "execution_count": 24,
   "id": "0aaad04d",
   "metadata": {
    "execution": {
     "iopub.execute_input": "2022-01-04T12:30:27.766302Z",
     "iopub.status.busy": "2022-01-04T12:30:27.765722Z",
     "iopub.status.idle": "2022-01-04T12:30:30.910683Z",
     "shell.execute_reply": "2022-01-04T12:30:30.909161Z",
     "shell.execute_reply.started": "2022-01-03T07:18:27.679318Z"
    },
    "papermill": {
     "duration": 3.182076,
     "end_time": "2022-01-04T12:30:30.910920",
     "exception": false,
     "start_time": "2022-01-04T12:30:27.728844",
     "status": "completed"
    },
    "tags": []
   },
   "outputs": [
    {
     "name": "stdout",
     "output_type": "stream",
     "text": [
      "feature extracting ...\n",
      "Total number of features: 12522\n"
     ]
    }
   ],
   "source": [
    "# 特徴抽出\n",
    "print(f'feature extracting ...')\n",
    "main_tfidf = TfidfVectorizer(\n",
    "    stop_words=stop_words,\n",
    "    min_df=3,\n",
    "    max_df=0.5, \n",
    "    max_features=100_000,\n",
    "    analyzer='word',\n",
    "    ngram_range=(1, 1)\n",
    ")\n",
    "\n",
    "main_train_X_tfidf = main_tfidf.fit_transform(main_train_X)\n",
    "main_train_X_tfidf_feature_names = main_tfidf.get_feature_names()\n",
    "main_train_X_tfidf_vocab = main_tfidf.vocabulary_\n",
    "main_valid_less_X_tfidf = main_tfidf.transform(main_valid_less_X)\n",
    "main_valid_more_X_tfidf = main_tfidf.transform(main_valid_more_X)\n",
    "\n",
    "print('Total number of features:', main_train_X_tfidf.shape[1])"
   ]
  },
  {
   "cell_type": "code",
   "execution_count": 25,
   "id": "e222e6e3",
   "metadata": {
    "execution": {
     "iopub.execute_input": "2022-01-04T12:30:30.997396Z",
     "iopub.status.busy": "2022-01-04T12:30:30.996358Z",
     "iopub.status.idle": "2022-01-04T12:30:31.026763Z",
     "shell.execute_reply": "2022-01-04T12:30:31.027297Z",
     "shell.execute_reply.started": "2022-01-03T07:18:42.315522Z"
    },
    "papermill": {
     "duration": 0.074412,
     "end_time": "2022-01-04T12:30:31.027610",
     "exception": false,
     "start_time": "2022-01-04T12:30:30.953198",
     "status": "completed"
    },
    "tags": []
   },
   "outputs": [
    {
     "data": {
      "text/html": [
       "<div>\n",
       "<style scoped>\n",
       "    .dataframe tbody tr th:only-of-type {\n",
       "        vertical-align: middle;\n",
       "    }\n",
       "\n",
       "    .dataframe tbody tr th {\n",
       "        vertical-align: top;\n",
       "    }\n",
       "\n",
       "    .dataframe thead th {\n",
       "        text-align: right;\n",
       "    }\n",
       "</style>\n",
       "<table border=\"1\" class=\"dataframe\">\n",
       "  <thead>\n",
       "    <tr style=\"text-align: right;\">\n",
       "      <th></th>\n",
       "      <th>word</th>\n",
       "      <th>weight</th>\n",
       "    </tr>\n",
       "  </thead>\n",
       "  <tbody>\n",
       "    <tr>\n",
       "      <th>1519</th>\n",
       "      <td>bummer</td>\n",
       "      <td>10.469256</td>\n",
       "    </tr>\n",
       "    <tr>\n",
       "      <th>10347</th>\n",
       "      <td>stalkerish</td>\n",
       "      <td>10.469256</td>\n",
       "    </tr>\n",
       "    <tr>\n",
       "      <th>1671</th>\n",
       "      <td>carnildo</td>\n",
       "      <td>10.469256</td>\n",
       "    </tr>\n",
       "    <tr>\n",
       "      <th>10358</th>\n",
       "      <td>starbuck</td>\n",
       "      <td>10.469256</td>\n",
       "    </tr>\n",
       "    <tr>\n",
       "      <th>10363</th>\n",
       "      <td>startl</td>\n",
       "      <td>10.469256</td>\n",
       "    </tr>\n",
       "    <tr>\n",
       "      <th>1666</th>\n",
       "      <td>carioca</td>\n",
       "      <td>10.469256</td>\n",
       "    </tr>\n",
       "    <tr>\n",
       "      <th>10368</th>\n",
       "      <td>statesman</td>\n",
       "      <td>10.469256</td>\n",
       "    </tr>\n",
       "    <tr>\n",
       "      <th>6734</th>\n",
       "      <td>mcmahon</td>\n",
       "      <td>10.469256</td>\n",
       "    </tr>\n",
       "    <tr>\n",
       "      <th>1661</th>\n",
       "      <td>carelessli</td>\n",
       "      <td>10.469256</td>\n",
       "    </tr>\n",
       "    <tr>\n",
       "      <th>6726</th>\n",
       "      <td>mbk</td>\n",
       "      <td>10.469256</td>\n",
       "    </tr>\n",
       "  </tbody>\n",
       "</table>\n",
       "</div>"
      ],
      "text/plain": [
       "             word     weight\n",
       "1519       bummer  10.469256\n",
       "10347  stalkerish  10.469256\n",
       "1671     carnildo  10.469256\n",
       "10358    starbuck  10.469256\n",
       "10363      startl  10.469256\n",
       "1666      carioca  10.469256\n",
       "10368   statesman  10.469256\n",
       "6734      mcmahon  10.469256\n",
       "1661   carelessli  10.469256\n",
       "6726          mbk  10.469256"
      ]
     },
     "execution_count": 25,
     "metadata": {},
     "output_type": "execute_result"
    }
   ],
   "source": [
    "# idf ranking\n",
    "idf = {'word': main_tfidf.get_feature_names(), 'weight': main_tfidf.idf_}\n",
    "pd.DataFrame(idf).sort_values('weight', ascending=False).head(10)"
   ]
  },
  {
   "cell_type": "code",
   "execution_count": 26,
   "id": "bd042343",
   "metadata": {
    "execution": {
     "iopub.execute_input": "2022-01-04T12:30:31.118145Z",
     "iopub.status.busy": "2022-01-04T12:30:31.117386Z",
     "iopub.status.idle": "2022-01-04T12:30:31.119446Z",
     "shell.execute_reply": "2022-01-04T12:30:31.119931Z",
     "shell.execute_reply.started": "2022-01-03T07:18:47.692457Z"
    },
    "papermill": {
     "duration": 0.052979,
     "end_time": "2022-01-04T12:30:31.120119",
     "exception": false,
     "start_time": "2022-01-04T12:30:31.067140",
     "status": "completed"
    },
    "tags": []
   },
   "outputs": [],
   "source": [
    "# main\n",
    "def main_training(train_X, train_y, tfidf):\n",
    "\n",
    "    models = []\n",
    "    oof_train = np.zeros((train_X.shape[0],))\n",
    "    scores = []\n",
    "\n",
    "    kf = KFold(\n",
    "        n_splits=N_SPLITS, \n",
    "        shuffle=True,\n",
    "        random_state=None\n",
    "    )\n",
    "\n",
    "    # 交差検証\n",
    "    for fold_id, (train_idx, valid_idx) in enumerate(kf.split(train_X, train_y)):\n",
    "        start = time.time()\n",
    "        print(f'* ' * 40)\n",
    "        print(f'fold_id: {fold_id}')\n",
    "\n",
    "        # 訓練データ、評価データ、テストデータを整形\n",
    "        print(f'preprocessing ...')\n",
    "        X_trn = train_X.iloc[train_idx].reset_index(drop=True)\n",
    "        X_val = train_X.iloc[valid_idx].reset_index(drop=True)\n",
    "        y_trn = train_y.iloc[train_idx].reset_index(drop=True)\n",
    "        y_val = train_y.iloc[valid_idx].reset_index(drop=True)\n",
    "\n",
    "        X_trn_tfidf = tfidf.transform(X_trn)\n",
    "        X_val_tfidf = tfidf.transform(X_val)\n",
    "\n",
    "        print('Total number of train samples:', X_trn_tfidf.shape[0])\n",
    "        print('Total number of valid samples:', X_val_tfidf.shape[0])\n",
    "\n",
    "        # 訓練\n",
    "        print(f'training ...')\n",
    "        reg = Ridge(\n",
    "            max_iter=10000, \n",
    "            tol=1e-3\n",
    "        )\n",
    "\n",
    "        reg.fit(X_trn_tfidf, y_trn)\n",
    "\n",
    "        # 推論\n",
    "        print(f'predicting ...')\n",
    "        val_pred = reg.predict(X_val_tfidf)\n",
    "        oof_train[valid_idx] = val_pred\n",
    "        models.append(reg)\n",
    "\n",
    "        # 評価\n",
    "        print(f'validation ...')\n",
    "        score_mse = mean_squared_error(y_val, val_pred)\n",
    "        scores.append(score_mse)\n",
    "        elapsed = time.time() - start\n",
    "        print(f'fold {fold_id} - score: {score_mse:.6f}, elapsed time: {elapsed:.2f} [sec]')\n",
    "\n",
    "    print(f'* ' * 40)\n",
    "    print(f'Average MSE: {sum(scores)/N_SPLITS:.6f} Average RMSE: {np.sqrt(sum(scores)/N_SPLITS):.6f}')\n",
    "    \n",
    "    return oof_train, models"
   ]
  },
  {
   "cell_type": "code",
   "execution_count": 27,
   "id": "d67c5069",
   "metadata": {
    "execution": {
     "iopub.execute_input": "2022-01-04T12:30:31.197799Z",
     "iopub.status.busy": "2022-01-04T12:30:31.197017Z",
     "iopub.status.idle": "2022-01-04T12:30:39.035326Z",
     "shell.execute_reply": "2022-01-04T12:30:39.036372Z",
     "shell.execute_reply.started": "2022-01-03T07:18:52.505235Z"
    },
    "papermill": {
     "duration": 7.880742,
     "end_time": "2022-01-04T12:30:39.036809",
     "exception": false,
     "start_time": "2022-01-04T12:30:31.156067",
     "status": "completed"
    },
    "tags": []
   },
   "outputs": [
    {
     "name": "stdout",
     "output_type": "stream",
     "text": [
      "* * * * * * * * * * * * * * * * * * * * * * * * * * * * * * * * * * * * * * * * \n",
      "fold_id: 0\n",
      "preprocessing ...\n",
      "Total number of train samples: 41456\n",
      "Total number of valid samples: 10364\n",
      "training ...\n",
      "predicting ...\n",
      "validation ...\n",
      "fold 0 - score: 0.016139, elapsed time: 1.56 [sec]\n",
      "* * * * * * * * * * * * * * * * * * * * * * * * * * * * * * * * * * * * * * * * \n",
      "fold_id: 1\n",
      "preprocessing ...\n",
      "Total number of train samples: 41456\n",
      "Total number of valid samples: 10364\n",
      "training ...\n",
      "predicting ...\n",
      "validation ...\n",
      "fold 1 - score: 0.016795, elapsed time: 1.60 [sec]\n",
      "* * * * * * * * * * * * * * * * * * * * * * * * * * * * * * * * * * * * * * * * \n",
      "fold_id: 2\n",
      "preprocessing ...\n",
      "Total number of train samples: 41456\n",
      "Total number of valid samples: 10364\n",
      "training ...\n",
      "predicting ...\n",
      "validation ...\n",
      "fold 2 - score: 0.016975, elapsed time: 1.61 [sec]\n",
      "* * * * * * * * * * * * * * * * * * * * * * * * * * * * * * * * * * * * * * * * \n",
      "fold_id: 3\n",
      "preprocessing ...\n",
      "Total number of train samples: 41456\n",
      "Total number of valid samples: 10364\n",
      "training ...\n",
      "predicting ...\n",
      "validation ...\n",
      "fold 3 - score: 0.016584, elapsed time: 1.53 [sec]\n",
      "* * * * * * * * * * * * * * * * * * * * * * * * * * * * * * * * * * * * * * * * \n",
      "fold_id: 4\n",
      "preprocessing ...\n",
      "Total number of train samples: 41456\n",
      "Total number of valid samples: 10364\n",
      "training ...\n",
      "predicting ...\n",
      "validation ...\n",
      "fold 4 - score: 0.016668, elapsed time: 1.53 [sec]\n",
      "* * * * * * * * * * * * * * * * * * * * * * * * * * * * * * * * * * * * * * * * \n",
      "Average MSE: 0.016632 Average RMSE: 0.128965\n",
      "CPU times: user 9.47 s, sys: 3.18 s, total: 12.6 s\n",
      "Wall time: 7.83 s\n"
     ]
    }
   ],
   "source": [
    "%%time\n",
    "main_oof_train, main_models = main_training(main_train_X, main_train_y, main_tfidf)"
   ]
  },
  {
   "cell_type": "code",
   "execution_count": 28,
   "id": "c9b3609e",
   "metadata": {
    "execution": {
     "iopub.execute_input": "2022-01-04T12:30:39.183959Z",
     "iopub.status.busy": "2022-01-04T12:30:39.182883Z",
     "iopub.status.idle": "2022-01-04T12:30:39.516889Z",
     "shell.execute_reply": "2022-01-04T12:30:39.517346Z",
     "shell.execute_reply.started": "2022-01-03T07:19:11.998550Z"
    },
    "papermill": {
     "duration": 0.404213,
     "end_time": "2022-01-04T12:30:39.517517",
     "exception": false,
     "start_time": "2022-01-04T12:30:39.113304",
     "status": "completed"
    },
    "tags": []
   },
   "outputs": [
    {
     "data": {
      "image/png": "[encoded data removed]",
      "text/plain": [
       "<Figure size 432x288 with 1 Axes>"
      ]
     },
     "metadata": {
      "needs_background": "light"
     },
     "output_type": "display_data"
    }
   ],
   "source": [
    "# スコア分布\n",
    "plt.figure()\n",
    "plt.hist(main_oof_train, alpha=.8, bins=100)\n",
    "plt.show()"
   ]
  },
  {
   "cell_type": "code",
   "execution_count": 29,
   "id": "2b7a41d9",
   "metadata": {
    "execution": {
     "iopub.execute_input": "2022-01-04T12:30:39.600347Z",
     "iopub.status.busy": "2022-01-04T12:30:39.599233Z",
     "iopub.status.idle": "2022-01-04T12:30:39.701054Z",
     "shell.execute_reply": "2022-01-04T12:30:39.700498Z",
     "shell.execute_reply.started": "2022-01-03T07:31:04.836717Z"
    },
    "papermill": {
     "duration": 0.145998,
     "end_time": "2022-01-04T12:30:39.701195",
     "exception": false,
     "start_time": "2022-01-04T12:30:39.555197",
     "status": "completed"
    },
    "tags": []
   },
   "outputs": [
    {
     "name": "stdout",
     "output_type": "stream",
     "text": [
      "17242 / 30108\n"
     ]
    }
   ],
   "source": [
    "# adversarial validation によりテストデータに近い評価データを作成\n",
    "advval_score_valid_less_toxic = np.array([clf.predict_proba(advval_valid_less_X_tfidf)[:, 1] for clf in advval_models]).sum(axis=0) / len(advval_models)\n",
    "advval_score_valid_more_toxic = np.array([clf.predict_proba(advval_valid_more_X_tfidf)[:, 1] for clf in advval_models]).sum(axis=0) / len(advval_models)\n",
    "\n",
    "test_like_valid_idx = (advval_score_valid_less_toxic < 0.5) & (advval_score_valid_more_toxic < 0.5)\n",
    "print(sum(test_like_valid_idx), '/', len(test_like_valid_idx))"
   ]
  },
  {
   "cell_type": "code",
   "execution_count": 30,
   "id": "1c1c4737",
   "metadata": {
    "execution": {
     "iopub.execute_input": "2022-01-04T12:30:39.784413Z",
     "iopub.status.busy": "2022-01-04T12:30:39.783268Z",
     "iopub.status.idle": "2022-01-04T12:30:39.810571Z",
     "shell.execute_reply": "2022-01-04T12:30:39.811002Z",
     "shell.execute_reply.started": "2022-01-03T07:31:50.687483Z"
    },
    "papermill": {
     "duration": 0.07177,
     "end_time": "2022-01-04T12:30:39.811200",
     "exception": false,
     "start_time": "2022-01-04T12:30:39.739430",
     "status": "completed"
    },
    "tags": []
   },
   "outputs": [
    {
     "name": "stdout",
     "output_type": "stream",
     "text": [
      "0.6975988864400882\n"
     ]
    }
   ],
   "source": [
    "# validation score\n",
    "preds_less_toxic = np.array([reg.predict(main_valid_less_X_tfidf[test_like_valid_idx]) for reg in main_models]).sum(axis=0)\n",
    "preds_more_toxic = np.array([reg.predict(main_valid_more_X_tfidf[test_like_valid_idx]) for reg in main_models]).sum(axis=0)\n",
    "\n",
    "print((preds_less_toxic < preds_more_toxic).mean())"
   ]
  },
  {
   "cell_type": "code",
   "execution_count": 31,
   "id": "04c89cb0",
   "metadata": {
    "execution": {
     "iopub.execute_input": "2022-01-04T12:30:39.903276Z",
     "iopub.status.busy": "2022-01-04T12:30:39.902624Z",
     "iopub.status.idle": "2022-01-04T12:30:40.149297Z",
     "shell.execute_reply": "2022-01-04T12:30:40.149776Z",
     "shell.execute_reply.started": "2022-01-02T16:17:43.318548Z"
    },
    "papermill": {
     "duration": 0.300313,
     "end_time": "2022-01-04T12:30:40.149942",
     "exception": false,
     "start_time": "2022-01-04T12:30:39.849629",
     "status": "completed"
    },
    "tags": []
   },
   "outputs": [
    {
     "data": {
      "text/html": [
       "<div>\n",
       "<style scoped>\n",
       "    .dataframe tbody tr th:only-of-type {\n",
       "        vertical-align: middle;\n",
       "    }\n",
       "\n",
       "    .dataframe tbody tr th {\n",
       "        vertical-align: top;\n",
       "    }\n",
       "\n",
       "    .dataframe thead th {\n",
       "        text-align: right;\n",
       "    }\n",
       "</style>\n",
       "<table border=\"1\" class=\"dataframe\">\n",
       "  <thead>\n",
       "    <tr style=\"text-align: right;\">\n",
       "      <th></th>\n",
       "      <th>count</th>\n",
       "      <th>mean</th>\n",
       "      <th>std</th>\n",
       "      <th>min</th>\n",
       "      <th>25%</th>\n",
       "      <th>50%</th>\n",
       "      <th>75%</th>\n",
       "      <th>max</th>\n",
       "    </tr>\n",
       "  </thead>\n",
       "  <tbody>\n",
       "    <tr>\n",
       "      <th>0</th>\n",
       "      <td>7537.0</td>\n",
       "      <td>0.662841</td>\n",
       "      <td>0.832572</td>\n",
       "      <td>-0.722576</td>\n",
       "      <td>0.107814</td>\n",
       "      <td>0.371069</td>\n",
       "      <td>0.948688</td>\n",
       "      <td>5.232735</td>\n",
       "    </tr>\n",
       "  </tbody>\n",
       "</table>\n",
       "</div>"
      ],
      "text/plain": [
       "    count      mean       std       min       25%       50%       75%  \\\n",
       "0  7537.0  0.662841  0.832572 -0.722576  0.107814  0.371069  0.948688   \n",
       "\n",
       "        max  \n",
       "0  5.232735  "
      ]
     },
     "execution_count": 31,
     "metadata": {},
     "output_type": "execute_result"
    }
   ],
   "source": [
    "test_X_tfidf = main_tfidf.transform(test['text_clean'])\n",
    "preds_test = np.array([reg.predict(test_X_tfidf) for reg in main_models]).sum(axis=0)\n",
    "submission['score'] = preds_test\n",
    "\n",
    "pd.DataFrame(pd.Series(submission['score'].ravel()).describe()).transpose()"
   ]
  },
  {
   "cell_type": "code",
   "execution_count": 32,
   "id": "14ba0871",
   "metadata": {
    "execution": {
     "iopub.execute_input": "2022-01-04T12:30:40.230380Z",
     "iopub.status.busy": "2022-01-04T12:30:40.229786Z",
     "iopub.status.idle": "2022-01-04T12:30:40.255922Z",
     "shell.execute_reply": "2022-01-04T12:30:40.256454Z",
     "shell.execute_reply.started": "2022-01-02T16:17:56.341593Z"
    },
    "papermill": {
     "duration": 0.067732,
     "end_time": "2022-01-04T12:30:40.256699",
     "exception": false,
     "start_time": "2022-01-04T12:30:40.188967",
     "status": "completed"
    },
    "tags": []
   },
   "outputs": [],
   "source": [
    "submission.to_csv('submission.csv', index=False)"
   ]
  }
 ],
 "metadata": {
  "kernelspec": {
   "display_name": "Python 3",
   "language": "python",
   "name": "python3"
  },
  "language_info": {
   "codemirror_mode": {
    "name": "ipython",
    "version": 3
   },
   "file_extension": ".py",
   "mimetype": "text/x-python",
   "name": "python",
   "nbconvert_exporter": "python",
   "pygments_lexer": "ipython3",
   "version": "3.7.12"
  },
  "papermill": {
   "default_parameters": {},
   "duration": 312.176454,
   "end_time": "2022-01-04T12:30:41.409173",
   "environment_variables": {},
   "exception": null,
   "input_path": "__notebook__.ipynb",
   "output_path": "__notebook__.ipynb",
   "parameters": {},
   "start_time": "2022-01-04T12:25:29.232719",
   "version": "2.3.3"
  }
 },
 "nbformat": 4,
 "nbformat_minor": 5
}
