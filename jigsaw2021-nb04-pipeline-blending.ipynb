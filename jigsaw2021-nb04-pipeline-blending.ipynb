{
 "cells": [
  {
   "cell_type": "markdown",
   "id": "930bae14",
   "metadata": {
    "papermill": {
     "duration": 0.014964,
     "end_time": "2021-12-16T14:11:26.613998",
     "exception": false,
     "start_time": "2021-12-16T14:11:26.599034",
     "status": "completed"
    },
    "tags": []
   },
   "source": [
    "# Overview\n",
    "\n",
    "- Kaggle の jigsaw-toxic-severity-rating コンペ。\n",
    "- pipeline\n",
    "    - data cleaning\n",
    "    - ridge regression\n",
    "- learning strategy\n",
    "    - ~~maxdiff (binary classification)~~\n",
    "    - 複数の外部データを利用\n",
    "    - toxic, severe_toxic, obscene, threat, insult, identity_hate などを重み付けして目的変数に変換\n",
    "        - severe_toxic * 2 としてその他の項目と和をとり回帰タスク\n",
    "        - max({toxic, severe_toxic, obscene, threat, insult, identity_hate}) として2クラス分類\n",
    "    - blending\n",
    "- CV strategy:\n",
    "    - ~~比較ペアとして出現したことがあるテキストを再帰的に調べてまとめてひとつの gid 付与。~~\n",
    "    - ~~gid に対して GroupKFold~~\n",
    "    - ホールドアウト法 ■複数データセットとの関係を含めて詳細を書く\n",
    "- training:\n",
    "    - naive bayes\n",
    "    - logistic regression\n",
    "    - ridge regression\n",
    "    - sgd classifier\n",
    "    - random forest\n",
    "- metric:\n",
    "    - 以下の手続きで評価。\n",
    "\n",
    "作るモデルの個数は、\n",
    "- classification: naive bayes, logistic regression, sgd classifier, random forest 4種\n",
    "- regression: lasso, ridge, sgd regressor, random forest 4種\n",
    "\n",
    "TODO\n",
    "- Local CV と Public LB の相関を確認。\n",
    "- データ固定、モデル固定のもといくつかのバリデーションを試す。\n",
    "- cleaning\n",
    "    - NLTK, Spacy, Keras, torchtext を使う方法があるらしい。。\n",
    "- feature extraction:\n",
    "    - BoW\n",
    "    - TF-IDF\n",
    "    - N-gram\n",
    "    - sentiment and intent analysis"
   ]
  },
  {
   "cell_type": "markdown",
   "id": "52c65c0c",
   "metadata": {
    "papermill": {
     "duration": 0.013363,
     "end_time": "2021-12-16T14:11:26.643940",
     "exception": false,
     "start_time": "2021-12-16T14:11:26.630577",
     "status": "completed"
    },
    "tags": []
   },
   "source": [
    "# Directories"
   ]
  },
  {
   "cell_type": "code",
   "execution_count": 1,
   "id": "fd80a3d0",
   "metadata": {
    "_cell_guid": "b1076dfc-b9ad-4769-8c92-a6c4dae69d19",
    "_uuid": "8f2839f25d086af736a60e9eeb907d3b93b6e0e5",
    "execution": {
     "iopub.execute_input": "2021-12-16T14:11:26.676742Z",
     "iopub.status.busy": "2021-12-16T14:11:26.674982Z",
     "iopub.status.idle": "2021-12-16T14:11:26.729866Z",
     "shell.execute_reply": "2021-12-16T14:11:26.729139Z",
     "shell.execute_reply.started": "2021-12-16T13:51:18.955323Z"
    },
    "papermill": {
     "duration": 0.072454,
     "end_time": "2021-12-16T14:11:26.730021",
     "exception": false,
     "start_time": "2021-12-16T14:11:26.657567",
     "status": "completed"
    },
    "tags": []
   },
   "outputs": [
    {
     "name": "stdout",
     "output_type": "stream",
     "text": [
      "/kaggle/input/ruddit-jigsaw-dataset/LICENSE\n",
      "/kaggle/input/ruddit-jigsaw-dataset/README.md\n",
      "/kaggle/input/ruddit-jigsaw-dataset/requirements.txt\n",
      "/kaggle/input/ruddit-jigsaw-dataset/ruddit-comment-extraction.ipynb\n",
      "/kaggle/input/ruddit-jigsaw-dataset/Dataset/create_dataset_variants.py\n",
      "/kaggle/input/ruddit-jigsaw-dataset/Dataset/identityterms_group.txt\n",
      "/kaggle/input/ruddit-jigsaw-dataset/Dataset/Ruddit.csv\n",
      "/kaggle/input/ruddit-jigsaw-dataset/Dataset/ReadMe.md\n",
      "/kaggle/input/ruddit-jigsaw-dataset/Dataset/Ruddit_individual_annotations.csv\n",
      "/kaggle/input/ruddit-jigsaw-dataset/Dataset/ruddit_with_text.csv\n",
      "/kaggle/input/ruddit-jigsaw-dataset/Dataset/node_dictionary.npy\n",
      "/kaggle/input/ruddit-jigsaw-dataset/Dataset/post_with_issues.csv\n",
      "/kaggle/input/ruddit-jigsaw-dataset/Dataset/Thread_structure.txt\n",
      "/kaggle/input/ruddit-jigsaw-dataset/Dataset/load_node_dictionary.py\n",
      "/kaggle/input/ruddit-jigsaw-dataset/Dataset/sample_input_file.csv\n",
      "/kaggle/input/ruddit-jigsaw-dataset/Models/BERT.py\n",
      "/kaggle/input/ruddit-jigsaw-dataset/Models/create_splits.py\n",
      "/kaggle/input/ruddit-jigsaw-dataset/Models/README.md\n",
      "/kaggle/input/ruddit-jigsaw-dataset/Models/BiLSTM.py\n",
      "/kaggle/input/ruddit-jigsaw-dataset/Models/info.md\n",
      "/kaggle/input/ruddit-jigsaw-dataset/Models/HateBERT.py\n",
      "/kaggle/input/jigsaw-multilingual-toxic-comment-classification/sample_submission.csv\n",
      "/kaggle/input/jigsaw-multilingual-toxic-comment-classification/test_labels.csv\n",
      "/kaggle/input/jigsaw-multilingual-toxic-comment-classification/validation-processed-seqlen128.csv\n",
      "/kaggle/input/jigsaw-multilingual-toxic-comment-classification/test-processed-seqlen128.csv\n",
      "/kaggle/input/jigsaw-multilingual-toxic-comment-classification/jigsaw-unintended-bias-train-processed-seqlen128.csv\n",
      "/kaggle/input/jigsaw-multilingual-toxic-comment-classification/validation.csv\n",
      "/kaggle/input/jigsaw-multilingual-toxic-comment-classification/jigsaw-toxic-comment-train.csv\n",
      "/kaggle/input/jigsaw-multilingual-toxic-comment-classification/test.csv\n",
      "/kaggle/input/jigsaw-multilingual-toxic-comment-classification/jigsaw-unintended-bias-train.csv\n",
      "/kaggle/input/jigsaw-multilingual-toxic-comment-classification/jigsaw-toxic-comment-train-processed-seqlen128.csv\n",
      "/kaggle/input/jigsaw-toxic-severity-rating/sample_submission.csv\n",
      "/kaggle/input/jigsaw-toxic-severity-rating/validation_data.csv\n",
      "/kaggle/input/jigsaw-toxic-severity-rating/comments_to_score.csv\n"
     ]
    }
   ],
   "source": [
    "import os\n",
    "for dirname, _, filenames in os.walk('/kaggle/input'):\n",
    "    for filename in filenames:\n",
    "        print(os.path.join(dirname, filename))"
   ]
  },
  {
   "cell_type": "markdown",
   "id": "1950a21f",
   "metadata": {
    "papermill": {
     "duration": 0.013724,
     "end_time": "2021-12-16T14:11:26.758124",
     "exception": false,
     "start_time": "2021-12-16T14:11:26.744400",
     "status": "completed"
    },
    "tags": []
   },
   "source": [
    "# Parameters"
   ]
  },
  {
   "cell_type": "code",
   "execution_count": 2,
   "id": "b1f7ca0e",
   "metadata": {
    "execution": {
     "iopub.execute_input": "2021-12-16T14:11:26.790656Z",
     "iopub.status.busy": "2021-12-16T14:11:26.788406Z",
     "iopub.status.idle": "2021-12-16T14:11:26.792842Z",
     "shell.execute_reply": "2021-12-16T14:11:26.792286Z",
     "shell.execute_reply.started": "2021-12-16T13:51:19.009593Z"
    },
    "papermill": {
     "duration": 0.020886,
     "end_time": "2021-12-16T14:11:26.792973",
     "exception": false,
     "start_time": "2021-12-16T14:11:26.772087",
     "status": "completed"
    },
    "tags": []
   },
   "outputs": [],
   "source": [
    "DEBUG_FLAG = False\n",
    "VERSION = 'nb04'\n",
    "\n",
    "SUBMISSION_PATH = '/kaggle/input/jigsaw-toxic-severity-rating/sample_submission.csv'\n",
    "VALIDATION_DATA_PATH = '/kaggle/input/jigsaw-toxic-severity-rating/validation_data.csv'\n",
    "COMMENTS_SCORE_PATH = '/kaggle/input/jigsaw-toxic-severity-rating/comments_to_score.csv'\n",
    "TOXIC3_TRAIN_PATH = '/kaggle/input/jigsaw-multilingual-toxic-comment-classification/jigsaw-toxic-comment-train.csv'\n",
    "RUDDIT_PATH = '/kaggle/input/ruddit-jigsaw-dataset/Dataset/ruddit_with_text.csv'\n",
    "\n",
    "N_SPLITS = 5 if not DEBUG_FLAG else 2"
   ]
  },
  {
   "cell_type": "markdown",
   "id": "a1d858ee",
   "metadata": {
    "papermill": {
     "duration": 0.014123,
     "end_time": "2021-12-16T14:11:26.821260",
     "exception": false,
     "start_time": "2021-12-16T14:11:26.807137",
     "status": "completed"
    },
    "tags": []
   },
   "source": [
    "# Modules"
   ]
  },
  {
   "cell_type": "code",
   "execution_count": 3,
   "id": "21ce0e53",
   "metadata": {
    "execution": {
     "iopub.execute_input": "2021-12-16T14:11:26.858720Z",
     "iopub.status.busy": "2021-12-16T14:11:26.858015Z",
     "iopub.status.idle": "2021-12-16T14:11:37.344271Z",
     "shell.execute_reply": "2021-12-16T14:11:37.344798Z",
     "shell.execute_reply.started": "2021-12-16T13:51:19.016474Z"
    },
    "papermill": {
     "duration": 10.50944,
     "end_time": "2021-12-16T14:11:37.344990",
     "exception": false,
     "start_time": "2021-12-16T14:11:26.835550",
     "status": "completed"
    },
    "tags": []
   },
   "outputs": [
    {
     "data": {
      "text/html": [
       "<style type='text/css'>\n",
       ".datatable table.frame { margin-bottom: 0; }\n",
       ".datatable table.frame thead { border-bottom: none; }\n",
       ".datatable table.frame tr.coltypes td {  color: #FFFFFF;  line-height: 6px;  padding: 0 0.5em;}\n",
       ".datatable .bool    { background: #DDDD99; }\n",
       ".datatable .object  { background: #565656; }\n",
       ".datatable .int     { background: #5D9E5D; }\n",
       ".datatable .float   { background: #4040CC; }\n",
       ".datatable .str     { background: #CC4040; }\n",
       ".datatable .time    { background: #40CC40; }\n",
       ".datatable .row_index {  background: var(--jp-border-color3);  border-right: 1px solid var(--jp-border-color0);  color: var(--jp-ui-font-color3);  font-size: 9px;}\n",
       ".datatable .frame tbody td { text-align: left; }\n",
       ".datatable .frame tr.coltypes .row_index {  background: var(--jp-border-color0);}\n",
       ".datatable th:nth-child(2) { padding-left: 12px; }\n",
       ".datatable .hellipsis {  color: var(--jp-cell-editor-border-color);}\n",
       ".datatable .vellipsis {  background: var(--jp-layout-color0);  color: var(--jp-cell-editor-border-color);}\n",
       ".datatable .na {  color: var(--jp-cell-editor-border-color);  font-size: 80%;}\n",
       ".datatable .sp {  opacity: 0.25;}\n",
       ".datatable .footer { font-size: 9px; }\n",
       ".datatable .frame_dimensions {  background: var(--jp-border-color3);  border-top: 1px solid var(--jp-border-color0);  color: var(--jp-ui-font-color3);  display: inline-block;  opacity: 0.6;  padding: 1px 10px 1px 5px;}\n",
       ".datatable .frame thead tr.colnames {  background-image: url('data:image/png;base64,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');  background-repeat: repeat-x;  background-size: 14px;  height: 28px;}\n",
       "</style>\n"
      ],
      "text/plain": [
       "<IPython.core.display.HTML object>"
      ]
     },
     "metadata": {},
     "output_type": "display_data"
    }
   ],
   "source": [
    "import datetime\n",
    "import json\n",
    "import pickle\n",
    "import random\n",
    "import re\n",
    "import sys\n",
    "import time\n",
    "\n",
    "import datatable as dt\n",
    "import gensim\n",
    "import gensim.downloader as gensim_api\n",
    "import lightgbm as lgb\n",
    "import matplotlib as mpl\n",
    "import matplotlib.pyplot as plt\n",
    "import nltk\n",
    "import numpy as np\n",
    "import optuna\n",
    "import pandas as pd\n",
    "import scipy.stats as ss\n",
    "import seaborn as sns\n",
    "import transformers\n",
    "\n",
    "from catboost import CatBoostClassifier\n",
    "from contextlib import contextmanager\n",
    "from lime import lime_text\n",
    "from logging import getLogger, Formatter, FileHandler, StreamHandler, INFO, DEBUG\n",
    "from matplotlib_venn import venn2\n",
    "# from optuna.integration import lightgbm as lgb\n",
    "from scipy.optimize import brute\n",
    "from sklearn import feature_extraction, model_selection, naive_bayes, pipeline, manifold, preprocessing\n",
    "from sklearn.cluster import KMeans\n",
    "from sklearn.decomposition import PCA\n",
    "from sklearn.ensemble import RandomForestClassifier, RandomForestRegressor\n",
    "from sklearn.feature_extraction import text\n",
    "from sklearn.feature_extraction.text import CountVectorizer, TfidfVectorizer\n",
    "from sklearn.feature_selection import mutual_info_classif\n",
    "from sklearn.linear_model import LogisticRegression, Ridge, SGDClassifier\n",
    "from sklearn.metrics import confusion_matrix, log_loss, roc_auc_score\n",
    "from sklearn.model_selection import  GroupKFold, StratifiedKFold, train_test_split\n",
    "from sklearn.naive_bayes import MultinomialNB\n",
    "from sklearn.neighbors import KNeighborsClassifier\n",
    "from sklearn.pipeline import Pipeline, FeatureUnion\n",
    "from sklearn.preprocessing import RobustScaler\n",
    "from sklearn.svm import SVC\n",
    "from tensorflow.keras import models, layers, preprocessing as kprocessing\n",
    "from tensorflow.keras import backend as K\n",
    "from tqdm import tqdm\n",
    "\n",
    "# settings\n",
    "pd.set_option('display.max_rows', 100)\n",
    "pd.set_option('display.max_columns', 100)\n",
    "\n",
    "# mpl.rcParams['figure.dpi'] = 200\n",
    "mpl.rcParams['axes.spines.top'] = False\n",
    "mpl.rcParams['axes.spines.right'] = False"
   ]
  },
  {
   "cell_type": "markdown",
   "id": "5eee75a4",
   "metadata": {
    "papermill": {
     "duration": 0.019356,
     "end_time": "2021-12-16T14:11:37.379889",
     "exception": false,
     "start_time": "2021-12-16T14:11:37.360533",
     "status": "completed"
    },
    "tags": []
   },
   "source": [
    "# Functions"
   ]
  },
  {
   "cell_type": "code",
   "execution_count": 4,
   "id": "f9d85ad5",
   "metadata": {
    "execution": {
     "iopub.execute_input": "2021-12-16T14:11:37.413255Z",
     "iopub.status.busy": "2021-12-16T14:11:37.412288Z",
     "iopub.status.idle": "2021-12-16T14:11:37.432045Z",
     "shell.execute_reply": "2021-12-16T14:11:37.432484Z",
     "shell.execute_reply.started": "2021-12-16T13:51:30.042390Z"
    },
    "papermill": {
     "duration": 0.038081,
     "end_time": "2021-12-16T14:11:37.432655",
     "exception": false,
     "start_time": "2021-12-16T14:11:37.394574",
     "status": "completed"
    },
    "tags": []
   },
   "outputs": [],
   "source": [
    "def reduce_mem_usage(df, verbose=True):\n",
    "    numerics = [\"int8\", \"int16\", \"int32\", \"int64\", \"float16\", \"float32\", \"float64\"]\n",
    "    start_mem = df.memory_usage().sum() / 1024 ** 2\n",
    "    for col in df.columns:\n",
    "        col_type = df[col].dtypes\n",
    "        if col_type in numerics:\n",
    "            c_min = df[col].min()\n",
    "            c_max = df[col].max()\n",
    "            if str(col_type)[:3] == \"int\":\n",
    "                if c_min > np.iinfo(np.int8).min and c_max < np.iinfo(np.int8).max:\n",
    "                    df[col] = df[col].astype(np.int8)\n",
    "                elif c_min > np.iinfo(np.int16).min and c_max < np.iinfo(np.int16).max:\n",
    "                    df[col] = df[col].astype(np.int16)\n",
    "                elif c_min > np.iinfo(np.int32).min and c_max < np.iinfo(np.int32).max:\n",
    "                    df[col] = df[col].astype(np.int32)\n",
    "                elif c_min > np.iinfo(np.int64).min and c_max < np.iinfo(np.int64).max:\n",
    "                    df[col] = df[col].astype(np.int64)\n",
    "            else:\n",
    "                if (\n",
    "                    c_min > np.finfo(np.float16).min\n",
    "                    and c_max < np.finfo(np.float16).max\n",
    "                ):\n",
    "                    df[col] = df[col].astype(np.float16)\n",
    "                elif (\n",
    "                    c_min > np.finfo(np.float32).min\n",
    "                    and c_max < np.finfo(np.float32).max\n",
    "                ):\n",
    "                    df[col] = df[col].astype(np.float32)\n",
    "                else:\n",
    "                    df[col] = df[col].astype(np.float64)\n",
    "    end_mem = df.memory_usage().sum() / 1024 ** 2\n",
    "    if verbose:\n",
    "        print(\n",
    "            \"Mem. usage decreased to {:.2f} Mb ({:.1f}% reduction)\".format(\n",
    "                end_mem, 100 * (start_mem - end_mem) / start_mem\n",
    "            )\n",
    "        )\n",
    "    return df\n",
    "\n",
    "\n",
    "def show_mem_usage():\n",
    "    print(\"{}{: >25}{}{: >10}{}\".format('|','Variable Name','|','Memory','|'))\n",
    "    print(\" ------------------------------------ \")\n",
    "    for var_name in globals():\n",
    "        if not var_name.startswith(\"_\") and sys.getsizeof(eval(var_name)) > 1024**2:\n",
    "            print(\"{}{: >25}{}{: >6} MiB{}\".format('|',var_name,'|', int(sys.getsizeof(eval(var_name))/1024**2),'|'))\n",
    "\n",
    "\n",
    "def read_data():\n",
    "    valid = dt.fread(VALIDATION_DATA_PATH).to_pandas()\n",
    "    test = dt.fread(COMMENTS_SCORE_PATH).to_pandas()\n",
    "    submission = dt.fread(SUBMISSION_PATH).to_pandas()\n",
    "    toxic3 = dt.fread(TOXIC3_TRAIN_PATH).to_pandas()\n",
    "    ruddit = dt.fread(RUDDIT_PATH).to_pandas()\n",
    "    \n",
    "    return valid, test, submission, toxic3, ruddit\n",
    "\n",
    "\n",
    "def utils_preprocess_text(text, flg_stemm=False, flg_lemm=True, lst_stopwords=None):\n",
    "    # clean (convert to lowercase and remove punctuations and characters and then strip)\n",
    "    text = re.sub(r'[^\\w\\s]', '', str(text).lower().strip())\n",
    "    \n",
    "    # remove numbers\n",
    "    text = re.sub(r'[\\d]', '', text)\n",
    "            \n",
    "    # Tokenize (convert from string to list)\n",
    "    lst_text = text.split()\n",
    "    # remove Stopwords\n",
    "    if lst_stopwords is not None:\n",
    "        lst_text = [word for word in lst_text if word not in lst_stopwords]\n",
    "                \n",
    "    # Stemming (remove -ing, -ly, ...)\n",
    "    if flg_stemm == True:\n",
    "        ps = nltk.stem.porter.PorterStemmer()\n",
    "        lst_text = [ps.stem(word) for word in lst_text]\n",
    "                \n",
    "    # Lemmatisation (convert the word into root word)\n",
    "    if flg_lemm == True:\n",
    "        lem = nltk.stem.wordnet.WordNetLemmatizer()\n",
    "        lst_text = [lem.lemmatize(word) for word in lst_text]\n",
    "            \n",
    "    # back to string from list\n",
    "    text = ' '.join(lst_text)\n",
    "    return text"
   ]
  },
  {
   "cell_type": "markdown",
   "id": "796e3245",
   "metadata": {
    "papermill": {
     "duration": 0.016702,
     "end_time": "2021-12-16T14:11:37.464056",
     "exception": false,
     "start_time": "2021-12-16T14:11:37.447354",
     "status": "completed"
    },
    "tags": []
   },
   "source": [
    "# Preparing"
   ]
  },
  {
   "cell_type": "code",
   "execution_count": 5,
   "id": "c40c287c",
   "metadata": {
    "execution": {
     "iopub.execute_input": "2021-12-16T14:11:37.509491Z",
     "iopub.status.busy": "2021-12-16T14:11:37.508840Z",
     "iopub.status.idle": "2021-12-16T14:11:39.425005Z",
     "shell.execute_reply": "2021-12-16T14:11:39.425391Z",
     "shell.execute_reply.started": "2021-12-16T13:51:30.073169Z"
    },
    "papermill": {
     "duration": 1.937126,
     "end_time": "2021-12-16T14:11:39.425583",
     "exception": false,
     "start_time": "2021-12-16T14:11:37.488457",
     "status": "completed"
    },
    "tags": []
   },
   "outputs": [
    {
     "name": "stdout",
     "output_type": "stream",
     "text": [
      "valid shape: (30108, 3)\n",
      "test shape: (7537, 2)\n",
      "submission shape: (7537, 2)\n",
      "toxic3 shape: (223549, 8)\n",
      "ruddit shape: (5838, 5)\n"
     ]
    },
    {
     "data": {
      "text/html": [
       "<div>\n",
       "<style scoped>\n",
       "    .dataframe tbody tr th:only-of-type {\n",
       "        vertical-align: middle;\n",
       "    }\n",
       "\n",
       "    .dataframe tbody tr th {\n",
       "        vertical-align: top;\n",
       "    }\n",
       "\n",
       "    .dataframe thead th {\n",
       "        text-align: right;\n",
       "    }\n",
       "</style>\n",
       "<table border=\"1\" class=\"dataframe\">\n",
       "  <thead>\n",
       "    <tr style=\"text-align: right;\">\n",
       "      <th></th>\n",
       "      <th>worker</th>\n",
       "      <th>less_toxic</th>\n",
       "      <th>more_toxic</th>\n",
       "    </tr>\n",
       "  </thead>\n",
       "  <tbody>\n",
       "    <tr>\n",
       "      <th>0</th>\n",
       "      <td>313</td>\n",
       "      <td>This article sucks \\n\\nwoo woo wooooooo</td>\n",
       "      <td>WHAT!!!!!!!!?!?!!?!?!!?!?!?!?!!!!!!!!!!!!!!!!!...</td>\n",
       "    </tr>\n",
       "    <tr>\n",
       "      <th>1</th>\n",
       "      <td>188</td>\n",
       "      <td>\"And yes, people should recognize that but the...</td>\n",
       "      <td>Daphne Guinness \\n\\nTop of the mornin' my fav...</td>\n",
       "    </tr>\n",
       "    <tr>\n",
       "      <th>2</th>\n",
       "      <td>82</td>\n",
       "      <td>Western Media?\\n\\nYup, because every crime in...</td>\n",
       "      <td>\"Atom you don't believe actual photos of mastu...</td>\n",
       "    </tr>\n",
       "    <tr>\n",
       "      <th>3</th>\n",
       "      <td>347</td>\n",
       "      <td>And you removed it! You numbskull! I don't car...</td>\n",
       "      <td>You seem to have sand in your vagina.\\n\\nMight...</td>\n",
       "    </tr>\n",
       "    <tr>\n",
       "      <th>4</th>\n",
       "      <td>539</td>\n",
       "      <td>smelly vagina \\n\\nBluerasberry why don't you ...</td>\n",
       "      <td>hey \\n\\nway to support nazis, you racist</td>\n",
       "    </tr>\n",
       "  </tbody>\n",
       "</table>\n",
       "</div>"
      ],
      "text/plain": [
       "   worker                                         less_toxic  \\\n",
       "0     313            This article sucks \\n\\nwoo woo wooooooo   \n",
       "1     188  \"And yes, people should recognize that but the...   \n",
       "2      82   Western Media?\\n\\nYup, because every crime in...   \n",
       "3     347  And you removed it! You numbskull! I don't car...   \n",
       "4     539   smelly vagina \\n\\nBluerasberry why don't you ...   \n",
       "\n",
       "                                          more_toxic  \n",
       "0  WHAT!!!!!!!!?!?!!?!?!!?!?!?!?!!!!!!!!!!!!!!!!!...  \n",
       "1   Daphne Guinness \\n\\nTop of the mornin' my fav...  \n",
       "2  \"Atom you don't believe actual photos of mastu...  \n",
       "3  You seem to have sand in your vagina.\\n\\nMight...  \n",
       "4           hey \\n\\nway to support nazis, you racist  "
      ]
     },
     "metadata": {},
     "output_type": "display_data"
    },
    {
     "data": {
      "text/html": [
       "<div>\n",
       "<style scoped>\n",
       "    .dataframe tbody tr th:only-of-type {\n",
       "        vertical-align: middle;\n",
       "    }\n",
       "\n",
       "    .dataframe tbody tr th {\n",
       "        vertical-align: top;\n",
       "    }\n",
       "\n",
       "    .dataframe thead th {\n",
       "        text-align: right;\n",
       "    }\n",
       "</style>\n",
       "<table border=\"1\" class=\"dataframe\">\n",
       "  <thead>\n",
       "    <tr style=\"text-align: right;\">\n",
       "      <th></th>\n",
       "      <th>comment_id</th>\n",
       "      <th>text</th>\n",
       "    </tr>\n",
       "  </thead>\n",
       "  <tbody>\n",
       "    <tr>\n",
       "      <th>0</th>\n",
       "      <td>114890</td>\n",
       "      <td>\"\\n \\n\\nGjalexei, you asked about whether ther...</td>\n",
       "    </tr>\n",
       "    <tr>\n",
       "      <th>1</th>\n",
       "      <td>732895</td>\n",
       "      <td>Looks like be have an abuser , can you please ...</td>\n",
       "    </tr>\n",
       "    <tr>\n",
       "      <th>2</th>\n",
       "      <td>1139051</td>\n",
       "      <td>I confess to having complete (and apparently b...</td>\n",
       "    </tr>\n",
       "    <tr>\n",
       "      <th>3</th>\n",
       "      <td>1434512</td>\n",
       "      <td>\"\\n\\nFreud's ideas are certainly much discusse...</td>\n",
       "    </tr>\n",
       "    <tr>\n",
       "      <th>4</th>\n",
       "      <td>2084821</td>\n",
       "      <td>It is not just you. This is a laundry list of ...</td>\n",
       "    </tr>\n",
       "  </tbody>\n",
       "</table>\n",
       "</div>"
      ],
      "text/plain": [
       "   comment_id                                               text\n",
       "0      114890  \"\\n \\n\\nGjalexei, you asked about whether ther...\n",
       "1      732895  Looks like be have an abuser , can you please ...\n",
       "2     1139051  I confess to having complete (and apparently b...\n",
       "3     1434512  \"\\n\\nFreud's ideas are certainly much discusse...\n",
       "4     2084821  It is not just you. This is a laundry list of ..."
      ]
     },
     "metadata": {},
     "output_type": "display_data"
    },
    {
     "data": {
      "text/html": [
       "<div>\n",
       "<style scoped>\n",
       "    .dataframe tbody tr th:only-of-type {\n",
       "        vertical-align: middle;\n",
       "    }\n",
       "\n",
       "    .dataframe tbody tr th {\n",
       "        vertical-align: top;\n",
       "    }\n",
       "\n",
       "    .dataframe thead th {\n",
       "        text-align: right;\n",
       "    }\n",
       "</style>\n",
       "<table border=\"1\" class=\"dataframe\">\n",
       "  <thead>\n",
       "    <tr style=\"text-align: right;\">\n",
       "      <th></th>\n",
       "      <th>comment_id</th>\n",
       "      <th>score</th>\n",
       "    </tr>\n",
       "  </thead>\n",
       "  <tbody>\n",
       "    <tr>\n",
       "      <th>0</th>\n",
       "      <td>114890</td>\n",
       "      <td>0.5</td>\n",
       "    </tr>\n",
       "    <tr>\n",
       "      <th>1</th>\n",
       "      <td>732895</td>\n",
       "      <td>0.5</td>\n",
       "    </tr>\n",
       "    <tr>\n",
       "      <th>2</th>\n",
       "      <td>1139051</td>\n",
       "      <td>0.5</td>\n",
       "    </tr>\n",
       "    <tr>\n",
       "      <th>3</th>\n",
       "      <td>1434512</td>\n",
       "      <td>0.5</td>\n",
       "    </tr>\n",
       "    <tr>\n",
       "      <th>4</th>\n",
       "      <td>2084821</td>\n",
       "      <td>0.5</td>\n",
       "    </tr>\n",
       "  </tbody>\n",
       "</table>\n",
       "</div>"
      ],
      "text/plain": [
       "   comment_id  score\n",
       "0      114890    0.5\n",
       "1      732895    0.5\n",
       "2     1139051    0.5\n",
       "3     1434512    0.5\n",
       "4     2084821    0.5"
      ]
     },
     "metadata": {},
     "output_type": "display_data"
    },
    {
     "data": {
      "text/html": [
       "<div>\n",
       "<style scoped>\n",
       "    .dataframe tbody tr th:only-of-type {\n",
       "        vertical-align: middle;\n",
       "    }\n",
       "\n",
       "    .dataframe tbody tr th {\n",
       "        vertical-align: top;\n",
       "    }\n",
       "\n",
       "    .dataframe thead th {\n",
       "        text-align: right;\n",
       "    }\n",
       "</style>\n",
       "<table border=\"1\" class=\"dataframe\">\n",
       "  <thead>\n",
       "    <tr style=\"text-align: right;\">\n",
       "      <th></th>\n",
       "      <th>id</th>\n",
       "      <th>comment_text</th>\n",
       "      <th>toxic</th>\n",
       "      <th>severe_toxic</th>\n",
       "      <th>obscene</th>\n",
       "      <th>threat</th>\n",
       "      <th>insult</th>\n",
       "      <th>identity_hate</th>\n",
       "    </tr>\n",
       "  </thead>\n",
       "  <tbody>\n",
       "    <tr>\n",
       "      <th>0</th>\n",
       "      <td>0000997932d777bf</td>\n",
       "      <td>Explanation\\nWhy the edits made under my usern...</td>\n",
       "      <td>False</td>\n",
       "      <td>False</td>\n",
       "      <td>False</td>\n",
       "      <td>False</td>\n",
       "      <td>False</td>\n",
       "      <td>False</td>\n",
       "    </tr>\n",
       "    <tr>\n",
       "      <th>1</th>\n",
       "      <td>000103f0d9cfb60f</td>\n",
       "      <td>D'aww! He matches this background colour I'm s...</td>\n",
       "      <td>False</td>\n",
       "      <td>False</td>\n",
       "      <td>False</td>\n",
       "      <td>False</td>\n",
       "      <td>False</td>\n",
       "      <td>False</td>\n",
       "    </tr>\n",
       "    <tr>\n",
       "      <th>2</th>\n",
       "      <td>000113f07ec002fd</td>\n",
       "      <td>Hey man, I'm really not trying to edit war. It...</td>\n",
       "      <td>False</td>\n",
       "      <td>False</td>\n",
       "      <td>False</td>\n",
       "      <td>False</td>\n",
       "      <td>False</td>\n",
       "      <td>False</td>\n",
       "    </tr>\n",
       "    <tr>\n",
       "      <th>3</th>\n",
       "      <td>0001b41b1c6bb37e</td>\n",
       "      <td>\"\\nMore\\nI can't make any real suggestions on ...</td>\n",
       "      <td>False</td>\n",
       "      <td>False</td>\n",
       "      <td>False</td>\n",
       "      <td>False</td>\n",
       "      <td>False</td>\n",
       "      <td>False</td>\n",
       "    </tr>\n",
       "    <tr>\n",
       "      <th>4</th>\n",
       "      <td>0001d958c54c6e35</td>\n",
       "      <td>You, sir, are my hero. Any chance you remember...</td>\n",
       "      <td>False</td>\n",
       "      <td>False</td>\n",
       "      <td>False</td>\n",
       "      <td>False</td>\n",
       "      <td>False</td>\n",
       "      <td>False</td>\n",
       "    </tr>\n",
       "  </tbody>\n",
       "</table>\n",
       "</div>"
      ],
      "text/plain": [
       "                 id                                       comment_text  toxic  \\\n",
       "0  0000997932d777bf  Explanation\\nWhy the edits made under my usern...  False   \n",
       "1  000103f0d9cfb60f  D'aww! He matches this background colour I'm s...  False   \n",
       "2  000113f07ec002fd  Hey man, I'm really not trying to edit war. It...  False   \n",
       "3  0001b41b1c6bb37e  \"\\nMore\\nI can't make any real suggestions on ...  False   \n",
       "4  0001d958c54c6e35  You, sir, are my hero. Any chance you remember...  False   \n",
       "\n",
       "   severe_toxic  obscene  threat  insult  identity_hate  \n",
       "0         False    False   False   False          False  \n",
       "1         False    False   False   False          False  \n",
       "2         False    False   False   False          False  \n",
       "3         False    False   False   False          False  \n",
       "4         False    False   False   False          False  "
      ]
     },
     "metadata": {},
     "output_type": "display_data"
    },
    {
     "data": {
      "text/html": [
       "<div>\n",
       "<style scoped>\n",
       "    .dataframe tbody tr th:only-of-type {\n",
       "        vertical-align: middle;\n",
       "    }\n",
       "\n",
       "    .dataframe tbody tr th {\n",
       "        vertical-align: top;\n",
       "    }\n",
       "\n",
       "    .dataframe thead th {\n",
       "        text-align: right;\n",
       "    }\n",
       "</style>\n",
       "<table border=\"1\" class=\"dataframe\">\n",
       "  <thead>\n",
       "    <tr style=\"text-align: right;\">\n",
       "      <th></th>\n",
       "      <th>post_id</th>\n",
       "      <th>comment_id</th>\n",
       "      <th>txt</th>\n",
       "      <th>url</th>\n",
       "      <th>offensiveness_score</th>\n",
       "    </tr>\n",
       "  </thead>\n",
       "  <tbody>\n",
       "    <tr>\n",
       "      <th>0</th>\n",
       "      <td>42g75o</td>\n",
       "      <td>cza1q49</td>\n",
       "      <td>&gt; The difference in average earnings between m...</td>\n",
       "      <td>https://www.reddit.com/r/changemyview/comments...</td>\n",
       "      <td>-0.083</td>\n",
       "    </tr>\n",
       "    <tr>\n",
       "      <th>1</th>\n",
       "      <td>42g75o</td>\n",
       "      <td>cza1wdh</td>\n",
       "      <td>The myth is that the \"gap\" is entirely based o...</td>\n",
       "      <td>https://www.reddit.com/r/changemyview/comments...</td>\n",
       "      <td>-0.022</td>\n",
       "    </tr>\n",
       "    <tr>\n",
       "      <th>2</th>\n",
       "      <td>42g75o</td>\n",
       "      <td>cza23qx</td>\n",
       "      <td>[deleted]</td>\n",
       "      <td>https://www.reddit.com/r/changemyview/comments...</td>\n",
       "      <td>0.167</td>\n",
       "    </tr>\n",
       "    <tr>\n",
       "      <th>3</th>\n",
       "      <td>42g75o</td>\n",
       "      <td>cza2bw8</td>\n",
       "      <td>The assertion is that women get paid less for ...</td>\n",
       "      <td>https://www.reddit.com/r/changemyview/comments...</td>\n",
       "      <td>-0.146</td>\n",
       "    </tr>\n",
       "    <tr>\n",
       "      <th>4</th>\n",
       "      <td>42g75o</td>\n",
       "      <td>cza2iji</td>\n",
       "      <td>You said in the OP that's not what they're mea...</td>\n",
       "      <td>https://www.reddit.com/r/changemyview/comments...</td>\n",
       "      <td>-0.083</td>\n",
       "    </tr>\n",
       "  </tbody>\n",
       "</table>\n",
       "</div>"
      ],
      "text/plain": [
       "  post_id comment_id                                                txt  \\\n",
       "0  42g75o    cza1q49  > The difference in average earnings between m...   \n",
       "1  42g75o    cza1wdh  The myth is that the \"gap\" is entirely based o...   \n",
       "2  42g75o    cza23qx                                          [deleted]   \n",
       "3  42g75o    cza2bw8  The assertion is that women get paid less for ...   \n",
       "4  42g75o    cza2iji  You said in the OP that's not what they're mea...   \n",
       "\n",
       "                                                 url  offensiveness_score  \n",
       "0  https://www.reddit.com/r/changemyview/comments...               -0.083  \n",
       "1  https://www.reddit.com/r/changemyview/comments...               -0.022  \n",
       "2  https://www.reddit.com/r/changemyview/comments...                0.167  \n",
       "3  https://www.reddit.com/r/changemyview/comments...               -0.146  \n",
       "4  https://www.reddit.com/r/changemyview/comments...               -0.083  "
      ]
     },
     "metadata": {},
     "output_type": "display_data"
    }
   ],
   "source": [
    "valid, test, submission, toxic3, ruddit = read_data()\n",
    "\n",
    "if DEBUG_FLAG:\n",
    "    valid = valid.sample(n=1000).reset_index(drop=True)\n",
    "    toxic3 = toxic3.sample(n=1000).reset_index(drop=True)\n",
    "    ruddit = ruddit.sample(n=1000).reset_index(drop=True)\n",
    "\n",
    "print(f'valid shape: {valid.shape}')\n",
    "print(f'test shape: {test.shape}')\n",
    "print(f'submission shape: {submission.shape}')\n",
    "print(f'toxic3 shape: {toxic3.shape}')\n",
    "print(f'ruddit shape: {ruddit.shape}')\n",
    "\n",
    "display(valid.head())\n",
    "display(test.head())\n",
    "display(submission.head())\n",
    "display(toxic3.head())\n",
    "display(ruddit.head())"
   ]
  },
  {
   "cell_type": "markdown",
   "id": "063caabc",
   "metadata": {
    "papermill": {
     "duration": 0.017219,
     "end_time": "2021-12-16T14:11:39.460048",
     "exception": false,
     "start_time": "2021-12-16T14:11:39.442829",
     "status": "completed"
    },
    "tags": []
   },
   "source": [
    "# Cleaning"
   ]
  },
  {
   "cell_type": "code",
   "execution_count": 6,
   "id": "97db08d3",
   "metadata": {
    "execution": {
     "iopub.execute_input": "2021-12-16T14:11:39.498298Z",
     "iopub.status.busy": "2021-12-16T14:11:39.497733Z",
     "iopub.status.idle": "2021-12-16T14:11:39.504509Z",
     "shell.execute_reply": "2021-12-16T14:11:39.504064Z",
     "shell.execute_reply.started": "2021-12-16T13:51:31.996986Z"
    },
    "papermill": {
     "duration": 0.027409,
     "end_time": "2021-12-16T14:11:39.504652",
     "exception": false,
     "start_time": "2021-12-16T14:11:39.477243",
     "status": "completed"
    },
    "tags": []
   },
   "outputs": [
    {
     "name": "stdout",
     "output_type": "stream",
     "text": [
      "least co we hundred another are yours twenty </ul> due her ltd almost them fifteen interest others at before might here latter himself hers well is do whereby be over an </dd> often system becomes off on become whose already anything sincere not elsewhere whole except etc fifty thence whereafter wherever thin via found sometime everyone bill otherwise someone back it whither each anyway \n",
      " amount whatever seems anyhow two that itself again among never formerly can first nor few un around myself something full four about the which five after seemed he de yet get very move between my next beside into <tr> name beforehand third such also under what him namely please did nowhere would neither give part ie afterwards why up below hereupon cant of eight <p> <li> must whom sixty you everything whoever they towards too whether yourself cannot twelve will became else with couldnt along me top though made only thus anywhere further sometimes while bottom rather since throughout </dl> have fire meanwhile has out and hence <ol> ourselves front amongst detail its noone nevertheless wherein enough less hasnt whenever somehow former six if becoming however than take in above now nothing perhaps then <dt> hereby every besides any last toward nobody ten thereafter within because once all alone thick may had mostly </li> without therefore eg although whereas mine whereupon many during go cry three through everywhere no ours our herein should <dd> was down latterly across there i where moreover herself your as either from been both even call forty eleven could </table> beyond somewhere were <table> yourselves am us empty thereby side for against show <dl> own therein upon /n their much a mill themselves whence does </p> </dt> seeming those some most inc by keep same hereafter serious anyone none how until onto <ul> done find being con more nine when still to </ol> other per see or </tr> amoungst thru describe put behind fill this several so indeed she thereupon these his ever always seem who one together but re\n"
     ]
    }
   ],
   "source": [
    "# ストップワード\n",
    "stop_words = list(text.ENGLISH_STOP_WORDS)\n",
    "html_tags = [\n",
    "    '<p>', '</p>', '<table>', '</table>', '<tr>', '</tr>', '<ul>', '</ul>', '<ol>', '</ol>', '<dl>', '</dl>', \n",
    "    '<li>', '</li>', '<dd>', '</dd>', '<dt>', '</dt>', '/n', '\\n'\n",
    "]\n",
    "r_buf = [\n",
    "    'it', 'is', 'are', 'do', 'does', 'did', 'was', 'were', 'will', 'can', 'the', 'a', 'of', 'in', 'and', 'on',\n",
    "    'what', 'where', 'when', 'which'\n",
    "]\n",
    "stop_words = list(set(stop_words + html_tags + r_buf))\n",
    "print(' '.join(stop_words))"
   ]
  },
  {
   "cell_type": "code",
   "execution_count": 7,
   "id": "d1236fb9",
   "metadata": {
    "execution": {
     "iopub.execute_input": "2021-12-16T14:11:39.544691Z",
     "iopub.status.busy": "2021-12-16T14:11:39.543779Z",
     "iopub.status.idle": "2021-12-16T14:13:17.939467Z",
     "shell.execute_reply": "2021-12-16T14:13:17.939937Z",
     "shell.execute_reply.started": "2021-12-16T13:51:32.005446Z"
    },
    "papermill": {
     "duration": 98.417092,
     "end_time": "2021-12-16T14:13:17.940109",
     "exception": false,
     "start_time": "2021-12-16T14:11:39.523017",
     "status": "completed"
    },
    "tags": []
   },
   "outputs": [
    {
     "data": {
      "text/html": [
       "<div>\n",
       "<style scoped>\n",
       "    .dataframe tbody tr th:only-of-type {\n",
       "        vertical-align: middle;\n",
       "    }\n",
       "\n",
       "    .dataframe tbody tr th {\n",
       "        vertical-align: top;\n",
       "    }\n",
       "\n",
       "    .dataframe thead th {\n",
       "        text-align: right;\n",
       "    }\n",
       "</style>\n",
       "<table border=\"1\" class=\"dataframe\">\n",
       "  <thead>\n",
       "    <tr style=\"text-align: right;\">\n",
       "      <th></th>\n",
       "      <th>id</th>\n",
       "      <th>text</th>\n",
       "      <th>toxic</th>\n",
       "      <th>severe_toxic</th>\n",
       "      <th>obscene</th>\n",
       "      <th>threat</th>\n",
       "      <th>insult</th>\n",
       "      <th>identity_hate</th>\n",
       "      <th>text_clean</th>\n",
       "      <th>y</th>\n",
       "    </tr>\n",
       "  </thead>\n",
       "  <tbody>\n",
       "    <tr>\n",
       "      <th>0</th>\n",
       "      <td>0000997932d777bf</td>\n",
       "      <td>Explanation\\nWhy the edits made under my usern...</td>\n",
       "      <td>False</td>\n",
       "      <td>False</td>\n",
       "      <td>False</td>\n",
       "      <td>False</td>\n",
       "      <td>False</td>\n",
       "      <td>False</td>\n",
       "      <td>explanation edits username hardcore metallica ...</td>\n",
       "      <td>0.0</td>\n",
       "    </tr>\n",
       "    <tr>\n",
       "      <th>1</th>\n",
       "      <td>000103f0d9cfb60f</td>\n",
       "      <td>D'aww! He matches this background colour I'm s...</td>\n",
       "      <td>False</td>\n",
       "      <td>False</td>\n",
       "      <td>False</td>\n",
       "      <td>False</td>\n",
       "      <td>False</td>\n",
       "      <td>False</td>\n",
       "      <td>daww match background colour im seemingly stuc...</td>\n",
       "      <td>0.0</td>\n",
       "    </tr>\n",
       "    <tr>\n",
       "      <th>2</th>\n",
       "      <td>000113f07ec002fd</td>\n",
       "      <td>Hey man, I'm really not trying to edit war. It...</td>\n",
       "      <td>False</td>\n",
       "      <td>False</td>\n",
       "      <td>False</td>\n",
       "      <td>False</td>\n",
       "      <td>False</td>\n",
       "      <td>False</td>\n",
       "      <td>hey man im really trying edit war just guy con...</td>\n",
       "      <td>0.0</td>\n",
       "    </tr>\n",
       "  </tbody>\n",
       "</table>\n",
       "</div>"
      ],
      "text/plain": [
       "                 id                                               text  toxic  \\\n",
       "0  0000997932d777bf  Explanation\\nWhy the edits made under my usern...  False   \n",
       "1  000103f0d9cfb60f  D'aww! He matches this background colour I'm s...  False   \n",
       "2  000113f07ec002fd  Hey man, I'm really not trying to edit war. It...  False   \n",
       "\n",
       "   severe_toxic  obscene  threat  insult  identity_hate  \\\n",
       "0         False    False   False   False          False   \n",
       "1         False    False   False   False          False   \n",
       "2         False    False   False   False          False   \n",
       "\n",
       "                                          text_clean    y  \n",
       "0  explanation edits username hardcore metallica ...  0.0  \n",
       "1  daww match background colour im seemingly stuc...  0.0  \n",
       "2  hey man im really trying edit war just guy con...  0.0  "
      ]
     },
     "metadata": {},
     "output_type": "display_data"
    }
   ],
   "source": [
    "# クリーニング\n",
    "toxic3 = toxic3.rename(columns={'comment_text': 'text'})\n",
    "toxic3['text_clean'] = toxic3['text'].apply(lambda x: utils_preprocess_text(x, flg_stemm=False, flg_lemm=True, lst_stopwords=stop_words))\n",
    "valid['less_toxic_clean'] = valid['less_toxic'].apply(lambda x: utils_preprocess_text(x, flg_stemm=False, flg_lemm=True, lst_stopwords=stop_words))\n",
    "valid['more_toxic_clean'] = valid['more_toxic'].apply(lambda x: utils_preprocess_text(x, flg_stemm=False, flg_lemm=True, lst_stopwords=stop_words))\n",
    "test['text_clean'] = test['text'].apply(lambda x: utils_preprocess_text(x))\n",
    "\n",
    "# 目的変数\n",
    "toxic3['y'] = toxic3[['toxic', 'severe_toxic', 'obscene', 'threat', 'insult', 'identity_hate']].sum(axis=1).astype(int) + toxic3['severe_toxic']\n",
    "toxic3['y'] = toxic3['y'] / toxic3['y'].max()\n",
    "\n",
    "display(toxic3.head(3))"
   ]
  },
  {
   "cell_type": "markdown",
   "id": "ec61589a",
   "metadata": {
    "papermill": {
     "duration": 0.017717,
     "end_time": "2021-12-16T14:13:17.975710",
     "exception": false,
     "start_time": "2021-12-16T14:13:17.957993",
     "status": "completed"
    },
    "tags": []
   },
   "source": [
    "# Training"
   ]
  },
  {
   "cell_type": "code",
   "execution_count": 8,
   "id": "66fe9406",
   "metadata": {
    "execution": {
     "iopub.execute_input": "2021-12-16T14:13:18.030284Z",
     "iopub.status.busy": "2021-12-16T14:13:18.024777Z",
     "iopub.status.idle": "2021-12-16T19:46:07.467754Z",
     "shell.execute_reply": "2021-12-16T19:46:07.468637Z",
     "shell.execute_reply.started": "2021-12-16T13:53:49.861177Z"
    },
    "papermill": {
     "duration": 19969.474832,
     "end_time": "2021-12-16T19:46:07.469034",
     "exception": false,
     "start_time": "2021-12-16T14:13:17.994202",
     "status": "completed"
    },
    "tags": []
   },
   "outputs": [
    {
     "name": "stdout",
     "output_type": "stream",
     "text": [
      "Total number of features: 326430\n",
      "CPU times: user 21h 43min 2s, sys: 41.2 s, total: 21h 43min 43s\n",
      "Wall time: 5h 32min 49s\n"
     ]
    }
   ],
   "source": [
    "%%time\n",
    "\n",
    "# 学習パイプライン\n",
    "features = FeatureUnion([\n",
    "    ('vect3', \n",
    "     TfidfVectorizer(\n",
    "         min_df=3, \n",
    "         max_df=0.5, \n",
    "         analyzer='char_wb',\n",
    "         ngram_range=(3,5)))\n",
    "])\n",
    "\n",
    "pipe = Pipeline([\n",
    "    ('features', features),\n",
    "    # ('Ridge', Ridge())\n",
    "    ('RandomForestRegressor', RandomForestRegressor(n_estimators=100, max_depth=32, n_jobs=-1))\n",
    "])\n",
    "\n",
    "pipe.fit(toxic3['text_clean'], toxic3['y'])\n",
    "print('Total number of features:', len(pipe['features'].get_feature_names()))"
   ]
  },
  {
   "cell_type": "code",
   "execution_count": 9,
   "id": "a36e5003",
   "metadata": {
    "execution": {
     "iopub.execute_input": "2021-12-16T19:46:07.520674Z",
     "iopub.status.busy": "2021-12-16T19:46:07.513468Z",
     "iopub.status.idle": "2021-12-16T19:46:08.905645Z",
     "shell.execute_reply": "2021-12-16T19:46:08.906114Z",
     "shell.execute_reply.started": "2021-12-16T14:10:20.080105Z"
    },
    "papermill": {
     "duration": 1.417188,
     "end_time": "2021-12-16T19:46:08.906271",
     "exception": false,
     "start_time": "2021-12-16T19:46:07.489083",
     "status": "completed"
    },
    "tags": []
   },
   "outputs": [
    {
     "data": {
      "text/html": [
       "<div>\n",
       "<style scoped>\n",
       "    .dataframe tbody tr th:only-of-type {\n",
       "        vertical-align: middle;\n",
       "    }\n",
       "\n",
       "    .dataframe tbody tr th {\n",
       "        vertical-align: top;\n",
       "    }\n",
       "\n",
       "    .dataframe thead th {\n",
       "        text-align: right;\n",
       "    }\n",
       "</style>\n",
       "<table border=\"1\" class=\"dataframe\">\n",
       "  <thead>\n",
       "    <tr style=\"text-align: right;\">\n",
       "      <th></th>\n",
       "      <th>val</th>\n",
       "    </tr>\n",
       "    <tr>\n",
       "      <th>feature</th>\n",
       "      <th></th>\n",
       "    </tr>\n",
       "  </thead>\n",
       "  <tbody>\n",
       "    <tr>\n",
       "      <th>vect3__fuck</th>\n",
       "      <td>0.4060</td>\n",
       "    </tr>\n",
       "    <tr>\n",
       "      <th>vect3__suck</th>\n",
       "      <td>0.0450</td>\n",
       "    </tr>\n",
       "    <tr>\n",
       "      <th>vect3__shit</th>\n",
       "      <td>0.0332</td>\n",
       "    </tr>\n",
       "    <tr>\n",
       "      <th>vect3__ fag</th>\n",
       "      <td>0.0328</td>\n",
       "    </tr>\n",
       "    <tr>\n",
       "      <th>vect3__bitch</th>\n",
       "      <td>0.0265</td>\n",
       "    </tr>\n",
       "    <tr>\n",
       "      <th>vect3__ as</th>\n",
       "      <td>0.0167</td>\n",
       "    </tr>\n",
       "    <tr>\n",
       "      <th>vect3__nigg</th>\n",
       "      <td>0.0139</td>\n",
       "    </tr>\n",
       "    <tr>\n",
       "      <th>vect3__uck</th>\n",
       "      <td>0.0131</td>\n",
       "    </tr>\n",
       "    <tr>\n",
       "      <th>vect3__ assh</th>\n",
       "      <td>0.0117</td>\n",
       "    </tr>\n",
       "    <tr>\n",
       "      <th>vect3__idiot</th>\n",
       "      <td>0.0106</td>\n",
       "    </tr>\n",
       "    <tr>\n",
       "      <th>vect3__diot</th>\n",
       "      <td>0.0098</td>\n",
       "    </tr>\n",
       "    <tr>\n",
       "      <th>vect3__ gay</th>\n",
       "      <td>0.0095</td>\n",
       "    </tr>\n",
       "    <tr>\n",
       "      <th>vect3__ dick</th>\n",
       "      <td>0.0088</td>\n",
       "    </tr>\n",
       "    <tr>\n",
       "      <th>vect3__tupid</th>\n",
       "      <td>0.0066</td>\n",
       "    </tr>\n",
       "    <tr>\n",
       "      <th>vect3__ cunt</th>\n",
       "      <td>0.0052</td>\n",
       "    </tr>\n",
       "    <tr>\n",
       "      <th>vect3__tard</th>\n",
       "      <td>0.0049</td>\n",
       "    </tr>\n",
       "    <tr>\n",
       "      <th>vect3__fag</th>\n",
       "      <td>0.0041</td>\n",
       "    </tr>\n",
       "    <tr>\n",
       "      <th>vect3__tard</th>\n",
       "      <td>0.0040</td>\n",
       "    </tr>\n",
       "    <tr>\n",
       "      <th>vect3__ nigg</th>\n",
       "      <td>0.0035</td>\n",
       "    </tr>\n",
       "    <tr>\n",
       "      <th>vect3__hole</th>\n",
       "      <td>0.0034</td>\n",
       "    </tr>\n",
       "  </tbody>\n",
       "</table>\n",
       "</div>"
      ],
      "text/plain": [
       "                 val\n",
       "feature             \n",
       "vect3__fuck   0.4060\n",
       "vect3__suck   0.0450\n",
       "vect3__shit   0.0332\n",
       "vect3__ fag   0.0328\n",
       "vect3__bitch  0.0265\n",
       "vect3__ as    0.0167\n",
       "vect3__nigg   0.0139\n",
       "vect3__uck    0.0131\n",
       "vect3__ assh  0.0117\n",
       "vect3__idiot  0.0106\n",
       "vect3__diot   0.0098\n",
       "vect3__ gay   0.0095\n",
       "vect3__ dick  0.0088\n",
       "vect3__tupid  0.0066\n",
       "vect3__ cunt  0.0052\n",
       "vect3__tard   0.0049\n",
       "vect3__fag    0.0041\n",
       "vect3__tard   0.0040\n",
       "vect3__ nigg  0.0035\n",
       "vect3__hole   0.0034"
      ]
     },
     "metadata": {},
     "output_type": "display_data"
    }
   ],
   "source": [
    "# 特徴量の重みでソート\n",
    "if pipe.steps[1][0] == 'Ridge':\n",
    "    feat = pipe['Ridge'].coef_\n",
    "elif pipe.steps[1][0] == 'RandomForestRegressor':\n",
    "    feat = pipe['RandomForestRegressor'].feature_importances_\n",
    "    \n",
    "feature_weights = sorted(\n",
    "    list(zip(pipe['features'].get_feature_names(), np.round(feat, 4))), \n",
    "    key=lambda x:x[1], \n",
    "    reverse=True)\n",
    "\n",
    "display(pd.DataFrame(feature_weights[:20], columns=['feature', 'val']).set_index('feature'))"
   ]
  },
  {
   "cell_type": "markdown",
   "id": "441a55ee",
   "metadata": {
    "papermill": {
     "duration": 0.01913,
     "end_time": "2021-12-16T19:46:08.945573",
     "exception": false,
     "start_time": "2021-12-16T19:46:08.926443",
     "status": "completed"
    },
    "tags": []
   },
   "source": [
    "# Prediction"
   ]
  },
  {
   "cell_type": "code",
   "execution_count": 10,
   "id": "c049e809",
   "metadata": {
    "execution": {
     "iopub.execute_input": "2021-12-16T19:46:09.028117Z",
     "iopub.status.busy": "2021-12-16T19:46:09.012384Z",
     "iopub.status.idle": "2021-12-16T19:46:43.166786Z",
     "shell.execute_reply": "2021-12-16T19:46:43.167235Z",
     "shell.execute_reply.started": "2021-12-16T14:10:33.526886Z"
    },
    "papermill": {
     "duration": 34.202698,
     "end_time": "2021-12-16T19:46:43.167438",
     "exception": false,
     "start_time": "2021-12-16T19:46:08.964740",
     "status": "completed"
    },
    "tags": []
   },
   "outputs": [],
   "source": [
    "# 推論\n",
    "valid_preds_less = pipe.predict(valid['less_toxic_clean'])\n",
    "valid_preds_more = pipe.predict(valid['more_toxic_clean'])\n",
    "test_preds = pipe.predict(test['text_clean'])"
   ]
  },
  {
   "cell_type": "markdown",
   "id": "56e98144",
   "metadata": {
    "papermill": {
     "duration": 0.018983,
     "end_time": "2021-12-16T19:46:43.206328",
     "exception": false,
     "start_time": "2021-12-16T19:46:43.187345",
     "status": "completed"
    },
    "tags": []
   },
   "source": [
    "# Validation"
   ]
  },
  {
   "cell_type": "code",
   "execution_count": 11,
   "id": "e12e84c4",
   "metadata": {
    "execution": {
     "iopub.execute_input": "2021-12-16T19:46:43.247716Z",
     "iopub.status.busy": "2021-12-16T19:46:43.247095Z",
     "iopub.status.idle": "2021-12-16T19:46:43.277122Z",
     "shell.execute_reply": "2021-12-16T19:46:43.277720Z",
     "shell.execute_reply.started": "2021-12-16T14:10:40.995939Z"
    },
    "papermill": {
     "duration": 0.052438,
     "end_time": "2021-12-16T19:46:43.277918",
     "exception": false,
     "start_time": "2021-12-16T19:46:43.225480",
     "status": "completed"
    },
    "tags": []
   },
   "outputs": [
    {
     "name": "stdout",
     "output_type": "stream",
     "text": [
      "validation accuracy is 0.6012355520127541\n"
     ]
    }
   ],
   "source": [
    "# 評価\n",
    "print(f'validation accuracy is {(valid_preds_less < valid_preds_more).mean()}')"
   ]
  },
  {
   "cell_type": "markdown",
   "id": "2396ef68",
   "metadata": {
    "papermill": {
     "duration": 0.019379,
     "end_time": "2021-12-16T19:46:43.316651",
     "exception": false,
     "start_time": "2021-12-16T19:46:43.297272",
     "status": "completed"
    },
    "tags": []
   },
   "source": [
    "# Submit"
   ]
  },
  {
   "cell_type": "code",
   "execution_count": 12,
   "id": "868b4edf",
   "metadata": {
    "execution": {
     "iopub.execute_input": "2021-12-16T19:46:43.358549Z",
     "iopub.status.busy": "2021-12-16T19:46:43.357925Z",
     "iopub.status.idle": "2021-12-16T19:46:43.368624Z",
     "shell.execute_reply": "2021-12-16T19:46:43.369185Z",
     "shell.execute_reply.started": "2021-12-16T14:10:41.002296Z"
    },
    "papermill": {
     "duration": 0.033503,
     "end_time": "2021-12-16T19:46:43.369350",
     "exception": false,
     "start_time": "2021-12-16T19:46:43.335847",
     "status": "completed"
    },
    "tags": []
   },
   "outputs": [
    {
     "data": {
      "text/html": [
       "<div>\n",
       "<style scoped>\n",
       "    .dataframe tbody tr th:only-of-type {\n",
       "        vertical-align: middle;\n",
       "    }\n",
       "\n",
       "    .dataframe tbody tr th {\n",
       "        vertical-align: top;\n",
       "    }\n",
       "\n",
       "    .dataframe thead th {\n",
       "        text-align: right;\n",
       "    }\n",
       "</style>\n",
       "<table border=\"1\" class=\"dataframe\">\n",
       "  <thead>\n",
       "    <tr style=\"text-align: right;\">\n",
       "      <th></th>\n",
       "      <th>comment_id</th>\n",
       "      <th>score</th>\n",
       "    </tr>\n",
       "  </thead>\n",
       "  <tbody>\n",
       "    <tr>\n",
       "      <th>0</th>\n",
       "      <td>114890</td>\n",
       "      <td>0.004011</td>\n",
       "    </tr>\n",
       "    <tr>\n",
       "      <th>1</th>\n",
       "      <td>732895</td>\n",
       "      <td>0.009816</td>\n",
       "    </tr>\n",
       "    <tr>\n",
       "      <th>2</th>\n",
       "      <td>1139051</td>\n",
       "      <td>0.004011</td>\n",
       "    </tr>\n",
       "    <tr>\n",
       "      <th>3</th>\n",
       "      <td>1434512</td>\n",
       "      <td>0.006410</td>\n",
       "    </tr>\n",
       "    <tr>\n",
       "      <th>4</th>\n",
       "      <td>2084821</td>\n",
       "      <td>0.064230</td>\n",
       "    </tr>\n",
       "  </tbody>\n",
       "</table>\n",
       "</div>"
      ],
      "text/plain": [
       "   comment_id     score\n",
       "0      114890  0.004011\n",
       "1      732895  0.009816\n",
       "2     1139051  0.004011\n",
       "3     1434512  0.006410\n",
       "4     2084821  0.064230"
      ]
     },
     "execution_count": 12,
     "metadata": {},
     "output_type": "execute_result"
    }
   ],
   "source": [
    "submission['score'] = test_preds\n",
    "submission.head()"
   ]
  },
  {
   "cell_type": "code",
   "execution_count": 13,
   "id": "eb8c7652",
   "metadata": {
    "execution": {
     "iopub.execute_input": "2021-12-16T19:46:43.414129Z",
     "iopub.status.busy": "2021-12-16T19:46:43.413465Z",
     "iopub.status.idle": "2021-12-16T19:46:43.436106Z",
     "shell.execute_reply": "2021-12-16T19:46:43.436691Z",
     "shell.execute_reply.started": "2021-12-16T14:10:41.020536Z"
    },
    "papermill": {
     "duration": 0.047754,
     "end_time": "2021-12-16T19:46:43.436863",
     "exception": false,
     "start_time": "2021-12-16T19:46:43.389109",
     "status": "completed"
    },
    "tags": []
   },
   "outputs": [
    {
     "data": {
      "text/html": [
       "<div>\n",
       "<style scoped>\n",
       "    .dataframe tbody tr th:only-of-type {\n",
       "        vertical-align: middle;\n",
       "    }\n",
       "\n",
       "    .dataframe tbody tr th {\n",
       "        vertical-align: top;\n",
       "    }\n",
       "\n",
       "    .dataframe thead th {\n",
       "        text-align: right;\n",
       "    }\n",
       "</style>\n",
       "<table border=\"1\" class=\"dataframe\">\n",
       "  <thead>\n",
       "    <tr style=\"text-align: right;\">\n",
       "      <th></th>\n",
       "      <th>count</th>\n",
       "      <th>mean</th>\n",
       "      <th>std</th>\n",
       "      <th>min</th>\n",
       "      <th>25%</th>\n",
       "      <th>50%</th>\n",
       "      <th>75%</th>\n",
       "      <th>max</th>\n",
       "    </tr>\n",
       "  </thead>\n",
       "  <tbody>\n",
       "    <tr>\n",
       "      <th>0</th>\n",
       "      <td>7537.0</td>\n",
       "      <td>0.107077</td>\n",
       "      <td>0.167398</td>\n",
       "      <td>0.00384</td>\n",
       "      <td>0.009816</td>\n",
       "      <td>0.009816</td>\n",
       "      <td>0.151323</td>\n",
       "      <td>0.822857</td>\n",
       "    </tr>\n",
       "  </tbody>\n",
       "</table>\n",
       "</div>"
      ],
      "text/plain": [
       "    count      mean       std      min       25%       50%       75%       max\n",
       "0  7537.0  0.107077  0.167398  0.00384  0.009816  0.009816  0.151323  0.822857"
      ]
     },
     "execution_count": 13,
     "metadata": {},
     "output_type": "execute_result"
    }
   ],
   "source": [
    "pd.DataFrame(pd.Series(submission['score'].ravel()).describe()).transpose()"
   ]
  },
  {
   "cell_type": "code",
   "execution_count": 14,
   "id": "1e320b14",
   "metadata": {
    "execution": {
     "iopub.execute_input": "2021-12-16T19:46:43.479841Z",
     "iopub.status.busy": "2021-12-16T19:46:43.479200Z",
     "iopub.status.idle": "2021-12-16T19:46:43.531225Z",
     "shell.execute_reply": "2021-12-16T19:46:43.531737Z",
     "shell.execute_reply.started": "2021-12-16T14:10:41.041103Z"
    },
    "papermill": {
     "duration": 0.075099,
     "end_time": "2021-12-16T19:46:43.531916",
     "exception": false,
     "start_time": "2021-12-16T19:46:43.456817",
     "status": "completed"
    },
    "tags": []
   },
   "outputs": [],
   "source": [
    "submission.to_csv('submission.csv', index=False)"
   ]
  },
  {
   "cell_type": "code",
   "execution_count": null,
   "id": "c13fa6cf",
   "metadata": {
    "papermill": {
     "duration": 0.019747,
     "end_time": "2021-12-16T19:46:43.572496",
     "exception": false,
     "start_time": "2021-12-16T19:46:43.552749",
     "status": "completed"
    },
    "tags": []
   },
   "outputs": [],
   "source": []
  }
 ],
 "metadata": {
  "kernelspec": {
   "display_name": "Python 3",
   "language": "python",
   "name": "python3"
  },
  "language_info": {
   "codemirror_mode": {
    "name": "ipython",
    "version": 3
   },
   "file_extension": ".py",
   "mimetype": "text/x-python",
   "name": "python",
   "nbconvert_exporter": "python",
   "pygments_lexer": "ipython3",
   "version": "3.7.12"
  },
  "papermill": {
   "default_parameters": {},
   "duration": 20128.263854,
   "end_time": "2021-12-16T19:46:46.232363",
   "environment_variables": {},
   "exception": null,
   "input_path": "__notebook__.ipynb",
   "output_path": "__notebook__.ipynb",
   "parameters": {},
   "start_time": "2021-12-16T14:11:17.968509",
   "version": "2.3.3"
  }
 },
 "nbformat": 4,
 "nbformat_minor": 5
}
