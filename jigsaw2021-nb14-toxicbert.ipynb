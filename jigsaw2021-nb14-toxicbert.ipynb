{
 "cells": [
  {
   "cell_type": "markdown",
   "id": "1bcb5a7a",
   "metadata": {
    "papermill": {
     "duration": 0.007158,
     "end_time": "2022-01-16T11:59:42.913696",
     "exception": false,
     "start_time": "2022-01-16T11:59:42.906538",
     "status": "completed"
    },
    "tags": []
   },
   "source": [
    "# Overview\n",
    "\n",
    "- Hugging Face の toxicity 学習済みモデルを使ってスコアリングする。\n",
    "- インターネットに接続すると submit できないため、Kaggle に取り込み済みのノートブックを使う。\n",
    "- 試しに、予測スコアを -1 倍して最終スコアとしてみる。\n",
    "\n",
    "References\n",
    "- [🧩 EDA + Sentiment Analysis + Benchmark Baseline🧩 | Kaggle](https://www.kaggle.com/coldfir3/eda-sentiment-analysis-benchmark-baseline#Baseline-using-unitary/toxic-bert-model)\n",
    "- [download_huggingface_pretrain_for_kaggle | Kaggle](https://www.kaggle.com/quincyqiang/download-huggingface-pretrain-for-kaggle/notebook)"
   ]
  },
  {
   "cell_type": "code",
   "execution_count": 1,
   "id": "4c0038ed",
   "metadata": {
    "_cell_guid": "b1076dfc-b9ad-4769-8c92-a6c4dae69d19",
    "_uuid": "8f2839f25d086af736a60e9eeb907d3b93b6e0e5",
    "execution": {
     "iopub.execute_input": "2022-01-16T11:59:42.934259Z",
     "iopub.status.busy": "2022-01-16T11:59:42.932604Z",
     "iopub.status.idle": "2022-01-16T11:59:49.453549Z",
     "shell.execute_reply": "2022-01-16T11:59:49.452578Z",
     "shell.execute_reply.started": "2022-01-16T11:47:47.613154Z"
    },
    "papermill": {
     "duration": 6.532647,
     "end_time": "2022-01-16T11:59:49.453710",
     "exception": false,
     "start_time": "2022-01-16T11:59:42.921063",
     "status": "completed"
    },
    "tags": []
   },
   "outputs": [],
   "source": [
    "from transformers import AutoTokenizer, AutoModelForSequenceClassification\n",
    "from tqdm.notebook import tqdm\n",
    "import pandas as pd\n",
    "import numpy as np\n",
    "import torch"
   ]
  },
  {
   "cell_type": "code",
   "execution_count": 2,
   "id": "7fc2dbf5",
   "metadata": {
    "execution": {
     "iopub.execute_input": "2022-01-16T11:59:49.514414Z",
     "iopub.status.busy": "2022-01-16T11:59:49.513774Z",
     "iopub.status.idle": "2022-01-16T12:00:00.384394Z",
     "shell.execute_reply": "2022-01-16T12:00:00.383886Z",
     "shell.execute_reply.started": "2022-01-16T11:47:53.875042Z"
    },
    "papermill": {
     "duration": 10.924473,
     "end_time": "2022-01-16T12:00:00.384539",
     "exception": false,
     "start_time": "2022-01-16T11:59:49.460066",
     "status": "completed"
    },
    "tags": []
   },
   "outputs": [],
   "source": [
    "device = 'cuda:0' if torch.cuda.is_available() else 'cpu'\n",
    "MODEL_NAME = '/kaggle/input/toxic-bert'\n",
    "tokenizer = AutoTokenizer.from_pretrained(MODEL_NAME)\n",
    "model = AutoModelForSequenceClassification.from_pretrained(MODEL_NAME).to(device)"
   ]
  },
  {
   "cell_type": "code",
   "execution_count": 3,
   "id": "5f4e4c64",
   "metadata": {
    "execution": {
     "iopub.execute_input": "2022-01-16T12:00:00.401560Z",
     "iopub.status.busy": "2022-01-16T12:00:00.401045Z",
     "iopub.status.idle": "2022-01-16T12:00:00.498972Z",
     "shell.execute_reply": "2022-01-16T12:00:00.498469Z",
     "shell.execute_reply.started": "2022-01-16T11:48:20.523788Z"
    },
    "papermill": {
     "duration": 0.107999,
     "end_time": "2022-01-16T12:00:00.499090",
     "exception": false,
     "start_time": "2022-01-16T12:00:00.391091",
     "status": "completed"
    },
    "tags": []
   },
   "outputs": [],
   "source": [
    "# remove the slicing of [:36] to run the whole set\n",
    "comments_to_score = pd.read_csv('../input/jigsaw-toxic-severity-rating/comments_to_score.csv')\n",
    "# comments_to_score_texts = comments_to_score['text'].values"
   ]
  },
  {
   "cell_type": "code",
   "execution_count": 4,
   "id": "a297ab58",
   "metadata": {
    "execution": {
     "iopub.execute_input": "2022-01-16T12:00:00.514551Z",
     "iopub.status.busy": "2022-01-16T12:00:00.513754Z",
     "iopub.status.idle": "2022-01-16T12:00:00.518830Z",
     "shell.execute_reply": "2022-01-16T12:00:00.518430Z",
     "shell.execute_reply.started": "2022-01-16T11:48:20.628777Z"
    },
    "papermill": {
     "duration": 0.013626,
     "end_time": "2022-01-16T12:00:00.518936",
     "exception": false,
     "start_time": "2022-01-16T12:00:00.505310",
     "status": "completed"
    },
    "tags": []
   },
   "outputs": [],
   "source": [
    "BS = 8\n",
    "def get_comments_to_score():\n",
    "    txts = comments_to_score['text'].values\n",
    "    for i in range(0, len(txts), BS):\n",
    "        yield txts[i : i + BS].tolist()"
   ]
  },
  {
   "cell_type": "code",
   "execution_count": 5,
   "id": "a6f7f906",
   "metadata": {
    "execution": {
     "iopub.execute_input": "2022-01-16T12:00:00.536535Z",
     "iopub.status.busy": "2022-01-16T12:00:00.535867Z",
     "iopub.status.idle": "2022-01-16T12:01:22.630477Z",
     "shell.execute_reply": "2022-01-16T12:01:22.631020Z",
     "shell.execute_reply.started": "2022-01-16T11:48:20.804089Z"
    },
    "papermill": {
     "duration": 82.106255,
     "end_time": "2022-01-16T12:01:22.631251",
     "exception": false,
     "start_time": "2022-01-16T12:00:00.524996",
     "status": "completed"
    },
    "tags": []
   },
   "outputs": [
    {
     "data": {
      "application/vnd.jupyter.widget-view+json": {
       "model_id": "16a1c52245994387a39a5b217f74b214",
       "version_major": 2,
       "version_minor": 0
      },
      "text/plain": [
       "  0%|          | 0/942 [00:00<?, ?it/s]"
      ]
     },
     "metadata": {},
     "output_type": "display_data"
    }
   ],
   "source": [
    "outputs = []\n",
    "for sequences in tqdm(get_comments_to_score(), total = len(comments_to_score) // BS): \n",
    "    tokens = tokenizer(sequences, \n",
    "                       padding=True, \n",
    "                       truncation=True, \n",
    "                       add_special_tokens=True,\n",
    "                       return_tensors=\"pt\").to(device)\n",
    "    output = model(**tokens)\n",
    "    outputs.append(output['logits'].cpu().detach().numpy())"
   ]
  },
  {
   "cell_type": "code",
   "execution_count": 6,
   "id": "8ba0466c",
   "metadata": {
    "execution": {
     "iopub.execute_input": "2022-01-16T12:01:22.664813Z",
     "iopub.status.busy": "2022-01-16T12:01:22.663428Z",
     "iopub.status.idle": "2022-01-16T12:01:22.728597Z",
     "shell.execute_reply": "2022-01-16T12:01:22.729600Z",
     "shell.execute_reply.started": "2022-01-16T11:49:43.420640Z"
    },
    "papermill": {
     "duration": 0.087268,
     "end_time": "2022-01-16T12:01:22.729790",
     "exception": false,
     "start_time": "2022-01-16T12:01:22.642522",
     "status": "completed"
    },
    "tags": []
   },
   "outputs": [
    {
     "data": {
      "text/html": [
       "<div>\n",
       "<style scoped>\n",
       "    .dataframe tbody tr th:only-of-type {\n",
       "        vertical-align: middle;\n",
       "    }\n",
       "\n",
       "    .dataframe tbody tr th {\n",
       "        vertical-align: top;\n",
       "    }\n",
       "\n",
       "    .dataframe thead th {\n",
       "        text-align: right;\n",
       "    }\n",
       "</style>\n",
       "<table border=\"1\" class=\"dataframe\">\n",
       "  <thead>\n",
       "    <tr style=\"text-align: right;\">\n",
       "      <th></th>\n",
       "      <th>comment_id</th>\n",
       "      <th>score</th>\n",
       "    </tr>\n",
       "  </thead>\n",
       "  <tbody>\n",
       "    <tr>\n",
       "      <th>0</th>\n",
       "      <td>114890</td>\n",
       "      <td>7.450975</td>\n",
       "    </tr>\n",
       "    <tr>\n",
       "      <th>1</th>\n",
       "      <td>732895</td>\n",
       "      <td>5.634093</td>\n",
       "    </tr>\n",
       "    <tr>\n",
       "      <th>2</th>\n",
       "      <td>1139051</td>\n",
       "      <td>5.636992</td>\n",
       "    </tr>\n",
       "    <tr>\n",
       "      <th>3</th>\n",
       "      <td>1434512</td>\n",
       "      <td>6.059226</td>\n",
       "    </tr>\n",
       "    <tr>\n",
       "      <th>4</th>\n",
       "      <td>2084821</td>\n",
       "      <td>0.620955</td>\n",
       "    </tr>\n",
       "    <tr>\n",
       "      <th>...</th>\n",
       "      <td>...</td>\n",
       "      <td>...</td>\n",
       "    </tr>\n",
       "    <tr>\n",
       "      <th>7532</th>\n",
       "      <td>504235362</td>\n",
       "      <td>-0.007879</td>\n",
       "    </tr>\n",
       "    <tr>\n",
       "      <th>7533</th>\n",
       "      <td>504235566</td>\n",
       "      <td>2.626713</td>\n",
       "    </tr>\n",
       "    <tr>\n",
       "      <th>7534</th>\n",
       "      <td>504308177</td>\n",
       "      <td>5.280117</td>\n",
       "    </tr>\n",
       "    <tr>\n",
       "      <th>7535</th>\n",
       "      <td>504570375</td>\n",
       "      <td>-4.360547</td>\n",
       "    </tr>\n",
       "    <tr>\n",
       "      <th>7536</th>\n",
       "      <td>504598250</td>\n",
       "      <td>3.983534</td>\n",
       "    </tr>\n",
       "  </tbody>\n",
       "</table>\n",
       "<p>7537 rows × 2 columns</p>\n",
       "</div>"
      ],
      "text/plain": [
       "      comment_id     score\n",
       "0         114890  7.450975\n",
       "1         732895  5.634093\n",
       "2        1139051  5.636992\n",
       "3        1434512  6.059226\n",
       "4        2084821  0.620955\n",
       "...          ...       ...\n",
       "7532   504235362 -0.007879\n",
       "7533   504235566  2.626713\n",
       "7534   504308177  5.280117\n",
       "7535   504570375 -4.360547\n",
       "7536   504598250  3.983534\n",
       "\n",
       "[7537 rows x 2 columns]"
      ]
     },
     "execution_count": 6,
     "metadata": {},
     "output_type": "execute_result"
    }
   ],
   "source": [
    "predictions = np.concatenate(outputs)[:,0]\n",
    "\n",
    "comments_to_score['score'] = -1 * predictions\n",
    "comments_to_score = comments_to_score.drop('text', axis = 1)\n",
    "\n",
    "comments_to_score.to_csv('submission.csv', index = False)\n",
    "comments_to_score"
   ]
  },
  {
   "cell_type": "code",
   "execution_count": 7,
   "id": "ab99250d",
   "metadata": {
    "execution": {
     "iopub.execute_input": "2022-01-16T12:01:22.770463Z",
     "iopub.status.busy": "2022-01-16T12:01:22.768659Z",
     "iopub.status.idle": "2022-01-16T12:01:22.784995Z",
     "shell.execute_reply": "2022-01-16T12:01:22.785960Z",
     "shell.execute_reply.started": "2022-01-16T11:49:43.464259Z"
    },
    "papermill": {
     "duration": 0.041475,
     "end_time": "2022-01-16T12:01:22.786131",
     "exception": false,
     "start_time": "2022-01-16T12:01:22.744656",
     "status": "completed"
    },
    "tags": []
   },
   "outputs": [
    {
     "data": {
      "text/html": [
       "<div>\n",
       "<style scoped>\n",
       "    .dataframe tbody tr th:only-of-type {\n",
       "        vertical-align: middle;\n",
       "    }\n",
       "\n",
       "    .dataframe tbody tr th {\n",
       "        vertical-align: top;\n",
       "    }\n",
       "\n",
       "    .dataframe thead th {\n",
       "        text-align: right;\n",
       "    }\n",
       "</style>\n",
       "<table border=\"1\" class=\"dataframe\">\n",
       "  <thead>\n",
       "    <tr style=\"text-align: right;\">\n",
       "      <th></th>\n",
       "      <th>count</th>\n",
       "      <th>mean</th>\n",
       "      <th>std</th>\n",
       "      <th>min</th>\n",
       "      <th>25%</th>\n",
       "      <th>50%</th>\n",
       "      <th>75%</th>\n",
       "      <th>max</th>\n",
       "    </tr>\n",
       "  </thead>\n",
       "  <tbody>\n",
       "    <tr>\n",
       "      <th>0</th>\n",
       "      <td>7537.0</td>\n",
       "      <td>-0.514425</td>\n",
       "      <td>4.21569</td>\n",
       "      <td>-7.542584</td>\n",
       "      <td>-4.083736</td>\n",
       "      <td>-0.695464</td>\n",
       "      <td>2.978479</td>\n",
       "      <td>7.228723</td>\n",
       "    </tr>\n",
       "  </tbody>\n",
       "</table>\n",
       "</div>"
      ],
      "text/plain": [
       "    count      mean      std       min       25%       50%       75%       max\n",
       "0  7537.0 -0.514425  4.21569 -7.542584 -4.083736 -0.695464  2.978479  7.228723"
      ]
     },
     "execution_count": 7,
     "metadata": {},
     "output_type": "execute_result"
    }
   ],
   "source": [
    "pd.DataFrame(pd.Series(predictions.ravel()).describe()).transpose()"
   ]
  }
 ],
 "metadata": {
  "kernelspec": {
   "display_name": "Python 3",
   "language": "python",
   "name": "python3"
  },
  "language_info": {
   "codemirror_mode": {
    "name": "ipython",
    "version": 3
   },
   "file_extension": ".py",
   "mimetype": "text/x-python",
   "name": "python",
   "nbconvert_exporter": "python",
   "pygments_lexer": "ipython3",
   "version": "3.7.12"
  },
  "papermill": {
   "default_parameters": {},
   "duration": 111.498311,
   "end_time": "2022-01-16T12:01:25.901307",
   "environment_variables": {},
   "exception": null,
   "input_path": "__notebook__.ipynb",
   "output_path": "__notebook__.ipynb",
   "parameters": {},
   "start_time": "2022-01-16T11:59:34.402996",
   "version": "2.3.3"
  },
  "widgets": {
   "application/vnd.jupyter.widget-state+json": {
    "state": {
     "16a1c52245994387a39a5b217f74b214": {
      "model_module": "@jupyter-widgets/controls",
      "model_module_version": "1.5.0",
      "model_name": "HBoxModel",
      "state": {
       "_dom_classes": [],
       "_model_module": "@jupyter-widgets/controls",
       "_model_module_version": "1.5.0",
       "_model_name": "HBoxModel",
       "_view_count": null,
       "_view_module": "@jupyter-widgets/controls",
       "_view_module_version": "1.5.0",
       "_view_name": "HBoxView",
       "box_style": "",
       "children": [
        "IPY_MODEL_2f6c9887bfa44965bcfcd8831e6f05bb",
        "IPY_MODEL_b67b06d08d1d4b41afd04e5562ee9df6",
        "IPY_MODEL_7747b586100f4cce92397f2ee85b0e20"
       ],
       "layout": "IPY_MODEL_6ce4cf95403741e4a826c8e3316f2c7f"
      }
     },
     "2b1b29ffbe9d4de5b7e506fa57b27509": {
      "model_module": "@jupyter-widgets/controls",
      "model_module_version": "1.5.0",
      "model_name": "ProgressStyleModel",
      "state": {
       "_model_module": "@jupyter-widgets/controls",
       "_model_module_version": "1.5.0",
       "_model_name": "ProgressStyleModel",
       "_view_count": null,
       "_view_module": "@jupyter-widgets/base",
       "_view_module_version": "1.2.0",
       "_view_name": "StyleView",
       "bar_color": null,
       "description_width": ""
      }
     },
     "2f6c9887bfa44965bcfcd8831e6f05bb": {
      "model_module": "@jupyter-widgets/controls",
      "model_module_version": "1.5.0",
      "model_name": "HTMLModel",
      "state": {
       "_dom_classes": [],
       "_model_module": "@jupyter-widgets/controls",
       "_model_module_version": "1.5.0",
       "_model_name": "HTMLModel",
       "_view_count": null,
       "_view_module": "@jupyter-widgets/controls",
       "_view_module_version": "1.5.0",
       "_view_name": "HTMLView",
       "description": "",
       "description_tooltip": null,
       "layout": "IPY_MODEL_aa8116056a644dfbac0c653034659625",
       "placeholder": "​",
       "style": "IPY_MODEL_e63b47fceadc4392a6423ece08d03689",
       "value": ""
      }
     },
     "6ce4cf95403741e4a826c8e3316f2c7f": {
      "model_module": "@jupyter-widgets/base",
      "model_module_version": "1.2.0",
      "model_name": "LayoutModel",
      "state": {
       "_model_module": "@jupyter-widgets/base",
       "_model_module_version": "1.2.0",
       "_model_name": "LayoutModel",
       "_view_count": null,
       "_view_module": "@jupyter-widgets/base",
       "_view_module_version": "1.2.0",
       "_view_name": "LayoutView",
       "align_content": null,
       "align_items": null,
       "align_self": null,
       "border": null,
       "bottom": null,
       "display": null,
       "flex": null,
       "flex_flow": null,
       "grid_area": null,
       "grid_auto_columns": null,
       "grid_auto_flow": null,
       "grid_auto_rows": null,
       "grid_column": null,
       "grid_gap": null,
       "grid_row": null,
       "grid_template_areas": null,
       "grid_template_columns": null,
       "grid_template_rows": null,
       "height": null,
       "justify_content": null,
       "justify_items": null,
       "left": null,
       "margin": null,
       "max_height": null,
       "max_width": null,
       "min_height": null,
       "min_width": null,
       "object_fit": null,
       "object_position": null,
       "order": null,
       "overflow": null,
       "overflow_x": null,
       "overflow_y": null,
       "padding": null,
       "right": null,
       "top": null,
       "visibility": null,
       "width": null
      }
     },
     "7747b586100f4cce92397f2ee85b0e20": {
      "model_module": "@jupyter-widgets/controls",
      "model_module_version": "1.5.0",
      "model_name": "HTMLModel",
      "state": {
       "_dom_classes": [],
       "_model_module": "@jupyter-widgets/controls",
       "_model_module_version": "1.5.0",
       "_model_name": "HTMLModel",
       "_view_count": null,
       "_view_module": "@jupyter-widgets/controls",
       "_view_module_version": "1.5.0",
       "_view_name": "HTMLView",
       "description": "",
       "description_tooltip": null,
       "layout": "IPY_MODEL_d8f447d7388143ff91ab3fcae5e8e15d",
       "placeholder": "​",
       "style": "IPY_MODEL_f1694b2528594d0c8cdaba098931e950",
       "value": " 943/? [01:22&lt;00:00, 17.21it/s]"
      }
     },
     "aa8116056a644dfbac0c653034659625": {
      "model_module": "@jupyter-widgets/base",
      "model_module_version": "1.2.0",
      "model_name": "LayoutModel",
      "state": {
       "_model_module": "@jupyter-widgets/base",
       "_model_module_version": "1.2.0",
       "_model_name": "LayoutModel",
       "_view_count": null,
       "_view_module": "@jupyter-widgets/base",
       "_view_module_version": "1.2.0",
       "_view_name": "LayoutView",
       "align_content": null,
       "align_items": null,
       "align_self": null,
       "border": null,
       "bottom": null,
       "display": null,
       "flex": null,
       "flex_flow": null,
       "grid_area": null,
       "grid_auto_columns": null,
       "grid_auto_flow": null,
       "grid_auto_rows": null,
       "grid_column": null,
       "grid_gap": null,
       "grid_row": null,
       "grid_template_areas": null,
       "grid_template_columns": null,
       "grid_template_rows": null,
       "height": null,
       "justify_content": null,
       "justify_items": null,
       "left": null,
       "margin": null,
       "max_height": null,
       "max_width": null,
       "min_height": null,
       "min_width": null,
       "object_fit": null,
       "object_position": null,
       "order": null,
       "overflow": null,
       "overflow_x": null,
       "overflow_y": null,
       "padding": null,
       "right": null,
       "top": null,
       "visibility": null,
       "width": null
      }
     },
     "b67b06d08d1d4b41afd04e5562ee9df6": {
      "model_module": "@jupyter-widgets/controls",
      "model_module_version": "1.5.0",
      "model_name": "FloatProgressModel",
      "state": {
       "_dom_classes": [],
       "_model_module": "@jupyter-widgets/controls",
       "_model_module_version": "1.5.0",
       "_model_name": "FloatProgressModel",
       "_view_count": null,
       "_view_module": "@jupyter-widgets/controls",
       "_view_module_version": "1.5.0",
       "_view_name": "ProgressView",
       "bar_style": "success",
       "description": "",
       "description_tooltip": null,
       "layout": "IPY_MODEL_fb5ca628762a4485bbb8465c572a8d57",
       "max": 942.0,
       "min": 0.0,
       "orientation": "horizontal",
       "style": "IPY_MODEL_2b1b29ffbe9d4de5b7e506fa57b27509",
       "value": 942.0
      }
     },
     "d8f447d7388143ff91ab3fcae5e8e15d": {
      "model_module": "@jupyter-widgets/base",
      "model_module_version": "1.2.0",
      "model_name": "LayoutModel",
      "state": {
       "_model_module": "@jupyter-widgets/base",
       "_model_module_version": "1.2.0",
       "_model_name": "LayoutModel",
       "_view_count": null,
       "_view_module": "@jupyter-widgets/base",
       "_view_module_version": "1.2.0",
       "_view_name": "LayoutView",
       "align_content": null,
       "align_items": null,
       "align_self": null,
       "border": null,
       "bottom": null,
       "display": null,
       "flex": null,
       "flex_flow": null,
       "grid_area": null,
       "grid_auto_columns": null,
       "grid_auto_flow": null,
       "grid_auto_rows": null,
       "grid_column": null,
       "grid_gap": null,
       "grid_row": null,
       "grid_template_areas": null,
       "grid_template_columns": null,
       "grid_template_rows": null,
       "height": null,
       "justify_content": null,
       "justify_items": null,
       "left": null,
       "margin": null,
       "max_height": null,
       "max_width": null,
       "min_height": null,
       "min_width": null,
       "object_fit": null,
       "object_position": null,
       "order": null,
       "overflow": null,
       "overflow_x": null,
       "overflow_y": null,
       "padding": null,
       "right": null,
       "top": null,
       "visibility": null,
       "width": null
      }
     },
     "e63b47fceadc4392a6423ece08d03689": {
      "model_module": "@jupyter-widgets/controls",
      "model_module_version": "1.5.0",
      "model_name": "DescriptionStyleModel",
      "state": {
       "_model_module": "@jupyter-widgets/controls",
       "_model_module_version": "1.5.0",
       "_model_name": "DescriptionStyleModel",
       "_view_count": null,
       "_view_module": "@jupyter-widgets/base",
       "_view_module_version": "1.2.0",
       "_view_name": "StyleView",
       "description_width": ""
      }
     },
     "f1694b2528594d0c8cdaba098931e950": {
      "model_module": "@jupyter-widgets/controls",
      "model_module_version": "1.5.0",
      "model_name": "DescriptionStyleModel",
      "state": {
       "_model_module": "@jupyter-widgets/controls",
       "_model_module_version": "1.5.0",
       "_model_name": "DescriptionStyleModel",
       "_view_count": null,
       "_view_module": "@jupyter-widgets/base",
       "_view_module_version": "1.2.0",
       "_view_name": "StyleView",
       "description_width": ""
      }
     },
     "fb5ca628762a4485bbb8465c572a8d57": {
      "model_module": "@jupyter-widgets/base",
      "model_module_version": "1.2.0",
      "model_name": "LayoutModel",
      "state": {
       "_model_module": "@jupyter-widgets/base",
       "_model_module_version": "1.2.0",
       "_model_name": "LayoutModel",
       "_view_count": null,
       "_view_module": "@jupyter-widgets/base",
       "_view_module_version": "1.2.0",
       "_view_name": "LayoutView",
       "align_content": null,
       "align_items": null,
       "align_self": null,
       "border": null,
       "bottom": null,
       "display": null,
       "flex": null,
       "flex_flow": null,
       "grid_area": null,
       "grid_auto_columns": null,
       "grid_auto_flow": null,
       "grid_auto_rows": null,
       "grid_column": null,
       "grid_gap": null,
       "grid_row": null,
       "grid_template_areas": null,
       "grid_template_columns": null,
       "grid_template_rows": null,
       "height": null,
       "justify_content": null,
       "justify_items": null,
       "left": null,
       "margin": null,
       "max_height": null,
       "max_width": null,
       "min_height": null,
       "min_width": null,
       "object_fit": null,
       "object_position": null,
       "order": null,
       "overflow": null,
       "overflow_x": null,
       "overflow_y": null,
       "padding": null,
       "right": null,
       "top": null,
       "visibility": null,
       "width": null
      }
     }
    },
    "version_major": 2,
    "version_minor": 0
   }
  }
 },
 "nbformat": 4,
 "nbformat_minor": 5
}
