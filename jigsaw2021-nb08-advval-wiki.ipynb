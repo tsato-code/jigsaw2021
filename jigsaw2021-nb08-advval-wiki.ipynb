{
 "cells": [
  {
   "cell_type": "markdown",
   "id": "ca501480",
   "metadata": {
    "papermill": {
     "duration": 0.024724,
     "end_time": "2022-01-04T13:41:04.569931",
     "exception": false,
     "start_time": "2022-01-04T13:41:04.545207",
     "status": "completed"
    },
    "tags": []
   },
   "source": [
    "# Overview\n",
    "\n",
    "- EDA\n",
    "- sample/feature selection\n",
    "- baseline model\n",
    "- validation\n",
    "- submit\n",
    "\n",
    "【基本の考え方】\n",
    "\n",
    "- Private LB がテストデータで評価されるため、テストデータに基づいてクリーニング、特徴量選択、訓練データの選択、を行う。\n",
    "- nb06 のデータセットを変えて公開されたデータセット wikipedia toxicity 版をつくる。"
   ]
  },
  {
   "cell_type": "code",
   "execution_count": 1,
   "id": "862d8315",
   "metadata": {
    "_cell_guid": "b1076dfc-b9ad-4769-8c92-a6c4dae69d19",
    "_uuid": "8f2839f25d086af736a60e9eeb907d3b93b6e0e5",
    "execution": {
     "iopub.execute_input": "2022-01-04T13:41:04.632413Z",
     "iopub.status.busy": "2022-01-04T13:41:04.631790Z",
     "iopub.status.idle": "2022-01-04T13:41:04.649637Z",
     "shell.execute_reply": "2022-01-04T13:41:04.650409Z",
     "shell.execute_reply.started": "2022-01-04T13:14:30.643538Z"
    },
    "papermill": {
     "duration": 0.055615,
     "end_time": "2022-01-04T13:41:04.650870",
     "exception": false,
     "start_time": "2022-01-04T13:41:04.595255",
     "status": "completed"
    },
    "tags": []
   },
   "outputs": [
    {
     "name": "stdout",
     "output_type": "stream",
     "text": [
      "/kaggle/input/wikipedia-toxicity/train.csv\n",
      "/kaggle/input/jigsaw-toxic-severity-rating/sample_submission.csv\n",
      "/kaggle/input/jigsaw-toxic-severity-rating/validation_data.csv\n",
      "/kaggle/input/jigsaw-toxic-severity-rating/comments_to_score.csv\n"
     ]
    }
   ],
   "source": [
    "# Directories\n",
    "import os\n",
    "for dirname, _, filenames in os.walk('/kaggle/input'):\n",
    "    for filename in filenames:\n",
    "        print(os.path.join(dirname, filename))"
   ]
  },
  {
   "cell_type": "code",
   "execution_count": 2,
   "id": "7a85d0a6",
   "metadata": {
    "execution": {
     "iopub.execute_input": "2022-01-04T13:41:04.711599Z",
     "iopub.status.busy": "2022-01-04T13:41:04.711028Z",
     "iopub.status.idle": "2022-01-04T13:41:04.712799Z",
     "shell.execute_reply": "2022-01-04T13:41:04.712284Z",
     "shell.execute_reply.started": "2022-01-04T13:15:34.243051Z"
    },
    "papermill": {
     "duration": 0.027964,
     "end_time": "2022-01-04T13:41:04.712930",
     "exception": false,
     "start_time": "2022-01-04T13:41:04.684966",
     "status": "completed"
    },
    "tags": []
   },
   "outputs": [],
   "source": [
    "# Parameters\n",
    "DEBUG_FLAG = False\n",
    "VERSION = 'nb06'\n",
    "\n",
    "SUBMISSION_PATH = '/kaggle/input/jigsaw-toxic-severity-rating/sample_submission.csv'\n",
    "VALIDATION_DATA_PATH = '/kaggle/input/jigsaw-toxic-severity-rating/validation_data.csv'\n",
    "COMMENTS_SCORE_PATH = '/kaggle/input/jigsaw-toxic-severity-rating/comments_to_score.csv'\n",
    "WIKI_TRAIN_PATH = '/kaggle/input/wikipedia-toxicity/train.csv'\n",
    "\n",
    "N_SPLITS = 5 if not DEBUG_FLAG else 2"
   ]
  },
  {
   "cell_type": "code",
   "execution_count": 3,
   "id": "1dd876de",
   "metadata": {
    "execution": {
     "iopub.execute_input": "2022-01-04T13:41:04.758769Z",
     "iopub.status.busy": "2022-01-04T13:41:04.758228Z",
     "iopub.status.idle": "2022-01-04T13:41:06.395636Z",
     "shell.execute_reply": "2022-01-04T13:41:06.396134Z",
     "shell.execute_reply.started": "2022-01-04T13:32:35.025840Z"
    },
    "papermill": {
     "duration": 1.661809,
     "end_time": "2022-01-04T13:41:06.396323",
     "exception": false,
     "start_time": "2022-01-04T13:41:04.734514",
     "status": "completed"
    },
    "tags": []
   },
   "outputs": [
    {
     "data": {
      "text/html": [
       "<style type='text/css'>\n",
       ".datatable table.frame { margin-bottom: 0; }\n",
       ".datatable table.frame thead { border-bottom: none; }\n",
       ".datatable table.frame tr.coltypes td {  color: #FFFFFF;  line-height: 6px;  padding: 0 0.5em;}\n",
       ".datatable .bool    { background: #DDDD99; }\n",
       ".datatable .object  { background: #565656; }\n",
       ".datatable .int     { background: #5D9E5D; }\n",
       ".datatable .float   { background: #4040CC; }\n",
       ".datatable .str     { background: #CC4040; }\n",
       ".datatable .time    { background: #40CC40; }\n",
       ".datatable .row_index {  background: var(--jp-border-color3);  border-right: 1px solid var(--jp-border-color0);  color: var(--jp-ui-font-color3);  font-size: 9px;}\n",
       ".datatable .frame tbody td { text-align: left; }\n",
       ".datatable .frame tr.coltypes .row_index {  background: var(--jp-border-color0);}\n",
       ".datatable th:nth-child(2) { padding-left: 12px; }\n",
       ".datatable .hellipsis {  color: var(--jp-cell-editor-border-color);}\n",
       ".datatable .vellipsis {  background: var(--jp-layout-color0);  color: var(--jp-cell-editor-border-color);}\n",
       ".datatable .na {  color: var(--jp-cell-editor-border-color);  font-size: 80%;}\n",
       ".datatable .sp {  opacity: 0.25;}\n",
       ".datatable .footer { font-size: 9px; }\n",
       ".datatable .frame_dimensions {  background: var(--jp-border-color3);  border-top: 1px solid var(--jp-border-color0);  color: var(--jp-ui-font-color3);  display: inline-block;  opacity: 0.6;  padding: 1px 10px 1px 5px;}\n",
       "</style>\n"
      ],
      "text/plain": [
       "<IPython.core.display.HTML object>"
      ]
     },
     "metadata": {},
     "output_type": "display_data"
    }
   ],
   "source": [
    "# Modules\n",
    "import re\n",
    "import sys\n",
    "import time\n",
    "\n",
    "import datatable as dt\n",
    "import nltk\n",
    "import numpy as np\n",
    "import pandas as pd\n",
    "\n",
    "from matplotlib import pyplot as plt\n",
    "from matplotlib_venn import venn3\n",
    "from sklearn.feature_extraction import text\n",
    "from sklearn.feature_extraction.text import TfidfVectorizer\n",
    "from sklearn.linear_model import Ridge, SGDClassifier, SGDRegressor\n",
    "from sklearn.metrics import mean_squared_error, roc_auc_score\n",
    "from sklearn.model_selection import KFold, StratifiedKFold\n",
    "from sklearn.naive_bayes import MultinomialNB\n",
    "\n",
    "sys.setrecursionlimit(5000)"
   ]
  },
  {
   "cell_type": "code",
   "execution_count": 4,
   "id": "018f3b43",
   "metadata": {
    "execution": {
     "iopub.execute_input": "2022-01-04T13:41:06.448181Z",
     "iopub.status.busy": "2022-01-04T13:41:06.447560Z",
     "iopub.status.idle": "2022-01-04T13:41:06.449802Z",
     "shell.execute_reply": "2022-01-04T13:41:06.449378Z",
     "shell.execute_reply.started": "2022-01-04T13:15:35.056191Z"
    },
    "papermill": {
     "duration": 0.030759,
     "end_time": "2022-01-04T13:41:06.449932",
     "exception": false,
     "start_time": "2022-01-04T13:41:06.419173",
     "status": "completed"
    },
    "tags": []
   },
   "outputs": [],
   "source": [
    "# My functions\n",
    "def read_df():\n",
    "    valid = dt.fread(VALIDATION_DATA_PATH).to_pandas()\n",
    "    test = dt.fread(COMMENTS_SCORE_PATH).to_pandas()\n",
    "    submission = dt.fread(SUBMISSION_PATH).to_pandas()\n",
    "    wiki = dt.fread(WIKI_TRAIN_PATH).to_pandas()\n",
    "    \n",
    "    if DEBUG_FLAG:\n",
    "        valid = valid.sample(n=1000).reset_index(drop=True)\n",
    "        test = test.sample(n=1000).reset_index(drop=True)\n",
    "        wiki = wiki.sample(n=1000).reset_index(drop=True)\n",
    "    \n",
    "    return valid, test, submission, wiki"
   ]
  },
  {
   "cell_type": "code",
   "execution_count": 5,
   "id": "b6746549",
   "metadata": {
    "execution": {
     "iopub.execute_input": "2022-01-04T13:41:06.498387Z",
     "iopub.status.busy": "2022-01-04T13:41:06.497758Z",
     "iopub.status.idle": "2022-01-04T13:41:07.127924Z",
     "shell.execute_reply": "2022-01-04T13:41:07.128960Z",
     "shell.execute_reply.started": "2022-01-04T13:15:35.649021Z"
    },
    "papermill": {
     "duration": 0.657035,
     "end_time": "2022-01-04T13:41:07.129177",
     "exception": false,
     "start_time": "2022-01-04T13:41:06.472142",
     "status": "completed"
    },
    "tags": []
   },
   "outputs": [
    {
     "name": "stdout",
     "output_type": "stream",
     "text": [
      "valid shape: (30108, 3)\n",
      "test shape: (7537, 2)\n",
      "submission shape: (7537, 2)\n",
      "wiki shape: (5000, 3)\n"
     ]
    }
   ],
   "source": [
    "valid, test, submission, wiki = read_df()\n",
    "\n",
    "print(f'valid shape: {valid.shape}')\n",
    "print(f'test shape: {test.shape}')\n",
    "print(f'submission shape: {submission.shape}')\n",
    "print(f'wiki shape: {wiki.shape}')"
   ]
  },
  {
   "cell_type": "code",
   "execution_count": 6,
   "id": "846ae0b4",
   "metadata": {
    "execution": {
     "iopub.execute_input": "2022-01-04T13:41:07.183797Z",
     "iopub.status.busy": "2022-01-04T13:41:07.183229Z",
     "iopub.status.idle": "2022-01-04T13:41:07.205854Z",
     "shell.execute_reply": "2022-01-04T13:41:07.206347Z",
     "shell.execute_reply.started": "2022-01-04T13:15:40.568427Z"
    },
    "papermill": {
     "duration": 0.053126,
     "end_time": "2022-01-04T13:41:07.206504",
     "exception": false,
     "start_time": "2022-01-04T13:41:07.153378",
     "status": "completed"
    },
    "tags": []
   },
   "outputs": [
    {
     "data": {
      "text/html": [
       "<div>\n",
       "<style scoped>\n",
       "    .dataframe tbody tr th:only-of-type {\n",
       "        vertical-align: middle;\n",
       "    }\n",
       "\n",
       "    .dataframe tbody tr th {\n",
       "        vertical-align: top;\n",
       "    }\n",
       "\n",
       "    .dataframe thead th {\n",
       "        text-align: right;\n",
       "    }\n",
       "</style>\n",
       "<table border=\"1\" class=\"dataframe\">\n",
       "  <thead>\n",
       "    <tr style=\"text-align: right;\">\n",
       "      <th></th>\n",
       "      <th>worker</th>\n",
       "      <th>less_toxic</th>\n",
       "      <th>more_toxic</th>\n",
       "    </tr>\n",
       "  </thead>\n",
       "  <tbody>\n",
       "    <tr>\n",
       "      <th>0</th>\n",
       "      <td>313</td>\n",
       "      <td>This article sucks \\n\\nwoo woo wooooooo</td>\n",
       "      <td>WHAT!!!!!!!!?!?!!?!?!!?!?!?!?!!!!!!!!!!!!!!!!!...</td>\n",
       "    </tr>\n",
       "    <tr>\n",
       "      <th>1</th>\n",
       "      <td>188</td>\n",
       "      <td>\"And yes, people should recognize that but the...</td>\n",
       "      <td>Daphne Guinness \\n\\nTop of the mornin' my fav...</td>\n",
       "    </tr>\n",
       "    <tr>\n",
       "      <th>2</th>\n",
       "      <td>82</td>\n",
       "      <td>Western Media?\\n\\nYup, because every crime in...</td>\n",
       "      <td>\"Atom you don't believe actual photos of mastu...</td>\n",
       "    </tr>\n",
       "    <tr>\n",
       "      <th>3</th>\n",
       "      <td>347</td>\n",
       "      <td>And you removed it! You numbskull! I don't car...</td>\n",
       "      <td>You seem to have sand in your vagina.\\n\\nMight...</td>\n",
       "    </tr>\n",
       "    <tr>\n",
       "      <th>4</th>\n",
       "      <td>539</td>\n",
       "      <td>smelly vagina \\n\\nBluerasberry why don't you ...</td>\n",
       "      <td>hey \\n\\nway to support nazis, you racist</td>\n",
       "    </tr>\n",
       "  </tbody>\n",
       "</table>\n",
       "</div>"
      ],
      "text/plain": [
       "   worker                                         less_toxic  \\\n",
       "0     313            This article sucks \\n\\nwoo woo wooooooo   \n",
       "1     188  \"And yes, people should recognize that but the...   \n",
       "2      82   Western Media?\\n\\nYup, because every crime in...   \n",
       "3     347  And you removed it! You numbskull! I don't car...   \n",
       "4     539   smelly vagina \\n\\nBluerasberry why don't you ...   \n",
       "\n",
       "                                          more_toxic  \n",
       "0  WHAT!!!!!!!!?!?!!?!?!!?!?!?!?!!!!!!!!!!!!!!!!!...  \n",
       "1   Daphne Guinness \\n\\nTop of the mornin' my fav...  \n",
       "2  \"Atom you don't believe actual photos of mastu...  \n",
       "3  You seem to have sand in your vagina.\\n\\nMight...  \n",
       "4           hey \\n\\nway to support nazis, you racist  "
      ]
     },
     "metadata": {},
     "output_type": "display_data"
    },
    {
     "data": {
      "text/html": [
       "<div>\n",
       "<style scoped>\n",
       "    .dataframe tbody tr th:only-of-type {\n",
       "        vertical-align: middle;\n",
       "    }\n",
       "\n",
       "    .dataframe tbody tr th {\n",
       "        vertical-align: top;\n",
       "    }\n",
       "\n",
       "    .dataframe thead th {\n",
       "        text-align: right;\n",
       "    }\n",
       "</style>\n",
       "<table border=\"1\" class=\"dataframe\">\n",
       "  <thead>\n",
       "    <tr style=\"text-align: right;\">\n",
       "      <th></th>\n",
       "      <th>comment_id</th>\n",
       "      <th>text</th>\n",
       "    </tr>\n",
       "  </thead>\n",
       "  <tbody>\n",
       "    <tr>\n",
       "      <th>0</th>\n",
       "      <td>114890</td>\n",
       "      <td>\"\\n \\n\\nGjalexei, you asked about whether ther...</td>\n",
       "    </tr>\n",
       "    <tr>\n",
       "      <th>1</th>\n",
       "      <td>732895</td>\n",
       "      <td>Looks like be have an abuser , can you please ...</td>\n",
       "    </tr>\n",
       "    <tr>\n",
       "      <th>2</th>\n",
       "      <td>1139051</td>\n",
       "      <td>I confess to having complete (and apparently b...</td>\n",
       "    </tr>\n",
       "    <tr>\n",
       "      <th>3</th>\n",
       "      <td>1434512</td>\n",
       "      <td>\"\\n\\nFreud's ideas are certainly much discusse...</td>\n",
       "    </tr>\n",
       "    <tr>\n",
       "      <th>4</th>\n",
       "      <td>2084821</td>\n",
       "      <td>It is not just you. This is a laundry list of ...</td>\n",
       "    </tr>\n",
       "  </tbody>\n",
       "</table>\n",
       "</div>"
      ],
      "text/plain": [
       "   comment_id                                               text\n",
       "0      114890  \"\\n \\n\\nGjalexei, you asked about whether ther...\n",
       "1      732895  Looks like be have an abuser , can you please ...\n",
       "2     1139051  I confess to having complete (and apparently b...\n",
       "3     1434512  \"\\n\\nFreud's ideas are certainly much discusse...\n",
       "4     2084821  It is not just you. This is a laundry list of ..."
      ]
     },
     "metadata": {},
     "output_type": "display_data"
    },
    {
     "data": {
      "text/html": [
       "<div>\n",
       "<style scoped>\n",
       "    .dataframe tbody tr th:only-of-type {\n",
       "        vertical-align: middle;\n",
       "    }\n",
       "\n",
       "    .dataframe tbody tr th {\n",
       "        vertical-align: top;\n",
       "    }\n",
       "\n",
       "    .dataframe thead th {\n",
       "        text-align: right;\n",
       "    }\n",
       "</style>\n",
       "<table border=\"1\" class=\"dataframe\">\n",
       "  <thead>\n",
       "    <tr style=\"text-align: right;\">\n",
       "      <th></th>\n",
       "      <th>comment_id</th>\n",
       "      <th>score</th>\n",
       "    </tr>\n",
       "  </thead>\n",
       "  <tbody>\n",
       "    <tr>\n",
       "      <th>0</th>\n",
       "      <td>114890</td>\n",
       "      <td>0.5</td>\n",
       "    </tr>\n",
       "    <tr>\n",
       "      <th>1</th>\n",
       "      <td>732895</td>\n",
       "      <td>0.5</td>\n",
       "    </tr>\n",
       "    <tr>\n",
       "      <th>2</th>\n",
       "      <td>1139051</td>\n",
       "      <td>0.5</td>\n",
       "    </tr>\n",
       "    <tr>\n",
       "      <th>3</th>\n",
       "      <td>1434512</td>\n",
       "      <td>0.5</td>\n",
       "    </tr>\n",
       "    <tr>\n",
       "      <th>4</th>\n",
       "      <td>2084821</td>\n",
       "      <td>0.5</td>\n",
       "    </tr>\n",
       "  </tbody>\n",
       "</table>\n",
       "</div>"
      ],
      "text/plain": [
       "   comment_id  score\n",
       "0      114890    0.5\n",
       "1      732895    0.5\n",
       "2     1139051    0.5\n",
       "3     1434512    0.5\n",
       "4     2084821    0.5"
      ]
     },
     "metadata": {},
     "output_type": "display_data"
    },
    {
     "data": {
      "text/html": [
       "<div>\n",
       "<style scoped>\n",
       "    .dataframe tbody tr th:only-of-type {\n",
       "        vertical-align: middle;\n",
       "    }\n",
       "\n",
       "    .dataframe tbody tr th {\n",
       "        vertical-align: top;\n",
       "    }\n",
       "\n",
       "    .dataframe thead th {\n",
       "        text-align: right;\n",
       "    }\n",
       "</style>\n",
       "<table border=\"1\" class=\"dataframe\">\n",
       "  <thead>\n",
       "    <tr style=\"text-align: right;\">\n",
       "      <th></th>\n",
       "      <th>id</th>\n",
       "      <th>comment_text</th>\n",
       "      <th>toxic</th>\n",
       "    </tr>\n",
       "  </thead>\n",
       "  <tbody>\n",
       "    <tr>\n",
       "      <th>0</th>\n",
       "      <td>e617e2489abe9bca</td>\n",
       "      <td>\"\\r\\n\\r\\n A barnstar for you! \\r\\n\\r\\n  The De...</td>\n",
       "      <td>False</td>\n",
       "    </tr>\n",
       "    <tr>\n",
       "      <th>1</th>\n",
       "      <td>9250cf637294e09d</td>\n",
       "      <td>\"\\r\\n\\r\\nThis seems unbalanced.  whatever I ha...</td>\n",
       "      <td>False</td>\n",
       "    </tr>\n",
       "    <tr>\n",
       "      <th>2</th>\n",
       "      <td>ce1aa4592d5240ca</td>\n",
       "      <td>Marya Dzmitruk was born in Minsk, Belarus in M...</td>\n",
       "      <td>False</td>\n",
       "    </tr>\n",
       "    <tr>\n",
       "      <th>3</th>\n",
       "      <td>48105766ff7f075b</td>\n",
       "      <td>\"\\r\\n\\r\\nTalkback\\r\\n\\r\\n Dear Celestia...  \"</td>\n",
       "      <td>False</td>\n",
       "    </tr>\n",
       "    <tr>\n",
       "      <th>4</th>\n",
       "      <td>0543d4f82e5470b6</td>\n",
       "      <td>New Categories \\r\\n\\r\\nI honestly think that w...</td>\n",
       "      <td>False</td>\n",
       "    </tr>\n",
       "  </tbody>\n",
       "</table>\n",
       "</div>"
      ],
      "text/plain": [
       "                 id                                       comment_text  toxic\n",
       "0  e617e2489abe9bca  \"\\r\\n\\r\\n A barnstar for you! \\r\\n\\r\\n  The De...  False\n",
       "1  9250cf637294e09d  \"\\r\\n\\r\\nThis seems unbalanced.  whatever I ha...  False\n",
       "2  ce1aa4592d5240ca  Marya Dzmitruk was born in Minsk, Belarus in M...  False\n",
       "3  48105766ff7f075b      \"\\r\\n\\r\\nTalkback\\r\\n\\r\\n Dear Celestia...  \"  False\n",
       "4  0543d4f82e5470b6  New Categories \\r\\n\\r\\nI honestly think that w...  False"
      ]
     },
     "metadata": {},
     "output_type": "display_data"
    }
   ],
   "source": [
    "display(valid.head())\n",
    "display(test.head())\n",
    "display(submission.head())\n",
    "display(wiki.head())"
   ]
  },
  {
   "cell_type": "code",
   "execution_count": 7,
   "id": "92cf718e",
   "metadata": {
    "execution": {
     "iopub.execute_input": "2022-01-04T13:41:07.257513Z",
     "iopub.status.busy": "2022-01-04T13:41:07.256866Z",
     "iopub.status.idle": "2022-01-04T13:41:07.565694Z",
     "shell.execute_reply": "2022-01-04T13:41:07.565180Z",
     "shell.execute_reply.started": "2022-01-04T13:16:43.781624Z"
    },
    "papermill": {
     "duration": 0.335325,
     "end_time": "2022-01-04T13:41:07.565828",
     "exception": false,
     "start_time": "2022-01-04T13:41:07.230503",
     "status": "completed"
    },
    "tags": []
   },
   "outputs": [
    {
     "data": {
      "image/png": "[encoded data removed]",
      "text/plain": [
       "<Figure size 432x432 with 1 Axes>"
      ]
     },
     "metadata": {},
     "output_type": "display_data"
    }
   ],
   "source": [
    "valid_unique_text = set(pd.concat([valid['less_toxic'], valid['more_toxic']]).unique())\n",
    "test_unique_text = set(test['text'].unique())\n",
    "wiki_unique_text = set(wiki['comment_text'].unique())\n",
    "\n",
    "plt.figure(figsize=(6,6))\n",
    "venn3(subsets=(valid_unique_text, test_unique_text, wiki_unique_text),\n",
    "      set_labels=('Validation set', 'test set', 'wiki set'))\n",
    "plt.title('text')\n",
    "plt.tight_layout()\n",
    "plt.show()"
   ]
  },
  {
   "cell_type": "markdown",
   "id": "44ce64ca",
   "metadata": {
    "papermill": {
     "duration": 0.024554,
     "end_time": "2022-01-04T13:41:07.615670",
     "exception": false,
     "start_time": "2022-01-04T13:41:07.591116",
     "status": "completed"
    },
    "tags": []
   },
   "source": [
    "test は validation に含まれている。一方で test は wiki にほとんど含まれていない。アンサンブルに使うスコアをつくるのであれば、ないよりはよいという考え。\n",
    "\n",
    "方針としては、特徴抽出して、adversarial validation により似ているサンプルセットを使って学習、予測という流れ。"
   ]
  },
  {
   "cell_type": "code",
   "execution_count": 8,
   "id": "55c24063",
   "metadata": {
    "execution": {
     "iopub.execute_input": "2022-01-04T13:41:07.674114Z",
     "iopub.status.busy": "2022-01-04T13:41:07.673462Z",
     "iopub.status.idle": "2022-01-04T13:41:07.674742Z",
     "shell.execute_reply": "2022-01-04T13:41:07.675288Z",
     "shell.execute_reply.started": "2022-01-04T13:22:02.162874Z"
    },
    "papermill": {
     "duration": 0.034385,
     "end_time": "2022-01-04T13:41:07.675443",
     "exception": false,
     "start_time": "2022-01-04T13:41:07.641058",
     "status": "completed"
    },
    "tags": []
   },
   "outputs": [],
   "source": [
    "# クリーニング関数\n",
    "def utils_preprocess_text(text, flg_stemm=False, flg_lemm=True, lst_stopwords=None, whitelist=None):\n",
    "    # clean (convert to lowercase and remove punctuations and characters and then strip)\n",
    "    text = re.sub(r'[^\\w\\s]', '', str(text).lower().strip())\n",
    "    \n",
    "    # remove numbers\n",
    "    text = re.sub(r'[\\d]', '', text)\n",
    "            \n",
    "    # Tokenize (convert from string to list)\n",
    "    lst_text = text.split()\n",
    "    \n",
    "    # remove Stopwords\n",
    "    if lst_stopwords is not None:\n",
    "        lst_text = [word for word in lst_text if word not in lst_stopwords]\n",
    "                \n",
    "    # Stemming (remove -ing, -ly, ...)\n",
    "    if flg_stemm == True:\n",
    "        ps = nltk.stem.porter.PorterStemmer()\n",
    "        lst_text = [ps.stem(word) for word in lst_text]\n",
    "                \n",
    "    # Lemmatisation (convert the word into root word)\n",
    "    if flg_lemm == True:\n",
    "        lem = nltk.stem.wordnet.WordNetLemmatizer()\n",
    "        lst_text = [lem.lemmatize(word) for word in lst_text]\n",
    "    \n",
    "    # white words list\n",
    "    if whitelist is not None:\n",
    "        lst_text = [word for word in lst_text if word in whitelist]\n",
    "        \n",
    "    # back to string from list\n",
    "    text = ' '.join(lst_text)\n",
    "    \n",
    "    return text"
   ]
  },
  {
   "cell_type": "code",
   "execution_count": 9,
   "id": "ae65f3e9",
   "metadata": {
    "execution": {
     "iopub.execute_input": "2022-01-04T13:41:07.728575Z",
     "iopub.status.busy": "2022-01-04T13:41:07.728018Z",
     "iopub.status.idle": "2022-01-04T13:41:17.021475Z",
     "shell.execute_reply": "2022-01-04T13:41:17.021904Z",
     "shell.execute_reply.started": "2022-01-04T13:22:16.046472Z"
    },
    "papermill": {
     "duration": 9.321448,
     "end_time": "2022-01-04T13:41:17.022114",
     "exception": false,
     "start_time": "2022-01-04T13:41:07.700666",
     "status": "completed"
    },
    "tags": []
   },
   "outputs": [
    {
     "name": "stdout",
     "output_type": "stream",
     "text": [
      "test_words size: 23636\n",
      "CPU times: user 9.12 s, sys: 158 ms, total: 9.27 s\n",
      "Wall time: 9.29 s\n"
     ]
    }
   ],
   "source": [
    "%%time\n",
    "stop_words = list(text.ENGLISH_STOP_WORDS)\n",
    "\n",
    "# test のクリーニング\n",
    "test['text_clean'] = test['text'].apply(lambda x: \n",
    "    utils_preprocess_text(x, flg_stemm=True, flg_lemm=True, lst_stopwords=stop_words, whitelist=None)\n",
    ")\n",
    "\n",
    "test_words = set(' '.join(test['text_clean']).split())\n",
    "print(f'test_words size: {len(test_words)}')"
   ]
  },
  {
   "cell_type": "code",
   "execution_count": 10,
   "id": "c330d01d",
   "metadata": {
    "execution": {
     "iopub.execute_input": "2022-01-04T13:41:17.082241Z",
     "iopub.status.busy": "2022-01-04T13:41:17.081596Z",
     "iopub.status.idle": "2022-01-04T13:41:36.357342Z",
     "shell.execute_reply": "2022-01-04T13:41:36.356826Z",
     "shell.execute_reply.started": "2022-01-04T13:23:07.887852Z"
    },
    "papermill": {
     "duration": 19.30931,
     "end_time": "2022-01-04T13:41:36.357479",
     "exception": false,
     "start_time": "2022-01-04T13:41:17.048169",
     "status": "completed"
    },
    "tags": []
   },
   "outputs": [
    {
     "name": "stdout",
     "output_type": "stream",
     "text": [
      "CPU times: user 19.3 s, sys: 11.1 ms, total: 19.3 s\n",
      "Wall time: 19.3 s\n"
     ]
    }
   ],
   "source": [
    "%%time\n",
    "\n",
    "# valid のクリーニング\n",
    "valid_unique_text = pd.Series(pd.concat([valid['less_toxic'], valid['more_toxic']]).unique())\n",
    "valid_unique_text_cleaned = valid_unique_text.apply(lambda x: \n",
    "    utils_preprocess_text(x, flg_stemm=True, flg_lemm=True, lst_stopwords=stop_words, whitelist=test_words)\n",
    ")\n",
    "valid_unique_text_dic = {text: cleaned_text for text, cleaned_text in zip(valid_unique_text, valid_unique_text_cleaned)}\n",
    "valid['less_toxic_clean'] = valid['less_toxic'].map(valid_unique_text_dic)\n",
    "valid['more_toxic_clean'] = valid['more_toxic'].map(valid_unique_text_dic)\n",
    "\n",
    "# wiki のクリーニング\n",
    "wiki = wiki.rename(columns={'comment_text': 'text'})\n",
    "wiki['text_clean'] = wiki['text'].apply(lambda x: \n",
    "    utils_preprocess_text(x, flg_stemm=True, flg_lemm=True, lst_stopwords=stop_words, whitelist=test_words)\n",
    ")"
   ]
  },
  {
   "cell_type": "code",
   "execution_count": 11,
   "id": "dd1a6f2d",
   "metadata": {
    "execution": {
     "iopub.execute_input": "2022-01-04T13:41:36.411810Z",
     "iopub.status.busy": "2022-01-04T13:41:36.410876Z",
     "iopub.status.idle": "2022-01-04T13:41:36.454398Z",
     "shell.execute_reply": "2022-01-04T13:41:36.454799Z",
     "shell.execute_reply.started": "2022-01-04T13:23:36.250641Z"
    },
    "papermill": {
     "duration": 0.072079,
     "end_time": "2022-01-04T13:41:36.454962",
     "exception": false,
     "start_time": "2022-01-04T13:41:36.382883",
     "status": "completed"
    },
    "tags": []
   },
   "outputs": [
    {
     "data": {
      "text/html": [
       "<div>\n",
       "<style scoped>\n",
       "    .dataframe tbody tr th:only-of-type {\n",
       "        vertical-align: middle;\n",
       "    }\n",
       "\n",
       "    .dataframe tbody tr th {\n",
       "        vertical-align: top;\n",
       "    }\n",
       "\n",
       "    .dataframe thead th {\n",
       "        text-align: right;\n",
       "    }\n",
       "</style>\n",
       "<table border=\"1\" class=\"dataframe\">\n",
       "  <thead>\n",
       "    <tr style=\"text-align: right;\">\n",
       "      <th></th>\n",
       "      <th>less_toxic</th>\n",
       "      <th>less_toxic_clean</th>\n",
       "    </tr>\n",
       "  </thead>\n",
       "  <tbody>\n",
       "    <tr>\n",
       "      <th>0</th>\n",
       "      <td>This article sucks \\n\\nwoo woo wooooooo</td>\n",
       "      <td>articl suck woo woo wooooooo</td>\n",
       "    </tr>\n",
       "    <tr>\n",
       "      <th>1</th>\n",
       "      <td>\"And yes, people should recognize that but the...</td>\n",
       "      <td>ye peopl recogn usual dont object hear direct ...</td>\n",
       "    </tr>\n",
       "    <tr>\n",
       "      <th>2</th>\n",
       "      <td>Western Media?\\n\\nYup, because every crime in...</td>\n",
       "      <td>western medium yup crime entir world caus west...</td>\n",
       "    </tr>\n",
       "    <tr>\n",
       "      <th>3</th>\n",
       "      <td>And you removed it! You numbskull! I don't car...</td>\n",
       "      <td>remov numbskul dont care say anymor life ahead...</td>\n",
       "    </tr>\n",
       "    <tr>\n",
       "      <th>4</th>\n",
       "      <td>smelly vagina \\n\\nBluerasberry why don't you ...</td>\n",
       "      <td>smelli vagina bluerasberri dont model cheesi b...</td>\n",
       "    </tr>\n",
       "    <tr>\n",
       "      <th>...</th>\n",
       "      <td>...</td>\n",
       "      <td>...</td>\n",
       "    </tr>\n",
       "    <tr>\n",
       "      <th>30103</th>\n",
       "      <td>I'm sorry. I'm not an admin. I will give you t...</td>\n",
       "      <td>im sorri im admin piec advic edit page away gu...</td>\n",
       "    </tr>\n",
       "    <tr>\n",
       "      <th>30104</th>\n",
       "      <td>I'm sorry. I'm not an admin. I will give you t...</td>\n",
       "      <td>im sorri im admin piec advic edit page away gu...</td>\n",
       "    </tr>\n",
       "    <tr>\n",
       "      <th>30105</th>\n",
       "      <td>wow...\\nare you out of your mind, how was my e...</td>\n",
       "      <td>wow mind edit talk page vandal simpli explain ...</td>\n",
       "    </tr>\n",
       "    <tr>\n",
       "      <th>30106</th>\n",
       "      <td>wow...\\nare you out of your mind, how was my e...</td>\n",
       "      <td>wow mind edit talk page vandal simpli explain ...</td>\n",
       "    </tr>\n",
       "    <tr>\n",
       "      <th>30107</th>\n",
       "      <td>wow...\\nare you out of your mind, how was my e...</td>\n",
       "      <td>wow mind edit talk page vandal simpli explain ...</td>\n",
       "    </tr>\n",
       "  </tbody>\n",
       "</table>\n",
       "<p>30108 rows × 2 columns</p>\n",
       "</div>"
      ],
      "text/plain": [
       "                                              less_toxic  \\\n",
       "0                This article sucks \\n\\nwoo woo wooooooo   \n",
       "1      \"And yes, people should recognize that but the...   \n",
       "2       Western Media?\\n\\nYup, because every crime in...   \n",
       "3      And you removed it! You numbskull! I don't car...   \n",
       "4       smelly vagina \\n\\nBluerasberry why don't you ...   \n",
       "...                                                  ...   \n",
       "30103  I'm sorry. I'm not an admin. I will give you t...   \n",
       "30104  I'm sorry. I'm not an admin. I will give you t...   \n",
       "30105  wow...\\nare you out of your mind, how was my e...   \n",
       "30106  wow...\\nare you out of your mind, how was my e...   \n",
       "30107  wow...\\nare you out of your mind, how was my e...   \n",
       "\n",
       "                                        less_toxic_clean  \n",
       "0                           articl suck woo woo wooooooo  \n",
       "1      ye peopl recogn usual dont object hear direct ...  \n",
       "2      western medium yup crime entir world caus west...  \n",
       "3      remov numbskul dont care say anymor life ahead...  \n",
       "4      smelli vagina bluerasberri dont model cheesi b...  \n",
       "...                                                  ...  \n",
       "30103  im sorri im admin piec advic edit page away gu...  \n",
       "30104  im sorri im admin piec advic edit page away gu...  \n",
       "30105  wow mind edit talk page vandal simpli explain ...  \n",
       "30106  wow mind edit talk page vandal simpli explain ...  \n",
       "30107  wow mind edit talk page vandal simpli explain ...  \n",
       "\n",
       "[30108 rows x 2 columns]"
      ]
     },
     "metadata": {},
     "output_type": "display_data"
    },
    {
     "data": {
      "text/html": [
       "<div>\n",
       "<style scoped>\n",
       "    .dataframe tbody tr th:only-of-type {\n",
       "        vertical-align: middle;\n",
       "    }\n",
       "\n",
       "    .dataframe tbody tr th {\n",
       "        vertical-align: top;\n",
       "    }\n",
       "\n",
       "    .dataframe thead th {\n",
       "        text-align: right;\n",
       "    }\n",
       "</style>\n",
       "<table border=\"1\" class=\"dataframe\">\n",
       "  <thead>\n",
       "    <tr style=\"text-align: right;\">\n",
       "      <th></th>\n",
       "      <th>more_toxic</th>\n",
       "      <th>more_toxic_clean</th>\n",
       "    </tr>\n",
       "  </thead>\n",
       "  <tbody>\n",
       "    <tr>\n",
       "      <th>0</th>\n",
       "      <td>WHAT!!!!!!!!?!?!!?!?!!?!?!?!?!!!!!!!!!!!!!!!!!...</td>\n",
       "      <td>wher sexi pic gone main page</td>\n",
       "    </tr>\n",
       "    <tr>\n",
       "      <th>1</th>\n",
       "      <td>Daphne Guinness \\n\\nTop of the mornin' my fav...</td>\n",
       "      <td>daphn guin mornin favourit alien life form im ...</td>\n",
       "    </tr>\n",
       "    <tr>\n",
       "      <th>2</th>\n",
       "      <td>\"Atom you don't believe actual photos of mastu...</td>\n",
       "      <td>atom dont believ actual photo masturb sexual e...</td>\n",
       "    </tr>\n",
       "    <tr>\n",
       "      <th>3</th>\n",
       "      <td>You seem to have sand in your vagina.\\n\\nMight...</td>\n",
       "      <td>sand vagina want wash stink hole bitch</td>\n",
       "    </tr>\n",
       "    <tr>\n",
       "      <th>4</th>\n",
       "      <td>hey \\n\\nway to support nazis, you racist</td>\n",
       "      <td>hey way support nazi racist</td>\n",
       "    </tr>\n",
       "    <tr>\n",
       "      <th>...</th>\n",
       "      <td>...</td>\n",
       "      <td>...</td>\n",
       "    </tr>\n",
       "    <tr>\n",
       "      <th>30103</th>\n",
       "      <td>get out my large penis</td>\n",
       "      <td>larg peni</td>\n",
       "    </tr>\n",
       "    <tr>\n",
       "      <th>30104</th>\n",
       "      <td>get out my large penis</td>\n",
       "      <td>larg peni</td>\n",
       "    </tr>\n",
       "    <tr>\n",
       "      <th>30105</th>\n",
       "      <td>Piss off you slant eyed-gook</td>\n",
       "      <td>piss slant eyedgook</td>\n",
       "    </tr>\n",
       "    <tr>\n",
       "      <th>30106</th>\n",
       "      <td>Piss off you slant eyed-gook</td>\n",
       "      <td>piss slant eyedgook</td>\n",
       "    </tr>\n",
       "    <tr>\n",
       "      <th>30107</th>\n",
       "      <td>Piss off you slant eyed-gook</td>\n",
       "      <td>piss slant eyedgook</td>\n",
       "    </tr>\n",
       "  </tbody>\n",
       "</table>\n",
       "<p>30108 rows × 2 columns</p>\n",
       "</div>"
      ],
      "text/plain": [
       "                                              more_toxic  \\\n",
       "0      WHAT!!!!!!!!?!?!!?!?!!?!?!?!?!!!!!!!!!!!!!!!!!...   \n",
       "1       Daphne Guinness \\n\\nTop of the mornin' my fav...   \n",
       "2      \"Atom you don't believe actual photos of mastu...   \n",
       "3      You seem to have sand in your vagina.\\n\\nMight...   \n",
       "4               hey \\n\\nway to support nazis, you racist   \n",
       "...                                                  ...   \n",
       "30103                             get out my large penis   \n",
       "30104                             get out my large penis   \n",
       "30105                       Piss off you slant eyed-gook   \n",
       "30106                       Piss off you slant eyed-gook   \n",
       "30107                       Piss off you slant eyed-gook   \n",
       "\n",
       "                                        more_toxic_clean  \n",
       "0                           wher sexi pic gone main page  \n",
       "1      daphn guin mornin favourit alien life form im ...  \n",
       "2      atom dont believ actual photo masturb sexual e...  \n",
       "3                 sand vagina want wash stink hole bitch  \n",
       "4                            hey way support nazi racist  \n",
       "...                                                  ...  \n",
       "30103                                          larg peni  \n",
       "30104                                          larg peni  \n",
       "30105                                piss slant eyedgook  \n",
       "30106                                piss slant eyedgook  \n",
       "30107                                piss slant eyedgook  \n",
       "\n",
       "[30108 rows x 2 columns]"
      ]
     },
     "metadata": {},
     "output_type": "display_data"
    },
    {
     "data": {
      "text/html": [
       "<div>\n",
       "<style scoped>\n",
       "    .dataframe tbody tr th:only-of-type {\n",
       "        vertical-align: middle;\n",
       "    }\n",
       "\n",
       "    .dataframe tbody tr th {\n",
       "        vertical-align: top;\n",
       "    }\n",
       "\n",
       "    .dataframe thead th {\n",
       "        text-align: right;\n",
       "    }\n",
       "</style>\n",
       "<table border=\"1\" class=\"dataframe\">\n",
       "  <thead>\n",
       "    <tr style=\"text-align: right;\">\n",
       "      <th></th>\n",
       "      <th>text</th>\n",
       "      <th>text_clean</th>\n",
       "    </tr>\n",
       "  </thead>\n",
       "  <tbody>\n",
       "    <tr>\n",
       "      <th>0</th>\n",
       "      <td>\"\\n \\n\\nGjalexei, you asked about whether ther...</td>\n",
       "      <td>gjalexei ask antieditori polici call wikipedia...</td>\n",
       "    </tr>\n",
       "    <tr>\n",
       "      <th>1</th>\n",
       "      <td>Looks like be have an abuser , can you please ...</td>\n",
       "      <td>look like abus look thank</td>\n",
       "    </tr>\n",
       "    <tr>\n",
       "      <th>2</th>\n",
       "      <td>I confess to having complete (and apparently b...</td>\n",
       "      <td>confess have complet appar bliss ignor jordan ...</td>\n",
       "    </tr>\n",
       "    <tr>\n",
       "      <th>3</th>\n",
       "      <td>\"\\n\\nFreud's ideas are certainly much discusse...</td>\n",
       "      <td>freud idea certainli discus today agre grappl ...</td>\n",
       "    </tr>\n",
       "    <tr>\n",
       "      <th>4</th>\n",
       "      <td>It is not just you. This is a laundry list of ...</td>\n",
       "      <td>just laundri list stupid alleg scoop godknowsw...</td>\n",
       "    </tr>\n",
       "    <tr>\n",
       "      <th>...</th>\n",
       "      <td>...</td>\n",
       "      <td>...</td>\n",
       "    </tr>\n",
       "    <tr>\n",
       "      <th>7532</th>\n",
       "      <td>Go away, you annoying vandal.</td>\n",
       "      <td>away annoy vandal</td>\n",
       "    </tr>\n",
       "    <tr>\n",
       "      <th>7533</th>\n",
       "      <td>This user is a vandal.</td>\n",
       "      <td>user vandal</td>\n",
       "    </tr>\n",
       "    <tr>\n",
       "      <th>7534</th>\n",
       "      <td>\" \\n\\nSorry to sound like a pain, but one by f...</td>\n",
       "      <td>sorri sound like pain follow tad stalk honesti...</td>\n",
       "    </tr>\n",
       "    <tr>\n",
       "      <th>7535</th>\n",
       "      <td>Well it's pretty fucking irrelevant now I'm un...</td>\n",
       "      <td>pretti fuck irrelev im unblock aint</td>\n",
       "    </tr>\n",
       "    <tr>\n",
       "      <th>7536</th>\n",
       "      <td>The team name is Great Britain and Northern Ir...</td>\n",
       "      <td>team great britain northern ireland blind reve...</td>\n",
       "    </tr>\n",
       "  </tbody>\n",
       "</table>\n",
       "<p>7537 rows × 2 columns</p>\n",
       "</div>"
      ],
      "text/plain": [
       "                                                   text  \\\n",
       "0     \"\\n \\n\\nGjalexei, you asked about whether ther...   \n",
       "1     Looks like be have an abuser , can you please ...   \n",
       "2     I confess to having complete (and apparently b...   \n",
       "3     \"\\n\\nFreud's ideas are certainly much discusse...   \n",
       "4     It is not just you. This is a laundry list of ...   \n",
       "...                                                 ...   \n",
       "7532                      Go away, you annoying vandal.   \n",
       "7533                             This user is a vandal.   \n",
       "7534  \" \\n\\nSorry to sound like a pain, but one by f...   \n",
       "7535  Well it's pretty fucking irrelevant now I'm un...   \n",
       "7536  The team name is Great Britain and Northern Ir...   \n",
       "\n",
       "                                             text_clean  \n",
       "0     gjalexei ask antieditori polici call wikipedia...  \n",
       "1                             look like abus look thank  \n",
       "2     confess have complet appar bliss ignor jordan ...  \n",
       "3     freud idea certainli discus today agre grappl ...  \n",
       "4     just laundri list stupid alleg scoop godknowsw...  \n",
       "...                                                 ...  \n",
       "7532                                  away annoy vandal  \n",
       "7533                                        user vandal  \n",
       "7534  sorri sound like pain follow tad stalk honesti...  \n",
       "7535                pretti fuck irrelev im unblock aint  \n",
       "7536  team great britain northern ireland blind reve...  \n",
       "\n",
       "[7537 rows x 2 columns]"
      ]
     },
     "metadata": {},
     "output_type": "display_data"
    },
    {
     "data": {
      "text/html": [
       "<div>\n",
       "<style scoped>\n",
       "    .dataframe tbody tr th:only-of-type {\n",
       "        vertical-align: middle;\n",
       "    }\n",
       "\n",
       "    .dataframe tbody tr th {\n",
       "        vertical-align: top;\n",
       "    }\n",
       "\n",
       "    .dataframe thead th {\n",
       "        text-align: right;\n",
       "    }\n",
       "</style>\n",
       "<table border=\"1\" class=\"dataframe\">\n",
       "  <thead>\n",
       "    <tr style=\"text-align: right;\">\n",
       "      <th></th>\n",
       "      <th>text</th>\n",
       "      <th>text_clean</th>\n",
       "    </tr>\n",
       "  </thead>\n",
       "  <tbody>\n",
       "    <tr>\n",
       "      <th>0</th>\n",
       "      <td>\"\\r\\n\\r\\n A barnstar for you! \\r\\n\\r\\n  The De...</td>\n",
       "      <td>barnstar defend wiki barnstar like edit page l...</td>\n",
       "    </tr>\n",
       "    <tr>\n",
       "      <th>1</th>\n",
       "      <td>\"\\r\\n\\r\\nThis seems unbalanced.  whatever I ha...</td>\n",
       "      <td>unbalanc said mathsci said far extrem unpleas ...</td>\n",
       "    </tr>\n",
       "    <tr>\n",
       "      <th>2</th>\n",
       "      <td>Marya Dzmitruk was born in Minsk, Belarus in M...</td>\n",
       "      <td>born march mother born father born second chil...</td>\n",
       "    </tr>\n",
       "    <tr>\n",
       "      <th>3</th>\n",
       "      <td>\"\\r\\n\\r\\nTalkback\\r\\n\\r\\n Dear Celestia...  \"</td>\n",
       "      <td>talkback dear</td>\n",
       "    </tr>\n",
       "    <tr>\n",
       "      <th>4</th>\n",
       "      <td>New Categories \\r\\n\\r\\nI honestly think that w...</td>\n",
       "      <td>new categori honestli think need add categori ...</td>\n",
       "    </tr>\n",
       "    <tr>\n",
       "      <th>...</th>\n",
       "      <td>...</td>\n",
       "      <td>...</td>\n",
       "    </tr>\n",
       "    <tr>\n",
       "      <th>4995</th>\n",
       "      <td>\"\\r\\n\\r\\n Dildo, if you read my response corre...</td>\n",
       "      <td>dildo read respons correctli said go accus van...</td>\n",
       "    </tr>\n",
       "    <tr>\n",
       "      <th>4996</th>\n",
       "      <td>CALM DOWN, CALM DOWN, DON'T GET A BIG DICK</td>\n",
       "      <td>calm calm dont big dick</td>\n",
       "    </tr>\n",
       "    <tr>\n",
       "      <th>4997</th>\n",
       "      <td>In my opinion Dougweller is using his privileg...</td>\n",
       "      <td>opinion dougwel use privileg poorli person att...</td>\n",
       "    </tr>\n",
       "    <tr>\n",
       "      <th>4998</th>\n",
       "      <td>The style section has been expanded too. I did...</td>\n",
       "      <td>style section expand didnt rememb place tag</td>\n",
       "    </tr>\n",
       "    <tr>\n",
       "      <th>4999</th>\n",
       "      <td>ANY ONE THAT IS NOT AGREEMENT WITH YOU OR IS A...</td>\n",
       "      <td>agreement joe hazelton wack time rememb edit look</td>\n",
       "    </tr>\n",
       "  </tbody>\n",
       "</table>\n",
       "<p>5000 rows × 2 columns</p>\n",
       "</div>"
      ],
      "text/plain": [
       "                                                   text  \\\n",
       "0     \"\\r\\n\\r\\n A barnstar for you! \\r\\n\\r\\n  The De...   \n",
       "1     \"\\r\\n\\r\\nThis seems unbalanced.  whatever I ha...   \n",
       "2     Marya Dzmitruk was born in Minsk, Belarus in M...   \n",
       "3         \"\\r\\n\\r\\nTalkback\\r\\n\\r\\n Dear Celestia...  \"   \n",
       "4     New Categories \\r\\n\\r\\nI honestly think that w...   \n",
       "...                                                 ...   \n",
       "4995  \"\\r\\n\\r\\n Dildo, if you read my response corre...   \n",
       "4996         CALM DOWN, CALM DOWN, DON'T GET A BIG DICK   \n",
       "4997  In my opinion Dougweller is using his privileg...   \n",
       "4998  The style section has been expanded too. I did...   \n",
       "4999  ANY ONE THAT IS NOT AGREEMENT WITH YOU OR IS A...   \n",
       "\n",
       "                                             text_clean  \n",
       "0     barnstar defend wiki barnstar like edit page l...  \n",
       "1     unbalanc said mathsci said far extrem unpleas ...  \n",
       "2     born march mother born father born second chil...  \n",
       "3                                         talkback dear  \n",
       "4     new categori honestli think need add categori ...  \n",
       "...                                                 ...  \n",
       "4995  dildo read respons correctli said go accus van...  \n",
       "4996                            calm calm dont big dick  \n",
       "4997  opinion dougwel use privileg poorli person att...  \n",
       "4998        style section expand didnt rememb place tag  \n",
       "4999  agreement joe hazelton wack time rememb edit look  \n",
       "\n",
       "[5000 rows x 2 columns]"
      ]
     },
     "metadata": {},
     "output_type": "display_data"
    }
   ],
   "source": [
    "display(valid[['less_toxic', 'less_toxic_clean']])\n",
    "display(valid[['more_toxic', 'more_toxic_clean']])\n",
    "display(test[['text', 'text_clean']])\n",
    "display(wiki[['text', 'text_clean']])"
   ]
  },
  {
   "cell_type": "code",
   "execution_count": 12,
   "id": "fcdfcb60",
   "metadata": {
    "execution": {
     "iopub.execute_input": "2022-01-04T13:41:36.514900Z",
     "iopub.status.busy": "2022-01-04T13:41:36.514318Z",
     "iopub.status.idle": "2022-01-04T13:41:36.563778Z",
     "shell.execute_reply": "2022-01-04T13:41:36.563226Z",
     "shell.execute_reply.started": "2022-01-04T13:23:36.320637Z"
    },
    "papermill": {
     "duration": 0.081102,
     "end_time": "2022-01-04T13:41:36.563927",
     "exception": false,
     "start_time": "2022-01-04T13:41:36.482825",
     "status": "completed"
    },
    "tags": []
   },
   "outputs": [
    {
     "name": "stdout",
     "output_type": "stream",
     "text": [
      "1 / 7537\n",
      "21 / 30108\n",
      "21 / 30108\n",
      "12 / 5000\n"
     ]
    }
   ],
   "source": [
    "# クリーニングにより空文字列になった文字列を抽出\n",
    "print(sum(test['text_clean'].apply(lambda x: len(x)) == 0), '/', len(test))\n",
    "print(sum(valid['less_toxic_clean'].apply(lambda x: len(x)) == 0), '/', len(valid))\n",
    "print(sum(valid['more_toxic_clean'].apply(lambda x: len(x)) == 0), '/', len(valid))\n",
    "print(sum(wiki['text_clean'].apply(lambda x: len(x)) == 0), '/', len(wiki))"
   ]
  },
  {
   "cell_type": "code",
   "execution_count": 13,
   "id": "d7752a13",
   "metadata": {
    "execution": {
     "iopub.execute_input": "2022-01-04T13:41:36.635400Z",
     "iopub.status.busy": "2022-01-04T13:41:36.630454Z",
     "iopub.status.idle": "2022-01-04T13:41:36.679133Z",
     "shell.execute_reply": "2022-01-04T13:41:36.678569Z",
     "shell.execute_reply.started": "2022-01-04T13:23:55.354197Z"
    },
    "papermill": {
     "duration": 0.086287,
     "end_time": "2022-01-04T13:41:36.679283",
     "exception": false,
     "start_time": "2022-01-04T13:41:36.592996",
     "status": "completed"
    },
    "tags": []
   },
   "outputs": [],
   "source": [
    "# 空文字列の行を除く\n",
    "wiki['word_size'] = wiki['text_clean'].apply(lambda x: len(x))\n",
    "valid['less_toxic_size'] = valid['less_toxic_clean'].apply(lambda x: len(x))\n",
    "valid['more_toxic_size'] = valid['more_toxic_clean'].apply(lambda x: len(x))\n",
    "\n",
    "wiki = wiki.query('word_size != 0')\n",
    "valid = valid.query('less_toxic_size != 0 | more_toxic_size != 0')"
   ]
  },
  {
   "cell_type": "code",
   "execution_count": 14,
   "id": "9bd7c73f",
   "metadata": {
    "execution": {
     "iopub.execute_input": "2022-01-04T13:41:36.743893Z",
     "iopub.status.busy": "2022-01-04T13:41:36.742893Z",
     "iopub.status.idle": "2022-01-04T13:41:36.747206Z",
     "shell.execute_reply": "2022-01-04T13:41:36.747679Z",
     "shell.execute_reply.started": "2022-01-04T13:24:19.322967Z"
    },
    "papermill": {
     "duration": 0.040116,
     "end_time": "2022-01-04T13:41:36.747838",
     "exception": false,
     "start_time": "2022-01-04T13:41:36.707722",
     "status": "completed"
    },
    "tags": []
   },
   "outputs": [
    {
     "name": "stdout",
     "output_type": "stream",
     "text": [
      "advval_train_X shape: (12525,)\n",
      "advval_train_y shape: (12525,)\n"
     ]
    }
   ],
   "source": [
    "# preparing adversarial validation\n",
    "advval_train_X = pd.concat([wiki['text_clean'], test['text_clean']])\n",
    "advval_train_y = pd.concat([pd.Series(np.ones(wiki.shape[0])), pd.Series(np.zeros(test.shape[0]))])\n",
    "advval_valid_less_X = valid['less_toxic_clean']\n",
    "advval_valid_more_X = valid['more_toxic_clean']\n",
    "\n",
    "print(f'advval_train_X shape: {advval_train_X.shape}')\n",
    "print(f'advval_train_y shape: {advval_train_y.shape}')"
   ]
  },
  {
   "cell_type": "code",
   "execution_count": 15,
   "id": "30862aa3",
   "metadata": {
    "execution": {
     "iopub.execute_input": "2022-01-04T13:41:36.857423Z",
     "iopub.status.busy": "2022-01-04T13:41:36.852250Z",
     "iopub.status.idle": "2022-01-04T13:41:38.985445Z",
     "shell.execute_reply": "2022-01-04T13:41:38.985895Z",
     "shell.execute_reply.started": "2022-01-04T13:24:31.291120Z"
    },
    "papermill": {
     "duration": 2.209443,
     "end_time": "2022-01-04T13:41:38.986097",
     "exception": false,
     "start_time": "2022-01-04T13:41:36.776654",
     "status": "completed"
    },
    "tags": []
   },
   "outputs": [
    {
     "name": "stdout",
     "output_type": "stream",
     "text": [
      "feature extracting ...\n",
      "Total number of features: 7982\n",
      "CPU times: user 2.14 s, sys: 23.9 ms, total: 2.17 s\n",
      "Wall time: 2.17 s\n"
     ]
    }
   ],
   "source": [
    "%%time\n",
    "\n",
    "# 特徴抽出\n",
    "print(f'feature extracting ...')\n",
    "advval_tfidf = TfidfVectorizer(\n",
    "    stop_words=stop_words,\n",
    "    min_df=3,\n",
    "    max_df=0.5, \n",
    "    max_features=100_000,\n",
    "    analyzer='word',\n",
    "    ngram_range=(1, 1)\n",
    ")\n",
    "advval_train_X_tfidf = advval_tfidf.fit_transform(advval_train_X)\n",
    "advval_train_X_tfidf_feature_names = advval_tfidf.get_feature_names()\n",
    "advval_train_X_tfidf_vocab = advval_tfidf.vocabulary_\n",
    "advval_valid_less_X_tfidf = advval_tfidf.transform(advval_valid_less_X)\n",
    "advval_valid_more_X_tfidf = advval_tfidf.transform(advval_valid_more_X)\n",
    "\n",
    "print('Total number of features:', advval_train_X_tfidf.shape[1])"
   ]
  },
  {
   "cell_type": "code",
   "execution_count": 16,
   "id": "c7c059b4",
   "metadata": {
    "execution": {
     "iopub.execute_input": "2022-01-04T13:41:39.057728Z",
     "iopub.status.busy": "2022-01-04T13:41:39.055445Z",
     "iopub.status.idle": "2022-01-04T13:41:39.067330Z",
     "shell.execute_reply": "2022-01-04T13:41:39.066841Z",
     "shell.execute_reply.started": "2022-01-04T13:24:45.425621Z"
    },
    "papermill": {
     "duration": 0.052417,
     "end_time": "2022-01-04T13:41:39.067478",
     "exception": false,
     "start_time": "2022-01-04T13:41:39.015061",
     "status": "completed"
    },
    "tags": []
   },
   "outputs": [
    {
     "data": {
      "text/html": [
       "<div>\n",
       "<style scoped>\n",
       "    .dataframe tbody tr th:only-of-type {\n",
       "        vertical-align: middle;\n",
       "    }\n",
       "\n",
       "    .dataframe tbody tr th {\n",
       "        vertical-align: top;\n",
       "    }\n",
       "\n",
       "    .dataframe thead th {\n",
       "        text-align: right;\n",
       "    }\n",
       "</style>\n",
       "<table border=\"1\" class=\"dataframe\">\n",
       "  <thead>\n",
       "    <tr style=\"text-align: right;\">\n",
       "      <th></th>\n",
       "      <th>word</th>\n",
       "      <th>weight</th>\n",
       "    </tr>\n",
       "  </thead>\n",
       "  <tbody>\n",
       "    <tr>\n",
       "      <th>2309</th>\n",
       "      <td>epipelag</td>\n",
       "      <td>9.049267</td>\n",
       "    </tr>\n",
       "    <tr>\n",
       "      <th>1181</th>\n",
       "      <td>cinema</td>\n",
       "      <td>9.049267</td>\n",
       "    </tr>\n",
       "    <tr>\n",
       "      <th>2307</th>\n",
       "      <td>epfnot</td>\n",
       "      <td>9.049267</td>\n",
       "    </tr>\n",
       "    <tr>\n",
       "      <th>1962</th>\n",
       "      <td>disgruntl</td>\n",
       "      <td>9.049267</td>\n",
       "    </tr>\n",
       "    <tr>\n",
       "      <th>5084</th>\n",
       "      <td>pederast</td>\n",
       "      <td>9.049267</td>\n",
       "    </tr>\n",
       "    <tr>\n",
       "      <th>5085</th>\n",
       "      <td>pedest</td>\n",
       "      <td>9.049267</td>\n",
       "    </tr>\n",
       "    <tr>\n",
       "      <th>5087</th>\n",
       "      <td>pedigre</td>\n",
       "      <td>9.049267</td>\n",
       "    </tr>\n",
       "    <tr>\n",
       "      <th>3135</th>\n",
       "      <td>hasta</td>\n",
       "      <td>9.049267</td>\n",
       "    </tr>\n",
       "    <tr>\n",
       "      <th>3134</th>\n",
       "      <td>hast</td>\n",
       "      <td>9.049267</td>\n",
       "    </tr>\n",
       "    <tr>\n",
       "      <th>5097</th>\n",
       "      <td>peg</td>\n",
       "      <td>9.049267</td>\n",
       "    </tr>\n",
       "  </tbody>\n",
       "</table>\n",
       "</div>"
      ],
      "text/plain": [
       "           word    weight\n",
       "2309   epipelag  9.049267\n",
       "1181     cinema  9.049267\n",
       "2307     epfnot  9.049267\n",
       "1962  disgruntl  9.049267\n",
       "5084   pederast  9.049267\n",
       "5085     pedest  9.049267\n",
       "5087    pedigre  9.049267\n",
       "3135      hasta  9.049267\n",
       "3134       hast  9.049267\n",
       "5097        peg  9.049267"
      ]
     },
     "execution_count": 16,
     "metadata": {},
     "output_type": "execute_result"
    }
   ],
   "source": [
    "# idf ranking\n",
    "idf = {'word': advval_tfidf.get_feature_names(), 'weight': advval_tfidf.idf_}\n",
    "pd.DataFrame(idf).sort_values('weight', ascending=False).head(10)"
   ]
  },
  {
   "cell_type": "code",
   "execution_count": 17,
   "id": "66c1f386",
   "metadata": {
    "execution": {
     "iopub.execute_input": "2022-01-04T13:41:39.137824Z",
     "iopub.status.busy": "2022-01-04T13:41:39.136873Z",
     "iopub.status.idle": "2022-01-04T13:41:39.139902Z",
     "shell.execute_reply": "2022-01-04T13:41:39.139450Z",
     "shell.execute_reply.started": "2022-01-04T13:25:07.453988Z"
    },
    "papermill": {
     "duration": 0.04285,
     "end_time": "2022-01-04T13:41:39.140081",
     "exception": false,
     "start_time": "2022-01-04T13:41:39.097231",
     "status": "completed"
    },
    "tags": []
   },
   "outputs": [],
   "source": [
    "# adversarial validation\n",
    "def adversarial_validation(train_X, train_y, tfidf):\n",
    "\n",
    "    models = []\n",
    "    oof_train = np.zeros((train_X.shape[0],))\n",
    "    scores = []\n",
    "\n",
    "    stkf = StratifiedKFold(\n",
    "        n_splits=N_SPLITS, \n",
    "        shuffle=True,\n",
    "        random_state=None\n",
    "    )\n",
    "\n",
    "    # 交差検証\n",
    "    for fold_id, (train_idx, valid_idx) in enumerate(stkf.split(train_X, train_y)):\n",
    "        start = time.time()\n",
    "        print(f'* ' * 40)\n",
    "        print(f'fold_id: {fold_id}')\n",
    "\n",
    "        # 訓練データ、評価データ、テストデータを整形\n",
    "        print(f'preprocessing ...')\n",
    "        X_trn = train_X.iloc[train_idx].reset_index(drop=True)\n",
    "        X_val = train_X.iloc[valid_idx].reset_index(drop=True)\n",
    "        y_trn = train_y.iloc[train_idx].reset_index(drop=True)\n",
    "        y_val = train_y.iloc[valid_idx].reset_index(drop=True)\n",
    "\n",
    "        X_trn_tfidf = tfidf.transform(X_trn)\n",
    "        X_val_tfidf = tfidf.transform(X_val)\n",
    "\n",
    "        print('Total number of train samples:', X_trn_tfidf.shape[0])\n",
    "        print('Total number of valid samples:', X_val_tfidf.shape[0])\n",
    "\n",
    "        # 訓練\n",
    "        print(f'training ...')\n",
    "        clf = SGDClassifier(\n",
    "            loss='log', \n",
    "            class_weight='balanced',\n",
    "            max_iter=10000, \n",
    "            tol=1e-3, \n",
    "            n_jobs=-1\n",
    "        )\n",
    "\n",
    "        clf.fit(X_trn_tfidf, y_trn)\n",
    "\n",
    "        # 推論\n",
    "        print(f'predicting ...')\n",
    "        val_pred = clf.predict_proba(X_val_tfidf)[:, 1]\n",
    "        oof_train[valid_idx] = val_pred\n",
    "        models.append(clf)\n",
    "\n",
    "        # 評価\n",
    "        print(f'validation ...')\n",
    "        score_auc = roc_auc_score(y_val, val_pred)\n",
    "        scores.append(score_auc)\n",
    "        elapsed = time.time() - start\n",
    "        print(f'fold {fold_id} - score: {score_auc:.6f}, elapsed time: {elapsed:.2f} [sec]')\n",
    "\n",
    "    print(f'* ' * 40)\n",
    "    print(f'Average AUC: {sum(scores)/N_SPLITS:.6f}')\n",
    "    \n",
    "    return oof_train, models"
   ]
  },
  {
   "cell_type": "code",
   "execution_count": 18,
   "id": "2033699a",
   "metadata": {
    "execution": {
     "iopub.execute_input": "2022-01-04T13:41:39.205145Z",
     "iopub.status.busy": "2022-01-04T13:41:39.204504Z",
     "iopub.status.idle": "2022-01-04T13:41:41.299646Z",
     "shell.execute_reply": "2022-01-04T13:41:41.299127Z",
     "shell.execute_reply.started": "2022-01-04T13:25:18.253528Z"
    },
    "papermill": {
     "duration": 2.129683,
     "end_time": "2022-01-04T13:41:41.299785",
     "exception": false,
     "start_time": "2022-01-04T13:41:39.170102",
     "status": "completed"
    },
    "tags": []
   },
   "outputs": [
    {
     "name": "stdout",
     "output_type": "stream",
     "text": [
      "* * * * * * * * * * * * * * * * * * * * * * * * * * * * * * * * * * * * * * * * \n",
      "fold_id: 0\n",
      "preprocessing ...\n",
      "Total number of train samples: 10020\n",
      "Total number of valid samples: 2505\n",
      "training ...\n",
      "predicting ...\n",
      "validation ...\n",
      "fold 0 - score: 0.807980, elapsed time: 0.45 [sec]\n",
      "* * * * * * * * * * * * * * * * * * * * * * * * * * * * * * * * * * * * * * * * \n",
      "fold_id: 1\n",
      "preprocessing ...\n",
      "Total number of train samples: 10020\n",
      "Total number of valid samples: 2505\n",
      "training ...\n",
      "predicting ...\n",
      "validation ...\n",
      "fold 1 - score: 0.802875, elapsed time: 0.40 [sec]\n",
      "* * * * * * * * * * * * * * * * * * * * * * * * * * * * * * * * * * * * * * * * \n",
      "fold_id: 2\n",
      "preprocessing ...\n",
      "Total number of train samples: 10020\n",
      "Total number of valid samples: 2505\n",
      "training ...\n",
      "predicting ...\n",
      "validation ...\n",
      "fold 2 - score: 0.802632, elapsed time: 0.41 [sec]\n",
      "* * * * * * * * * * * * * * * * * * * * * * * * * * * * * * * * * * * * * * * * \n",
      "fold_id: 3\n",
      "preprocessing ...\n",
      "Total number of train samples: 10020\n",
      "Total number of valid samples: 2505\n",
      "training ...\n",
      "predicting ...\n",
      "validation ...\n",
      "fold 3 - score: 0.800247, elapsed time: 0.40 [sec]\n",
      "* * * * * * * * * * * * * * * * * * * * * * * * * * * * * * * * * * * * * * * * \n",
      "fold_id: 4\n",
      "preprocessing ...\n",
      "Total number of train samples: 10020\n",
      "Total number of valid samples: 2505\n",
      "training ...\n",
      "predicting ...\n",
      "validation ...\n",
      "fold 4 - score: 0.820205, elapsed time: 0.42 [sec]\n",
      "* * * * * * * * * * * * * * * * * * * * * * * * * * * * * * * * * * * * * * * * \n",
      "Average AUC: 0.806788\n",
      "CPU times: user 2.09 s, sys: 9.21 ms, total: 2.1 s\n",
      "Wall time: 2.09 s\n"
     ]
    }
   ],
   "source": [
    "%%time\n",
    "advval_oof_train, advval_models = adversarial_validation(advval_train_X, advval_train_y, advval_tfidf)"
   ]
  },
  {
   "cell_type": "markdown",
   "id": "bd480c2b",
   "metadata": {
    "papermill": {
     "duration": 0.030583,
     "end_time": "2022-01-04T13:41:41.361118",
     "exception": false,
     "start_time": "2022-01-04T13:41:41.330535",
     "status": "completed"
    },
    "tags": []
   },
   "source": [
    "Average AUC が 0.80 程度だと train と test を分離できそうな分類器ができたということ。すなわち、訓練データとテストデータの特徴量分布が異なることを意味している。いま、訓練データをラベル1、テストデータをラベル0としたので、スコアの低い訓練データを取り出すことで、テストデータに近い訓練データが手に入る。"
   ]
  },
  {
   "cell_type": "code",
   "execution_count": 19,
   "id": "1d05bd50",
   "metadata": {
    "execution": {
     "iopub.execute_input": "2022-01-04T13:41:41.448165Z",
     "iopub.status.busy": "2022-01-04T13:41:41.446449Z",
     "iopub.status.idle": "2022-01-04T13:41:41.769537Z",
     "shell.execute_reply": "2022-01-04T13:41:41.769052Z",
     "shell.execute_reply.started": "2022-01-04T13:25:44.966850Z"
    },
    "papermill": {
     "duration": 0.37775,
     "end_time": "2022-01-04T13:41:41.769672",
     "exception": false,
     "start_time": "2022-01-04T13:41:41.391922",
     "status": "completed"
    },
    "tags": []
   },
   "outputs": [
    {
     "data": {
      "image/png": "[encoded data removed]",
      "text/plain": [
       "<Figure size 432x288 with 1 Axes>"
      ]
     },
     "metadata": {
      "needs_background": "light"
     },
     "output_type": "display_data"
    }
   ],
   "source": [
    "# スコア分布\n",
    "plt.figure()\n",
    "plt.hist(advval_oof_train, alpha=.8, bins=100)\n",
    "plt.show()"
   ]
  },
  {
   "cell_type": "code",
   "execution_count": 20,
   "id": "d28c4550",
   "metadata": {
    "execution": {
     "iopub.execute_input": "2022-01-04T13:41:41.842595Z",
     "iopub.status.busy": "2022-01-04T13:41:41.841641Z",
     "iopub.status.idle": "2022-01-04T13:41:41.847302Z",
     "shell.execute_reply": "2022-01-04T13:41:41.847803Z",
     "shell.execute_reply.started": "2022-01-04T13:25:54.750321Z"
    },
    "papermill": {
     "duration": 0.046402,
     "end_time": "2022-01-04T13:41:41.847970",
     "exception": false,
     "start_time": "2022-01-04T13:41:41.801568",
     "status": "completed"
    },
    "tags": []
   },
   "outputs": [
    {
     "data": {
      "text/html": [
       "<div>\n",
       "<style scoped>\n",
       "    .dataframe tbody tr th:only-of-type {\n",
       "        vertical-align: middle;\n",
       "    }\n",
       "\n",
       "    .dataframe tbody tr th {\n",
       "        vertical-align: top;\n",
       "    }\n",
       "\n",
       "    .dataframe thead th {\n",
       "        text-align: right;\n",
       "    }\n",
       "</style>\n",
       "<table border=\"1\" class=\"dataframe\">\n",
       "  <thead>\n",
       "    <tr style=\"text-align: right;\">\n",
       "      <th></th>\n",
       "      <th>oof_train</th>\n",
       "      <th>y</th>\n",
       "    </tr>\n",
       "  </thead>\n",
       "  <tbody>\n",
       "    <tr>\n",
       "      <th>0</th>\n",
       "      <td>0.535892</td>\n",
       "      <td>1.0</td>\n",
       "    </tr>\n",
       "    <tr>\n",
       "      <th>1</th>\n",
       "      <td>0.253594</td>\n",
       "      <td>1.0</td>\n",
       "    </tr>\n",
       "    <tr>\n",
       "      <th>2</th>\n",
       "      <td>0.532726</td>\n",
       "      <td>1.0</td>\n",
       "    </tr>\n",
       "    <tr>\n",
       "      <th>3</th>\n",
       "      <td>0.596261</td>\n",
       "      <td>1.0</td>\n",
       "    </tr>\n",
       "    <tr>\n",
       "      <th>4</th>\n",
       "      <td>0.839055</td>\n",
       "      <td>1.0</td>\n",
       "    </tr>\n",
       "    <tr>\n",
       "      <th>...</th>\n",
       "      <td>...</td>\n",
       "      <td>...</td>\n",
       "    </tr>\n",
       "    <tr>\n",
       "      <th>7532</th>\n",
       "      <td>0.092254</td>\n",
       "      <td>0.0</td>\n",
       "    </tr>\n",
       "    <tr>\n",
       "      <th>7533</th>\n",
       "      <td>0.171198</td>\n",
       "      <td>0.0</td>\n",
       "    </tr>\n",
       "    <tr>\n",
       "      <th>7534</th>\n",
       "      <td>0.396426</td>\n",
       "      <td>0.0</td>\n",
       "    </tr>\n",
       "    <tr>\n",
       "      <th>7535</th>\n",
       "      <td>0.280104</td>\n",
       "      <td>0.0</td>\n",
       "    </tr>\n",
       "    <tr>\n",
       "      <th>7536</th>\n",
       "      <td>0.338406</td>\n",
       "      <td>0.0</td>\n",
       "    </tr>\n",
       "  </tbody>\n",
       "</table>\n",
       "<p>12525 rows × 2 columns</p>\n",
       "</div>"
      ],
      "text/plain": [
       "      oof_train    y\n",
       "0      0.535892  1.0\n",
       "1      0.253594  1.0\n",
       "2      0.532726  1.0\n",
       "3      0.596261  1.0\n",
       "4      0.839055  1.0\n",
       "...         ...  ...\n",
       "7532   0.092254  0.0\n",
       "7533   0.171198  0.0\n",
       "7534   0.396426  0.0\n",
       "7535   0.280104  0.0\n",
       "7536   0.338406  0.0\n",
       "\n",
       "[12525 rows x 2 columns]"
      ]
     },
     "execution_count": 20,
     "metadata": {},
     "output_type": "execute_result"
    }
   ],
   "source": [
    "advval_oof_train = pd.DataFrame({'oof_train': advval_oof_train, 'y': advval_train_y})\n",
    "advval_oof_train"
   ]
  },
  {
   "cell_type": "code",
   "execution_count": 21,
   "id": "220c3238",
   "metadata": {
    "execution": {
     "iopub.execute_input": "2022-01-04T13:41:41.917838Z",
     "iopub.status.busy": "2022-01-04T13:41:41.917246Z",
     "iopub.status.idle": "2022-01-04T13:41:41.926056Z",
     "shell.execute_reply": "2022-01-04T13:41:41.926582Z",
     "shell.execute_reply.started": "2022-01-04T13:26:10.374717Z"
    },
    "papermill": {
     "duration": 0.047399,
     "end_time": "2022-01-04T13:41:41.926736",
     "exception": false,
     "start_time": "2022-01-04T13:41:41.879337",
     "status": "completed"
    },
    "tags": []
   },
   "outputs": [
    {
     "data": {
      "text/html": [
       "<div>\n",
       "<style scoped>\n",
       "    .dataframe tbody tr th:only-of-type {\n",
       "        vertical-align: middle;\n",
       "    }\n",
       "\n",
       "    .dataframe tbody tr th {\n",
       "        vertical-align: top;\n",
       "    }\n",
       "\n",
       "    .dataframe thead th {\n",
       "        text-align: right;\n",
       "    }\n",
       "</style>\n",
       "<table border=\"1\" class=\"dataframe\">\n",
       "  <thead>\n",
       "    <tr style=\"text-align: right;\">\n",
       "      <th></th>\n",
       "      <th>oof_train</th>\n",
       "      <th>y</th>\n",
       "    </tr>\n",
       "  </thead>\n",
       "  <tbody>\n",
       "    <tr>\n",
       "      <th>1</th>\n",
       "      <td>0.253594</td>\n",
       "      <td>1.0</td>\n",
       "    </tr>\n",
       "    <tr>\n",
       "      <th>6</th>\n",
       "      <td>0.453026</td>\n",
       "      <td>1.0</td>\n",
       "    </tr>\n",
       "    <tr>\n",
       "      <th>7</th>\n",
       "      <td>0.181395</td>\n",
       "      <td>1.0</td>\n",
       "    </tr>\n",
       "    <tr>\n",
       "      <th>8</th>\n",
       "      <td>0.303109</td>\n",
       "      <td>1.0</td>\n",
       "    </tr>\n",
       "    <tr>\n",
       "      <th>12</th>\n",
       "      <td>0.416039</td>\n",
       "      <td>1.0</td>\n",
       "    </tr>\n",
       "    <tr>\n",
       "      <th>...</th>\n",
       "      <td>...</td>\n",
       "      <td>...</td>\n",
       "    </tr>\n",
       "    <tr>\n",
       "      <th>4980</th>\n",
       "      <td>0.445914</td>\n",
       "      <td>1.0</td>\n",
       "    </tr>\n",
       "    <tr>\n",
       "      <th>4982</th>\n",
       "      <td>0.445110</td>\n",
       "      <td>1.0</td>\n",
       "    </tr>\n",
       "    <tr>\n",
       "      <th>4983</th>\n",
       "      <td>0.092041</td>\n",
       "      <td>1.0</td>\n",
       "    </tr>\n",
       "    <tr>\n",
       "      <th>4984</th>\n",
       "      <td>0.299201</td>\n",
       "      <td>1.0</td>\n",
       "    </tr>\n",
       "    <tr>\n",
       "      <th>4985</th>\n",
       "      <td>0.402443</td>\n",
       "      <td>1.0</td>\n",
       "    </tr>\n",
       "  </tbody>\n",
       "</table>\n",
       "<p>1287 rows × 2 columns</p>\n",
       "</div>"
      ],
      "text/plain": [
       "      oof_train    y\n",
       "1      0.253594  1.0\n",
       "6      0.453026  1.0\n",
       "7      0.181395  1.0\n",
       "8      0.303109  1.0\n",
       "12     0.416039  1.0\n",
       "...         ...  ...\n",
       "4980   0.445914  1.0\n",
       "4982   0.445110  1.0\n",
       "4983   0.092041  1.0\n",
       "4984   0.299201  1.0\n",
       "4985   0.402443  1.0\n",
       "\n",
       "[1287 rows x 2 columns]"
      ]
     },
     "execution_count": 21,
     "metadata": {},
     "output_type": "execute_result"
    }
   ],
   "source": [
    "# 訓練データのうちテストデータに近いサンプルを抽出\n",
    "advval_oof_train.query('oof_train < 0.5 & y == 1')"
   ]
  },
  {
   "cell_type": "code",
   "execution_count": 22,
   "id": "4b1b814e",
   "metadata": {
    "execution": {
     "iopub.execute_input": "2022-01-04T13:41:41.993397Z",
     "iopub.status.busy": "2022-01-04T13:41:41.992813Z",
     "iopub.status.idle": "2022-01-04T13:41:42.000708Z",
     "shell.execute_reply": "2022-01-04T13:41:42.001336Z",
     "shell.execute_reply.started": "2022-01-04T13:26:26.621537Z"
    },
    "papermill": {
     "duration": 0.043239,
     "end_time": "2022-01-04T13:41:42.001795",
     "exception": false,
     "start_time": "2022-01-04T13:41:41.958556",
     "status": "completed"
    },
    "tags": []
   },
   "outputs": [
    {
     "name": "stdout",
     "output_type": "stream",
     "text": [
      "1287\n"
     ]
    }
   ],
   "source": [
    "advval_train_idx = advval_oof_train.query('oof_train < 0.5 & y == 1').index\n",
    "print(len(advval_train_idx))"
   ]
  },
  {
   "cell_type": "code",
   "execution_count": 23,
   "id": "2c03291e",
   "metadata": {
    "execution": {
     "iopub.execute_input": "2022-01-04T13:41:42.081951Z",
     "iopub.status.busy": "2022-01-04T13:41:42.081174Z",
     "iopub.status.idle": "2022-01-04T13:41:42.084222Z",
     "shell.execute_reply": "2022-01-04T13:41:42.084645Z",
     "shell.execute_reply.started": "2022-01-04T13:27:10.517519Z"
    },
    "papermill": {
     "duration": 0.04998,
     "end_time": "2022-01-04T13:41:42.084802",
     "exception": false,
     "start_time": "2022-01-04T13:41:42.034822",
     "status": "completed"
    },
    "tags": []
   },
   "outputs": [
    {
     "data": {
      "text/html": [
       "<div>\n",
       "<style scoped>\n",
       "    .dataframe tbody tr th:only-of-type {\n",
       "        vertical-align: middle;\n",
       "    }\n",
       "\n",
       "    .dataframe tbody tr th {\n",
       "        vertical-align: top;\n",
       "    }\n",
       "\n",
       "    .dataframe thead th {\n",
       "        text-align: right;\n",
       "    }\n",
       "</style>\n",
       "<table border=\"1\" class=\"dataframe\">\n",
       "  <thead>\n",
       "    <tr style=\"text-align: right;\">\n",
       "      <th></th>\n",
       "      <th>id</th>\n",
       "      <th>text</th>\n",
       "      <th>toxic</th>\n",
       "      <th>text_clean</th>\n",
       "      <th>word_size</th>\n",
       "    </tr>\n",
       "  </thead>\n",
       "  <tbody>\n",
       "    <tr>\n",
       "      <th>0</th>\n",
       "      <td>e617e2489abe9bca</td>\n",
       "      <td>\"\\r\\n\\r\\n A barnstar for you! \\r\\n\\r\\n  The De...</td>\n",
       "      <td>False</td>\n",
       "      <td>barnstar defend wiki barnstar like edit page l...</td>\n",
       "      <td>129</td>\n",
       "    </tr>\n",
       "    <tr>\n",
       "      <th>1</th>\n",
       "      <td>9250cf637294e09d</td>\n",
       "      <td>\"\\r\\n\\r\\nThis seems unbalanced.  whatever I ha...</td>\n",
       "      <td>False</td>\n",
       "      <td>unbalanc said mathsci said far extrem unpleas ...</td>\n",
       "      <td>457</td>\n",
       "    </tr>\n",
       "    <tr>\n",
       "      <th>2</th>\n",
       "      <td>ce1aa4592d5240ca</td>\n",
       "      <td>Marya Dzmitruk was born in Minsk, Belarus in M...</td>\n",
       "      <td>False</td>\n",
       "      <td>born march mother born father born second chil...</td>\n",
       "      <td>799</td>\n",
       "    </tr>\n",
       "    <tr>\n",
       "      <th>3</th>\n",
       "      <td>48105766ff7f075b</td>\n",
       "      <td>\"\\r\\n\\r\\nTalkback\\r\\n\\r\\n Dear Celestia...  \"</td>\n",
       "      <td>False</td>\n",
       "      <td>talkback dear</td>\n",
       "      <td>13</td>\n",
       "    </tr>\n",
       "    <tr>\n",
       "      <th>4</th>\n",
       "      <td>0543d4f82e5470b6</td>\n",
       "      <td>New Categories \\r\\n\\r\\nI honestly think that w...</td>\n",
       "      <td>False</td>\n",
       "      <td>new categori honestli think need add categori ...</td>\n",
       "      <td>190</td>\n",
       "    </tr>\n",
       "    <tr>\n",
       "      <th>...</th>\n",
       "      <td>...</td>\n",
       "      <td>...</td>\n",
       "      <td>...</td>\n",
       "      <td>...</td>\n",
       "      <td>...</td>\n",
       "    </tr>\n",
       "    <tr>\n",
       "      <th>4995</th>\n",
       "      <td>60229df7b48ba6ff</td>\n",
       "      <td>\"\\r\\n\\r\\n Dildo, if you read my response corre...</td>\n",
       "      <td>False</td>\n",
       "      <td>dildo read respons correctli said go accus van...</td>\n",
       "      <td>221</td>\n",
       "    </tr>\n",
       "    <tr>\n",
       "      <th>4996</th>\n",
       "      <td>36a645227572ec5c</td>\n",
       "      <td>CALM DOWN, CALM DOWN, DON'T GET A BIG DICK</td>\n",
       "      <td>True</td>\n",
       "      <td>calm calm dont big dick</td>\n",
       "      <td>23</td>\n",
       "    </tr>\n",
       "    <tr>\n",
       "      <th>4997</th>\n",
       "      <td>6d47fa39945ed6f5</td>\n",
       "      <td>In my opinion Dougweller is using his privileg...</td>\n",
       "      <td>False</td>\n",
       "      <td>opinion dougwel use privileg poorli person att...</td>\n",
       "      <td>90</td>\n",
       "    </tr>\n",
       "    <tr>\n",
       "      <th>4998</th>\n",
       "      <td>de2e4c0d38db6e30</td>\n",
       "      <td>The style section has been expanded too. I did...</td>\n",
       "      <td>False</td>\n",
       "      <td>style section expand didnt rememb place tag</td>\n",
       "      <td>43</td>\n",
       "    </tr>\n",
       "    <tr>\n",
       "      <th>4999</th>\n",
       "      <td>4cda24210a33ac35</td>\n",
       "      <td>ANY ONE THAT IS NOT AGREEMENT WITH YOU OR IS A...</td>\n",
       "      <td>False</td>\n",
       "      <td>agreement joe hazelton wack time rememb edit look</td>\n",
       "      <td>49</td>\n",
       "    </tr>\n",
       "  </tbody>\n",
       "</table>\n",
       "<p>4988 rows × 5 columns</p>\n",
       "</div>"
      ],
      "text/plain": [
       "                    id                                               text  \\\n",
       "0     e617e2489abe9bca  \"\\r\\n\\r\\n A barnstar for you! \\r\\n\\r\\n  The De...   \n",
       "1     9250cf637294e09d  \"\\r\\n\\r\\nThis seems unbalanced.  whatever I ha...   \n",
       "2     ce1aa4592d5240ca  Marya Dzmitruk was born in Minsk, Belarus in M...   \n",
       "3     48105766ff7f075b      \"\\r\\n\\r\\nTalkback\\r\\n\\r\\n Dear Celestia...  \"   \n",
       "4     0543d4f82e5470b6  New Categories \\r\\n\\r\\nI honestly think that w...   \n",
       "...                ...                                                ...   \n",
       "4995  60229df7b48ba6ff  \"\\r\\n\\r\\n Dildo, if you read my response corre...   \n",
       "4996  36a645227572ec5c         CALM DOWN, CALM DOWN, DON'T GET A BIG DICK   \n",
       "4997  6d47fa39945ed6f5  In my opinion Dougweller is using his privileg...   \n",
       "4998  de2e4c0d38db6e30  The style section has been expanded too. I did...   \n",
       "4999  4cda24210a33ac35  ANY ONE THAT IS NOT AGREEMENT WITH YOU OR IS A...   \n",
       "\n",
       "      toxic                                         text_clean  word_size  \n",
       "0     False  barnstar defend wiki barnstar like edit page l...        129  \n",
       "1     False  unbalanc said mathsci said far extrem unpleas ...        457  \n",
       "2     False  born march mother born father born second chil...        799  \n",
       "3     False                                      talkback dear         13  \n",
       "4     False  new categori honestli think need add categori ...        190  \n",
       "...     ...                                                ...        ...  \n",
       "4995  False  dildo read respons correctli said go accus van...        221  \n",
       "4996   True                            calm calm dont big dick         23  \n",
       "4997  False  opinion dougwel use privileg poorli person att...         90  \n",
       "4998  False        style section expand didnt rememb place tag         43  \n",
       "4999  False  agreement joe hazelton wack time rememb edit look         49  \n",
       "\n",
       "[4988 rows x 5 columns]"
      ]
     },
     "execution_count": 23,
     "metadata": {},
     "output_type": "execute_result"
    }
   ],
   "source": [
    "wiki"
   ]
  },
  {
   "cell_type": "code",
   "execution_count": 24,
   "id": "020eef39",
   "metadata": {
    "execution": {
     "iopub.execute_input": "2022-01-04T13:41:42.155337Z",
     "iopub.status.busy": "2022-01-04T13:41:42.154410Z",
     "iopub.status.idle": "2022-01-04T13:41:42.163103Z",
     "shell.execute_reply": "2022-01-04T13:41:42.163776Z",
     "shell.execute_reply.started": "2022-01-04T13:27:41.361398Z"
    },
    "papermill": {
     "duration": 0.045612,
     "end_time": "2022-01-04T13:41:42.164022",
     "exception": false,
     "start_time": "2022-01-04T13:41:42.118410",
     "status": "completed"
    },
    "tags": []
   },
   "outputs": [
    {
     "name": "stdout",
     "output_type": "stream",
     "text": [
      "main_train_X shape: (12525,)\n",
      "main_train_y shape: (12525,)\n",
      "main_valid_less_X shape: (30108,)\n",
      "main_valid_more_X shape: (30108,)\n"
     ]
    }
   ],
   "source": [
    "# preparing main training data\n",
    "main_train_X = wiki.iloc[advval_train_idx]['text_clean']\n",
    "main_train_y = wiki.iloc[advval_train_idx]['toxic'].astype(int)\n",
    "main_valid_less_X = valid['less_toxic_clean']\n",
    "main_valid_more_X = valid['more_toxic_clean']\n",
    "\n",
    "print(f'main_train_X shape: {advval_train_X.shape}')\n",
    "print(f'main_train_y shape: {advval_train_y.shape}')\n",
    "print(f'main_valid_less_X shape: {main_valid_less_X.shape}')\n",
    "print(f'main_valid_more_X shape: {main_valid_more_X.shape}')"
   ]
  },
  {
   "cell_type": "code",
   "execution_count": 25,
   "id": "9216fbd8",
   "metadata": {
    "execution": {
     "iopub.execute_input": "2022-01-04T13:41:42.267853Z",
     "iopub.status.busy": "2022-01-04T13:41:42.262150Z",
     "iopub.status.idle": "2022-01-04T13:41:43.948539Z",
     "shell.execute_reply": "2022-01-04T13:41:43.947960Z",
     "shell.execute_reply.started": "2022-01-04T13:28:29.037430Z"
    },
    "papermill": {
     "duration": 1.750548,
     "end_time": "2022-01-04T13:41:43.948671",
     "exception": false,
     "start_time": "2022-01-04T13:41:42.198123",
     "status": "completed"
    },
    "tags": []
   },
   "outputs": [
    {
     "name": "stdout",
     "output_type": "stream",
     "text": [
      "feature extracting ...\n",
      "Total number of features: 1667\n"
     ]
    }
   ],
   "source": [
    "# 特徴抽出\n",
    "print(f'feature extracting ...')\n",
    "main_tfidf = TfidfVectorizer(\n",
    "    stop_words=stop_words,\n",
    "    min_df=3,\n",
    "    max_df=0.5, \n",
    "    max_features=100_000,\n",
    "    analyzer='word',\n",
    "    ngram_range=(1, 1)\n",
    ")\n",
    "\n",
    "main_train_X_tfidf = main_tfidf.fit_transform(main_train_X)\n",
    "main_train_X_tfidf_feature_names = main_tfidf.get_feature_names()\n",
    "main_train_X_tfidf_vocab = main_tfidf.vocabulary_\n",
    "main_valid_less_X_tfidf = main_tfidf.transform(main_valid_less_X)\n",
    "main_valid_more_X_tfidf = main_tfidf.transform(main_valid_more_X)\n",
    "\n",
    "print('Total number of features:', main_train_X_tfidf.shape[1])"
   ]
  },
  {
   "cell_type": "code",
   "execution_count": 26,
   "id": "5b87ecd2",
   "metadata": {
    "execution": {
     "iopub.execute_input": "2022-01-04T13:41:44.030423Z",
     "iopub.status.busy": "2022-01-04T13:41:44.024625Z",
     "iopub.status.idle": "2022-01-04T13:41:44.034215Z",
     "shell.execute_reply": "2022-01-04T13:41:44.033564Z",
     "shell.execute_reply.started": "2022-01-04T13:28:36.930816Z"
    },
    "papermill": {
     "duration": 0.051399,
     "end_time": "2022-01-04T13:41:44.034364",
     "exception": false,
     "start_time": "2022-01-04T13:41:43.982965",
     "status": "completed"
    },
    "tags": []
   },
   "outputs": [
    {
     "data": {
      "text/html": [
       "<div>\n",
       "<style scoped>\n",
       "    .dataframe tbody tr th:only-of-type {\n",
       "        vertical-align: middle;\n",
       "    }\n",
       "\n",
       "    .dataframe tbody tr th {\n",
       "        vertical-align: top;\n",
       "    }\n",
       "\n",
       "    .dataframe thead th {\n",
       "        text-align: right;\n",
       "    }\n",
       "</style>\n",
       "<table border=\"1\" class=\"dataframe\">\n",
       "  <thead>\n",
       "    <tr style=\"text-align: right;\">\n",
       "      <th></th>\n",
       "      <th>word</th>\n",
       "      <th>weight</th>\n",
       "    </tr>\n",
       "  </thead>\n",
       "  <tbody>\n",
       "    <tr>\n",
       "      <th>1108</th>\n",
       "      <td>politician</td>\n",
       "      <td>6.774552</td>\n",
       "    </tr>\n",
       "    <tr>\n",
       "      <th>464</th>\n",
       "      <td>east</td>\n",
       "      <td>6.774552</td>\n",
       "    </tr>\n",
       "    <tr>\n",
       "      <th>1086</th>\n",
       "      <td>photo</td>\n",
       "      <td>6.774552</td>\n",
       "    </tr>\n",
       "    <tr>\n",
       "      <th>455</th>\n",
       "      <td>dublin</td>\n",
       "      <td>6.774552</td>\n",
       "    </tr>\n",
       "    <tr>\n",
       "      <th>274</th>\n",
       "      <td>cold</td>\n",
       "      <td>6.774552</td>\n",
       "    </tr>\n",
       "    <tr>\n",
       "      <th>1096</th>\n",
       "      <td>planet</td>\n",
       "      <td>6.774552</td>\n",
       "    </tr>\n",
       "    <tr>\n",
       "      <th>270</th>\n",
       "      <td>club</td>\n",
       "      <td>6.774552</td>\n",
       "    </tr>\n",
       "    <tr>\n",
       "      <th>458</th>\n",
       "      <td>dumbass</td>\n",
       "      <td>6.774552</td>\n",
       "    </tr>\n",
       "    <tr>\n",
       "      <th>1101</th>\n",
       "      <td>plot</td>\n",
       "      <td>6.774552</td>\n",
       "    </tr>\n",
       "    <tr>\n",
       "      <th>1103</th>\n",
       "      <td>pointless</td>\n",
       "      <td>6.774552</td>\n",
       "    </tr>\n",
       "  </tbody>\n",
       "</table>\n",
       "</div>"
      ],
      "text/plain": [
       "            word    weight\n",
       "1108  politician  6.774552\n",
       "464         east  6.774552\n",
       "1086       photo  6.774552\n",
       "455       dublin  6.774552\n",
       "274         cold  6.774552\n",
       "1096      planet  6.774552\n",
       "270         club  6.774552\n",
       "458      dumbass  6.774552\n",
       "1101        plot  6.774552\n",
       "1103   pointless  6.774552"
      ]
     },
     "execution_count": 26,
     "metadata": {},
     "output_type": "execute_result"
    }
   ],
   "source": [
    "# idf ranking\n",
    "idf = {'word': main_tfidf.get_feature_names(), 'weight': main_tfidf.idf_}\n",
    "pd.DataFrame(idf).sort_values('weight', ascending=False).head(10)"
   ]
  },
  {
   "cell_type": "code",
   "execution_count": 27,
   "id": "6e435ffe",
   "metadata": {
    "execution": {
     "iopub.execute_input": "2022-01-04T13:41:44.106848Z",
     "iopub.status.busy": "2022-01-04T13:41:44.106223Z",
     "iopub.status.idle": "2022-01-04T13:41:44.115841Z",
     "shell.execute_reply": "2022-01-04T13:41:44.116318Z",
     "shell.execute_reply.started": "2022-01-04T13:35:23.151311Z"
    },
    "papermill": {
     "duration": 0.04677,
     "end_time": "2022-01-04T13:41:44.116478",
     "exception": false,
     "start_time": "2022-01-04T13:41:44.069708",
     "status": "completed"
    },
    "tags": []
   },
   "outputs": [],
   "source": [
    "# main\n",
    "def main_training(train_X, train_y, tfidf):\n",
    "\n",
    "    models = []\n",
    "    oof_train = np.zeros((train_X.shape[0],))\n",
    "    scores = []\n",
    "\n",
    "    kf = KFold(\n",
    "        n_splits=N_SPLITS, \n",
    "        shuffle=True,\n",
    "        random_state=None\n",
    "    )\n",
    "\n",
    "    # 交差検証\n",
    "    for fold_id, (train_idx, valid_idx) in enumerate(kf.split(train_X, train_y)):\n",
    "        start = time.time()\n",
    "        print(f'* ' * 40)\n",
    "        print(f'fold_id: {fold_id}')\n",
    "\n",
    "        # 訓練データ、評価データ、テストデータを整形\n",
    "        print(f'preprocessing ...')\n",
    "        X_trn = train_X.iloc[train_idx].reset_index(drop=True)\n",
    "        X_val = train_X.iloc[valid_idx].reset_index(drop=True)\n",
    "        y_trn = train_y.iloc[train_idx].reset_index(drop=True)\n",
    "        y_val = train_y.iloc[valid_idx].reset_index(drop=True)\n",
    "\n",
    "        X_trn_tfidf = tfidf.transform(X_trn)\n",
    "        X_val_tfidf = tfidf.transform(X_val)\n",
    "\n",
    "        print('Total number of train samples:', X_trn_tfidf.shape[0])\n",
    "        print('Total number of valid samples:', X_val_tfidf.shape[0])\n",
    "\n",
    "        # 訓練\n",
    "        print(f'training ...')\n",
    "        clf = MultinomialNB()\n",
    "        clf.fit(X_trn_tfidf, y_trn)\n",
    "\n",
    "        # 推論\n",
    "        print(f'predicting ...')\n",
    "        val_pred = clf.predict_proba(X_val_tfidf)[:, 1]\n",
    "        oof_train[valid_idx] = val_pred\n",
    "        models.append(clf)\n",
    "\n",
    "        # 評価\n",
    "        print(f'validation ...')\n",
    "        score_auc = roc_auc_score(y_val, val_pred)\n",
    "        scores.append(score_auc)\n",
    "        elapsed = time.time() - start\n",
    "        print(f'fold {fold_id} - score: {score_auc:.6f}, elapsed time: {elapsed:.2f} [sec]')\n",
    "\n",
    "    print(f'* ' * 40)\n",
    "    print(f'Average AUC: {sum(scores)/N_SPLITS:.6f}')\n",
    "    \n",
    "    return oof_train, models"
   ]
  },
  {
   "cell_type": "code",
   "execution_count": 28,
   "id": "772961af",
   "metadata": {
    "execution": {
     "iopub.execute_input": "2022-01-04T13:41:44.188788Z",
     "iopub.status.busy": "2022-01-04T13:41:44.188232Z",
     "iopub.status.idle": "2022-01-04T13:41:44.399181Z",
     "shell.execute_reply": "2022-01-04T13:41:44.399604Z",
     "shell.execute_reply.started": "2022-01-04T13:35:24.260421Z"
    },
    "papermill": {
     "duration": 0.24895,
     "end_time": "2022-01-04T13:41:44.399774",
     "exception": false,
     "start_time": "2022-01-04T13:41:44.150824",
     "status": "completed"
    },
    "tags": []
   },
   "outputs": [
    {
     "name": "stdout",
     "output_type": "stream",
     "text": [
      "* * * * * * * * * * * * * * * * * * * * * * * * * * * * * * * * * * * * * * * * \n",
      "fold_id: 0\n",
      "preprocessing ...\n",
      "Total number of train samples: 1029\n",
      "Total number of valid samples: 258\n",
      "training ...\n",
      "predicting ...\n",
      "validation ...\n",
      "fold 0 - score: 0.847041, elapsed time: 0.04 [sec]\n",
      "* * * * * * * * * * * * * * * * * * * * * * * * * * * * * * * * * * * * * * * * \n",
      "fold_id: 1\n",
      "preprocessing ...\n",
      "Total number of train samples: 1029\n",
      "Total number of valid samples: 258\n",
      "training ...\n",
      "predicting ...\n",
      "validation ...\n",
      "fold 1 - score: 0.899691, elapsed time: 0.04 [sec]\n",
      "* * * * * * * * * * * * * * * * * * * * * * * * * * * * * * * * * * * * * * * * \n",
      "fold_id: 2\n",
      "preprocessing ...\n",
      "Total number of train samples: 1030\n",
      "Total number of valid samples: 257\n",
      "training ...\n",
      "predicting ...\n",
      "validation ...\n",
      "fold 2 - score: 0.853395, elapsed time: 0.04 [sec]\n",
      "* * * * * * * * * * * * * * * * * * * * * * * * * * * * * * * * * * * * * * * * \n",
      "fold_id: 3\n",
      "preprocessing ...\n",
      "Total number of train samples: 1030\n",
      "Total number of valid samples: 257\n",
      "training ...\n",
      "predicting ...\n",
      "validation ...\n",
      "fold 3 - score: 0.852065, elapsed time: 0.04 [sec]\n",
      "* * * * * * * * * * * * * * * * * * * * * * * * * * * * * * * * * * * * * * * * \n",
      "fold_id: 4\n",
      "preprocessing ...\n",
      "Total number of train samples: 1030\n",
      "Total number of valid samples: 257\n",
      "training ...\n",
      "predicting ...\n",
      "validation ...\n",
      "fold 4 - score: 0.817460, elapsed time: 0.04 [sec]\n",
      "* * * * * * * * * * * * * * * * * * * * * * * * * * * * * * * * * * * * * * * * \n",
      "Average AUC: 0.853930\n",
      "CPU times: user 202 ms, sys: 5.04 ms, total: 207 ms\n",
      "Wall time: 205 ms\n"
     ]
    }
   ],
   "source": [
    "%%time\n",
    "main_oof_train, main_models = main_training(main_train_X, main_train_y, main_tfidf)"
   ]
  },
  {
   "cell_type": "code",
   "execution_count": 29,
   "id": "48875dfe",
   "metadata": {
    "execution": {
     "iopub.execute_input": "2022-01-04T13:41:44.475542Z",
     "iopub.status.busy": "2022-01-04T13:41:44.474648Z",
     "iopub.status.idle": "2022-01-04T13:41:44.790547Z",
     "shell.execute_reply": "2022-01-04T13:41:44.790054Z",
     "shell.execute_reply.started": "2022-01-04T13:35:39.399629Z"
    },
    "papermill": {
     "duration": 0.355843,
     "end_time": "2022-01-04T13:41:44.790677",
     "exception": false,
     "start_time": "2022-01-04T13:41:44.434834",
     "status": "completed"
    },
    "tags": []
   },
   "outputs": [
    {
     "data": {
      "image/png": "[encoded data removed]",
      "text/plain": [
       "<Figure size 432x288 with 1 Axes>"
      ]
     },
     "metadata": {
      "needs_background": "light"
     },
     "output_type": "display_data"
    }
   ],
   "source": [
    "# スコア分布\n",
    "plt.figure()\n",
    "plt.hist(main_oof_train, alpha=.8, bins=100)\n",
    "plt.show()"
   ]
  },
  {
   "cell_type": "code",
   "execution_count": 30,
   "id": "af8f2e56",
   "metadata": {
    "execution": {
     "iopub.execute_input": "2022-01-04T13:41:44.866831Z",
     "iopub.status.busy": "2022-01-04T13:41:44.865836Z",
     "iopub.status.idle": "2022-01-04T13:41:44.964305Z",
     "shell.execute_reply": "2022-01-04T13:41:44.963391Z",
     "shell.execute_reply.started": "2022-01-04T13:40:23.765918Z"
    },
    "papermill": {
     "duration": 0.139122,
     "end_time": "2022-01-04T13:41:44.964493",
     "exception": false,
     "start_time": "2022-01-04T13:41:44.825371",
     "status": "completed"
    },
    "tags": []
   },
   "outputs": [
    {
     "name": "stdout",
     "output_type": "stream",
     "text": [
      "18799 / 30108\n"
     ]
    }
   ],
   "source": [
    "# adversarial validation によりテストデータに近い評価データを作成\n",
    "advval_score_valid_less_toxic = np.array([clf.predict_proba(advval_valid_less_X_tfidf)[:, 1] for clf in advval_models]).sum(axis=0) / N_SPLITS\n",
    "advval_score_valid_more_toxic = np.array([clf.predict_proba(advval_valid_more_X_tfidf)[:, 1] for clf in advval_models]).sum(axis=0) / N_SPLITS\n",
    "\n",
    "test_like_valid_idx = (advval_score_valid_less_toxic < 0.5) & (advval_score_valid_more_toxic < 0.5)\n",
    "print(sum(test_like_valid_idx), '/', len(test_like_valid_idx))"
   ]
  },
  {
   "cell_type": "code",
   "execution_count": 31,
   "id": "a80f8af4",
   "metadata": {
    "execution": {
     "iopub.execute_input": "2022-01-04T13:41:45.045422Z",
     "iopub.status.busy": "2022-01-04T13:41:45.038173Z",
     "iopub.status.idle": "2022-01-04T13:41:45.093727Z",
     "shell.execute_reply": "2022-01-04T13:41:45.092896Z",
     "shell.execute_reply.started": "2022-01-04T13:40:25.043307Z"
    },
    "papermill": {
     "duration": 0.094002,
     "end_time": "2022-01-04T13:41:45.093964",
     "exception": false,
     "start_time": "2022-01-04T13:41:44.999962",
     "status": "completed"
    },
    "tags": []
   },
   "outputs": [
    {
     "name": "stdout",
     "output_type": "stream",
     "text": [
      "0.668919\n"
     ]
    }
   ],
   "source": [
    "# validation score\n",
    "preds_less_toxic = np.array([clf.predict_proba(main_valid_less_X_tfidf[test_like_valid_idx])[:, 1] for clf in main_models]).sum(axis=0)\n",
    "preds_more_toxic = np.array([clf.predict_proba(main_valid_more_X_tfidf[test_like_valid_idx])[:, 1] for clf in main_models]).sum(axis=0)\n",
    "\n",
    "print(f'{(preds_less_toxic < preds_more_toxic).mean():.6f}')"
   ]
  },
  {
   "cell_type": "code",
   "execution_count": 32,
   "id": "4dcd1765",
   "metadata": {
    "execution": {
     "iopub.execute_input": "2022-01-04T13:41:45.169053Z",
     "iopub.status.busy": "2022-01-04T13:41:45.168460Z",
     "iopub.status.idle": "2022-01-04T13:41:45.407489Z",
     "shell.execute_reply": "2022-01-04T13:41:45.407969Z",
     "shell.execute_reply.started": "2022-01-04T13:40:25.944145Z"
    },
    "papermill": {
     "duration": 0.277939,
     "end_time": "2022-01-04T13:41:45.408151",
     "exception": false,
     "start_time": "2022-01-04T13:41:45.130212",
     "status": "completed"
    },
    "tags": []
   },
   "outputs": [
    {
     "data": {
      "text/html": [
       "<div>\n",
       "<style scoped>\n",
       "    .dataframe tbody tr th:only-of-type {\n",
       "        vertical-align: middle;\n",
       "    }\n",
       "\n",
       "    .dataframe tbody tr th {\n",
       "        vertical-align: top;\n",
       "    }\n",
       "\n",
       "    .dataframe thead th {\n",
       "        text-align: right;\n",
       "    }\n",
       "</style>\n",
       "<table border=\"1\" class=\"dataframe\">\n",
       "  <thead>\n",
       "    <tr style=\"text-align: right;\">\n",
       "      <th></th>\n",
       "      <th>count</th>\n",
       "      <th>mean</th>\n",
       "      <th>std</th>\n",
       "      <th>min</th>\n",
       "      <th>25%</th>\n",
       "      <th>50%</th>\n",
       "      <th>75%</th>\n",
       "      <th>max</th>\n",
       "    </tr>\n",
       "  </thead>\n",
       "  <tbody>\n",
       "    <tr>\n",
       "      <th>0</th>\n",
       "      <td>7537.0</td>\n",
       "      <td>0.296468</td>\n",
       "      <td>0.217014</td>\n",
       "      <td>0.010645</td>\n",
       "      <td>0.140411</td>\n",
       "      <td>0.22931</td>\n",
       "      <td>0.384966</td>\n",
       "      <td>0.983911</td>\n",
       "    </tr>\n",
       "  </tbody>\n",
       "</table>\n",
       "</div>"
      ],
      "text/plain": [
       "    count      mean       std       min       25%      50%       75%       max\n",
       "0  7537.0  0.296468  0.217014  0.010645  0.140411  0.22931  0.384966  0.983911"
      ]
     },
     "execution_count": 32,
     "metadata": {},
     "output_type": "execute_result"
    }
   ],
   "source": [
    "test_X_tfidf = main_tfidf.transform(test['text_clean'])\n",
    "preds_test = np.array([clf.predict_proba(test_X_tfidf)[:, 1] for clf in main_models]).sum(axis=0) / N_SPLITS\n",
    "submission['score'] = preds_test\n",
    "\n",
    "pd.DataFrame(pd.Series(submission['score'].ravel()).describe()).transpose()"
   ]
  },
  {
   "cell_type": "code",
   "execution_count": 33,
   "id": "63727a32",
   "metadata": {
    "execution": {
     "iopub.execute_input": "2022-01-04T13:41:45.482919Z",
     "iopub.status.busy": "2022-01-04T13:41:45.482361Z",
     "iopub.status.idle": "2022-01-04T13:41:45.515409Z",
     "shell.execute_reply": "2022-01-04T13:41:45.514571Z",
     "shell.execute_reply.started": "2022-01-04T13:40:27.446462Z"
    },
    "papermill": {
     "duration": 0.071527,
     "end_time": "2022-01-04T13:41:45.515571",
     "exception": false,
     "start_time": "2022-01-04T13:41:45.444044",
     "status": "completed"
    },
    "tags": []
   },
   "outputs": [
    {
     "data": {
      "text/html": [
       "<div>\n",
       "<style scoped>\n",
       "    .dataframe tbody tr th:only-of-type {\n",
       "        vertical-align: middle;\n",
       "    }\n",
       "\n",
       "    .dataframe tbody tr th {\n",
       "        vertical-align: top;\n",
       "    }\n",
       "\n",
       "    .dataframe thead th {\n",
       "        text-align: right;\n",
       "    }\n",
       "</style>\n",
       "<table border=\"1\" class=\"dataframe\">\n",
       "  <thead>\n",
       "    <tr style=\"text-align: right;\">\n",
       "      <th></th>\n",
       "      <th>comment_id</th>\n",
       "      <th>score</th>\n",
       "    </tr>\n",
       "  </thead>\n",
       "  <tbody>\n",
       "    <tr>\n",
       "      <th>0</th>\n",
       "      <td>114890</td>\n",
       "      <td>0.049381</td>\n",
       "    </tr>\n",
       "    <tr>\n",
       "      <th>1</th>\n",
       "      <td>732895</td>\n",
       "      <td>0.131463</td>\n",
       "    </tr>\n",
       "    <tr>\n",
       "      <th>2</th>\n",
       "      <td>1139051</td>\n",
       "      <td>0.139107</td>\n",
       "    </tr>\n",
       "    <tr>\n",
       "      <th>3</th>\n",
       "      <td>1434512</td>\n",
       "      <td>0.142202</td>\n",
       "    </tr>\n",
       "    <tr>\n",
       "      <th>4</th>\n",
       "      <td>2084821</td>\n",
       "      <td>0.400246</td>\n",
       "    </tr>\n",
       "    <tr>\n",
       "      <th>...</th>\n",
       "      <td>...</td>\n",
       "      <td>...</td>\n",
       "    </tr>\n",
       "    <tr>\n",
       "      <th>7532</th>\n",
       "      <td>504235362</td>\n",
       "      <td>0.114169</td>\n",
       "    </tr>\n",
       "    <tr>\n",
       "      <th>7533</th>\n",
       "      <td>504235566</td>\n",
       "      <td>0.082823</td>\n",
       "    </tr>\n",
       "    <tr>\n",
       "      <th>7534</th>\n",
       "      <td>504308177</td>\n",
       "      <td>0.065223</td>\n",
       "    </tr>\n",
       "    <tr>\n",
       "      <th>7535</th>\n",
       "      <td>504570375</td>\n",
       "      <td>0.437727</td>\n",
       "    </tr>\n",
       "    <tr>\n",
       "      <th>7536</th>\n",
       "      <td>504598250</td>\n",
       "      <td>0.210841</td>\n",
       "    </tr>\n",
       "  </tbody>\n",
       "</table>\n",
       "<p>7537 rows × 2 columns</p>\n",
       "</div>"
      ],
      "text/plain": [
       "      comment_id     score\n",
       "0         114890  0.049381\n",
       "1         732895  0.131463\n",
       "2        1139051  0.139107\n",
       "3        1434512  0.142202\n",
       "4        2084821  0.400246\n",
       "...          ...       ...\n",
       "7532   504235362  0.114169\n",
       "7533   504235566  0.082823\n",
       "7534   504308177  0.065223\n",
       "7535   504570375  0.437727\n",
       "7536   504598250  0.210841\n",
       "\n",
       "[7537 rows x 2 columns]"
      ]
     },
     "execution_count": 33,
     "metadata": {},
     "output_type": "execute_result"
    }
   ],
   "source": [
    "submission.to_csv('submission.csv', index=False)\n",
    "submission"
   ]
  }
 ],
 "metadata": {
  "kernelspec": {
   "display_name": "Python 3",
   "language": "python",
   "name": "python3"
  },
  "language_info": {
   "codemirror_mode": {
    "name": "ipython",
    "version": 3
   },
   "file_extension": ".py",
   "mimetype": "text/x-python",
   "name": "python",
   "nbconvert_exporter": "python",
   "pygments_lexer": "ipython3",
   "version": "3.7.12"
  },
  "papermill": {
   "default_parameters": {},
   "duration": 50.469147,
   "end_time": "2022-01-04T13:41:46.463100",
   "environment_variables": {},
   "exception": null,
   "input_path": "__notebook__.ipynb",
   "output_path": "__notebook__.ipynb",
   "parameters": {},
   "start_time": "2022-01-04T13:40:55.993953",
   "version": "2.3.3"
  }
 },
 "nbformat": 4,
 "nbformat_minor": 5
}
