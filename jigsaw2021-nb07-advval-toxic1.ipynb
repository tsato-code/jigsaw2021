{
 "cells": [
  {
   "cell_type": "markdown",
   "id": "3d4d9177",
   "metadata": {
    "papermill": {
     "duration": 0.027363,
     "end_time": "2022-01-03T16:03:25.618116",
     "exception": false,
     "start_time": "2022-01-03T16:03:25.590753",
     "status": "completed"
    },
    "tags": []
   },
   "source": [
    "# Overview\n",
    "\n",
    "- EDA\n",
    "- sample/feature selection\n",
    "- baseline model\n",
    "- validation\n",
    "- submit\n",
    "\n",
    "【基本の考え方】\n",
    "- Private LB がテストデータで評価されるため、テストデータに基づいてクリーニング、特徴量選択、訓練データの選択、を行う。\n",
    "- nb06 のデータセットを変えたバージョンをつくる。"
   ]
  },
  {
   "cell_type": "code",
   "execution_count": 1,
   "id": "6c17bf6f",
   "metadata": {
    "_cell_guid": "b1076dfc-b9ad-4769-8c92-a6c4dae69d19",
    "_uuid": "8f2839f25d086af736a60e9eeb907d3b93b6e0e5",
    "execution": {
     "iopub.execute_input": "2022-01-03T16:03:25.683480Z",
     "iopub.status.busy": "2022-01-03T16:03:25.680791Z",
     "iopub.status.idle": "2022-01-03T16:03:25.693582Z",
     "shell.execute_reply": "2022-01-03T16:03:25.694054Z",
     "shell.execute_reply.started": "2022-01-03T15:48:08.178277Z"
    },
    "papermill": {
     "duration": 0.049947,
     "end_time": "2022-01-03T16:03:25.694305",
     "exception": false,
     "start_time": "2022-01-03T16:03:25.644358",
     "status": "completed"
    },
    "tags": []
   },
   "outputs": [
    {
     "name": "stdout",
     "output_type": "stream",
     "text": [
      "/kaggle/input/jigsaw-toxic-comment-classification-challenge/sample_submission.csv\n",
      "/kaggle/input/jigsaw-toxic-comment-classification-challenge/test_labels.csv\n",
      "/kaggle/input/jigsaw-toxic-comment-classification-challenge/train.csv\n",
      "/kaggle/input/jigsaw-toxic-comment-classification-challenge/test.csv\n",
      "/kaggle/input/jigsaw-toxic-severity-rating/sample_submission.csv\n",
      "/kaggle/input/jigsaw-toxic-severity-rating/validation_data.csv\n",
      "/kaggle/input/jigsaw-toxic-severity-rating/comments_to_score.csv\n"
     ]
    }
   ],
   "source": [
    "# Directories\n",
    "import os\n",
    "for dirname, _, filenames in os.walk('/kaggle/input'):\n",
    "    for filename in filenames:\n",
    "        print(os.path.join(dirname, filename))"
   ]
  },
  {
   "cell_type": "code",
   "execution_count": 2,
   "id": "371d8cff",
   "metadata": {
    "execution": {
     "iopub.execute_input": "2022-01-03T16:03:25.753648Z",
     "iopub.status.busy": "2022-01-03T16:03:25.753016Z",
     "iopub.status.idle": "2022-01-03T16:03:25.755407Z",
     "shell.execute_reply": "2022-01-03T16:03:25.754824Z",
     "shell.execute_reply.started": "2022-01-03T15:48:08.192835Z"
    },
    "papermill": {
     "duration": 0.034555,
     "end_time": "2022-01-03T16:03:25.755538",
     "exception": false,
     "start_time": "2022-01-03T16:03:25.720983",
     "status": "completed"
    },
    "tags": []
   },
   "outputs": [],
   "source": [
    "# Parameters\n",
    "DEBUG_FLAG = False\n",
    "VERSION = 'nb06'\n",
    "\n",
    "SUBMISSION_PATH = '/kaggle/input/jigsaw-toxic-severity-rating/sample_submission.csv'\n",
    "VALIDATION_DATA_PATH = '/kaggle/input/jigsaw-toxic-severity-rating/validation_data.csv'\n",
    "COMMENTS_SCORE_PATH = '/kaggle/input/jigsaw-toxic-severity-rating/comments_to_score.csv'\n",
    "TOXIC1_TRAIN_PATH = '/kaggle/input/jigsaw-toxic-comment-classification-challenge/train.csv'\n",
    "\n",
    "N_SPLITS = 5 if not DEBUG_FLAG else 2"
   ]
  },
  {
   "cell_type": "code",
   "execution_count": 3,
   "id": "d94c55d5",
   "metadata": {
    "execution": {
     "iopub.execute_input": "2022-01-03T16:03:25.815311Z",
     "iopub.status.busy": "2022-01-03T16:03:25.814669Z",
     "iopub.status.idle": "2022-01-03T16:03:27.466312Z",
     "shell.execute_reply": "2022-01-03T16:03:27.465698Z",
     "shell.execute_reply.started": "2022-01-03T15:48:08.198845Z"
    },
    "papermill": {
     "duration": 1.68426,
     "end_time": "2022-01-03T16:03:27.466497",
     "exception": false,
     "start_time": "2022-01-03T16:03:25.782237",
     "status": "completed"
    },
    "tags": []
   },
   "outputs": [
    {
     "data": {
      "text/html": [
       "<style type='text/css'>\n",
       ".datatable table.frame { margin-bottom: 0; }\n",
       ".datatable table.frame thead { border-bottom: none; }\n",
       ".datatable table.frame tr.coltypes td {  color: #FFFFFF;  line-height: 6px;  padding: 0 0.5em;}\n",
       ".datatable .bool    { background: #DDDD99; }\n",
       ".datatable .object  { background: #565656; }\n",
       ".datatable .int     { background: #5D9E5D; }\n",
       ".datatable .float   { background: #4040CC; }\n",
       ".datatable .str     { background: #CC4040; }\n",
       ".datatable .time    { background: #40CC40; }\n",
       ".datatable .row_index {  background: var(--jp-border-color3);  border-right: 1px solid var(--jp-border-color0);  color: var(--jp-ui-font-color3);  font-size: 9px;}\n",
       ".datatable .frame tbody td { text-align: left; }\n",
       ".datatable .frame tr.coltypes .row_index {  background: var(--jp-border-color0);}\n",
       ".datatable th:nth-child(2) { padding-left: 12px; }\n",
       ".datatable .hellipsis {  color: var(--jp-cell-editor-border-color);}\n",
       ".datatable .vellipsis {  background: var(--jp-layout-color0);  color: var(--jp-cell-editor-border-color);}\n",
       ".datatable .na {  color: var(--jp-cell-editor-border-color);  font-size: 80%;}\n",
       ".datatable .sp {  opacity: 0.25;}\n",
       ".datatable .footer { font-size: 9px; }\n",
       ".datatable .frame_dimensions {  background: var(--jp-border-color3);  border-top: 1px solid var(--jp-border-color0);  color: var(--jp-ui-font-color3);  display: inline-block;  opacity: 0.6;  padding: 1px 10px 1px 5px;}\n",
       "</style>\n"
      ],
      "text/plain": [
       "<IPython.core.display.HTML object>"
      ]
     },
     "metadata": {},
     "output_type": "display_data"
    }
   ],
   "source": [
    "# Modules\n",
    "import re\n",
    "import sys\n",
    "import time\n",
    "\n",
    "import datatable as dt\n",
    "import nltk\n",
    "import numpy as np\n",
    "import pandas as pd\n",
    "\n",
    "from matplotlib import pyplot as plt\n",
    "from matplotlib_venn import venn3\n",
    "from sklearn.feature_extraction import text\n",
    "from sklearn.feature_extraction.text import TfidfVectorizer\n",
    "from sklearn.linear_model import Ridge, SGDClassifier, SGDRegressor\n",
    "from sklearn.metrics import mean_squared_error, roc_auc_score\n",
    "from sklearn.model_selection import KFold, StratifiedKFold\n",
    "\n",
    "sys.setrecursionlimit(5000)"
   ]
  },
  {
   "cell_type": "code",
   "execution_count": 4,
   "id": "fbcfa901",
   "metadata": {
    "execution": {
     "iopub.execute_input": "2022-01-03T16:03:27.530393Z",
     "iopub.status.busy": "2022-01-03T16:03:27.529756Z",
     "iopub.status.idle": "2022-01-03T16:03:27.531374Z",
     "shell.execute_reply": "2022-01-03T16:03:27.531832Z",
     "shell.execute_reply.started": "2022-01-03T15:48:08.214244Z"
    },
    "papermill": {
     "duration": 0.037771,
     "end_time": "2022-01-03T16:03:27.531994",
     "exception": false,
     "start_time": "2022-01-03T16:03:27.494223",
     "status": "completed"
    },
    "tags": []
   },
   "outputs": [],
   "source": [
    "# My functions\n",
    "def read_df():\n",
    "    valid = dt.fread(VALIDATION_DATA_PATH).to_pandas()\n",
    "    test = dt.fread(COMMENTS_SCORE_PATH).to_pandas()\n",
    "    submission = dt.fread(SUBMISSION_PATH).to_pandas()\n",
    "    toxic1 = dt.fread(TOXIC1_TRAIN_PATH).to_pandas()\n",
    "    \n",
    "    if DEBUG_FLAG:\n",
    "        valid = valid.sample(n=1000).reset_index(drop=True)\n",
    "        test = test.sample(n=1000).reset_index(drop=True)\n",
    "        toxic1 = toxic1.sample(n=1000).reset_index(drop=True)\n",
    "    \n",
    "    return valid, test, submission, toxic1"
   ]
  },
  {
   "cell_type": "code",
   "execution_count": 5,
   "id": "dfed00a5",
   "metadata": {
    "execution": {
     "iopub.execute_input": "2022-01-03T16:03:27.592227Z",
     "iopub.status.busy": "2022-01-03T16:03:27.591532Z",
     "iopub.status.idle": "2022-01-03T16:03:29.099450Z",
     "shell.execute_reply": "2022-01-03T16:03:29.098248Z",
     "shell.execute_reply.started": "2022-01-03T15:48:08.227082Z"
    },
    "papermill": {
     "duration": 1.5402,
     "end_time": "2022-01-03T16:03:29.099640",
     "exception": false,
     "start_time": "2022-01-03T16:03:27.559440",
     "status": "completed"
    },
    "tags": []
   },
   "outputs": [
    {
     "name": "stdout",
     "output_type": "stream",
     "text": [
      "valid shape: (30108, 3)\n",
      "test shape: (7537, 2)\n",
      "submission shape: (7537, 2)\n",
      "toxic1 shape: (159571, 8)\n"
     ]
    }
   ],
   "source": [
    "valid, test, submission, toxic1 = read_df()\n",
    "\n",
    "print(f'valid shape: {valid.shape}')\n",
    "print(f'test shape: {test.shape}')\n",
    "print(f'submission shape: {submission.shape}')\n",
    "print(f'toxic1 shape: {toxic1.shape}')"
   ]
  },
  {
   "cell_type": "code",
   "execution_count": 6,
   "id": "0f4bfdbc",
   "metadata": {
    "execution": {
     "iopub.execute_input": "2022-01-03T16:03:29.164243Z",
     "iopub.status.busy": "2022-01-03T16:03:29.162255Z",
     "iopub.status.idle": "2022-01-03T16:03:29.189993Z",
     "shell.execute_reply": "2022-01-03T16:03:29.190472Z",
     "shell.execute_reply.started": "2022-01-03T15:48:08.606939Z"
    },
    "papermill": {
     "duration": 0.062831,
     "end_time": "2022-01-03T16:03:29.190641",
     "exception": false,
     "start_time": "2022-01-03T16:03:29.127810",
     "status": "completed"
    },
    "tags": []
   },
   "outputs": [
    {
     "data": {
      "text/html": [
       "<div>\n",
       "<style scoped>\n",
       "    .dataframe tbody tr th:only-of-type {\n",
       "        vertical-align: middle;\n",
       "    }\n",
       "\n",
       "    .dataframe tbody tr th {\n",
       "        vertical-align: top;\n",
       "    }\n",
       "\n",
       "    .dataframe thead th {\n",
       "        text-align: right;\n",
       "    }\n",
       "</style>\n",
       "<table border=\"1\" class=\"dataframe\">\n",
       "  <thead>\n",
       "    <tr style=\"text-align: right;\">\n",
       "      <th></th>\n",
       "      <th>worker</th>\n",
       "      <th>less_toxic</th>\n",
       "      <th>more_toxic</th>\n",
       "    </tr>\n",
       "  </thead>\n",
       "  <tbody>\n",
       "    <tr>\n",
       "      <th>0</th>\n",
       "      <td>313</td>\n",
       "      <td>This article sucks \\n\\nwoo woo wooooooo</td>\n",
       "      <td>WHAT!!!!!!!!?!?!!?!?!!?!?!?!?!!!!!!!!!!!!!!!!!...</td>\n",
       "    </tr>\n",
       "    <tr>\n",
       "      <th>1</th>\n",
       "      <td>188</td>\n",
       "      <td>\"And yes, people should recognize that but the...</td>\n",
       "      <td>Daphne Guinness \\n\\nTop of the mornin' my fav...</td>\n",
       "    </tr>\n",
       "    <tr>\n",
       "      <th>2</th>\n",
       "      <td>82</td>\n",
       "      <td>Western Media?\\n\\nYup, because every crime in...</td>\n",
       "      <td>\"Atom you don't believe actual photos of mastu...</td>\n",
       "    </tr>\n",
       "    <tr>\n",
       "      <th>3</th>\n",
       "      <td>347</td>\n",
       "      <td>And you removed it! You numbskull! I don't car...</td>\n",
       "      <td>You seem to have sand in your vagina.\\n\\nMight...</td>\n",
       "    </tr>\n",
       "    <tr>\n",
       "      <th>4</th>\n",
       "      <td>539</td>\n",
       "      <td>smelly vagina \\n\\nBluerasberry why don't you ...</td>\n",
       "      <td>hey \\n\\nway to support nazis, you racist</td>\n",
       "    </tr>\n",
       "  </tbody>\n",
       "</table>\n",
       "</div>"
      ],
      "text/plain": [
       "   worker                                         less_toxic  \\\n",
       "0     313            This article sucks \\n\\nwoo woo wooooooo   \n",
       "1     188  \"And yes, people should recognize that but the...   \n",
       "2      82   Western Media?\\n\\nYup, because every crime in...   \n",
       "3     347  And you removed it! You numbskull! I don't car...   \n",
       "4     539   smelly vagina \\n\\nBluerasberry why don't you ...   \n",
       "\n",
       "                                          more_toxic  \n",
       "0  WHAT!!!!!!!!?!?!!?!?!!?!?!?!?!!!!!!!!!!!!!!!!!...  \n",
       "1   Daphne Guinness \\n\\nTop of the mornin' my fav...  \n",
       "2  \"Atom you don't believe actual photos of mastu...  \n",
       "3  You seem to have sand in your vagina.\\n\\nMight...  \n",
       "4           hey \\n\\nway to support nazis, you racist  "
      ]
     },
     "metadata": {},
     "output_type": "display_data"
    },
    {
     "data": {
      "text/html": [
       "<div>\n",
       "<style scoped>\n",
       "    .dataframe tbody tr th:only-of-type {\n",
       "        vertical-align: middle;\n",
       "    }\n",
       "\n",
       "    .dataframe tbody tr th {\n",
       "        vertical-align: top;\n",
       "    }\n",
       "\n",
       "    .dataframe thead th {\n",
       "        text-align: right;\n",
       "    }\n",
       "</style>\n",
       "<table border=\"1\" class=\"dataframe\">\n",
       "  <thead>\n",
       "    <tr style=\"text-align: right;\">\n",
       "      <th></th>\n",
       "      <th>comment_id</th>\n",
       "      <th>text</th>\n",
       "    </tr>\n",
       "  </thead>\n",
       "  <tbody>\n",
       "    <tr>\n",
       "      <th>0</th>\n",
       "      <td>114890</td>\n",
       "      <td>\"\\n \\n\\nGjalexei, you asked about whether ther...</td>\n",
       "    </tr>\n",
       "    <tr>\n",
       "      <th>1</th>\n",
       "      <td>732895</td>\n",
       "      <td>Looks like be have an abuser , can you please ...</td>\n",
       "    </tr>\n",
       "    <tr>\n",
       "      <th>2</th>\n",
       "      <td>1139051</td>\n",
       "      <td>I confess to having complete (and apparently b...</td>\n",
       "    </tr>\n",
       "    <tr>\n",
       "      <th>3</th>\n",
       "      <td>1434512</td>\n",
       "      <td>\"\\n\\nFreud's ideas are certainly much discusse...</td>\n",
       "    </tr>\n",
       "    <tr>\n",
       "      <th>4</th>\n",
       "      <td>2084821</td>\n",
       "      <td>It is not just you. This is a laundry list of ...</td>\n",
       "    </tr>\n",
       "  </tbody>\n",
       "</table>\n",
       "</div>"
      ],
      "text/plain": [
       "   comment_id                                               text\n",
       "0      114890  \"\\n \\n\\nGjalexei, you asked about whether ther...\n",
       "1      732895  Looks like be have an abuser , can you please ...\n",
       "2     1139051  I confess to having complete (and apparently b...\n",
       "3     1434512  \"\\n\\nFreud's ideas are certainly much discusse...\n",
       "4     2084821  It is not just you. This is a laundry list of ..."
      ]
     },
     "metadata": {},
     "output_type": "display_data"
    },
    {
     "data": {
      "text/html": [
       "<div>\n",
       "<style scoped>\n",
       "    .dataframe tbody tr th:only-of-type {\n",
       "        vertical-align: middle;\n",
       "    }\n",
       "\n",
       "    .dataframe tbody tr th {\n",
       "        vertical-align: top;\n",
       "    }\n",
       "\n",
       "    .dataframe thead th {\n",
       "        text-align: right;\n",
       "    }\n",
       "</style>\n",
       "<table border=\"1\" class=\"dataframe\">\n",
       "  <thead>\n",
       "    <tr style=\"text-align: right;\">\n",
       "      <th></th>\n",
       "      <th>comment_id</th>\n",
       "      <th>score</th>\n",
       "    </tr>\n",
       "  </thead>\n",
       "  <tbody>\n",
       "    <tr>\n",
       "      <th>0</th>\n",
       "      <td>114890</td>\n",
       "      <td>0.5</td>\n",
       "    </tr>\n",
       "    <tr>\n",
       "      <th>1</th>\n",
       "      <td>732895</td>\n",
       "      <td>0.5</td>\n",
       "    </tr>\n",
       "    <tr>\n",
       "      <th>2</th>\n",
       "      <td>1139051</td>\n",
       "      <td>0.5</td>\n",
       "    </tr>\n",
       "    <tr>\n",
       "      <th>3</th>\n",
       "      <td>1434512</td>\n",
       "      <td>0.5</td>\n",
       "    </tr>\n",
       "    <tr>\n",
       "      <th>4</th>\n",
       "      <td>2084821</td>\n",
       "      <td>0.5</td>\n",
       "    </tr>\n",
       "  </tbody>\n",
       "</table>\n",
       "</div>"
      ],
      "text/plain": [
       "   comment_id  score\n",
       "0      114890    0.5\n",
       "1      732895    0.5\n",
       "2     1139051    0.5\n",
       "3     1434512    0.5\n",
       "4     2084821    0.5"
      ]
     },
     "metadata": {},
     "output_type": "display_data"
    },
    {
     "data": {
      "text/html": [
       "<div>\n",
       "<style scoped>\n",
       "    .dataframe tbody tr th:only-of-type {\n",
       "        vertical-align: middle;\n",
       "    }\n",
       "\n",
       "    .dataframe tbody tr th {\n",
       "        vertical-align: top;\n",
       "    }\n",
       "\n",
       "    .dataframe thead th {\n",
       "        text-align: right;\n",
       "    }\n",
       "</style>\n",
       "<table border=\"1\" class=\"dataframe\">\n",
       "  <thead>\n",
       "    <tr style=\"text-align: right;\">\n",
       "      <th></th>\n",
       "      <th>id</th>\n",
       "      <th>comment_text</th>\n",
       "      <th>toxic</th>\n",
       "      <th>severe_toxic</th>\n",
       "      <th>obscene</th>\n",
       "      <th>threat</th>\n",
       "      <th>insult</th>\n",
       "      <th>identity_hate</th>\n",
       "    </tr>\n",
       "  </thead>\n",
       "  <tbody>\n",
       "    <tr>\n",
       "      <th>0</th>\n",
       "      <td>0000997932d777bf</td>\n",
       "      <td>Explanation\\nWhy the edits made under my usern...</td>\n",
       "      <td>False</td>\n",
       "      <td>False</td>\n",
       "      <td>False</td>\n",
       "      <td>False</td>\n",
       "      <td>False</td>\n",
       "      <td>False</td>\n",
       "    </tr>\n",
       "    <tr>\n",
       "      <th>1</th>\n",
       "      <td>000103f0d9cfb60f</td>\n",
       "      <td>D'aww! He matches this background colour I'm s...</td>\n",
       "      <td>False</td>\n",
       "      <td>False</td>\n",
       "      <td>False</td>\n",
       "      <td>False</td>\n",
       "      <td>False</td>\n",
       "      <td>False</td>\n",
       "    </tr>\n",
       "    <tr>\n",
       "      <th>2</th>\n",
       "      <td>000113f07ec002fd</td>\n",
       "      <td>Hey man, I'm really not trying to edit war. It...</td>\n",
       "      <td>False</td>\n",
       "      <td>False</td>\n",
       "      <td>False</td>\n",
       "      <td>False</td>\n",
       "      <td>False</td>\n",
       "      <td>False</td>\n",
       "    </tr>\n",
       "    <tr>\n",
       "      <th>3</th>\n",
       "      <td>0001b41b1c6bb37e</td>\n",
       "      <td>\"\\nMore\\nI can't make any real suggestions on ...</td>\n",
       "      <td>False</td>\n",
       "      <td>False</td>\n",
       "      <td>False</td>\n",
       "      <td>False</td>\n",
       "      <td>False</td>\n",
       "      <td>False</td>\n",
       "    </tr>\n",
       "    <tr>\n",
       "      <th>4</th>\n",
       "      <td>0001d958c54c6e35</td>\n",
       "      <td>You, sir, are my hero. Any chance you remember...</td>\n",
       "      <td>False</td>\n",
       "      <td>False</td>\n",
       "      <td>False</td>\n",
       "      <td>False</td>\n",
       "      <td>False</td>\n",
       "      <td>False</td>\n",
       "    </tr>\n",
       "  </tbody>\n",
       "</table>\n",
       "</div>"
      ],
      "text/plain": [
       "                 id                                       comment_text  toxic  \\\n",
       "0  0000997932d777bf  Explanation\\nWhy the edits made under my usern...  False   \n",
       "1  000103f0d9cfb60f  D'aww! He matches this background colour I'm s...  False   \n",
       "2  000113f07ec002fd  Hey man, I'm really not trying to edit war. It...  False   \n",
       "3  0001b41b1c6bb37e  \"\\nMore\\nI can't make any real suggestions on ...  False   \n",
       "4  0001d958c54c6e35  You, sir, are my hero. Any chance you remember...  False   \n",
       "\n",
       "   severe_toxic  obscene  threat  insult  identity_hate  \n",
       "0         False    False   False   False          False  \n",
       "1         False    False   False   False          False  \n",
       "2         False    False   False   False          False  \n",
       "3         False    False   False   False          False  \n",
       "4         False    False   False   False          False  "
      ]
     },
     "metadata": {},
     "output_type": "display_data"
    }
   ],
   "source": [
    "display(valid.head())\n",
    "display(test.head())\n",
    "display(submission.head())\n",
    "display(toxic1.head())"
   ]
  },
  {
   "cell_type": "code",
   "execution_count": 7,
   "id": "f29e37bc",
   "metadata": {
    "execution": {
     "iopub.execute_input": "2022-01-03T16:03:29.259710Z",
     "iopub.status.busy": "2022-01-03T16:03:29.259002Z",
     "iopub.status.idle": "2022-01-03T16:03:29.893245Z",
     "shell.execute_reply": "2022-01-03T16:03:29.893754Z",
     "shell.execute_reply.started": "2022-01-03T15:48:08.639924Z"
    },
    "papermill": {
     "duration": 0.673278,
     "end_time": "2022-01-03T16:03:29.893932",
     "exception": false,
     "start_time": "2022-01-03T16:03:29.220654",
     "status": "completed"
    },
    "tags": []
   },
   "outputs": [
    {
     "data": {
      "image/png": "[encoded data removed]",
      "text/plain": [
       "<Figure size 432x432 with 1 Axes>"
      ]
     },
     "metadata": {},
     "output_type": "display_data"
    }
   ],
   "source": [
    "valid_unique_text = set(pd.concat([valid['less_toxic'], valid['more_toxic']]).unique())\n",
    "test_unique_text = set(test['text'].unique())\n",
    "toxic1_unique_text = set(toxic1['comment_text'].unique())\n",
    "\n",
    "plt.figure(figsize=(6,6))\n",
    "venn3(subsets=(valid_unique_text, test_unique_text, toxic1_unique_text),\n",
    "      set_labels=('Validation set', 'test set', 'toxic1 set'))\n",
    "plt.title('text')\n",
    "plt.tight_layout()\n",
    "plt.show()"
   ]
  },
  {
   "cell_type": "markdown",
   "id": "f6b679b0",
   "metadata": {
    "papermill": {
     "duration": 0.031027,
     "end_time": "2022-01-03T16:03:29.955986",
     "exception": false,
     "start_time": "2022-01-03T16:03:29.924959",
     "status": "completed"
    },
    "tags": []
   },
   "source": [
    "test は validation に含まれている。一方で test は toxic1 に完全に含まれているわけではない。これにより、toxic3 を訓練データとして使う場合、同じテキストのサンプルを選択するよりも、予め特徴抽出した上で、似ているサンプルを選択するのがよいのかもしれない。\n",
    "\n",
    "方針としては、特徴抽出して、adversarial validation により似ているサンプルセットを使って学習、予測という流れ。"
   ]
  },
  {
   "cell_type": "code",
   "execution_count": 8,
   "id": "ba328b71",
   "metadata": {
    "execution": {
     "iopub.execute_input": "2022-01-03T16:03:30.028078Z",
     "iopub.status.busy": "2022-01-03T16:03:30.027395Z",
     "iopub.status.idle": "2022-01-03T16:03:30.028739Z",
     "shell.execute_reply": "2022-01-03T16:03:30.029298Z",
     "shell.execute_reply.started": "2022-01-03T15:48:09.278647Z"
    },
    "papermill": {
     "duration": 0.041977,
     "end_time": "2022-01-03T16:03:30.029477",
     "exception": false,
     "start_time": "2022-01-03T16:03:29.987500",
     "status": "completed"
    },
    "tags": []
   },
   "outputs": [],
   "source": [
    "# クリーニング関数\n",
    "def utils_preprocess_text(text, flg_stemm=False, flg_lemm=True, lst_stopwords=None, whitelist=None):\n",
    "    # clean (convert to lowercase and remove punctuations and characters and then strip)\n",
    "    text = re.sub(r'[^\\w\\s]', '', str(text).lower().strip())\n",
    "    \n",
    "    # remove numbers\n",
    "    text = re.sub(r'[\\d]', '', text)\n",
    "            \n",
    "    # Tokenize (convert from string to list)\n",
    "    lst_text = text.split()\n",
    "    \n",
    "    # remove Stopwords\n",
    "    if lst_stopwords is not None:\n",
    "        lst_text = [word for word in lst_text if word not in lst_stopwords]\n",
    "                \n",
    "    # Stemming (remove -ing, -ly, ...)\n",
    "    if flg_stemm == True:\n",
    "        ps = nltk.stem.porter.PorterStemmer()\n",
    "        lst_text = [ps.stem(word) for word in lst_text]\n",
    "                \n",
    "    # Lemmatisation (convert the word into root word)\n",
    "    if flg_lemm == True:\n",
    "        lem = nltk.stem.wordnet.WordNetLemmatizer()\n",
    "        lst_text = [lem.lemmatize(word) for word in lst_text]\n",
    "    \n",
    "    # white words list\n",
    "    if whitelist is not None:\n",
    "        lst_text = [word for word in lst_text if word in whitelist]\n",
    "        \n",
    "    # back to string from list\n",
    "    text = ' '.join(lst_text)\n",
    "    \n",
    "    return text"
   ]
  },
  {
   "cell_type": "code",
   "execution_count": 9,
   "id": "68e2d1a3",
   "metadata": {
    "execution": {
     "iopub.execute_input": "2022-01-03T16:03:30.094458Z",
     "iopub.status.busy": "2022-01-03T16:03:30.093857Z",
     "iopub.status.idle": "2022-01-03T16:03:43.211633Z",
     "shell.execute_reply": "2022-01-03T16:03:43.212587Z",
     "shell.execute_reply.started": "2022-01-03T15:48:09.292476Z"
    },
    "papermill": {
     "duration": 13.152768,
     "end_time": "2022-01-03T16:03:43.212809",
     "exception": false,
     "start_time": "2022-01-03T16:03:30.060041",
     "status": "completed"
    },
    "tags": []
   },
   "outputs": [
    {
     "name": "stdout",
     "output_type": "stream",
     "text": [
      "test_words size: 23636\n",
      "CPU times: user 13 s, sys: 123 ms, total: 13.1 s\n",
      "Wall time: 13.1 s\n"
     ]
    }
   ],
   "source": [
    "%%time\n",
    "stop_words = list(text.ENGLISH_STOP_WORDS)\n",
    "\n",
    "# test のクリーニング\n",
    "test['text_clean'] = test['text'].apply(lambda x: \n",
    "    utils_preprocess_text(x, flg_stemm=True, flg_lemm=True, lst_stopwords=stop_words, whitelist=None)\n",
    ")\n",
    "\n",
    "test_words = set(' '.join(test['text_clean']).split())\n",
    "print(f'test_words size: {len(test_words)}')"
   ]
  },
  {
   "cell_type": "code",
   "execution_count": 10,
   "id": "8f4dad47",
   "metadata": {
    "execution": {
     "iopub.execute_input": "2022-01-03T16:03:43.285960Z",
     "iopub.status.busy": "2022-01-03T16:03:43.284606Z",
     "iopub.status.idle": "2022-01-03T16:07:42.374171Z",
     "shell.execute_reply": "2022-01-03T16:07:42.374703Z",
     "shell.execute_reply.started": "2022-01-03T15:48:20.550163Z"
    },
    "papermill": {
     "duration": 239.130621,
     "end_time": "2022-01-03T16:07:42.374885",
     "exception": false,
     "start_time": "2022-01-03T16:03:43.244264",
     "status": "completed"
    },
    "tags": []
   },
   "outputs": [
    {
     "name": "stdout",
     "output_type": "stream",
     "text": [
      "CPU times: user 3min 58s, sys: 282 ms, total: 3min 59s\n",
      "Wall time: 3min 59s\n"
     ]
    }
   ],
   "source": [
    "%%time\n",
    "\n",
    "# valid のクリーニング\n",
    "valid_unique_text = pd.Series(pd.concat([valid['less_toxic'], valid['more_toxic']]).unique())\n",
    "valid_unique_text_cleaned = valid_unique_text.apply(lambda x: \n",
    "    utils_preprocess_text(x, flg_stemm=True, flg_lemm=True, lst_stopwords=stop_words, whitelist=test_words)\n",
    ")\n",
    "valid_unique_text_dic = {text: cleaned_text for text, cleaned_text in zip(valid_unique_text, valid_unique_text_cleaned)}\n",
    "valid['less_toxic_clean'] = valid['less_toxic'].map(valid_unique_text_dic)\n",
    "valid['more_toxic_clean'] = valid['more_toxic'].map(valid_unique_text_dic)\n",
    "\n",
    "# toxic1 のクリーニング\n",
    "toxic1 = toxic1.rename(columns={'comment_text': 'text'})\n",
    "toxic1['text_clean'] = toxic1['text'].apply(lambda x: \n",
    "    utils_preprocess_text(x, flg_stemm=True, flg_lemm=True, lst_stopwords=stop_words, whitelist=test_words)\n",
    ")"
   ]
  },
  {
   "cell_type": "code",
   "execution_count": 11,
   "id": "ce3aaf24",
   "metadata": {
    "execution": {
     "iopub.execute_input": "2022-01-03T16:07:42.445986Z",
     "iopub.status.busy": "2022-01-03T16:07:42.443981Z",
     "iopub.status.idle": "2022-01-03T16:07:42.526688Z",
     "shell.execute_reply": "2022-01-03T16:07:42.527171Z",
     "shell.execute_reply.started": "2022-01-03T15:52:20.975465Z"
    },
    "papermill": {
     "duration": 0.120591,
     "end_time": "2022-01-03T16:07:42.527366",
     "exception": false,
     "start_time": "2022-01-03T16:07:42.406775",
     "status": "completed"
    },
    "tags": []
   },
   "outputs": [
    {
     "data": {
      "text/html": [
       "<div>\n",
       "<style scoped>\n",
       "    .dataframe tbody tr th:only-of-type {\n",
       "        vertical-align: middle;\n",
       "    }\n",
       "\n",
       "    .dataframe tbody tr th {\n",
       "        vertical-align: top;\n",
       "    }\n",
       "\n",
       "    .dataframe thead th {\n",
       "        text-align: right;\n",
       "    }\n",
       "</style>\n",
       "<table border=\"1\" class=\"dataframe\">\n",
       "  <thead>\n",
       "    <tr style=\"text-align: right;\">\n",
       "      <th></th>\n",
       "      <th>less_toxic</th>\n",
       "      <th>less_toxic_clean</th>\n",
       "    </tr>\n",
       "  </thead>\n",
       "  <tbody>\n",
       "    <tr>\n",
       "      <th>0</th>\n",
       "      <td>This article sucks \\n\\nwoo woo wooooooo</td>\n",
       "      <td>articl suck woo woo wooooooo</td>\n",
       "    </tr>\n",
       "    <tr>\n",
       "      <th>1</th>\n",
       "      <td>\"And yes, people should recognize that but the...</td>\n",
       "      <td>ye peopl recogn usual dont object hear direct ...</td>\n",
       "    </tr>\n",
       "    <tr>\n",
       "      <th>2</th>\n",
       "      <td>Western Media?\\n\\nYup, because every crime in...</td>\n",
       "      <td>western medium yup crime entir world caus west...</td>\n",
       "    </tr>\n",
       "    <tr>\n",
       "      <th>3</th>\n",
       "      <td>And you removed it! You numbskull! I don't car...</td>\n",
       "      <td>remov numbskul dont care say anymor life ahead...</td>\n",
       "    </tr>\n",
       "    <tr>\n",
       "      <th>4</th>\n",
       "      <td>smelly vagina \\n\\nBluerasberry why don't you ...</td>\n",
       "      <td>smelli vagina bluerasberri dont model cheesi b...</td>\n",
       "    </tr>\n",
       "    <tr>\n",
       "      <th>...</th>\n",
       "      <td>...</td>\n",
       "      <td>...</td>\n",
       "    </tr>\n",
       "    <tr>\n",
       "      <th>30103</th>\n",
       "      <td>I'm sorry. I'm not an admin. I will give you t...</td>\n",
       "      <td>im sorri im admin piec advic edit page away gu...</td>\n",
       "    </tr>\n",
       "    <tr>\n",
       "      <th>30104</th>\n",
       "      <td>I'm sorry. I'm not an admin. I will give you t...</td>\n",
       "      <td>im sorri im admin piec advic edit page away gu...</td>\n",
       "    </tr>\n",
       "    <tr>\n",
       "      <th>30105</th>\n",
       "      <td>wow...\\nare you out of your mind, how was my e...</td>\n",
       "      <td>wow mind edit talk page vandal simpli explain ...</td>\n",
       "    </tr>\n",
       "    <tr>\n",
       "      <th>30106</th>\n",
       "      <td>wow...\\nare you out of your mind, how was my e...</td>\n",
       "      <td>wow mind edit talk page vandal simpli explain ...</td>\n",
       "    </tr>\n",
       "    <tr>\n",
       "      <th>30107</th>\n",
       "      <td>wow...\\nare you out of your mind, how was my e...</td>\n",
       "      <td>wow mind edit talk page vandal simpli explain ...</td>\n",
       "    </tr>\n",
       "  </tbody>\n",
       "</table>\n",
       "<p>30108 rows × 2 columns</p>\n",
       "</div>"
      ],
      "text/plain": [
       "                                              less_toxic  \\\n",
       "0                This article sucks \\n\\nwoo woo wooooooo   \n",
       "1      \"And yes, people should recognize that but the...   \n",
       "2       Western Media?\\n\\nYup, because every crime in...   \n",
       "3      And you removed it! You numbskull! I don't car...   \n",
       "4       smelly vagina \\n\\nBluerasberry why don't you ...   \n",
       "...                                                  ...   \n",
       "30103  I'm sorry. I'm not an admin. I will give you t...   \n",
       "30104  I'm sorry. I'm not an admin. I will give you t...   \n",
       "30105  wow...\\nare you out of your mind, how was my e...   \n",
       "30106  wow...\\nare you out of your mind, how was my e...   \n",
       "30107  wow...\\nare you out of your mind, how was my e...   \n",
       "\n",
       "                                        less_toxic_clean  \n",
       "0                           articl suck woo woo wooooooo  \n",
       "1      ye peopl recogn usual dont object hear direct ...  \n",
       "2      western medium yup crime entir world caus west...  \n",
       "3      remov numbskul dont care say anymor life ahead...  \n",
       "4      smelli vagina bluerasberri dont model cheesi b...  \n",
       "...                                                  ...  \n",
       "30103  im sorri im admin piec advic edit page away gu...  \n",
       "30104  im sorri im admin piec advic edit page away gu...  \n",
       "30105  wow mind edit talk page vandal simpli explain ...  \n",
       "30106  wow mind edit talk page vandal simpli explain ...  \n",
       "30107  wow mind edit talk page vandal simpli explain ...  \n",
       "\n",
       "[30108 rows x 2 columns]"
      ]
     },
     "metadata": {},
     "output_type": "display_data"
    },
    {
     "data": {
      "text/html": [
       "<div>\n",
       "<style scoped>\n",
       "    .dataframe tbody tr th:only-of-type {\n",
       "        vertical-align: middle;\n",
       "    }\n",
       "\n",
       "    .dataframe tbody tr th {\n",
       "        vertical-align: top;\n",
       "    }\n",
       "\n",
       "    .dataframe thead th {\n",
       "        text-align: right;\n",
       "    }\n",
       "</style>\n",
       "<table border=\"1\" class=\"dataframe\">\n",
       "  <thead>\n",
       "    <tr style=\"text-align: right;\">\n",
       "      <th></th>\n",
       "      <th>more_toxic</th>\n",
       "      <th>more_toxic_clean</th>\n",
       "    </tr>\n",
       "  </thead>\n",
       "  <tbody>\n",
       "    <tr>\n",
       "      <th>0</th>\n",
       "      <td>WHAT!!!!!!!!?!?!!?!?!!?!?!?!?!!!!!!!!!!!!!!!!!...</td>\n",
       "      <td>wher sexi pic gone main page</td>\n",
       "    </tr>\n",
       "    <tr>\n",
       "      <th>1</th>\n",
       "      <td>Daphne Guinness \\n\\nTop of the mornin' my fav...</td>\n",
       "      <td>daphn guin mornin favourit alien life form im ...</td>\n",
       "    </tr>\n",
       "    <tr>\n",
       "      <th>2</th>\n",
       "      <td>\"Atom you don't believe actual photos of mastu...</td>\n",
       "      <td>atom dont believ actual photo masturb sexual e...</td>\n",
       "    </tr>\n",
       "    <tr>\n",
       "      <th>3</th>\n",
       "      <td>You seem to have sand in your vagina.\\n\\nMight...</td>\n",
       "      <td>sand vagina want wash stink hole bitch</td>\n",
       "    </tr>\n",
       "    <tr>\n",
       "      <th>4</th>\n",
       "      <td>hey \\n\\nway to support nazis, you racist</td>\n",
       "      <td>hey way support nazi racist</td>\n",
       "    </tr>\n",
       "    <tr>\n",
       "      <th>...</th>\n",
       "      <td>...</td>\n",
       "      <td>...</td>\n",
       "    </tr>\n",
       "    <tr>\n",
       "      <th>30103</th>\n",
       "      <td>get out my large penis</td>\n",
       "      <td>larg peni</td>\n",
       "    </tr>\n",
       "    <tr>\n",
       "      <th>30104</th>\n",
       "      <td>get out my large penis</td>\n",
       "      <td>larg peni</td>\n",
       "    </tr>\n",
       "    <tr>\n",
       "      <th>30105</th>\n",
       "      <td>Piss off you slant eyed-gook</td>\n",
       "      <td>piss slant eyedgook</td>\n",
       "    </tr>\n",
       "    <tr>\n",
       "      <th>30106</th>\n",
       "      <td>Piss off you slant eyed-gook</td>\n",
       "      <td>piss slant eyedgook</td>\n",
       "    </tr>\n",
       "    <tr>\n",
       "      <th>30107</th>\n",
       "      <td>Piss off you slant eyed-gook</td>\n",
       "      <td>piss slant eyedgook</td>\n",
       "    </tr>\n",
       "  </tbody>\n",
       "</table>\n",
       "<p>30108 rows × 2 columns</p>\n",
       "</div>"
      ],
      "text/plain": [
       "                                              more_toxic  \\\n",
       "0      WHAT!!!!!!!!?!?!!?!?!!?!?!?!?!!!!!!!!!!!!!!!!!...   \n",
       "1       Daphne Guinness \\n\\nTop of the mornin' my fav...   \n",
       "2      \"Atom you don't believe actual photos of mastu...   \n",
       "3      You seem to have sand in your vagina.\\n\\nMight...   \n",
       "4               hey \\n\\nway to support nazis, you racist   \n",
       "...                                                  ...   \n",
       "30103                             get out my large penis   \n",
       "30104                             get out my large penis   \n",
       "30105                       Piss off you slant eyed-gook   \n",
       "30106                       Piss off you slant eyed-gook   \n",
       "30107                       Piss off you slant eyed-gook   \n",
       "\n",
       "                                        more_toxic_clean  \n",
       "0                           wher sexi pic gone main page  \n",
       "1      daphn guin mornin favourit alien life form im ...  \n",
       "2      atom dont believ actual photo masturb sexual e...  \n",
       "3                 sand vagina want wash stink hole bitch  \n",
       "4                            hey way support nazi racist  \n",
       "...                                                  ...  \n",
       "30103                                          larg peni  \n",
       "30104                                          larg peni  \n",
       "30105                                piss slant eyedgook  \n",
       "30106                                piss slant eyedgook  \n",
       "30107                                piss slant eyedgook  \n",
       "\n",
       "[30108 rows x 2 columns]"
      ]
     },
     "metadata": {},
     "output_type": "display_data"
    },
    {
     "data": {
      "text/html": [
       "<div>\n",
       "<style scoped>\n",
       "    .dataframe tbody tr th:only-of-type {\n",
       "        vertical-align: middle;\n",
       "    }\n",
       "\n",
       "    .dataframe tbody tr th {\n",
       "        vertical-align: top;\n",
       "    }\n",
       "\n",
       "    .dataframe thead th {\n",
       "        text-align: right;\n",
       "    }\n",
       "</style>\n",
       "<table border=\"1\" class=\"dataframe\">\n",
       "  <thead>\n",
       "    <tr style=\"text-align: right;\">\n",
       "      <th></th>\n",
       "      <th>text</th>\n",
       "      <th>text_clean</th>\n",
       "    </tr>\n",
       "  </thead>\n",
       "  <tbody>\n",
       "    <tr>\n",
       "      <th>0</th>\n",
       "      <td>\"\\n \\n\\nGjalexei, you asked about whether ther...</td>\n",
       "      <td>gjalexei ask antieditori polici call wikipedia...</td>\n",
       "    </tr>\n",
       "    <tr>\n",
       "      <th>1</th>\n",
       "      <td>Looks like be have an abuser , can you please ...</td>\n",
       "      <td>look like abus look thank</td>\n",
       "    </tr>\n",
       "    <tr>\n",
       "      <th>2</th>\n",
       "      <td>I confess to having complete (and apparently b...</td>\n",
       "      <td>confess have complet appar bliss ignor jordan ...</td>\n",
       "    </tr>\n",
       "    <tr>\n",
       "      <th>3</th>\n",
       "      <td>\"\\n\\nFreud's ideas are certainly much discusse...</td>\n",
       "      <td>freud idea certainli discus today agre grappl ...</td>\n",
       "    </tr>\n",
       "    <tr>\n",
       "      <th>4</th>\n",
       "      <td>It is not just you. This is a laundry list of ...</td>\n",
       "      <td>just laundri list stupid alleg scoop godknowsw...</td>\n",
       "    </tr>\n",
       "    <tr>\n",
       "      <th>...</th>\n",
       "      <td>...</td>\n",
       "      <td>...</td>\n",
       "    </tr>\n",
       "    <tr>\n",
       "      <th>7532</th>\n",
       "      <td>Go away, you annoying vandal.</td>\n",
       "      <td>away annoy vandal</td>\n",
       "    </tr>\n",
       "    <tr>\n",
       "      <th>7533</th>\n",
       "      <td>This user is a vandal.</td>\n",
       "      <td>user vandal</td>\n",
       "    </tr>\n",
       "    <tr>\n",
       "      <th>7534</th>\n",
       "      <td>\" \\n\\nSorry to sound like a pain, but one by f...</td>\n",
       "      <td>sorri sound like pain follow tad stalk honesti...</td>\n",
       "    </tr>\n",
       "    <tr>\n",
       "      <th>7535</th>\n",
       "      <td>Well it's pretty fucking irrelevant now I'm un...</td>\n",
       "      <td>pretti fuck irrelev im unblock aint</td>\n",
       "    </tr>\n",
       "    <tr>\n",
       "      <th>7536</th>\n",
       "      <td>The team name is Great Britain and Northern Ir...</td>\n",
       "      <td>team great britain northern ireland blind reve...</td>\n",
       "    </tr>\n",
       "  </tbody>\n",
       "</table>\n",
       "<p>7537 rows × 2 columns</p>\n",
       "</div>"
      ],
      "text/plain": [
       "                                                   text  \\\n",
       "0     \"\\n \\n\\nGjalexei, you asked about whether ther...   \n",
       "1     Looks like be have an abuser , can you please ...   \n",
       "2     I confess to having complete (and apparently b...   \n",
       "3     \"\\n\\nFreud's ideas are certainly much discusse...   \n",
       "4     It is not just you. This is a laundry list of ...   \n",
       "...                                                 ...   \n",
       "7532                      Go away, you annoying vandal.   \n",
       "7533                             This user is a vandal.   \n",
       "7534  \" \\n\\nSorry to sound like a pain, but one by f...   \n",
       "7535  Well it's pretty fucking irrelevant now I'm un...   \n",
       "7536  The team name is Great Britain and Northern Ir...   \n",
       "\n",
       "                                             text_clean  \n",
       "0     gjalexei ask antieditori polici call wikipedia...  \n",
       "1                             look like abus look thank  \n",
       "2     confess have complet appar bliss ignor jordan ...  \n",
       "3     freud idea certainli discus today agre grappl ...  \n",
       "4     just laundri list stupid alleg scoop godknowsw...  \n",
       "...                                                 ...  \n",
       "7532                                  away annoy vandal  \n",
       "7533                                        user vandal  \n",
       "7534  sorri sound like pain follow tad stalk honesti...  \n",
       "7535                pretti fuck irrelev im unblock aint  \n",
       "7536  team great britain northern ireland blind reve...  \n",
       "\n",
       "[7537 rows x 2 columns]"
      ]
     },
     "metadata": {},
     "output_type": "display_data"
    },
    {
     "data": {
      "text/html": [
       "<div>\n",
       "<style scoped>\n",
       "    .dataframe tbody tr th:only-of-type {\n",
       "        vertical-align: middle;\n",
       "    }\n",
       "\n",
       "    .dataframe tbody tr th {\n",
       "        vertical-align: top;\n",
       "    }\n",
       "\n",
       "    .dataframe thead th {\n",
       "        text-align: right;\n",
       "    }\n",
       "</style>\n",
       "<table border=\"1\" class=\"dataframe\">\n",
       "  <thead>\n",
       "    <tr style=\"text-align: right;\">\n",
       "      <th></th>\n",
       "      <th>text</th>\n",
       "      <th>text_clean</th>\n",
       "    </tr>\n",
       "  </thead>\n",
       "  <tbody>\n",
       "    <tr>\n",
       "      <th>0</th>\n",
       "      <td>Explanation\\nWhy the edits made under my usern...</td>\n",
       "      <td>explan edit usernam hardcor fan revert werent ...</td>\n",
       "    </tr>\n",
       "    <tr>\n",
       "      <th>1</th>\n",
       "      <td>D'aww! He matches this background colour I'm s...</td>\n",
       "      <td>match background colour im seemingli stuck tha...</td>\n",
       "    </tr>\n",
       "    <tr>\n",
       "      <th>2</th>\n",
       "      <td>Hey man, I'm really not trying to edit war. It...</td>\n",
       "      <td>hey man im realli tri edit war just guy consta...</td>\n",
       "    </tr>\n",
       "    <tr>\n",
       "      <th>3</th>\n",
       "      <td>\"\\nMore\\nI can't make any real suggestions on ...</td>\n",
       "      <td>make real suggest improv wonder section statis...</td>\n",
       "    </tr>\n",
       "    <tr>\n",
       "      <th>4</th>\n",
       "      <td>You, sir, are my hero. Any chance you remember...</td>\n",
       "      <td>sir hero chanc rememb page that</td>\n",
       "    </tr>\n",
       "    <tr>\n",
       "      <th>...</th>\n",
       "      <td>...</td>\n",
       "      <td>...</td>\n",
       "    </tr>\n",
       "    <tr>\n",
       "      <th>159566</th>\n",
       "      <td>\":::::And for the second time of asking, when ...</td>\n",
       "      <td>second time ask view complet contradict covera...</td>\n",
       "    </tr>\n",
       "    <tr>\n",
       "      <th>159567</th>\n",
       "      <td>You should be ashamed of yourself \\n\\nThat is ...</td>\n",
       "      <td>asham horribl thing talk page</td>\n",
       "    </tr>\n",
       "    <tr>\n",
       "      <th>159568</th>\n",
       "      <td>Spitzer \\n\\nUmm, theres no actual article for ...</td>\n",
       "      <td>umm there actual articl prostitut ring crunch ...</td>\n",
       "    </tr>\n",
       "    <tr>\n",
       "      <th>159569</th>\n",
       "      <td>And it looks like it was actually you who put ...</td>\n",
       "      <td>look like actual speedi version delet look</td>\n",
       "    </tr>\n",
       "    <tr>\n",
       "      <th>159570</th>\n",
       "      <td>\"\\nAnd ... I really don't think you understand...</td>\n",
       "      <td>realli dont think understand came idea bad rig...</td>\n",
       "    </tr>\n",
       "  </tbody>\n",
       "</table>\n",
       "<p>159571 rows × 2 columns</p>\n",
       "</div>"
      ],
      "text/plain": [
       "                                                     text  \\\n",
       "0       Explanation\\nWhy the edits made under my usern...   \n",
       "1       D'aww! He matches this background colour I'm s...   \n",
       "2       Hey man, I'm really not trying to edit war. It...   \n",
       "3       \"\\nMore\\nI can't make any real suggestions on ...   \n",
       "4       You, sir, are my hero. Any chance you remember...   \n",
       "...                                                   ...   \n",
       "159566  \":::::And for the second time of asking, when ...   \n",
       "159567  You should be ashamed of yourself \\n\\nThat is ...   \n",
       "159568  Spitzer \\n\\nUmm, theres no actual article for ...   \n",
       "159569  And it looks like it was actually you who put ...   \n",
       "159570  \"\\nAnd ... I really don't think you understand...   \n",
       "\n",
       "                                               text_clean  \n",
       "0       explan edit usernam hardcor fan revert werent ...  \n",
       "1       match background colour im seemingli stuck tha...  \n",
       "2       hey man im realli tri edit war just guy consta...  \n",
       "3       make real suggest improv wonder section statis...  \n",
       "4                         sir hero chanc rememb page that  \n",
       "...                                                   ...  \n",
       "159566  second time ask view complet contradict covera...  \n",
       "159567                      asham horribl thing talk page  \n",
       "159568  umm there actual articl prostitut ring crunch ...  \n",
       "159569         look like actual speedi version delet look  \n",
       "159570  realli dont think understand came idea bad rig...  \n",
       "\n",
       "[159571 rows x 2 columns]"
      ]
     },
     "metadata": {},
     "output_type": "display_data"
    }
   ],
   "source": [
    "display(valid[['less_toxic', 'less_toxic_clean']])\n",
    "display(valid[['more_toxic', 'more_toxic_clean']])\n",
    "display(test[['text', 'text_clean']])\n",
    "display(toxic1[['text', 'text_clean']])"
   ]
  },
  {
   "cell_type": "code",
   "execution_count": 12,
   "id": "bcc3ee6f",
   "metadata": {
    "execution": {
     "iopub.execute_input": "2022-01-03T16:07:42.601042Z",
     "iopub.status.busy": "2022-01-03T16:07:42.600448Z",
     "iopub.status.idle": "2022-01-03T16:07:42.798871Z",
     "shell.execute_reply": "2022-01-03T16:07:42.799375Z",
     "shell.execute_reply.started": "2022-01-03T15:52:21.063803Z"
    },
    "papermill": {
     "duration": 0.236956,
     "end_time": "2022-01-03T16:07:42.799586",
     "exception": false,
     "start_time": "2022-01-03T16:07:42.562630",
     "status": "completed"
    },
    "tags": []
   },
   "outputs": [
    {
     "name": "stdout",
     "output_type": "stream",
     "text": [
      "1 / 7537\n",
      "21 / 30108\n",
      "21 / 30108\n",
      "449 / 159571\n"
     ]
    }
   ],
   "source": [
    "# クリーニングにより空文字列になった文字列を抽出\n",
    "print(sum(test['text_clean'].apply(lambda x: len(x)) == 0), '/', len(test))\n",
    "print(sum(valid['less_toxic_clean'].apply(lambda x: len(x)) == 0), '/', len(valid))\n",
    "print(sum(valid['more_toxic_clean'].apply(lambda x: len(x)) == 0), '/', len(valid))\n",
    "print(sum(toxic1['text_clean'].apply(lambda x: len(x)) == 0), '/', len(toxic1))"
   ]
  },
  {
   "cell_type": "code",
   "execution_count": 13,
   "id": "c50b02ed",
   "metadata": {
    "execution": {
     "iopub.execute_input": "2022-01-03T16:07:42.872636Z",
     "iopub.status.busy": "2022-01-03T16:07:42.872015Z",
     "iopub.status.idle": "2022-01-03T16:07:43.069263Z",
     "shell.execute_reply": "2022-01-03T16:07:43.069779Z",
     "shell.execute_reply.started": "2022-01-03T15:52:21.278677Z"
    },
    "papermill": {
     "duration": 0.235182,
     "end_time": "2022-01-03T16:07:43.069964",
     "exception": false,
     "start_time": "2022-01-03T16:07:42.834782",
     "status": "completed"
    },
    "tags": []
   },
   "outputs": [],
   "source": [
    "# 空文字列の行を除く\n",
    "toxic1['word_size'] = toxic1['text_clean'].apply(lambda x: len(x))\n",
    "valid['less_toxic_size'] = valid['less_toxic_clean'].apply(lambda x: len(x))\n",
    "valid['more_toxic_size'] = valid['more_toxic_clean'].apply(lambda x: len(x))\n",
    "\n",
    "toxic1 = toxic1.query('word_size != 0')\n",
    "valid = valid.query('less_toxic_size != 0 | more_toxic_size != 0')"
   ]
  },
  {
   "cell_type": "code",
   "execution_count": 14,
   "id": "989ec285",
   "metadata": {
    "execution": {
     "iopub.execute_input": "2022-01-03T16:07:43.148216Z",
     "iopub.status.busy": "2022-01-03T16:07:43.147570Z",
     "iopub.status.idle": "2022-01-03T16:07:43.156710Z",
     "shell.execute_reply": "2022-01-03T16:07:43.157173Z",
     "shell.execute_reply.started": "2022-01-03T15:52:21.480537Z"
    },
    "papermill": {
     "duration": 0.051609,
     "end_time": "2022-01-03T16:07:43.157378",
     "exception": false,
     "start_time": "2022-01-03T16:07:43.105769",
     "status": "completed"
    },
    "tags": []
   },
   "outputs": [
    {
     "name": "stdout",
     "output_type": "stream",
     "text": [
      "advval_train_X shape: (166659,)\n",
      "advval_train_y shape: (166659,)\n"
     ]
    }
   ],
   "source": [
    "# preparing adversarial validation\n",
    "advval_train_X = pd.concat([toxic1['text_clean'], test['text_clean']])\n",
    "advval_train_y = pd.concat([pd.Series(np.ones(toxic1.shape[0])), pd.Series(np.zeros(test.shape[0]))])\n",
    "advval_valid_less_X = valid['less_toxic_clean']\n",
    "advval_valid_more_X = valid['more_toxic_clean']\n",
    "\n",
    "print(f'advval_train_X shape: {advval_train_X.shape}')\n",
    "print(f'advval_train_y shape: {advval_train_y.shape}')"
   ]
  },
  {
   "cell_type": "code",
   "execution_count": 15,
   "id": "b6d43e2c",
   "metadata": {
    "execution": {
     "iopub.execute_input": "2022-01-03T16:07:43.231388Z",
     "iopub.status.busy": "2022-01-03T16:07:43.230772Z",
     "iopub.status.idle": "2022-01-03T16:07:52.779154Z",
     "shell.execute_reply": "2022-01-03T16:07:52.778604Z",
     "shell.execute_reply.started": "2022-01-03T15:52:21.496155Z"
    },
    "papermill": {
     "duration": 9.586596,
     "end_time": "2022-01-03T16:07:52.779288",
     "exception": false,
     "start_time": "2022-01-03T16:07:43.192692",
     "status": "completed"
    },
    "tags": []
   },
   "outputs": [
    {
     "name": "stdout",
     "output_type": "stream",
     "text": [
      "feature extracting ...\n",
      "Total number of features: 18094\n",
      "CPU times: user 9.46 s, sys: 81 ms, total: 9.54 s\n",
      "Wall time: 9.54 s\n"
     ]
    }
   ],
   "source": [
    "%%time\n",
    "\n",
    "# 特徴抽出\n",
    "print(f'feature extracting ...')\n",
    "advval_tfidf = TfidfVectorizer(\n",
    "    stop_words=stop_words,\n",
    "    min_df=3,\n",
    "    max_df=0.5, \n",
    "    max_features=100_000,\n",
    "    analyzer='word',\n",
    "    ngram_range=(1, 1)\n",
    ")\n",
    "advval_train_X_tfidf = advval_tfidf.fit_transform(advval_train_X)\n",
    "advval_train_X_tfidf_feature_names = advval_tfidf.get_feature_names()\n",
    "advval_train_X_tfidf_vocab = advval_tfidf.vocabulary_\n",
    "advval_valid_less_X_tfidf = advval_tfidf.transform(advval_valid_less_X)\n",
    "advval_valid_more_X_tfidf = advval_tfidf.transform(advval_valid_more_X)\n",
    "\n",
    "print('Total number of features:', advval_train_X_tfidf.shape[1])"
   ]
  },
  {
   "cell_type": "code",
   "execution_count": 16,
   "id": "7707434a",
   "metadata": {
    "execution": {
     "iopub.execute_input": "2022-01-03T16:07:52.854646Z",
     "iopub.status.busy": "2022-01-03T16:07:52.853905Z",
     "iopub.status.idle": "2022-01-03T16:07:52.891995Z",
     "shell.execute_reply": "2022-01-03T16:07:52.892486Z",
     "shell.execute_reply.started": "2022-01-03T15:52:31.306611Z"
    },
    "papermill": {
     "duration": 0.077751,
     "end_time": "2022-01-03T16:07:52.892663",
     "exception": false,
     "start_time": "2022-01-03T16:07:52.814912",
     "status": "completed"
    },
    "tags": []
   },
   "outputs": [
    {
     "data": {
      "text/html": [
       "<div>\n",
       "<style scoped>\n",
       "    .dataframe tbody tr th:only-of-type {\n",
       "        vertical-align: middle;\n",
       "    }\n",
       "\n",
       "    .dataframe tbody tr th {\n",
       "        vertical-align: top;\n",
       "    }\n",
       "\n",
       "    .dataframe thead th {\n",
       "        text-align: right;\n",
       "    }\n",
       "</style>\n",
       "<table border=\"1\" class=\"dataframe\">\n",
       "  <thead>\n",
       "    <tr style=\"text-align: right;\">\n",
       "      <th></th>\n",
       "      <th>word</th>\n",
       "      <th>weight</th>\n",
       "    </tr>\n",
       "  </thead>\n",
       "  <tbody>\n",
       "    <tr>\n",
       "      <th>14129</th>\n",
       "      <td>shinn</td>\n",
       "      <td>11.637417</td>\n",
       "    </tr>\n",
       "    <tr>\n",
       "      <th>13741</th>\n",
       "      <td>schutzstaffel</td>\n",
       "      <td>11.637417</td>\n",
       "    </tr>\n",
       "    <tr>\n",
       "      <th>1695</th>\n",
       "      <td>bitchboy</td>\n",
       "      <td>11.637417</td>\n",
       "    </tr>\n",
       "    <tr>\n",
       "      <th>1696</th>\n",
       "      <td>bitchfest</td>\n",
       "      <td>11.637417</td>\n",
       "    </tr>\n",
       "    <tr>\n",
       "      <th>1697</th>\n",
       "      <td>bitchh</td>\n",
       "      <td>11.637417</td>\n",
       "    </tr>\n",
       "    <tr>\n",
       "      <th>13737</th>\n",
       "      <td>schreck</td>\n",
       "      <td>11.637417</td>\n",
       "    </tr>\n",
       "    <tr>\n",
       "      <th>5678</th>\n",
       "      <td>firestarfirststatr</td>\n",
       "      <td>11.637417</td>\n",
       "    </tr>\n",
       "    <tr>\n",
       "      <th>5677</th>\n",
       "      <td>firesid</td>\n",
       "      <td>11.637417</td>\n",
       "    </tr>\n",
       "    <tr>\n",
       "      <th>5670</th>\n",
       "      <td>fink</td>\n",
       "      <td>11.637417</td>\n",
       "    </tr>\n",
       "    <tr>\n",
       "      <th>1691</th>\n",
       "      <td>bishonnen</td>\n",
       "      <td>11.637417</td>\n",
       "    </tr>\n",
       "  </tbody>\n",
       "</table>\n",
       "</div>"
      ],
      "text/plain": [
       "                     word     weight\n",
       "14129               shinn  11.637417\n",
       "13741       schutzstaffel  11.637417\n",
       "1695             bitchboy  11.637417\n",
       "1696            bitchfest  11.637417\n",
       "1697               bitchh  11.637417\n",
       "13737             schreck  11.637417\n",
       "5678   firestarfirststatr  11.637417\n",
       "5677              firesid  11.637417\n",
       "5670                 fink  11.637417\n",
       "1691            bishonnen  11.637417"
      ]
     },
     "execution_count": 16,
     "metadata": {},
     "output_type": "execute_result"
    }
   ],
   "source": [
    "# idf ranking\n",
    "idf = {'word': advval_tfidf.get_feature_names(), 'weight': advval_tfidf.idf_}\n",
    "pd.DataFrame(idf).sort_values('weight', ascending=False).head(10)"
   ]
  },
  {
   "cell_type": "code",
   "execution_count": 17,
   "id": "d0ecab81",
   "metadata": {
    "execution": {
     "iopub.execute_input": "2022-01-03T16:07:52.968432Z",
     "iopub.status.busy": "2022-01-03T16:07:52.967719Z",
     "iopub.status.idle": "2022-01-03T16:07:52.979024Z",
     "shell.execute_reply": "2022-01-03T16:07:52.979978Z",
     "shell.execute_reply.started": "2022-01-03T15:52:31.353933Z"
    },
    "papermill": {
     "duration": 0.05146,
     "end_time": "2022-01-03T16:07:52.980151",
     "exception": false,
     "start_time": "2022-01-03T16:07:52.928691",
     "status": "completed"
    },
    "tags": []
   },
   "outputs": [],
   "source": [
    "# adversarial validation\n",
    "def adversarial_validation(train_X, train_y, tfidf):\n",
    "\n",
    "    models = []\n",
    "    oof_train = np.zeros((train_X.shape[0],))\n",
    "    scores = []\n",
    "\n",
    "    stkf = StratifiedKFold(\n",
    "        n_splits=N_SPLITS, \n",
    "        shuffle=True,\n",
    "        random_state=None\n",
    "    )\n",
    "\n",
    "    # 交差検証\n",
    "    for fold_id, (train_idx, valid_idx) in enumerate(stkf.split(train_X, train_y)):\n",
    "        start = time.time()\n",
    "        print(f'* ' * 40)\n",
    "        print(f'fold_id: {fold_id}')\n",
    "\n",
    "        # 訓練データ、評価データ、テストデータを整形\n",
    "        print(f'preprocessing ...')\n",
    "        X_trn = train_X.iloc[train_idx].reset_index(drop=True)\n",
    "        X_val = train_X.iloc[valid_idx].reset_index(drop=True)\n",
    "        y_trn = train_y.iloc[train_idx].reset_index(drop=True)\n",
    "        y_val = train_y.iloc[valid_idx].reset_index(drop=True)\n",
    "\n",
    "        X_trn_tfidf = tfidf.transform(X_trn)\n",
    "        X_val_tfidf = tfidf.transform(X_val)\n",
    "\n",
    "        print('Total number of train samples:', X_trn_tfidf.shape[0])\n",
    "        print('Total number of valid samples:', X_val_tfidf.shape[0])\n",
    "\n",
    "        # 訓練\n",
    "        print(f'training ...')\n",
    "        clf = SGDClassifier(\n",
    "            loss='log', \n",
    "            class_weight='balanced',\n",
    "            max_iter=10000, \n",
    "            tol=1e-3, \n",
    "            n_jobs=-1\n",
    "        )\n",
    "\n",
    "        clf.fit(X_trn_tfidf, y_trn)\n",
    "\n",
    "        # 推論\n",
    "        print(f'predicting ...')\n",
    "        val_pred = clf.predict_proba(X_val_tfidf)[:, 1]\n",
    "        oof_train[valid_idx] = val_pred\n",
    "        models.append(clf)\n",
    "\n",
    "        # 評価\n",
    "        print(f'validation ...')\n",
    "        score_auc = roc_auc_score(y_val, val_pred)\n",
    "        scores.append(score_auc)\n",
    "        elapsed = time.time() - start\n",
    "        print(f'fold {fold_id} - score: {score_auc:.6f}, elapsed time: {elapsed:.2f} [sec]')\n",
    "\n",
    "    print(f'* ' * 40)\n",
    "    print(f'Average AUC: {sum(scores)/N_SPLITS:.6f}')\n",
    "    \n",
    "    return oof_train, models"
   ]
  },
  {
   "cell_type": "code",
   "execution_count": 18,
   "id": "e24129d7",
   "metadata": {
    "execution": {
     "iopub.execute_input": "2022-01-03T16:07:53.058525Z",
     "iopub.status.busy": "2022-01-03T16:07:53.056102Z",
     "iopub.status.idle": "2022-01-03T16:08:34.373040Z",
     "shell.execute_reply": "2022-01-03T16:08:34.373561Z",
     "shell.execute_reply.started": "2022-01-03T15:52:31.370199Z"
    },
    "papermill": {
     "duration": 41.356942,
     "end_time": "2022-01-03T16:08:34.373734",
     "exception": false,
     "start_time": "2022-01-03T16:07:53.016792",
     "status": "completed"
    },
    "tags": []
   },
   "outputs": [
    {
     "name": "stdout",
     "output_type": "stream",
     "text": [
      "* * * * * * * * * * * * * * * * * * * * * * * * * * * * * * * * * * * * * * * * \n",
      "fold_id: 0\n",
      "preprocessing ...\n",
      "Total number of train samples: 133327\n",
      "Total number of valid samples: 33332\n",
      "training ...\n",
      "predicting ...\n",
      "validation ...\n",
      "fold 0 - score: 0.803736, elapsed time: 8.01 [sec]\n",
      "* * * * * * * * * * * * * * * * * * * * * * * * * * * * * * * * * * * * * * * * \n",
      "fold_id: 1\n",
      "preprocessing ...\n",
      "Total number of train samples: 133327\n",
      "Total number of valid samples: 33332\n",
      "training ...\n",
      "predicting ...\n",
      "validation ...\n",
      "fold 1 - score: 0.814048, elapsed time: 8.26 [sec]\n",
      "* * * * * * * * * * * * * * * * * * * * * * * * * * * * * * * * * * * * * * * * \n",
      "fold_id: 2\n",
      "preprocessing ...\n",
      "Total number of train samples: 133327\n",
      "Total number of valid samples: 33332\n",
      "training ...\n",
      "predicting ...\n",
      "validation ...\n",
      "fold 2 - score: 0.809126, elapsed time: 8.41 [sec]\n",
      "* * * * * * * * * * * * * * * * * * * * * * * * * * * * * * * * * * * * * * * * \n",
      "fold_id: 3\n",
      "preprocessing ...\n",
      "Total number of train samples: 133327\n",
      "Total number of valid samples: 33332\n",
      "training ...\n",
      "predicting ...\n",
      "validation ...\n",
      "fold 3 - score: 0.821414, elapsed time: 8.44 [sec]\n",
      "* * * * * * * * * * * * * * * * * * * * * * * * * * * * * * * * * * * * * * * * \n",
      "fold_id: 4\n",
      "preprocessing ...\n",
      "Total number of train samples: 133328\n",
      "Total number of valid samples: 33331\n",
      "training ...\n",
      "predicting ...\n",
      "validation ...\n",
      "fold 4 - score: 0.820424, elapsed time: 8.16 [sec]\n",
      "* * * * * * * * * * * * * * * * * * * * * * * * * * * * * * * * * * * * * * * * \n",
      "Average AUC: 0.813750\n",
      "CPU times: user 41.8 s, sys: 1.28 s, total: 43.1 s\n",
      "Wall time: 41.3 s\n"
     ]
    }
   ],
   "source": [
    "%%time\n",
    "advval_oof_train, advval_models = adversarial_validation(advval_train_X, advval_train_y, advval_tfidf)"
   ]
  },
  {
   "cell_type": "code",
   "execution_count": 19,
   "id": "c17c5283",
   "metadata": {
    "execution": {
     "iopub.execute_input": "2022-01-03T16:08:34.456947Z",
     "iopub.status.busy": "2022-01-03T16:08:34.456280Z",
     "iopub.status.idle": "2022-01-03T16:08:34.818789Z",
     "shell.execute_reply": "2022-01-03T16:08:34.818146Z",
     "shell.execute_reply.started": "2022-01-03T15:53:12.998187Z"
    },
    "papermill": {
     "duration": 0.406484,
     "end_time": "2022-01-03T16:08:34.818925",
     "exception": false,
     "start_time": "2022-01-03T16:08:34.412441",
     "status": "completed"
    },
    "tags": []
   },
   "outputs": [
    {
     "data": {
      "image/png": "[encoded data removed]",
      "text/plain": [
       "<Figure size 432x288 with 1 Axes>"
      ]
     },
     "metadata": {
      "needs_background": "light"
     },
     "output_type": "display_data"
    }
   ],
   "source": [
    "# スコア分布\n",
    "plt.figure()\n",
    "plt.hist(advval_oof_train, alpha=.8, bins=100)\n",
    "plt.show()"
   ]
  },
  {
   "cell_type": "code",
   "execution_count": 20,
   "id": "bfee2b17",
   "metadata": {
    "execution": {
     "iopub.execute_input": "2022-01-03T16:08:34.902330Z",
     "iopub.status.busy": "2022-01-03T16:08:34.901714Z",
     "iopub.status.idle": "2022-01-03T16:08:34.915272Z",
     "shell.execute_reply": "2022-01-03T16:08:34.914791Z",
     "shell.execute_reply.started": "2022-01-03T15:53:13.380373Z"
    },
    "papermill": {
     "duration": 0.056351,
     "end_time": "2022-01-03T16:08:34.915427",
     "exception": false,
     "start_time": "2022-01-03T16:08:34.859076",
     "status": "completed"
    },
    "tags": []
   },
   "outputs": [
    {
     "data": {
      "text/html": [
       "<div>\n",
       "<style scoped>\n",
       "    .dataframe tbody tr th:only-of-type {\n",
       "        vertical-align: middle;\n",
       "    }\n",
       "\n",
       "    .dataframe tbody tr th {\n",
       "        vertical-align: top;\n",
       "    }\n",
       "\n",
       "    .dataframe thead th {\n",
       "        text-align: right;\n",
       "    }\n",
       "</style>\n",
       "<table border=\"1\" class=\"dataframe\">\n",
       "  <thead>\n",
       "    <tr style=\"text-align: right;\">\n",
       "      <th></th>\n",
       "      <th>oof_train</th>\n",
       "      <th>y</th>\n",
       "    </tr>\n",
       "  </thead>\n",
       "  <tbody>\n",
       "    <tr>\n",
       "      <th>0</th>\n",
       "      <td>0.635978</td>\n",
       "      <td>1.0</td>\n",
       "    </tr>\n",
       "    <tr>\n",
       "      <th>1</th>\n",
       "      <td>0.839413</td>\n",
       "      <td>1.0</td>\n",
       "    </tr>\n",
       "    <tr>\n",
       "      <th>2</th>\n",
       "      <td>0.562439</td>\n",
       "      <td>1.0</td>\n",
       "    </tr>\n",
       "    <tr>\n",
       "      <th>3</th>\n",
       "      <td>0.903604</td>\n",
       "      <td>1.0</td>\n",
       "    </tr>\n",
       "    <tr>\n",
       "      <th>4</th>\n",
       "      <td>0.603808</td>\n",
       "      <td>1.0</td>\n",
       "    </tr>\n",
       "    <tr>\n",
       "      <th>...</th>\n",
       "      <td>...</td>\n",
       "      <td>...</td>\n",
       "    </tr>\n",
       "    <tr>\n",
       "      <th>7532</th>\n",
       "      <td>0.176160</td>\n",
       "      <td>0.0</td>\n",
       "    </tr>\n",
       "    <tr>\n",
       "      <th>7533</th>\n",
       "      <td>0.158298</td>\n",
       "      <td>0.0</td>\n",
       "    </tr>\n",
       "    <tr>\n",
       "      <th>7534</th>\n",
       "      <td>0.547778</td>\n",
       "      <td>0.0</td>\n",
       "    </tr>\n",
       "    <tr>\n",
       "      <th>7535</th>\n",
       "      <td>0.355120</td>\n",
       "      <td>0.0</td>\n",
       "    </tr>\n",
       "    <tr>\n",
       "      <th>7536</th>\n",
       "      <td>0.386058</td>\n",
       "      <td>0.0</td>\n",
       "    </tr>\n",
       "  </tbody>\n",
       "</table>\n",
       "<p>166659 rows × 2 columns</p>\n",
       "</div>"
      ],
      "text/plain": [
       "      oof_train    y\n",
       "0      0.635978  1.0\n",
       "1      0.839413  1.0\n",
       "2      0.562439  1.0\n",
       "3      0.903604  1.0\n",
       "4      0.603808  1.0\n",
       "...         ...  ...\n",
       "7532   0.176160  0.0\n",
       "7533   0.158298  0.0\n",
       "7534   0.547778  0.0\n",
       "7535   0.355120  0.0\n",
       "7536   0.386058  0.0\n",
       "\n",
       "[166659 rows x 2 columns]"
      ]
     },
     "execution_count": 20,
     "metadata": {},
     "output_type": "execute_result"
    }
   ],
   "source": [
    "advval_oof_train = pd.DataFrame({'oof_train': advval_oof_train, 'y': advval_train_y})\n",
    "advval_oof_train"
   ]
  },
  {
   "cell_type": "code",
   "execution_count": 21,
   "id": "3cb80021",
   "metadata": {
    "execution": {
     "iopub.execute_input": "2022-01-03T16:08:35.001537Z",
     "iopub.status.busy": "2022-01-03T16:08:35.000852Z",
     "iopub.status.idle": "2022-01-03T16:08:35.016404Z",
     "shell.execute_reply": "2022-01-03T16:08:35.016873Z",
     "shell.execute_reply.started": "2022-01-03T15:53:13.396692Z"
    },
    "papermill": {
     "duration": 0.060836,
     "end_time": "2022-01-03T16:08:35.017054",
     "exception": false,
     "start_time": "2022-01-03T16:08:34.956218",
     "status": "completed"
    },
    "tags": []
   },
   "outputs": [
    {
     "data": {
      "text/html": [
       "<div>\n",
       "<style scoped>\n",
       "    .dataframe tbody tr th:only-of-type {\n",
       "        vertical-align: middle;\n",
       "    }\n",
       "\n",
       "    .dataframe tbody tr th {\n",
       "        vertical-align: top;\n",
       "    }\n",
       "\n",
       "    .dataframe thead th {\n",
       "        text-align: right;\n",
       "    }\n",
       "</style>\n",
       "<table border=\"1\" class=\"dataframe\">\n",
       "  <thead>\n",
       "    <tr style=\"text-align: right;\">\n",
       "      <th></th>\n",
       "      <th>oof_train</th>\n",
       "      <th>y</th>\n",
       "    </tr>\n",
       "  </thead>\n",
       "  <tbody>\n",
       "    <tr>\n",
       "      <th>6</th>\n",
       "      <td>0.288826</td>\n",
       "      <td>1.0</td>\n",
       "    </tr>\n",
       "    <tr>\n",
       "      <th>7</th>\n",
       "      <td>0.281644</td>\n",
       "      <td>1.0</td>\n",
       "    </tr>\n",
       "    <tr>\n",
       "      <th>12</th>\n",
       "      <td>0.489499</td>\n",
       "      <td>1.0</td>\n",
       "    </tr>\n",
       "    <tr>\n",
       "      <th>14</th>\n",
       "      <td>0.442935</td>\n",
       "      <td>1.0</td>\n",
       "    </tr>\n",
       "    <tr>\n",
       "      <th>16</th>\n",
       "      <td>0.466831</td>\n",
       "      <td>1.0</td>\n",
       "    </tr>\n",
       "    <tr>\n",
       "      <th>...</th>\n",
       "      <td>...</td>\n",
       "      <td>...</td>\n",
       "    </tr>\n",
       "    <tr>\n",
       "      <th>159093</th>\n",
       "      <td>0.434958</td>\n",
       "      <td>1.0</td>\n",
       "    </tr>\n",
       "    <tr>\n",
       "      <th>159095</th>\n",
       "      <td>0.458377</td>\n",
       "      <td>1.0</td>\n",
       "    </tr>\n",
       "    <tr>\n",
       "      <th>159097</th>\n",
       "      <td>0.086316</td>\n",
       "      <td>1.0</td>\n",
       "    </tr>\n",
       "    <tr>\n",
       "      <th>159105</th>\n",
       "      <td>0.049676</td>\n",
       "      <td>1.0</td>\n",
       "    </tr>\n",
       "    <tr>\n",
       "      <th>159109</th>\n",
       "      <td>0.485796</td>\n",
       "      <td>1.0</td>\n",
       "    </tr>\n",
       "  </tbody>\n",
       "</table>\n",
       "<p>34875 rows × 2 columns</p>\n",
       "</div>"
      ],
      "text/plain": [
       "        oof_train    y\n",
       "6        0.288826  1.0\n",
       "7        0.281644  1.0\n",
       "12       0.489499  1.0\n",
       "14       0.442935  1.0\n",
       "16       0.466831  1.0\n",
       "...           ...  ...\n",
       "159093   0.434958  1.0\n",
       "159095   0.458377  1.0\n",
       "159097   0.086316  1.0\n",
       "159105   0.049676  1.0\n",
       "159109   0.485796  1.0\n",
       "\n",
       "[34875 rows x 2 columns]"
      ]
     },
     "execution_count": 21,
     "metadata": {},
     "output_type": "execute_result"
    }
   ],
   "source": [
    "# 訓練データのうちテストデータに近いサンプルを抽出\n",
    "advval_oof_train.query('oof_train < 0.5 & y == 1')"
   ]
  },
  {
   "cell_type": "code",
   "execution_count": 22,
   "id": "5ee28122",
   "metadata": {
    "execution": {
     "iopub.execute_input": "2022-01-03T16:08:35.109599Z",
     "iopub.status.busy": "2022-01-03T16:08:35.108939Z",
     "iopub.status.idle": "2022-01-03T16:08:35.116110Z",
     "shell.execute_reply": "2022-01-03T16:08:35.115192Z",
     "shell.execute_reply.started": "2022-01-03T15:53:13.421264Z"
    },
    "papermill": {
     "duration": 0.058014,
     "end_time": "2022-01-03T16:08:35.116411",
     "exception": false,
     "start_time": "2022-01-03T16:08:35.058397",
     "status": "completed"
    },
    "tags": []
   },
   "outputs": [
    {
     "name": "stdout",
     "output_type": "stream",
     "text": [
      "34875\n"
     ]
    }
   ],
   "source": [
    "advval_train_idx = advval_oof_train.query('oof_train < 0.5 & y == 1').index\n",
    "print(len(advval_train_idx))"
   ]
  },
  {
   "cell_type": "code",
   "execution_count": 23,
   "id": "f6f83915",
   "metadata": {
    "execution": {
     "iopub.execute_input": "2022-01-03T16:08:35.202957Z",
     "iopub.status.busy": "2022-01-03T16:08:35.202369Z",
     "iopub.status.idle": "2022-01-03T16:08:35.229543Z",
     "shell.execute_reply": "2022-01-03T16:08:35.228632Z",
     "shell.execute_reply.started": "2022-01-03T15:53:13.433321Z"
    },
    "papermill": {
     "duration": 0.071062,
     "end_time": "2022-01-03T16:08:35.229729",
     "exception": false,
     "start_time": "2022-01-03T16:08:35.158667",
     "status": "completed"
    },
    "tags": []
   },
   "outputs": [
    {
     "name": "stdout",
     "output_type": "stream",
     "text": [
      "main_train_X shape: (166659,)\n",
      "main_train_y shape: (166659,)\n",
      "main_valid_less_X shape: (30108,)\n",
      "main_valid_more_X shape: (30108,)\n"
     ]
    }
   ],
   "source": [
    "# preparing main training data\n",
    "main_train_X = toxic1.iloc[advval_train_idx]['text_clean']\n",
    "main_train_y = toxic1.iloc[advval_train_idx][['toxic', 'severe_toxic', 'obscene', 'threat', 'insult', 'identity_hate']].sum(axis=1)\n",
    "main_train_y += toxic1.iloc[advval_train_idx]['severe_toxic']\n",
    "main_train_y /= main_train_y.max()\n",
    "main_valid_less_X = valid['less_toxic_clean']\n",
    "main_valid_more_X = valid['more_toxic_clean']\n",
    "\n",
    "print(f'main_train_X shape: {advval_train_X.shape}')\n",
    "print(f'main_train_y shape: {advval_train_y.shape}')\n",
    "print(f'main_valid_less_X shape: {main_valid_less_X.shape}')\n",
    "print(f'main_valid_more_X shape: {main_valid_more_X.shape}')"
   ]
  },
  {
   "cell_type": "code",
   "execution_count": 24,
   "id": "e379b3d7",
   "metadata": {
    "execution": {
     "iopub.execute_input": "2022-01-03T16:08:35.371996Z",
     "iopub.status.busy": "2022-01-03T16:08:35.335644Z",
     "iopub.status.idle": "2022-01-03T16:08:39.458785Z",
     "shell.execute_reply": "2022-01-03T16:08:39.458035Z",
     "shell.execute_reply.started": "2022-01-03T15:53:13.470341Z"
    },
    "papermill": {
     "duration": 4.186596,
     "end_time": "2022-01-03T16:08:39.458981",
     "exception": false,
     "start_time": "2022-01-03T16:08:35.272385",
     "status": "completed"
    },
    "tags": []
   },
   "outputs": [
    {
     "name": "stdout",
     "output_type": "stream",
     "text": [
      "feature extracting ...\n",
      "Total number of features: 11214\n"
     ]
    }
   ],
   "source": [
    "# 特徴抽出\n",
    "print(f'feature extracting ...')\n",
    "main_tfidf = TfidfVectorizer(\n",
    "    stop_words=stop_words,\n",
    "    min_df=3,\n",
    "    max_df=0.5, \n",
    "    max_features=100_000,\n",
    "    analyzer='word',\n",
    "    ngram_range=(1, 1)\n",
    ")\n",
    "\n",
    "main_train_X_tfidf = main_tfidf.fit_transform(main_train_X)\n",
    "main_train_X_tfidf_feature_names = main_tfidf.get_feature_names()\n",
    "main_train_X_tfidf_vocab = main_tfidf.vocabulary_\n",
    "main_valid_less_X_tfidf = main_tfidf.transform(main_valid_less_X)\n",
    "main_valid_more_X_tfidf = main_tfidf.transform(main_valid_more_X)\n",
    "\n",
    "print('Total number of features:', main_train_X_tfidf.shape[1])"
   ]
  },
  {
   "cell_type": "code",
   "execution_count": 25,
   "id": "021ff35b",
   "metadata": {
    "execution": {
     "iopub.execute_input": "2022-01-03T16:08:39.563480Z",
     "iopub.status.busy": "2022-01-03T16:08:39.562495Z",
     "iopub.status.idle": "2022-01-03T16:08:39.574253Z",
     "shell.execute_reply": "2022-01-03T16:08:39.574692Z",
     "shell.execute_reply.started": "2022-01-03T15:53:17.710313Z"
    },
    "papermill": {
     "duration": 0.072784,
     "end_time": "2022-01-03T16:08:39.574855",
     "exception": false,
     "start_time": "2022-01-03T16:08:39.502071",
     "status": "completed"
    },
    "tags": []
   },
   "outputs": [
    {
     "data": {
      "text/html": [
       "<div>\n",
       "<style scoped>\n",
       "    .dataframe tbody tr th:only-of-type {\n",
       "        vertical-align: middle;\n",
       "    }\n",
       "\n",
       "    .dataframe tbody tr th {\n",
       "        vertical-align: top;\n",
       "    }\n",
       "\n",
       "    .dataframe thead th {\n",
       "        text-align: right;\n",
       "    }\n",
       "</style>\n",
       "<table border=\"1\" class=\"dataframe\">\n",
       "  <thead>\n",
       "    <tr style=\"text-align: right;\">\n",
       "      <th></th>\n",
       "      <th>word</th>\n",
       "      <th>weight</th>\n",
       "    </tr>\n",
       "  </thead>\n",
       "  <tbody>\n",
       "    <tr>\n",
       "      <th>3768</th>\n",
       "      <td>franca</td>\n",
       "      <td>10.07326</td>\n",
       "    </tr>\n",
       "    <tr>\n",
       "      <th>3890</th>\n",
       "      <td>furor</td>\n",
       "      <td>10.07326</td>\n",
       "    </tr>\n",
       "    <tr>\n",
       "      <th>5375</th>\n",
       "      <td>kellogg</td>\n",
       "      <td>10.07326</td>\n",
       "    </tr>\n",
       "    <tr>\n",
       "      <th>1122</th>\n",
       "      <td>blockd</td>\n",
       "      <td>10.07326</td>\n",
       "    </tr>\n",
       "    <tr>\n",
       "      <th>7444</th>\n",
       "      <td>popey</td>\n",
       "      <td>10.07326</td>\n",
       "    </tr>\n",
       "    <tr>\n",
       "      <th>5370</th>\n",
       "      <td>kean</td>\n",
       "      <td>10.07326</td>\n",
       "    </tr>\n",
       "    <tr>\n",
       "      <th>7449</th>\n",
       "      <td>porki</td>\n",
       "      <td>10.07326</td>\n",
       "    </tr>\n",
       "    <tr>\n",
       "      <th>7456</th>\n",
       "      <td>porter</td>\n",
       "      <td>10.07326</td>\n",
       "    </tr>\n",
       "    <tr>\n",
       "      <th>7463</th>\n",
       "      <td>posh</td>\n",
       "      <td>10.07326</td>\n",
       "    </tr>\n",
       "    <tr>\n",
       "      <th>7467</th>\n",
       "      <td>possum</td>\n",
       "      <td>10.07326</td>\n",
       "    </tr>\n",
       "  </tbody>\n",
       "</table>\n",
       "</div>"
      ],
      "text/plain": [
       "         word    weight\n",
       "3768   franca  10.07326\n",
       "3890    furor  10.07326\n",
       "5375  kellogg  10.07326\n",
       "1122   blockd  10.07326\n",
       "7444    popey  10.07326\n",
       "5370     kean  10.07326\n",
       "7449    porki  10.07326\n",
       "7456   porter  10.07326\n",
       "7463     posh  10.07326\n",
       "7467   possum  10.07326"
      ]
     },
     "execution_count": 25,
     "metadata": {},
     "output_type": "execute_result"
    }
   ],
   "source": [
    "# idf ranking\n",
    "idf = {'word': main_tfidf.get_feature_names(), 'weight': main_tfidf.idf_}\n",
    "pd.DataFrame(idf).sort_values('weight', ascending=False).head(10)"
   ]
  },
  {
   "cell_type": "code",
   "execution_count": 26,
   "id": "aea3b2df",
   "metadata": {
    "execution": {
     "iopub.execute_input": "2022-01-03T16:08:39.672264Z",
     "iopub.status.busy": "2022-01-03T16:08:39.671613Z",
     "iopub.status.idle": "2022-01-03T16:08:39.674890Z",
     "shell.execute_reply": "2022-01-03T16:08:39.675418Z",
     "shell.execute_reply.started": "2022-01-03T15:53:17.746786Z"
    },
    "papermill": {
     "duration": 0.057438,
     "end_time": "2022-01-03T16:08:39.675584",
     "exception": false,
     "start_time": "2022-01-03T16:08:39.618146",
     "status": "completed"
    },
    "tags": []
   },
   "outputs": [],
   "source": [
    "# main\n",
    "def main_training(train_X, train_y, tfidf):\n",
    "\n",
    "    models = []\n",
    "    oof_train = np.zeros((train_X.shape[0],))\n",
    "    scores = []\n",
    "\n",
    "    kf = KFold(\n",
    "        n_splits=N_SPLITS, \n",
    "        shuffle=True,\n",
    "        random_state=None\n",
    "    )\n",
    "\n",
    "    # 交差検証\n",
    "    for fold_id, (train_idx, valid_idx) in enumerate(kf.split(train_X, train_y)):\n",
    "        start = time.time()\n",
    "        print(f'* ' * 40)\n",
    "        print(f'fold_id: {fold_id}')\n",
    "\n",
    "        # 訓練データ、評価データ、テストデータを整形\n",
    "        print(f'preprocessing ...')\n",
    "        X_trn = train_X.iloc[train_idx].reset_index(drop=True)\n",
    "        X_val = train_X.iloc[valid_idx].reset_index(drop=True)\n",
    "        y_trn = train_y.iloc[train_idx].reset_index(drop=True)\n",
    "        y_val = train_y.iloc[valid_idx].reset_index(drop=True)\n",
    "\n",
    "        X_trn_tfidf = tfidf.transform(X_trn)\n",
    "        X_val_tfidf = tfidf.transform(X_val)\n",
    "\n",
    "        print('Total number of train samples:', X_trn_tfidf.shape[0])\n",
    "        print('Total number of valid samples:', X_val_tfidf.shape[0])\n",
    "\n",
    "        # 訓練\n",
    "        print(f'training ...')\n",
    "        reg = Ridge(\n",
    "            max_iter=10000, \n",
    "            tol=1e-3\n",
    "        )\n",
    "\n",
    "        reg.fit(X_trn_tfidf, y_trn)\n",
    "\n",
    "        # 推論\n",
    "        print(f'predicting ...')\n",
    "        val_pred = reg.predict(X_val_tfidf)\n",
    "        oof_train[valid_idx] = val_pred\n",
    "        models.append(reg)\n",
    "\n",
    "        # 評価\n",
    "        print(f'validation ...')\n",
    "        score_mse = mean_squared_error(y_val, val_pred)\n",
    "        scores.append(score_mse)\n",
    "        elapsed = time.time() - start\n",
    "        print(f'fold {fold_id} - score: {score_mse:.6f}, elapsed time: {elapsed:.2f} [sec]')\n",
    "\n",
    "    print(f'* ' * 40)\n",
    "    print(f'Average MSE: {sum(scores)/N_SPLITS:.6f} Average RMSE: {np.sqrt(sum(scores)/N_SPLITS):.6f}')\n",
    "    \n",
    "    return oof_train, models"
   ]
  },
  {
   "cell_type": "code",
   "execution_count": 27,
   "id": "7b9e4ddc",
   "metadata": {
    "execution": {
     "iopub.execute_input": "2022-01-03T16:08:39.763511Z",
     "iopub.status.busy": "2022-01-03T16:08:39.762907Z",
     "iopub.status.idle": "2022-01-03T16:08:47.469103Z",
     "shell.execute_reply": "2022-01-03T16:08:47.470727Z",
     "shell.execute_reply.started": "2022-01-03T15:53:17.761733Z"
    },
    "papermill": {
     "duration": 7.753022,
     "end_time": "2022-01-03T16:08:47.471234",
     "exception": false,
     "start_time": "2022-01-03T16:08:39.718212",
     "status": "completed"
    },
    "tags": []
   },
   "outputs": [
    {
     "name": "stdout",
     "output_type": "stream",
     "text": [
      "* * * * * * * * * * * * * * * * * * * * * * * * * * * * * * * * * * * * * * * * \n",
      "fold_id: 0\n",
      "preprocessing ...\n",
      "Total number of train samples: 27900\n",
      "Total number of valid samples: 6975\n",
      "training ...\n",
      "predicting ...\n",
      "validation ...\n",
      "fold 0 - score: 0.015659, elapsed time: 1.49 [sec]\n",
      "* * * * * * * * * * * * * * * * * * * * * * * * * * * * * * * * * * * * * * * * \n",
      "fold_id: 1\n",
      "preprocessing ...\n",
      "Total number of train samples: 27900\n",
      "Total number of valid samples: 6975\n",
      "training ...\n",
      "predicting ...\n",
      "validation ...\n",
      "fold 1 - score: 0.015347, elapsed time: 1.54 [sec]\n",
      "* * * * * * * * * * * * * * * * * * * * * * * * * * * * * * * * * * * * * * * * \n",
      "fold_id: 2\n",
      "preprocessing ...\n",
      "Total number of train samples: 27900\n",
      "Total number of valid samples: 6975\n",
      "training ...\n",
      "predicting ...\n",
      "validation ...\n",
      "fold 2 - score: 0.015836, elapsed time: 1.54 [sec]\n",
      "* * * * * * * * * * * * * * * * * * * * * * * * * * * * * * * * * * * * * * * * \n",
      "fold_id: 3\n",
      "preprocessing ...\n",
      "Total number of train samples: 27900\n",
      "Total number of valid samples: 6975\n",
      "training ...\n",
      "predicting ...\n",
      "validation ...\n",
      "fold 3 - score: 0.015740, elapsed time: 1.59 [sec]\n",
      "* * * * * * * * * * * * * * * * * * * * * * * * * * * * * * * * * * * * * * * * \n",
      "fold_id: 4\n",
      "preprocessing ...\n",
      "Total number of train samples: 27900\n",
      "Total number of valid samples: 6975\n",
      "training ...\n",
      "predicting ...\n",
      "validation ...\n",
      "fold 4 - score: 0.015599, elapsed time: 1.53 [sec]\n",
      "* * * * * * * * * * * * * * * * * * * * * * * * * * * * * * * * * * * * * * * * \n",
      "Average MSE: 0.015636 Average RMSE: 0.125046\n",
      "CPU times: user 8.87 s, sys: 2.01 s, total: 10.9 s\n",
      "Wall time: 7.7 s\n"
     ]
    }
   ],
   "source": [
    "%%time\n",
    "main_oof_train, main_models = main_training(main_train_X, main_train_y, main_tfidf)"
   ]
  },
  {
   "cell_type": "code",
   "execution_count": 28,
   "id": "23d5cd96",
   "metadata": {
    "execution": {
     "iopub.execute_input": "2022-01-03T16:08:47.633417Z",
     "iopub.status.busy": "2022-01-03T16:08:47.622565Z",
     "iopub.status.idle": "2022-01-03T16:08:47.989596Z",
     "shell.execute_reply": "2022-01-03T16:08:47.988955Z",
     "shell.execute_reply.started": "2022-01-03T15:53:25.717197Z"
    },
    "papermill": {
     "duration": 0.434203,
     "end_time": "2022-01-03T16:08:47.989731",
     "exception": false,
     "start_time": "2022-01-03T16:08:47.555528",
     "status": "completed"
    },
    "tags": []
   },
   "outputs": [
    {
     "data": {
      "image/png": "[encoded data removed]",
      "text/plain": [
       "<Figure size 432x288 with 1 Axes>"
      ]
     },
     "metadata": {
      "needs_background": "light"
     },
     "output_type": "display_data"
    }
   ],
   "source": [
    "# スコア分布\n",
    "plt.figure()\n",
    "plt.hist(main_oof_train, alpha=.8, bins=100)\n",
    "plt.show()"
   ]
  },
  {
   "cell_type": "code",
   "execution_count": 29,
   "id": "14c43f72",
   "metadata": {
    "execution": {
     "iopub.execute_input": "2022-01-03T16:08:48.088744Z",
     "iopub.status.busy": "2022-01-03T16:08:48.088111Z",
     "iopub.status.idle": "2022-01-03T16:08:48.223553Z",
     "shell.execute_reply": "2022-01-03T16:08:48.224003Z",
     "shell.execute_reply.started": "2022-01-03T15:53:26.151992Z"
    },
    "papermill": {
     "duration": 0.187792,
     "end_time": "2022-01-03T16:08:48.224172",
     "exception": false,
     "start_time": "2022-01-03T16:08:48.036380",
     "status": "completed"
    },
    "tags": []
   },
   "outputs": [
    {
     "name": "stdout",
     "output_type": "stream",
     "text": [
      "17348 / 30108\n"
     ]
    }
   ],
   "source": [
    "# adversarial validation によりテストデータに近い評価データを作成\n",
    "advval_score_valid_less_toxic = np.array([clf.predict_proba(advval_valid_less_X_tfidf)[:, 1] for clf in advval_models]).sum(axis=0) / len(advval_models)\n",
    "advval_score_valid_more_toxic = np.array([clf.predict_proba(advval_valid_more_X_tfidf)[:, 1] for clf in advval_models]).sum(axis=0) / len(advval_models)\n",
    "\n",
    "test_like_valid_idx = (advval_score_valid_less_toxic < 0.5) & (advval_score_valid_more_toxic < 0.5)\n",
    "print(sum(test_like_valid_idx), '/', len(test_like_valid_idx))"
   ]
  },
  {
   "cell_type": "code",
   "execution_count": 30,
   "id": "d8cfd9ab",
   "metadata": {
    "execution": {
     "iopub.execute_input": "2022-01-03T16:08:48.321304Z",
     "iopub.status.busy": "2022-01-03T16:08:48.320645Z",
     "iopub.status.idle": "2022-01-03T16:08:48.344536Z",
     "shell.execute_reply": "2022-01-03T16:08:48.345115Z",
     "shell.execute_reply.started": "2022-01-03T15:53:26.303059Z"
    },
    "papermill": {
     "duration": 0.075647,
     "end_time": "2022-01-03T16:08:48.345291",
     "exception": false,
     "start_time": "2022-01-03T16:08:48.269644",
     "status": "completed"
    },
    "tags": []
   },
   "outputs": [
    {
     "name": "stdout",
     "output_type": "stream",
     "text": [
      "0.6982361079086926\n"
     ]
    }
   ],
   "source": [
    "# validation score\n",
    "preds_less_toxic = np.array([reg.predict(main_valid_less_X_tfidf[test_like_valid_idx]) for reg in main_models]).sum(axis=0)\n",
    "preds_more_toxic = np.array([reg.predict(main_valid_more_X_tfidf[test_like_valid_idx]) for reg in main_models]).sum(axis=0)\n",
    "\n",
    "print((preds_less_toxic < preds_more_toxic).mean())"
   ]
  },
  {
   "cell_type": "code",
   "execution_count": 31,
   "id": "416f7b3d",
   "metadata": {
    "execution": {
     "iopub.execute_input": "2022-01-03T16:08:48.450477Z",
     "iopub.status.busy": "2022-01-03T16:08:48.439199Z",
     "iopub.status.idle": "2022-01-03T16:08:48.871523Z",
     "shell.execute_reply": "2022-01-03T16:08:48.871006Z",
     "shell.execute_reply.started": "2022-01-03T15:53:26.337283Z"
    },
    "papermill": {
     "duration": 0.480505,
     "end_time": "2022-01-03T16:08:48.871675",
     "exception": false,
     "start_time": "2022-01-03T16:08:48.391170",
     "status": "completed"
    },
    "tags": []
   },
   "outputs": [
    {
     "data": {
      "text/html": [
       "<div>\n",
       "<style scoped>\n",
       "    .dataframe tbody tr th:only-of-type {\n",
       "        vertical-align: middle;\n",
       "    }\n",
       "\n",
       "    .dataframe tbody tr th {\n",
       "        vertical-align: top;\n",
       "    }\n",
       "\n",
       "    .dataframe thead th {\n",
       "        text-align: right;\n",
       "    }\n",
       "</style>\n",
       "<table border=\"1\" class=\"dataframe\">\n",
       "  <thead>\n",
       "    <tr style=\"text-align: right;\">\n",
       "      <th></th>\n",
       "      <th>comment_id</th>\n",
       "      <th>score</th>\n",
       "    </tr>\n",
       "  </thead>\n",
       "  <tbody>\n",
       "    <tr>\n",
       "      <th>0</th>\n",
       "      <td>114890</td>\n",
       "      <td>-0.009131</td>\n",
       "    </tr>\n",
       "    <tr>\n",
       "      <th>1</th>\n",
       "      <td>732895</td>\n",
       "      <td>0.183990</td>\n",
       "    </tr>\n",
       "    <tr>\n",
       "      <th>2</th>\n",
       "      <td>1139051</td>\n",
       "      <td>0.088030</td>\n",
       "    </tr>\n",
       "    <tr>\n",
       "      <th>3</th>\n",
       "      <td>1434512</td>\n",
       "      <td>-0.069749</td>\n",
       "    </tr>\n",
       "    <tr>\n",
       "      <th>4</th>\n",
       "      <td>2084821</td>\n",
       "      <td>0.437767</td>\n",
       "    </tr>\n",
       "    <tr>\n",
       "      <th>...</th>\n",
       "      <td>...</td>\n",
       "      <td>...</td>\n",
       "    </tr>\n",
       "    <tr>\n",
       "      <th>7532</th>\n",
       "      <td>504235362</td>\n",
       "      <td>0.145148</td>\n",
       "    </tr>\n",
       "    <tr>\n",
       "      <th>7533</th>\n",
       "      <td>504235566</td>\n",
       "      <td>0.060120</td>\n",
       "    </tr>\n",
       "    <tr>\n",
       "      <th>7534</th>\n",
       "      <td>504308177</td>\n",
       "      <td>-0.084174</td>\n",
       "    </tr>\n",
       "    <tr>\n",
       "      <th>7535</th>\n",
       "      <td>504570375</td>\n",
       "      <td>0.962657</td>\n",
       "    </tr>\n",
       "    <tr>\n",
       "      <th>7536</th>\n",
       "      <td>504598250</td>\n",
       "      <td>0.341704</td>\n",
       "    </tr>\n",
       "  </tbody>\n",
       "</table>\n",
       "<p>7537 rows × 2 columns</p>\n",
       "</div>"
      ],
      "text/plain": [
       "      comment_id     score\n",
       "0         114890 -0.009131\n",
       "1         732895  0.183990\n",
       "2        1139051  0.088030\n",
       "3        1434512 -0.069749\n",
       "4        2084821  0.437767\n",
       "...          ...       ...\n",
       "7532   504235362  0.145148\n",
       "7533   504235566  0.060120\n",
       "7534   504308177 -0.084174\n",
       "7535   504570375  0.962657\n",
       "7536   504598250  0.341704\n",
       "\n",
       "[7537 rows x 2 columns]"
      ]
     },
     "metadata": {},
     "output_type": "display_data"
    },
    {
     "data": {
      "text/html": [
       "<div>\n",
       "<style scoped>\n",
       "    .dataframe tbody tr th:only-of-type {\n",
       "        vertical-align: middle;\n",
       "    }\n",
       "\n",
       "    .dataframe tbody tr th {\n",
       "        vertical-align: top;\n",
       "    }\n",
       "\n",
       "    .dataframe thead th {\n",
       "        text-align: right;\n",
       "    }\n",
       "</style>\n",
       "<table border=\"1\" class=\"dataframe\">\n",
       "  <thead>\n",
       "    <tr style=\"text-align: right;\">\n",
       "      <th></th>\n",
       "      <th>count</th>\n",
       "      <th>mean</th>\n",
       "      <th>std</th>\n",
       "      <th>min</th>\n",
       "      <th>25%</th>\n",
       "      <th>50%</th>\n",
       "      <th>75%</th>\n",
       "      <th>max</th>\n",
       "    </tr>\n",
       "  </thead>\n",
       "  <tbody>\n",
       "    <tr>\n",
       "      <th>0</th>\n",
       "      <td>7537.0</td>\n",
       "      <td>0.726661</td>\n",
       "      <td>0.851593</td>\n",
       "      <td>-0.615497</td>\n",
       "      <td>0.148481</td>\n",
       "      <td>0.434487</td>\n",
       "      <td>1.036138</td>\n",
       "      <td>5.246198</td>\n",
       "    </tr>\n",
       "  </tbody>\n",
       "</table>\n",
       "</div>"
      ],
      "text/plain": [
       "    count      mean       std       min       25%       50%       75%  \\\n",
       "0  7537.0  0.726661  0.851593 -0.615497  0.148481  0.434487  1.036138   \n",
       "\n",
       "        max  \n",
       "0  5.246198  "
      ]
     },
     "execution_count": 31,
     "metadata": {},
     "output_type": "execute_result"
    }
   ],
   "source": [
    "test_X_tfidf = main_tfidf.transform(test['text_clean'])\n",
    "preds_test = np.array([reg.predict(test_X_tfidf) for reg in main_models]).sum(axis=0)\n",
    "\n",
    "if not DEBUG_FLAG:\n",
    "    submission['score'] = preds_test\n",
    "    submission.to_csv('submission.csv', index=False)\n",
    "    display(submission)\n",
    "\n",
    "pd.DataFrame(pd.Series(submission['score'].ravel()).describe()).transpose()"
   ]
  }
 ],
 "metadata": {
  "kernelspec": {
   "display_name": "Python 3",
   "language": "python",
   "name": "python3"
  },
  "language_info": {
   "codemirror_mode": {
    "name": "ipython",
    "version": 3
   },
   "file_extension": ".py",
   "mimetype": "text/x-python",
   "name": "python",
   "nbconvert_exporter": "python",
   "pygments_lexer": "ipython3",
   "version": "3.7.12"
  },
  "papermill": {
   "default_parameters": {},
   "duration": 333.670556,
   "end_time": "2022-01-03T16:08:49.930956",
   "environment_variables": {},
   "exception": null,
   "input_path": "__notebook__.ipynb",
   "output_path": "__notebook__.ipynb",
   "parameters": {},
   "start_time": "2022-01-03T16:03:16.260400",
   "version": "2.3.3"
  }
 },
 "nbformat": 4,
 "nbformat_minor": 5
}
