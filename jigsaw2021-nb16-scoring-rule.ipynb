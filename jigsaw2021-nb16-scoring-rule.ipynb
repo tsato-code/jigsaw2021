{
 "cells": [
  {
   "cell_type": "markdown",
   "id": "4dc4fa80",
   "metadata": {
    "papermill": {
     "duration": 0.006402,
     "end_time": "2022-01-31T14:31:13.535617",
     "exception": false,
     "start_time": "2022-01-31T14:31:13.529215",
     "status": "completed"
    },
    "tags": []
   },
   "source": [
    "# Overview\n",
    "\n",
    "- 以下 discussion の調査。\n",
    "https://www.kaggle.com/c/jigsaw-toxic-severity-rating/discussion/287140"
   ]
  },
  {
   "cell_type": "code",
   "execution_count": 1,
   "id": "3175bb27",
   "metadata": {
    "_cell_guid": "b1076dfc-b9ad-4769-8c92-a6c4dae69d19",
    "_uuid": "8f2839f25d086af736a60e9eeb907d3b93b6e0e5",
    "execution": {
     "iopub.execute_input": "2022-01-31T14:31:13.551696Z",
     "iopub.status.busy": "2022-01-31T14:31:13.550430Z",
     "iopub.status.idle": "2022-01-31T14:31:14.589976Z",
     "shell.execute_reply": "2022-01-31T14:31:14.589102Z",
     "shell.execute_reply.started": "2022-01-22T16:34:28.847761Z"
    },
    "papermill": {
     "duration": 1.048317,
     "end_time": "2022-01-31T14:31:14.590156",
     "exception": false,
     "start_time": "2022-01-31T14:31:13.541839",
     "status": "completed"
    },
    "tags": []
   },
   "outputs": [],
   "source": [
    "import pandas as pd\n",
    "from sklearn.preprocessing import LabelEncoder"
   ]
  },
  {
   "cell_type": "code",
   "execution_count": 2,
   "id": "155672b1",
   "metadata": {
    "execution": {
     "iopub.execute_input": "2022-01-31T14:31:14.609099Z",
     "iopub.status.busy": "2022-01-31T14:31:14.608399Z",
     "iopub.status.idle": "2022-01-31T14:31:15.428244Z",
     "shell.execute_reply": "2022-01-31T14:31:15.428819Z",
     "shell.execute_reply.started": "2022-01-22T16:34:32.062338Z"
    },
    "papermill": {
     "duration": 0.833476,
     "end_time": "2022-01-31T14:31:15.429006",
     "exception": false,
     "start_time": "2022-01-31T14:31:14.595530",
     "status": "completed"
    },
    "tags": []
   },
   "outputs": [
    {
     "name": "stdout",
     "output_type": "stream",
     "text": [
      "2    5302\n",
      "1    5302\n",
      "Name: cnt, dtype: int64\n"
     ]
    },
    {
     "name": "stderr",
     "output_type": "stream",
     "text": [
      "/opt/conda/lib/python3.7/site-packages/ipykernel_launcher.py:8: SettingWithCopyWarning: \n",
      "A value is trying to be set on a copy of a slice from a DataFrame.\n",
      "Try using .loc[row_indexer,col_indexer] = value instead\n",
      "\n",
      "See the caveats in the documentation: https://pandas.pydata.org/pandas-docs/stable/user_guide/indexing.html#returning-a-view-versus-a-copy\n",
      "  \n",
      "/opt/conda/lib/python3.7/site-packages/ipykernel_launcher.py:9: SettingWithCopyWarning: \n",
      "A value is trying to be set on a copy of a slice from a DataFrame.\n",
      "Try using .loc[row_indexer,col_indexer] = value instead\n",
      "\n",
      "See the caveats in the documentation: https://pandas.pydata.org/pandas-docs/stable/user_guide/indexing.html#returning-a-view-versus-a-copy\n",
      "  if __name__ == '__main__':\n",
      "/opt/conda/lib/python3.7/site-packages/ipykernel_launcher.py:10: SettingWithCopyWarning: \n",
      "A value is trying to be set on a copy of a slice from a DataFrame.\n",
      "Try using .loc[row_indexer,col_indexer] = value instead\n",
      "\n",
      "See the caveats in the documentation: https://pandas.pydata.org/pandas-docs/stable/user_guide/indexing.html#returning-a-view-versus-a-copy\n",
      "  # Remove the CWD from sys.path while we load stuff.\n"
     ]
    }
   ],
   "source": [
    "df = pd.read_csv('../input/jigsaw-toxic-severity-rating/validation_data.csv')\n",
    "\n",
    "# Looking for conflicts\n",
    "conflict = df[(df['less_toxic'] + df['more_toxic']).isin(df['more_toxic'] + df['less_toxic'])]\n",
    "\n",
    "# Just encode the strings\n",
    "le = LabelEncoder()\n",
    "conflict['less_toxic_enc'] = le.fit_transform(conflict['less_toxic'])\n",
    "conflict['more_toxic_enc'] = le.fit_transform(conflict['more_toxic'])\n",
    "conflict['pair'] = conflict['less_toxic_enc'].astype(str) + '-' + conflict['more_toxic_enc'].astype(str)\n",
    "\n",
    "# Count the occurrence of the pairs\n",
    "vc = conflict['pair'].value_counts().reset_index()\n",
    "vc.columns = ['pair', 'cnt']\n",
    "\n",
    "# Check the count of each pair\n",
    "print(vc['cnt'].value_counts())"
   ]
  },
  {
   "cell_type": "code",
   "execution_count": 3,
   "id": "14022da9",
   "metadata": {
    "execution": {
     "iopub.execute_input": "2022-01-31T14:31:15.450209Z",
     "iopub.status.busy": "2022-01-31T14:31:15.449524Z",
     "iopub.status.idle": "2022-01-31T14:31:15.464290Z",
     "shell.execute_reply": "2022-01-31T14:31:15.464852Z",
     "shell.execute_reply.started": "2022-01-22T17:03:41.931181Z"
    },
    "papermill": {
     "duration": 0.02976,
     "end_time": "2022-01-31T14:31:15.465044",
     "exception": false,
     "start_time": "2022-01-31T14:31:15.435284",
     "status": "completed"
    },
    "tags": []
   },
   "outputs": [
    {
     "data": {
      "text/html": [
       "<div>\n",
       "<style scoped>\n",
       "    .dataframe tbody tr th:only-of-type {\n",
       "        vertical-align: middle;\n",
       "    }\n",
       "\n",
       "    .dataframe tbody tr th {\n",
       "        vertical-align: top;\n",
       "    }\n",
       "\n",
       "    .dataframe thead th {\n",
       "        text-align: right;\n",
       "    }\n",
       "</style>\n",
       "<table border=\"1\" class=\"dataframe\">\n",
       "  <thead>\n",
       "    <tr style=\"text-align: right;\">\n",
       "      <th></th>\n",
       "      <th>pair</th>\n",
       "      <th>cnt</th>\n",
       "    </tr>\n",
       "  </thead>\n",
       "  <tbody>\n",
       "    <tr>\n",
       "      <th>0</th>\n",
       "      <td>3338-730</td>\n",
       "      <td>2</td>\n",
       "    </tr>\n",
       "    <tr>\n",
       "      <th>1</th>\n",
       "      <td>5086-1242</td>\n",
       "      <td>2</td>\n",
       "    </tr>\n",
       "    <tr>\n",
       "      <th>2</th>\n",
       "      <td>8444-4714</td>\n",
       "      <td>2</td>\n",
       "    </tr>\n",
       "    <tr>\n",
       "      <th>3</th>\n",
       "      <td>2850-3593</td>\n",
       "      <td>2</td>\n",
       "    </tr>\n",
       "    <tr>\n",
       "      <th>4</th>\n",
       "      <td>2466-5203</td>\n",
       "      <td>2</td>\n",
       "    </tr>\n",
       "    <tr>\n",
       "      <th>...</th>\n",
       "      <td>...</td>\n",
       "      <td>...</td>\n",
       "    </tr>\n",
       "    <tr>\n",
       "      <th>10599</th>\n",
       "      <td>2548-2068</td>\n",
       "      <td>1</td>\n",
       "    </tr>\n",
       "    <tr>\n",
       "      <th>10600</th>\n",
       "      <td>2743-200</td>\n",
       "      <td>1</td>\n",
       "    </tr>\n",
       "    <tr>\n",
       "      <th>10601</th>\n",
       "      <td>7078-4288</td>\n",
       "      <td>1</td>\n",
       "    </tr>\n",
       "    <tr>\n",
       "      <th>10602</th>\n",
       "      <td>3860-6844</td>\n",
       "      <td>1</td>\n",
       "    </tr>\n",
       "    <tr>\n",
       "      <th>10603</th>\n",
       "      <td>730-3338</td>\n",
       "      <td>1</td>\n",
       "    </tr>\n",
       "  </tbody>\n",
       "</table>\n",
       "<p>10604 rows × 2 columns</p>\n",
       "</div>"
      ],
      "text/plain": [
       "            pair  cnt\n",
       "0       3338-730    2\n",
       "1      5086-1242    2\n",
       "2      8444-4714    2\n",
       "3      2850-3593    2\n",
       "4      2466-5203    2\n",
       "...          ...  ...\n",
       "10599  2548-2068    1\n",
       "10600   2743-200    1\n",
       "10601  7078-4288    1\n",
       "10602  3860-6844    1\n",
       "10603   730-3338    1\n",
       "\n",
       "[10604 rows x 2 columns]"
      ]
     },
     "execution_count": 3,
     "metadata": {},
     "output_type": "execute_result"
    }
   ],
   "source": [
    "vc"
   ]
  },
  {
   "cell_type": "code",
   "execution_count": 4,
   "id": "5ea0a00a",
   "metadata": {
    "execution": {
     "iopub.execute_input": "2022-01-31T14:31:15.490475Z",
     "iopub.status.busy": "2022-01-31T14:31:15.489387Z",
     "iopub.status.idle": "2022-01-31T14:31:15.519958Z",
     "shell.execute_reply": "2022-01-31T14:31:15.520656Z",
     "shell.execute_reply.started": "2022-01-22T17:03:19.466073Z"
    },
    "papermill": {
     "duration": 0.049256,
     "end_time": "2022-01-31T14:31:15.520899",
     "exception": false,
     "start_time": "2022-01-31T14:31:15.471643",
     "status": "completed"
    },
    "tags": []
   },
   "outputs": [
    {
     "name": "stdout",
     "output_type": "stream",
     "text": [
      "True\n"
     ]
    }
   ],
   "source": [
    "vc['sorted_pair'] = vc.pair.map(lambda x: tuple(sorted(x.split('-'))))\n",
    "print(all(vc.groupby('sorted_pair')['cnt'].sum() == 3))"
   ]
  }
 ],
 "metadata": {
  "kernelspec": {
   "display_name": "Python 3",
   "language": "python",
   "name": "python3"
  },
  "language_info": {
   "codemirror_mode": {
    "name": "ipython",
    "version": 3
   },
   "file_extension": ".py",
   "mimetype": "text/x-python",
   "name": "python",
   "nbconvert_exporter": "python",
   "pygments_lexer": "ipython3",
   "version": "3.7.12"
  },
  "papermill": {
   "default_parameters": {},
   "duration": 13.676385,
   "end_time": "2022-01-31T14:31:16.240678",
   "environment_variables": {},
   "exception": null,
   "input_path": "__notebook__.ipynb",
   "output_path": "__notebook__.ipynb",
   "parameters": {},
   "start_time": "2022-01-31T14:31:02.564293",
   "version": "2.3.3"
  }
 },
 "nbformat": 4,
 "nbformat_minor": 5
}
