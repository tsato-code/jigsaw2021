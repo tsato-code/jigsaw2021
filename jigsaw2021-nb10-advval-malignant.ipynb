{
 "cells": [
  {
   "cell_type": "markdown",
   "id": "4b9eb35a",
   "metadata": {
    "papermill": {
     "duration": 0.023437,
     "end_time": "2022-01-05T14:21:21.313397",
     "exception": false,
     "start_time": "2022-01-05T14:21:21.289960",
     "status": "completed"
    },
    "tags": []
   },
   "source": [
    "# Overview\n",
    "\n",
    "- EDA\n",
    "- sample/feature selection\n",
    "- baseline model\n",
    "- validation\n",
    "- submit\n",
    "\n",
    "【基本の考え方】\n",
    "- Private LB がテストデータで評価されるため、テストデータに基づいてクリーニング、特徴量選択、訓練データの選択、を行う。\n",
    "- nb06 のデータセットを変えて公開されたデータセット Malignant Comment Classification 版をつくる。"
   ]
  },
  {
   "cell_type": "code",
   "execution_count": 1,
   "id": "570cb17c",
   "metadata": {
    "_cell_guid": "b1076dfc-b9ad-4769-8c92-a6c4dae69d19",
    "_uuid": "8f2839f25d086af736a60e9eeb907d3b93b6e0e5",
    "execution": {
     "iopub.execute_input": "2022-01-05T14:21:21.368225Z",
     "iopub.status.busy": "2022-01-05T14:21:21.367652Z",
     "iopub.status.idle": "2022-01-05T14:21:21.383222Z",
     "shell.execute_reply": "2022-01-05T14:21:21.382682Z",
     "shell.execute_reply.started": "2022-01-05T14:08:43.748549Z"
    },
    "papermill": {
     "duration": 0.047495,
     "end_time": "2022-01-05T14:21:21.383339",
     "exception": false,
     "start_time": "2022-01-05T14:21:21.335844",
     "status": "completed"
    },
    "tags": []
   },
   "outputs": [
    {
     "name": "stdout",
     "output_type": "stream",
     "text": [
      "/kaggle/input/malignant-comment-classification/train.csv\n",
      "/kaggle/input/malignant-comment-classification/test.csv\n",
      "/kaggle/input/jigsaw-toxic-severity-rating/sample_submission.csv\n",
      "/kaggle/input/jigsaw-toxic-severity-rating/validation_data.csv\n",
      "/kaggle/input/jigsaw-toxic-severity-rating/comments_to_score.csv\n"
     ]
    }
   ],
   "source": [
    "# Directories\n",
    "import os\n",
    "for dirname, _, filenames in os.walk('/kaggle/input'):\n",
    "    for filename in filenames:\n",
    "        print(os.path.join(dirname, filename))"
   ]
  },
  {
   "cell_type": "code",
   "execution_count": 2,
   "id": "3ce318b1",
   "metadata": {
    "execution": {
     "iopub.execute_input": "2022-01-05T14:21:21.438730Z",
     "iopub.status.busy": "2022-01-05T14:21:21.438124Z",
     "iopub.status.idle": "2022-01-05T14:21:21.440428Z",
     "shell.execute_reply": "2022-01-05T14:21:21.439790Z",
     "shell.execute_reply.started": "2022-01-05T14:08:43.792187Z"
    },
    "papermill": {
     "duration": 0.03297,
     "end_time": "2022-01-05T14:21:21.440580",
     "exception": false,
     "start_time": "2022-01-05T14:21:21.407610",
     "status": "completed"
    },
    "tags": []
   },
   "outputs": [],
   "source": [
    "# Parameters\n",
    "DEBUG_FLAG = False\n",
    "VERSION = 'nb06'\n",
    "\n",
    "SUBMISSION_PATH = '/kaggle/input/jigsaw-toxic-severity-rating/sample_submission.csv'\n",
    "VALIDATION_DATA_PATH = '/kaggle/input/jigsaw-toxic-severity-rating/validation_data.csv'\n",
    "COMMENTS_SCORE_PATH = '/kaggle/input/jigsaw-toxic-severity-rating/comments_to_score.csv'\n",
    "MALIGNANT_TRAIN_PATH = '/kaggle/input/malignant-comment-classification/train.csv'\n",
    "\n",
    "N_SPLITS = 5 if not DEBUG_FLAG else 2"
   ]
  },
  {
   "cell_type": "code",
   "execution_count": 3,
   "id": "23d44397",
   "metadata": {
    "execution": {
     "iopub.execute_input": "2022-01-05T14:21:21.488565Z",
     "iopub.status.busy": "2022-01-05T14:21:21.487980Z",
     "iopub.status.idle": "2022-01-05T14:21:23.126745Z",
     "shell.execute_reply": "2022-01-05T14:21:23.126246Z",
     "shell.execute_reply.started": "2022-01-05T14:08:43.799205Z"
    },
    "papermill": {
     "duration": 1.663883,
     "end_time": "2022-01-05T14:21:23.126882",
     "exception": false,
     "start_time": "2022-01-05T14:21:21.462999",
     "status": "completed"
    },
    "tags": []
   },
   "outputs": [
    {
     "data": {
      "text/html": [
       "<style type='text/css'>\n",
       ".datatable table.frame { margin-bottom: 0; }\n",
       ".datatable table.frame thead { border-bottom: none; }\n",
       ".datatable table.frame tr.coltypes td {  color: #FFFFFF;  line-height: 6px;  padding: 0 0.5em;}\n",
       ".datatable .bool    { background: #DDDD99; }\n",
       ".datatable .object  { background: #565656; }\n",
       ".datatable .int     { background: #5D9E5D; }\n",
       ".datatable .float   { background: #4040CC; }\n",
       ".datatable .str     { background: #CC4040; }\n",
       ".datatable .time    { background: #40CC40; }\n",
       ".datatable .row_index {  background: var(--jp-border-color3);  border-right: 1px solid var(--jp-border-color0);  color: var(--jp-ui-font-color3);  font-size: 9px;}\n",
       ".datatable .frame tbody td { text-align: left; }\n",
       ".datatable .frame tr.coltypes .row_index {  background: var(--jp-border-color0);}\n",
       ".datatable th:nth-child(2) { padding-left: 12px; }\n",
       ".datatable .hellipsis {  color: var(--jp-cell-editor-border-color);}\n",
       ".datatable .vellipsis {  background: var(--jp-layout-color0);  color: var(--jp-cell-editor-border-color);}\n",
       ".datatable .na {  color: var(--jp-cell-editor-border-color);  font-size: 80%;}\n",
       ".datatable .sp {  opacity: 0.25;}\n",
       ".datatable .footer { font-size: 9px; }\n",
       ".datatable .frame_dimensions {  background: var(--jp-border-color3);  border-top: 1px solid var(--jp-border-color0);  color: var(--jp-ui-font-color3);  display: inline-block;  opacity: 0.6;  padding: 1px 10px 1px 5px;}\n",
       "</style>\n"
      ],
      "text/plain": [
       "<IPython.core.display.HTML object>"
      ]
     },
     "metadata": {},
     "output_type": "display_data"
    }
   ],
   "source": [
    "# Modules\n",
    "import re\n",
    "import sys\n",
    "import time\n",
    "\n",
    "import datatable as dt\n",
    "import nltk\n",
    "import numpy as np\n",
    "import pandas as pd\n",
    "\n",
    "from matplotlib import pyplot as plt\n",
    "from matplotlib_venn import venn3\n",
    "from sklearn.feature_extraction import text\n",
    "from sklearn.feature_extraction.text import TfidfVectorizer\n",
    "from sklearn.linear_model import Ridge, SGDClassifier, SGDRegressor\n",
    "from sklearn.metrics import mean_squared_error, roc_auc_score\n",
    "from sklearn.model_selection import KFold, StratifiedKFold\n",
    "\n",
    "sys.setrecursionlimit(5000)"
   ]
  },
  {
   "cell_type": "code",
   "execution_count": 4,
   "id": "fc26285c",
   "metadata": {
    "execution": {
     "iopub.execute_input": "2022-01-05T14:21:23.190749Z",
     "iopub.status.busy": "2022-01-05T14:21:23.190081Z",
     "iopub.status.idle": "2022-01-05T14:21:23.193499Z",
     "shell.execute_reply": "2022-01-05T14:21:23.194021Z",
     "shell.execute_reply.started": "2022-01-05T14:08:45.490950Z"
    },
    "papermill": {
     "duration": 0.039438,
     "end_time": "2022-01-05T14:21:23.194202",
     "exception": false,
     "start_time": "2022-01-05T14:21:23.154764",
     "status": "completed"
    },
    "tags": []
   },
   "outputs": [],
   "source": [
    "# My functions\n",
    "def read_df():\n",
    "    valid = dt.fread(VALIDATION_DATA_PATH).to_pandas()\n",
    "    test = dt.fread(COMMENTS_SCORE_PATH).to_pandas()\n",
    "    submission = dt.fread(SUBMISSION_PATH).to_pandas()\n",
    "    malignant = dt.fread(MALIGNANT_TRAIN_PATH).to_pandas()\n",
    "    \n",
    "    if DEBUG_FLAG:\n",
    "        valid = valid.sample(n=1000).reset_index(drop=True)\n",
    "        test = test.sample(n=1000).reset_index(drop=True)\n",
    "        malignant = malignant.sample(n=1000).reset_index(drop=True)\n",
    "    \n",
    "    return valid, test, submission, malignant"
   ]
  },
  {
   "cell_type": "code",
   "execution_count": 5,
   "id": "85da5f12",
   "metadata": {
    "execution": {
     "iopub.execute_input": "2022-01-05T14:21:23.244582Z",
     "iopub.status.busy": "2022-01-05T14:21:23.244110Z",
     "iopub.status.idle": "2022-01-05T14:21:24.955975Z",
     "shell.execute_reply": "2022-01-05T14:21:24.955418Z",
     "shell.execute_reply.started": "2022-01-05T14:08:45.500804Z"
    },
    "papermill": {
     "duration": 1.737405,
     "end_time": "2022-01-05T14:21:24.956091",
     "exception": false,
     "start_time": "2022-01-05T14:21:23.218686",
     "status": "completed"
    },
    "tags": []
   },
   "outputs": [
    {
     "name": "stdout",
     "output_type": "stream",
     "text": [
      "valid shape: (30108, 3)\n",
      "test shape: (7537, 2)\n",
      "submission shape: (7537, 2)\n",
      "malignant shape: (159571, 8)\n"
     ]
    }
   ],
   "source": [
    "valid, test, submission, malignant = read_df()\n",
    "\n",
    "print(f'valid shape: {valid.shape}')\n",
    "print(f'test shape: {test.shape}')\n",
    "print(f'submission shape: {submission.shape}')\n",
    "print(f'malignant shape: {malignant.shape}')"
   ]
  },
  {
   "cell_type": "code",
   "execution_count": 6,
   "id": "e6942f28",
   "metadata": {
    "execution": {
     "iopub.execute_input": "2022-01-05T14:21:25.013079Z",
     "iopub.status.busy": "2022-01-05T14:21:25.012580Z",
     "iopub.status.idle": "2022-01-05T14:21:25.041942Z",
     "shell.execute_reply": "2022-01-05T14:21:25.042341Z",
     "shell.execute_reply.started": "2022-01-05T14:08:47.267146Z"
    },
    "papermill": {
     "duration": 0.061486,
     "end_time": "2022-01-05T14:21:25.042539",
     "exception": false,
     "start_time": "2022-01-05T14:21:24.981053",
     "status": "completed"
    },
    "tags": []
   },
   "outputs": [
    {
     "data": {
      "text/html": [
       "<div>\n",
       "<style scoped>\n",
       "    .dataframe tbody tr th:only-of-type {\n",
       "        vertical-align: middle;\n",
       "    }\n",
       "\n",
       "    .dataframe tbody tr th {\n",
       "        vertical-align: top;\n",
       "    }\n",
       "\n",
       "    .dataframe thead th {\n",
       "        text-align: right;\n",
       "    }\n",
       "</style>\n",
       "<table border=\"1\" class=\"dataframe\">\n",
       "  <thead>\n",
       "    <tr style=\"text-align: right;\">\n",
       "      <th></th>\n",
       "      <th>worker</th>\n",
       "      <th>less_toxic</th>\n",
       "      <th>more_toxic</th>\n",
       "    </tr>\n",
       "  </thead>\n",
       "  <tbody>\n",
       "    <tr>\n",
       "      <th>0</th>\n",
       "      <td>313</td>\n",
       "      <td>This article sucks \\n\\nwoo woo wooooooo</td>\n",
       "      <td>WHAT!!!!!!!!?!?!!?!?!!?!?!?!?!!!!!!!!!!!!!!!!!...</td>\n",
       "    </tr>\n",
       "    <tr>\n",
       "      <th>1</th>\n",
       "      <td>188</td>\n",
       "      <td>\"And yes, people should recognize that but the...</td>\n",
       "      <td>Daphne Guinness \\n\\nTop of the mornin' my fav...</td>\n",
       "    </tr>\n",
       "    <tr>\n",
       "      <th>2</th>\n",
       "      <td>82</td>\n",
       "      <td>Western Media?\\n\\nYup, because every crime in...</td>\n",
       "      <td>\"Atom you don't believe actual photos of mastu...</td>\n",
       "    </tr>\n",
       "    <tr>\n",
       "      <th>3</th>\n",
       "      <td>347</td>\n",
       "      <td>And you removed it! You numbskull! I don't car...</td>\n",
       "      <td>You seem to have sand in your vagina.\\n\\nMight...</td>\n",
       "    </tr>\n",
       "    <tr>\n",
       "      <th>4</th>\n",
       "      <td>539</td>\n",
       "      <td>smelly vagina \\n\\nBluerasberry why don't you ...</td>\n",
       "      <td>hey \\n\\nway to support nazis, you racist</td>\n",
       "    </tr>\n",
       "  </tbody>\n",
       "</table>\n",
       "</div>"
      ],
      "text/plain": [
       "   worker                                         less_toxic  \\\n",
       "0     313            This article sucks \\n\\nwoo woo wooooooo   \n",
       "1     188  \"And yes, people should recognize that but the...   \n",
       "2      82   Western Media?\\n\\nYup, because every crime in...   \n",
       "3     347  And you removed it! You numbskull! I don't car...   \n",
       "4     539   smelly vagina \\n\\nBluerasberry why don't you ...   \n",
       "\n",
       "                                          more_toxic  \n",
       "0  WHAT!!!!!!!!?!?!!?!?!!?!?!?!?!!!!!!!!!!!!!!!!!...  \n",
       "1   Daphne Guinness \\n\\nTop of the mornin' my fav...  \n",
       "2  \"Atom you don't believe actual photos of mastu...  \n",
       "3  You seem to have sand in your vagina.\\n\\nMight...  \n",
       "4           hey \\n\\nway to support nazis, you racist  "
      ]
     },
     "metadata": {},
     "output_type": "display_data"
    },
    {
     "data": {
      "text/html": [
       "<div>\n",
       "<style scoped>\n",
       "    .dataframe tbody tr th:only-of-type {\n",
       "        vertical-align: middle;\n",
       "    }\n",
       "\n",
       "    .dataframe tbody tr th {\n",
       "        vertical-align: top;\n",
       "    }\n",
       "\n",
       "    .dataframe thead th {\n",
       "        text-align: right;\n",
       "    }\n",
       "</style>\n",
       "<table border=\"1\" class=\"dataframe\">\n",
       "  <thead>\n",
       "    <tr style=\"text-align: right;\">\n",
       "      <th></th>\n",
       "      <th>comment_id</th>\n",
       "      <th>text</th>\n",
       "    </tr>\n",
       "  </thead>\n",
       "  <tbody>\n",
       "    <tr>\n",
       "      <th>0</th>\n",
       "      <td>114890</td>\n",
       "      <td>\"\\n \\n\\nGjalexei, you asked about whether ther...</td>\n",
       "    </tr>\n",
       "    <tr>\n",
       "      <th>1</th>\n",
       "      <td>732895</td>\n",
       "      <td>Looks like be have an abuser , can you please ...</td>\n",
       "    </tr>\n",
       "    <tr>\n",
       "      <th>2</th>\n",
       "      <td>1139051</td>\n",
       "      <td>I confess to having complete (and apparently b...</td>\n",
       "    </tr>\n",
       "    <tr>\n",
       "      <th>3</th>\n",
       "      <td>1434512</td>\n",
       "      <td>\"\\n\\nFreud's ideas are certainly much discusse...</td>\n",
       "    </tr>\n",
       "    <tr>\n",
       "      <th>4</th>\n",
       "      <td>2084821</td>\n",
       "      <td>It is not just you. This is a laundry list of ...</td>\n",
       "    </tr>\n",
       "  </tbody>\n",
       "</table>\n",
       "</div>"
      ],
      "text/plain": [
       "   comment_id                                               text\n",
       "0      114890  \"\\n \\n\\nGjalexei, you asked about whether ther...\n",
       "1      732895  Looks like be have an abuser , can you please ...\n",
       "2     1139051  I confess to having complete (and apparently b...\n",
       "3     1434512  \"\\n\\nFreud's ideas are certainly much discusse...\n",
       "4     2084821  It is not just you. This is a laundry list of ..."
      ]
     },
     "metadata": {},
     "output_type": "display_data"
    },
    {
     "data": {
      "text/html": [
       "<div>\n",
       "<style scoped>\n",
       "    .dataframe tbody tr th:only-of-type {\n",
       "        vertical-align: middle;\n",
       "    }\n",
       "\n",
       "    .dataframe tbody tr th {\n",
       "        vertical-align: top;\n",
       "    }\n",
       "\n",
       "    .dataframe thead th {\n",
       "        text-align: right;\n",
       "    }\n",
       "</style>\n",
       "<table border=\"1\" class=\"dataframe\">\n",
       "  <thead>\n",
       "    <tr style=\"text-align: right;\">\n",
       "      <th></th>\n",
       "      <th>comment_id</th>\n",
       "      <th>score</th>\n",
       "    </tr>\n",
       "  </thead>\n",
       "  <tbody>\n",
       "    <tr>\n",
       "      <th>0</th>\n",
       "      <td>114890</td>\n",
       "      <td>0.5</td>\n",
       "    </tr>\n",
       "    <tr>\n",
       "      <th>1</th>\n",
       "      <td>732895</td>\n",
       "      <td>0.5</td>\n",
       "    </tr>\n",
       "    <tr>\n",
       "      <th>2</th>\n",
       "      <td>1139051</td>\n",
       "      <td>0.5</td>\n",
       "    </tr>\n",
       "    <tr>\n",
       "      <th>3</th>\n",
       "      <td>1434512</td>\n",
       "      <td>0.5</td>\n",
       "    </tr>\n",
       "    <tr>\n",
       "      <th>4</th>\n",
       "      <td>2084821</td>\n",
       "      <td>0.5</td>\n",
       "    </tr>\n",
       "  </tbody>\n",
       "</table>\n",
       "</div>"
      ],
      "text/plain": [
       "   comment_id  score\n",
       "0      114890    0.5\n",
       "1      732895    0.5\n",
       "2     1139051    0.5\n",
       "3     1434512    0.5\n",
       "4     2084821    0.5"
      ]
     },
     "metadata": {},
     "output_type": "display_data"
    },
    {
     "data": {
      "text/html": [
       "<div>\n",
       "<style scoped>\n",
       "    .dataframe tbody tr th:only-of-type {\n",
       "        vertical-align: middle;\n",
       "    }\n",
       "\n",
       "    .dataframe tbody tr th {\n",
       "        vertical-align: top;\n",
       "    }\n",
       "\n",
       "    .dataframe thead th {\n",
       "        text-align: right;\n",
       "    }\n",
       "</style>\n",
       "<table border=\"1\" class=\"dataframe\">\n",
       "  <thead>\n",
       "    <tr style=\"text-align: right;\">\n",
       "      <th></th>\n",
       "      <th>id</th>\n",
       "      <th>comment_text</th>\n",
       "      <th>malignant</th>\n",
       "      <th>highly_malignant</th>\n",
       "      <th>rude</th>\n",
       "      <th>threat</th>\n",
       "      <th>abuse</th>\n",
       "      <th>loathe</th>\n",
       "    </tr>\n",
       "  </thead>\n",
       "  <tbody>\n",
       "    <tr>\n",
       "      <th>0</th>\n",
       "      <td>0000997932d777bf</td>\n",
       "      <td>Explanation\\nWhy the edits made under my usern...</td>\n",
       "      <td>False</td>\n",
       "      <td>False</td>\n",
       "      <td>False</td>\n",
       "      <td>False</td>\n",
       "      <td>False</td>\n",
       "      <td>False</td>\n",
       "    </tr>\n",
       "    <tr>\n",
       "      <th>1</th>\n",
       "      <td>000103f0d9cfb60f</td>\n",
       "      <td>D'aww! He matches this background colour I'm s...</td>\n",
       "      <td>False</td>\n",
       "      <td>False</td>\n",
       "      <td>False</td>\n",
       "      <td>False</td>\n",
       "      <td>False</td>\n",
       "      <td>False</td>\n",
       "    </tr>\n",
       "    <tr>\n",
       "      <th>2</th>\n",
       "      <td>000113f07ec002fd</td>\n",
       "      <td>Hey man, I'm really not trying to edit war. It...</td>\n",
       "      <td>False</td>\n",
       "      <td>False</td>\n",
       "      <td>False</td>\n",
       "      <td>False</td>\n",
       "      <td>False</td>\n",
       "      <td>False</td>\n",
       "    </tr>\n",
       "    <tr>\n",
       "      <th>3</th>\n",
       "      <td>0001b41b1c6bb37e</td>\n",
       "      <td>\"\\nMore\\nI can't make any real suggestions on ...</td>\n",
       "      <td>False</td>\n",
       "      <td>False</td>\n",
       "      <td>False</td>\n",
       "      <td>False</td>\n",
       "      <td>False</td>\n",
       "      <td>False</td>\n",
       "    </tr>\n",
       "    <tr>\n",
       "      <th>4</th>\n",
       "      <td>0001d958c54c6e35</td>\n",
       "      <td>You, sir, are my hero. Any chance you remember...</td>\n",
       "      <td>False</td>\n",
       "      <td>False</td>\n",
       "      <td>False</td>\n",
       "      <td>False</td>\n",
       "      <td>False</td>\n",
       "      <td>False</td>\n",
       "    </tr>\n",
       "  </tbody>\n",
       "</table>\n",
       "</div>"
      ],
      "text/plain": [
       "                 id                                       comment_text  \\\n",
       "0  0000997932d777bf  Explanation\\nWhy the edits made under my usern...   \n",
       "1  000103f0d9cfb60f  D'aww! He matches this background colour I'm s...   \n",
       "2  000113f07ec002fd  Hey man, I'm really not trying to edit war. It...   \n",
       "3  0001b41b1c6bb37e  \"\\nMore\\nI can't make any real suggestions on ...   \n",
       "4  0001d958c54c6e35  You, sir, are my hero. Any chance you remember...   \n",
       "\n",
       "   malignant  highly_malignant   rude  threat  abuse  loathe  \n",
       "0      False             False  False   False  False   False  \n",
       "1      False             False  False   False  False   False  \n",
       "2      False             False  False   False  False   False  \n",
       "3      False             False  False   False  False   False  \n",
       "4      False             False  False   False  False   False  "
      ]
     },
     "metadata": {},
     "output_type": "display_data"
    }
   ],
   "source": [
    "display(valid.head())\n",
    "display(test.head())\n",
    "display(submission.head())\n",
    "display(malignant.head())"
   ]
  },
  {
   "cell_type": "code",
   "execution_count": 7,
   "id": "209f897d",
   "metadata": {
    "execution": {
     "iopub.execute_input": "2022-01-05T14:21:25.095928Z",
     "iopub.status.busy": "2022-01-05T14:21:25.095247Z",
     "iopub.status.idle": "2022-01-05T14:21:25.759295Z",
     "shell.execute_reply": "2022-01-05T14:21:25.759958Z",
     "shell.execute_reply.started": "2022-01-05T14:08:47.308947Z"
    },
    "papermill": {
     "duration": 0.692817,
     "end_time": "2022-01-05T14:21:25.760118",
     "exception": false,
     "start_time": "2022-01-05T14:21:25.067301",
     "status": "completed"
    },
    "tags": []
   },
   "outputs": [
    {
     "data": {
      "image/png": "[encoded data removed]",
      "text/plain": [
       "<Figure size 432x432 with 1 Axes>"
      ]
     },
     "metadata": {},
     "output_type": "display_data"
    }
   ],
   "source": [
    "valid_unique_text = set(pd.concat([valid['less_toxic'], valid['more_toxic']]).unique())\n",
    "test_unique_text = set(test['text'].unique())\n",
    "malignant_unique_text = set(malignant['comment_text'].unique())\n",
    "\n",
    "plt.figure(figsize=(6,6))\n",
    "venn3(subsets=(valid_unique_text, test_unique_text, malignant_unique_text),\n",
    "      set_labels=('Validation set', 'test set', 'malignant set'))\n",
    "plt.title('text')\n",
    "plt.tight_layout()\n",
    "plt.show()"
   ]
  },
  {
   "cell_type": "markdown",
   "id": "759b90ae",
   "metadata": {
    "execution": {
     "iopub.execute_input": "2022-01-05T13:58:54.238923Z",
     "iopub.status.busy": "2022-01-05T13:58:54.238595Z",
     "iopub.status.idle": "2022-01-05T13:58:54.245878Z",
     "shell.execute_reply": "2022-01-05T13:58:54.244645Z",
     "shell.execute_reply.started": "2022-01-05T13:58:54.238892Z"
    },
    "papermill": {
     "duration": 0.038148,
     "end_time": "2022-01-05T14:21:25.837373",
     "exception": false,
     "start_time": "2022-01-05T14:21:25.799225",
     "status": "completed"
    },
    "tags": []
   },
   "source": [
    "test は validation に含まれている。一方で test は malignant に完全に含まれているわけではない。これにより、malignant を訓練データとして使う場合、同じテキストのサンプルを選択するよりも、予め特徴抽出した上で、似ているサンプルを選択するのがよいのかもしれない。\n",
    "\n",
    "方針としては、特徴抽出して、adversarial validation により似ているサンプルセットを使って学習、予測という流れ。"
   ]
  },
  {
   "cell_type": "code",
   "execution_count": 8,
   "id": "51cdbe3b",
   "metadata": {
    "execution": {
     "iopub.execute_input": "2022-01-05T14:21:25.923870Z",
     "iopub.status.busy": "2022-01-05T14:21:25.918494Z",
     "iopub.status.idle": "2022-01-05T14:21:25.927066Z",
     "shell.execute_reply": "2022-01-05T14:21:25.926492Z",
     "shell.execute_reply.started": "2022-01-05T14:08:48.105486Z"
    },
    "papermill": {
     "duration": 0.05124,
     "end_time": "2022-01-05T14:21:25.927209",
     "exception": false,
     "start_time": "2022-01-05T14:21:25.875969",
     "status": "completed"
    },
    "tags": []
   },
   "outputs": [],
   "source": [
    "# クリーニング関数\n",
    "def utils_preprocess_text(text, flg_stemm=False, flg_lemm=True, lst_stopwords=None, whitelist=None):\n",
    "    # clean (convert to lowercase and remove punctuations and characters and then strip)\n",
    "    text = re.sub(r'[^\\w\\s]', '', str(text).lower().strip())\n",
    "    \n",
    "    # remove numbers\n",
    "    text = re.sub(r'[\\d]', '', text)\n",
    "            \n",
    "    # Tokenize (convert from string to list)\n",
    "    lst_text = text.split()\n",
    "    \n",
    "    # remove Stopwords\n",
    "    if lst_stopwords is not None:\n",
    "        lst_text = [word for word in lst_text if word not in lst_stopwords]\n",
    "                \n",
    "    # Stemming (remove -ing, -ly, ...)\n",
    "    if flg_stemm == True:\n",
    "        ps = nltk.stem.porter.PorterStemmer()\n",
    "        lst_text = [ps.stem(word) for word in lst_text]\n",
    "                \n",
    "    # Lemmatisation (convert the word into root word)\n",
    "    if flg_lemm == True:\n",
    "        lem = nltk.stem.wordnet.WordNetLemmatizer()\n",
    "        lst_text = [lem.lemmatize(word) for word in lst_text]\n",
    "    \n",
    "    # white words list\n",
    "    if whitelist is not None:\n",
    "        lst_text = [word for word in lst_text if word in whitelist]\n",
    "        \n",
    "    # back to string from list\n",
    "    text = ' '.join(lst_text)\n",
    "    \n",
    "    return text"
   ]
  },
  {
   "cell_type": "code",
   "execution_count": 9,
   "id": "0b87b5eb",
   "metadata": {
    "execution": {
     "iopub.execute_input": "2022-01-05T14:21:26.014971Z",
     "iopub.status.busy": "2022-01-05T14:21:26.014224Z",
     "iopub.status.idle": "2022-01-05T14:21:36.827604Z",
     "shell.execute_reply": "2022-01-05T14:21:36.826921Z",
     "shell.execute_reply.started": "2022-01-05T14:08:48.117662Z"
    },
    "papermill": {
     "duration": 10.860936,
     "end_time": "2022-01-05T14:21:36.827741",
     "exception": false,
     "start_time": "2022-01-05T14:21:25.966805",
     "status": "completed"
    },
    "tags": []
   },
   "outputs": [
    {
     "name": "stdout",
     "output_type": "stream",
     "text": [
      "test_words size: 23636\n",
      "CPU times: user 10.7 s, sys: 56.7 ms, total: 10.8 s\n",
      "Wall time: 10.8 s\n"
     ]
    }
   ],
   "source": [
    "%%time\n",
    "stop_words = list(text.ENGLISH_STOP_WORDS)\n",
    "\n",
    "# test のクリーニング\n",
    "test['text_clean'] = test['text'].apply(lambda x: \n",
    "    utils_preprocess_text(x, flg_stemm=True, flg_lemm=True, lst_stopwords=stop_words, whitelist=None)\n",
    ")\n",
    "\n",
    "test_words = set(' '.join(test['text_clean']).split())\n",
    "print(f'test_words size: {len(test_words)}')"
   ]
  },
  {
   "cell_type": "code",
   "execution_count": 10,
   "id": "00e1385a",
   "metadata": {
    "execution": {
     "iopub.execute_input": "2022-01-05T14:21:36.914463Z",
     "iopub.status.busy": "2022-01-05T14:21:36.913603Z",
     "iopub.status.idle": "2022-01-05T14:25:34.024100Z",
     "shell.execute_reply": "2022-01-05T14:25:34.024531Z",
     "shell.execute_reply.started": "2022-01-05T14:09:01.721806Z"
    },
    "papermill": {
     "duration": 237.15773,
     "end_time": "2022-01-05T14:25:34.024668",
     "exception": false,
     "start_time": "2022-01-05T14:21:36.866938",
     "status": "completed"
    },
    "tags": []
   },
   "outputs": [
    {
     "name": "stdout",
     "output_type": "stream",
     "text": [
      "CPU times: user 3min 56s, sys: 258 ms, total: 3min 57s\n",
      "Wall time: 3min 57s\n"
     ]
    }
   ],
   "source": [
    "%%time\n",
    "\n",
    "# valid のクリーニング\n",
    "valid_unique_text = pd.Series(pd.concat([valid['less_toxic'], valid['more_toxic']]).unique())\n",
    "valid_unique_text_cleaned = valid_unique_text.apply(lambda x: \n",
    "    utils_preprocess_text(x, flg_stemm=True, flg_lemm=True, lst_stopwords=stop_words, whitelist=test_words)\n",
    ")\n",
    "valid_unique_text_dic = {text: cleaned_text for text, cleaned_text in zip(valid_unique_text, valid_unique_text_cleaned)}\n",
    "valid['less_toxic_clean'] = valid['less_toxic'].map(valid_unique_text_dic)\n",
    "valid['more_toxic_clean'] = valid['more_toxic'].map(valid_unique_text_dic)\n",
    "\n",
    "# malignant のクリーニング\n",
    "malignant = malignant.rename(columns={'comment_text': 'text'})\n",
    "malignant['text_clean'] = malignant['text'].apply(lambda x: \n",
    "    utils_preprocess_text(x, flg_stemm=True, flg_lemm=True, lst_stopwords=stop_words, whitelist=test_words)\n",
    ")"
   ]
  },
  {
   "cell_type": "code",
   "execution_count": 11,
   "id": "ad012c3f",
   "metadata": {
    "execution": {
     "iopub.execute_input": "2022-01-05T14:25:34.084981Z",
     "iopub.status.busy": "2022-01-05T14:25:34.083825Z",
     "iopub.status.idle": "2022-01-05T14:25:34.156017Z",
     "shell.execute_reply": "2022-01-05T14:25:34.155527Z",
     "shell.execute_reply.started": "2022-01-05T14:13:05.997905Z"
    },
    "papermill": {
     "duration": 0.105415,
     "end_time": "2022-01-05T14:25:34.156161",
     "exception": false,
     "start_time": "2022-01-05T14:25:34.050746",
     "status": "completed"
    },
    "tags": []
   },
   "outputs": [
    {
     "data": {
      "text/html": [
       "<div>\n",
       "<style scoped>\n",
       "    .dataframe tbody tr th:only-of-type {\n",
       "        vertical-align: middle;\n",
       "    }\n",
       "\n",
       "    .dataframe tbody tr th {\n",
       "        vertical-align: top;\n",
       "    }\n",
       "\n",
       "    .dataframe thead th {\n",
       "        text-align: right;\n",
       "    }\n",
       "</style>\n",
       "<table border=\"1\" class=\"dataframe\">\n",
       "  <thead>\n",
       "    <tr style=\"text-align: right;\">\n",
       "      <th></th>\n",
       "      <th>less_toxic</th>\n",
       "      <th>less_toxic_clean</th>\n",
       "    </tr>\n",
       "  </thead>\n",
       "  <tbody>\n",
       "    <tr>\n",
       "      <th>0</th>\n",
       "      <td>This article sucks \\n\\nwoo woo wooooooo</td>\n",
       "      <td>articl suck woo woo wooooooo</td>\n",
       "    </tr>\n",
       "    <tr>\n",
       "      <th>1</th>\n",
       "      <td>\"And yes, people should recognize that but the...</td>\n",
       "      <td>ye peopl recogn usual dont object hear direct ...</td>\n",
       "    </tr>\n",
       "    <tr>\n",
       "      <th>2</th>\n",
       "      <td>Western Media?\\n\\nYup, because every crime in...</td>\n",
       "      <td>western medium yup crime entir world caus west...</td>\n",
       "    </tr>\n",
       "    <tr>\n",
       "      <th>3</th>\n",
       "      <td>And you removed it! You numbskull! I don't car...</td>\n",
       "      <td>remov numbskul dont care say anymor life ahead...</td>\n",
       "    </tr>\n",
       "    <tr>\n",
       "      <th>4</th>\n",
       "      <td>smelly vagina \\n\\nBluerasberry why don't you ...</td>\n",
       "      <td>smelli vagina bluerasberri dont model cheesi b...</td>\n",
       "    </tr>\n",
       "    <tr>\n",
       "      <th>...</th>\n",
       "      <td>...</td>\n",
       "      <td>...</td>\n",
       "    </tr>\n",
       "    <tr>\n",
       "      <th>30103</th>\n",
       "      <td>I'm sorry. I'm not an admin. I will give you t...</td>\n",
       "      <td>im sorri im admin piec advic edit page away gu...</td>\n",
       "    </tr>\n",
       "    <tr>\n",
       "      <th>30104</th>\n",
       "      <td>I'm sorry. I'm not an admin. I will give you t...</td>\n",
       "      <td>im sorri im admin piec advic edit page away gu...</td>\n",
       "    </tr>\n",
       "    <tr>\n",
       "      <th>30105</th>\n",
       "      <td>wow...\\nare you out of your mind, how was my e...</td>\n",
       "      <td>wow mind edit talk page vandal simpli explain ...</td>\n",
       "    </tr>\n",
       "    <tr>\n",
       "      <th>30106</th>\n",
       "      <td>wow...\\nare you out of your mind, how was my e...</td>\n",
       "      <td>wow mind edit talk page vandal simpli explain ...</td>\n",
       "    </tr>\n",
       "    <tr>\n",
       "      <th>30107</th>\n",
       "      <td>wow...\\nare you out of your mind, how was my e...</td>\n",
       "      <td>wow mind edit talk page vandal simpli explain ...</td>\n",
       "    </tr>\n",
       "  </tbody>\n",
       "</table>\n",
       "<p>30108 rows × 2 columns</p>\n",
       "</div>"
      ],
      "text/plain": [
       "                                              less_toxic  \\\n",
       "0                This article sucks \\n\\nwoo woo wooooooo   \n",
       "1      \"And yes, people should recognize that but the...   \n",
       "2       Western Media?\\n\\nYup, because every crime in...   \n",
       "3      And you removed it! You numbskull! I don't car...   \n",
       "4       smelly vagina \\n\\nBluerasberry why don't you ...   \n",
       "...                                                  ...   \n",
       "30103  I'm sorry. I'm not an admin. I will give you t...   \n",
       "30104  I'm sorry. I'm not an admin. I will give you t...   \n",
       "30105  wow...\\nare you out of your mind, how was my e...   \n",
       "30106  wow...\\nare you out of your mind, how was my e...   \n",
       "30107  wow...\\nare you out of your mind, how was my e...   \n",
       "\n",
       "                                        less_toxic_clean  \n",
       "0                           articl suck woo woo wooooooo  \n",
       "1      ye peopl recogn usual dont object hear direct ...  \n",
       "2      western medium yup crime entir world caus west...  \n",
       "3      remov numbskul dont care say anymor life ahead...  \n",
       "4      smelli vagina bluerasberri dont model cheesi b...  \n",
       "...                                                  ...  \n",
       "30103  im sorri im admin piec advic edit page away gu...  \n",
       "30104  im sorri im admin piec advic edit page away gu...  \n",
       "30105  wow mind edit talk page vandal simpli explain ...  \n",
       "30106  wow mind edit talk page vandal simpli explain ...  \n",
       "30107  wow mind edit talk page vandal simpli explain ...  \n",
       "\n",
       "[30108 rows x 2 columns]"
      ]
     },
     "metadata": {},
     "output_type": "display_data"
    },
    {
     "data": {
      "text/html": [
       "<div>\n",
       "<style scoped>\n",
       "    .dataframe tbody tr th:only-of-type {\n",
       "        vertical-align: middle;\n",
       "    }\n",
       "\n",
       "    .dataframe tbody tr th {\n",
       "        vertical-align: top;\n",
       "    }\n",
       "\n",
       "    .dataframe thead th {\n",
       "        text-align: right;\n",
       "    }\n",
       "</style>\n",
       "<table border=\"1\" class=\"dataframe\">\n",
       "  <thead>\n",
       "    <tr style=\"text-align: right;\">\n",
       "      <th></th>\n",
       "      <th>more_toxic</th>\n",
       "      <th>more_toxic_clean</th>\n",
       "    </tr>\n",
       "  </thead>\n",
       "  <tbody>\n",
       "    <tr>\n",
       "      <th>0</th>\n",
       "      <td>WHAT!!!!!!!!?!?!!?!?!!?!?!?!?!!!!!!!!!!!!!!!!!...</td>\n",
       "      <td>wher sexi pic gone main page</td>\n",
       "    </tr>\n",
       "    <tr>\n",
       "      <th>1</th>\n",
       "      <td>Daphne Guinness \\n\\nTop of the mornin' my fav...</td>\n",
       "      <td>daphn guin mornin favourit alien life form im ...</td>\n",
       "    </tr>\n",
       "    <tr>\n",
       "      <th>2</th>\n",
       "      <td>\"Atom you don't believe actual photos of mastu...</td>\n",
       "      <td>atom dont believ actual photo masturb sexual e...</td>\n",
       "    </tr>\n",
       "    <tr>\n",
       "      <th>3</th>\n",
       "      <td>You seem to have sand in your vagina.\\n\\nMight...</td>\n",
       "      <td>sand vagina want wash stink hole bitch</td>\n",
       "    </tr>\n",
       "    <tr>\n",
       "      <th>4</th>\n",
       "      <td>hey \\n\\nway to support nazis, you racist</td>\n",
       "      <td>hey way support nazi racist</td>\n",
       "    </tr>\n",
       "    <tr>\n",
       "      <th>...</th>\n",
       "      <td>...</td>\n",
       "      <td>...</td>\n",
       "    </tr>\n",
       "    <tr>\n",
       "      <th>30103</th>\n",
       "      <td>get out my large penis</td>\n",
       "      <td>larg peni</td>\n",
       "    </tr>\n",
       "    <tr>\n",
       "      <th>30104</th>\n",
       "      <td>get out my large penis</td>\n",
       "      <td>larg peni</td>\n",
       "    </tr>\n",
       "    <tr>\n",
       "      <th>30105</th>\n",
       "      <td>Piss off you slant eyed-gook</td>\n",
       "      <td>piss slant eyedgook</td>\n",
       "    </tr>\n",
       "    <tr>\n",
       "      <th>30106</th>\n",
       "      <td>Piss off you slant eyed-gook</td>\n",
       "      <td>piss slant eyedgook</td>\n",
       "    </tr>\n",
       "    <tr>\n",
       "      <th>30107</th>\n",
       "      <td>Piss off you slant eyed-gook</td>\n",
       "      <td>piss slant eyedgook</td>\n",
       "    </tr>\n",
       "  </tbody>\n",
       "</table>\n",
       "<p>30108 rows × 2 columns</p>\n",
       "</div>"
      ],
      "text/plain": [
       "                                              more_toxic  \\\n",
       "0      WHAT!!!!!!!!?!?!!?!?!!?!?!?!?!!!!!!!!!!!!!!!!!...   \n",
       "1       Daphne Guinness \\n\\nTop of the mornin' my fav...   \n",
       "2      \"Atom you don't believe actual photos of mastu...   \n",
       "3      You seem to have sand in your vagina.\\n\\nMight...   \n",
       "4               hey \\n\\nway to support nazis, you racist   \n",
       "...                                                  ...   \n",
       "30103                             get out my large penis   \n",
       "30104                             get out my large penis   \n",
       "30105                       Piss off you slant eyed-gook   \n",
       "30106                       Piss off you slant eyed-gook   \n",
       "30107                       Piss off you slant eyed-gook   \n",
       "\n",
       "                                        more_toxic_clean  \n",
       "0                           wher sexi pic gone main page  \n",
       "1      daphn guin mornin favourit alien life form im ...  \n",
       "2      atom dont believ actual photo masturb sexual e...  \n",
       "3                 sand vagina want wash stink hole bitch  \n",
       "4                            hey way support nazi racist  \n",
       "...                                                  ...  \n",
       "30103                                          larg peni  \n",
       "30104                                          larg peni  \n",
       "30105                                piss slant eyedgook  \n",
       "30106                                piss slant eyedgook  \n",
       "30107                                piss slant eyedgook  \n",
       "\n",
       "[30108 rows x 2 columns]"
      ]
     },
     "metadata": {},
     "output_type": "display_data"
    },
    {
     "data": {
      "text/html": [
       "<div>\n",
       "<style scoped>\n",
       "    .dataframe tbody tr th:only-of-type {\n",
       "        vertical-align: middle;\n",
       "    }\n",
       "\n",
       "    .dataframe tbody tr th {\n",
       "        vertical-align: top;\n",
       "    }\n",
       "\n",
       "    .dataframe thead th {\n",
       "        text-align: right;\n",
       "    }\n",
       "</style>\n",
       "<table border=\"1\" class=\"dataframe\">\n",
       "  <thead>\n",
       "    <tr style=\"text-align: right;\">\n",
       "      <th></th>\n",
       "      <th>text</th>\n",
       "      <th>text_clean</th>\n",
       "    </tr>\n",
       "  </thead>\n",
       "  <tbody>\n",
       "    <tr>\n",
       "      <th>0</th>\n",
       "      <td>\"\\n \\n\\nGjalexei, you asked about whether ther...</td>\n",
       "      <td>gjalexei ask antieditori polici call wikipedia...</td>\n",
       "    </tr>\n",
       "    <tr>\n",
       "      <th>1</th>\n",
       "      <td>Looks like be have an abuser , can you please ...</td>\n",
       "      <td>look like abus look thank</td>\n",
       "    </tr>\n",
       "    <tr>\n",
       "      <th>2</th>\n",
       "      <td>I confess to having complete (and apparently b...</td>\n",
       "      <td>confess have complet appar bliss ignor jordan ...</td>\n",
       "    </tr>\n",
       "    <tr>\n",
       "      <th>3</th>\n",
       "      <td>\"\\n\\nFreud's ideas are certainly much discusse...</td>\n",
       "      <td>freud idea certainli discus today agre grappl ...</td>\n",
       "    </tr>\n",
       "    <tr>\n",
       "      <th>4</th>\n",
       "      <td>It is not just you. This is a laundry list of ...</td>\n",
       "      <td>just laundri list stupid alleg scoop godknowsw...</td>\n",
       "    </tr>\n",
       "    <tr>\n",
       "      <th>...</th>\n",
       "      <td>...</td>\n",
       "      <td>...</td>\n",
       "    </tr>\n",
       "    <tr>\n",
       "      <th>7532</th>\n",
       "      <td>Go away, you annoying vandal.</td>\n",
       "      <td>away annoy vandal</td>\n",
       "    </tr>\n",
       "    <tr>\n",
       "      <th>7533</th>\n",
       "      <td>This user is a vandal.</td>\n",
       "      <td>user vandal</td>\n",
       "    </tr>\n",
       "    <tr>\n",
       "      <th>7534</th>\n",
       "      <td>\" \\n\\nSorry to sound like a pain, but one by f...</td>\n",
       "      <td>sorri sound like pain follow tad stalk honesti...</td>\n",
       "    </tr>\n",
       "    <tr>\n",
       "      <th>7535</th>\n",
       "      <td>Well it's pretty fucking irrelevant now I'm un...</td>\n",
       "      <td>pretti fuck irrelev im unblock aint</td>\n",
       "    </tr>\n",
       "    <tr>\n",
       "      <th>7536</th>\n",
       "      <td>The team name is Great Britain and Northern Ir...</td>\n",
       "      <td>team great britain northern ireland blind reve...</td>\n",
       "    </tr>\n",
       "  </tbody>\n",
       "</table>\n",
       "<p>7537 rows × 2 columns</p>\n",
       "</div>"
      ],
      "text/plain": [
       "                                                   text  \\\n",
       "0     \"\\n \\n\\nGjalexei, you asked about whether ther...   \n",
       "1     Looks like be have an abuser , can you please ...   \n",
       "2     I confess to having complete (and apparently b...   \n",
       "3     \"\\n\\nFreud's ideas are certainly much discusse...   \n",
       "4     It is not just you. This is a laundry list of ...   \n",
       "...                                                 ...   \n",
       "7532                      Go away, you annoying vandal.   \n",
       "7533                             This user is a vandal.   \n",
       "7534  \" \\n\\nSorry to sound like a pain, but one by f...   \n",
       "7535  Well it's pretty fucking irrelevant now I'm un...   \n",
       "7536  The team name is Great Britain and Northern Ir...   \n",
       "\n",
       "                                             text_clean  \n",
       "0     gjalexei ask antieditori polici call wikipedia...  \n",
       "1                             look like abus look thank  \n",
       "2     confess have complet appar bliss ignor jordan ...  \n",
       "3     freud idea certainli discus today agre grappl ...  \n",
       "4     just laundri list stupid alleg scoop godknowsw...  \n",
       "...                                                 ...  \n",
       "7532                                  away annoy vandal  \n",
       "7533                                        user vandal  \n",
       "7534  sorri sound like pain follow tad stalk honesti...  \n",
       "7535                pretti fuck irrelev im unblock aint  \n",
       "7536  team great britain northern ireland blind reve...  \n",
       "\n",
       "[7537 rows x 2 columns]"
      ]
     },
     "metadata": {},
     "output_type": "display_data"
    },
    {
     "data": {
      "text/html": [
       "<div>\n",
       "<style scoped>\n",
       "    .dataframe tbody tr th:only-of-type {\n",
       "        vertical-align: middle;\n",
       "    }\n",
       "\n",
       "    .dataframe tbody tr th {\n",
       "        vertical-align: top;\n",
       "    }\n",
       "\n",
       "    .dataframe thead th {\n",
       "        text-align: right;\n",
       "    }\n",
       "</style>\n",
       "<table border=\"1\" class=\"dataframe\">\n",
       "  <thead>\n",
       "    <tr style=\"text-align: right;\">\n",
       "      <th></th>\n",
       "      <th>text</th>\n",
       "      <th>text_clean</th>\n",
       "    </tr>\n",
       "  </thead>\n",
       "  <tbody>\n",
       "    <tr>\n",
       "      <th>0</th>\n",
       "      <td>Explanation\\nWhy the edits made under my usern...</td>\n",
       "      <td>explan edit usernam hardcor fan revert werent ...</td>\n",
       "    </tr>\n",
       "    <tr>\n",
       "      <th>1</th>\n",
       "      <td>D'aww! He matches this background colour I'm s...</td>\n",
       "      <td>match background colour im seemingli stuck tha...</td>\n",
       "    </tr>\n",
       "    <tr>\n",
       "      <th>2</th>\n",
       "      <td>Hey man, I'm really not trying to edit war. It...</td>\n",
       "      <td>hey man im realli tri edit war just guy consta...</td>\n",
       "    </tr>\n",
       "    <tr>\n",
       "      <th>3</th>\n",
       "      <td>\"\\nMore\\nI can't make any real suggestions on ...</td>\n",
       "      <td>make real suggest improv wonder section statis...</td>\n",
       "    </tr>\n",
       "    <tr>\n",
       "      <th>4</th>\n",
       "      <td>You, sir, are my hero. Any chance you remember...</td>\n",
       "      <td>sir hero chanc rememb page that</td>\n",
       "    </tr>\n",
       "    <tr>\n",
       "      <th>...</th>\n",
       "      <td>...</td>\n",
       "      <td>...</td>\n",
       "    </tr>\n",
       "    <tr>\n",
       "      <th>159566</th>\n",
       "      <td>\":::::And for the second time of asking, when ...</td>\n",
       "      <td>second time ask view complet contradict covera...</td>\n",
       "    </tr>\n",
       "    <tr>\n",
       "      <th>159567</th>\n",
       "      <td>You should be ashamed of yourself \\n\\nThat is ...</td>\n",
       "      <td>asham horribl thing talk page</td>\n",
       "    </tr>\n",
       "    <tr>\n",
       "      <th>159568</th>\n",
       "      <td>Spitzer \\n\\nUmm, theres no actual article for ...</td>\n",
       "      <td>umm there actual articl prostitut ring crunch ...</td>\n",
       "    </tr>\n",
       "    <tr>\n",
       "      <th>159569</th>\n",
       "      <td>And it looks like it was actually you who put ...</td>\n",
       "      <td>look like actual speedi version delet look</td>\n",
       "    </tr>\n",
       "    <tr>\n",
       "      <th>159570</th>\n",
       "      <td>\"\\nAnd ... I really don't think you understand...</td>\n",
       "      <td>realli dont think understand came idea bad rig...</td>\n",
       "    </tr>\n",
       "  </tbody>\n",
       "</table>\n",
       "<p>159571 rows × 2 columns</p>\n",
       "</div>"
      ],
      "text/plain": [
       "                                                     text  \\\n",
       "0       Explanation\\nWhy the edits made under my usern...   \n",
       "1       D'aww! He matches this background colour I'm s...   \n",
       "2       Hey man, I'm really not trying to edit war. It...   \n",
       "3       \"\\nMore\\nI can't make any real suggestions on ...   \n",
       "4       You, sir, are my hero. Any chance you remember...   \n",
       "...                                                   ...   \n",
       "159566  \":::::And for the second time of asking, when ...   \n",
       "159567  You should be ashamed of yourself \\n\\nThat is ...   \n",
       "159568  Spitzer \\n\\nUmm, theres no actual article for ...   \n",
       "159569  And it looks like it was actually you who put ...   \n",
       "159570  \"\\nAnd ... I really don't think you understand...   \n",
       "\n",
       "                                               text_clean  \n",
       "0       explan edit usernam hardcor fan revert werent ...  \n",
       "1       match background colour im seemingli stuck tha...  \n",
       "2       hey man im realli tri edit war just guy consta...  \n",
       "3       make real suggest improv wonder section statis...  \n",
       "4                         sir hero chanc rememb page that  \n",
       "...                                                   ...  \n",
       "159566  second time ask view complet contradict covera...  \n",
       "159567                      asham horribl thing talk page  \n",
       "159568  umm there actual articl prostitut ring crunch ...  \n",
       "159569         look like actual speedi version delet look  \n",
       "159570  realli dont think understand came idea bad rig...  \n",
       "\n",
       "[159571 rows x 2 columns]"
      ]
     },
     "metadata": {},
     "output_type": "display_data"
    }
   ],
   "source": [
    "display(valid[['less_toxic', 'less_toxic_clean']])\n",
    "display(valid[['more_toxic', 'more_toxic_clean']])\n",
    "display(test[['text', 'text_clean']])\n",
    "display(malignant[['text', 'text_clean']])"
   ]
  },
  {
   "cell_type": "code",
   "execution_count": 12,
   "id": "d8e4e5f9",
   "metadata": {
    "execution": {
     "iopub.execute_input": "2022-01-05T14:25:34.247223Z",
     "iopub.status.busy": "2022-01-05T14:25:34.234890Z",
     "iopub.status.idle": "2022-01-05T14:25:34.344463Z",
     "shell.execute_reply": "2022-01-05T14:25:34.343878Z",
     "shell.execute_reply.started": "2022-01-05T14:13:06.092052Z"
    },
    "papermill": {
     "duration": 0.159605,
     "end_time": "2022-01-05T14:25:34.344610",
     "exception": false,
     "start_time": "2022-01-05T14:25:34.185005",
     "status": "completed"
    },
    "tags": []
   },
   "outputs": [
    {
     "name": "stdout",
     "output_type": "stream",
     "text": [
      "1 / 7537\n",
      "21 / 30108\n",
      "21 / 30108\n",
      "503 / 159571\n"
     ]
    }
   ],
   "source": [
    "# クリーニングにより空文字列になった文字列を抽出\n",
    "print(sum(test['text_clean'].apply(lambda x: len(x)) == 0), '/', len(test))\n",
    "print(sum(valid['less_toxic_clean'].apply(lambda x: len(x)) == 0), '/', len(valid))\n",
    "print(sum(valid['more_toxic_clean'].apply(lambda x: len(x)) == 0), '/', len(valid))\n",
    "print(sum(malignant['text_clean'].apply(lambda x: len(x)) == 0), '/', len(malignant))"
   ]
  },
  {
   "cell_type": "code",
   "execution_count": 13,
   "id": "b5c2f2a5",
   "metadata": {
    "execution": {
     "iopub.execute_input": "2022-01-05T14:25:34.410845Z",
     "iopub.status.busy": "2022-01-05T14:25:34.410269Z",
     "iopub.status.idle": "2022-01-05T14:25:34.621615Z",
     "shell.execute_reply": "2022-01-05T14:25:34.621168Z",
     "shell.execute_reply.started": "2022-01-05T14:13:06.304445Z"
    },
    "papermill": {
     "duration": 0.247774,
     "end_time": "2022-01-05T14:25:34.621777",
     "exception": false,
     "start_time": "2022-01-05T14:25:34.374003",
     "status": "completed"
    },
    "tags": []
   },
   "outputs": [],
   "source": [
    "# 空文字列の行を除く\n",
    "malignant['word_size'] = malignant['text_clean'].apply(lambda x: len(x))\n",
    "valid['less_toxic_size'] = valid['less_toxic_clean'].apply(lambda x: len(x))\n",
    "valid['more_toxic_size'] = valid['more_toxic_clean'].apply(lambda x: len(x))\n",
    "\n",
    "malignant = malignant.query('word_size != 0')\n",
    "valid = valid.query('less_toxic_size != 0 | more_toxic_size != 0')"
   ]
  },
  {
   "cell_type": "code",
   "execution_count": 14,
   "id": "b589be4b",
   "metadata": {
    "execution": {
     "iopub.execute_input": "2022-01-05T14:25:34.684437Z",
     "iopub.status.busy": "2022-01-05T14:25:34.683851Z",
     "iopub.status.idle": "2022-01-05T14:25:34.693184Z",
     "shell.execute_reply": "2022-01-05T14:25:34.692706Z",
     "shell.execute_reply.started": "2022-01-05T14:13:06.509994Z"
    },
    "papermill": {
     "duration": 0.042866,
     "end_time": "2022-01-05T14:25:34.693299",
     "exception": false,
     "start_time": "2022-01-05T14:25:34.650433",
     "status": "completed"
    },
    "tags": []
   },
   "outputs": [
    {
     "name": "stdout",
     "output_type": "stream",
     "text": [
      "advval_train_X shape: (166605,)\n",
      "advval_train_y shape: (166605,)\n"
     ]
    }
   ],
   "source": [
    "# preparing adversarial validation\n",
    "advval_train_X = pd.concat([malignant['text_clean'], test['text_clean']])\n",
    "advval_train_y = pd.concat([pd.Series(np.ones(malignant.shape[0])), pd.Series(np.zeros(test.shape[0]))])\n",
    "advval_valid_less_X = valid['less_toxic_clean']\n",
    "advval_valid_more_X = valid['more_toxic_clean']\n",
    "\n",
    "print(f'advval_train_X shape: {advval_train_X.shape}')\n",
    "print(f'advval_train_y shape: {advval_train_y.shape}')"
   ]
  },
  {
   "cell_type": "code",
   "execution_count": 15,
   "id": "ad5853a7",
   "metadata": {
    "execution": {
     "iopub.execute_input": "2022-01-05T14:25:34.753767Z",
     "iopub.status.busy": "2022-01-05T14:25:34.753071Z",
     "iopub.status.idle": "2022-01-05T14:25:44.876746Z",
     "shell.execute_reply": "2022-01-05T14:25:44.876301Z",
     "shell.execute_reply.started": "2022-01-05T14:13:06.527960Z"
    },
    "papermill": {
     "duration": 10.154774,
     "end_time": "2022-01-05T14:25:44.876865",
     "exception": false,
     "start_time": "2022-01-05T14:25:34.722091",
     "status": "completed"
    },
    "tags": []
   },
   "outputs": [
    {
     "name": "stdout",
     "output_type": "stream",
     "text": [
      "feature extracting ...\n",
      "Total number of features: 18094\n",
      "CPU times: user 10.1 s, sys: 50 ms, total: 10.1 s\n",
      "Wall time: 10.1 s\n"
     ]
    }
   ],
   "source": [
    "%%time\n",
    "\n",
    "# 特徴抽出\n",
    "print(f'feature extracting ...')\n",
    "advval_tfidf = TfidfVectorizer(\n",
    "    stop_words=stop_words,\n",
    "    min_df=3,\n",
    "    max_df=0.5, \n",
    "    max_features=100_000,\n",
    "    analyzer='word',\n",
    "    ngram_range=(1, 1)\n",
    ")\n",
    "advval_train_X_tfidf = advval_tfidf.fit_transform(advval_train_X)\n",
    "advval_train_X_tfidf_feature_names = advval_tfidf.get_feature_names()\n",
    "advval_train_X_tfidf_vocab = advval_tfidf.vocabulary_\n",
    "advval_valid_less_X_tfidf = advval_tfidf.transform(advval_valid_less_X)\n",
    "advval_valid_more_X_tfidf = advval_tfidf.transform(advval_valid_more_X)\n",
    "\n",
    "print('Total number of features:', advval_train_X_tfidf.shape[1])"
   ]
  },
  {
   "cell_type": "code",
   "execution_count": 16,
   "id": "b56ad739",
   "metadata": {
    "execution": {
     "iopub.execute_input": "2022-01-05T14:25:44.972829Z",
     "iopub.status.busy": "2022-01-05T14:25:44.972153Z",
     "iopub.status.idle": "2022-01-05T14:25:44.991302Z",
     "shell.execute_reply": "2022-01-05T14:25:44.990873Z",
     "shell.execute_reply.started": "2022-01-05T14:13:16.300810Z"
    },
    "papermill": {
     "duration": 0.084818,
     "end_time": "2022-01-05T14:25:44.991425",
     "exception": false,
     "start_time": "2022-01-05T14:25:44.906607",
     "status": "completed"
    },
    "tags": []
   },
   "outputs": [
    {
     "data": {
      "text/html": [
       "<div>\n",
       "<style scoped>\n",
       "    .dataframe tbody tr th:only-of-type {\n",
       "        vertical-align: middle;\n",
       "    }\n",
       "\n",
       "    .dataframe tbody tr th {\n",
       "        vertical-align: top;\n",
       "    }\n",
       "\n",
       "    .dataframe thead th {\n",
       "        text-align: right;\n",
       "    }\n",
       "</style>\n",
       "<table border=\"1\" class=\"dataframe\">\n",
       "  <thead>\n",
       "    <tr style=\"text-align: right;\">\n",
       "      <th></th>\n",
       "      <th>word</th>\n",
       "      <th>weight</th>\n",
       "    </tr>\n",
       "  </thead>\n",
       "  <tbody>\n",
       "    <tr>\n",
       "      <th>14129</th>\n",
       "      <td>shinn</td>\n",
       "      <td>11.637093</td>\n",
       "    </tr>\n",
       "    <tr>\n",
       "      <th>13741</th>\n",
       "      <td>schutzstaffel</td>\n",
       "      <td>11.637093</td>\n",
       "    </tr>\n",
       "    <tr>\n",
       "      <th>1695</th>\n",
       "      <td>bitchboy</td>\n",
       "      <td>11.637093</td>\n",
       "    </tr>\n",
       "    <tr>\n",
       "      <th>1696</th>\n",
       "      <td>bitchfest</td>\n",
       "      <td>11.637093</td>\n",
       "    </tr>\n",
       "    <tr>\n",
       "      <th>1697</th>\n",
       "      <td>bitchh</td>\n",
       "      <td>11.637093</td>\n",
       "    </tr>\n",
       "    <tr>\n",
       "      <th>...</th>\n",
       "      <td>...</td>\n",
       "      <td>...</td>\n",
       "    </tr>\n",
       "    <tr>\n",
       "      <th>17458</th>\n",
       "      <td>wikipedia</td>\n",
       "      <td>2.928659</td>\n",
       "    </tr>\n",
       "    <tr>\n",
       "      <th>4771</th>\n",
       "      <td>edit</td>\n",
       "      <td>2.887004</td>\n",
       "    </tr>\n",
       "    <tr>\n",
       "      <th>15419</th>\n",
       "      <td>talk</td>\n",
       "      <td>2.867275</td>\n",
       "    </tr>\n",
       "    <tr>\n",
       "      <th>11358</th>\n",
       "      <td>page</td>\n",
       "      <td>2.629481</td>\n",
       "    </tr>\n",
       "    <tr>\n",
       "      <th>938</th>\n",
       "      <td>articl</td>\n",
       "      <td>2.467991</td>\n",
       "    </tr>\n",
       "  </tbody>\n",
       "</table>\n",
       "<p>18094 rows × 2 columns</p>\n",
       "</div>"
      ],
      "text/plain": [
       "                word     weight\n",
       "14129          shinn  11.637093\n",
       "13741  schutzstaffel  11.637093\n",
       "1695        bitchboy  11.637093\n",
       "1696       bitchfest  11.637093\n",
       "1697          bitchh  11.637093\n",
       "...              ...        ...\n",
       "17458      wikipedia   2.928659\n",
       "4771            edit   2.887004\n",
       "15419           talk   2.867275\n",
       "11358           page   2.629481\n",
       "938           articl   2.467991\n",
       "\n",
       "[18094 rows x 2 columns]"
      ]
     },
     "execution_count": 16,
     "metadata": {},
     "output_type": "execute_result"
    }
   ],
   "source": [
    "# idf ranking\n",
    "idf = {'word': advval_tfidf.get_feature_names(), 'weight': advval_tfidf.idf_}\n",
    "pd.DataFrame(idf).sort_values('weight', ascending=False)"
   ]
  },
  {
   "cell_type": "code",
   "execution_count": 17,
   "id": "d43d929b",
   "metadata": {
    "execution": {
     "iopub.execute_input": "2022-01-05T14:25:45.054621Z",
     "iopub.status.busy": "2022-01-05T14:25:45.054039Z",
     "iopub.status.idle": "2022-01-05T14:25:45.069731Z",
     "shell.execute_reply": "2022-01-05T14:25:45.069178Z",
     "shell.execute_reply.started": "2022-01-05T14:13:16.343585Z"
    },
    "papermill": {
     "duration": 0.048742,
     "end_time": "2022-01-05T14:25:45.069847",
     "exception": false,
     "start_time": "2022-01-05T14:25:45.021105",
     "status": "completed"
    },
    "tags": []
   },
   "outputs": [],
   "source": [
    "# adversarial validation\n",
    "def adversarial_validation(train_X, train_y, tfidf):\n",
    "\n",
    "    models = []\n",
    "    oof_train = np.zeros((train_X.shape[0],))\n",
    "    scores = []\n",
    "\n",
    "    stkf = StratifiedKFold(\n",
    "        n_splits=N_SPLITS, \n",
    "        shuffle=True,\n",
    "        random_state=None\n",
    "    )\n",
    "\n",
    "    # 交差検証\n",
    "    for fold_id, (train_idx, valid_idx) in enumerate(stkf.split(train_X, train_y)):\n",
    "        start = time.time()\n",
    "        print(f'* ' * 40)\n",
    "        print(f'fold_id: {fold_id}')\n",
    "\n",
    "        # 訓練データ、評価データ、テストデータを整形\n",
    "        print(f'preprocessing ...')\n",
    "        X_trn = train_X.iloc[train_idx].reset_index(drop=True)\n",
    "        X_val = train_X.iloc[valid_idx].reset_index(drop=True)\n",
    "        y_trn = train_y.iloc[train_idx].reset_index(drop=True)\n",
    "        y_val = train_y.iloc[valid_idx].reset_index(drop=True)\n",
    "\n",
    "        X_trn_tfidf = tfidf.transform(X_trn)\n",
    "        X_val_tfidf = tfidf.transform(X_val)\n",
    "\n",
    "        print('Total number of train samples:', X_trn_tfidf.shape[0])\n",
    "        print('Total number of valid samples:', X_val_tfidf.shape[0])\n",
    "\n",
    "        # 訓練\n",
    "        print(f'training ...')\n",
    "        clf = SGDClassifier(\n",
    "            loss='log', \n",
    "            class_weight='balanced',\n",
    "            max_iter=10000, \n",
    "            tol=1e-3, \n",
    "            n_jobs=-1\n",
    "        )\n",
    "\n",
    "        clf.fit(X_trn_tfidf, y_trn)\n",
    "\n",
    "        # 推論\n",
    "        print(f'predicting ...')\n",
    "        val_pred = clf.predict_proba(X_val_tfidf)[:, 1]\n",
    "        oof_train[valid_idx] = val_pred\n",
    "        models.append(clf)\n",
    "\n",
    "        # 評価\n",
    "        print(f'validation ...')\n",
    "        score_auc = roc_auc_score(y_val, val_pred)\n",
    "        scores.append(score_auc)\n",
    "        elapsed = time.time() - start\n",
    "        print(f'fold {fold_id} - score: {score_auc:.6f}, elapsed time: {elapsed:.2f} [sec]')\n",
    "\n",
    "    print(f'* ' * 40)\n",
    "    print(f'Average AUC: {sum(scores)/N_SPLITS:.6f}')\n",
    "    \n",
    "    return oof_train, models"
   ]
  },
  {
   "cell_type": "code",
   "execution_count": 18,
   "id": "7253a651",
   "metadata": {
    "execution": {
     "iopub.execute_input": "2022-01-05T14:25:45.134718Z",
     "iopub.status.busy": "2022-01-05T14:25:45.134187Z",
     "iopub.status.idle": "2022-01-05T14:26:10.482284Z",
     "shell.execute_reply": "2022-01-05T14:26:10.481846Z",
     "shell.execute_reply.started": "2022-01-05T14:13:16.357315Z"
    },
    "papermill": {
     "duration": 25.382306,
     "end_time": "2022-01-05T14:26:10.482392",
     "exception": false,
     "start_time": "2022-01-05T14:25:45.100086",
     "status": "completed"
    },
    "tags": []
   },
   "outputs": [
    {
     "name": "stdout",
     "output_type": "stream",
     "text": [
      "* * * * * * * * * * * * * * * * * * * * * * * * * * * * * * * * * * * * * * * * \n",
      "fold_id: 0\n",
      "preprocessing ...\n",
      "Total number of train samples: 133284\n",
      "Total number of valid samples: 33321\n",
      "training ...\n",
      "predicting ...\n",
      "validation ...\n",
      "fold 0 - score: 0.811597, elapsed time: 5.01 [sec]\n",
      "* * * * * * * * * * * * * * * * * * * * * * * * * * * * * * * * * * * * * * * * \n",
      "fold_id: 1\n",
      "preprocessing ...\n",
      "Total number of train samples: 133284\n",
      "Total number of valid samples: 33321\n",
      "training ...\n",
      "predicting ...\n",
      "validation ...\n",
      "fold 1 - score: 0.813315, elapsed time: 5.10 [sec]\n",
      "* * * * * * * * * * * * * * * * * * * * * * * * * * * * * * * * * * * * * * * * \n",
      "fold_id: 2\n",
      "preprocessing ...\n",
      "Total number of train samples: 133284\n",
      "Total number of valid samples: 33321\n",
      "training ...\n",
      "predicting ...\n",
      "validation ...\n",
      "fold 2 - score: 0.814481, elapsed time: 4.99 [sec]\n",
      "* * * * * * * * * * * * * * * * * * * * * * * * * * * * * * * * * * * * * * * * \n",
      "fold_id: 3\n",
      "preprocessing ...\n",
      "Total number of train samples: 133284\n",
      "Total number of valid samples: 33321\n",
      "training ...\n",
      "predicting ...\n",
      "validation ...\n",
      "fold 3 - score: 0.821144, elapsed time: 5.14 [sec]\n",
      "* * * * * * * * * * * * * * * * * * * * * * * * * * * * * * * * * * * * * * * * \n",
      "fold_id: 4\n",
      "preprocessing ...\n",
      "Total number of train samples: 133284\n",
      "Total number of valid samples: 33321\n",
      "training ...\n",
      "predicting ...\n",
      "validation ...\n",
      "fold 4 - score: 0.810458, elapsed time: 5.07 [sec]\n",
      "* * * * * * * * * * * * * * * * * * * * * * * * * * * * * * * * * * * * * * * * \n",
      "Average AUC: 0.814199\n",
      "CPU times: user 25.5 s, sys: 1.62 s, total: 27.1 s\n",
      "Wall time: 25.3 s\n"
     ]
    }
   ],
   "source": [
    "%%time\n",
    "advval_oof_train, advval_models = adversarial_validation(advval_train_X, advval_train_y, advval_tfidf)"
   ]
  },
  {
   "cell_type": "code",
   "execution_count": 19,
   "id": "491f56d0",
   "metadata": {
    "execution": {
     "iopub.execute_input": "2022-01-05T14:26:10.551378Z",
     "iopub.status.busy": "2022-01-05T14:26:10.550869Z",
     "iopub.status.idle": "2022-01-05T14:26:10.852716Z",
     "shell.execute_reply": "2022-01-05T14:26:10.852276Z",
     "shell.execute_reply.started": "2022-01-05T14:13:58.031620Z"
    },
    "papermill": {
     "duration": 0.337389,
     "end_time": "2022-01-05T14:26:10.852825",
     "exception": false,
     "start_time": "2022-01-05T14:26:10.515436",
     "status": "completed"
    },
    "tags": []
   },
   "outputs": [
    {
     "data": {
      "image/png": "[encoded data removed]",
      "text/plain": [
       "<Figure size 432x288 with 1 Axes>"
      ]
     },
     "metadata": {
      "needs_background": "light"
     },
     "output_type": "display_data"
    }
   ],
   "source": [
    "# スコア分布\n",
    "plt.figure()\n",
    "plt.hist(advval_oof_train, alpha=.8, bins=100)\n",
    "plt.show()"
   ]
  },
  {
   "cell_type": "code",
   "execution_count": 20,
   "id": "4466958e",
   "metadata": {
    "execution": {
     "iopub.execute_input": "2022-01-05T14:26:10.926647Z",
     "iopub.status.busy": "2022-01-05T14:26:10.926156Z",
     "iopub.status.idle": "2022-01-05T14:26:10.936405Z",
     "shell.execute_reply": "2022-01-05T14:26:10.936950Z",
     "shell.execute_reply.started": "2022-01-05T14:13:58.411843Z"
    },
    "papermill": {
     "duration": 0.049105,
     "end_time": "2022-01-05T14:26:10.937114",
     "exception": false,
     "start_time": "2022-01-05T14:26:10.888009",
     "status": "completed"
    },
    "tags": []
   },
   "outputs": [
    {
     "data": {
      "text/html": [
       "<div>\n",
       "<style scoped>\n",
       "    .dataframe tbody tr th:only-of-type {\n",
       "        vertical-align: middle;\n",
       "    }\n",
       "\n",
       "    .dataframe tbody tr th {\n",
       "        vertical-align: top;\n",
       "    }\n",
       "\n",
       "    .dataframe thead th {\n",
       "        text-align: right;\n",
       "    }\n",
       "</style>\n",
       "<table border=\"1\" class=\"dataframe\">\n",
       "  <thead>\n",
       "    <tr style=\"text-align: right;\">\n",
       "      <th></th>\n",
       "      <th>oof_train</th>\n",
       "      <th>y</th>\n",
       "    </tr>\n",
       "  </thead>\n",
       "  <tbody>\n",
       "    <tr>\n",
       "      <th>0</th>\n",
       "      <td>0.663080</td>\n",
       "      <td>1.0</td>\n",
       "    </tr>\n",
       "    <tr>\n",
       "      <th>1</th>\n",
       "      <td>0.839373</td>\n",
       "      <td>1.0</td>\n",
       "    </tr>\n",
       "    <tr>\n",
       "      <th>2</th>\n",
       "      <td>0.522428</td>\n",
       "      <td>1.0</td>\n",
       "    </tr>\n",
       "    <tr>\n",
       "      <th>3</th>\n",
       "      <td>0.905576</td>\n",
       "      <td>1.0</td>\n",
       "    </tr>\n",
       "    <tr>\n",
       "      <th>4</th>\n",
       "      <td>0.628703</td>\n",
       "      <td>1.0</td>\n",
       "    </tr>\n",
       "    <tr>\n",
       "      <th>...</th>\n",
       "      <td>...</td>\n",
       "      <td>...</td>\n",
       "    </tr>\n",
       "    <tr>\n",
       "      <th>7532</th>\n",
       "      <td>0.169402</td>\n",
       "      <td>0.0</td>\n",
       "    </tr>\n",
       "    <tr>\n",
       "      <th>7533</th>\n",
       "      <td>0.156041</td>\n",
       "      <td>0.0</td>\n",
       "    </tr>\n",
       "    <tr>\n",
       "      <th>7534</th>\n",
       "      <td>0.555311</td>\n",
       "      <td>0.0</td>\n",
       "    </tr>\n",
       "    <tr>\n",
       "      <th>7535</th>\n",
       "      <td>0.347114</td>\n",
       "      <td>0.0</td>\n",
       "    </tr>\n",
       "    <tr>\n",
       "      <th>7536</th>\n",
       "      <td>0.384860</td>\n",
       "      <td>0.0</td>\n",
       "    </tr>\n",
       "  </tbody>\n",
       "</table>\n",
       "<p>166605 rows × 2 columns</p>\n",
       "</div>"
      ],
      "text/plain": [
       "      oof_train    y\n",
       "0      0.663080  1.0\n",
       "1      0.839373  1.0\n",
       "2      0.522428  1.0\n",
       "3      0.905576  1.0\n",
       "4      0.628703  1.0\n",
       "...         ...  ...\n",
       "7532   0.169402  0.0\n",
       "7533   0.156041  0.0\n",
       "7534   0.555311  0.0\n",
       "7535   0.347114  0.0\n",
       "7536   0.384860  0.0\n",
       "\n",
       "[166605 rows x 2 columns]"
      ]
     },
     "execution_count": 20,
     "metadata": {},
     "output_type": "execute_result"
    }
   ],
   "source": [
    "advval_oof_train = pd.DataFrame({'oof_train': advval_oof_train, 'y': advval_train_y})\n",
    "advval_oof_train"
   ]
  },
  {
   "cell_type": "code",
   "execution_count": 21,
   "id": "dea49894",
   "metadata": {
    "execution": {
     "iopub.execute_input": "2022-01-05T14:26:11.040943Z",
     "iopub.status.busy": "2022-01-05T14:26:11.040038Z",
     "iopub.status.idle": "2022-01-05T14:26:11.053989Z",
     "shell.execute_reply": "2022-01-05T14:26:11.054434Z",
     "shell.execute_reply.started": "2022-01-05T14:13:58.427434Z"
    },
    "papermill": {
     "duration": 0.06707,
     "end_time": "2022-01-05T14:26:11.054606",
     "exception": false,
     "start_time": "2022-01-05T14:26:10.987536",
     "status": "completed"
    },
    "tags": []
   },
   "outputs": [
    {
     "data": {
      "text/html": [
       "<div>\n",
       "<style scoped>\n",
       "    .dataframe tbody tr th:only-of-type {\n",
       "        vertical-align: middle;\n",
       "    }\n",
       "\n",
       "    .dataframe tbody tr th {\n",
       "        vertical-align: top;\n",
       "    }\n",
       "\n",
       "    .dataframe thead th {\n",
       "        text-align: right;\n",
       "    }\n",
       "</style>\n",
       "<table border=\"1\" class=\"dataframe\">\n",
       "  <thead>\n",
       "    <tr style=\"text-align: right;\">\n",
       "      <th></th>\n",
       "      <th>oof_train</th>\n",
       "      <th>y</th>\n",
       "    </tr>\n",
       "  </thead>\n",
       "  <tbody>\n",
       "    <tr>\n",
       "      <th>6</th>\n",
       "      <td>0.282052</td>\n",
       "      <td>1.0</td>\n",
       "    </tr>\n",
       "    <tr>\n",
       "      <th>7</th>\n",
       "      <td>0.270566</td>\n",
       "      <td>1.0</td>\n",
       "    </tr>\n",
       "    <tr>\n",
       "      <th>11</th>\n",
       "      <td>0.495652</td>\n",
       "      <td>1.0</td>\n",
       "    </tr>\n",
       "    <tr>\n",
       "      <th>14</th>\n",
       "      <td>0.485547</td>\n",
       "      <td>1.0</td>\n",
       "    </tr>\n",
       "    <tr>\n",
       "      <th>27</th>\n",
       "      <td>0.445745</td>\n",
       "      <td>1.0</td>\n",
       "    </tr>\n",
       "    <tr>\n",
       "      <th>...</th>\n",
       "      <td>...</td>\n",
       "      <td>...</td>\n",
       "    </tr>\n",
       "    <tr>\n",
       "      <th>159038</th>\n",
       "      <td>0.064490</td>\n",
       "      <td>1.0</td>\n",
       "    </tr>\n",
       "    <tr>\n",
       "      <th>159039</th>\n",
       "      <td>0.420956</td>\n",
       "      <td>1.0</td>\n",
       "    </tr>\n",
       "    <tr>\n",
       "      <th>159041</th>\n",
       "      <td>0.386836</td>\n",
       "      <td>1.0</td>\n",
       "    </tr>\n",
       "    <tr>\n",
       "      <th>159043</th>\n",
       "      <td>0.098193</td>\n",
       "      <td>1.0</td>\n",
       "    </tr>\n",
       "    <tr>\n",
       "      <th>159051</th>\n",
       "      <td>0.060596</td>\n",
       "      <td>1.0</td>\n",
       "    </tr>\n",
       "  </tbody>\n",
       "</table>\n",
       "<p>34881 rows × 2 columns</p>\n",
       "</div>"
      ],
      "text/plain": [
       "        oof_train    y\n",
       "6        0.282052  1.0\n",
       "7        0.270566  1.0\n",
       "11       0.495652  1.0\n",
       "14       0.485547  1.0\n",
       "27       0.445745  1.0\n",
       "...           ...  ...\n",
       "159038   0.064490  1.0\n",
       "159039   0.420956  1.0\n",
       "159041   0.386836  1.0\n",
       "159043   0.098193  1.0\n",
       "159051   0.060596  1.0\n",
       "\n",
       "[34881 rows x 2 columns]"
      ]
     },
     "execution_count": 21,
     "metadata": {},
     "output_type": "execute_result"
    }
   ],
   "source": [
    "# 訓練データのうちテストデータに近いサンプルを抽出\n",
    "advval_oof_train.query('oof_train < 0.5 & y == 1')"
   ]
  },
  {
   "cell_type": "code",
   "execution_count": 22,
   "id": "585d4dca",
   "metadata": {
    "execution": {
     "iopub.execute_input": "2022-01-05T14:26:11.131364Z",
     "iopub.status.busy": "2022-01-05T14:26:11.128590Z",
     "iopub.status.idle": "2022-01-05T14:26:11.138500Z",
     "shell.execute_reply": "2022-01-05T14:26:11.137993Z",
     "shell.execute_reply.started": "2022-01-05T14:13:58.448134Z"
    },
    "papermill": {
     "duration": 0.050229,
     "end_time": "2022-01-05T14:26:11.138663",
     "exception": false,
     "start_time": "2022-01-05T14:26:11.088434",
     "status": "completed"
    },
    "tags": []
   },
   "outputs": [
    {
     "name": "stdout",
     "output_type": "stream",
     "text": [
      "34881\n"
     ]
    }
   ],
   "source": [
    "advval_train_idx = advval_oof_train.query('oof_train < 0.5 & y == 1').index\n",
    "print(len(advval_train_idx))"
   ]
  },
  {
   "cell_type": "code",
   "execution_count": 23,
   "id": "9af8240b",
   "metadata": {
    "execution": {
     "iopub.execute_input": "2022-01-05T14:26:11.210333Z",
     "iopub.status.busy": "2022-01-05T14:26:11.209811Z",
     "iopub.status.idle": "2022-01-05T14:26:11.235907Z",
     "shell.execute_reply": "2022-01-05T14:26:11.236414Z",
     "shell.execute_reply.started": "2022-01-05T14:13:58.460163Z"
    },
    "papermill": {
     "duration": 0.063585,
     "end_time": "2022-01-05T14:26:11.236870",
     "exception": false,
     "start_time": "2022-01-05T14:26:11.173285",
     "status": "completed"
    },
    "tags": []
   },
   "outputs": [
    {
     "name": "stdout",
     "output_type": "stream",
     "text": [
      "main_train_X shape: (166605,)\n",
      "main_train_y shape: (166605,)\n",
      "main_valid_less_X shape: (30108,)\n",
      "main_valid_more_X shape: (30108,)\n"
     ]
    }
   ],
   "source": [
    "# preparing main training data\n",
    "main_train_X = malignant.iloc[advval_train_idx]['text_clean']\n",
    "main_train_y = malignant.iloc[advval_train_idx][['malignant', 'highly_malignant', 'rude', 'threat', 'abuse', 'loathe']].sum(axis=1)\n",
    "main_train_y += malignant.iloc[advval_train_idx]['highly_malignant']\n",
    "main_train_y /= main_train_y.max()\n",
    "main_valid_less_X = valid['less_toxic_clean']\n",
    "main_valid_more_X = valid['more_toxic_clean']\n",
    "\n",
    "print(f'main_train_X shape: {advval_train_X.shape}')\n",
    "print(f'main_train_y shape: {advval_train_y.shape}')\n",
    "print(f'main_valid_less_X shape: {main_valid_less_X.shape}')\n",
    "print(f'main_valid_more_X shape: {main_valid_more_X.shape}')"
   ]
  },
  {
   "cell_type": "code",
   "execution_count": 24,
   "id": "e5b4aa12",
   "metadata": {
    "execution": {
     "iopub.execute_input": "2022-01-05T14:26:11.310424Z",
     "iopub.status.busy": "2022-01-05T14:26:11.309955Z",
     "iopub.status.idle": "2022-01-05T14:26:13.772575Z",
     "shell.execute_reply": "2022-01-05T14:26:13.773097Z",
     "shell.execute_reply.started": "2022-01-05T14:13:58.491048Z"
    },
    "papermill": {
     "duration": 2.500328,
     "end_time": "2022-01-05T14:26:13.773265",
     "exception": false,
     "start_time": "2022-01-05T14:26:11.272937",
     "status": "completed"
    },
    "tags": []
   },
   "outputs": [
    {
     "name": "stdout",
     "output_type": "stream",
     "text": [
      "feature extracting ...\n",
      "Total number of features: 11169\n"
     ]
    }
   ],
   "source": [
    "# 特徴抽出\n",
    "print(f'feature extracting ...')\n",
    "main_tfidf = TfidfVectorizer(\n",
    "    stop_words=stop_words,\n",
    "    min_df=3,\n",
    "    max_df=0.5, \n",
    "    max_features=100_000,\n",
    "    analyzer='word',\n",
    "    ngram_range=(1, 1)\n",
    ")\n",
    "\n",
    "main_train_X_tfidf = main_tfidf.fit_transform(main_train_X)\n",
    "main_train_X_tfidf_feature_names = main_tfidf.get_feature_names()\n",
    "main_train_X_tfidf_vocab = main_tfidf.vocabulary_\n",
    "main_valid_less_X_tfidf = main_tfidf.transform(main_valid_less_X)\n",
    "main_valid_more_X_tfidf = main_tfidf.transform(main_valid_more_X)\n",
    "\n",
    "print('Total number of features:', main_train_X_tfidf.shape[1])"
   ]
  },
  {
   "cell_type": "code",
   "execution_count": 25,
   "id": "2c6327a7",
   "metadata": {
    "execution": {
     "iopub.execute_input": "2022-01-05T14:26:13.900728Z",
     "iopub.status.busy": "2022-01-05T14:26:13.896377Z",
     "iopub.status.idle": "2022-01-05T14:26:13.916445Z",
     "shell.execute_reply": "2022-01-05T14:26:13.915875Z",
     "shell.execute_reply.started": "2022-01-05T14:14:02.700148Z"
    },
    "papermill": {
     "duration": 0.090757,
     "end_time": "2022-01-05T14:26:13.916607",
     "exception": false,
     "start_time": "2022-01-05T14:26:13.825850",
     "status": "completed"
    },
    "tags": []
   },
   "outputs": [
    {
     "data": {
      "text/html": [
       "<div>\n",
       "<style scoped>\n",
       "    .dataframe tbody tr th:only-of-type {\n",
       "        vertical-align: middle;\n",
       "    }\n",
       "\n",
       "    .dataframe tbody tr th {\n",
       "        vertical-align: top;\n",
       "    }\n",
       "\n",
       "    .dataframe thead th {\n",
       "        text-align: right;\n",
       "    }\n",
       "</style>\n",
       "<table border=\"1\" class=\"dataframe\">\n",
       "  <thead>\n",
       "    <tr style=\"text-align: right;\">\n",
       "      <th></th>\n",
       "      <th>word</th>\n",
       "      <th>weight</th>\n",
       "    </tr>\n",
       "  </thead>\n",
       "  <tbody>\n",
       "    <tr>\n",
       "      <th>5584</th>\n",
       "      <td>lehi</td>\n",
       "      <td>10.073432</td>\n",
       "    </tr>\n",
       "    <tr>\n",
       "      <th>7207</th>\n",
       "      <td>peru</td>\n",
       "      <td>10.073432</td>\n",
       "    </tr>\n",
       "    <tr>\n",
       "      <th>7160</th>\n",
       "      <td>penthous</td>\n",
       "      <td>10.073432</td>\n",
       "    </tr>\n",
       "    <tr>\n",
       "      <th>7161</th>\n",
       "      <td>peol</td>\n",
       "      <td>10.073432</td>\n",
       "    </tr>\n",
       "    <tr>\n",
       "      <th>2107</th>\n",
       "      <td>coren</td>\n",
       "      <td>10.073432</td>\n",
       "    </tr>\n",
       "    <tr>\n",
       "      <th>...</th>\n",
       "      <td>...</td>\n",
       "      <td>...</td>\n",
       "    </tr>\n",
       "    <tr>\n",
       "      <th>6998</th>\n",
       "      <td>page</td>\n",
       "      <td>2.953999</td>\n",
       "    </tr>\n",
       "    <tr>\n",
       "      <th>5316</th>\n",
       "      <td>just</td>\n",
       "      <td>2.887098</td>\n",
       "    </tr>\n",
       "    <tr>\n",
       "      <th>10823</th>\n",
       "      <td>wikipedia</td>\n",
       "      <td>2.828490</td>\n",
       "    </tr>\n",
       "    <tr>\n",
       "      <th>2857</th>\n",
       "      <td>dont</td>\n",
       "      <td>2.798260</td>\n",
       "    </tr>\n",
       "    <tr>\n",
       "      <th>5643</th>\n",
       "      <td>like</td>\n",
       "      <td>2.768916</td>\n",
       "    </tr>\n",
       "  </tbody>\n",
       "</table>\n",
       "<p>11169 rows × 2 columns</p>\n",
       "</div>"
      ],
      "text/plain": [
       "            word     weight\n",
       "5584        lehi  10.073432\n",
       "7207        peru  10.073432\n",
       "7160    penthous  10.073432\n",
       "7161        peol  10.073432\n",
       "2107       coren  10.073432\n",
       "...          ...        ...\n",
       "6998        page   2.953999\n",
       "5316        just   2.887098\n",
       "10823  wikipedia   2.828490\n",
       "2857        dont   2.798260\n",
       "5643        like   2.768916\n",
       "\n",
       "[11169 rows x 2 columns]"
      ]
     },
     "execution_count": 25,
     "metadata": {},
     "output_type": "execute_result"
    }
   ],
   "source": [
    "# idf ranking\n",
    "idf = {'word': main_tfidf.get_feature_names(), 'weight': main_tfidf.idf_}\n",
    "pd.DataFrame(idf).sort_values('weight', ascending=False)"
   ]
  },
  {
   "cell_type": "code",
   "execution_count": 26,
   "id": "756081b4",
   "metadata": {
    "execution": {
     "iopub.execute_input": "2022-01-05T14:26:14.031901Z",
     "iopub.status.busy": "2022-01-05T14:26:14.031146Z",
     "iopub.status.idle": "2022-01-05T14:26:14.032571Z",
     "shell.execute_reply": "2022-01-05T14:26:14.033067Z",
     "shell.execute_reply.started": "2022-01-05T14:14:02.733697Z"
    },
    "papermill": {
     "duration": 0.064107,
     "end_time": "2022-01-05T14:26:14.033236",
     "exception": false,
     "start_time": "2022-01-05T14:26:13.969129",
     "status": "completed"
    },
    "tags": []
   },
   "outputs": [],
   "source": [
    "# main\n",
    "def main_training(train_X, train_y, tfidf):\n",
    "\n",
    "    models = []\n",
    "    oof_train = np.zeros((train_X.shape[0],))\n",
    "    scores = []\n",
    "\n",
    "    kf = KFold(\n",
    "        n_splits=N_SPLITS, \n",
    "        shuffle=True,\n",
    "        random_state=None\n",
    "    )\n",
    "\n",
    "    # 交差検証\n",
    "    for fold_id, (train_idx, valid_idx) in enumerate(kf.split(train_X, train_y)):\n",
    "        start = time.time()\n",
    "        print(f'* ' * 40)\n",
    "        print(f'fold_id: {fold_id}')\n",
    "\n",
    "        # 訓練データ、評価データ、テストデータを整形\n",
    "        print(f'preprocessing ...')\n",
    "        X_trn = train_X.iloc[train_idx].reset_index(drop=True)\n",
    "        X_val = train_X.iloc[valid_idx].reset_index(drop=True)\n",
    "        y_trn = train_y.iloc[train_idx].reset_index(drop=True)\n",
    "        y_val = train_y.iloc[valid_idx].reset_index(drop=True)\n",
    "\n",
    "        X_trn_tfidf = tfidf.transform(X_trn)\n",
    "        X_val_tfidf = tfidf.transform(X_val)\n",
    "\n",
    "        print('Total number of train samples:', X_trn_tfidf.shape[0])\n",
    "        print('Total number of valid samples:', X_val_tfidf.shape[0])\n",
    "\n",
    "        # 訓練\n",
    "        print(f'training ...')\n",
    "        reg = Ridge(\n",
    "            max_iter=10000, \n",
    "            tol=1e-3\n",
    "        )\n",
    "\n",
    "        reg.fit(X_trn_tfidf, y_trn)\n",
    "\n",
    "        # 推論\n",
    "        print(f'predicting ...')\n",
    "        val_pred = reg.predict(X_val_tfidf)\n",
    "        oof_train[valid_idx] = val_pred\n",
    "        models.append(reg)\n",
    "\n",
    "        # 評価\n",
    "        print(f'validation ...')\n",
    "        score_mse = mean_squared_error(y_val, val_pred)\n",
    "        scores.append(score_mse)\n",
    "        elapsed = time.time() - start\n",
    "        print(f'fold {fold_id} - score: {score_mse:.6f}, elapsed time: {elapsed:.2f} [sec]')\n",
    "\n",
    "    print(f'* ' * 40)\n",
    "    print(f'Average MSE: {sum(scores)/N_SPLITS:.6f} Average RMSE: {np.sqrt(sum(scores)/N_SPLITS):.6f}')\n",
    "    \n",
    "    return oof_train, models"
   ]
  },
  {
   "cell_type": "code",
   "execution_count": 27,
   "id": "bba94b9c",
   "metadata": {
    "execution": {
     "iopub.execute_input": "2022-01-05T14:26:14.142377Z",
     "iopub.status.busy": "2022-01-05T14:26:14.141741Z",
     "iopub.status.idle": "2022-01-05T14:26:18.814934Z",
     "shell.execute_reply": "2022-01-05T14:26:18.815579Z",
     "shell.execute_reply.started": "2022-01-05T14:14:02.747904Z"
    },
    "papermill": {
     "duration": 4.72932,
     "end_time": "2022-01-05T14:26:18.815762",
     "exception": false,
     "start_time": "2022-01-05T14:26:14.086442",
     "status": "completed"
    },
    "tags": []
   },
   "outputs": [
    {
     "name": "stdout",
     "output_type": "stream",
     "text": [
      "* * * * * * * * * * * * * * * * * * * * * * * * * * * * * * * * * * * * * * * * \n",
      "fold_id: 0\n",
      "preprocessing ...\n",
      "Total number of train samples: 27904\n",
      "Total number of valid samples: 6977\n",
      "training ...\n",
      "predicting ...\n",
      "validation ...\n",
      "fold 0 - score: 0.015818, elapsed time: 0.92 [sec]\n",
      "* * * * * * * * * * * * * * * * * * * * * * * * * * * * * * * * * * * * * * * * \n",
      "fold_id: 1\n",
      "preprocessing ...\n",
      "Total number of train samples: 27905\n",
      "Total number of valid samples: 6976\n",
      "training ...\n",
      "predicting ...\n",
      "validation ...\n",
      "fold 1 - score: 0.015353, elapsed time: 0.95 [sec]\n",
      "* * * * * * * * * * * * * * * * * * * * * * * * * * * * * * * * * * * * * * * * \n",
      "fold_id: 2\n",
      "preprocessing ...\n",
      "Total number of train samples: 27905\n",
      "Total number of valid samples: 6976\n",
      "training ...\n",
      "predicting ...\n",
      "validation ...\n",
      "fold 2 - score: 0.014907, elapsed time: 0.93 [sec]\n",
      "* * * * * * * * * * * * * * * * * * * * * * * * * * * * * * * * * * * * * * * * \n",
      "fold_id: 3\n",
      "preprocessing ...\n",
      "Total number of train samples: 27905\n",
      "Total number of valid samples: 6976\n",
      "training ...\n",
      "predicting ...\n",
      "validation ...\n",
      "fold 3 - score: 0.015932, elapsed time: 0.93 [sec]\n",
      "* * * * * * * * * * * * * * * * * * * * * * * * * * * * * * * * * * * * * * * * \n",
      "fold_id: 4\n",
      "preprocessing ...\n",
      "Total number of train samples: 27905\n",
      "Total number of valid samples: 6976\n",
      "training ...\n",
      "predicting ...\n",
      "validation ...\n",
      "fold 4 - score: 0.015862, elapsed time: 0.94 [sec]\n",
      "* * * * * * * * * * * * * * * * * * * * * * * * * * * * * * * * * * * * * * * * \n",
      "Average MSE: 0.015574 Average RMSE: 0.124797\n",
      "CPU times: user 4.97 s, sys: 2.64 s, total: 7.6 s\n",
      "Wall time: 4.67 s\n"
     ]
    }
   ],
   "source": [
    "%%time\n",
    "main_oof_train, main_models = main_training(main_train_X, main_train_y, main_tfidf)"
   ]
  },
  {
   "cell_type": "code",
   "execution_count": 28,
   "id": "3dfafae8",
   "metadata": {
    "execution": {
     "iopub.execute_input": "2022-01-05T14:26:18.954538Z",
     "iopub.status.busy": "2022-01-05T14:26:18.953905Z",
     "iopub.status.idle": "2022-01-05T14:26:19.213588Z",
     "shell.execute_reply": "2022-01-05T14:26:19.212744Z",
     "shell.execute_reply.started": "2022-01-05T14:14:10.592364Z"
    },
    "papermill": {
     "duration": 0.329092,
     "end_time": "2022-01-05T14:26:19.213702",
     "exception": false,
     "start_time": "2022-01-05T14:26:18.884610",
     "status": "completed"
    },
    "tags": []
   },
   "outputs": [
    {
     "data": {
      "image/png": "[encoded data removed]",
      "text/plain": [
       "<Figure size 432x288 with 1 Axes>"
      ]
     },
     "metadata": {
      "needs_background": "light"
     },
     "output_type": "display_data"
    }
   ],
   "source": [
    "# スコア分布\n",
    "plt.figure()\n",
    "plt.hist(main_oof_train, alpha=.8, bins=100)\n",
    "plt.show()"
   ]
  },
  {
   "cell_type": "code",
   "execution_count": 29,
   "id": "53137ad1",
   "metadata": {
    "execution": {
     "iopub.execute_input": "2022-01-05T14:26:19.291151Z",
     "iopub.status.busy": "2022-01-05T14:26:19.290660Z",
     "iopub.status.idle": "2022-01-05T14:26:19.422085Z",
     "shell.execute_reply": "2022-01-05T14:26:19.421652Z",
     "shell.execute_reply.started": "2022-01-05T14:14:11.009490Z"
    },
    "papermill": {
     "duration": 0.170533,
     "end_time": "2022-01-05T14:26:19.422202",
     "exception": false,
     "start_time": "2022-01-05T14:26:19.251669",
     "status": "completed"
    },
    "tags": []
   },
   "outputs": [
    {
     "name": "stdout",
     "output_type": "stream",
     "text": [
      "17408 / 30108\n"
     ]
    }
   ],
   "source": [
    "# adversarial validation によりテストデータに近い評価データを作成\n",
    "advval_score_valid_less_toxic = np.array([clf.predict_proba(advval_valid_less_X_tfidf)[:, 1] for clf in advval_models]).sum(axis=0) / len(advval_models)\n",
    "advval_score_valid_more_toxic = np.array([clf.predict_proba(advval_valid_more_X_tfidf)[:, 1] for clf in advval_models]).sum(axis=0) / len(advval_models)\n",
    "\n",
    "test_like_valid_idx = (advval_score_valid_less_toxic < 0.5) & (advval_score_valid_more_toxic < 0.5)\n",
    "print(sum(test_like_valid_idx), '/', len(test_like_valid_idx))"
   ]
  },
  {
   "cell_type": "code",
   "execution_count": 30,
   "id": "0c23dde7",
   "metadata": {
    "execution": {
     "iopub.execute_input": "2022-01-05T14:26:19.503734Z",
     "iopub.status.busy": "2022-01-05T14:26:19.503196Z",
     "iopub.status.idle": "2022-01-05T14:26:19.529871Z",
     "shell.execute_reply": "2022-01-05T14:26:19.530252Z",
     "shell.execute_reply.started": "2022-01-05T14:14:11.157621Z"
    },
    "papermill": {
     "duration": 0.070246,
     "end_time": "2022-01-05T14:26:19.530381",
     "exception": false,
     "start_time": "2022-01-05T14:26:19.460135",
     "status": "completed"
    },
    "tags": []
   },
   "outputs": [
    {
     "name": "stdout",
     "output_type": "stream",
     "text": [
      "0.6987017463235294\n"
     ]
    }
   ],
   "source": [
    "# validation score\n",
    "preds_less_toxic = np.array([reg.predict(main_valid_less_X_tfidf[test_like_valid_idx]) for reg in main_models]).sum(axis=0)\n",
    "preds_more_toxic = np.array([reg.predict(main_valid_more_X_tfidf[test_like_valid_idx]) for reg in main_models]).sum(axis=0)\n",
    "\n",
    "print((preds_less_toxic < preds_more_toxic).mean())"
   ]
  },
  {
   "cell_type": "code",
   "execution_count": 31,
   "id": "5c58fe76",
   "metadata": {
    "execution": {
     "iopub.execute_input": "2022-01-05T14:26:19.610550Z",
     "iopub.status.busy": "2022-01-05T14:26:19.610084Z",
     "iopub.status.idle": "2022-01-05T14:26:20.062952Z",
     "shell.execute_reply": "2022-01-05T14:26:20.063379Z",
     "shell.execute_reply.started": "2022-01-05T14:14:11.189636Z"
    },
    "papermill": {
     "duration": 0.493763,
     "end_time": "2022-01-05T14:26:20.063530",
     "exception": false,
     "start_time": "2022-01-05T14:26:19.569767",
     "status": "completed"
    },
    "tags": []
   },
   "outputs": [
    {
     "data": {
      "text/html": [
       "<div>\n",
       "<style scoped>\n",
       "    .dataframe tbody tr th:only-of-type {\n",
       "        vertical-align: middle;\n",
       "    }\n",
       "\n",
       "    .dataframe tbody tr th {\n",
       "        vertical-align: top;\n",
       "    }\n",
       "\n",
       "    .dataframe thead th {\n",
       "        text-align: right;\n",
       "    }\n",
       "</style>\n",
       "<table border=\"1\" class=\"dataframe\">\n",
       "  <thead>\n",
       "    <tr style=\"text-align: right;\">\n",
       "      <th></th>\n",
       "      <th>count</th>\n",
       "      <th>mean</th>\n",
       "      <th>std</th>\n",
       "      <th>min</th>\n",
       "      <th>25%</th>\n",
       "      <th>50%</th>\n",
       "      <th>75%</th>\n",
       "      <th>max</th>\n",
       "    </tr>\n",
       "  </thead>\n",
       "  <tbody>\n",
       "    <tr>\n",
       "      <th>0</th>\n",
       "      <td>7537.0</td>\n",
       "      <td>0.145097</td>\n",
       "      <td>0.170498</td>\n",
       "      <td>-0.116676</td>\n",
       "      <td>0.029635</td>\n",
       "      <td>0.086842</td>\n",
       "      <td>0.206489</td>\n",
       "      <td>1.051</td>\n",
       "    </tr>\n",
       "  </tbody>\n",
       "</table>\n",
       "</div>"
      ],
      "text/plain": [
       "    count      mean       std       min       25%       50%       75%    max\n",
       "0  7537.0  0.145097  0.170498 -0.116676  0.029635  0.086842  0.206489  1.051"
      ]
     },
     "execution_count": 31,
     "metadata": {},
     "output_type": "execute_result"
    }
   ],
   "source": [
    "test_X_tfidf = main_tfidf.transform(test['text_clean'])\n",
    "preds_test = np.array([reg.predict(test_X_tfidf) for reg in main_models]).sum(axis=0) / N_SPLITS\n",
    "submission['score'] = preds_test\n",
    "\n",
    "pd.DataFrame(pd.Series(submission['score'].ravel()).describe()).transpose()"
   ]
  },
  {
   "cell_type": "code",
   "execution_count": 32,
   "id": "0bfdef79",
   "metadata": {
    "execution": {
     "iopub.execute_input": "2022-01-05T14:26:20.153622Z",
     "iopub.status.busy": "2022-01-05T14:26:20.152937Z",
     "iopub.status.idle": "2022-01-05T14:26:20.199074Z",
     "shell.execute_reply": "2022-01-05T14:26:20.199671Z",
     "shell.execute_reply.started": "2022-01-05T14:14:11.598896Z"
    },
    "papermill": {
     "duration": 0.09799,
     "end_time": "2022-01-05T14:26:20.199847",
     "exception": false,
     "start_time": "2022-01-05T14:26:20.101857",
     "status": "completed"
    },
    "tags": []
   },
   "outputs": [
    {
     "data": {
      "text/html": [
       "<div>\n",
       "<style scoped>\n",
       "    .dataframe tbody tr th:only-of-type {\n",
       "        vertical-align: middle;\n",
       "    }\n",
       "\n",
       "    .dataframe tbody tr th {\n",
       "        vertical-align: top;\n",
       "    }\n",
       "\n",
       "    .dataframe thead th {\n",
       "        text-align: right;\n",
       "    }\n",
       "</style>\n",
       "<table border=\"1\" class=\"dataframe\">\n",
       "  <thead>\n",
       "    <tr style=\"text-align: right;\">\n",
       "      <th></th>\n",
       "      <th>comment_id</th>\n",
       "      <th>score</th>\n",
       "    </tr>\n",
       "  </thead>\n",
       "  <tbody>\n",
       "    <tr>\n",
       "      <th>0</th>\n",
       "      <td>114890</td>\n",
       "      <td>0.015837</td>\n",
       "    </tr>\n",
       "    <tr>\n",
       "      <th>1</th>\n",
       "      <td>732895</td>\n",
       "      <td>0.037009</td>\n",
       "    </tr>\n",
       "    <tr>\n",
       "      <th>2</th>\n",
       "      <td>1139051</td>\n",
       "      <td>0.012653</td>\n",
       "    </tr>\n",
       "    <tr>\n",
       "      <th>3</th>\n",
       "      <td>1434512</td>\n",
       "      <td>-0.018818</td>\n",
       "    </tr>\n",
       "    <tr>\n",
       "      <th>4</th>\n",
       "      <td>2084821</td>\n",
       "      <td>0.087859</td>\n",
       "    </tr>\n",
       "    <tr>\n",
       "      <th>...</th>\n",
       "      <td>...</td>\n",
       "      <td>...</td>\n",
       "    </tr>\n",
       "    <tr>\n",
       "      <th>7532</th>\n",
       "      <td>504235362</td>\n",
       "      <td>0.030996</td>\n",
       "    </tr>\n",
       "    <tr>\n",
       "      <th>7533</th>\n",
       "      <td>504235566</td>\n",
       "      <td>0.010758</td>\n",
       "    </tr>\n",
       "    <tr>\n",
       "      <th>7534</th>\n",
       "      <td>504308177</td>\n",
       "      <td>-0.023497</td>\n",
       "    </tr>\n",
       "    <tr>\n",
       "      <th>7535</th>\n",
       "      <td>504570375</td>\n",
       "      <td>0.183734</td>\n",
       "    </tr>\n",
       "    <tr>\n",
       "      <th>7536</th>\n",
       "      <td>504598250</td>\n",
       "      <td>0.071855</td>\n",
       "    </tr>\n",
       "  </tbody>\n",
       "</table>\n",
       "<p>7537 rows × 2 columns</p>\n",
       "</div>"
      ],
      "text/plain": [
       "      comment_id     score\n",
       "0         114890  0.015837\n",
       "1         732895  0.037009\n",
       "2        1139051  0.012653\n",
       "3        1434512 -0.018818\n",
       "4        2084821  0.087859\n",
       "...          ...       ...\n",
       "7532   504235362  0.030996\n",
       "7533   504235566  0.010758\n",
       "7534   504308177 -0.023497\n",
       "7535   504570375  0.183734\n",
       "7536   504598250  0.071855\n",
       "\n",
       "[7537 rows x 2 columns]"
      ]
     },
     "execution_count": 32,
     "metadata": {},
     "output_type": "execute_result"
    }
   ],
   "source": [
    "submission.to_csv('submission.csv', index=False)\n",
    "submission"
   ]
  }
 ],
 "metadata": {
  "kernelspec": {
   "display_name": "Python 3",
   "language": "python",
   "name": "python3"
  },
  "language_info": {
   "codemirror_mode": {
    "name": "ipython",
    "version": 3
   },
   "file_extension": ".py",
   "mimetype": "text/x-python",
   "name": "python",
   "nbconvert_exporter": "python",
   "pygments_lexer": "ipython3",
   "version": "3.7.12"
  },
  "papermill": {
   "default_parameters": {},
   "duration": 308.049467,
   "end_time": "2022-01-05T14:26:21.270103",
   "environment_variables": {},
   "exception": null,
   "input_path": "__notebook__.ipynb",
   "output_path": "__notebook__.ipynb",
   "parameters": {},
   "start_time": "2022-01-05T14:21:13.220636",
   "version": "2.3.3"
  }
 },
 "nbformat": 4,
 "nbformat_minor": 5
}
