{
 "cells": [
  {
   "cell_type": "markdown",
   "id": "0337d646",
   "metadata": {
    "papermill": {
     "duration": 0.00879,
     "end_time": "2022-01-30T11:00:49.969799",
     "exception": false,
     "start_time": "2022-01-30T11:00:49.961009",
     "status": "completed"
    },
    "tags": []
   },
   "source": [
    "# Overview\n",
    "\n",
    "- 学習済みモデル detoxify の動作確認。\n",
    "\n",
    "### references\n",
    "\n",
    "- [Using Detoxify in offline mode | Kaggle](https://www.kaggle.com/atamazian/using-detoxify-in-offline-mode/notebook)"
   ]
  },
  {
   "cell_type": "code",
   "execution_count": 1,
   "id": "830cd833",
   "metadata": {
    "_cell_guid": "b1076dfc-b9ad-4769-8c92-a6c4dae69d19",
    "_uuid": "8f2839f25d086af736a60e9eeb907d3b93b6e0e5",
    "execution": {
     "iopub.execute_input": "2022-01-30T11:00:49.991988Z",
     "iopub.status.busy": "2022-01-30T11:00:49.990236Z",
     "iopub.status.idle": "2022-01-30T11:01:22.420090Z",
     "shell.execute_reply": "2022-01-30T11:01:22.419450Z",
     "shell.execute_reply.started": "2022-01-30T10:39:26.928518Z"
    },
    "papermill": {
     "duration": 32.442001,
     "end_time": "2022-01-30T11:01:22.420234",
     "exception": false,
     "start_time": "2022-01-30T11:00:49.978233",
     "status": "completed"
    },
    "tags": []
   },
   "outputs": [
    {
     "name": "stdout",
     "output_type": "stream",
     "text": [
      "\u001b[33mWARNING: Running pip as the 'root' user can result in broken permissions and conflicting behaviour with the system package manager. It is recommended to use a virtual environment instead: https://pip.pypa.io/warnings/venv\u001b[0m\r\n"
     ]
    }
   ],
   "source": [
    "# Installs\n",
    "!cp -r ../input/detoxify/detoxify-master detoxify\n",
    "!pip install -q ./detoxify\n",
    "!rm -rf ./detoxify"
   ]
  },
  {
   "cell_type": "code",
   "execution_count": 2,
   "id": "f3aa3a35",
   "metadata": {
    "execution": {
     "iopub.execute_input": "2022-01-30T11:01:22.443079Z",
     "iopub.status.busy": "2022-01-30T11:01:22.442173Z",
     "iopub.status.idle": "2022-01-30T11:01:22.444502Z",
     "shell.execute_reply": "2022-01-30T11:01:22.444905Z",
     "shell.execute_reply.started": "2022-01-30T10:39:58.264145Z"
    },
    "papermill": {
     "duration": 0.015393,
     "end_time": "2022-01-30T11:01:22.445031",
     "exception": false,
     "start_time": "2022-01-30T11:01:22.429638",
     "status": "completed"
    },
    "tags": []
   },
   "outputs": [],
   "source": [
    "# Parameters\n",
    "HUGGINGFACE_CONFIG_PATH = '../input/bert-base-uncased'\n",
    "CHECKPOINT_PATH = '../input/detoxify-models/toxic_original-c1212f89.ckpt'\n",
    "MODEL_TYPE = 'original'\n",
    "SUBMISSION_PATH = '/kaggle/input/jigsaw-toxic-severity-rating/sample_submission.csv'\n",
    "COMMENTS_PATH = '/kaggle/input/jigsaw-toxic-severity-rating/comments_to_score.csv'"
   ]
  },
  {
   "cell_type": "code",
   "execution_count": 3,
   "id": "b41c8d81",
   "metadata": {
    "execution": {
     "iopub.execute_input": "2022-01-30T11:01:22.466066Z",
     "iopub.status.busy": "2022-01-30T11:01:22.465218Z",
     "iopub.status.idle": "2022-01-30T11:01:29.794776Z",
     "shell.execute_reply": "2022-01-30T11:01:29.794191Z",
     "shell.execute_reply.started": "2022-01-30T10:39:58.271757Z"
    },
    "papermill": {
     "duration": 7.34178,
     "end_time": "2022-01-30T11:01:29.794909",
     "exception": false,
     "start_time": "2022-01-30T11:01:22.453129",
     "status": "completed"
    },
    "tags": []
   },
   "outputs": [],
   "source": [
    "# Modules\n",
    "import pandas as pd\n",
    "import torch\n",
    "from detoxify import Detoxify\n",
    "from tqdm import tqdm\n",
    "from transformers import AutoTokenizer"
   ]
  },
  {
   "cell_type": "code",
   "execution_count": 4,
   "id": "dbeed09a",
   "metadata": {
    "execution": {
     "iopub.execute_input": "2022-01-30T11:01:29.816165Z",
     "iopub.status.busy": "2022-01-30T11:01:29.814608Z",
     "iopub.status.idle": "2022-01-30T11:01:29.816818Z",
     "shell.execute_reply": "2022-01-30T11:01:29.817211Z",
     "shell.execute_reply.started": "2022-01-30T10:39:58.285745Z"
    },
    "papermill": {
     "duration": 0.014455,
     "end_time": "2022-01-30T11:01:29.817345",
     "exception": false,
     "start_time": "2022-01-30T11:01:29.802890",
     "status": "completed"
    },
    "tags": []
   },
   "outputs": [],
   "source": [
    "# My functions"
   ]
  },
  {
   "cell_type": "code",
   "execution_count": 5,
   "id": "fba329a4",
   "metadata": {
    "execution": {
     "iopub.execute_input": "2022-01-30T11:01:29.886704Z",
     "iopub.status.busy": "2022-01-30T11:01:29.886093Z",
     "iopub.status.idle": "2022-01-30T11:01:43.267298Z",
     "shell.execute_reply": "2022-01-30T11:01:43.267765Z",
     "shell.execute_reply.started": "2022-01-30T10:39:58.293950Z"
    },
    "papermill": {
     "duration": 13.442476,
     "end_time": "2022-01-30T11:01:43.267919",
     "exception": false,
     "start_time": "2022-01-30T11:01:29.825443",
     "status": "completed"
    },
    "tags": []
   },
   "outputs": [
    {
     "name": "stdout",
     "output_type": "stream",
     "text": [
      "{'toxicity': 0.0018949232, 'severe_toxicity': 9.441939e-05, 'obscene': 0.00022873534, 'threat': 0.00010636789, 'insult': 0.00019287909, 'identity_attack': 0.00014568506}\n"
     ]
    }
   ],
   "source": [
    "# Examples\n",
    "max_len = 300\n",
    "device = torch.device('cuda:0') if torch.cuda.is_available() else torch.device('cpu')\n",
    "\n",
    "detox = Detoxify(model_type=MODEL_TYPE,  \n",
    "                 checkpoint=CHECKPOINT_PATH,\n",
    "                 device=device,\n",
    "                 huggingface_config_path=HUGGINGFACE_CONFIG_PATH)\n",
    "\n",
    "# A little trick allowing us to set max_len\n",
    "detox.tokenizer = AutoTokenizer.from_pretrained(HUGGINGFACE_CONFIG_PATH,\n",
    "                    local_files_only=True,\n",
    "                    model_max_length=max_len)\n",
    "\n",
    "results = detox.predict('I am not toxic, sorry!')\n",
    "print(results)"
   ]
  },
  {
   "cell_type": "code",
   "execution_count": 6,
   "id": "910de9c4",
   "metadata": {
    "execution": {
     "iopub.execute_input": "2022-01-30T11:01:43.289607Z",
     "iopub.status.busy": "2022-01-30T11:01:43.289009Z",
     "iopub.status.idle": "2022-01-30T11:01:43.449115Z",
     "shell.execute_reply": "2022-01-30T11:01:43.448677Z",
     "shell.execute_reply.started": "2022-01-30T11:00:13.595029Z"
    },
    "papermill": {
     "duration": 0.17268,
     "end_time": "2022-01-30T11:01:43.449240",
     "exception": false,
     "start_time": "2022-01-30T11:01:43.276560",
     "status": "completed"
    },
    "tags": []
   },
   "outputs": [
    {
     "data": {
      "text/html": [
       "<div>\n",
       "<style scoped>\n",
       "    .dataframe tbody tr th:only-of-type {\n",
       "        vertical-align: middle;\n",
       "    }\n",
       "\n",
       "    .dataframe tbody tr th {\n",
       "        vertical-align: top;\n",
       "    }\n",
       "\n",
       "    .dataframe thead th {\n",
       "        text-align: right;\n",
       "    }\n",
       "</style>\n",
       "<table border=\"1\" class=\"dataframe\">\n",
       "  <thead>\n",
       "    <tr style=\"text-align: right;\">\n",
       "      <th></th>\n",
       "      <th>text</th>\n",
       "    </tr>\n",
       "    <tr>\n",
       "      <th>comment_id</th>\n",
       "      <th></th>\n",
       "    </tr>\n",
       "  </thead>\n",
       "  <tbody>\n",
       "    <tr>\n",
       "      <th>114890</th>\n",
       "      <td>\"\\n \\n\\nGjalexei, you asked about whether ther...</td>\n",
       "    </tr>\n",
       "    <tr>\n",
       "      <th>732895</th>\n",
       "      <td>Looks like be have an abuser , can you please ...</td>\n",
       "    </tr>\n",
       "    <tr>\n",
       "      <th>1139051</th>\n",
       "      <td>I confess to having complete (and apparently b...</td>\n",
       "    </tr>\n",
       "    <tr>\n",
       "      <th>1434512</th>\n",
       "      <td>\"\\n\\nFreud's ideas are certainly much discusse...</td>\n",
       "    </tr>\n",
       "    <tr>\n",
       "      <th>2084821</th>\n",
       "      <td>It is not just you. This is a laundry list of ...</td>\n",
       "    </tr>\n",
       "    <tr>\n",
       "      <th>...</th>\n",
       "      <td>...</td>\n",
       "    </tr>\n",
       "    <tr>\n",
       "      <th>504235362</th>\n",
       "      <td>Go away, you annoying vandal.</td>\n",
       "    </tr>\n",
       "    <tr>\n",
       "      <th>504235566</th>\n",
       "      <td>This user is a vandal.</td>\n",
       "    </tr>\n",
       "    <tr>\n",
       "      <th>504308177</th>\n",
       "      <td>\" \\n\\nSorry to sound like a pain, but one by f...</td>\n",
       "    </tr>\n",
       "    <tr>\n",
       "      <th>504570375</th>\n",
       "      <td>Well it's pretty fucking irrelevant now I'm un...</td>\n",
       "    </tr>\n",
       "    <tr>\n",
       "      <th>504598250</th>\n",
       "      <td>The team name is Great Britain and Northern Ir...</td>\n",
       "    </tr>\n",
       "  </tbody>\n",
       "</table>\n",
       "<p>7537 rows × 1 columns</p>\n",
       "</div>"
      ],
      "text/plain": [
       "                                                         text\n",
       "comment_id                                                   \n",
       "114890      \"\\n \\n\\nGjalexei, you asked about whether ther...\n",
       "732895      Looks like be have an abuser , can you please ...\n",
       "1139051     I confess to having complete (and apparently b...\n",
       "1434512     \"\\n\\nFreud's ideas are certainly much discusse...\n",
       "2084821     It is not just you. This is a laundry list of ...\n",
       "...                                                       ...\n",
       "504235362                       Go away, you annoying vandal.\n",
       "504235566                            This user is a vandal.  \n",
       "504308177   \" \\n\\nSorry to sound like a pain, but one by f...\n",
       "504570375   Well it's pretty fucking irrelevant now I'm un...\n",
       "504598250   The team name is Great Britain and Northern Ir...\n",
       "\n",
       "[7537 rows x 1 columns]"
      ]
     },
     "execution_count": 6,
     "metadata": {},
     "output_type": "execute_result"
    }
   ],
   "source": [
    "comments = pd.read_csv(COMMENTS_PATH, index_col='comment_id')\n",
    "comments"
   ]
  },
  {
   "cell_type": "code",
   "execution_count": 7,
   "id": "78daec08",
   "metadata": {
    "execution": {
     "iopub.execute_input": "2022-01-30T11:01:43.475402Z",
     "iopub.status.busy": "2022-01-30T11:01:43.471267Z",
     "iopub.status.idle": "2022-01-30T11:09:42.996822Z",
     "shell.execute_reply": "2022-01-30T11:09:42.997253Z",
     "shell.execute_reply.started": "2022-01-30T11:00:15.777451Z"
    },
    "papermill": {
     "duration": 479.538924,
     "end_time": "2022-01-30T11:09:42.997430",
     "exception": false,
     "start_time": "2022-01-30T11:01:43.458506",
     "status": "completed"
    },
    "tags": []
   },
   "outputs": [
    {
     "name": "stderr",
     "output_type": "stream",
     "text": [
      "100%|██████████| 7537/7537 [01:20<00:00, 93.24it/s]\n",
      "100%|██████████| 7537/7537 [01:19<00:00, 94.87it/s] \n",
      "100%|██████████| 7537/7537 [01:19<00:00, 95.24it/s] \n",
      "100%|██████████| 7537/7537 [01:19<00:00, 94.67it/s] \n",
      "100%|██████████| 7537/7537 [01:20<00:00, 94.04it/s]\n",
      "100%|██████████| 7537/7537 [01:20<00:00, 93.84it/s] \n"
     ]
    }
   ],
   "source": [
    "class_names = ['toxicity', 'severe_toxicity', 'obscene', 'threat', 'insult', 'identity_attack']\n",
    "tqdm.pandas()\n",
    "for class_name in class_names:\n",
    "    comments[class_name] = comments['text'].progress_map(lambda line: detox.predict(line)[class_name])\n",
    "    # comments['score_'+class_name].plot.hist(bins=50, grid=True)"
   ]
  },
  {
   "cell_type": "code",
   "execution_count": 8,
   "id": "17e7f345",
   "metadata": {
    "execution": {
     "iopub.execute_input": "2022-01-30T11:09:45.318992Z",
     "iopub.status.busy": "2022-01-30T11:09:45.316442Z",
     "iopub.status.idle": "2022-01-30T11:09:45.322987Z",
     "shell.execute_reply": "2022-01-30T11:09:45.323409Z",
     "shell.execute_reply.started": "2022-01-30T11:00:17.611412Z"
    },
    "papermill": {
     "duration": 1.176154,
     "end_time": "2022-01-30T11:09:45.323581",
     "exception": false,
     "start_time": "2022-01-30T11:09:44.147427",
     "status": "completed"
    },
    "tags": []
   },
   "outputs": [],
   "source": [
    "comments['score'] = comments[[class_name for class_name in class_names]].sum(axis=1)\n",
    "comments['score'] += comments['severe_toxicity']"
   ]
  },
  {
   "cell_type": "code",
   "execution_count": 9,
   "id": "3e40a425",
   "metadata": {
    "execution": {
     "iopub.execute_input": "2022-01-30T11:09:47.671941Z",
     "iopub.status.busy": "2022-01-30T11:09:47.671242Z",
     "iopub.status.idle": "2022-01-30T11:09:47.715099Z",
     "shell.execute_reply": "2022-01-30T11:09:47.715574Z",
     "shell.execute_reply.started": "2022-01-30T11:00:18.827705Z"
    },
    "papermill": {
     "duration": 1.219888,
     "end_time": "2022-01-30T11:09:47.715721",
     "exception": false,
     "start_time": "2022-01-30T11:09:46.495833",
     "status": "completed"
    },
    "tags": []
   },
   "outputs": [
    {
     "data": {
      "text/html": [
       "<div>\n",
       "<style scoped>\n",
       "    .dataframe tbody tr th:only-of-type {\n",
       "        vertical-align: middle;\n",
       "    }\n",
       "\n",
       "    .dataframe tbody tr th {\n",
       "        vertical-align: top;\n",
       "    }\n",
       "\n",
       "    .dataframe thead th {\n",
       "        text-align: right;\n",
       "    }\n",
       "</style>\n",
       "<table border=\"1\" class=\"dataframe\">\n",
       "  <thead>\n",
       "    <tr style=\"text-align: right;\">\n",
       "      <th></th>\n",
       "      <th>comment_id</th>\n",
       "      <th>score</th>\n",
       "    </tr>\n",
       "  </thead>\n",
       "  <tbody>\n",
       "    <tr>\n",
       "      <th>0</th>\n",
       "      <td>114890</td>\n",
       "      <td>0.001460</td>\n",
       "    </tr>\n",
       "    <tr>\n",
       "      <th>1</th>\n",
       "      <td>732895</td>\n",
       "      <td>0.004574</td>\n",
       "    </tr>\n",
       "    <tr>\n",
       "      <th>2</th>\n",
       "      <td>1139051</td>\n",
       "      <td>0.004588</td>\n",
       "    </tr>\n",
       "    <tr>\n",
       "      <th>3</th>\n",
       "      <td>1434512</td>\n",
       "      <td>0.001605</td>\n",
       "    </tr>\n",
       "    <tr>\n",
       "      <th>4</th>\n",
       "      <td>2084821</td>\n",
       "      <td>0.422560</td>\n",
       "    </tr>\n",
       "    <tr>\n",
       "      <th>...</th>\n",
       "      <td>...</td>\n",
       "      <td>...</td>\n",
       "    </tr>\n",
       "    <tr>\n",
       "      <th>7532</th>\n",
       "      <td>504235362</td>\n",
       "      <td>0.529902</td>\n",
       "    </tr>\n",
       "    <tr>\n",
       "      <th>7533</th>\n",
       "      <td>504235566</td>\n",
       "      <td>0.072544</td>\n",
       "    </tr>\n",
       "    <tr>\n",
       "      <th>7534</th>\n",
       "      <td>504308177</td>\n",
       "      <td>0.006299</td>\n",
       "    </tr>\n",
       "    <tr>\n",
       "      <th>7535</th>\n",
       "      <td>504570375</td>\n",
       "      <td>2.404573</td>\n",
       "    </tr>\n",
       "    <tr>\n",
       "      <th>7536</th>\n",
       "      <td>504598250</td>\n",
       "      <td>0.020329</td>\n",
       "    </tr>\n",
       "  </tbody>\n",
       "</table>\n",
       "<p>7537 rows × 2 columns</p>\n",
       "</div>"
      ],
      "text/plain": [
       "      comment_id     score\n",
       "0         114890  0.001460\n",
       "1         732895  0.004574\n",
       "2        1139051  0.004588\n",
       "3        1434512  0.001605\n",
       "4        2084821  0.422560\n",
       "...          ...       ...\n",
       "7532   504235362  0.529902\n",
       "7533   504235566  0.072544\n",
       "7534   504308177  0.006299\n",
       "7535   504570375  2.404573\n",
       "7536   504598250  0.020329\n",
       "\n",
       "[7537 rows x 2 columns]"
      ]
     },
     "execution_count": 9,
     "metadata": {},
     "output_type": "execute_result"
    }
   ],
   "source": [
    "submission = pd.read_csv(SUBMISSION_PATH)\n",
    "submission['score'] = comments['score'].values\n",
    "submission.to_csv('submission.csv', index=False)\n",
    "submission"
   ]
  }
 ],
 "metadata": {
  "kernelspec": {
   "display_name": "Python 3",
   "language": "python",
   "name": "python3"
  },
  "language_info": {
   "codemirror_mode": {
    "name": "ipython",
    "version": 3
   },
   "file_extension": ".py",
   "mimetype": "text/x-python",
   "name": "python",
   "nbconvert_exporter": "python",
   "pygments_lexer": "ipython3",
   "version": "3.7.12"
  },
  "papermill": {
   "default_parameters": {},
   "duration": 550.778581,
   "end_time": "2022-01-30T11:09:52.100706",
   "environment_variables": {},
   "exception": null,
   "input_path": "__notebook__.ipynb",
   "output_path": "__notebook__.ipynb",
   "parameters": {},
   "start_time": "2022-01-30T11:00:41.322125",
   "version": "2.3.3"
  }
 },
 "nbformat": 4,
 "nbformat_minor": 5
}
